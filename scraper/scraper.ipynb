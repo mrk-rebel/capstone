{
 "cells": [
  {
   "cell_type": "markdown",
   "source": "<p> <font face='Nunito'>\n\n# Scraping\nThis notebook uses PMAW to get archive comments retrieved by Pushshift immediately after they are created, and PRAW to retrieve live data. This way, we can get comments before the risk of them being deleted, and then complement the set with up to date information on comments, their submissions, and their users.\n\n\n#### Requirements\n* praw_functions.py\n* hate_terms.csv\n* reddit_auth.py (your reddit credentials in a python script)\n\n#### Generates\n* comments_df.csv\n* submissions_df.csv\n* users_df.csv\n* ref_sample.csv\n* log.csv (temporary)\n* comments_raw.csv (temporary)\n* new_comments_stats.csv (temporary)\n<br/>\n\n##### Links and documentations\nPushshift API [here](https://reddit-api.readthedocs.io/en/latest/) <br/>\nPRAW API [here](https://praw.readthedocs.io/en/stable/getting_started/quick_start.html)<br/>\nPMAW documentation [here](https://github.com/mattpodolak/pmaw)\n<font/> <p/>",
   "metadata": {
    "cell_id": "f9c9b6c4-8af7-4b19-bde3-67664aa46c7e",
    "deepnote_cell_type": "markdown",
    "deepnote_cell_height": 690.28125
   }
  },
  {
   "cell_type": "code",
   "metadata": {
    "deepnote_to_be_reexecuted": false,
    "source_hash": "b293b25a",
    "execution_start": 1649721909153,
    "execution_millis": 5873,
    "is_output_hidden": true,
    "cell_id": "00001-a463a36f-1623-499d-959b-b16f399fcd11",
    "deepnote_cell_type": "code",
    "deepnote_cell_height": 309.71875
   },
   "source": "!pip install pmaw\n!pip install praw\n\nfrom pmaw import PushshiftAPI\nimport pandas as pd\nimport joblib\nfrom praw_functions import *\n\nfrom collections import defaultdict\nfrom tqdm import tqdm\n\nRANDOM_SEED=697",
   "execution_count": null,
   "outputs": [
    {
     "name": "stdout",
     "text": "Requirement already satisfied: pmaw in /root/venv/lib/python3.9/site-packages (2.1.3)\nRequirement already satisfied: requests in /shared-libs/python3.9/py/lib/python3.9/site-packages (from pmaw) (2.27.1)\nRequirement already satisfied: praw in /root/venv/lib/python3.9/site-packages (from pmaw) (7.5.0)\nRequirement already satisfied: websocket-client>=0.54.0 in /root/venv/lib/python3.9/site-packages (from praw->pmaw) (1.3.2)\nRequirement already satisfied: update-checker>=0.18 in /root/venv/lib/python3.9/site-packages (from praw->pmaw) (0.18.0)\nRequirement already satisfied: prawcore<3,>=2.1 in /root/venv/lib/python3.9/site-packages (from praw->pmaw) (2.3.0)\nRequirement already satisfied: charset-normalizer~=2.0.0 in /shared-libs/python3.9/py-core/lib/python3.9/site-packages (from requests->pmaw) (2.0.12)\nRequirement already satisfied: certifi>=2017.4.17 in /shared-libs/python3.9/py/lib/python3.9/site-packages (from requests->pmaw) (2021.10.8)\nRequirement already satisfied: urllib3<1.27,>=1.21.1 in /shared-libs/python3.9/py/lib/python3.9/site-packages (from requests->pmaw) (1.26.9)\nRequirement already satisfied: idna<4,>=2.5 in /shared-libs/python3.9/py-core/lib/python3.9/site-packages (from requests->pmaw) (3.3)\n\u001b[33mWARNING: You are using pip version 21.2.3; however, version 22.0.4 is available.\nYou should consider upgrading via the '/root/venv/bin/python -m pip install --upgrade pip' command.\u001b[0m\nRequirement already satisfied: praw in /root/venv/lib/python3.9/site-packages (7.5.0)\nRequirement already satisfied: prawcore<3,>=2.1 in /root/venv/lib/python3.9/site-packages (from praw) (2.3.0)\nRequirement already satisfied: websocket-client>=0.54.0 in /root/venv/lib/python3.9/site-packages (from praw) (1.3.2)\nRequirement already satisfied: update-checker>=0.18 in /root/venv/lib/python3.9/site-packages (from praw) (0.18.0)\nRequirement already satisfied: requests<3.0,>=2.6.0 in /shared-libs/python3.9/py/lib/python3.9/site-packages (from prawcore<3,>=2.1->praw) (2.27.1)\nRequirement already satisfied: certifi>=2017.4.17 in /shared-libs/python3.9/py/lib/python3.9/site-packages (from requests<3.0,>=2.6.0->prawcore<3,>=2.1->praw) (2021.10.8)\nRequirement already satisfied: idna<4,>=2.5 in /shared-libs/python3.9/py-core/lib/python3.9/site-packages (from requests<3.0,>=2.6.0->prawcore<3,>=2.1->praw) (3.3)\nRequirement already satisfied: urllib3<1.27,>=1.21.1 in /shared-libs/python3.9/py/lib/python3.9/site-packages (from requests<3.0,>=2.6.0->prawcore<3,>=2.1->praw) (1.26.9)\nRequirement already satisfied: charset-normalizer~=2.0.0 in /shared-libs/python3.9/py-core/lib/python3.9/site-packages (from requests<3.0,>=2.6.0->prawcore<3,>=2.1->praw) (2.0.12)\n\u001b[33mWARNING: You are using pip version 21.2.3; however, version 22.0.4 is available.\nYou should consider upgrading via the '/root/venv/bin/python -m pip install --upgrade pip' command.\u001b[0m\n",
     "output_type": "stream"
    }
   ]
  },
  {
   "cell_type": "markdown",
   "source": "## 1. Comments\n\n### Comments from Pushshift (via pmaw)",
   "metadata": {
    "tags": [],
    "cell_id": "00002-adef1911-f02d-4ca2-99d4-fd9d0749603c",
    "deepnote_cell_type": "markdown",
    "deepnote_cell_height": 117.953125
   }
  },
  {
   "cell_type": "code",
   "metadata": {
    "deepnote_to_be_reexecuted": false,
    "source_hash": "29e74d0b",
    "execution_start": 1647581346286,
    "execution_millis": 3,
    "cell_id": "00003-0bb55f98-472f-4c86-bb4f-d036ac642098",
    "deepnote_cell_type": "code",
    "deepnote_cell_height": 188.953125
   },
   "source": "# features to retrieve\nour_filter = ['author','author_flair_type','author_fullname','author_premium',\n              'body','body_sha1','controversiality','created_utc','distinguished',\n              'gilded','id','is_submitter','link_id', 'locked','parent_id',\n              'permalink','retrieved_utc','subreddit','subreddit_id',\n              'subreddit_name_prefixed','subreddit_type'\n             ]",
   "execution_count": null,
   "outputs": []
  },
  {
   "cell_type": "code",
   "metadata": {
    "deepnote_to_be_reexecuted": false,
    "source_hash": "b08257b1",
    "execution_start": 1647581347363,
    "execution_millis": 7,
    "cell_id": "00004-e3a0cbb7-24b1-40b9-bf9f-97b4c481073c",
    "deepnote_cell_type": "code",
    "deepnote_cell_height": 152.96875
   },
   "source": "# terms for our filter\nhate_path = 'hate_terms.csv'\nhate_terms = pd.read_csv(hate_path)\n\nour_terms = '|'.join(hate_terms.term)",
   "execution_count": null,
   "outputs": []
  },
  {
   "cell_type": "code",
   "metadata": {
    "tags": [],
    "deepnote_to_be_reexecuted": false,
    "source_hash": "8e41486c",
    "execution_start": 1647581369631,
    "execution_millis": 78,
    "cell_id": "00005-37a72a1a-4064-4528-a73a-4d4b716bad54",
    "deepnote_cell_type": "code",
    "deepnote_cell_height": 80.953125
   },
   "source": "api = PushshiftAPI()",
   "execution_count": null,
   "outputs": []
  },
  {
   "cell_type": "code",
   "metadata": {
    "tags": [],
    "deepnote_to_be_reexecuted": false,
    "source_hash": "91ee8f91",
    "execution_start": 1647581375499,
    "execution_millis": 3,
    "cell_id": "00006-f5c9cd19-1a85-4133-944b-d51960de3276",
    "deepnote_cell_type": "code",
    "deepnote_cell_height": 116.953125
   },
   "source": "date_range = pd.date_range(start='2022-01-01 00:00:00', \n                           end='2022-02-01 00:00:00', \n                           freq='H').to_list()",
   "execution_count": null,
   "outputs": []
  },
  {
   "cell_type": "code",
   "metadata": {
    "tags": [],
    "deepnote_to_be_reexecuted": false,
    "source_hash": "330387f2",
    "execution_start": 1647571906711,
    "execution_millis": 2,
    "cell_id": "00007-7f2528d1-563f-46b2-abe8-260237c405a8",
    "deepnote_cell_type": "code",
    "deepnote_cell_height": 188.953125
   },
   "source": "#---------------------------------------------------------------------------\n# use log below to verify num_items retrieved,\n# if more than 1000, scraper hit limit, \n# go back to epoch, divide into smaller epochs and scrape all the comments\n#---------------------------------------------------------------------------\n\n# log = pd.DataFrame({'time':[], 'epoch':[], 'num_items':[]})",
   "execution_count": null,
   "outputs": []
  },
  {
   "cell_type": "code",
   "metadata": {
    "tags": [],
    "deepnote_to_be_reexecuted": false,
    "source_hash": "3bb7366f",
    "execution_start": 1647581715811,
    "execution_millis": 18753,
    "cell_id": "00008-368b6d25-9bee-4973-bd11-bdb447cf77b0",
    "deepnote_cell_type": "code",
    "deepnote_cell_height": 368.953125
   },
   "source": "limit_=1000\nepoch_=3600\n\nfor i, after_ in enumerate(date_range):\n    data = api.search_comments(q=our_terms, \n                                limit=limit_,\n                                after=after_, \n                                before=after+epoch_,\n                                filter=our_filter)\n    df = pd.DataFrame(data)\n    if i==0:\n        comments_raw = df.copy()\n    else:    \n        comments_raw = comments_raw.append(df, ignore_index=True)\n    comments_raw.to_csv('../data/raw/comments.csv', index=False)\n    if df.shape[0]>999:\n        update_log(after_)",
   "execution_count": null,
   "outputs": []
  },
  {
   "cell_type": "code",
   "metadata": {
    "tags": [],
    "deepnote_to_be_reexecuted": false,
    "source_hash": "8f76f426",
    "execution_start": 1649312327555,
    "execution_millis": 1,
    "cell_id": "00009-fef4c1b0-7584-4a19-99b9-3ac5efd67106",
    "deepnote_cell_type": "code",
    "deepnote_cell_height": 80.953125
   },
   "source": "comments_raw.shape",
   "execution_count": null,
   "outputs": []
  },
  {
   "cell_type": "code",
   "metadata": {
    "tags": [],
    "deepnote_to_be_reexecuted": false,
    "source_hash": "d877e848",
    "execution_start": 1649306538067,
    "execution_millis": 3,
    "deepnote_table_state": {
     "pageSize": 10,
     "pageIndex": 0,
     "filters": [],
     "sortBy": []
    },
    "deepnote_table_loading": false,
    "cell_id": "00010-8fc566e2-6873-49fe-b905-5de51c8ed2e4",
    "deepnote_cell_type": "code",
    "deepnote_cell_height": 80.953125
   },
   "source": "log[log.num_items>999]",
   "execution_count": null,
   "outputs": []
  },
  {
   "cell_type": "code",
   "metadata": {
    "tags": [],
    "deepnote_to_be_reexecuted": false,
    "source_hash": "c877103e",
    "execution_start": 1647571600943,
    "execution_millis": 30,
    "cell_id": "00011-c69d9882-7050-40c8-a317-b4c41315c4f3",
    "deepnote_cell_type": "code",
    "deepnote_cell_height": 118.125,
    "deepnote_output_heights": [
     21.1875
    ]
   },
   "source": "max(comments_raw.retrieved_utc - comments_raw.created_utc)",
   "execution_count": null,
   "outputs": [
    {
     "output_type": "execute_result",
     "execution_count": 79,
     "data": {
      "text/plain": "7889.0"
     },
     "metadata": {}
    }
   ]
  },
  {
   "cell_type": "markdown",
   "source": "### Comments directly from Reddit (using praw)",
   "metadata": {
    "cell_id": "00012-4fe549d4-45c4-4962-869c-7a7f9e83fecc",
    "deepnote_cell_type": "markdown",
    "deepnote_cell_height": 61.953125
   }
  },
  {
   "cell_type": "code",
   "metadata": {
    "tags": [],
    "cell_id": "00014-7e45a7cf-8831-4bbf-bcca-6d1637f47c73",
    "deepnote_cell_type": "code",
    "deepnote_cell_height": 65.953125
   },
   "source": "c = pd.read_csv('../data/raw/comments.csv')",
   "execution_count": null,
   "outputs": []
  },
  {
   "cell_type": "code",
   "metadata": {
    "tags": [],
    "cell_id": "00015-ae43753b-5bba-424f-b8fb-5798f181948b",
    "deepnote_cell_type": "code",
    "deepnote_cell_height": 137.96875
   },
   "source": "step = 100\nnew_comments_stats = update_comments(c['id'][0])\n\nfor i in range(1, c.shape[0], step):\n    new_comments_stats = new_comments_stats.append(update_comments(c['id'][i:i+step]), ignore_index=True)",
   "execution_count": null,
   "outputs": []
  },
  {
   "cell_type": "code",
   "metadata": {
    "tags": [],
    "cell_id": "00016-3fab7f7e-d253-4af4-9792-17ebcf1abb67",
    "deepnote_cell_type": "code",
    "deepnote_cell_height": 83.953125
   },
   "source": "print(new_comments_stats.shape)\nprint(new_comments_stats['id'].nunique())",
   "execution_count": null,
   "outputs": []
  },
  {
   "cell_type": "markdown",
   "source": "#### Combine comments",
   "metadata": {
    "tags": [],
    "deepnote_to_be_reexecuted": false,
    "source_hash": "829ab786",
    "execution_start": 1649310059747,
    "execution_millis": 1,
    "cell_id": "00017-7032acb9-bd8c-4baf-9484-155f7408a11a",
    "deepnote_cell_type": "markdown",
    "deepnote_cell_height": 53.953125
   }
  },
  {
   "cell_type": "code",
   "metadata": {
    "tags": [],
    "cell_id": "00018-c09b70ee-2578-410d-8d23-28a69532d970",
    "deepnote_cell_type": "code",
    "deepnote_cell_height": 83.953125
   },
   "source": "comments_df = c.merge(new_comments_stats, on='id')\ncomments_df = comments_df.to_csv('../data/raw/comments.csv')",
   "execution_count": null,
   "outputs": []
  },
  {
   "cell_type": "markdown",
   "source": "## 2. Submissions",
   "metadata": {
    "tags": [],
    "deepnote_to_be_reexecuted": false,
    "source_hash": "c8085917",
    "execution_start": 1649308223984,
    "execution_millis": 1,
    "cell_id": "00019-fb5b168d-9d02-42a7-875d-59462da2dc30",
    "deepnote_cell_type": "markdown",
    "deepnote_cell_height": 69.96875
   }
  },
  {
   "cell_type": "code",
   "metadata": {
    "tags": [],
    "cell_id": "00020-39450949-cdc0-406e-b916-356462969cea",
    "deepnote_cell_type": "code",
    "deepnote_cell_height": 83.953125
   },
   "source": "c = pd.read_csv('../data/raw/comments.csv')\nid_list = [x[3:] for x in c['link_id'].unique()]",
   "execution_count": null,
   "outputs": []
  },
  {
   "cell_type": "code",
   "metadata": {
    "tags": [],
    "cell_id": "00022-854ce59c-d942-45d7-9f1b-b273713fd20b",
    "deepnote_cell_type": "code",
    "deepnote_cell_height": 155.953125
   },
   "source": "step = 25\n\nsub_df = get_submissions_data(id_list[0])\nfor i in range(1, len(id_list), step):\n    sub_df = sub_df.append(get_submissions_data(id_list[i:i+step]), ignore_index=True)\n    sub_df.to_csv('../data/raw/submissions.csv', index=False)",
   "execution_count": null,
   "outputs": []
  },
  {
   "cell_type": "code",
   "metadata": {
    "tags": [],
    "cell_id": "00023-0441e85f-0afc-47f9-985c-c8c04c01b415",
    "deepnote_cell_type": "code",
    "deepnote_cell_height": 83.953125
   },
   "source": "print(sub_df.shape)\nprint(sub_df['id'].nunique())",
   "execution_count": null,
   "outputs": []
  },
  {
   "cell_type": "markdown",
   "source": "## 3. Users",
   "metadata": {
    "tags": [],
    "cell_id": "00024-e2c0f404-1b0b-4519-829a-93e5397c0831",
    "deepnote_cell_type": "markdown",
    "deepnote_cell_height": 69.96875
   }
  },
  {
   "cell_type": "code",
   "metadata": {
    "tags": [],
    "cell_id": "00025-44b29821-6d38-45ed-a4c7-4ae888eab576",
    "deepnote_cell_type": "code",
    "deepnote_cell_height": 83.953125
   },
   "source": "c = pd.read_csv('../data/raw/comments.csv')\nuser_list = list(c.author.unique())",
   "execution_count": null,
   "outputs": []
  },
  {
   "cell_type": "code",
   "metadata": {
    "tags": [],
    "cell_id": "00027-bb0b84d0-c79b-4493-b027-d9ee4195b77d",
    "owner_user_id": "aa81f22b-076f-4bdb-abba-2edf2197fa03",
    "deepnote_cell_type": "code",
    "deepnote_cell_height": 173.953125
   },
   "source": "step = 50\n\nusers_df = get_users_data(user_list[0])\n\nfor i in range(1, len(user_list), step):\n    users_df = users_df.append(get_users_data(user_list[i:i+step]), ignore_index=True)\n    users_df.to_csv('../data/raw/users.csv', index=False)",
   "execution_count": null,
   "outputs": []
  },
  {
   "cell_type": "code",
   "metadata": {
    "tags": [],
    "cell_id": "00028-130b96d5-3f9a-46fa-84f9-adc206b99cca",
    "deepnote_cell_type": "code",
    "deepnote_cell_height": 83.953125
   },
   "source": "print(users_df.shape)\nprint(users_df.author.nunique())",
   "execution_count": null,
   "outputs": []
  },
  {
   "cell_type": "markdown",
   "source": "## 4. Sample comments for reference - Pushshift\n\nWe'll use a reference dataset to compare the gender distribution of our primary dataset, filtered by our hate terms, with the gender distribution of data scraped in the same epoch, without filtering for hate terms.\nWe can't retrieve data from Pushshift randomly, so our strategy is to scrape the first 70 comments from each hour of each day of January, to a total of approximately 50000 comments, close to a quarter of our primary dataset.",
   "metadata": {
    "tags": [],
    "cell_id": "00029-d7e23afd-e015-4c5c-8ec3-a98e03ec731e",
    "deepnote_cell_type": "markdown",
    "deepnote_cell_height": 175.5625
   }
  },
  {
   "cell_type": "code",
   "metadata": {
    "tags": [],
    "deepnote_to_be_reexecuted": false,
    "source_hash": "107d0ec",
    "execution_start": 1650419763986,
    "execution_millis": 1,
    "is_output_hidden": false,
    "cell_id": "00030-c51350f4-64cd-4d85-9501-451c032920f9",
    "deepnote_cell_type": "code",
    "deepnote_cell_height": 170.953125
   },
   "source": "import pandas as pd\nimport requests\nimport json\nfrom datetime import datetime \nfrom tqdm import tqdm\nimport time",
   "execution_count": null,
   "outputs": []
  },
  {
   "cell_type": "code",
   "metadata": {
    "tags": [],
    "deepnote_to_be_reexecuted": false,
    "source_hash": "fede1552",
    "execution_start": 1650419767136,
    "execution_millis": 0,
    "cell_id": "00031-f0f948c2-ce9c-4498-8862-23d753166fea",
    "deepnote_cell_type": "code",
    "deepnote_cell_height": 116.953125
   },
   "source": "date_range = pd.date_range(start='2022-01-01 00:00:00', \n                           end='2022-01-31 23:00:00', \n                           freq='H').to_list()",
   "execution_count": null,
   "outputs": []
  },
  {
   "cell_type": "code",
   "metadata": {
    "tags": [],
    "deepnote_to_be_reexecuted": false,
    "source_hash": "3b5a9cd2",
    "execution_start": 1650419769154,
    "execution_millis": 1,
    "cell_id": "00032-f25d92b0-7aa6-4840-9b98-03f17d9f5b3a",
    "deepnote_cell_type": "code",
    "deepnote_cell_height": 80.953125
   },
   "source": "our_filter = 'body,created_utc,id,link_id,subreddit,author'",
   "execution_count": null,
   "outputs": []
  },
  {
   "cell_type": "code",
   "metadata": {
    "tags": [],
    "deepnote_to_be_reexecuted": false,
    "source_hash": "304cabd3",
    "execution_start": 1650419900998,
    "execution_millis": 3587,
    "cell_id": "00033-3dbe5f27-c205-4283-9dea-711b32c33fed",
    "deepnote_cell_type": "code",
    "deepnote_cell_height": 260.953125
   },
   "source": "size_ = 70\ni = 0\nfor date in date_range[:1]:\n    after_ = int(date.timestamp())\n    before_ = after_ + 3600 \n    url = f'https://api.pushshift.io/reddit/comment/search?q=all&after='\\\n    +str(after_)+'&before='+str(before_)+'&size='+str(size_)+'&filter='+our_filter\n    r = requests.get(url)\n    data = json.loads(r.text, strict=False)\n    i +=1\n    ref_sample = pd.DataFrame(data['data'])",
   "execution_count": null,
   "outputs": []
  },
  {
   "cell_type": "code",
   "metadata": {
    "tags": [],
    "deepnote_to_be_reexecuted": false,
    "source_hash": "1dd3b4a1",
    "execution_start": 1650419905611,
    "execution_millis": 3950193,
    "cell_id": "00034-ad75aa2d-671e-4beb-9278-876870f6c64b",
    "deepnote_cell_type": "code",
    "deepnote_cell_height": 435.125
   },
   "source": "for date in tqdm(date_range[1:]):\n    after_ = int(date.timestamp())\n    before_ = after_ + 3600 \n\n    if i%10==0:\n        time.sleep(30)\n\n        url = f'https://api.pushshift.io/reddit/comment/search?q=all&after='\\\n        +str(after_)+'&before='+str(before_)+'&size='+str(size_)+'&filter='+our_filter\n    else: \n        url = f'https://api.pushshift.io/reddit/comment/search?q=all&after='\\\n        +str(after_)+'&before='+str(before_)+'&size='+str(size_)+'&filter='+our_filter\n\n    r = requests.get(url)\n    data = json.loads(r.text, strict=False)\n    i +=1\n    ref_sample = ref_sample.append(pd.DataFrame(data['data']), ignore_index=True)\n    ref_sample.to_csv('../data/raw/reference.csv', index=False)\n",
   "execution_count": null,
   "outputs": [
    {
     "name": "stderr",
     "text": "100%|██████████| 743/743 [1:05:50<00:00,  5.32s/it]\n",
     "output_type": "stream"
    }
   ]
  },
  {
   "cell_type": "code",
   "metadata": {
    "tags": [],
    "cell_id": "00035-2dc84ca4-36bd-41c0-bdbc-fdf2a1e4f097",
    "deepnote_cell_type": "code",
    "deepnote_cell_height": 65.953125
   },
   "source": "",
   "execution_count": null,
   "outputs": []
  },
  {
   "cell_type": "markdown",
   "source": "<a style='text-decoration:none;line-height:16px;display:flex;color:#5B5B62;padding:10px;justify-content:end;' href='https://deepnote.com?utm_source=created-in-deepnote-cell&projectId=b22dad3f-c925-4cd0-bb81-e22d83bd774f' target=\"_blank\">\n<img alt='Created in deepnote.com' style='display:inline;max-height:16px;margin:0px;margin-right:7.5px;' src='data:image/svg+xml;base64,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' > </img>\nCreated in <span style='font-weight:600;margin-left:4px;'>Deepnote</span></a>",
   "metadata": {
    "tags": [],
    "created_in_deepnote_cell": true,
    "deepnote_cell_type": "markdown"
   }
  }
 ],
 "nbformat": 4,
 "nbformat_minor": 4,
 "metadata": {
  "kernelspec": {
   "display_name": "Python 3",
   "language": "python",
   "name": "python3"
  },
  "language_info": {
   "codemirror_mode": {
    "name": "ipython",
    "version": 3
   },
   "file_extension": ".py",
   "mimetype": "text/x-python",
   "name": "python",
   "nbconvert_exporter": "python",
   "pygments_lexer": "ipython3",
   "version": "3.7.6"
  },
  "deepnote_notebook_id": "e9f11a64-0fd3-405f-8b30-522264520312",
  "deepnote": {},
  "deepnote_execution_queue": []
 }
}
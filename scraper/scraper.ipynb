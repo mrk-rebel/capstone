{
 "cells": [
  {
   "cell_type": "markdown",
   "source": "<p> <font face='Nunito'>\n\n# Scraping\nThis notebook uses PMAW to get archive comments retrieved by Pushshift immediately after they are created, and PRAW to retrieve live data. This way, we can get comments before the risk of them being deleted, and then complement the set with up to date information on comments, their submissions, and their users.\n\n\n#### Requirements\n* praw_functions.py\n* hate_terms.csv\n* reddit_auth.py (your reddit credentials in a python script)\n\n#### Generates\n* comments_df.csv\n* submissions_df.csv\n* users_df.csv\n* ref_sample.csv\n* log.csv (temporary)\n* comments_raw.csv (temporary)\n* new_comments_stats.csv (temporary)\n<br/>\n\n##### Links and documentations\nPushshift API [here](https://reddit-api.readthedocs.io/en/latest/) <br/>\nPRAW API [here](https://praw.readthedocs.io/en/stable/getting_started/quick_start.html)<br/>\nPMAW documentation [here](https://github.com/mattpodolak/pmaw)\n<font/> <p/>",
   "metadata": {
    "cell_id": "8041e881-0ffb-45e2-9cd8-a41b79c675ac",
    "deepnote_cell_type": "markdown",
    "deepnote_cell_height": 689.1875
   }
  },
  {
   "cell_type": "code",
   "metadata": {
    "cell_id": "00003-8260781a-468e-4d04-8b0a-92754469da8b",
    "deepnote_to_be_reexecuted": false,
    "source_hash": "b293b25a",
    "execution_start": 1649721909153,
    "execution_millis": 5873,
    "is_output_hidden": true,
    "deepnote_cell_type": "code",
    "deepnote_cell_height": 309.796875
   },
   "source": "!pip install pmaw\n!pip install praw\n\nfrom pmaw import PushshiftAPI\nimport pandas as pd\nimport joblib\nfrom praw_functions import *\n\nfrom collections import defaultdict\nfrom tqdm import tqdm\n\nRANDOM_SEED=697",
   "execution_count": null,
   "outputs": [
    {
     "name": "stdout",
     "text": "Requirement already satisfied: pmaw in /root/venv/lib/python3.9/site-packages (2.1.3)\nRequirement already satisfied: requests in /shared-libs/python3.9/py/lib/python3.9/site-packages (from pmaw) (2.27.1)\nRequirement already satisfied: praw in /root/venv/lib/python3.9/site-packages (from pmaw) (7.5.0)\nRequirement already satisfied: websocket-client>=0.54.0 in /root/venv/lib/python3.9/site-packages (from praw->pmaw) (1.3.2)\nRequirement already satisfied: update-checker>=0.18 in /root/venv/lib/python3.9/site-packages (from praw->pmaw) (0.18.0)\nRequirement already satisfied: prawcore<3,>=2.1 in /root/venv/lib/python3.9/site-packages (from praw->pmaw) (2.3.0)\nRequirement already satisfied: charset-normalizer~=2.0.0 in /shared-libs/python3.9/py-core/lib/python3.9/site-packages (from requests->pmaw) (2.0.12)\nRequirement already satisfied: certifi>=2017.4.17 in /shared-libs/python3.9/py/lib/python3.9/site-packages (from requests->pmaw) (2021.10.8)\nRequirement already satisfied: urllib3<1.27,>=1.21.1 in /shared-libs/python3.9/py/lib/python3.9/site-packages (from requests->pmaw) (1.26.9)\nRequirement already satisfied: idna<4,>=2.5 in /shared-libs/python3.9/py-core/lib/python3.9/site-packages (from requests->pmaw) (3.3)\n\u001b[33mWARNING: You are using pip version 21.2.3; however, version 22.0.4 is available.\nYou should consider upgrading via the '/root/venv/bin/python -m pip install --upgrade pip' command.\u001b[0m\nRequirement already satisfied: praw in /root/venv/lib/python3.9/site-packages (7.5.0)\nRequirement already satisfied: prawcore<3,>=2.1 in /root/venv/lib/python3.9/site-packages (from praw) (2.3.0)\nRequirement already satisfied: websocket-client>=0.54.0 in /root/venv/lib/python3.9/site-packages (from praw) (1.3.2)\nRequirement already satisfied: update-checker>=0.18 in /root/venv/lib/python3.9/site-packages (from praw) (0.18.0)\nRequirement already satisfied: requests<3.0,>=2.6.0 in /shared-libs/python3.9/py/lib/python3.9/site-packages (from prawcore<3,>=2.1->praw) (2.27.1)\nRequirement already satisfied: certifi>=2017.4.17 in /shared-libs/python3.9/py/lib/python3.9/site-packages (from requests<3.0,>=2.6.0->prawcore<3,>=2.1->praw) (2021.10.8)\nRequirement already satisfied: idna<4,>=2.5 in /shared-libs/python3.9/py-core/lib/python3.9/site-packages (from requests<3.0,>=2.6.0->prawcore<3,>=2.1->praw) (3.3)\nRequirement already satisfied: urllib3<1.27,>=1.21.1 in /shared-libs/python3.9/py/lib/python3.9/site-packages (from requests<3.0,>=2.6.0->prawcore<3,>=2.1->praw) (1.26.9)\nRequirement already satisfied: charset-normalizer~=2.0.0 in /shared-libs/python3.9/py-core/lib/python3.9/site-packages (from requests<3.0,>=2.6.0->prawcore<3,>=2.1->praw) (2.0.12)\n\u001b[33mWARNING: You are using pip version 21.2.3; however, version 22.0.4 is available.\nYou should consider upgrading via the '/root/venv/bin/python -m pip install --upgrade pip' command.\u001b[0m\n",
     "output_type": "stream"
    }
   ]
  },
  {
   "cell_type": "markdown",
   "source": "## 1. Comments\n\n### Comments from Pushshift (via pmaw)",
   "metadata": {
    "cell_id": "6ca8308cfd044ee08ffd88f2bc2d0aa1",
    "tags": [],
    "deepnote_cell_type": "markdown",
    "deepnote_cell_height": 118
   }
  },
  {
   "cell_type": "code",
   "metadata": {
    "cell_id": "00007-e852f4ce-370f-4c7a-8e09-3efecfc302e2",
    "deepnote_to_be_reexecuted": false,
    "source_hash": "29e74d0b",
    "execution_start": 1647581346286,
    "execution_millis": 3,
    "deepnote_cell_type": "code",
    "deepnote_cell_height": 189
   },
   "source": "# features to retrieve\nour_filter = ['author','author_flair_type','author_fullname','author_premium',\n              'body','body_sha1','controversiality','created_utc','distinguished',\n              'gilded','id','is_submitter','link_id', 'locked','parent_id',\n              'permalink','retrieved_utc','subreddit','subreddit_id',\n              'subreddit_name_prefixed','subreddit_type'\n             ]",
   "execution_count": null,
   "outputs": []
  },
  {
   "cell_type": "code",
   "metadata": {
    "cell_id": "00008-9ef8816a-fd29-476c-ab9c-e552d6d2207e",
    "deepnote_to_be_reexecuted": false,
    "source_hash": "b08257b1",
    "execution_start": 1647581347363,
    "execution_millis": 7,
    "deepnote_cell_type": "code",
    "deepnote_cell_height": 153
   },
   "source": "# terms for our filter\nhate_path = 'hate_terms.csv'\nhate_terms = pd.read_csv(hate_path)\n\nour_terms = '|'.join(hate_terms.term)",
   "execution_count": null,
   "outputs": []
  },
  {
   "cell_type": "code",
   "metadata": {
    "cell_id": "02eb9a07-6dc3-43c4-bcf3-4a2f4701909a",
    "tags": [],
    "deepnote_to_be_reexecuted": false,
    "source_hash": "8e41486c",
    "execution_start": 1647581369631,
    "execution_millis": 78,
    "deepnote_cell_type": "code",
    "deepnote_cell_height": 81
   },
   "source": "api = PushshiftAPI()",
   "execution_count": null,
   "outputs": []
  },
  {
   "cell_type": "code",
   "metadata": {
    "cell_id": "9f9a5a60-dd55-4109-8923-a589eb09b100",
    "tags": [],
    "deepnote_to_be_reexecuted": false,
    "source_hash": "91ee8f91",
    "execution_start": 1647581375499,
    "execution_millis": 3,
    "deepnote_cell_type": "code",
    "deepnote_cell_height": 117
   },
   "source": "date_range = pd.date_range(start='2022-01-01 00:00:00', \n                           end='2022-02-01 00:00:00', \n                           freq='H').to_list()",
   "execution_count": null,
   "outputs": []
  },
  {
   "cell_type": "code",
   "metadata": {
    "cell_id": "97acf3ab-467a-44b0-aef6-e56f89bec870",
    "tags": [],
    "deepnote_to_be_reexecuted": false,
    "source_hash": "330387f2",
    "execution_start": 1647571906711,
    "execution_millis": 2,
    "deepnote_cell_type": "code",
    "deepnote_cell_height": 369
   },
   "source": "#---------------------------\n# Creating variables once\n# Don't run this cell again\n#---------------------------\n\n# comments_raw = pd.DataFrame()\n# comments_raw.to_csv('comments_raw.csv')\n\n\n#---------------------------------------------------------------------------\n# use log below to verify num_items retrieved,\n# if more than 1000, scraper hit limit, \n# go back to epoch, divide into smaller epochs and scrape all the comments\n#---------------------------------------------------------------------------\n\n# log = pd.DataFrame({'time':[], 'epoch':[], 'num_items':[]})\n# log.to_csv('log.csv', index=False)",
   "execution_count": null,
   "outputs": []
  },
  {
   "cell_type": "code",
   "metadata": {
    "cell_id": "326960a1-2f46-4341-9b06-3896ecaea428",
    "tags": [],
    "deepnote_to_be_reexecuted": false,
    "source_hash": "3bb7366f",
    "execution_start": 1647581715811,
    "execution_millis": 18753,
    "deepnote_cell_type": "code",
    "deepnote_cell_height": 387
   },
   "source": "# log = pd.read_csv('log.csv')\n# comments_raw = pd.read_csv('comments_raw.csv')\n\nlimit_=1000\nepoch_=3600\n\nfor after_ in date_range:\n    data = api.search_comments(q=our_terms, \n                                limit=limit_,\n                                after=after_, \n                                before=after+epoch_,\n                                filter=our_filter)\n    df = pd.DataFrame(data)\n\n    comments_raw = comments_raw.append(df, ignore_index=True)\n    comments_raw.to_csv('comments_raw.csv', index=False)\n    if df.shape[0]>999:\n        update_log(after_)",
   "execution_count": null,
   "outputs": []
  },
  {
   "cell_type": "code",
   "metadata": {
    "cell_id": "8e648a1c-d81d-403a-b8d8-d488d34aef37",
    "tags": [],
    "deepnote_to_be_reexecuted": false,
    "source_hash": "8f76f426",
    "execution_start": 1649312327555,
    "execution_millis": 1,
    "deepnote_cell_type": "code",
    "deepnote_cell_height": 81
   },
   "source": "comments_raw.shape",
   "execution_count": null,
   "outputs": []
  },
  {
   "cell_type": "code",
   "metadata": {
    "cell_id": "da613a7b-4e93-431b-9b03-265fa6ded5f0",
    "tags": [],
    "deepnote_to_be_reexecuted": false,
    "source_hash": "d877e848",
    "execution_start": 1649306538067,
    "execution_millis": 3,
    "deepnote_table_state": {
     "pageSize": 10,
     "pageIndex": 0,
     "filters": [],
     "sortBy": []
    },
    "deepnote_table_loading": false,
    "deepnote_cell_type": "code",
    "deepnote_cell_height": 81
   },
   "source": "log[log.num_items>999]",
   "execution_count": null,
   "outputs": []
  },
  {
   "cell_type": "code",
   "metadata": {
    "cell_id": "6cc8fe3a-fbee-4ec3-9386-6f6d959c3923",
    "tags": [],
    "deepnote_to_be_reexecuted": false,
    "source_hash": "c877103e",
    "execution_start": 1647571600943,
    "execution_millis": 30,
    "deepnote_cell_type": "code",
    "deepnote_cell_height": 118,
    "deepnote_output_heights": [
     21
    ]
   },
   "source": "max(comments_raw.retrieved_utc - comments_raw.created_utc)",
   "execution_count": null,
   "outputs": [
    {
     "output_type": "execute_result",
     "execution_count": 79,
     "data": {
      "text/plain": "7889.0"
     },
     "metadata": {}
    }
   ]
  },
  {
   "cell_type": "markdown",
   "source": "### Comments directly from Reddit (using praw)",
   "metadata": {
    "cell_id": "00035-6cee4ef1-df3e-4f83-84c2-41f1464c2aaf",
    "deepnote_cell_type": "markdown",
    "deepnote_cell_height": 62
   }
  },
  {
   "cell_type": "code",
   "metadata": {
    "cell_id": "903861c4a5594b07b4d8d4545225b7a7",
    "tags": [],
    "deepnote_cell_type": "code",
    "deepnote_cell_height": 174
   },
   "source": "#---------------------------\n# Creating variables once\n# Don't run this cell again\n#---------------------------\n\n# new_comments_stats = pd.DataFrame()\n# new_comments_stats.to_csv('new_comments_stats.csv')",
   "execution_count": null,
   "outputs": []
  },
  {
   "cell_type": "code",
   "metadata": {
    "cell_id": "bf0d97b89aac4346a8a4fbca0441ac20",
    "tags": [],
    "deepnote_cell_type": "code",
    "deepnote_cell_height": 66
   },
   "source": "c = pd.read_csv('comments_raw.csv')",
   "execution_count": null,
   "outputs": []
  },
  {
   "cell_type": "code",
   "metadata": {
    "cell_id": "66b52b11b4374cda8c630863c334eb98",
    "tags": [],
    "deepnote_cell_type": "code",
    "deepnote_cell_height": 138
   },
   "source": "step = 100\nnew_comments_stats = pd.read_csv('new_comments_stats.csv')\nfor i in range(0, c.shape[0], step):\n    new_comments_stats = new_comments_stats.append(update_comments(c['id'][i:i+step]), ignore_index=True)\n    new_comments_stats.to_csv('new_comments_stats.csv', index=False)",
   "execution_count": null,
   "outputs": []
  },
  {
   "cell_type": "code",
   "metadata": {
    "cell_id": "cb1a6379271e498faed7f09433a4d40b",
    "tags": [],
    "deepnote_cell_type": "code",
    "deepnote_cell_height": 84
   },
   "source": "print(new_comments_stats.shape)\nprint(new_comments_stats['id'].nunique())",
   "execution_count": null,
   "outputs": []
  },
  {
   "cell_type": "markdown",
   "source": "#### Combine comments",
   "metadata": {
    "cell_id": "3c13c990e6d14a30a67bc49b3eb4b29c",
    "tags": [],
    "deepnote_to_be_reexecuted": false,
    "source_hash": "829ab786",
    "execution_start": 1649310059747,
    "execution_millis": 1,
    "deepnote_cell_type": "markdown",
    "deepnote_cell_height": 54
   }
  },
  {
   "cell_type": "code",
   "metadata": {
    "cell_id": "f2938bc155e74f1798ba4ccf65254379",
    "tags": [],
    "deepnote_cell_type": "code",
    "deepnote_cell_height": 84
   },
   "source": "comments_df = c.merge(new_comments_stats, on='id')\ncomments_df = comments_df.to_csv('comments_df.csv')",
   "execution_count": null,
   "outputs": []
  },
  {
   "cell_type": "markdown",
   "source": "## 2. Submissions",
   "metadata": {
    "cell_id": "17a2f5c4b3784fe295d64923e958d717",
    "tags": [],
    "deepnote_to_be_reexecuted": false,
    "source_hash": "c8085917",
    "execution_start": 1649308223984,
    "execution_millis": 1,
    "deepnote_cell_type": "markdown",
    "deepnote_cell_height": 70
   }
  },
  {
   "cell_type": "code",
   "metadata": {
    "cell_id": "b1b4387a747a4c4aa55901fe8ba82245",
    "tags": [],
    "deepnote_cell_type": "code",
    "deepnote_cell_height": 84
   },
   "source": "c = pd.read_csv('comments_raw.csv')\nid_list = [x[3:] for x in c['link_id'].unique()]",
   "execution_count": null,
   "outputs": []
  },
  {
   "cell_type": "code",
   "metadata": {
    "cell_id": "13034b61ec6b4b53b846acbafbb72114",
    "tags": [],
    "deepnote_cell_type": "code",
    "deepnote_cell_height": 174
   },
   "source": "#---------------------------\n# Creating variables once\n# Don't run this cell again\n#---------------------------\n\n# sub_df = pd.DataFrame()\n# sub_df.to_csv('submissions_df.csv')",
   "execution_count": null,
   "outputs": []
  },
  {
   "cell_type": "code",
   "metadata": {
    "cell_id": "d65ebe7880024b57bac1d4f9a3aaebe3",
    "tags": [],
    "deepnote_cell_type": "code",
    "deepnote_cell_height": 156
   },
   "source": "step = 25\n# sub_df = pd.read_csv('submissions_df.csv')\n\nfor i in range(0, len(id_list), step):\n    sub_df = sub_df.append(get_submissions_data(id_list[i:i+step]), ignore_index=True)\n    sub_df.to_csv('submissions_df.csv', index=False)",
   "execution_count": null,
   "outputs": []
  },
  {
   "cell_type": "code",
   "metadata": {
    "cell_id": "598c9ad4f55d461993dd3abfcdbf96c3",
    "tags": [],
    "deepnote_cell_type": "code",
    "deepnote_cell_height": 84
   },
   "source": "print(sub_df.shape)\nprint(sub_df['id'].nunique())",
   "execution_count": null,
   "outputs": []
  },
  {
   "cell_type": "markdown",
   "source": "## 3. Users",
   "metadata": {
    "cell_id": "120d5810d67c4e3890c544afce69b9aa",
    "tags": [],
    "deepnote_cell_type": "markdown",
    "deepnote_cell_height": 70
   }
  },
  {
   "cell_type": "code",
   "metadata": {
    "cell_id": "4a62cbaa53ae4aa9bd17eff649d09666",
    "tags": [],
    "deepnote_cell_type": "code",
    "deepnote_cell_height": 84
   },
   "source": "c = pd.read_csv('comments_raw.csv')\nuser_list = list(c.author.unique())",
   "execution_count": null,
   "outputs": []
  },
  {
   "cell_type": "code",
   "metadata": {
    "cell_id": "b0b8a6b97da44d48b24d2e40a766dfc3",
    "tags": [],
    "deepnote_cell_type": "code",
    "deepnote_cell_height": 174
   },
   "source": "#---------------------------\n# Creating variables once\n# Don't run this cell again\n#---------------------------\n\n# users_df = pd.DataFrame()\n# users_df.to_csv('users_df.csv')",
   "execution_count": null,
   "outputs": []
  },
  {
   "cell_type": "code",
   "metadata": {
    "cell_id": "0ad06c71752c4be5b8a7d856cf7d523c",
    "tags": [],
    "deepnote_cell_type": "code",
    "deepnote_cell_height": 156
   },
   "source": "step = 50\n# user_df = pd.read_csv('users_df.csv')\n\nfor i in range(0, len(user_list), step):\n    users_df = users_df.append(get_users_data(user_list[i:i+step]), ignore_index=True)\n    users_df.to_csv('users_df.csv', index=False)",
   "execution_count": null,
   "outputs": []
  },
  {
   "cell_type": "code",
   "metadata": {
    "cell_id": "b77158df3bd54e099ea2ccc364ea7c1b",
    "tags": [],
    "deepnote_cell_type": "code",
    "deepnote_cell_height": 84
   },
   "source": "print(users_df.shape)\nprint(users_df.author.nunique())",
   "execution_count": null,
   "outputs": []
  },
  {
   "cell_type": "markdown",
   "source": "## 4. Sample comments for reference - Pushshift\n\nWe'll use a reference dataset to compare the gender distribution of our primary dataset, filtered by our hate terms, with the gender distribution of data scraped in the same epoch, without filtering for hate terms.\nWe can't retrieve data from Pushshift randomly, so our strategy is to scrape the first 70 comments from each hour of each day of January, to a total of approximately 50000 comments, close to a quarter of our primary dataset.",
   "metadata": {
    "cell_id": "2a6e83501b8e480dbef7970497feb901",
    "tags": [],
    "deepnote_cell_type": "markdown",
    "deepnote_cell_height": 175.59375
   }
  },
  {
   "cell_type": "code",
   "metadata": {
    "cell_id": "b7728955f856425791ccfabb9a25bd8d",
    "tags": [],
    "deepnote_to_be_reexecuted": false,
    "source_hash": "107d0ec",
    "execution_start": 1650419763986,
    "execution_millis": 1,
    "is_output_hidden": false,
    "deepnote_cell_type": "code",
    "deepnote_cell_height": 171
   },
   "source": "import pandas as pd\nimport requests\nimport json\nfrom datetime import datetime \nfrom tqdm import tqdm\nimport time",
   "execution_count": null,
   "outputs": []
  },
  {
   "cell_type": "code",
   "metadata": {
    "cell_id": "44b04f0f063a4e5f89aad37d56aeac64",
    "tags": [],
    "deepnote_to_be_reexecuted": false,
    "source_hash": "fede1552",
    "execution_start": 1650419767136,
    "execution_millis": 0,
    "deepnote_cell_type": "code",
    "deepnote_cell_height": 117
   },
   "source": "date_range = pd.date_range(start='2022-01-01 00:00:00', \n                           end='2022-01-31 23:00:00', \n                           freq='H').to_list()",
   "execution_count": null,
   "outputs": []
  },
  {
   "cell_type": "code",
   "metadata": {
    "cell_id": "e651b9749cee42e1b911582fea6f6871",
    "tags": [],
    "deepnote_to_be_reexecuted": false,
    "source_hash": "3b5a9cd2",
    "execution_start": 1650419769154,
    "execution_millis": 1,
    "deepnote_cell_type": "code",
    "deepnote_cell_height": 81
   },
   "source": "our_filter = 'body,created_utc,id,link_id,subreddit,author'",
   "execution_count": null,
   "outputs": []
  },
  {
   "cell_type": "code",
   "metadata": {
    "cell_id": "5143d69d64e245c9875ac2282d626f84",
    "tags": [],
    "deepnote_to_be_reexecuted": false,
    "source_hash": "304cabd3",
    "execution_start": 1650419900998,
    "execution_millis": 3587,
    "deepnote_cell_type": "code",
    "deepnote_cell_height": 261
   },
   "source": "size_ = 70\ni = 0\nfor date in date_range[:1]:\n    after_ = int(date.timestamp())\n    before_ = after_ + 3600 \n    url = f'https://api.pushshift.io/reddit/comment/search?q=all&after='\\\n    +str(after_)+'&before='+str(before_)+'&size='+str(size_)+'&filter='+our_filter\n    r = requests.get(url)\n    data = json.loads(r.text, strict=False)\n    i +=1\n    ref_sample = pd.DataFrame(data['data'])",
   "execution_count": null,
   "outputs": []
  },
  {
   "cell_type": "code",
   "metadata": {
    "cell_id": "146ae3e84f374ff4a651b78c3c8c1af1",
    "tags": [],
    "deepnote_to_be_reexecuted": false,
    "source_hash": "1dd3b4a1",
    "execution_start": 1650419905611,
    "execution_millis": 3950193,
    "owner_user_id": "aa81f22b-076f-4bdb-abba-2edf2197fa03",
    "deepnote_cell_type": "code",
    "deepnote_cell_height": 436
   },
   "source": "for date in tqdm(date_range[1:]):\n    after_ = int(date.timestamp())\n    before_ = after_ + 3600 \n\n    if i%10==0:\n        time.sleep(30)\n\n        url = f'https://api.pushshift.io/reddit/comment/search?q=all&after='\\\n        +str(after_)+'&before='+str(before_)+'&size='+str(size_)+'&filter='+our_filter\n    else: \n        url = f'https://api.pushshift.io/reddit/comment/search?q=all&after='\\\n        +str(after_)+'&before='+str(before_)+'&size='+str(size_)+'&filter='+our_filter\n\n    r = requests.get(url)\n    data = json.loads(r.text, strict=False)\n    i +=1\n    ref_sample = ref_sample.append(pd.DataFrame(data['data']), ignore_index=True)\n    ref_sample.to_csv('ref_sample_raw.csv', index=False)\n",
   "execution_count": null,
   "outputs": [
    {
     "name": "stderr",
     "text": "100%|██████████| 743/743 [1:05:50<00:00,  5.32s/it]\n",
     "output_type": "stream"
    }
   ]
  },
  {
   "cell_type": "code",
   "metadata": {
    "cell_id": "faf1b6467c4447d2818a24f1dff29520",
    "tags": [],
    "deepnote_cell_type": "code",
    "deepnote_cell_height": 66
   },
   "source": "",
   "execution_count": null,
   "outputs": []
  },
  {
   "cell_type": "markdown",
   "source": "<a style='text-decoration:none;line-height:16px;display:flex;color:#5B5B62;padding:10px;justify-content:end;' href='https://deepnote.com?utm_source=created-in-deepnote-cell&projectId=6bb356e3-2dd8-4635-8ff0-a5ca506d60d1' target=\"_blank\">\n<img alt='Created in deepnote.com' style='display:inline;max-height:16px;margin:0px;margin-right:7.5px;' src='data:image/svg+xml;base64,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' > </img>\nCreated in <span style='font-weight:600;margin-left:4px;'>Deepnote</span></a>",
   "metadata": {
    "tags": [],
    "created_in_deepnote_cell": true,
    "deepnote_cell_type": "markdown"
   }
  }
 ],
 "nbformat": 4,
 "nbformat_minor": 4,
 "metadata": {
  "kernelspec": {
   "display_name": "Python 3",
   "language": "python",
   "name": "python3"
  },
  "language_info": {
   "codemirror_mode": {
    "name": "ipython",
    "version": 3
   },
   "file_extension": ".py",
   "mimetype": "text/x-python",
   "name": "python",
   "nbconvert_exporter": "python",
   "pygments_lexer": "ipython3",
   "version": "3.7.6"
  },
  "deepnote_notebook_id": "3686189e-73b2-4994-b8fb-2d4418724131",
  "deepnote": {},
  "deepnote_execution_queue": []
 }
}
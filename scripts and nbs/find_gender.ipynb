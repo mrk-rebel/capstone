{
 "cells": [
  {
   "cell_type": "markdown",
   "metadata": {},
   "source": [
    "## Determine whether a comment has words related to males, females, both, or neither "
   ]
  },
  {
   "cell_type": "code",
   "execution_count": 1,
   "metadata": {},
   "outputs": [],
   "source": [
    "# words I did not include\n",
    "# homie - could be either male or female\n",
    "# mate - more likely to be a verb than a noun\n",
    "# homo - both genders?\n",
    "# square - meaning someone who is not hip?\n",
    "\n",
    "# note: macho is an adjective, but is specific to males"
   ]
  },
  {
   "cell_type": "code",
   "execution_count": 2,
   "metadata": {},
   "outputs": [],
   "source": [
    "male_words={'amigo', 'ape', 'bastard', 'bear', 'beast', 'beefcake', 'bloke', 'boy', 'boyfriend', 'boyfriends', \n",
    "            'boys', 'brah', 'brother', 'bro', 'brother', 'brothers', 'bruh', 'brute', 'buck', 'bud', 'buddy', \n",
    "            'bugger', 'bull', 'chad', 'chap', 'chairman', 'chum', 'dad', 'dads', 'dawg', 'dick', 'dickhead', \n",
    "            'dude', 'fag', 'faggot', 'father', 'father', 'fella', 'fellow', 'fiance', 'fucker', 'gent', \n",
    "            'gentleman', 'gent', 'gentlemen', 'god', 'grandfather', 'grandpa', 'grandson', 'groom', 'guy', \n",
    "            'he', \"he'd\", \"he's\", 'hero', 'him', 'himself', 'his', 'hombre', 'hubby', 'hunk', 'husband', \n",
    "            'husbands', 'incel', 'king', 'lad', 'macho', 'male', 'man', 'mankind', 'master', 'mensch', \n",
    "            'muscle', 'men', \"men's\", 'mister', 'mr', 'nephew', 'nephews', 'papa', 'pop', 'prick', 'priest', \n",
    "            'prince', 'rib', 'sir', 'son', 'sonny', 'sons', 'stud', 'thug', 'uncle', 'uncles', 'virile', \n",
    "            'waiter', 'wanker', 'widower', 'run-on', 'widowers'}\n",
    "\n",
    "\n",
    "\n",
    "female_words = {'actress', 'amiga', 'aunt', 'aunts','babe', 'biddy', 'bimbo', 'bit', 'bride', \n",
    "                'butch', 'chairwoman','chic', 'chic', 'chick', 'cunt', 'cow', 'dame', 'daughter',\n",
    "                'daughters', 'doe', 'dudess', 'dudette', 'dudine', 'dyke', 'fag hag', 'fem', 'female', \n",
    "                'feme', 'femme',  'fiancee', 'floozy', 'fusby', 'gal', 'girl', 'girlfriend', \n",
    "                'girlfriends', 'girls', 'goddess', 'granddaughter', 'grandma', 'grandmother', 'hag', \n",
    "                'her', 'hers', 'heroine','herself', 'hay-bag', 'hay bag', 'hoe', 'hoe bag', 'honey', \n",
    "                'hooker', 'hussy', 'jug', 'ladies', 'lady', 'lady', 'leg', 'lost rib', 'lubra', \n",
    "                'mama', 'manhole', 'mistress', 'mivvy', 'moll', 'molly', 'mom', 'moms', 'mother', \n",
    "                'mothers', 'mrs', 'ms', 'muff', 'niece', 'nieces', 'piece', 'priestess', 'princess', \n",
    "                'prostitute', 'pussy', 'queen', 'queens', 'quim', 'rib', 'scow', 'scupper', 'shickster', \n",
    "                'she', \"she'd\", \"she's\", 'sister', 'sisters', 'skank', 'slut', 'split', 'spokeswoman', \n",
    "                'stop', 'strumpet', 'tar leather', 'ten', 'tit', 'tootsie', 'toots', 'tramp', 'waitress', \n",
    "                'whore', 'widow', 'widows', 'wife', 'wimmin', 'wives', 'woman', 'womankind', 'women', \n",
    "                \"women's\", 'women', 'womyn'}\n",
    "\n",
    "#function works on tokenized --but not lemmatized! -- comments\n",
    "\n",
    "def find_gender(comment_tokens):\n",
    "    M_length = len(male_words.intersection(comment_tokens))\n",
    "    F_length = len(female_words.intersection(comment_tokens))\n",
    "    \n",
    "    if M_length > 0 and F_length == 0:\n",
    "        gender = 'male'\n",
    "    elif M_length == 0 and F_length > 0:\n",
    "        gender = 'female'\n",
    "    elif M_length > 0 and F_length > 0:\n",
    "        gender = 'both'\n",
    "    else:\n",
    "        gender = 'none'\n",
    "        \n",
    "    return gender\n"
   ]
  },
  {
   "cell_type": "code",
   "execution_count": 3,
   "metadata": {},
   "outputs": [
    {
     "data": {
      "text/plain": [
       "'\\nimport pandas as pd\\n\\n# after finding gender included in comments, \\n# get dummies (3 columns of binary classifications)\\n\\ndf = pd.get_dummies(df[\"gender\"])\\n'"
      ]
     },
     "execution_count": 3,
     "metadata": {},
     "output_type": "execute_result"
    }
   ],
   "source": [
    "\"\"\"\n",
    "import pandas as pd\n",
    "\n",
    "# after finding gender included in comments, \n",
    "# get dummies (3 columns of binary classifications)\n",
    "\n",
    "df = pd.get_dummies(df[\"gender\"])\n",
    "\"\"\""
   ]
  },
  {
   "cell_type": "code",
   "execution_count": 4,
   "metadata": {},
   "outputs": [
    {
     "data": {
      "text/plain": [
       "'female'"
      ]
     },
     "metadata": {},
     "output_type": "display_data"
    },
    {
     "data": {
      "text/plain": [
       "'male'"
      ]
     },
     "metadata": {},
     "output_type": "display_data"
    },
    {
     "data": {
      "text/plain": [
       "'both'"
      ]
     },
     "metadata": {},
     "output_type": "display_data"
    },
    {
     "data": {
      "text/plain": [
       "'none'"
      ]
     },
     "metadata": {},
     "output_type": "display_data"
    }
   ],
   "source": [
    "# example\n",
    "\n",
    "comment_1 = ['she', 'rode', 'boat', 'squid'] \n",
    "comment_2 = ['king', 'pyramid', 'sphinx']\n",
    "comment_3 = ['he', 'went', 'rowing', 'sisters']\n",
    "comment_4 = ['dogs', 'walk', 'hills', 'mud']\n",
    "\n",
    "\n",
    "display(find_gender(comment_1))\n",
    "display(find_gender(comment_2))\n",
    "display(find_gender(comment_3))\n",
    "display(find_gender(comment_4))"
   ]
  },
  {
   "cell_type": "code",
   "execution_count": null,
   "metadata": {},
   "outputs": [],
   "source": []
  }
 ],
 "metadata": {
  "kernelspec": {
   "display_name": "Python 3",
   "language": "python",
   "name": "python3"
  },
  "language_info": {
   "codemirror_mode": {
    "name": "ipython",
    "version": 3
   },
   "file_extension": ".py",
   "mimetype": "text/x-python",
   "name": "python",
   "nbconvert_exporter": "python",
   "pygments_lexer": "ipython3",
   "version": "3.8.5"
  }
 },
 "nbformat": 4,
 "nbformat_minor": 4
}

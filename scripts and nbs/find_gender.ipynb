{
 "cells": [
  {
   "cell_type": "markdown",
   "metadata": {},
   "source": [
    "## Determine whether a comment has words related to males, females, both, or neither "
   ]
  },
  {
   "cell_type": "code",
   "execution_count": 3,
   "metadata": {},
   "outputs": [],
   "source": [
    "male_words={'bastard', 'boy', 'boyfriend', 'boyfriends', 'boys', 'brother', \n",
    "            'bro', 'brother', 'brothers', 'buddy', 'bugger', 'chairman', 'dad', \n",
    "            'dads', 'dick', 'dude', 'father', 'father', 'fiance', 'fucker', 'gentleman', \n",
    "            'gentlemen', 'god', 'grandfather', 'grandpa', 'grandson', 'groom', \n",
    "            'guy', 'he', \"he's\", 'him', 'himself', 'his', 'husband', 'husbands', \n",
    "            'king', 'male', 'man', 'mankind', 'master', 'muscle', 'men', \"men's\", \n",
    "            'mr', 'nephew', 'nephews', 'priest', 'prince', 'rib', 'son', 'sons', \n",
    "            'uncle', 'uncles', 'virile', 'waiter', 'widower', 'run-on', 'widowers'}\n",
    "\n",
    "\n",
    "\n",
    "female_words = {'actress', 'aunt', 'aunts','babe', 'biddy', 'bimbo', 'bit', 'bride', \n",
    "                'butch', 'chairwoman','chic', 'chic', 'chick', 'cunt', 'cow', 'dame', \n",
    "                'daughter','daughters', 'dudess', 'dudette', 'dudine', 'dyke', 'female', \n",
    "                'feme', 'femme',  'fiancee', 'floozy', 'fusby', 'gal', 'girl', 'girlfriend', \n",
    "                'girlfriends', 'girls', 'goddess', 'granddaughter', 'grandma', 'grandmother', \n",
    "                'her', 'hers', 'heroine','herself', 'hay-bag', 'hay bag', 'hoe', 'honey', \n",
    "                'hooker', 'hussy', 'jug', 'ladies', 'lady', 'lady', 'leg', 'lost rib', 'lubra', \n",
    "                'mama', 'manhole', 'mistress', 'mivvy', 'moll', 'molly', 'mom', 'moms', 'mother', \n",
    "                'mothers', 'mrs', 'ms', 'muff', 'niece', 'nieces', 'piece', 'priestess', 'princess', \n",
    "                'prostitute', 'pussy', 'queen', 'queens', 'quim', 'rib', 'scow', 'scupper', 'shickster', \n",
    "                'she', \"she's\", 'sister', 'sisters', 'skank', 'slut', 'split', 'spokeswoman', 'stop', \n",
    "                'strumpet', 'tar leather', 'ten', 'tit', 'tootsie', 'toots', 'tramp', 'waitress', 'whore', \n",
    "                'widow', 'widows', 'wife', 'wimmin', 'wives', 'woman', 'womankind', 'women', \"women's\", \n",
    "                'women', 'womyn'}\n",
    "\n",
    "#function works on tokenized --but not lemmatized! -- comments\n",
    "\n",
    "def find_gender(comment_tokens):\n",
    "    M_length = len(male_words.intersection(comment_tokens))\n",
    "    F_length = len(female_words.intersection(comment_tokens))\n",
    "    \n",
    "    if M_length > 0 and F_length == 0:\n",
    "        gender = 'male'\n",
    "    elif M_length == 0 and F_length > 0:\n",
    "        gender = 'female'\n",
    "    elif M_length > 0 and F_length > 0:\n",
    "        gender = 'both'\n",
    "    else:\n",
    "        gender = 'none'\n",
    "        \n",
    "    return gender\n"
   ]
  },
  {
   "cell_type": "code",
   "execution_count": null,
   "metadata": {},
   "outputs": [],
   "source": [
    "import pandas as pd\n",
    "\n",
    "# after finding gender included in comments, \n",
    "# get dummies (3 columns of binary classifications)\n",
    "\n",
    "df = pd.get_dummies(df[\"gender\"])"
   ]
  },
  {
   "cell_type": "code",
   "execution_count": 4,
   "metadata": {},
   "outputs": [
    {
     "data": {
      "text/plain": [
       "'female'"
      ]
     },
     "metadata": {},
     "output_type": "display_data"
    },
    {
     "data": {
      "text/plain": [
       "'male'"
      ]
     },
     "metadata": {},
     "output_type": "display_data"
    },
    {
     "data": {
      "text/plain": [
       "'both'"
      ]
     },
     "metadata": {},
     "output_type": "display_data"
    },
    {
     "data": {
      "text/plain": [
       "'none'"
      ]
     },
     "metadata": {},
     "output_type": "display_data"
    }
   ],
   "source": [
    "# example\n",
    "\n",
    "comment_1 = ['she', 'rode', 'boat', 'squid'] \n",
    "comment_2 = ['king', 'pyramid', 'sphinx']\n",
    "comment_3 = ['he', 'went', 'rowing', 'sisters']\n",
    "comment_4 = ['dogs', 'walk', 'hills', 'mud']\n",
    "\n",
    "\n",
    "display(find_gender(comment_1))\n",
    "display(find_gender(comment_2))\n",
    "display(find_gender(comment_3))\n",
    "display(find_gender(comment_4))"
   ]
  },
  {
   "cell_type": "code",
   "execution_count": null,
   "metadata": {},
   "outputs": [],
   "source": []
  }
 ],
 "metadata": {
  "kernelspec": {
   "display_name": "Python 3",
   "language": "python",
   "name": "python3"
  },
  "language_info": {
   "codemirror_mode": {
    "name": "ipython",
    "version": 3
   },
   "file_extension": ".py",
   "mimetype": "text/x-python",
   "name": "python",
   "nbconvert_exporter": "python",
   "pygments_lexer": "ipython3",
   "version": "3.8.5"
  }
 },
 "nbformat": 4,
 "nbformat_minor": 4
}

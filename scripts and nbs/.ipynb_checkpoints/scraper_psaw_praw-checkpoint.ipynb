{
 "cells": [
  {
   "cell_type": "markdown",
   "metadata": {},
   "source": [
    "# Reddit Scraping\n",
    "This notebook uses PSAW to get archive comments retrieved by Pushshift immediately after they are created. This way, we can get comments before the risk of them being deleted.\n",
    "\n",
    "Using this method, we can get older data, for instance, from 2021. **IMPORTANT**: we need to check that `created_utc` and `retrieved_utc` are close so we can ensure pushshift was retrieving posts immediately after creation at the chosen epoch."
   ]
  },
  {
   "cell_type": "markdown",
   "metadata": {},
   "source": [
    "___\n",
    "### --- TO DO --- \n",
    "#### before we start scraping:\n",
    "* decide on the epoch\n",
    "* finalize dictionary of terms to use in the filter for PSAW\n",
    "* decide on how to keep track of all the scraping instances. For instance, do we want to use name convention so every time the scraper makes a request and saves new DFs to Google Drive, each DF has a number in the name to reference the time or order in which it was scraped? For instance, `comments_df_202203121400` or `comments_df_001`\n",
    "* we will probably encounter problems with ratelimits and will have to learn more about it and troubleshoot it\n",
    "___"
   ]
  },
  {
   "cell_type": "code",
   "execution_count": 269,
   "metadata": {},
   "outputs": [],
   "source": [
    "# pip install psaw\n",
    "# pip install praw"
   ]
  },
  {
   "cell_type": "code",
   "execution_count": 11,
   "metadata": {},
   "outputs": [],
   "source": [
    "from psaw import PushshiftAPI\n",
    "import reddit_auth\n",
    "import praw\n",
    "from datetime import datetime\n",
    "import pandas as pd\n",
    "from collections import Counter\n",
    "from collections import defaultdict"
   ]
  },
  {
   "cell_type": "code",
   "execution_count": 12,
   "metadata": {},
   "outputs": [],
   "source": [
    "import praw\n",
    "import reddit_auth\n",
    "reddit = praw.Reddit(\n",
    "    client_id=reddit_auth.client_id,\n",
    "    client_secret=reddit_auth.client_secret,\n",
    "    user_agent=reddit_auth.user_agent, \n",
    "    password=reddit_auth.password,\n",
    "    username=reddit_auth.username\n",
    ")"
   ]
  },
  {
   "cell_type": "markdown",
   "metadata": {},
   "source": [
    "# PSAW"
   ]
  },
  {
   "cell_type": "markdown",
   "metadata": {},
   "source": [
    "### Get archive comments"
   ]
  },
  {
   "cell_type": "code",
   "execution_count": 18,
   "metadata": {},
   "outputs": [],
   "source": [
    "def get_pushshift(our_filter, our_limit, before, after):\n",
    "\n",
    "    '''\n",
    "    Input\n",
    "    - our_filter: our list of terms. Needs to be separated by |\n",
    "    - our_limit: number of comments to retrieve\n",
    "    - before: upper time limit. Format: int(datetime(yyyy,m,d,h,m,s).timestamp())\n",
    "    - after: lower time limit\n",
    "    Output\n",
    "    - comments_df\n",
    "    \n",
    "    Uses psaw to scrape historical data created between 'after' and 'before', \n",
    "    filtered by the list of terms in our_filter\n",
    "    \n",
    "    '''\n",
    "    \n",
    "    from psaw import PushshiftAPI\n",
    "    api = PushshiftAPI()\n",
    "\n",
    "    gen = api.search_comments(q=our_filter, \n",
    "                              limit=our_limit, \n",
    "                              after=after, \n",
    "                              before=before)\n",
    "    comments_df = pd.DataFrame(gen)\n",
    "\n",
    "    comments_df.drop(labels=['d_'], inplace=True, axis=1)\n",
    "    comments_df['created_utc'] = pd.to_datetime(comments_df.created_utc, unit='s')\n",
    "    comments_df['created'] = pd.to_datetime(comments_df.created, unit='s')\n",
    "    comments_df['retrieved_utc'] = pd.to_datetime(comments_df.retrieved_utc, unit='s')\n",
    "    \n",
    "    return comments_df"
   ]
  },
  {
   "cell_type": "markdown",
   "metadata": {},
   "source": [
    "Since comments are retrieved soon after being posted, their features are not up to date. To update them, we use praw."
   ]
  },
  {
   "cell_type": "markdown",
   "metadata": {},
   "source": [
    "# PRAW"
   ]
  },
  {
   "cell_type": "markdown",
   "metadata": {},
   "source": [
    "#### Get updated information on each Comment\n",
    "#### Get live data on each Submission (parent)\n",
    "#### Get live data on each User"
   ]
  },
  {
   "cell_type": "code",
   "execution_count": 19,
   "metadata": {},
   "outputs": [],
   "source": [
    "def get_livedata(df):\n",
    "    '''\n",
    "    Input\n",
    "    - df: comments_df\n",
    "    Output\n",
    "    - comments_df\n",
    "    - submissions_df\n",
    "    - users_df\n",
    "    \n",
    "    Creates 2 new DFs:\n",
    "    - submissions_df\n",
    "    - users_df\n",
    "    And updates df with current information\n",
    "    \n",
    "    Iterate over df to get identifying information and \n",
    "    use it to populate the 2 new DFs\n",
    "    \n",
    "    '''\n",
    "    \n",
    "    import praw\n",
    "    import reddit_auth\n",
    "    reddit = praw.Reddit(\n",
    "        client_id=reddit_auth.client_id,\n",
    "        client_secret=reddit_auth.client_secret,\n",
    "        user_agent=reddit_auth.user_agent, \n",
    "        password=reddit_auth.password,\n",
    "        username=reddit_auth.username\n",
    "    )\n",
    "    \n",
    "    comments_df = df.copy()\n",
    "    submissions_data = defaultdict(list)\n",
    "    users_data = defaultdict(list)\n",
    "    \n",
    "    for idx, row in df.iterrows():\n",
    "        comment = reddit.comment(id=row.id)\n",
    "        comments_df['updated_score'] = comment.score\n",
    "        comments_df['saved'] = comment.saved\n",
    "        comments_df['updated_stickied'] = comment.stickied\n",
    "        comments_df['num_replies'] = len(list(comment.replies))\n",
    "\n",
    "        submission = reddit.submission(row.link_id[3:])\n",
    "        # if line above doens't work, use line below\n",
    "        # submission = reddit.submission(reddit.comment(id=row.id).submission.id)\n",
    "        \n",
    "        submissions_data['id'].append(submission.id)\n",
    "        submissions_data['name'].append(submission.name)\n",
    "        submissions_data['title'].append(submission.title)\n",
    "        submissions_data['num_comments'].append(submission.num_comments)\n",
    "        submissions_data['author'].append(submission.author)\n",
    "        submissions_data['created_utc'].append(datetime.fromtimestamp(submission.created_utc))\n",
    "        submissions_data['distinguished'].append(submission.distinguished)\n",
    "        submissions_data['is_self'].append(submission.is_self)\n",
    "        submissions_data['link_flair_text'].append(submission.link_flair_text)\n",
    "        submissions_data['locked'].append(submission.locked)\n",
    "        submissions_data['over_18'].append(submission.over_18)\n",
    "        submissions_data['permalink'].append(submission.permalink)\n",
    "        submissions_data['saved'].append(submission.saved)\n",
    "        submissions_data['score'].append(submission.score)\n",
    "        submissions_data['selftext'].append(submission.selftext)\n",
    "        submissions_data['spoiler'].append(submission.spoiler)\n",
    "        submissions_data['stickied'].append(submission.stickied)\n",
    "        submissions_data['upvote_ratio'].append(submission.upvote_ratio)\n",
    "        submissions_data['url'].append(submission.url)\n",
    "\n",
    "        user = reddit.redditor(row.author)\n",
    "        \n",
    "        users_data['id'].append(user.id)\n",
    "        users_data['comment_karma'].append(user.comment_karma)\n",
    "        users_data['created_utc'].append(datetime.fromtimestamp(user.created_utc))\n",
    "        users_data['has_verified_email'].append(user.has_verified_email)\n",
    "        users_data['is_employee'].append(user.is_employee)\n",
    "        users_data['is_mod'].append(user.is_mod)\n",
    "        users_data['is_gold'].append(user.is_gold)\n",
    "        users_data['link_karma'].append(user.link_karma)\n",
    "        users_data['subreddit'].append(user.subreddit)\n",
    "    \n",
    "    submissions_df = pd.DataFrame(submissions_data)\n",
    "    users_df = pd.DataFrame(users_data)\n",
    "    \n",
    "    return comments_df, submissions_df, users_df\n",
    "        "
   ]
  },
  {
   "cell_type": "code",
   "execution_count": 20,
   "metadata": {},
   "outputs": [],
   "source": [
    "# define epoch\n",
    "after = int(datetime(2022,1,1,0,0).timestamp())\n",
    "before = int(datetime(2022,1,2,0,0).timestamp())\n",
    "\n",
    "# define our filter\n",
    "our_list_of_terms = ['python','java']\n",
    "our_filter = '|'.join(our_list_of_terms)\n",
    "\n",
    "# define limit\n",
    "our_limit = 10 # so testing can be faster"
   ]
  },
  {
   "cell_type": "code",
   "execution_count": 21,
   "metadata": {},
   "outputs": [],
   "source": [
    "df = get_pushshift(our_filter, our_limit, before, after)\n",
    "comments, submissions, users = get_livedata(df)"
   ]
  },
  {
   "cell_type": "code",
   "execution_count": null,
   "metadata": {},
   "outputs": [],
   "source": []
  },
  {
   "cell_type": "code",
   "execution_count": 28,
   "metadata": {},
   "outputs": [
    {
     "data": {
      "text/html": [
       "<div>\n",
       "<style scoped>\n",
       "    .dataframe tbody tr th:only-of-type {\n",
       "        vertical-align: middle;\n",
       "    }\n",
       "\n",
       "    .dataframe tbody tr th {\n",
       "        vertical-align: top;\n",
       "    }\n",
       "\n",
       "    .dataframe thead th {\n",
       "        text-align: right;\n",
       "    }\n",
       "</style>\n",
       "<table border=\"1\" class=\"dataframe\">\n",
       "  <thead>\n",
       "    <tr style=\"text-align: right;\">\n",
       "      <th></th>\n",
       "      <th>id</th>\n",
       "      <th>name</th>\n",
       "      <th>title</th>\n",
       "      <th>num_comments</th>\n",
       "      <th>author</th>\n",
       "      <th>created_utc</th>\n",
       "      <th>distinguished</th>\n",
       "      <th>is_self</th>\n",
       "      <th>link_flair_text</th>\n",
       "      <th>locked</th>\n",
       "      <th>over_18</th>\n",
       "      <th>permalink</th>\n",
       "      <th>saved</th>\n",
       "      <th>score</th>\n",
       "      <th>selftext</th>\n",
       "      <th>spoiler</th>\n",
       "      <th>stickied</th>\n",
       "      <th>upvote_ratio</th>\n",
       "      <th>url</th>\n",
       "    </tr>\n",
       "  </thead>\n",
       "  <tbody>\n",
       "    <tr>\n",
       "      <th>0</th>\n",
       "      <td>rtoawg</td>\n",
       "      <td>t3_rtoawg</td>\n",
       "      <td>6 elixir move.</td>\n",
       "      <td>302</td>\n",
       "      <td>Gam-erAnimation</td>\n",
       "      <td>2022-01-01 09:46:09</td>\n",
       "      <td>None</td>\n",
       "      <td>False</td>\n",
       "      <td>FAKE ARTICLE/TWEET/TEXT</td>\n",
       "      <td>False</td>\n",
       "      <td>False</td>\n",
       "      <td>/r/PoliticalCompassMemes/comments/rtoawg/6_eli...</td>\n",
       "      <td>False</td>\n",
       "      <td>4669</td>\n",
       "      <td></td>\n",
       "      <td>False</td>\n",
       "      <td>False</td>\n",
       "      <td>0.98</td>\n",
       "      <td>https://i.redd.it/vfzjskwi54981.jpg</td>\n",
       "    </tr>\n",
       "    <tr>\n",
       "      <th>1</th>\n",
       "      <td>ru0tde</td>\n",
       "      <td>t3_ru0tde</td>\n",
       "      <td>Iron Farm Not working.</td>\n",
       "      <td>12</td>\n",
       "      <td>zylofan</td>\n",
       "      <td>2022-01-01 19:50:53</td>\n",
       "      <td>None</td>\n",
       "      <td>True</td>\n",
       "      <td>Help</td>\n",
       "      <td>False</td>\n",
       "      <td>False</td>\n",
       "      <td>/r/Minecraft/comments/ru0tde/iron_farm_not_wor...</td>\n",
       "      <td>False</td>\n",
       "      <td>1</td>\n",
       "      <td>Playing on 1.18.1, just built a Wattles Iron f...</td>\n",
       "      <td>False</td>\n",
       "      <td>False</td>\n",
       "      <td>1.00</td>\n",
       "      <td>https://www.reddit.com/r/Minecraft/comments/ru...</td>\n",
       "    </tr>\n",
       "  </tbody>\n",
       "</table>\n",
       "</div>"
      ],
      "text/plain": [
       "       id       name                   title  num_comments           author  \\\n",
       "0  rtoawg  t3_rtoawg          6 elixir move.           302  Gam-erAnimation   \n",
       "1  ru0tde  t3_ru0tde  Iron Farm Not working.            12          zylofan   \n",
       "\n",
       "          created_utc distinguished  is_self          link_flair_text  locked  \\\n",
       "0 2022-01-01 09:46:09          None    False  FAKE ARTICLE/TWEET/TEXT   False   \n",
       "1 2022-01-01 19:50:53          None     True                     Help   False   \n",
       "\n",
       "   over_18                                          permalink  saved  score  \\\n",
       "0    False  /r/PoliticalCompassMemes/comments/rtoawg/6_eli...  False   4669   \n",
       "1    False  /r/Minecraft/comments/ru0tde/iron_farm_not_wor...  False      1   \n",
       "\n",
       "                                            selftext  spoiler  stickied  \\\n",
       "0                                                       False     False   \n",
       "1  Playing on 1.18.1, just built a Wattles Iron f...    False     False   \n",
       "\n",
       "   upvote_ratio                                                url  \n",
       "0          0.98                https://i.redd.it/vfzjskwi54981.jpg  \n",
       "1          1.00  https://www.reddit.com/r/Minecraft/comments/ru...  "
      ]
     },
     "execution_count": 28,
     "metadata": {},
     "output_type": "execute_result"
    }
   ],
   "source": [
    "submissions.head(2)"
   ]
  },
  {
   "cell_type": "code",
   "execution_count": 30,
   "metadata": {},
   "outputs": [
    {
     "data": {
      "text/html": [
       "<div>\n",
       "<style scoped>\n",
       "    .dataframe tbody tr th:only-of-type {\n",
       "        vertical-align: middle;\n",
       "    }\n",
       "\n",
       "    .dataframe tbody tr th {\n",
       "        vertical-align: top;\n",
       "    }\n",
       "\n",
       "    .dataframe thead th {\n",
       "        text-align: right;\n",
       "    }\n",
       "</style>\n",
       "<table border=\"1\" class=\"dataframe\">\n",
       "  <thead>\n",
       "    <tr style=\"text-align: right;\">\n",
       "      <th></th>\n",
       "      <th>id</th>\n",
       "      <th>comment_karma</th>\n",
       "      <th>created_utc</th>\n",
       "      <th>has_verified_email</th>\n",
       "      <th>is_employee</th>\n",
       "      <th>is_mod</th>\n",
       "      <th>is_gold</th>\n",
       "      <th>link_karma</th>\n",
       "      <th>subreddit</th>\n",
       "    </tr>\n",
       "  </thead>\n",
       "  <tbody>\n",
       "    <tr>\n",
       "      <th>0</th>\n",
       "      <td>7mloc6t0</td>\n",
       "      <td>13770</td>\n",
       "      <td>2020-08-09 03:16:06</td>\n",
       "      <td>True</td>\n",
       "      <td>False</td>\n",
       "      <td>True</td>\n",
       "      <td>True</td>\n",
       "      <td>2289</td>\n",
       "      <td>u_ankyboii007</td>\n",
       "    </tr>\n",
       "    <tr>\n",
       "      <th>1</th>\n",
       "      <td>8q6bu</td>\n",
       "      <td>1387</td>\n",
       "      <td>2012-08-20 00:31:15</td>\n",
       "      <td>True</td>\n",
       "      <td>False</td>\n",
       "      <td>True</td>\n",
       "      <td>False</td>\n",
       "      <td>2392</td>\n",
       "      <td>u_zylofan</td>\n",
       "    </tr>\n",
       "  </tbody>\n",
       "</table>\n",
       "</div>"
      ],
      "text/plain": [
       "         id  comment_karma         created_utc  has_verified_email  \\\n",
       "0  7mloc6t0          13770 2020-08-09 03:16:06                True   \n",
       "1     8q6bu           1387 2012-08-20 00:31:15                True   \n",
       "\n",
       "   is_employee  is_mod  is_gold  link_karma      subreddit  \n",
       "0        False    True     True        2289  u_ankyboii007  \n",
       "1        False    True    False        2392      u_zylofan  "
      ]
     },
     "execution_count": 30,
     "metadata": {},
     "output_type": "execute_result"
    }
   ],
   "source": [
    "users.head(2)"
   ]
  },
  {
   "cell_type": "markdown",
   "metadata": {},
   "source": [
    "___\n",
    "#### Check time lapse between created_utc and retrieved_utc"
   ]
  },
  {
   "cell_type": "code",
   "execution_count": 32,
   "metadata": {},
   "outputs": [
    {
     "data": {
      "text/plain": [
       "Timedelta('0 days 00:00:15')"
      ]
     },
     "execution_count": 32,
     "metadata": {},
     "output_type": "execute_result"
    }
   ],
   "source": [
    "# we may oly need to see that the max time lapse is small enough\n",
    "max(comments.retrieved_utc - comments.created_utc)"
   ]
  },
  {
   "cell_type": "markdown",
   "metadata": {},
   "source": [
    "___"
   ]
  },
  {
   "cell_type": "code",
   "execution_count": 381,
   "metadata": {},
   "outputs": [],
   "source": [
    "# if we decide to get all comments for some posts:\n",
    "# below is an instance of CommentForest\n",
    "# print(reddit.submission(id=reddit.comment(id=df.id[0]).submission.id).comments)"
   ]
  },
  {
   "cell_type": "code",
   "execution_count": 382,
   "metadata": {},
   "outputs": [],
   "source": [
    "# # if we decide to get all the comments from a user:\n",
    "# user.comments\n",
    "# user_subreddits = []\n",
    "# for comment in reddit.redditor(user.name).comments.new(limit=None):\n",
    "#     user_subreddits.append(comment.subreddit)\n",
    "# \n",
    "# Counter(user_subreddits)\n",
    "# print(len(user_subreddits)) #999, I wonder if it's cutting it off at 999..."
   ]
  }
 ],
 "metadata": {
  "kernelspec": {
   "display_name": "Python 3",
   "language": "python",
   "name": "python3"
  },
  "language_info": {
   "codemirror_mode": {
    "name": "ipython",
    "version": 3
   },
   "file_extension": ".py",
   "mimetype": "text/x-python",
   "name": "python",
   "nbconvert_exporter": "python",
   "pygments_lexer": "ipython3",
   "version": "3.7.6"
  }
 },
 "nbformat": 4,
 "nbformat_minor": 4
}

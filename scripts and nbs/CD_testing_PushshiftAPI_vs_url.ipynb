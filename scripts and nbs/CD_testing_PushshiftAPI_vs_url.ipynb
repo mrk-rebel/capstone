{
 "cells": [
  {
   "cell_type": "code",
   "execution_count": 5,
   "metadata": {},
   "outputs": [],
   "source": [
    "import pandas as pd\n",
    "import requests\n",
    "import json\n",
    "import datetime\n",
    "import csv\n",
    "from pmaw import PushshiftAPI"
   ]
  },
  {
   "cell_type": "code",
   "execution_count": null,
   "metadata": {},
   "outputs": [],
   "source": [
    "# One thing to note, I get more features/columns when I use the url as opposed to the \n",
    "# PushshiftAPI()"
   ]
  },
  {
   "cell_type": "code",
   "execution_count": 99,
   "metadata": {},
   "outputs": [
    {
     "name": "stderr",
     "output_type": "stream",
     "text": [
      "Not all PushShift shards are active. Query results may be incomplete.\n"
     ]
    },
    {
     "data": {
      "text/plain": [
       "36"
      ]
     },
     "execution_count": 99,
     "metadata": {},
     "output_type": "execute_result"
    }
   ],
   "source": [
    "api = PushshiftAPI()\n",
    "comments = api.search_comments(q='python', limit=25)\n",
    "comments_df = pd.DataFrame(comments)\n",
    "len(comments_df.columns)"
   ]
  },
  {
   "cell_type": "code",
   "execution_count": 97,
   "metadata": {},
   "outputs": [
    {
     "name": "stdout",
     "output_type": "stream",
     "text": [
      "https://api.pushshift.io/reddit/comment/search/?q=python\n"
     ]
    },
    {
     "data": {
      "text/plain": [
       "47"
      ]
     },
     "execution_count": 97,
     "metadata": {},
     "output_type": "execute_result"
    }
   ],
   "source": [
    "# This is for comment data\n",
    "query = 'python'\n",
    "def get_pushshift_comment_data(query):\n",
    "    url = 'https://api.pushshift.io/reddit/comment/search/?q='+query\n",
    "    print(url)\n",
    "    r = requests.get(url)\n",
    "    data = json.loads(r.text, strict=False)\n",
    "    return data['data']\n",
    "\n",
    "len(get_pushshift_comment_data(query)[0].keys())\n",
    "# get_pushshift_comment_data(query)[0].keys()"
   ]
  },
  {
   "cell_type": "code",
   "execution_count": 98,
   "metadata": {},
   "outputs": [
    {
     "name": "stdout",
     "output_type": "stream",
     "text": [
      "https://api.pushshift.io/reddit/search/submission/?q=python\n"
     ]
    },
    {
     "data": {
      "text/plain": [
       "57"
      ]
     },
     "execution_count": 98,
     "metadata": {},
     "output_type": "execute_result"
    }
   ],
   "source": [
    "# This is for submission data\n",
    "query = 'python'\n",
    "def get_pushshift_submission_data(query):\n",
    "    url = 'https://api.pushshift.io/reddit/search/submission/?q='+query\n",
    "    print(url)\n",
    "    r = requests.get(url)\n",
    "    data = json.loads(r.text, strict=False)\n",
    "    return data['data']\n",
    "\n",
    "len(get_pushshift_submission_data(query)[0].keys())\n",
    "# get_pushshift_submission_data(query)[0].keys()"
   ]
  },
  {
   "cell_type": "code",
   "execution_count": null,
   "metadata": {},
   "outputs": [],
   "source": []
  },
  {
   "cell_type": "code",
   "execution_count": null,
   "metadata": {},
   "outputs": [],
   "source": []
  },
  {
   "cell_type": "code",
   "execution_count": 90,
   "metadata": {},
   "outputs": [],
   "source": [
    "# I didn't include all features here but we certianly could or pick and choose\n",
    "def collect_com_data(coms):\n",
    "    com_data = list()\n",
    "    author = coms['author']\n",
    "    author_name = coms['author_fullname']\n",
    "    try:\n",
    "        flair = coms['author_flair_text']\n",
    "    except KeyError:\n",
    "        flair = 'NaN'\n",
    "    try:\n",
    "        body = coms['body']\n",
    "    except KeyError:\n",
    "        body = ''\n",
    "    com_id = coms['id']\n",
    "    score = coms['score']\n",
    "    created_at = datetime.datetime.fromtimestamp(coms['created_utc'])\n",
    "    try:\n",
    "        controversiality = coms['controversiality']\n",
    "    except KeyError:\n",
    "        controversiality = 'NaN'\n",
    "    subreddit = coms['subreddit']\n",
    "    \n",
    "    com_data.append((com_id,author,author_name,body,subreddit,score,controversiality,created_at,flair))\n",
    "    com_stats[com_id] = com_data\n",
    "\n",
    "# This will write the collected data to a CSV\n",
    "def update_com_file():\n",
    "    upload_count = 0\n",
    "    print('input filename, please add .csv')\n",
    "    filename = input()\n",
    "    file = filename\n",
    "    with open(file, 'w', newline='', encoding='utf-8') as file:\n",
    "        a = csv.writer(file, delimiter=',')\n",
    "        headers = ['ID','Author','Name','Text','Subreddit','Score','Controversial','Publish Date','Flair']\n",
    "        a.writerow(headers)\n",
    "        for com in com_stats:\n",
    "            a.writerow(com_stats[com][0])\n",
    "            upload_count += 1\n",
    "            \n",
    "        print(str(upload_count) + ' comments have been uploaded into a csv file')\n",
    "     "
   ]
  },
  {
   "cell_type": "code",
   "execution_count": 91,
   "metadata": {},
   "outputs": [
    {
     "name": "stdout",
     "output_type": "stream",
     "text": [
      "https://api.pushshift.io/reddit/search/submission/?q=science\n",
      "25\n",
      "https://api.pushshift.io/reddit/search/submission/?q=science\n",
      "25\n",
      "input filename, please add .csv\n",
      "t.csv\n",
      "25 comments have been uploaded into a csv file\n"
     ]
    }
   ],
   "source": [
    "com_stats = {}\n",
    "com_count = 0\n",
    "query = 'science'\n",
    "# Besides query we can also use other filter metrics like: before, after, limit, etc.\n",
    "\n",
    "data = get_pushshift_data(query)\n",
    "\n",
    "# I still need to work on this while loop but for the moment it works for testing\n",
    "while len(data) > 0:\n",
    "    for comment in data:\n",
    "        collect_com_data(comment)\n",
    "        com_count+=1\n",
    "    print(len(data))\n",
    "\n",
    "    data = get_pushshift_data(query)\n",
    "    break\n",
    "\n",
    "print(len(data))\n",
    "\n",
    "update_com_file()\n",
    "# For some reason the \"Text\" or \"body\" of the comment is not being collected and written \n",
    "# to the CSV. It does work when I search submission instead of comment. I'm in the process\n",
    "# of figuring out why.\n"
   ]
  },
  {
   "cell_type": "code",
   "execution_count": null,
   "metadata": {},
   "outputs": [],
   "source": []
  },
  {
   "cell_type": "code",
   "execution_count": null,
   "metadata": {},
   "outputs": [],
   "source": []
  },
  {
   "cell_type": "code",
   "execution_count": null,
   "metadata": {},
   "outputs": [],
   "source": []
  },
  {
   "cell_type": "code",
   "execution_count": null,
   "metadata": {},
   "outputs": [],
   "source": []
  }
 ],
 "metadata": {
  "kernelspec": {
   "display_name": "Python 3",
   "language": "python",
   "name": "python3"
  },
  "language_info": {
   "codemirror_mode": {
    "name": "ipython",
    "version": 3
   },
   "file_extension": ".py",
   "mimetype": "text/x-python",
   "name": "python",
   "nbconvert_exporter": "python",
   "pygments_lexer": "ipython3",
   "version": "3.7.6"
  }
 },
 "nbformat": 4,
 "nbformat_minor": 5
}

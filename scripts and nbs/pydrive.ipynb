{
 "cells": [
  {
   "cell_type": "markdown",
   "metadata": {},
   "source": [
    "# PyDrive \n"
   ]
  },
  {
   "cell_type": "code",
   "execution_count": null,
   "metadata": {},
   "outputs": [],
   "source": [
    "# uncomment and run line below to install package\n",
    "# pip install PyDrive2"
   ]
  },
  {
   "cell_type": "markdown",
   "metadata": {},
   "source": [
    "### Authentication\n",
    "\n",
    "Follow this Quickstart instruction to create an authentication--documentation [here](https://pythonhosted.org/PyDrive/quickstart.html).\n",
    "\n",
    "I found the documentation easier but if you need to see someone doing it, there's a video tutorial [here](https://www.youtube.com/watch?v=j31iVbkknzM&t=259s)."
   ]
  },
  {
   "cell_type": "code",
   "execution_count": null,
   "metadata": {},
   "outputs": [],
   "source": [
    "import pandas as pd\n",
    "from pydrive2.auth import GoogleAuth\n",
    "from pydrive2.drive import GoogleDrive"
   ]
  },
  {
   "cell_type": "code",
   "execution_count": null,
   "metadata": {},
   "outputs": [],
   "source": [
    "gauth = GoogleAuth()\n",
    "gauth.LocalWebserverAuth()\n",
    "\n",
    "# Create GoogleDrive instance with authenticated GoogleAuth instance.\n",
    "drive = GoogleDrive(gauth)\n",
    "\n",
    "# ------------------\n",
    "# this will open a new window where you'll authorize the authentication"
   ]
  },
  {
   "cell_type": "markdown",
   "metadata": {},
   "source": [
    "### Upload DF as .csv on Google Drive\n",
    "\n",
    "Need to find a way to save to Google Drive directly. <br/>\n",
    "For now, it's still necessary to save data locally. <br/>"
   ]
  },
  {
   "cell_type": "code",
   "execution_count": null,
   "metadata": {},
   "outputs": [],
   "source": [
    "# saves DF to local drive\n",
    "pd.DataFrame({'a':[2,4,6], 'b':[1,3,5]}).to_csv('local_test.csv', index=False)"
   ]
  },
  {
   "cell_type": "code",
   "execution_count": null,
   "metadata": {},
   "outputs": [],
   "source": [
    "# these shouldn't change\n",
    "team_drive_id = '0AORKNIpAlyv8Uk9PVA' \n",
    "parent_folder_id = '1tJ-TJjDdVp_A8R5HQG3jdDXLaEvdc_gd'"
   ]
  },
  {
   "cell_type": "markdown",
   "metadata": {},
   "source": [
    "Credit for how to manage files in shared Drive [here](https://stackoverflow.com/questions/48206693/google-drive-api-uploading-a-file-to-team-drive-in-javascript/51361827#51361827), [here](https://github.com/googlearchive/PyDrive/issues/186), and in the documentation [here](https://github.com/iterative/PyDrive2)"
   ]
  },
  {
   "cell_type": "code",
   "execution_count": null,
   "metadata": {},
   "outputs": [],
   "source": [
    "# create file in Google Drive\n",
    "uploaded = drive.CreateFile({\n",
    "    'title': 'test.csv',\n",
    "    'parents': [{\n",
    "        'kind': 'drive#fileLink',\n",
    "        'teamDriveId': team_drive_id,\n",
    "        'id': parent_folder_id\n",
    "    }]\n",
    "})\n",
    "\n",
    "# set content of Google Drive file to be the content inside local csv\n",
    "uploaded.SetContentFile('local_test.csv')\n",
    "\n",
    "uploaded.Upload(param={'supportsAllDrives': True})"
   ]
  },
  {
   "cell_type": "markdown",
   "metadata": {},
   "source": [
    "### Download .csv file from Google Drive"
   ]
  },
  {
   "cell_type": "code",
   "execution_count": null,
   "metadata": {},
   "outputs": [],
   "source": [
    "downloaded = drive.CreateFile({'id': uploaded['id'], \n",
    "                                   'parents': [{\n",
    "                                       'kind': 'drive#fileLink',\n",
    "                                       'teamDriveId': team_drive_id,\n",
    "                                       'id': parent_folder_id}]\n",
    "                                  })\n",
    "\n",
    "# creates a local file called `this.csv`\n",
    "downloaded.GetContentFile('this.csv')"
   ]
  },
  {
   "cell_type": "code",
   "execution_count": null,
   "metadata": {},
   "outputs": [],
   "source": [
    "pd.read_csv('this.csv')"
   ]
  },
  {
   "cell_type": "code",
   "execution_count": null,
   "metadata": {},
   "outputs": [],
   "source": [
    "# If you want to remove a temp file from your machine, use lines below\n",
    "# import os\n",
    "# os.remove('local_test.csv')"
   ]
  }
 ],
 "metadata": {
  "kernelspec": {
   "display_name": "Python 3",
   "language": "python",
   "name": "python3"
  },
  "language_info": {
   "codemirror_mode": {
    "name": "ipython",
    "version": 3
   },
   "file_extension": ".py",
   "mimetype": "text/x-python",
   "name": "python",
   "nbconvert_exporter": "python",
   "pygments_lexer": "ipython3",
   "version": "3.7.6"
  }
 },
 "nbformat": 4,
 "nbformat_minor": 4
}

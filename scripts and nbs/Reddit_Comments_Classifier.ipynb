{
 "cells": [
  {
   "cell_type": "markdown",
   "id": "b431ac7f",
   "metadata": {},
   "source": [
    "# Reddit Comments Classification"
   ]
  },
  {
   "cell_type": "code",
   "execution_count": 1,
   "id": "dcba8414",
   "metadata": {},
   "outputs": [
    {
     "data": {
      "text/plain": [
       "\"We based our Reddit comments classifier of that made public by Davidson et al. Their\\ncomplete dataset can be found at https://github.com/t-davidson/hate-speech-and-offensive-language\\n\\n@inproceedings{hateoffensive,\\n  title = {Automated Hate Speech Detection and the Problem of Offensive Language},\\n  author = {Davidson, Thomas and Warmsley, Dana and Macy, Michael and Weber, Ingmar}, \\n  booktitle = {Proceedings of the 11th International AAAI Conference on Web and Social Media},\\n  series = {ICWSM '17},\\n  year = {2017},\\n  location = {Montreal, Canada},\\n  pages = {512-515}\\n  }\\n\""
      ]
     },
     "execution_count": 1,
     "metadata": {},
     "output_type": "execute_result"
    }
   ],
   "source": [
    "'''We based our Reddit comments classifier of that made public by Davidson et al. Their\n",
    "complete dataset can be found at https://github.com/t-davidson/hate-speech-and-offensive-language\n",
    "\n",
    "@inproceedings{hateoffensive,\n",
    "  title = {Automated Hate Speech Detection and the Problem of Offensive Language},\n",
    "  author = {Davidson, Thomas and Warmsley, Dana and Macy, Michael and Weber, Ingmar}, \n",
    "  booktitle = {Proceedings of the 11th International AAAI Conference on Web and Social Media},\n",
    "  series = {ICWSM '17},\n",
    "  year = {2017},\n",
    "  location = {Montreal, Canada},\n",
    "  pages = {512-515}\n",
    "  }\n",
    "'''"
   ]
  },
  {
   "cell_type": "code",
   "execution_count": 2,
   "id": "476b4a3e",
   "metadata": {},
   "outputs": [],
   "source": [
    "import pandas as pd\n",
    "import numpy as np\n",
    "import pickle\n",
    "import sys\n",
    "from sklearn.feature_extraction.text import TfidfVectorizer\n",
    "import nltk\n",
    "from nltk.stem.porter import *\n",
    "import string\n",
    "import re\n",
    "from vaderSentiment.vaderSentiment import SentimentIntensityAnalyzer as VS\n",
    "from textstat.textstat import *\n",
    "from sklearn.linear_model import LogisticRegression\n",
    "from sklearn.feature_selection import SelectFromModel\n",
    "from sklearn.metrics import classification_report\n",
    "from sklearn.svm import LinearSVC\n",
    "from sklearn.model_selection import train_test_split\n",
    "from sklearn.model_selection import StratifiedKFold, GridSearchCV\n",
    "from sklearn.pipeline import Pipeline\n",
    "import matplotlib.pyplot as plt\n",
    "import seaborn\n",
    "%matplotlib inline\n",
    "import warnings\n",
    "warnings.simplefilter(action='ignore', category=FutureWarning)"
   ]
  },
  {
   "cell_type": "code",
   "execution_count": 3,
   "id": "e5607393",
   "metadata": {},
   "outputs": [],
   "source": [
    "RANDOM_SEED = 697"
   ]
  },
  {
   "cell_type": "markdown",
   "id": "e8be26b6",
   "metadata": {},
   "source": [
    "# Loading the Davidson et al. Dataset to Train the Classifier"
   ]
  },
  {
   "cell_type": "code",
   "execution_count": 4,
   "id": "0e195fef",
   "metadata": {},
   "outputs": [
    {
     "data": {
      "text/plain": [
       "<AxesSubplot:>"
      ]
     },
     "execution_count": 4,
     "metadata": {},
     "output_type": "execute_result"
    },
    {
     "data": {
      "image/png": "[encoded data removed]",
      "text/plain": [
       "<Figure size 432x288 with 1 Axes>"
      ]
     },
     "metadata": {
      "needs_background": "light"
     },
     "output_type": "display_data"
    }
   ],
   "source": [
    "df = pd.read_csv(\"labeled_data.csv\")\n",
    "df['class'].hist()"
   ]
  },
  {
   "cell_type": "code",
   "execution_count": 5,
   "id": "bd826b15",
   "metadata": {},
   "outputs": [
    {
     "data": {
      "text/plain": [
       "24783"
      ]
     },
     "execution_count": 5,
     "metadata": {},
     "output_type": "execute_result"
    }
   ],
   "source": [
    "tweets=df.tweet\n",
    "len(tweets)"
   ]
  },
  {
   "cell_type": "markdown",
   "id": "e674bd5d",
   "metadata": {},
   "source": [
    "# Feature generation for the Davidson et al. Twitter Dataset"
   ]
  },
  {
   "cell_type": "markdown",
   "id": "c2156484",
   "metadata": {},
   "source": [
    "# Part 1 - Preprocess, Tokenize and TF-IDF Vectorization"
   ]
  },
  {
   "cell_type": "code",
   "execution_count": 6,
   "id": "d0b7d971",
   "metadata": {},
   "outputs": [
    {
     "name": "stderr",
     "output_type": "stream",
     "text": [
      "/Users/cdallago/opt/anaconda3/lib/python3.8/site-packages/sklearn/feature_extraction/text.py:388: UserWarning: Your stop_words may be inconsistent with your preprocessing. Tokenizing the stop words generated tokens ['abov', 'ani', 'becaus', 'befor', 'doe', 'dure', 'ha', 'hi', 'onc', 'onli', 'ourselv', 'themselv', 'thi', 'veri', 'wa', 'whi', 'yourselv'] not in stop_words.\n",
      "  warnings.warn('Your stop_words may be inconsistent with '\n"
     ]
    }
   ],
   "source": [
    "stopwords=nltk.corpus.stopwords.words(\"english\")\n",
    "\n",
    "'''These exclusions have been...excluded because they are irrelevent to Reddit'''\n",
    "# other_exclusions = [\"#ff\", \"ff\", \"rt\"]\n",
    "# stopwords.extend(other_exclusions)\n",
    "\n",
    "stemmer = PorterStemmer()\n",
    "\n",
    "def preprocess(text_string):\n",
    "    \"\"\"\n",
    "    Accepts a text string and replaces:\n",
    "    1) urls with URLHERE\n",
    "    2) lots of whitespace with one instance\n",
    "    3) mentions with MENTIONHERE\n",
    "\n",
    "    This allows us to get standardized counts of urls and mentions\n",
    "    Without caring about specific people mentioned\n",
    "    \"\"\"\n",
    "    space_pattern = '\\s+'\n",
    "    giant_url_regex = ('http[s]?://(?:[a-zA-Z]|[0-9]|[$-_@.&+]|'\n",
    "        '[!*\\(\\),]|(?:%[0-9a-fA-F][0-9a-fA-F]))+')\n",
    "    mention_regex = '@[\\w\\-]+'\n",
    "    parsed_text = re.sub(space_pattern, ' ', text_string)\n",
    "    parsed_text = re.sub(giant_url_regex, '', parsed_text)\n",
    "    parsed_text = re.sub(mention_regex, '', parsed_text)\n",
    "    return parsed_text\n",
    "\n",
    "def tokenize(tweet):\n",
    "    \"\"\"Removes punctuation & excess whitespace, sets to lowercase,\n",
    "    and stems tweets. Returns a list of stemmed tokens.\"\"\"\n",
    "    \n",
    "    '''ORIGINAL CODE UPDATED: A bug in the original code was update here,\n",
    "    tweet = \" \".join(re.split(\"[^a-zA-Z]*\", tweet.lower())).strip() was changed to\n",
    "    tweet = \" \".join(re.split(\"[^a-zA-Z]+\", tweet.lower())).strip()'''\n",
    "    \n",
    "    tweet = \" \".join(re.split(\"[^a-zA-Z]+\", tweet.lower())).strip()\n",
    "    tokens = [stemmer.stem(t) for t in tweet.split()]\n",
    "    return tokens\n",
    "\n",
    "def basic_tokenize(tweet):\n",
    "    \"\"\"Same as tokenize but without the stemming\"\"\"\n",
    "    \n",
    "    '''ORIGINAL CODE UPDATED: A bug in the original code was update here,\n",
    "    tweet = \" \".join(re.split(\"[^a-zA-Z.,!?]*\", tweet.lower())).strip() was changed to\n",
    "    tweet = \" \".join(re.split(\"[^a-zA-Z.,!?]+\", tweet.lower())).strip()'''\n",
    "    \n",
    "    tweet = \" \".join(re.split(\"[^a-zA-Z.,!?]+\", tweet.lower())).strip()\n",
    "    return tweet.split()\n",
    "\n",
    "vectorizer = TfidfVectorizer(\n",
    "    tokenizer=tokenize,\n",
    "    preprocessor=preprocess,\n",
    "    ngram_range=(1, 3),\n",
    "    stop_words=stopwords,\n",
    "    use_idf=True,\n",
    "    smooth_idf=False,\n",
    "    norm=None,\n",
    "    decode_error='replace',\n",
    "    max_features=10000,\n",
    "    min_df=5,\n",
    "    max_df=0.75\n",
    "    )\n",
    "\n",
    "#Construct tfidf matrix and get relevant scores\n",
    "tfidf = vectorizer.fit_transform(tweets).toarray()\n",
    "vocab = {v:i for i, v in enumerate(vectorizer.get_feature_names())}\n",
    "idf_vals = vectorizer.idf_\n",
    "idf_dict = {i:idf_vals[i] for i in vocab.values()} #keys are indices; values are IDF scores"
   ]
  },
  {
   "cell_type": "markdown",
   "id": "d580d4e7",
   "metadata": {},
   "source": [
    "# Part 2 - POS Tagging"
   ]
  },
  {
   "cell_type": "code",
   "execution_count": 7,
   "id": "818141c8",
   "metadata": {},
   "outputs": [],
   "source": [
    "#Get POS tags for tweets and save as a string\n",
    "tweet_tags = []\n",
    "for t in tweets:\n",
    "    tokens = basic_tokenize(preprocess(t))\n",
    "    tags = nltk.pos_tag(tokens)\n",
    "    tag_list = [x[1] for x in tags]\n",
    "    tag_str = \" \".join(tag_list)\n",
    "    tweet_tags.append(tag_str)\n",
    "    \n",
    "#We can use the TFIDF vectorizer to get a token matrix for the POS tags\n",
    "pos_vectorizer = TfidfVectorizer(\n",
    "    tokenizer=None,\n",
    "    lowercase=False,\n",
    "    preprocessor=None,\n",
    "    ngram_range=(1, 3),\n",
    "    stop_words=None,\n",
    "    use_idf=False,\n",
    "    smooth_idf=False,\n",
    "    norm=None,\n",
    "    decode_error='replace',\n",
    "    max_features=5000,\n",
    "    min_df=5,\n",
    "    max_df=0.75,\n",
    "    )\n",
    "\n",
    "#Construct POS TF matrix and get vocab dict\n",
    "pos = pos_vectorizer.fit_transform(pd.Series(tweet_tags)).toarray()\n",
    "pos_vocab = {v:i for i, v in enumerate(pos_vectorizer.get_feature_names())}"
   ]
  },
  {
   "cell_type": "markdown",
   "id": "811b2758",
   "metadata": {},
   "source": [
    "# Part 3 - Sentiment Analysis and Text & Readability Scores"
   ]
  },
  {
   "cell_type": "code",
   "execution_count": 8,
   "id": "268e1010",
   "metadata": {},
   "outputs": [],
   "source": [
    "#Finally we get sentiment analysis and other features\n",
    "sentiment_analyzer = VS()\n",
    "\n",
    "def count_twitter_objs(text_string):\n",
    "    \"\"\"\n",
    "    Accepts a text string and replaces:\n",
    "    1) urls with URLHERE\n",
    "    2) lots of whitespace with one instance\n",
    "    3) mentions with MENTIONHERE\n",
    "    4) hashtags with HASHTAGHERE\n",
    "\n",
    "    This allows us to get standardized counts of urls and mentions\n",
    "    Without caring about specific people mentioned.\n",
    "    \n",
    "    Returns counts of urls, mentions, and hashtags.\n",
    "    \"\"\"\n",
    "    space_pattern = '\\s+'\n",
    "    giant_url_regex = ('http[s]?://(?:[a-zA-Z]|[0-9]|[$-_@.&+]|'\n",
    "        '[!*\\(\\),]|(?:%[0-9a-fA-F][0-9a-fA-F]))+')\n",
    "    mention_regex = '@[\\w\\-]+'\n",
    "    hashtag_regex = '#[\\w\\-]+'\n",
    "    parsed_text = re.sub(space_pattern, ' ', text_string)\n",
    "    parsed_text = re.sub(giant_url_regex, 'URLHERE', parsed_text)\n",
    "    parsed_text = re.sub(mention_regex, 'MENTIONHERE', parsed_text)\n",
    "    parsed_text = re.sub(hashtag_regex, 'HASHTAGHERE', parsed_text)\n",
    "    return(parsed_text.count('URLHERE'),parsed_text.count('MENTIONHERE'),parsed_text.count('HASHTAGHERE'))\n",
    "\n",
    "def other_features(tweet):\n",
    "    \"\"\"This function takes a string and returns a list of features.\n",
    "    These include Sentiment scores, Text and Readability scores,\n",
    "    as well as Twitter specific features\"\"\"\n",
    "    sentiment = sentiment_analyzer.polarity_scores(tweet) #Sentiment analysis\n",
    "    \n",
    "    words = preprocess(tweet) #Get text only\n",
    "    \n",
    "    # Text and Readability feature scores \n",
    "    syllables = textstat.syllable_count(words)\n",
    "    num_chars = sum(len(w) for w in words)\n",
    "    num_chars_total = len(tweet)\n",
    "    num_terms = len(tweet.split())\n",
    "    num_words = len(words.split())\n",
    "    avg_syl = round(float((syllables+0.001))/float(num_words+0.001),4)\n",
    "    num_unique_terms = len(set(words.split()))\n",
    "    \n",
    "    ###Modified FK grade, where avg words per sentence is just num words/1\n",
    "    FKRA = round(float(0.39 * float(num_words)/1.0) + float(11.8 * avg_syl) - 15.59,1)\n",
    "    ##Modified FRE score, where sentence fixed to 1\n",
    "    FRE = round(206.835 - 1.015*(float(num_words)/1.0) - (84.6*float(avg_syl)),2)\n",
    "    \n",
    "    '''The Twitter-specific features are preserved as they include urls and hashtags,\n",
    "    however, retweets were excluded as they are irrelevent to Reddit posts'''\n",
    "    twitter_objs = count_twitter_objs(tweet)\n",
    "    # retweet = 0\n",
    "    # if \"rt\" in words:\n",
    "        # retweet = 1\n",
    "        \n",
    "    features = [FKRA, FRE,syllables, avg_syl, num_chars, num_chars_total, num_terms, num_words,\n",
    "                num_unique_terms, sentiment['neg'], sentiment['pos'], sentiment['neu'], sentiment['compound'],\n",
    "                twitter_objs[2], twitter_objs[1],\n",
    "                twitter_objs[0]] # retweets excluded from the original features\n",
    "    \n",
    "    return features\n",
    "\n",
    "def get_feature_array(tweets):\n",
    "    feats=[]\n",
    "    for t in tweets:\n",
    "        feats.append(other_features(t))\n",
    "    return np.array(feats)\n",
    "\n",
    "other_features_names = [\"FKRA\", \"FRE\",\"num_syllables\", \"avg_syl_per_word\", \"num_chars\", \"num_chars_total\", \\\n",
    "                        \"num_terms\", \"num_words\", \"num_unique_words\", \"vader neg\",\"vader pos\",\"vader neu\", \\\n",
    "                        \"vader compound\", \"num_hashtags\", \"num_mentions\", \"num_urls\"]\n",
    "\n",
    "feats = get_feature_array(tweets)"
   ]
  },
  {
   "cell_type": "code",
   "execution_count": 9,
   "id": "a5d4f20b",
   "metadata": {},
   "outputs": [
    {
     "data": {
      "text/plain": [
       "(24783, 11550)"
      ]
     },
     "execution_count": 9,
     "metadata": {},
     "output_type": "execute_result"
    }
   ],
   "source": [
    "#Now join them all up to create the final matrix\n",
    "M = np.concatenate([tfidf,pos,feats],axis=1)\n",
    "M.shape"
   ]
  },
  {
   "cell_type": "code",
   "execution_count": 10,
   "id": "162b4abd",
   "metadata": {},
   "outputs": [],
   "source": [
    "'''These feature names are unnecessary for running the model but allow us to better \n",
    "visualize the features.'''\n",
    "\n",
    "# Finally get a list of variable names\n",
    "variables = ['']*len(vocab)\n",
    "for k,v in vocab.items():\n",
    "    variables[v] = k\n",
    "\n",
    "pos_variables = ['']*len(pos_vocab)\n",
    "for k,v in pos_vocab.items():\n",
    "    pos_variables[v] = k\n",
    "\n",
    "feature_names = variables+pos_variables+other_features_names"
   ]
  },
  {
   "cell_type": "markdown",
   "id": "733e5640",
   "metadata": {},
   "source": [
    "# Running the model\n",
    "\n",
    "The best model was selected using a GridSearch with 5-fold CV."
   ]
  },
  {
   "cell_type": "code",
   "execution_count": 11,
   "id": "96a31a81",
   "metadata": {},
   "outputs": [],
   "source": [
    "X = pd.DataFrame(M)\n",
    "y = df['class'].astype(int)\n",
    "\n",
    "'''ORIGINAL CODE UPDATED:\n",
    "random_state=42 was changed to random_state=RANDOM_SEED, and\n",
    "test_size=0.1 was changed to test_size=0.3'''\n",
    "\n",
    "X_train, X_test, y_train, y_test = train_test_split(X, y, random_state=RANDOM_SEED, test_size=0.3)"
   ]
  },
  {
   "cell_type": "code",
   "execution_count": 12,
   "id": "ff53796e",
   "metadata": {},
   "outputs": [],
   "source": [
    "'''The model uses a multi-class classifier with 5-fold cross-validation to predict the \n",
    "class labels.  It uses logistic regression with an L1 penalty to select the best features \n",
    "and reduce dimensionality, and L2 regularization to predict the class in the final model. \n",
    "Davidson et al. tested a variety of models including: logistic regression, naıve Bayes, \n",
    "decision trees, random forests, and linear SVMs, and found that logistic regression and \n",
    "linear SVMs performed similarly with the highest accuracy after using grid-search to \n",
    "iterate over the models and parameters. “A separate classifier is then trained for each \n",
    "class and the class label with the highest predicted probability across all classifiers is \n",
    "assigned to each tweet.”'''\n",
    "\n",
    "\n",
    "'''ORIGINAL CODE UPDATED:\n",
    "solver='liblinear', was added to the Logistic Regression parameters.'''\n",
    "\n",
    "pipe = Pipeline(\n",
    "        [('select', SelectFromModel(LogisticRegression(class_weight='balanced',\n",
    "                                                  penalty=\"l1\", C=0.01, solver='liblinear'))),\n",
    "        ('model', LogisticRegression(class_weight='balanced',penalty='l2', solver='liblinear'))])\n",
    "\n",
    "param_grid = [{}] # Optionally add parameters here\n",
    "\n",
    "'''ORIGINAL CODE UPDATED: \n",
    "shuffle=True, was added to the StratifiedKFold parameters,\n",
    "random_state=42 was changed to random_state=RANDOM_SEED'''\n",
    "\n",
    "grid_search = GridSearchCV(pipe, \n",
    "                           param_grid,\n",
    "                           cv=StratifiedKFold(n_splits=5,\n",
    "                                              shuffle=True,\n",
    "                                              random_state=RANDOM_SEED).split(X_train, y_train), \n",
    "                           verbose=2)"
   ]
  },
  {
   "cell_type": "code",
   "execution_count": 13,
   "id": "7526701f",
   "metadata": {},
   "outputs": [
    {
     "name": "stdout",
     "output_type": "stream",
     "text": [
      "Fitting 5 folds for each of 1 candidates, totalling 5 fits\n",
      "[CV] END .................................................... total time=   4.8s\n",
      "[CV] END .................................................... total time=   4.4s\n",
      "[CV] END .................................................... total time=   4.9s\n",
      "[CV] END .................................................... total time=   4.5s\n",
      "[CV] END .................................................... total time=   4.5s\n"
     ]
    }
   ],
   "source": [
    "model = grid_search.fit(X_train, y_train)"
   ]
  },
  {
   "cell_type": "code",
   "execution_count": 14,
   "id": "b60a6852",
   "metadata": {},
   "outputs": [],
   "source": [
    "y_preds = model.predict(X_test)"
   ]
  },
  {
   "cell_type": "markdown",
   "id": "861314aa",
   "metadata": {},
   "source": [
    "# Evaluating the Davidson et al. Results"
   ]
  },
  {
   "cell_type": "code",
   "execution_count": 15,
   "id": "10d8da8f",
   "metadata": {},
   "outputs": [],
   "source": [
    "report = classification_report( y_test, y_preds )"
   ]
  },
  {
   "cell_type": "code",
   "execution_count": 16,
   "id": "75d07325",
   "metadata": {},
   "outputs": [
    {
     "name": "stdout",
     "output_type": "stream",
     "text": [
      "              precision    recall  f1-score   support\n",
      "\n",
      "           0       0.43      0.58      0.49       438\n",
      "           1       0.97      0.91      0.94      5741\n",
      "           2       0.83      0.95      0.89      1256\n",
      "\n",
      "    accuracy                           0.90      7435\n",
      "   macro avg       0.74      0.81      0.77      7435\n",
      "weighted avg       0.91      0.90      0.90      7435\n",
      "\n"
     ]
    }
   ],
   "source": [
    "print(report)\n",
    "# Davidson Twitter Dataset"
   ]
  },
  {
   "cell_type": "code",
   "execution_count": 17,
   "id": "97094500",
   "metadata": {},
   "outputs": [
    {
     "data": {
      "image/png": "[encoded data removed]",
      "text/plain": [
       "<Figure size 360x360 with 1 Axes>"
      ]
     },
     "metadata": {
      "needs_background": "light"
     },
     "output_type": "display_data"
    }
   ],
   "source": [
    "'''In their analysis, Davidson et al. write that, “far fewer tweets are classified as more \n",
    "offensive or hateful than their true category...suggesting that the model is biased towards \n",
    "classifying tweets as less hateful or offensive than the human coders.”\n",
    "'''\n",
    "\n",
    "from sklearn.metrics import confusion_matrix\n",
    "confusion_matrix = confusion_matrix(y_test,y_preds)\n",
    "matrix_proportions = np.zeros((3,3))\n",
    "for i in range(0,3):\n",
    "    matrix_proportions[i,:] = confusion_matrix[i,:]/float(confusion_matrix[i,:].sum())\n",
    "names=['Hate','Offensive','Neither']\n",
    "confusion_df = pd.DataFrame(matrix_proportions, index=names,columns=names)\n",
    "plt.figure(figsize=(5,5))\n",
    "seaborn.heatmap(confusion_df,annot=True,annot_kws={\"size\": 12},cmap='gist_gray_r',cbar=False, square=True,fmt='.2f')\n",
    "plt.ylabel(r'True categories',fontsize=14)\n",
    "plt.xlabel(r'Predicted categories',fontsize=14)\n",
    "plt.tick_params(labelsize=12)\n",
    "\n",
    "#Uncomment line below if you want to save the output\n",
    "#plt.savefig('confusion.pdf')"
   ]
  },
  {
   "cell_type": "code",
   "execution_count": 18,
   "id": "a309ee1f",
   "metadata": {},
   "outputs": [
    {
     "data": {
      "text/plain": [
       "<AxesSubplot:>"
      ]
     },
     "execution_count": 18,
     "metadata": {},
     "output_type": "execute_result"
    },
    {
     "data": {
      "image/png": "[encoded data removed]",
      "text/plain": [
       "<Figure size 432x288 with 1 Axes>"
      ]
     },
     "metadata": {
      "needs_background": "light"
     },
     "output_type": "display_data"
    }
   ],
   "source": [
    "#True distribution\n",
    "y.hist()"
   ]
  },
  {
   "cell_type": "code",
   "execution_count": 19,
   "id": "2f4340a1",
   "metadata": {},
   "outputs": [
    {
     "data": {
      "text/plain": [
       "<AxesSubplot:>"
      ]
     },
     "execution_count": 19,
     "metadata": {},
     "output_type": "execute_result"
    },
    {
     "data": {
      "image/png": "[encoded data removed]",
      "text/plain": [
       "<Figure size 432x288 with 1 Axes>"
      ]
     },
     "metadata": {
      "needs_background": "light"
     },
     "output_type": "display_data"
    }
   ],
   "source": [
    "#Predicted distribution\n",
    "pd.Series(y_preds).hist()"
   ]
  },
  {
   "cell_type": "markdown",
   "id": "798edf75",
   "metadata": {},
   "source": [
    "# Vectorize and transform the Reddit Comments Data to apply the classifier"
   ]
  },
  {
   "cell_type": "code",
   "execution_count": 20,
   "id": "16d8b500",
   "metadata": {},
   "outputs": [],
   "source": [
    "comments_df = pd.read_csv('comments_df.csv')\n",
    "comments = comments_df.body"
   ]
  },
  {
   "cell_type": "code",
   "execution_count": 21,
   "id": "40cc0207",
   "metadata": {},
   "outputs": [
    {
     "data": {
      "text/plain": [
       "(273461, 11550)"
      ]
     },
     "execution_count": 21,
     "metadata": {},
     "output_type": "execute_result"
    }
   ],
   "source": [
    "'''This block of code takes a while to run, as it performs all three steps of feature\n",
    "extraction.'''\n",
    "\n",
    "# Using the same methods as above, we construct a tfidf matrix using the vectorizer \n",
    "# and get relevant scores.\n",
    "\n",
    "vectorizer.fit_transform(tweets).toarray()\n",
    "comments_tfidf = vectorizer.transform(comments).toarray()\n",
    "comments_vocab = {v:i for i, v in enumerate(vectorizer.get_feature_names())}\n",
    "comments_idf_vals = vectorizer.idf_\n",
    "comments_idf_dict = {i:idf_vals[i] for i in vocab.values()} #keys are indices; values are IDF scores\n",
    "\n",
    "# Similarly we tokenize the comments to get the POS tags\n",
    "comment_tags = []\n",
    "for t in comments:\n",
    "    tokens = basic_tokenize(preprocess(t))\n",
    "    tags = nltk.pos_tag(tokens)\n",
    "    tag_list = [x[1] for x in tags]\n",
    "    tag_str = \" \".join(tag_list)\n",
    "    comment_tags.append(tag_str)\n",
    "\n",
    "# Then construct a POS TF matrix using the pos_vectorizer from above, resulting in \n",
    "# a vocab dictionary\n",
    "\n",
    "pos_vectorizer.fit_transform(pd.Series(tweet_tags)).toarray()\n",
    "comments_pos = pos_vectorizer.transform(pd.Series(comment_tags)).toarray()\n",
    "comments_pos_vocab = {v:i for i, v in enumerate(pos_vectorizer.get_feature_names())}\n",
    "\n",
    "# Finally we get the sentiment and other features\n",
    "comments_feats = get_feature_array(comments)\n",
    "\n",
    "# Join them up as above, and check to make sure each row is of the same length as in the\n",
    "# Davidson et al. dataset so that the model will run\n",
    "comments_M = np.concatenate([comments_tfidf,comments_pos,comments_feats],axis=1)\n",
    "comments_M.shape"
   ]
  },
  {
   "cell_type": "code",
   "execution_count": 180,
   "id": "159c5994",
   "metadata": {},
   "outputs": [],
   "source": [
    "'''Again, this is unnecessary for running the model but allows us to better visualize the\n",
    "features.'''\n",
    "\n",
    "#Finally get a list of variable names\n",
    "comments_variables = ['']*len(comments_vocab)\n",
    "for k,v in comments_vocab.items():\n",
    "    comments_variables[v] = k\n",
    "\n",
    "comments_pos_variables = ['']*len(comments_pos_vocab)\n",
    "for k,v in comments_pos_vocab.items():\n",
    "    comments_pos_variables[v] = k\n",
    "\n",
    "comments_feature_names = comments_variables+comments_pos_variables+other_features_names\n",
    "# comments_feature_names"
   ]
  },
  {
   "cell_type": "markdown",
   "id": "ac89c33c",
   "metadata": {},
   "source": [
    "# Using the Model to Predict Reddit Labels"
   ]
  },
  {
   "cell_type": "code",
   "execution_count": 24,
   "id": "dd5fc778",
   "metadata": {},
   "outputs": [],
   "source": [
    "comment_labels = model.predict(comments_M)"
   ]
  },
  {
   "cell_type": "code",
   "execution_count": 178,
   "id": "97543e5a",
   "metadata": {},
   "outputs": [],
   "source": [
    "# Add the labels back into the original comments dataset\n",
    "comments_df['label'] = comment_labels"
   ]
  },
  {
   "cell_type": "code",
   "execution_count": 30,
   "id": "2064037b",
   "metadata": {},
   "outputs": [
    {
     "data": {
      "text/plain": [
       "<AxesSubplot:>"
      ]
     },
     "execution_count": 30,
     "metadata": {},
     "output_type": "execute_result"
    },
    {
     "data": {
      "image/png": "[encoded data removed]",
      "text/plain": [
       "<Figure size 432x288 with 1 Axes>"
      ]
     },
     "metadata": {
      "needs_background": "light"
     },
     "output_type": "display_data"
    }
   ],
   "source": [
    "'''We see a somewhat similar distribution to the Davidson et al. results, in that the most \n",
    "comments classified as offensive and the least classified as hate, however our results \n",
    "contain far more comments classified as neither.\n",
    "As mentioned by Davidson et al., the model appears to be biased towards classifying tweets \n",
    "as less hateful or offensive than a human coder would.\n",
    "'''\n",
    "\n",
    "# Distribution of Reddit dataset\n",
    "comments_df['label'].hist()\n"
   ]
  },
  {
   "cell_type": "code",
   "execution_count": 201,
   "id": "92477e1b",
   "metadata": {},
   "outputs": [
    {
     "name": "stdout",
     "output_type": "stream",
     "text": [
      "Total comments cut:  64917\n",
      "Hate comments cut:  13125\n",
      "Offensive comments cut:  13289\n",
      "Neither comments cut:  38503\n"
     ]
    },
    {
     "data": {
      "text/plain": [
       "<AxesSubplot:>"
      ]
     },
     "execution_count": 201,
     "metadata": {},
     "output_type": "execute_result"
    },
    {
     "data": {
      "image/png": "[encoded data removed]",
      "text/plain": [
       "<Figure size 432x288 with 1 Axes>"
      ]
     },
     "metadata": {
      "needs_background": "light"
     },
     "output_type": "display_data"
    }
   ],
   "source": [
    "'''Dropping duplicates and comments with links or the phrase \"I am a bot\" shows that a\n",
    "majority of those posts had been classified as neither. There also seem to be a number of\n",
    "Swedish posts (<100) in the \"neither\" category, and I am working on a comprehensive way to\n",
    "delete those.'''\n",
    "\n",
    "cleaned_df = comments_df.copy()\n",
    "cleaned_df.drop(cleaned_df[cleaned_df.body.str.contains('I am a bot') == True].index, inplace=True)\n",
    "cleaned_df.drop(cleaned_df[cleaned_df.body.str.contains('http') == True].index, inplace=True)\n",
    "cleaned_df = cleaned_df.drop_duplicates(subset=['body'])\n",
    "print('Total comments cut: ',len(comments_df)-len(cleaned_df))\n",
    "print('Hate comments cut: ',len(comments_df[comments_df.label == 0])-len(cleaned_df[cleaned_df.label == 0]))\n",
    "print('Offensive comments cut: ',len(comments_df[comments_df.label == 1])-len(cleaned_df[cleaned_df.label == 1]))\n",
    "print('Neither comments cut: ',len(comments_df[comments_df.label == 2])-len(cleaned_df[cleaned_df.label == 2]))\n",
    "cleaned_df['label'].hist()\n"
   ]
  },
  {
   "cell_type": "code",
   "execution_count": null,
   "id": "069c83e9",
   "metadata": {},
   "outputs": [],
   "source": [
    "'''Something to note going forward is that comments using the word \"slut\" overwhelmingly \n",
    "appear in the neither category, with many instances using the term in a way that could be \n",
    "considered either hateful or offensive. In total the word appears >50,000 times in this \n",
    "category, and while some instances may considered more benign (ie. \"slut-shaming\"), it may \n",
    "be of importance for further analysis.'''"
   ]
  },
  {
   "cell_type": "code",
   "execution_count": 177,
   "id": "703c4435",
   "metadata": {},
   "outputs": [],
   "source": [
    "'''Uncomment to create a CSV of the raw comments dataset with labels.'''\n",
    "# comments_df.to_csv('comments_df_labeled.csv')"
   ]
  },
  {
   "cell_type": "code",
   "execution_count": null,
   "id": "f247790b",
   "metadata": {},
   "outputs": [],
   "source": [
    "'''Uncomment to create a CSV of the cleaned comments dataset with labels.'''\n",
    "# cleaned_df.to_csv('comments_df_labeled_cleaned.csv')"
   ]
  }
 ],
 "metadata": {
  "kernelspec": {
   "display_name": "Python 3",
   "language": "python",
   "name": "python3"
  },
  "language_info": {
   "codemirror_mode": {
    "name": "ipython",
    "version": 3
   },
   "file_extension": ".py",
   "mimetype": "text/x-python",
   "name": "python",
   "nbconvert_exporter": "python",
   "pygments_lexer": "ipython3",
   "version": "3.8.8"
  }
 },
 "nbformat": 4,
 "nbformat_minor": 5
}

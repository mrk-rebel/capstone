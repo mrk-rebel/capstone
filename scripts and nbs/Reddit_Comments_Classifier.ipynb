{
 "cells": [
  {
   "cell_type": "markdown",
   "id": "fde8e73b",
   "metadata": {},
   "source": [
    "# Reddit Comments Classification"
   ]
  },
  {
   "cell_type": "markdown",
   "id": "eb417007",
   "metadata": {},
   "source": [
    "In order to predict class labels for the comments we collected from Reddit, we chose to base our classifier on the Twitter classifier made public by Davidson et al., which was used in their research for the automatic hate-speech detection of Twitter posts. \n",
    "\n",
    "Beginning with the initial dataset of Twitter posts compiled by Davidson et al., which were labeled through crowd-sourcing as hate speech (0), offensive speech (1) or neither hate speech nor offensive speech (2), we extract features from the Twitter posts and train a logistic regression model to predict the class label of the posts.\n",
    "\n",
    "We then apply the same feature extraction techniques to our dataset consisting of Reddit comments, along with the logistic regression model to predict class labels for our own data.\n",
    "\n",
    "The complete Davidson et al. dataset can be found at https://github.com/t-davidson/hate-speech-and-offensive-language.\n",
    "\n",
    "Davidson, Thomas et al. 2017. Automated Hate Speech Detection and the Problem of Offensive Language. Proceedings of the Eleventh International AAAI Conference on Web and Social Media. In ICWSM, 512-515.\n",
    "\n",
    "@inproceedings{hateoffensive,\n",
    "  title = {Automated Hate Speech Detection and the Problem of Offensive Language},\n",
    "  author = {Davidson, Thomas and Warmsley, Dana and Macy, Michael and Weber, Ingmar}, \n",
    "  booktitle = {Proceedings of the 11th International AAAI Conference on Web and Social Media},\n",
    "  series = {ICWSM '17},\n",
    "  year = {2017},\n",
    "  location = {Montreal, Canada},\n",
    "  pages = {512-515}\n",
    "  }"
   ]
  },
  {
   "cell_type": "code",
   "execution_count": 7,
   "id": "7e077ea0",
   "metadata": {},
   "outputs": [],
   "source": [
    "import pandas as pd\n",
    "import numpy as np\n",
    "import pickle\n",
    "import sys\n",
    "from sklearn.feature_extraction.text import TfidfVectorizer\n",
    "import nltk\n",
    "from nltk.stem.porter import *\n",
    "import string\n",
    "import re\n",
    "from vaderSentiment.vaderSentiment import SentimentIntensityAnalyzer as VS\n",
    "from textstat.textstat import *\n",
    "from sklearn.linear_model import LogisticRegression\n",
    "from sklearn.feature_selection import SelectFromModel\n",
    "from sklearn.metrics import classification_report\n",
    "from sklearn.svm import LinearSVC\n",
    "from sklearn.model_selection import train_test_split\n",
    "from sklearn.pipeline import Pipeline\n",
    "import matplotlib.pyplot as plt\n",
    "import seaborn\n",
    "%matplotlib inline\n",
    "import warnings\n",
    "warnings.simplefilter(action='ignore', category=FutureWarning)"
   ]
  },
  {
   "cell_type": "code",
   "execution_count": 8,
   "id": "73bd6e0c",
   "metadata": {},
   "outputs": [],
   "source": [
    "RANDOM_SEED = 697"
   ]
  },
  {
   "cell_type": "markdown",
   "id": "7480186b",
   "metadata": {},
   "source": [
    "# Loading the Davidson et al. Twitter Dataset to Train the Classifier"
   ]
  },
  {
   "cell_type": "code",
   "execution_count": 26,
   "id": "5c5dd6dd",
   "metadata": {},
   "outputs": [
    {
     "data": {
      "text/plain": [
       "<AxesSubplot:>"
      ]
     },
     "execution_count": 26,
     "metadata": {},
     "output_type": "execute_result"
    },
    {
     "data": {
      "image/png": "[encoded data removed]",
      "text/plain": [
       "<Figure size 432x288 with 1 Axes>"
      ]
     },
     "metadata": {
      "needs_background": "light"
     },
     "output_type": "display_data"
    }
   ],
   "source": [
    "twitter_df = pd.read_csv('Davidson_data.csv')\n",
    "twitter_df['class'].hist()"
   ]
  },
  {
   "cell_type": "code",
   "execution_count": 28,
   "id": "b732596e",
   "metadata": {},
   "outputs": [
    {
     "data": {
      "text/plain": [
       "24783"
      ]
     },
     "execution_count": 28,
     "metadata": {},
     "output_type": "execute_result"
    }
   ],
   "source": [
    "tweets=twitter_df.tweet\n",
    "len(tweets)"
   ]
  },
  {
   "cell_type": "markdown",
   "id": "d560fe6e",
   "metadata": {},
   "source": [
    "# Feature Generation for the Davidson et al. Twitter Dataset"
   ]
  },
  {
   "cell_type": "markdown",
   "id": "20898aec",
   "metadata": {},
   "source": [
    "# Part 1 - Preprocess, Tokenize and TF-IDF Vectorization"
   ]
  },
  {
   "cell_type": "code",
   "execution_count": 29,
   "id": "8bf95bc7",
   "metadata": {},
   "outputs": [
    {
     "name": "stderr",
     "output_type": "stream",
     "text": [
      "/Users/cdallago/opt/anaconda3/lib/python3.8/site-packages/sklearn/feature_extraction/text.py:388: UserWarning: Your stop_words may be inconsistent with your preprocessing. Tokenizing the stop words generated tokens ['abov', 'ani', 'becaus', 'befor', 'doe', 'dure', 'ha', 'hi', 'onc', 'onli', 'ourselv', 'themselv', 'thi', 'veri', 'wa', 'whi', 'yourselv'] not in stop_words.\n",
      "  warnings.warn('Your stop_words may be inconsistent with '\n"
     ]
    }
   ],
   "source": [
    "stopwords=nltk.corpus.stopwords.words(\"english\")\n",
    "stemmer = PorterStemmer()\n",
    "\n",
    "def preprocess(text_string):\n",
    "    \"\"\"\n",
    "    Accepts a text string and replaces:\n",
    "    1) urls with URLHERE\n",
    "    2) lots of whitespace with one instance\n",
    "    3) mentions with MENTIONHERE\n",
    "\n",
    "    This allows us to get standardized counts of urls and mentions\n",
    "    Without caring about specific people mentioned\n",
    "    \"\"\"\n",
    "    space_pattern = '\\s+'\n",
    "    giant_url_regex = ('http[s]?://(?:[a-zA-Z]|[0-9]|[$-_@.&+]|'\n",
    "        '[!*\\(\\),]|(?:%[0-9a-fA-F][0-9a-fA-F]))+')\n",
    "    mention_regex = '@[\\w\\-]+'\n",
    "    parsed_text = re.sub(space_pattern, ' ', text_string)\n",
    "    parsed_text = re.sub(giant_url_regex, '', parsed_text)\n",
    "    parsed_text = re.sub(mention_regex, '', parsed_text)\n",
    "    return parsed_text\n",
    "\n",
    "def tokenize(tweet):\n",
    "    \"\"\"Removes punctuation & excess whitespace, sets to lowercase,\n",
    "    and stems tweets. Returns a list of stemmed tokens.\"\"\"\n",
    "    \n",
    "    '''ORIGINAL CODE UPDATED: A bug in the original code was updated here,\n",
    "    tweet = \" \".join(re.split(\"[^a-zA-Z]*\", tweet.lower())).strip() was changed to\n",
    "    tweet = \" \".join(re.split(\"[^a-zA-Z]+\", tweet.lower())).strip()'''\n",
    "    \n",
    "    tweet = \" \".join(re.split(\"[^a-zA-Z]+\", tweet.lower())).strip()\n",
    "    tokens = [stemmer.stem(t) for t in tweet.split()]\n",
    "    return tokens\n",
    "\n",
    "def basic_tokenize(tweet):\n",
    "    \"\"\"Same as tokenize but without the stemming\"\"\"\n",
    "    \n",
    "    '''ORIGINAL CODE UPDATED: A bug in the original code was updated here,\n",
    "    tweet = \" \".join(re.split(\"[^a-zA-Z.,!?]*\", tweet.lower())).strip() was changed to\n",
    "    tweet = \" \".join(re.split(\"[^a-zA-Z.,!?]+\", tweet.lower())).strip()'''\n",
    "    \n",
    "    tweet = \" \".join(re.split(\"[^a-zA-Z.,!?]+\", tweet.lower())).strip()\n",
    "    return tweet.split()\n",
    "\n",
    "vectorizer = TfidfVectorizer(\n",
    "    tokenizer=tokenize,\n",
    "    preprocessor=preprocess,\n",
    "    ngram_range=(1, 3),\n",
    "    stop_words=stopwords,\n",
    "    use_idf=True,\n",
    "    smooth_idf=False,\n",
    "    norm=None,\n",
    "    decode_error='replace',\n",
    "    max_features=10000,\n",
    "    min_df=5,\n",
    "    max_df=0.75\n",
    "    )\n",
    "\n",
    "#Construct tfidf matrix and get relevant scores\n",
    "tfidf = vectorizer.fit_transform(tweets).toarray()\n",
    "vocab = {v:i for i, v in enumerate(vectorizer.get_feature_names())}\n",
    "idf_vals = vectorizer.idf_\n",
    "idf_dict = {i:idf_vals[i] for i in vocab.values()} #keys are indices; values are IDF scores"
   ]
  },
  {
   "cell_type": "markdown",
   "id": "461ceaed",
   "metadata": {},
   "source": [
    "# Part 2 - POS Tagging"
   ]
  },
  {
   "cell_type": "code",
   "execution_count": 30,
   "id": "557a627a",
   "metadata": {},
   "outputs": [],
   "source": [
    "#Get POS tags for tweets and save as a string\n",
    "tweet_tags = []\n",
    "for t in tweets:\n",
    "    tokens = basic_tokenize(preprocess(t))\n",
    "    tags = nltk.pos_tag(tokens)\n",
    "    tag_list = [x[1] for x in tags]\n",
    "    tag_str = \" \".join(tag_list)\n",
    "    tweet_tags.append(tag_str)\n",
    "    \n",
    "#We can use the TFIDF vectorizer to get a token matrix for the POS tags\n",
    "pos_vectorizer = TfidfVectorizer(\n",
    "    tokenizer=None,\n",
    "    lowercase=False,\n",
    "    preprocessor=None,\n",
    "    ngram_range=(1, 3),\n",
    "    stop_words=None,\n",
    "    use_idf=False,\n",
    "    smooth_idf=False,\n",
    "    norm=None,\n",
    "    decode_error='replace',\n",
    "    max_features=5000,\n",
    "    min_df=5,\n",
    "    max_df=0.75\n",
    "    )\n",
    "\n",
    "#Construct POS TF matrix and get vocab dict\n",
    "pos = pos_vectorizer.fit_transform(pd.Series(tweet_tags)).toarray()\n",
    "pos_vocab = {v:i for i, v in enumerate(pos_vectorizer.get_feature_names())}"
   ]
  },
  {
   "cell_type": "markdown",
   "id": "1a1f0745",
   "metadata": {},
   "source": [
    "# Part 3 - Sentiment Analysis and Text & Readability Scores"
   ]
  },
  {
   "cell_type": "code",
   "execution_count": 31,
   "id": "473659da",
   "metadata": {},
   "outputs": [],
   "source": [
    "#Finally we get sentiment analysis and other features\n",
    "sentiment_analyzer = VS()\n",
    "\n",
    "def count_twitter_objs(text_string):\n",
    "    \"\"\"\n",
    "    Accepts a text string and replaces:\n",
    "    1) urls with URLHERE\n",
    "    2) lots of whitespace with one instance\n",
    "    3) mentions with MENTIONHERE\n",
    "    4) hashtags with HASHTAGHERE\n",
    "\n",
    "    This allows us to get standardized counts of urls and mentions\n",
    "    Without caring about specific people mentioned.\n",
    "    \n",
    "    Returns counts of urls, mentions, and hashtags.\n",
    "    \"\"\"\n",
    "    space_pattern = '\\s+'\n",
    "    giant_url_regex = ('http[s]?://(?:[a-zA-Z]|[0-9]|[$-_@.&+]|'\n",
    "        '[!*\\(\\),]|(?:%[0-9a-fA-F][0-9a-fA-F]))+')\n",
    "    mention_regex = '@[\\w\\-]+'\n",
    "    hashtag_regex = '#[\\w\\-]+'\n",
    "    parsed_text = re.sub(space_pattern, ' ', text_string)\n",
    "    parsed_text = re.sub(giant_url_regex, 'URLHERE', parsed_text)\n",
    "    parsed_text = re.sub(mention_regex, 'MENTIONHERE', parsed_text)\n",
    "    parsed_text = re.sub(hashtag_regex, 'HASHTAGHERE', parsed_text)\n",
    "    return(parsed_text.count('URLHERE'),parsed_text.count('MENTIONHERE'),parsed_text.count('HASHTAGHERE'))\n",
    "\n",
    "def other_features(tweet):\n",
    "    \"\"\"This function takes a string and returns a list of features.\n",
    "    These include Sentiment scores, Text and Readability scores,\n",
    "    as well as Twitter specific features\"\"\"\n",
    "    sentiment = sentiment_analyzer.polarity_scores(tweet)\n",
    "    words = preprocess(tweet)\n",
    "    \n",
    "    # Text and Readability feature scores \n",
    "    syllables = textstat.syllable_count(words)\n",
    "    num_chars = sum(len(w) for w in words)\n",
    "    num_chars_total = len(tweet)\n",
    "    num_terms = len(tweet.split())\n",
    "    num_words = len(words.split())\n",
    "    avg_syl = round(float((syllables+0.001))/float(num_words+0.001),4)\n",
    "    num_unique_terms = len(set(words.split()))\n",
    "    \n",
    "    ###Modified FK grade, where avg words per sentence is just num words/1\n",
    "    FKRA = round(float(0.39 * float(num_words)/1.0) + float(11.8 * avg_syl) - 15.59,1)\n",
    "    ##Modified FRE score, where sentence fixed to 1\n",
    "    FRE = round(206.835 - 1.015*(float(num_words)/1.0) - (84.6*float(avg_syl)),2)\n",
    "    \n",
    "    twitter_objs = count_twitter_objs(tweet)\n",
    "        \n",
    "    features = [FKRA, FRE,syllables, avg_syl, num_chars, num_chars_total, num_terms, num_words,\n",
    "                num_unique_terms, sentiment['neg'], sentiment['pos'], sentiment['neu'], sentiment['compound'],\n",
    "                twitter_objs[2], twitter_objs[1],\n",
    "                twitter_objs[0]]\n",
    "    \n",
    "    return features\n",
    "\n",
    "def get_feature_array(tweets):\n",
    "    feats=[]\n",
    "    for t in tweets:\n",
    "        feats.append(other_features(t))\n",
    "    return np.array(feats)\n",
    "\n",
    "other_features_names = [\"FKRA\", \"FRE\",\"num_syllables\", \"avg_syl_per_word\", \"num_chars\", \"num_chars_total\", \\\n",
    "                        \"num_terms\", \"num_words\", \"num_unique_words\", \"vader neg\",\"vader pos\",\"vader neu\", \\\n",
    "                        \"vader compound\", \"num_hashtags\", \"num_mentions\", \"num_urls\"]\n",
    "\n",
    "feats = get_feature_array(tweets)"
   ]
  },
  {
   "cell_type": "code",
   "execution_count": 32,
   "id": "b36fe2ab",
   "metadata": {},
   "outputs": [
    {
     "data": {
      "text/plain": [
       "(24783, 11550)"
      ]
     },
     "execution_count": 32,
     "metadata": {},
     "output_type": "execute_result"
    }
   ],
   "source": [
    "#Now join them all up to create the final matrix\n",
    "M = np.concatenate([tfidf,pos,feats],axis=1)\n",
    "M.shape"
   ]
  },
  {
   "cell_type": "code",
   "execution_count": 33,
   "id": "d1a59d54",
   "metadata": {},
   "outputs": [],
   "source": [
    "'''These feature names are unnecessary for running the model but allow us to better \n",
    "visualize the features.'''\n",
    "\n",
    "# Finally get a list of variable names\n",
    "variables = ['']*len(vocab)\n",
    "for k,v in vocab.items():\n",
    "    variables[v] = k\n",
    "\n",
    "pos_variables = ['']*len(pos_vocab)\n",
    "for k,v in pos_vocab.items():\n",
    "    pos_variables[v] = k\n",
    "\n",
    "feature_names = variables+pos_variables+other_features_names"
   ]
  },
  {
   "cell_type": "markdown",
   "id": "7fb725b1",
   "metadata": {},
   "source": [
    "# Running the Model on the Twitter Dataset\n",
    "\n",
    "The best model was selected by Davidson et al. by using a GridSearch with 5-fold CV. It uses logistic regression with an L1 penalty to select the best features and reduce dimensionality, and L2 regularization to predict the class label."
   ]
  },
  {
   "cell_type": "code",
   "execution_count": 34,
   "id": "4dc542e8",
   "metadata": {},
   "outputs": [],
   "source": [
    "X = pd.DataFrame(M)\n",
    "y = twitter_df['class'].astype(int)\n",
    "\n",
    "X_train, X_test, y_train, y_test = train_test_split(X, y, random_state=RANDOM_SEED, test_size=0.3)"
   ]
  },
  {
   "cell_type": "code",
   "execution_count": 35,
   "id": "592631db",
   "metadata": {},
   "outputs": [],
   "source": [
    "pipeline = Pipeline(\n",
    "        [('select', SelectFromModel(LogisticRegression(C=0.01,\n",
    "                                                       class_weight='balanced',\n",
    "                                                       penalty='l1', \n",
    "                                                       solver='liblinear'))),\n",
    "        ('model', LogisticRegression(class_weight='balanced',\n",
    "                                     penalty='l2', \n",
    "                                     solver='liblinear'))])\n"
   ]
  },
  {
   "cell_type": "code",
   "execution_count": 36,
   "id": "adcb6bc4",
   "metadata": {},
   "outputs": [],
   "source": [
    "model = pipeline.fit(X_train, y_train)"
   ]
  },
  {
   "cell_type": "code",
   "execution_count": 37,
   "id": "6d8bae3a",
   "metadata": {},
   "outputs": [],
   "source": [
    "y_preds = model.predict(X_test)"
   ]
  },
  {
   "cell_type": "markdown",
   "id": "411f25db",
   "metadata": {},
   "source": [
    "# Evaluating the Twitter Classification Results"
   ]
  },
  {
   "cell_type": "code",
   "execution_count": 38,
   "id": "6f0f31f0",
   "metadata": {},
   "outputs": [],
   "source": [
    "report = classification_report(y_test, y_preds)"
   ]
  },
  {
   "cell_type": "code",
   "execution_count": 39,
   "id": "9b676378",
   "metadata": {},
   "outputs": [
    {
     "name": "stdout",
     "output_type": "stream",
     "text": [
      "              precision    recall  f1-score   support\n",
      "\n",
      "           0       0.43      0.58      0.49       438\n",
      "           1       0.97      0.91      0.94      5741\n",
      "           2       0.83      0.95      0.89      1256\n",
      "\n",
      "    accuracy                           0.90      7435\n",
      "   macro avg       0.74      0.82      0.77      7435\n",
      "weighted avg       0.91      0.90      0.90      7435\n",
      "\n"
     ]
    }
   ],
   "source": [
    "print(report)"
   ]
  },
  {
   "cell_type": "code",
   "execution_count": 40,
   "id": "2879856e",
   "metadata": {},
   "outputs": [
    {
     "data": {
      "image/png": "[encoded data removed]",
      "text/plain": [
       "<Figure size 360x360 with 1 Axes>"
      ]
     },
     "metadata": {
      "needs_background": "light"
     },
     "output_type": "display_data"
    }
   ],
   "source": [
    "from sklearn.metrics import confusion_matrix\n",
    "confusion_matrix = confusion_matrix(y_test,y_preds)\n",
    "matrix_proportions = np.zeros((3,3))\n",
    "for i in range(0,3):\n",
    "    matrix_proportions[i,:] = confusion_matrix[i,:]/float(confusion_matrix[i,:].sum())\n",
    "names=['Hate','Offensive','Neither']\n",
    "confusion_df = pd.DataFrame(matrix_proportions, index=names,columns=names)\n",
    "plt.figure(figsize=(5,5))\n",
    "seaborn.heatmap(confusion_df,annot=True,annot_kws={\"size\": 12},cmap='gist_gray_r',cbar=False, square=True,fmt='.2f')\n",
    "plt.ylabel(r'True categories',fontsize=14)\n",
    "plt.xlabel(r'Predicted categories',fontsize=14)\n",
    "plt.tick_params(labelsize=12)\n",
    "\n",
    "#Uncomment line below if you want to save the output\n",
    "#plt.savefig('confusion.pdf')"
   ]
  },
  {
   "cell_type": "markdown",
   "id": "02053298",
   "metadata": {},
   "source": [
    "In their analysis, Davidson et al. write that, “far fewer tweets are classified as more \n",
    "offensive or hateful than their true category...suggesting that the model is biased towards \n",
    "classifying tweets as less hateful or offensive than the human coders.”"
   ]
  },
  {
   "cell_type": "code",
   "execution_count": 41,
   "id": "3d378960",
   "metadata": {},
   "outputs": [
    {
     "data": {
      "text/plain": [
       "<AxesSubplot:>"
      ]
     },
     "execution_count": 41,
     "metadata": {},
     "output_type": "execute_result"
    },
    {
     "data": {
      "image/png": "[encoded data removed]",
      "text/plain": [
       "<Figure size 432x288 with 1 Axes>"
      ]
     },
     "metadata": {
      "needs_background": "light"
     },
     "output_type": "display_data"
    }
   ],
   "source": [
    "#True Twitter distribution\n",
    "y.hist()"
   ]
  },
  {
   "cell_type": "code",
   "execution_count": 42,
   "id": "6ca7ceaa",
   "metadata": {},
   "outputs": [
    {
     "data": {
      "text/plain": [
       "<AxesSubplot:>"
      ]
     },
     "execution_count": 42,
     "metadata": {},
     "output_type": "execute_result"
    },
    {
     "data": {
      "image/png": "[encoded data removed]",
      "text/plain": [
       "<Figure size 432x288 with 1 Axes>"
      ]
     },
     "metadata": {
      "needs_background": "light"
     },
     "output_type": "display_data"
    }
   ],
   "source": [
    "#Predicted Twitter distribution\n",
    "pd.Series(y_preds).hist()"
   ]
  },
  {
   "cell_type": "markdown",
   "id": "5b32d4e0",
   "metadata": {},
   "source": [
    "# Load, Vectorize and Transform the Reddit Comments to Apply the Classifier"
   ]
  },
  {
   "cell_type": "code",
   "execution_count": 68,
   "id": "4cc38d35",
   "metadata": {},
   "outputs": [
    {
     "data": {
      "text/plain": [
       "273461"
      ]
     },
     "execution_count": 68,
     "metadata": {},
     "output_type": "execute_result"
    }
   ],
   "source": [
    "comments_df = pd.read_csv('comments_df.csv')\n",
    "comments = comments_df.body\n",
    "len(comments)"
   ]
  },
  {
   "cell_type": "code",
   "execution_count": 44,
   "id": "38c8f1ea",
   "metadata": {},
   "outputs": [
    {
     "name": "stderr",
     "output_type": "stream",
     "text": [
      "/Users/cdallago/opt/anaconda3/lib/python3.8/site-packages/sklearn/feature_extraction/text.py:489: UserWarning: The parameter 'token_pattern' will not be used since 'tokenizer' is not None'\n",
      "  warnings.warn(\"The parameter 'token_pattern' will not be used\"\n"
     ]
    },
    {
     "data": {
      "text/plain": [
       "(273461, 11550)"
      ]
     },
     "execution_count": 44,
     "metadata": {},
     "output_type": "execute_result"
    }
   ],
   "source": [
    "'''This block of code takes a while to run, as it performs all three steps of feature\n",
    "extraction.'''\n",
    "\n",
    "# Using the same methods as above, we construct a tfidf matrix using the vectorizer \n",
    "# and get relevant scores.\n",
    "\n",
    "vectorizer.fit(tweets)\n",
    "comments_tfidf = vectorizer.transform(comments).toarray()\n",
    "comments_vocab = {v:i for i, v in enumerate(vectorizer.get_feature_names())}\n",
    "comments_idf_vals = vectorizer.idf_\n",
    "comments_idf_dict = {i:idf_vals[i] for i in vocab.values()} #keys are indices; values are IDF scores\n",
    "\n",
    "# Similarly we tokenize the comments to get the POS tags\n",
    "comment_tags = []\n",
    "for t in comments:\n",
    "    tokens = basic_tokenize(preprocess(t))\n",
    "    tags = nltk.pos_tag(tokens)\n",
    "    tag_list = [x[1] for x in tags]\n",
    "    tag_str = \" \".join(tag_list)\n",
    "    comment_tags.append(tag_str)\n",
    "\n",
    "# Then construct a POS TF matrix using the pos_vectorizer from above, resulting in a vocab \n",
    "# dictionary\n",
    "\n",
    "pos_vectorizer.fit(pd.Series(tweet_tags))\n",
    "comments_pos = pos_vectorizer.transform(pd.Series(comment_tags)).toarray()\n",
    "comments_pos_vocab = {v:i for i, v in enumerate(pos_vectorizer.get_feature_names())}\n",
    "\n",
    "# Finally we get the sentiment and other features\n",
    "comments_feats = get_feature_array(comments)\n",
    "\n",
    "# Join them up as above, and check to make sure each row is of the same length as in the\n",
    "# Davidson et al. dataset so that the model will run\n",
    "comments_M = np.concatenate([comments_tfidf,comments_pos,comments_feats],axis=1)\n",
    "comments_M.shape"
   ]
  },
  {
   "cell_type": "code",
   "execution_count": 45,
   "id": "cc09cf40",
   "metadata": {},
   "outputs": [],
   "source": [
    "'''Again, this is unnecessary for running the model but allows us to better visualize the\n",
    "features.'''\n",
    "\n",
    "#Finally get a list of variable names\n",
    "comments_variables = ['']*len(comments_vocab)\n",
    "for k,v in comments_vocab.items():\n",
    "    comments_variables[v] = k\n",
    "\n",
    "comments_pos_variables = ['']*len(comments_pos_vocab)\n",
    "for k,v in comments_pos_vocab.items():\n",
    "    comments_pos_variables[v] = k\n",
    "\n",
    "comments_feature_names = comments_variables+comments_pos_variables+other_features_names\n",
    "# comments_feature_names"
   ]
  },
  {
   "cell_type": "markdown",
   "id": "a187d7d1",
   "metadata": {},
   "source": [
    "# Running the Model to Predict Reddit Class Labels"
   ]
  },
  {
   "cell_type": "code",
   "execution_count": 46,
   "id": "0d53afb9",
   "metadata": {},
   "outputs": [],
   "source": [
    "comment_labels = model.predict(comments_M)"
   ]
  },
  {
   "cell_type": "code",
   "execution_count": 47,
   "id": "b41e652a",
   "metadata": {},
   "outputs": [],
   "source": [
    "# Add the class labels into the original comments dataframe\n",
    "comments_df['label'] = comment_labels"
   ]
  },
  {
   "cell_type": "code",
   "execution_count": 55,
   "id": "306d845b",
   "metadata": {},
   "outputs": [
    {
     "data": {
      "text/plain": [
       "<AxesSubplot:>"
      ]
     },
     "execution_count": 55,
     "metadata": {},
     "output_type": "execute_result"
    },
    {
     "data": {
      "image/png": "[encoded data removed]",
      "text/plain": [
       "<Figure size 432x288 with 1 Axes>"
      ]
     },
     "metadata": {
      "needs_background": "light"
     },
     "output_type": "display_data"
    }
   ],
   "source": [
    "# Distribution of Reddit dataset\n",
    "comments_df['label'].hist()"
   ]
  },
  {
   "cell_type": "markdown",
   "id": "ade796f5",
   "metadata": {},
   "source": [
    "We see a somewhat similar distribution to the Davidson et al. results, in that most comments are classified as offensive and the least are classified as hate, however our results contain far more comments classified as neither.\n",
    "\n",
    "As mentioned by Davidson et al., the model appears to be biased towards classifying tweets \n",
    "as less hateful or offensive than a human coder would. In addition, those comments classified as neither contain a majority of duplicate comments (59%), comments with links (62%), and comments containing the phrase \"I am a bot\" (61%)."
   ]
  },
  {
   "cell_type": "code",
   "execution_count": 69,
   "id": "345ae0ee",
   "metadata": {},
   "outputs": [],
   "source": [
    "'''Uncomment to create a CSV of the raw comments dataset with class labels.'''\n",
    "# comments_df.to_csv('comments_df_labeled.csv')"
   ]
  },
  {
   "cell_type": "code",
   "execution_count": null,
   "id": "bb65368b",
   "metadata": {},
   "outputs": [],
   "source": []
  }
 ],
 "metadata": {
  "kernelspec": {
   "display_name": "Python 3",
   "language": "python",
   "name": "python3"
  },
  "language_info": {
   "codemirror_mode": {
    "name": "ipython",
    "version": 3
   },
   "file_extension": ".py",
   "mimetype": "text/x-python",
   "name": "python",
   "nbconvert_exporter": "python",
   "pygments_lexer": "ipython3",
   "version": "3.8.8"
  }
 },
 "nbformat": 4,
 "nbformat_minor": 5
}

{
 "cells": [
  {
   "cell_type": "markdown",
   "metadata": {},
   "source": [
    "# Reddit Comments Classification"
   ]
  },
  {
   "cell_type": "markdown",
   "metadata": {},
   "source": [
    "In order to predict class labels for the comments we collected from Reddit, we chose to base our classifier on the Twitter classifier made public by Davidson et al., which was used in their research for the automatic hate-speech detection of Twitter posts. \n",
    "\n",
    "Beginning with the initial dataset of Twitter posts compiled by Davidson et al., which were labeled through crowd-sourcing as hate speech (0), offensive speech (1) or neither hate speech nor offensive speech (2), we extract features from the Twitter posts and train a logistic regression model to predict the class label of the posts.\n",
    "\n",
    "We then apply the same feature extraction techniques to our dataset consisting of Reddit comments, along with the logistic regression model to predict class labels for our own data.\n",
    "\n",
    "The complete Davidson et al. dataset can be found at https://github.com/t-davidson/hate-speech-and-offensive-language.\n",
    "\n",
    "Davidson, Thomas et al. 2017. Automated Hate Speech Detection and the Problem of Offensive Language. Proceedings of the Eleventh International AAAI Conference on Web and Social Media. In ICWSM, 512-515.\n",
    "\n",
    "@inproceedings{hateoffensive,\n",
    "  title = {Automated Hate Speech Detection and the Problem of Offensive Language},\n",
    "  author = {Davidson, Thomas and Warmsley, Dana and Macy, Michael and Weber, Ingmar}, \n",
    "  booktitle = {Proceedings of the 11th International AAAI Conference on Web and Social Media},\n",
    "  series = {ICWSM '17},\n",
    "  year = {2017},\n",
    "  location = {Montreal, Canada},\n",
    "  pages = {512-515}\n",
    "  }"
   ]
  },
  {
   "cell_type": "code",
   "execution_count": 1,
   "metadata": {},
   "outputs": [
    {
     "name": "stdout",
     "output_type": "stream",
     "text": [
      "Requirement already satisfied: vadersentiment in /opt/anaconda3/lib/python3.8/site-packages (3.3.2)\n",
      "Requirement already satisfied: requests in /opt/anaconda3/lib/python3.8/site-packages (from vadersentiment) (2.24.0)\n",
      "Requirement already satisfied: certifi>=2017.4.17 in /opt/anaconda3/lib/python3.8/site-packages (from requests->vadersentiment) (2020.6.20)\n",
      "Requirement already satisfied: chardet<4,>=3.0.2 in /opt/anaconda3/lib/python3.8/site-packages (from requests->vadersentiment) (3.0.4)\n",
      "Requirement already satisfied: idna<3,>=2.5 in /opt/anaconda3/lib/python3.8/site-packages (from requests->vadersentiment) (2.10)\n",
      "Requirement already satisfied: urllib3!=1.25.0,!=1.25.1,<1.26,>=1.21.1 in /opt/anaconda3/lib/python3.8/site-packages (from requests->vadersentiment) (1.25.11)\n",
      "Note: you may need to restart the kernel to use updated packages.\n"
     ]
    }
   ],
   "source": [
    "pip install vadersentiment"
   ]
  },
  {
   "cell_type": "code",
   "execution_count": 2,
   "metadata": {},
   "outputs": [],
   "source": [
    "#conda install -c conda-forge vadersentiment"
   ]
  },
  {
   "cell_type": "code",
   "execution_count": 3,
   "metadata": {},
   "outputs": [
    {
     "name": "stdout",
     "output_type": "stream",
     "text": [
      "Requirement already satisfied: textstat in /opt/anaconda3/lib/python3.8/site-packages (0.7.3)\n",
      "Requirement already satisfied: pyphen in /opt/anaconda3/lib/python3.8/site-packages (from textstat) (0.12.0)\n",
      "Note: you may need to restart the kernel to use updated packages.\n"
     ]
    }
   ],
   "source": [
    "pip install textstat"
   ]
  },
  {
   "cell_type": "code",
   "execution_count": 4,
   "metadata": {},
   "outputs": [],
   "source": [
    "import pandas as pd\n",
    "import numpy as np\n",
    "import pickle\n",
    "import sys\n",
    "from sklearn.feature_extraction.text import TfidfVectorizer\n",
    "import nltk\n",
    "from nltk.stem.porter import *\n",
    "from nltk.tag.api import TaggerI  # average_perceptron_tagger\n",
    "import string\n",
    "import re\n",
    "from vaderSentiment.vaderSentiment import SentimentIntensityAnalyzer as VS\n",
    "from textstat.textstat import *\n",
    "from sklearn.linear_model import LogisticRegression\n",
    "from sklearn.feature_selection import SelectFromModel\n",
    "from sklearn.metrics import classification_report\n",
    "from sklearn.svm import LinearSVC\n",
    "from sklearn.model_selection import train_test_split\n",
    "from sklearn.pipeline import Pipeline\n",
    "import matplotlib.pyplot as plt\n",
    "import seaborn\n",
    "%matplotlib inline\n",
    "import warnings\n",
    "warnings.simplefilter(action='ignore', category=FutureWarning)"
   ]
  },
  {
   "cell_type": "code",
   "execution_count": 5,
   "metadata": {},
   "outputs": [],
   "source": [
    "RANDOM_SEED = 697"
   ]
  },
  {
   "cell_type": "markdown",
   "metadata": {},
   "source": [
    "# Loading the Davidson et al. Twitter Dataset to Train the Classifier"
   ]
  },
  {
   "cell_type": "markdown",
   "metadata": {},
   "source": [
    "*** The modified Davidson et al. Twitter Hate Speech Classification code begins here. ***"
   ]
  },
  {
   "cell_type": "code",
   "execution_count": 6,
   "metadata": {},
   "outputs": [
    {
     "data": {
      "text/plain": [
       "<AxesSubplot:>"
      ]
     },
     "execution_count": 6,
     "metadata": {},
     "output_type": "execute_result"
    },
    {
     "data": {
      "image/png": "[encoded data removed]",
      "text/plain": [
       "<Figure size 432x288 with 1 Axes>"
      ]
     },
     "metadata": {
      "needs_background": "light"
     },
     "output_type": "display_data"
    }
   ],
   "source": [
    "twitter_df = pd.read_csv('data/Davidson_data.csv')\n",
    "twitter_df['class'].hist()"
   ]
  },
  {
   "cell_type": "code",
   "execution_count": 7,
   "metadata": {},
   "outputs": [
    {
     "data": {
      "text/plain": [
       "24783"
      ]
     },
     "execution_count": 7,
     "metadata": {},
     "output_type": "execute_result"
    }
   ],
   "source": [
    "tweets=twitter_df.tweet\n",
    "len(tweets)"
   ]
  },
  {
   "cell_type": "markdown",
   "metadata": {},
   "source": [
    "# Feature Generation for the Davidson et al. Twitter Dataset"
   ]
  },
  {
   "cell_type": "markdown",
   "metadata": {},
   "source": [
    "# Part 1 - Preprocess, Tokenize and TF-IDF Vectorization"
   ]
  },
  {
   "cell_type": "code",
   "execution_count": null,
   "metadata": {},
   "outputs": [],
   "source": []
  },
  {
   "cell_type": "code",
   "execution_count": 8,
   "metadata": {},
   "outputs": [],
   "source": [
    "'''The original Davidson et al. Twitter classification code has been slightly modified to\n",
    "better account for the inherent differences between Twitter and Reddit comments.'''\n",
    "\n",
    "stemmer = PorterStemmer()\n",
    "\n",
    "# list of stopwords\n",
    "stopwords = set(nltk.corpus.stopwords.words(\"english\"))  # use this when stopwords included in tokenize\n",
    "#stopwords = nltk.corpus.stopwords.words(\"english\")\n",
    "#tokens = [stemmer.stem(word) for word in stopwords] \n",
    "\n",
    "\n",
    "# used in vectorizer\n",
    "def preprocess(text_string):     # used in vectorizer\n",
    "    \"\"\"\n",
    "    Accepts a text string and replaces:\n",
    "    1) urls with URLHERE\n",
    "    2) lots of whitespace with one instance\n",
    "    3) mentions with MENTIONHERE\n",
    "\n",
    "    This allows us to get standardized counts of urls and mentions\n",
    "    Without caring about specific people mentioned\n",
    "    \"\"\"\n",
    "    space_pattern = '\\s+'\n",
    "    giant_url_regex = ('http[s]?://(?:[a-zA-Z]|[0-9]|[$-_@.&+]|'\n",
    "        '[!*\\(\\),]|(?:%[0-9a-fA-F][0-9a-fA-F]))+')\n",
    "    mention_regex = '@[\\w\\-]+'\n",
    "    parsed_text = re.sub(space_pattern, ' ', text_string)\n",
    "    parsed_text = re.sub(giant_url_regex, '', parsed_text)\n",
    "    parsed_text = re.sub(mention_regex, '', parsed_text)\n",
    "    return parsed_text\n",
    "\n",
    "\n",
    "# used in vectorizer\n",
    "def tokenize(tweet):              \n",
    "    \"\"\"Removes punctuation & excess whitespace, sets to lowercase,\n",
    "    and stems tweets. Returns a list of stemmed tokens.\"\"\"\n",
    "    \n",
    "    # added in \n",
    "    \n",
    "    '''ORIGINAL CODE UPDATED: A bug in the original code was updated here,\n",
    "    tweet = \" \".join(re.split(\"[^a-zA-Z]*\", tweet.lower())).strip() was changed to\n",
    "    tweet = \" \".join(re.split(\"[^a-zA-Z]+\", tweet.lower())).strip()'''\n",
    "    \n",
    "    tweet = \" \".join(re.split(\"[^a-zA-Z]+\", tweet.lower())).strip()\n",
    "    tweet = tweet.split()\n",
    "    tweet_no_stopwprds = [word for word in tweet if not word in stopwords]\n",
    "    tokens = [stemmer.stem(t) for t in tweet_no_stopwprds]     \n",
    "    return tokens\n",
    "\n",
    "# used in POS vectorizer\n",
    "def basic_tokenize(tweet):\n",
    "    \"\"\"Same as tokenize but without the stemming\"\"\"\n",
    "    \n",
    "    '''ORIGINAL CODE UPDATED: A bug in the original code was updated here,\n",
    "    tweet = \" \".join(re.split(\"[^a-zA-Z.,!?]*\", tweet.lower())).strip() was changed to\n",
    "    tweet = \" \".join(re.split(\"[^a-zA-Z.,!?]+\", tweet.lower())).strip()'''\n",
    "    \n",
    "    tweet = \" \".join(re.split(\"[^a-zA-Z.,!?]+\", tweet.lower())).strip()\n",
    "    return tweet.split()\n",
    "\n",
    "\n",
    "vectorizer = TfidfVectorizer(\n",
    "    tokenizer=tokenize,\n",
    "    preprocessor=preprocess,\n",
    "    ngram_range=(1, 3),\n",
    "    stop_words=stopwords,\n",
    "    use_idf=True,\n",
    "    smooth_idf=False,\n",
    "    norm=None,\n",
    "    decode_error='replace',\n",
    "    max_features=10000,\n",
    "    min_df=5,\n",
    "    max_df=1.0\n",
    "    )\n",
    "\n",
    "#Construct tfidf matrix and get relevant scores\n",
    "tfidf = vectorizer.fit_transform(tweets).toarray()\n",
    "vocab = {v:i for i, v in enumerate(vectorizer.get_feature_names())}\n",
    "idf_vals = vectorizer.idf_\n",
    "idf_dict = {i:idf_vals[i] for i in vocab.values()} #keys are indices; values are IDF scores"
   ]
  },
  {
   "cell_type": "markdown",
   "metadata": {},
   "source": [
    "# Part 2 - POS Tagging"
   ]
  },
  {
   "cell_type": "code",
   "execution_count": 9,
   "metadata": {},
   "outputs": [],
   "source": [
    "'''The original Davidson et al. Twitter classification code has been slightly modified to\n",
    "better account for the inherent differences between Twitter and Reddit comments.'''\n",
    "\n",
    "#Get POS tags for tweets and save as a string\n",
    "tweet_tags = []\n",
    "for t in tweets:\n",
    "    tokens = basic_tokenize(preprocess(t))\n",
    "    tags = nltk.pos_tag(tokens)\n",
    "    tag_list = [x[1] for x in tags]\n",
    "    tag_str = \" \".join(tag_list)\n",
    "    tweet_tags.append(tag_str)\n",
    "    \n",
    "#We can use the TFIDF vectorizer to get a token matrix for the POS tags\n",
    "pos_vectorizer = TfidfVectorizer(\n",
    "    tokenizer=None,\n",
    "    lowercase=False,\n",
    "    preprocessor=None,\n",
    "    ngram_range=(1, 3),\n",
    "    stop_words=None,\n",
    "    use_idf=False,\n",
    "    smooth_idf=False,\n",
    "    norm=None,\n",
    "    decode_error='replace',\n",
    "    max_features=5000,\n",
    "    min_df=5,\n",
    "    max_df=1.0\n",
    "    )\n",
    "\n",
    "#Construct POS TF matrix and get vocab dict\n",
    "pos = pos_vectorizer.fit_transform(pd.Series(tweet_tags)).toarray()\n",
    "pos_vocab = {v:i for i, v in enumerate(pos_vectorizer.get_feature_names())}"
   ]
  },
  {
   "cell_type": "markdown",
   "metadata": {},
   "source": [
    "# Part 3 - Sentiment Analysis and Text & Readability Scores"
   ]
  },
  {
   "cell_type": "code",
   "execution_count": 10,
   "metadata": {},
   "outputs": [],
   "source": [
    "'''The original Davidson et al. Twitter classification code has been slightly modified to\n",
    "better account for the inherent differences between Twitter and Reddit comments.\n",
    "example: retweets are not included as a feature\n",
    "'''\n",
    "\n",
    "#Finally we get sentiment analysis and other features\n",
    "sentiment_analyzer = VS()\n",
    "\n",
    "def count_twitter_objs(text_string):\n",
    "    \"\"\"\n",
    "    Accepts a text string and replaces:\n",
    "    1) urls with URLHERE\n",
    "    2) lots of whitespace with one instance\n",
    "    3) mentions with MENTIONHERE\n",
    "    4) hashtags with HASHTAGHERE\n",
    "\n",
    "    This allows us to get standardized counts of urls and mentions\n",
    "    Without caring about specific people mentioned.\n",
    "    \n",
    "    Returns counts of urls, mentions, and hashtags.\n",
    "    \"\"\"\n",
    "    space_pattern = '\\s+'\n",
    "    giant_url_regex = ('http[s]?://(?:[a-zA-Z]|[0-9]|[$-_@.&+]|'\n",
    "        '[!*\\(\\),]|(?:%[0-9a-fA-F][0-9a-fA-F]))+')\n",
    "    mention_regex = '@[\\w\\-]+'\n",
    "    hashtag_regex = '#[\\w\\-]+'\n",
    "    parsed_text = re.sub(space_pattern, ' ', text_string)\n",
    "    parsed_text = re.sub(giant_url_regex, 'URLHERE', parsed_text)\n",
    "    parsed_text = re.sub(mention_regex, 'MENTIONHERE', parsed_text)\n",
    "    parsed_text = re.sub(hashtag_regex, 'HASHTAGHERE', parsed_text)\n",
    "    return(parsed_text.count('URLHERE'),parsed_text.count('MENTIONHERE'),parsed_text.count('HASHTAGHERE'))\n",
    "\n",
    "def other_features(tweet):\n",
    "    \"\"\"This function takes a string and returns a list of features.\n",
    "    These include Sentiment scores, Text and Readability scores,\n",
    "    as well as Twitter specific features\"\"\"\n",
    "    sentiment = sentiment_analyzer.polarity_scores(tweet)\n",
    "    words = preprocess(tweet)\n",
    "    \n",
    "    # Text and Readability feature scores \n",
    "    syllables = textstat.syllable_count(words)\n",
    "    num_chars = sum(len(w) for w in words)\n",
    "    num_chars_total = len(tweet)\n",
    "    num_terms = len(tweet.split())\n",
    "    num_words = len(words.split())\n",
    "    avg_syl = round(float((syllables+0.001))/float(num_words+0.001),4)\n",
    "    num_unique_terms = len(set(words.split()))\n",
    "    \n",
    "    ###Modified FK grade, where avg words per sentence is just num words/1\n",
    "    FKRA = round(float(0.39 * float(num_words)/1.0) + float(11.8 * avg_syl) - 15.59,1)\n",
    "    ##Modified FRE score, where sentence fixed to 1\n",
    "    FRE = round(206.835 - 1.015*(float(num_words)/1.0) - (84.6*float(avg_syl)),2)\n",
    "    \n",
    "    twitter_objs = count_twitter_objs(tweet)\n",
    "        \n",
    "    features = [FKRA, FRE,syllables, avg_syl, num_chars, num_chars_total, num_terms, num_words,\n",
    "                num_unique_terms, sentiment['neg'], sentiment['pos'], sentiment['neu'], sentiment['compound'],\n",
    "                twitter_objs[2], twitter_objs[1],\n",
    "                twitter_objs[0]]\n",
    "    \n",
    "    return features\n",
    "\n",
    "def get_feature_array(tweets):\n",
    "    feats=[]\n",
    "    for t in tweets:\n",
    "        feats.append(other_features(t))\n",
    "    return np.array(feats)\n",
    "\n",
    "other_features_names = [\"FKRA\", \"FRE\",\"num_syllables\", \"avg_syl_per_word\", \"num_chars\", \"num_chars_total\", \\\n",
    "                        \"num_terms\", \"num_words\", \"num_unique_words\", \"vader neg\",\"vader pos\",\"vader neu\", \\\n",
    "                        \"vader compound\", \"num_hashtags\", \"num_mentions\", \"num_urls\"]\n",
    "\n",
    "feats = get_feature_array(tweets)"
   ]
  },
  {
   "cell_type": "code",
   "execution_count": 11,
   "metadata": {},
   "outputs": [
    {
     "data": {
      "text/plain": [
       "(24783, 11297)"
      ]
     },
     "execution_count": 11,
     "metadata": {},
     "output_type": "execute_result"
    }
   ],
   "source": [
    "#Now join them all up to create the final matrix\n",
    "M = np.concatenate([tfidf,pos,feats],axis=1)\n",
    "M.shape\n",
    "\n",
    "# 24,783 comments; 11290 features"
   ]
  },
  {
   "cell_type": "code",
   "execution_count": 12,
   "metadata": {},
   "outputs": [],
   "source": [
    "'''These feature names are unnecessary for running the model but allow us to better \n",
    "visualize the features.'''\n",
    "\n",
    "# Finally get a list of variable names\n",
    "variables = ['']*len(vocab)\n",
    "for k,v in vocab.items():\n",
    "    variables[v] = k\n",
    "\n",
    "pos_variables = ['']*len(pos_vocab)\n",
    "for k,v in pos_vocab.items():\n",
    "    pos_variables[v] = k\n",
    "\n",
    "feature_names = variables+pos_variables+other_features_names"
   ]
  },
  {
   "cell_type": "markdown",
   "metadata": {},
   "source": [
    "# Running the Model on the Davidson et al. Twitter Dataset\n",
    "\n",
    "The Twitter hate speech detection model was selected by Davidson et al. used a logistic regression pipeline with an L1 penalty to select the best features and reduce dimensionality, and L2 regularization to predict the class label. They did, however, find that Logistic Regression and LinearSVC models performed similarly, and through testing we decided that a LinearSVC model results in a more accurate classification of our collected Reddit comments, so we chose this method. "
   ]
  },
  {
   "cell_type": "code",
   "execution_count": 13,
   "metadata": {},
   "outputs": [],
   "source": [
    "X = pd.DataFrame(M)\n",
    "y = twitter_df['class'].astype(int)\n",
    "\n",
    "#X_train, X_test, y_train, y_test = train_test_split(X, y, random_state=RANDOM_SEED, test_size=0.3)"
   ]
  },
  {
   "cell_type": "code",
   "execution_count": 14,
   "metadata": {},
   "outputs": [],
   "source": [
    "# reduce dimensionality of the data\n",
    "\n",
    "# solver chosen because default ('lbfgs') supports only l2 regularization\n",
    "\n",
    "select = SelectFromModel(LogisticRegression(class_weight = 'balanced',\n",
    "                                           C = 0.01, \n",
    "                                           penalty = 'l1',\n",
    "                                           solver = 'liblinear',\n",
    "                                           random_state = RANDOM_SEED))\n",
    "X_ = select.fit_transform(X,y)"
   ]
  },
  {
   "cell_type": "code",
   "execution_count": 15,
   "metadata": {},
   "outputs": [
    {
     "data": {
      "text/plain": [
       "\"\\nmodel = LinearSVC(class_weight = 'balanced',\\n                penalty = 'l2',\\n                loss='squared_hinge',\\n                C=0.01,\\n                multi_class='ovr',\\n                max_iter = 7500).fit(X_, y)\\n\\ny_preds = model.predict(X_)\\n\\n\""
      ]
     },
     "execution_count": 15,
     "metadata": {},
     "output_type": "execute_result"
    }
   ],
   "source": [
    "'''The Davidson et al. paper describes their final model as a LogisticRegression model, \n",
    "but their code identified as the final classifier did\n",
    "include a LinearSVC model with the following parameters in their documentation.'''\n",
    "# this model failed to converge even when max_iter was increased to 7500\n",
    "\n",
    "\"\"\"\n",
    "model = LinearSVC(class_weight = 'balanced',\n",
    "                penalty = 'l2',\n",
    "                loss='squared_hinge',\n",
    "                C=0.01,\n",
    "                multi_class='ovr',\n",
    "                max_iter = 7500).fit(X_, y)\n",
    "\n",
    "y_preds = model.predict(X_)\n",
    "\n",
    "\"\"\""
   ]
  },
  {
   "cell_type": "code",
   "execution_count": 16,
   "metadata": {},
   "outputs": [],
   "source": [
    "# the paper describes a logistic regression model with l2 regularization \n",
    "\n",
    "# default solver is 'lbfgs'\n",
    "# max_iter default is 100; included here so more iterations completed so model converges\n",
    "\n",
    "model = LogisticRegression(class_weight = 'balanced',\n",
    "                           C = 0.01, \n",
    "                           penalty = 'l2',\n",
    "                           max_iter = 5000).fit(X_, y)\n",
    "\n",
    "y_preds = model.predict(X_)\n"
   ]
  },
  {
   "cell_type": "markdown",
   "metadata": {},
   "source": [
    "# Evaluating the Davidson et al. Twitter Classification Results"
   ]
  },
  {
   "cell_type": "code",
   "execution_count": 17,
   "metadata": {},
   "outputs": [],
   "source": [
    "report = classification_report(y, y_preds)"
   ]
  },
  {
   "cell_type": "code",
   "execution_count": 18,
   "metadata": {},
   "outputs": [
    {
     "name": "stdout",
     "output_type": "stream",
     "text": [
      "              precision    recall  f1-score   support\n",
      "\n",
      "           0       0.30      0.77      0.43      1430\n",
      "           1       0.98      0.83      0.90     19190\n",
      "           2       0.82      0.95      0.88      4163\n",
      "\n",
      "    accuracy                           0.85     24783\n",
      "   macro avg       0.70      0.85      0.74     24783\n",
      "weighted avg       0.91      0.85      0.87     24783\n",
      "\n"
     ]
    }
   ],
   "source": [
    "display(report)"
   ]
  },
  {
   "cell_type": "code",
   "execution_count": 19,
   "metadata": {},
   "outputs": [
    {
     "data": {
      "image/png": "[encoded data removed]",
      "text/plain": [
       "<Figure size 360x360 with 1 Axes>"
      ]
     },
     "metadata": {
      "needs_background": "light"
     },
     "output_type": "display_data"
    }
   ],
   "source": [
    "from sklearn.metrics import confusion_matrix\n",
    "confusion_matrix = confusion_matrix(y,y_preds)\n",
    "matrix_proportions = np.zeros((3,3))\n",
    "for i in range(0,3):\n",
    "    matrix_proportions[i,:] = confusion_matrix[i,:]/float(confusion_matrix[i,:].sum())\n",
    "names=['Hate','Offensive','Neither']\n",
    "confusion_df = pd.DataFrame(matrix_proportions, index=names,columns=names)\n",
    "plt.figure(figsize=(5,5))\n",
    "seaborn.heatmap(confusion_df,annot=True,annot_kws={\"size\": 12},cmap='gist_gray_r',cbar=False, square=True,fmt='.2f')\n",
    "plt.ylabel(r'True categories',fontsize=14)\n",
    "plt.xlabel(r'Predicted categories',fontsize=14)\n",
    "plt.tick_params(labelsize=12)\n",
    "\n",
    "#Uncomment line below if you want to save the output\n",
    "#plt.savefig('confusion.pdf')"
   ]
  },
  {
   "cell_type": "markdown",
   "metadata": {},
   "source": [
    "In their analysis, Davidson et al. write that, “far fewer tweets are classified as more \n",
    "offensive or hateful than their true category...suggesting that the model is biased towards \n",
    "classifying tweets as less hateful or offensive than the human coders.”\n",
    "\n",
    "Note: these figures are considerably different than the figures in the paper (e.g., here hate-hate is 0.78 (0.40 in previous version), in the paper it is 0.61)"
   ]
  },
  {
   "cell_type": "code",
   "execution_count": 20,
   "metadata": {},
   "outputs": [
    {
     "data": {
      "text/plain": [
       "Text(0.5, 0, 'hate                                       offensive                         neither')"
      ]
     },
     "execution_count": 20,
     "metadata": {},
     "output_type": "execute_result"
    },
    {
     "data": {
      "image/png": "[encoded data removed]",
      "text/plain": [
       "<Figure size 432x288 with 1 Axes>"
      ]
     },
     "metadata": {
      "needs_background": "light"
     },
     "output_type": "display_data"
    }
   ],
   "source": [
    "#True Davidson et al. Twitter distribution\n",
    "y.hist()\n",
    "plt.xlabel('hate                                       offensive                         neither', ha='center')"
   ]
  },
  {
   "cell_type": "code",
   "execution_count": 21,
   "metadata": {},
   "outputs": [
    {
     "data": {
      "text/plain": [
       "Text(0.5, 0, 'hate                                       offensive                         neither')"
      ]
     },
     "execution_count": 21,
     "metadata": {},
     "output_type": "execute_result"
    },
    {
     "data": {
      "image/png": "[encoded data removed]",
      "text/plain": [
       "<Figure size 432x288 with 1 Axes>"
      ]
     },
     "metadata": {
      "needs_background": "light"
     },
     "output_type": "display_data"
    }
   ],
   "source": [
    "#Predicted Davidson et al. Twitter distribution\n",
    "pd.Series(y_preds).hist()\n",
    "plt.xlabel('hate                                       offensive                         neither', ha='center')"
   ]
  },
  {
   "cell_type": "markdown",
   "metadata": {},
   "source": [
    "*** The slightly modified Davidson et al. Twitter Hate Speech Classification code ends here. ***\n",
    "Modifications were  made so this code is consistent with the description in the paper "
   ]
  },
  {
   "cell_type": "code",
   "execution_count": 22,
   "metadata": {},
   "outputs": [
    {
     "data": {
      "text/plain": [
       "'hate'"
      ]
     },
     "metadata": {},
     "output_type": "display_data"
    },
    {
     "data": {
      "text/plain": [
       "3685"
      ]
     },
     "metadata": {},
     "output_type": "display_data"
    },
    {
     "data": {
      "text/plain": [
       "'offensive'"
      ]
     },
     "metadata": {},
     "output_type": "display_data"
    },
    {
     "data": {
      "text/plain": [
       "16265"
      ]
     },
     "metadata": {},
     "output_type": "display_data"
    },
    {
     "data": {
      "text/plain": [
       "'neither'"
      ]
     },
     "metadata": {},
     "output_type": "display_data"
    },
    {
     "data": {
      "text/plain": [
       "4833"
      ]
     },
     "metadata": {},
     "output_type": "display_data"
    },
    {
     "data": {
      "text/plain": [
       "'total'"
      ]
     },
     "metadata": {},
     "output_type": "display_data"
    },
    {
     "data": {
      "text/plain": [
       "24783"
      ]
     },
     "metadata": {},
     "output_type": "display_data"
    }
   ],
   "source": [
    "hate_class_length = len(y_preds[np.all([y_preds == 0], axis = 0)])\n",
    "offensive_class_length = len(y_preds[np.all([y_preds == 1], axis = 0)])\n",
    "neither_class_length = len(y_preds[np.all([y_preds == 2], axis = 0)])\n",
    "\n",
    "total = hate_class_length + offensive_class_length + neither_class_length\n",
    "\n",
    "display('hate', hate_class_length)       # 3,708 for model w/o stopwords removed before stemming\n",
    "display('offensive', offensive_class_length)  # 16,256\n",
    "display('neither', neither_class_length)    # 4,819\n",
    "display('total', total)"
   ]
  },
  {
   "cell_type": "code",
   "execution_count": 23,
   "metadata": {},
   "outputs": [],
   "source": [
    "# analysis of the Davidson et al. data set showed that there are:\n",
    "#*  hate speech comments\n",
    "#*  offensive comments\n",
    "#*  neither comments"
   ]
  },
  {
   "cell_type": "markdown",
   "metadata": {},
   "source": [
    "# Load, Vectorize and Transform the Reddit Comments to Apply the Classifier"
   ]
  },
  {
   "cell_type": "markdown",
   "metadata": {},
   "source": [
    "*** Our Reddit Comment Classification code begins here. ***"
   ]
  },
  {
   "cell_type": "code",
   "execution_count": 24,
   "metadata": {},
   "outputs": [
    {
     "data": {
      "text/plain": [
       "273461"
      ]
     },
     "execution_count": 24,
     "metadata": {},
     "output_type": "execute_result"
    }
   ],
   "source": [
    "# use this to work with the complete Reddit comment dataframe\n",
    "# 'comments_for_classification.csv' is too large for github\n",
    "# comments_df = pd.read_csv('comments_for_classification.csv')\n",
    "\n",
    "# use this to use a sample of the complete Reddit comment dataframe\n",
    "comments_df = pd.read_csv('data/comments_for_classification_sample.csv')\n",
    "comments = comments_df.body\n",
    "len(comments)"
   ]
  },
  {
   "cell_type": "code",
   "execution_count": 25,
   "metadata": {},
   "outputs": [
    {
     "data": {
      "text/plain": [
       "(273461, 11297)"
      ]
     },
     "execution_count": 25,
     "metadata": {},
     "output_type": "execute_result"
    }
   ],
   "source": [
    "'''This block of code takes a while to run, as it performs all three steps of feature\n",
    "extraction.'''\n",
    "\n",
    "# Using the same methods as above, we construct a tfidf matrix using the vectorizer \n",
    "# and get relevant scores.\n",
    "\n",
    "#------------------------------------\n",
    "# tokenize, tf-idf vectorization\n",
    "#------------------------------------\n",
    "\n",
    "# vectorizer is established above\n",
    "# uses the functions tokenize (removes stopwords and stems) and preprocess (cleans text)\n",
    "\n",
    "comments_tfidf = vectorizer.transform(comments).toarray()\n",
    "comments_vocab = {v:i for i, v in enumerate(vectorizer.get_feature_names())}\n",
    "comments_idf_vals = vectorizer.idf_\n",
    "comments_idf_dict = {i:idf_vals[i] for i in vocab.values()} #keys are indices; values are IDF scores\n",
    "\n",
    "#------------------------------------\n",
    "# POS tagging and POS tf matrix\n",
    "# result: vocab dictionary\n",
    "#------------------------------------\n",
    "\n",
    "# Similarly we tokenize the comments to get the POS tags\n",
    "comment_tags = []\n",
    "for t in comments:\n",
    "    tokens = basic_tokenize(preprocess(t))\n",
    "    tags = nltk.pos_tag(tokens)\n",
    "    tag_list = [x[1] for x in tags]\n",
    "    tag_str = \" \".join(tag_list)\n",
    "    comment_tags.append(tag_str)\n",
    "\n",
    "# uses the pos_vectorizer (pos) from above\n",
    "\n",
    "pos_vectorizer.fit(pd.Series(tweet_tags))\n",
    "comments_pos = pos_vectorizer.transform(pd.Series(comment_tags)).toarray()\n",
    "comments_pos_vocab = {v:i for i, v in enumerate(pos_vectorizer.get_feature_names())}\n",
    "\n",
    "#------------------------------------\n",
    "# Finally... sentiment and other features\n",
    "#------------------------------------\n",
    "\n",
    "comments_feats = get_feature_array(comments)\n",
    "\n",
    "\n",
    "#------------------------------------\n",
    "# data to use for modeling\n",
    "#------------------------------------\n",
    "\n",
    "# Join them up as above, and check to make sure each row is of the same length as in the\n",
    "# Davidson et al. dataset so that the model will run\n",
    "comments_M = np.concatenate([comments_tfidf,comments_pos,comments_feats],axis=1)\n",
    "comments_M.shape   # same number  of features as twitter data"
   ]
  },
  {
   "cell_type": "code",
   "execution_count": 26,
   "metadata": {},
   "outputs": [],
   "source": [
    "#display(comments_M[0:10])"
   ]
  },
  {
   "cell_type": "code",
   "execution_count": 27,
   "metadata": {},
   "outputs": [],
   "source": [
    "'''Again, this is unnecessary for running the model but allows us to better visualize the\n",
    "features.'''\n",
    "\n",
    "#Finally get a list of variable names\n",
    "comments_variables = ['']*len(comments_vocab)\n",
    "for k,v in comments_vocab.items():\n",
    "    comments_variables[v] = k\n",
    "\n",
    "comments_pos_variables = ['']*len(comments_pos_vocab)\n",
    "for k,v in comments_pos_vocab.items():\n",
    "    comments_pos_variables[v] = k\n",
    "\n",
    "comments_feature_names = comments_variables+comments_pos_variables+other_features_names\n",
    "# comments_feature_names"
   ]
  },
  {
   "cell_type": "markdown",
   "metadata": {},
   "source": [
    "# Running the Model to Predict Reddit Class Labels"
   ]
  },
  {
   "cell_type": "code",
   "execution_count": 28,
   "metadata": {},
   "outputs": [
    {
     "data": {
      "text/plain": [
       "(273461, 177)"
      ]
     },
     "metadata": {},
     "output_type": "display_data"
    }
   ],
   "source": [
    "comments_reduced = select.transform(comments_M)\n",
    "display(comments_reduced.shape)                     # same # features as twitter data\n",
    "comment_labels = model.predict(comments_reduced)"
   ]
  },
  {
   "cell_type": "code",
   "execution_count": 29,
   "metadata": {},
   "outputs": [],
   "source": [
    "# Add the class labels into the original comments dataframe\n",
    "comments_df['label'] = comment_labels"
   ]
  },
  {
   "cell_type": "code",
   "execution_count": 30,
   "metadata": {},
   "outputs": [
    {
     "data": {
      "text/plain": [
       "Text(0.5, 0, 'hate                                       offensive                         neither')"
      ]
     },
     "execution_count": 30,
     "metadata": {},
     "output_type": "execute_result"
    },
    {
     "data": {
      "image/png": "[encoded data removed]",
      "text/plain": [
       "<Figure size 432x288 with 1 Axes>"
      ]
     },
     "metadata": {
      "needs_background": "light"
     },
     "output_type": "display_data"
    }
   ],
   "source": [
    "# Distribution of Reddit dataset\n",
    "\n",
    "comments_df['label'].hist()\n",
    "plt.xlabel('hate                                       offensive                         neither', ha='center')"
   ]
  },
  {
   "cell_type": "code",
   "execution_count": 31,
   "metadata": {},
   "outputs": [],
   "source": [
    "'''Uncomment to create a CSV of the raw comments dataset with class labels.'''\n",
    "comments_df.to_csv('comments_df_labeled.csv')"
   ]
  },
  {
   "cell_type": "markdown",
   "metadata": {},
   "source": [
    "# Examine the Reddit coment classifications"
   ]
  },
  {
   "cell_type": "code",
   "execution_count": 32,
   "metadata": {},
   "outputs": [],
   "source": [
    "#display(comments_df.head())"
   ]
  },
  {
   "cell_type": "code",
   "execution_count": 33,
   "metadata": {},
   "outputs": [
    {
     "data": {
      "text/html": [
       "<style  type=\"text/css\" >\n",
       "#T_91f2c5f4_b7ca_11ec_8417_542696de2be9row0_col0,#T_91f2c5f4_b7ca_11ec_8417_542696de2be9row0_col1,#T_91f2c5f4_b7ca_11ec_8417_542696de2be9row1_col0,#T_91f2c5f4_b7ca_11ec_8417_542696de2be9row1_col1,#T_91f2c5f4_b7ca_11ec_8417_542696de2be9row2_col0,#T_91f2c5f4_b7ca_11ec_8417_542696de2be9row2_col1,#T_91f2c5f4_b7ca_11ec_8417_542696de2be9row3_col0,#T_91f2c5f4_b7ca_11ec_8417_542696de2be9row3_col1,#T_91f2c5f4_b7ca_11ec_8417_542696de2be9row4_col0,#T_91f2c5f4_b7ca_11ec_8417_542696de2be9row4_col1,#T_91f2c5f4_b7ca_11ec_8417_542696de2be9row5_col0,#T_91f2c5f4_b7ca_11ec_8417_542696de2be9row5_col1,#T_91f2c5f4_b7ca_11ec_8417_542696de2be9row6_col0,#T_91f2c5f4_b7ca_11ec_8417_542696de2be9row6_col1,#T_91f2c5f4_b7ca_11ec_8417_542696de2be9row7_col0,#T_91f2c5f4_b7ca_11ec_8417_542696de2be9row7_col1,#T_91f2c5f4_b7ca_11ec_8417_542696de2be9row8_col0,#T_91f2c5f4_b7ca_11ec_8417_542696de2be9row8_col1,#T_91f2c5f4_b7ca_11ec_8417_542696de2be9row9_col0,#T_91f2c5f4_b7ca_11ec_8417_542696de2be9row9_col1{\n",
       "            text-align:  left;\n",
       "        }</style><table id=\"T_91f2c5f4_b7ca_11ec_8417_542696de2be9\" ><thead>    <tr>        <th class=\"blank level0\" ></th>        <th class=\"col_heading level0 col0\" >body</th>        <th class=\"col_heading level0 col1\" >label</th>    </tr></thead><tbody>\n",
       "                <tr>\n",
       "                        <th id=\"T_91f2c5f4_b7ca_11ec_8417_542696de2be9level0_row0\" class=\"row_heading level0 row0\" >221756</th>\n",
       "                        <td id=\"T_91f2c5f4_b7ca_11ec_8417_542696de2be9row0_col0\" class=\"data row0 col0\" >Mmm I wanna fuck you with this 29 y/o cock while your ex is forced to watch me making you scream stuffing your tight, slutty little cunt with my caramel dick.</td>\n",
       "                        <td id=\"T_91f2c5f4_b7ca_11ec_8417_542696de2be9row0_col1\" class=\"data row0 col1\" >0</td>\n",
       "            </tr>\n",
       "            <tr>\n",
       "                        <th id=\"T_91f2c5f4_b7ca_11ec_8417_542696de2be9level0_row1\" class=\"row_heading level0 row1\" >108403</th>\n",
       "                        <td id=\"T_91f2c5f4_b7ca_11ec_8417_542696de2be9row1_col0\" class=\"data row1 col0\" >#Some of my favorite [My Hooded Slave](https://cumalloverus.com/bios/model-my-hooded-slave/) videos:\n",
       "1. ###[LUCKY ASIAN SLUT GETS HER ASS FILLED WITH TOYS WHILE BEING FACEFUCKED](https://cumalloverus.com/highlighted/2022-01-12/model-my-hooded-slave/ph5e075094565c7.html)\n",
       "2. ###[ASIAN SLUT EDGES HER PRETTY PIERCED PUSSY](https://cumalloverus.com/highlighted/2022-01-12/model-my-hooded-slave/ph5ff5c8bd3308e.html)</td>\n",
       "                        <td id=\"T_91f2c5f4_b7ca_11ec_8417_542696de2be9row1_col1\" class=\"data row1 col1\" >0</td>\n",
       "            </tr>\n",
       "            <tr>\n",
       "                        <th id=\"T_91f2c5f4_b7ca_11ec_8417_542696de2be9level0_row2\" class=\"row_heading level0 row2\" >218285</th>\n",
       "                        <td id=\"T_91f2c5f4_b7ca_11ec_8417_542696de2be9row2_col0\" class=\"data row2 col0\" >Seeing so-called \"fat activists\" defend an anorexic whore on an advert and the fatphobic troll who runs the company.</td>\n",
       "                        <td id=\"T_91f2c5f4_b7ca_11ec_8417_542696de2be9row2_col1\" class=\"data row2 col1\" >0</td>\n",
       "            </tr>\n",
       "            <tr>\n",
       "                        <th id=\"T_91f2c5f4_b7ca_11ec_8417_542696de2be9level0_row3\" class=\"row_heading level0 row3\" >151139</th>\n",
       "                        <td id=\"T_91f2c5f4_b7ca_11ec_8417_542696de2be9row3_col0\" class=\"data row3 col0\" >Check out his profile, he lives to cunt</td>\n",
       "                        <td id=\"T_91f2c5f4_b7ca_11ec_8417_542696de2be9row3_col1\" class=\"data row3 col1\" >0</td>\n",
       "            </tr>\n",
       "            <tr>\n",
       "                        <th id=\"T_91f2c5f4_b7ca_11ec_8417_542696de2be9level0_row4\" class=\"row_heading level0 row4\" >273326</th>\n",
       "                        <td id=\"T_91f2c5f4_b7ca_11ec_8417_542696de2be9row4_col0\" class=\"data row4 col0\" >How about suck on a fat fucking dick u cunt</td>\n",
       "                        <td id=\"T_91f2c5f4_b7ca_11ec_8417_542696de2be9row4_col1\" class=\"data row4 col1\" >0</td>\n",
       "            </tr>\n",
       "            <tr>\n",
       "                        <th id=\"T_91f2c5f4_b7ca_11ec_8417_542696de2be9level0_row5\" class=\"row_heading level0 row5\" >8007</th>\n",
       "                        <td id=\"T_91f2c5f4_b7ca_11ec_8417_542696de2be9row5_col0\" class=\"data row5 col0\" >https://www.bbc.com/sport/football/58289653\n",
       "\n",
       "Read this report. Martinelli didn't play, and White wasn't even on the bench. But please, tell me more lies you cunt.</td>\n",
       "                        <td id=\"T_91f2c5f4_b7ca_11ec_8417_542696de2be9row5_col1\" class=\"data row5 col1\" >0</td>\n",
       "            </tr>\n",
       "            <tr>\n",
       "                        <th id=\"T_91f2c5f4_b7ca_11ec_8417_542696de2be9level0_row6\" class=\"row_heading level0 row6\" >209903</th>\n",
       "                        <td id=\"T_91f2c5f4_b7ca_11ec_8417_542696de2be9row6_col0\" class=\"data row6 col0\" >But he’s a rich, white man in America with connections.  This means that it will likely play out like so: after the 24-48 hours of socail indignation dies down, his lawyer will start communicating with the district attorney and plead his charges down something so minuscule it won’t even matter. And when this happens, because no one is paying a bit of attention anymore, he will then be eligible for rehire without prejudice by Merrill Lynch.  With the exception of a drunk cunt bringing this up at future Christmas parties, for the most part, his life will move on virtually unaffected. This is the REAL America.</td>\n",
       "                        <td id=\"T_91f2c5f4_b7ca_11ec_8417_542696de2be9row6_col1\" class=\"data row6 col1\" >0</td>\n",
       "            </tr>\n",
       "            <tr>\n",
       "                        <th id=\"T_91f2c5f4_b7ca_11ec_8417_542696de2be9level0_row7\" class=\"row_heading level0 row7\" >120434</th>\n",
       "                        <td id=\"T_91f2c5f4_b7ca_11ec_8417_542696de2be9row7_col0\" class=\"data row7 col0\" >These posts fucking suck and are just meant to karma whore</td>\n",
       "                        <td id=\"T_91f2c5f4_b7ca_11ec_8417_542696de2be9row7_col1\" class=\"data row7 col1\" >0</td>\n",
       "            </tr>\n",
       "            <tr>\n",
       "                        <th id=\"T_91f2c5f4_b7ca_11ec_8417_542696de2be9level0_row8\" class=\"row_heading level0 row8\" >49242</th>\n",
       "                        <td id=\"T_91f2c5f4_b7ca_11ec_8417_542696de2be9row8_col0\" class=\"data row8 col0\" >Didn't u tried to book that slut n fuck her all day like a cheap fuck meat</td>\n",
       "                        <td id=\"T_91f2c5f4_b7ca_11ec_8417_542696de2be9row8_col1\" class=\"data row8 col1\" >0</td>\n",
       "            </tr>\n",
       "            <tr>\n",
       "                        <th id=\"T_91f2c5f4_b7ca_11ec_8417_542696de2be9level0_row9\" class=\"row_heading level0 row9\" >121027</th>\n",
       "                        <td id=\"T_91f2c5f4_b7ca_11ec_8417_542696de2be9row9_col0\" class=\"data row9 col0\" >You make me think of an iphone and a Starbucks latte with almond milk with two sugars and sprinkles that cost extra AND YOU DON'T EVEN FUCKING EAT THEM AFTER YOU FINISH SLURPING YOU FUCKING CUNT\n",
       "\n",
       "\n",
       "*slams the door*</td>\n",
       "                        <td id=\"T_91f2c5f4_b7ca_11ec_8417_542696de2be9row9_col1\" class=\"data row9 col1\" >0</td>\n",
       "            </tr>\n",
       "    </tbody></table>"
      ],
      "text/plain": [
       "<pandas.io.formats.style.Styler at 0x7ffc13098130>"
      ]
     },
     "metadata": {},
     "output_type": "display_data"
    }
   ],
   "source": [
    "hate_class = comments_df[comments_df['label'] == 0]\n",
    "hate_comment = hate_class[['body', 'label']].sample(10)\n",
    "pd.set_option('display.max_colwidth', 100)\n",
    "hate_comment = hate_comment.style.set_properties(**{'text-align': 'left'})\n",
    "display(hate_comment)"
   ]
  },
  {
   "cell_type": "code",
   "execution_count": 34,
   "metadata": {},
   "outputs": [
    {
     "data": {
      "text/html": [
       "<style  type=\"text/css\" >\n",
       "#T_91fd28a0_b7ca_11ec_8417_542696de2be9row0_col0,#T_91fd28a0_b7ca_11ec_8417_542696de2be9row0_col1,#T_91fd28a0_b7ca_11ec_8417_542696de2be9row1_col0,#T_91fd28a0_b7ca_11ec_8417_542696de2be9row1_col1,#T_91fd28a0_b7ca_11ec_8417_542696de2be9row2_col0,#T_91fd28a0_b7ca_11ec_8417_542696de2be9row2_col1,#T_91fd28a0_b7ca_11ec_8417_542696de2be9row3_col0,#T_91fd28a0_b7ca_11ec_8417_542696de2be9row3_col1,#T_91fd28a0_b7ca_11ec_8417_542696de2be9row4_col0,#T_91fd28a0_b7ca_11ec_8417_542696de2be9row4_col1,#T_91fd28a0_b7ca_11ec_8417_542696de2be9row5_col0,#T_91fd28a0_b7ca_11ec_8417_542696de2be9row5_col1,#T_91fd28a0_b7ca_11ec_8417_542696de2be9row6_col0,#T_91fd28a0_b7ca_11ec_8417_542696de2be9row6_col1,#T_91fd28a0_b7ca_11ec_8417_542696de2be9row7_col0,#T_91fd28a0_b7ca_11ec_8417_542696de2be9row7_col1,#T_91fd28a0_b7ca_11ec_8417_542696de2be9row8_col0,#T_91fd28a0_b7ca_11ec_8417_542696de2be9row8_col1,#T_91fd28a0_b7ca_11ec_8417_542696de2be9row9_col0,#T_91fd28a0_b7ca_11ec_8417_542696de2be9row9_col1{\n",
       "            text-align:  left;\n",
       "        }</style><table id=\"T_91fd28a0_b7ca_11ec_8417_542696de2be9\" ><thead>    <tr>        <th class=\"blank level0\" ></th>        <th class=\"col_heading level0 col0\" >body</th>        <th class=\"col_heading level0 col1\" >label</th>    </tr></thead><tbody>\n",
       "                <tr>\n",
       "                        <th id=\"T_91fd28a0_b7ca_11ec_8417_542696de2be9level0_row0\" class=\"row_heading level0 row0\" >125839</th>\n",
       "                        <td id=\"T_91fd28a0_b7ca_11ec_8417_542696de2be9row0_col0\" class=\"data row0 col0\" >No I'm not a pussy tell urs ur scared cunt 🤬</td>\n",
       "                        <td id=\"T_91fd28a0_b7ca_11ec_8417_542696de2be9row0_col1\" class=\"data row0 col1\" >1</td>\n",
       "            </tr>\n",
       "            <tr>\n",
       "                        <th id=\"T_91fd28a0_b7ca_11ec_8417_542696de2be9level0_row1\" class=\"row_heading level0 row1\" >83381</th>\n",
       "                        <td id=\"T_91fd28a0_b7ca_11ec_8417_542696de2be9row1_col0\" class=\"data row1 col0\" >Cunt from the internet called me boring?  Oh shit. Time to re-evaluate life choices.</td>\n",
       "                        <td id=\"T_91fd28a0_b7ca_11ec_8417_542696de2be9row1_col1\" class=\"data row1 col1\" >1</td>\n",
       "            </tr>\n",
       "            <tr>\n",
       "                        <th id=\"T_91fd28a0_b7ca_11ec_8417_542696de2be9level0_row2\" class=\"row_heading level0 row2\" >120841</th>\n",
       "                        <td id=\"T_91fd28a0_b7ca_11ec_8417_542696de2be9row2_col0\" class=\"data row2 col0\" >What an absolute cunt. That phone would’ve been so far up his arsehole, it’d be in his mouth, if he did that to me! I’m furious for you. So sorry about your little friend ♥️</td>\n",
       "                        <td id=\"T_91fd28a0_b7ca_11ec_8417_542696de2be9row2_col1\" class=\"data row2 col1\" >1</td>\n",
       "            </tr>\n",
       "            <tr>\n",
       "                        <th id=\"T_91fd28a0_b7ca_11ec_8417_542696de2be9level0_row3\" class=\"row_heading level0 row3\" >79005</th>\n",
       "                        <td id=\"T_91fd28a0_b7ca_11ec_8417_542696de2be9row3_col0\" class=\"data row3 col0\" >100%\n",
       "\n",
       "How do you make a cunt sound smarter?    Stick a cock in her mouth.</td>\n",
       "                        <td id=\"T_91fd28a0_b7ca_11ec_8417_542696de2be9row3_col1\" class=\"data row3 col1\" >1</td>\n",
       "            </tr>\n",
       "            <tr>\n",
       "                        <th id=\"T_91fd28a0_b7ca_11ec_8417_542696de2be9level0_row4\" class=\"row_heading level0 row4\" >114820</th>\n",
       "                        <td id=\"T_91fd28a0_b7ca_11ec_8417_542696de2be9row4_col0\" class=\"data row4 col0\" >Ned Kelly was a sick cunt. Australia would be better off with more like him and less pussies like yourself.</td>\n",
       "                        <td id=\"T_91fd28a0_b7ca_11ec_8417_542696de2be9row4_col1\" class=\"data row4 col1\" >1</td>\n",
       "            </tr>\n",
       "            <tr>\n",
       "                        <th id=\"T_91fd28a0_b7ca_11ec_8417_542696de2be9level0_row5\" class=\"row_heading level0 row5\" >229122</th>\n",
       "                        <td id=\"T_91fd28a0_b7ca_11ec_8417_542696de2be9row5_col0\" class=\"data row5 col0\" >\n",
       "#[Fuck all bimbos playing this 3D game! Play now for free!](http://adult.ijioijoljoija.xyz)\n",
       "\n",
       "#[Searching for some real life sex? Find your whore, register now!](http://dating.ijioijoljoija.xyz)\n",
       "\n",
       "#[If you like anime, Check out this channel](http://youtube.ijioijoljoija.xyz)\n",
       "\n",
       "\n",
       "*I am a bot, and this action was performed automatically. Please [contact the moderators of this subreddit](/message/compose/?to=/r/FuckThisSluts) if you have any questions or concerns.*</td>\n",
       "                        <td id=\"T_91fd28a0_b7ca_11ec_8417_542696de2be9row5_col1\" class=\"data row5 col1\" >1</td>\n",
       "            </tr>\n",
       "            <tr>\n",
       "                        <th id=\"T_91fd28a0_b7ca_11ec_8417_542696de2be9level0_row6\" class=\"row_heading level0 row6\" >54641</th>\n",
       "                        <td id=\"T_91fd28a0_b7ca_11ec_8417_542696de2be9row6_col0\" class=\"data row6 col0\" >Story twist: It was you who stabbed the cunt.</td>\n",
       "                        <td id=\"T_91fd28a0_b7ca_11ec_8417_542696de2be9row6_col1\" class=\"data row6 col1\" >1</td>\n",
       "            </tr>\n",
       "            <tr>\n",
       "                        <th id=\"T_91fd28a0_b7ca_11ec_8417_542696de2be9level0_row7\" class=\"row_heading level0 row7\" >214205</th>\n",
       "                        <td id=\"T_91fd28a0_b7ca_11ec_8417_542696de2be9row7_col0\" class=\"data row7 col0\" >Isn't it crazy how people treat you when you're not a bloated, scummy cunt?</td>\n",
       "                        <td id=\"T_91fd28a0_b7ca_11ec_8417_542696de2be9row7_col1\" class=\"data row7 col1\" >1</td>\n",
       "            </tr>\n",
       "            <tr>\n",
       "                        <th id=\"T_91fd28a0_b7ca_11ec_8417_542696de2be9level0_row8\" class=\"row_heading level0 row8\" >27784</th>\n",
       "                        <td id=\"T_91fd28a0_b7ca_11ec_8417_542696de2be9row8_col0\" class=\"data row8 col0\" > It you love getting your free rides dontya cunt.</td>\n",
       "                        <td id=\"T_91fd28a0_b7ca_11ec_8417_542696de2be9row8_col1\" class=\"data row8 col1\" >1</td>\n",
       "            </tr>\n",
       "            <tr>\n",
       "                        <th id=\"T_91fd28a0_b7ca_11ec_8417_542696de2be9level0_row9\" class=\"row_heading level0 row9\" >23481</th>\n",
       "                        <td id=\"T_91fd28a0_b7ca_11ec_8417_542696de2be9row9_col0\" class=\"data row9 col0\" >yeah, i stopped reading at \"young cunt\".</td>\n",
       "                        <td id=\"T_91fd28a0_b7ca_11ec_8417_542696de2be9row9_col1\" class=\"data row9 col1\" >1</td>\n",
       "            </tr>\n",
       "    </tbody></table>"
      ],
      "text/plain": [
       "<pandas.io.formats.style.Styler at 0x7ffc162151f0>"
      ]
     },
     "metadata": {},
     "output_type": "display_data"
    }
   ],
   "source": [
    "offensive_class = comments_df[comments_df['label'] == 1]\n",
    "offensive_comment = offensive_class[['body', 'label']].sample(10)\n",
    "pd.set_option('display.max_colwidth', 100)\n",
    "offensive_comment = offensive_comment.style.set_properties(**{'text-align': 'left'})\n",
    "display(offensive_comment)"
   ]
  },
  {
   "cell_type": "code",
   "execution_count": 35,
   "metadata": {},
   "outputs": [
    {
     "data": {
      "text/html": [
       "<style  type=\"text/css\" >\n",
       "#T_920aee40_b7ca_11ec_8417_542696de2be9row0_col0,#T_920aee40_b7ca_11ec_8417_542696de2be9row0_col1,#T_920aee40_b7ca_11ec_8417_542696de2be9row1_col0,#T_920aee40_b7ca_11ec_8417_542696de2be9row1_col1,#T_920aee40_b7ca_11ec_8417_542696de2be9row2_col0,#T_920aee40_b7ca_11ec_8417_542696de2be9row2_col1,#T_920aee40_b7ca_11ec_8417_542696de2be9row3_col0,#T_920aee40_b7ca_11ec_8417_542696de2be9row3_col1,#T_920aee40_b7ca_11ec_8417_542696de2be9row4_col0,#T_920aee40_b7ca_11ec_8417_542696de2be9row4_col1,#T_920aee40_b7ca_11ec_8417_542696de2be9row5_col0,#T_920aee40_b7ca_11ec_8417_542696de2be9row5_col1,#T_920aee40_b7ca_11ec_8417_542696de2be9row6_col0,#T_920aee40_b7ca_11ec_8417_542696de2be9row6_col1,#T_920aee40_b7ca_11ec_8417_542696de2be9row7_col0,#T_920aee40_b7ca_11ec_8417_542696de2be9row7_col1,#T_920aee40_b7ca_11ec_8417_542696de2be9row8_col0,#T_920aee40_b7ca_11ec_8417_542696de2be9row8_col1,#T_920aee40_b7ca_11ec_8417_542696de2be9row9_col0,#T_920aee40_b7ca_11ec_8417_542696de2be9row9_col1{\n",
       "            text-align:  left;\n",
       "        }</style><table id=\"T_920aee40_b7ca_11ec_8417_542696de2be9\" ><thead>    <tr>        <th class=\"blank level0\" ></th>        <th class=\"col_heading level0 col0\" >body</th>        <th class=\"col_heading level0 col1\" >label</th>    </tr></thead><tbody>\n",
       "                <tr>\n",
       "                        <th id=\"T_920aee40_b7ca_11ec_8417_542696de2be9level0_row0\" class=\"row_heading level0 row0\" >265798</th>\n",
       "                        <td id=\"T_920aee40_b7ca_11ec_8417_542696de2be9row0_col0\" class=\"data row0 col0\" >id bend you over, slap you in the face while sticking my dick into your slut holes and cum while choking you and staring into your eyes</td>\n",
       "                        <td id=\"T_920aee40_b7ca_11ec_8417_542696de2be9row0_col1\" class=\"data row0 col1\" >2</td>\n",
       "            </tr>\n",
       "            <tr>\n",
       "                        <th id=\"T_920aee40_b7ca_11ec_8417_542696de2be9level0_row1\" class=\"row_heading level0 row1\" >59030</th>\n",
       "                        <td id=\"T_920aee40_b7ca_11ec_8417_542696de2be9row1_col0\" class=\"data row1 col0\" >NOT NO MORE SHE AINT! SHE'S GONE AN GROWN UP INTO A PERFECT SLUT!</td>\n",
       "                        <td id=\"T_920aee40_b7ca_11ec_8417_542696de2be9row1_col1\" class=\"data row1 col1\" >2</td>\n",
       "            </tr>\n",
       "            <tr>\n",
       "                        <th id=\"T_920aee40_b7ca_11ec_8417_542696de2be9level0_row2\" class=\"row_heading level0 row2\" >6930</th>\n",
       "                        <td id=\"T_920aee40_b7ca_11ec_8417_542696de2be9row2_col0\" class=\"data row2 col0\" >I get the slut shaming part but \"guys want to sleep with a lot of women but want to marry a virgin\" what does this have to do with FWB?</td>\n",
       "                        <td id=\"T_920aee40_b7ca_11ec_8417_542696de2be9row2_col1\" class=\"data row2 col1\" >2</td>\n",
       "            </tr>\n",
       "            <tr>\n",
       "                        <th id=\"T_920aee40_b7ca_11ec_8417_542696de2be9level0_row3\" class=\"row_heading level0 row3\" >5274</th>\n",
       "                        <td id=\"T_920aee40_b7ca_11ec_8417_542696de2be9row3_col0\" class=\"data row3 col0\" >#Some of my favorite [Masked whore](https://cumalloverus.com/bios/model-masked-whore/) videos:\n",
       "1. ###[Sloppy deepthroat from the maskedwhore](https://cumalloverus.com/highlighted/2022-01-01/model-masked-whore/ph5cc4648e0060b.html)\n",
       "2. ###[Maskedwhore hooks up with Zakee8580](https://cumalloverus.com/highlighted/2022-01-01/model-masked-whore/ph5c03b3964c4cb.html)\n",
       "3. ###[Masked whore in cheap hotel sucking dick](https://cumalloverus.com/highlighted/2022-01-01/model-masked-whore/ph5b60bebe78f13.html)</td>\n",
       "                        <td id=\"T_920aee40_b7ca_11ec_8417_542696de2be9row3_col1\" class=\"data row3 col1\" >2</td>\n",
       "            </tr>\n",
       "            <tr>\n",
       "                        <th id=\"T_920aee40_b7ca_11ec_8417_542696de2be9level0_row4\" class=\"row_heading level0 row4\" >158347</th>\n",
       "                        <td id=\"T_920aee40_b7ca_11ec_8417_542696de2be9row4_col0\" class=\"data row4 col0\" >\n",
       "#[Lay all sluts playing this 3D sex game! Try out for free!](http://adult.hawhawhawhaw.xyz)\n",
       "\n",
       "#[Looking for some real life sex? Find your whore, register now!](http://dating.hawhawhawhaw.xyz)\n",
       "\n",
       "#[If you like anime, Check out this channel](http://youtube.hawhawhawhaw.xyz)\n",
       "\n",
       "\n",
       "*I am a bot, and this action was performed automatically. Please [contact the moderators of this subreddit](/message/compose/?to=/r/FuckHerHoles) if you have any questions or concerns.*</td>\n",
       "                        <td id=\"T_920aee40_b7ca_11ec_8417_542696de2be9row4_col1\" class=\"data row4 col1\" >2</td>\n",
       "            </tr>\n",
       "            <tr>\n",
       "                        <th id=\"T_920aee40_b7ca_11ec_8417_542696de2be9level0_row5\" class=\"row_heading level0 row5\" >199964</th>\n",
       "                        <td id=\"T_920aee40_b7ca_11ec_8417_542696de2be9row5_col0\" class=\"data row5 col0\" >Looks like they just made an M&amp;M slut more modest. Good job 👍🏼</td>\n",
       "                        <td id=\"T_920aee40_b7ca_11ec_8417_542696de2be9row5_col1\" class=\"data row5 col1\" >2</td>\n",
       "            </tr>\n",
       "            <tr>\n",
       "                        <th id=\"T_920aee40_b7ca_11ec_8417_542696de2be9level0_row6\" class=\"row_heading level0 row6\" >61838</th>\n",
       "                        <td id=\"T_920aee40_b7ca_11ec_8417_542696de2be9row6_col0\" class=\"data row6 col0\" >Booo! Why is every music sub doing this?!\n",
       "\n",
       "So lame.\n",
       "\n",
       "Karma slut</td>\n",
       "                        <td id=\"T_920aee40_b7ca_11ec_8417_542696de2be9row6_col1\" class=\"data row6 col1\" >2</td>\n",
       "            </tr>\n",
       "            <tr>\n",
       "                        <th id=\"T_920aee40_b7ca_11ec_8417_542696de2be9level0_row7\" class=\"row_heading level0 row7\" >129479</th>\n",
       "                        <td id=\"T_920aee40_b7ca_11ec_8417_542696de2be9row7_col0\" class=\"data row7 col0\" >Well for starters base them out of the whore house The Wink and Kiss.   \n",
       "\n",
       "\n",
       "I Have them be fem fetale thieves that use female charms and wiles to get men alone, pry useful information of them, or even get married and important men into very compromising positions for blackmail. Not all the whores are masterful thieves, some just collect info and receive protection from the women of the hand of Yartar</td>\n",
       "                        <td id=\"T_920aee40_b7ca_11ec_8417_542696de2be9row7_col1\" class=\"data row7 col1\" >2</td>\n",
       "            </tr>\n",
       "            <tr>\n",
       "                        <th id=\"T_920aee40_b7ca_11ec_8417_542696de2be9level0_row8\" class=\"row_heading level0 row8\" >94123</th>\n",
       "                        <td id=\"T_920aee40_b7ca_11ec_8417_542696de2be9row8_col0\" class=\"data row8 col0\" >I'm sure I can handle it! I'll be a good kiss-slut for you~</td>\n",
       "                        <td id=\"T_920aee40_b7ca_11ec_8417_542696de2be9row8_col1\" class=\"data row8 col1\" >2</td>\n",
       "            </tr>\n",
       "            <tr>\n",
       "                        <th id=\"T_920aee40_b7ca_11ec_8417_542696de2be9level0_row9\" class=\"row_heading level0 row9\" >62267</th>\n",
       "                        <td id=\"T_920aee40_b7ca_11ec_8417_542696de2be9row9_col0\" class=\"data row9 col0\" >Is a dream coming true! Let me be your whore! 😍</td>\n",
       "                        <td id=\"T_920aee40_b7ca_11ec_8417_542696de2be9row9_col1\" class=\"data row9 col1\" >2</td>\n",
       "            </tr>\n",
       "    </tbody></table>"
      ],
      "text/plain": [
       "<pandas.io.formats.style.Styler at 0x7ffc16215100>"
      ]
     },
     "metadata": {},
     "output_type": "display_data"
    }
   ],
   "source": [
    "neither_class = comments_df[comments_df['label'] == 2]\n",
    "neither_comment = neither_class[['body', 'label']].sample(10)\n",
    "pd.set_option('display.max_colwidth', 100)\n",
    "neither_comment = neither_comment.style.set_properties(**{'text-align': 'left'})\n",
    "display(neither_comment)"
   ]
  },
  {
   "cell_type": "markdown",
   "metadata": {},
   "source": [
    "# Make df from a sample of comments\n",
    "### The complete dataframe of Reddit comments is too large to upload to github.\n",
    "### This makes a sample dataframe that is 1/4 the size of the complete dataframe "
   ]
  },
  {
   "cell_type": "code",
   "execution_count": 40,
   "metadata": {},
   "outputs": [
    {
     "data": {
      "text/html": [
       "<div>\n",
       "<style scoped>\n",
       "    .dataframe tbody tr th:only-of-type {\n",
       "        vertical-align: middle;\n",
       "    }\n",
       "\n",
       "    .dataframe tbody tr th {\n",
       "        vertical-align: top;\n",
       "    }\n",
       "\n",
       "    .dataframe thead th {\n",
       "        text-align: right;\n",
       "    }\n",
       "</style>\n",
       "<table border=\"1\" class=\"dataframe\">\n",
       "  <thead>\n",
       "    <tr style=\"text-align: right;\">\n",
       "      <th></th>\n",
       "      <th>id</th>\n",
       "      <th>body</th>\n",
       "    </tr>\n",
       "  </thead>\n",
       "  <tbody>\n",
       "    <tr>\n",
       "      <th>94524</th>\n",
       "      <td>hs6hoc9</td>\n",
       "      <td>#Some of my favorite [Pairepleasured](https://cumalloverus.com/bios/model-pairepleasured/) video...</td>\n",
       "    </tr>\n",
       "    <tr>\n",
       "      <th>251709</th>\n",
       "      <td>huputll</td>\n",
       "      <td>I adore mangoes (I’m a slut for mangos), oranges, pineapples, pears, and chikoo! Cherries and st...</td>\n",
       "    </tr>\n",
       "    <tr>\n",
       "      <th>213909</th>\n",
       "      <td>hu3oyvd</td>\n",
       "      <td>Someone that you would swear was trying to start disagreements and even if you went over and bey...</td>\n",
       "    </tr>\n",
       "    <tr>\n",
       "      <th>27020</th>\n",
       "      <td>hr424fp</td>\n",
       "      <td>Instead of signing a defensive midfielder we signed Ronaldo and fucked the team up .......Thanks...</td>\n",
       "    </tr>\n",
       "    <tr>\n",
       "      <th>104627</th>\n",
       "      <td>hsbxr6a</td>\n",
       "      <td>I think you bigger issue is that you failed realize you’re not the typical women. You do combat ...</td>\n",
       "    </tr>\n",
       "  </tbody>\n",
       "</table>\n",
       "</div>"
      ],
      "text/plain": [
       "             id  \\\n",
       "94524   hs6hoc9   \n",
       "251709  huputll   \n",
       "213909  hu3oyvd   \n",
       "27020   hr424fp   \n",
       "104627  hsbxr6a   \n",
       "\n",
       "                                                                                                       body  \n",
       "94524   #Some of my favorite [Pairepleasured](https://cumalloverus.com/bios/model-pairepleasured/) video...  \n",
       "251709  I adore mangoes (I’m a slut for mangos), oranges, pineapples, pears, and chikoo! Cherries and st...  \n",
       "213909  Someone that you would swear was trying to start disagreements and even if you went over and bey...  \n",
       "27020   Instead of signing a defensive midfielder we signed Ronaldo and fucked the team up .......Thanks...  \n",
       "104627  I think you bigger issue is that you failed realize you’re not the typical women. You do combat ...  "
      ]
     },
     "metadata": {},
     "output_type": "display_data"
    },
    {
     "data": {
      "text/plain": [
       "68365"
      ]
     },
     "metadata": {},
     "output_type": "display_data"
    }
   ],
   "source": [
    "comments_to_sample = pd.read_csv('data/comments_for_classification.csv')\n",
    "comments_df_sample = comments_to_sample.sample(frac = 0.25, random_state = RANDOM_SEED)\n",
    "display(comments_df_sample.head())\n",
    "display(len(comments_df_sample))\n",
    "comments_df_sample.to_csv('comments_df_sample.csv')"
   ]
  },
  {
   "cell_type": "code",
   "execution_count": null,
   "metadata": {},
   "outputs": [],
   "source": []
  }
 ],
 "metadata": {
  "kernelspec": {
   "display_name": "Python 3",
   "language": "python",
   "name": "python3"
  },
  "language_info": {
   "codemirror_mode": {
    "name": "ipython",
    "version": 3
   },
   "file_extension": ".py",
   "mimetype": "text/x-python",
   "name": "python",
   "nbconvert_exporter": "python",
   "pygments_lexer": "ipython3",
   "version": "3.8.5"
  }
 },
 "nbformat": 4,
 "nbformat_minor": 5
}

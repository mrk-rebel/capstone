{
 "cells": [
  {
   "cell_type": "markdown",
   "source": "## Question 16\n\nAre comments or submissions more toxic?\n\n#### Operationalized questions: \n* Compare the percentage of comments identified as hateful or offensive to the percentage of submissions selftext classified as hateful or offensive\n\n* Compare Detoxify scores for hateful or offensive comments and submission selftest\n\n#### Hypothesis:\n* Classification: Comments will have more items identified as hateful or offensive than will the text of submissions\n\n* Detoxify: Comments will have higher scores on Detoxify measures than will the text of submissions\n\n#### Results:\nBy isolating the toxic language (hate or offensive) in both the submissions and comments datasets, we were able to find the proportions of toxic language in each. We were surprised that while around 55% of comments were classified as toxic, only around 11% of submissions were. It should be noted, however, that of the 187,874 submissions, only 26,444 were classified, so only those were included in the analysis. Comparing toxic submissions and comments using Welch’s T-test revealed that, for each of the Detoxify metrics except Identity Attack, the p-value was lower than the 5% significance level, leading us to reject the Null Hypothesis that there is no difference between the means. For Identity Attack, the p-value was higher than the 5% significance level, leading us to fail to reject the Null Hypothesis.\n\nWe then break down the two conditions further, to compare the means between hate submissions and comments, as well as offensive submissions and comments. In the former, we find the one metric where we fail to reject the Null Hypothesis is Threat, whereas in the latter, the one metric where we fail to reject the Null Hypothesis is Identity Attack.\n",
   "metadata": {
    "cell_id": "9cdb41f45f7b410e90a1735fbcb6b3ee",
    "tags": [],
    "deepnote_cell_type": "markdown",
    "deepnote_cell_height": 626.28125
   }
  },
  {
   "cell_type": "code",
   "metadata": {
    "cell_id": "0663b93d04924f16ac51d3cc26f776c4",
    "tags": [],
    "deepnote_to_be_reexecuted": false,
    "source_hash": "fa314cbd",
    "execution_start": 1650810827430,
    "execution_millis": 1773,
    "deepnote_cell_type": "code",
    "deepnote_cell_height": 170.953125
   },
   "source": "import pandas as pd\nimport numpy as np\nfrom scipy.stats import ttest_ind\nimport seaborn as sns\nimport matplotlib.pyplot as plt\nimport matplotlib.patches as mpatches",
   "outputs": [],
   "execution_count": null
  },
  {
   "cell_type": "markdown",
   "source": "#### Read in the Comments and Submissions data",
   "metadata": {
    "cell_id": "031cba3e508c42018953c90b018ee489",
    "tags": [],
    "deepnote_cell_type": "markdown",
    "deepnote_cell_height": 53.953125
   }
  },
  {
   "cell_type": "code",
   "metadata": {
    "cell_id": "b99f606154d64a14b2194cd58e9a39dc",
    "tags": [],
    "deepnote_to_be_reexecuted": false,
    "source_hash": "c73f6e37",
    "execution_start": 1650810829206,
    "execution_millis": 5051,
    "owner_user_id": "aa81f22b-076f-4bdb-abba-2edf2197fa03",
    "deepnote_cell_type": "code",
    "deepnote_cell_height": 152.875
   },
   "source": "c = pd.read_csv('../data/processed/comments.csv')\ns = pd.read_csv('../data/processed/submissions.csv')",
   "outputs": [
    {
     "name": "stderr",
     "text": "/shared-libs/python3.9/py-core/lib/python3.9/site-packages/IPython/core/interactiveshell.py:3228: DtypeWarning: Columns (5,6,7,8,9,11,12,15) have mixed types.Specify dtype option on import or set low_memory=False.\n  has_raised = await self.run_ast_nodes(code_ast.body, cell_name,\n",
     "output_type": "stream"
    }
   ],
   "execution_count": null
  },
  {
   "cell_type": "markdown",
   "source": "#### Create separate datasets for submissions and comments Hate, Offensive and total toxic posts, and find and visualize the proportions in each dataset.\n\nAs noted in the results, a majority of the submissions posts are classified as Null values, and have been dropped from this analysis. ",
   "metadata": {
    "cell_id": "f15f78a585634773b17d8d73122632d0",
    "tags": [],
    "deepnote_cell_type": "markdown",
    "deepnote_cell_height": 112.34375
   }
  },
  {
   "cell_type": "code",
   "metadata": {
    "cell_id": "a4c4332415644f56a9bb7cef4943ad86",
    "tags": [],
    "deepnote_to_be_reexecuted": false,
    "source_hash": "3d6c73a7",
    "execution_start": 1650810834146,
    "execution_millis": 130,
    "deepnote_cell_type": "code",
    "deepnote_cell_height": 206.953125
   },
   "source": "submissions_hate = s[s.selftext_label == 0]\nsubmissions_offensive = s[s.selftext_label == 1]\nsubmissions_toxic = s[(s.selftext_label == 0) | (s.selftext_label == 1)]\n\ncomments_hate = c[c.davidson_label == 0]\ncomments_offensive = c[c.davidson_label == 1]\ncomments_toxic = c[c.davidson_label != 2]\n",
   "outputs": [],
   "execution_count": null
  },
  {
   "cell_type": "code",
   "metadata": {
    "cell_id": "0c04e10a0cbc40d5abd8ae369b006d75",
    "tags": [],
    "deepnote_to_be_reexecuted": false,
    "source_hash": "adec413d",
    "execution_start": 1650810834281,
    "execution_millis": 82,
    "deepnote_cell_type": "code",
    "deepnote_cell_height": 356.90625
   },
   "source": "proportion_df = pd.concat([pd.Series(len(submissions_hate)/len(s.dropna(subset=['selftext_label']))).to_frame(name='Submissions - Hate'),\n                    pd.Series(len(submissions_offensive)/len(s.dropna(subset=['selftext_label']))).to_frame(name='Submissions - Offensive'),\n                    pd.Series(len(submissions_toxic)/len(s.dropna(subset=['selftext_label']))).to_frame(name='Submissions - Toxic'),          \n                    pd.Series(len(comments_hate)/len(c)).to_frame(name='Comments - Hate'),\n                    pd.Series(len(comments_offensive)/len(c)).to_frame(name='Comments - Offensive'),\n                    pd.Series(len(comments_toxic)/len(c)).to_frame(name='Comments - Toxic'),     \n                   ],axis=1).rename(index={0:'proportion'})\nproportion_df",
   "outputs": [
    {
     "output_type": "execute_result",
     "execution_count": 4,
     "data": {
      "application/vnd.deepnote.dataframe.v3+json": {
       "column_count": 6,
       "row_count": 1,
       "columns": [
        {
         "name": "Submissions - Hate",
         "dtype": "float64",
         "stats": {
          "unique_count": 1,
          "nan_count": 0,
          "min": "0.018581706063720452",
          "max": "0.018581706063720452",
          "histogram": [
           {
            "bin_start": -0.48141829393627955,
            "bin_end": -0.3814182939362796,
            "count": 0
           },
           {
            "bin_start": -0.3814182939362796,
            "bin_end": -0.28141829393627954,
            "count": 0
           },
           {
            "bin_start": -0.28141829393627954,
            "bin_end": -0.1814182939362795,
            "count": 0
           },
           {
            "bin_start": -0.1814182939362795,
            "bin_end": -0.08141829393627953,
            "count": 0
           },
           {
            "bin_start": -0.08141829393627953,
            "bin_end": 0.01858170606372045,
            "count": 0
           },
           {
            "bin_start": 0.01858170606372045,
            "bin_end": 0.11858170606372054,
            "count": 1
           },
           {
            "bin_start": 0.11858170606372054,
            "bin_end": 0.21858170606372052,
            "count": 0
           },
           {
            "bin_start": 0.21858170606372052,
            "bin_end": 0.3185817060637205,
            "count": 0
           },
           {
            "bin_start": 0.3185817060637205,
            "bin_end": 0.41858170606372047,
            "count": 0
           },
           {
            "bin_start": 0.41858170606372047,
            "bin_end": 0.5185817060637204,
            "count": 0
           }
          ]
         }
        },
        {
         "name": "Submissions - Offensive",
         "dtype": "float64",
         "stats": {
          "unique_count": 1,
          "nan_count": 0,
          "min": "0.08842754367934225",
          "max": "0.08842754367934225",
          "histogram": [
           {
            "bin_start": -0.41157245632065775,
            "bin_end": -0.3115724563206578,
            "count": 0
           },
           {
            "bin_start": -0.3115724563206578,
            "bin_end": -0.21157245632065774,
            "count": 0
           },
           {
            "bin_start": -0.21157245632065774,
            "bin_end": -0.11157245632065771,
            "count": 0
           },
           {
            "bin_start": -0.11157245632065771,
            "bin_end": -0.011572456320657731,
            "count": 0
           },
           {
            "bin_start": -0.011572456320657731,
            "bin_end": 0.08842754367934225,
            "count": 0
           },
           {
            "bin_start": 0.08842754367934225,
            "bin_end": 0.18842754367934234,
            "count": 1
           },
           {
            "bin_start": 0.18842754367934234,
            "bin_end": 0.2884275436793423,
            "count": 0
           },
           {
            "bin_start": 0.2884275436793423,
            "bin_end": 0.3884275436793423,
            "count": 0
           },
           {
            "bin_start": 0.3884275436793423,
            "bin_end": 0.48842754367934227,
            "count": 0
           },
           {
            "bin_start": 0.48842754367934227,
            "bin_end": 0.5884275436793422,
            "count": 0
           }
          ]
         }
        },
        {
         "name": "Submissions - Toxic",
         "dtype": "float64",
         "stats": {
          "unique_count": 1,
          "nan_count": 0,
          "min": "0.1070092497430627",
          "max": "0.1070092497430627",
          "histogram": [
           {
            "bin_start": -0.3929907502569373,
            "bin_end": -0.2929907502569373,
            "count": 0
           },
           {
            "bin_start": -0.2929907502569373,
            "bin_end": -0.1929907502569373,
            "count": 0
           },
           {
            "bin_start": -0.1929907502569373,
            "bin_end": -0.09299075025693726,
            "count": 0
           },
           {
            "bin_start": -0.09299075025693726,
            "bin_end": 0.007009249743062718,
            "count": 0
           },
           {
            "bin_start": 0.007009249743062718,
            "bin_end": 0.1070092497430627,
            "count": 0
           },
           {
            "bin_start": 0.1070092497430627,
            "bin_end": 0.20700924974306278,
            "count": 1
           },
           {
            "bin_start": 0.20700924974306278,
            "bin_end": 0.30700924974306276,
            "count": 0
           },
           {
            "bin_start": 0.30700924974306276,
            "bin_end": 0.40700924974306274,
            "count": 0
           },
           {
            "bin_start": 0.40700924974306274,
            "bin_end": 0.5070092497430627,
            "count": 0
           },
           {
            "bin_start": 0.5070092497430627,
            "bin_end": 0.6070092497430627,
            "count": 0
           }
          ]
         }
        },
        {
         "name": "Comments - Hate",
         "dtype": "float64",
         "stats": {
          "unique_count": 1,
          "nan_count": 0,
          "min": "0.2054248182531001",
          "max": "0.2054248182531001",
          "histogram": [
           {
            "bin_start": -0.2945751817468999,
            "bin_end": -0.1945751817468999,
            "count": 0
           },
           {
            "bin_start": -0.1945751817468999,
            "bin_end": -0.09457518174689988,
            "count": 0
           },
           {
            "bin_start": -0.09457518174689988,
            "bin_end": 0.00542481825310015,
            "count": 0
           },
           {
            "bin_start": 0.00542481825310015,
            "bin_end": 0.10542481825310013,
            "count": 0
           },
           {
            "bin_start": 0.10542481825310013,
            "bin_end": 0.2054248182531001,
            "count": 0
           },
           {
            "bin_start": 0.2054248182531001,
            "bin_end": 0.3054248182531002,
            "count": 1
           },
           {
            "bin_start": 0.3054248182531002,
            "bin_end": 0.40542481825310017,
            "count": 0
           },
           {
            "bin_start": 0.40542481825310017,
            "bin_end": 0.5054248182531001,
            "count": 0
           },
           {
            "bin_start": 0.5054248182531001,
            "bin_end": 0.6054248182531001,
            "count": 0
           },
           {
            "bin_start": 0.6054248182531001,
            "bin_end": 0.7054248182531001,
            "count": 0
           }
          ]
         }
        },
        {
         "name": "Comments - Offensive",
         "dtype": "float64",
         "stats": {
          "unique_count": 1,
          "nan_count": 0,
          "min": "0.34578860246072235",
          "max": "0.34578860246072235",
          "histogram": [
           {
            "bin_start": -0.15421139753927765,
            "bin_end": -0.054211397539277645,
            "count": 0
           },
           {
            "bin_start": -0.054211397539277645,
            "bin_end": 0.04578860246072236,
            "count": 0
           },
           {
            "bin_start": 0.04578860246072236,
            "bin_end": 0.1457886024607224,
            "count": 0
           },
           {
            "bin_start": 0.1457886024607224,
            "bin_end": 0.24578860246072237,
            "count": 0
           },
           {
            "bin_start": 0.24578860246072237,
            "bin_end": 0.34578860246072235,
            "count": 0
           },
           {
            "bin_start": 0.34578860246072235,
            "bin_end": 0.44578860246072244,
            "count": 1
           },
           {
            "bin_start": 0.44578860246072244,
            "bin_end": 0.5457886024607224,
            "count": 0
           },
           {
            "bin_start": 0.5457886024607224,
            "bin_end": 0.6457886024607224,
            "count": 0
           },
           {
            "bin_start": 0.6457886024607224,
            "bin_end": 0.7457886024607223,
            "count": 0
           },
           {
            "bin_start": 0.7457886024607223,
            "bin_end": 0.8457886024607224,
            "count": 0
           }
          ]
         }
        },
        {
         "name": "Comments - Toxic",
         "dtype": "float64",
         "stats": {
          "unique_count": 1,
          "nan_count": 0,
          "min": "0.5512134207138224",
          "max": "0.5512134207138224",
          "histogram": [
           {
            "bin_start": 0.0512134207138224,
            "bin_end": 0.1512134207138224,
            "count": 0
           },
           {
            "bin_start": 0.1512134207138224,
            "bin_end": 0.2512134207138224,
            "count": 0
           },
           {
            "bin_start": 0.2512134207138224,
            "bin_end": 0.35121342071382244,
            "count": 0
           },
           {
            "bin_start": 0.35121342071382244,
            "bin_end": 0.4512134207138224,
            "count": 0
           },
           {
            "bin_start": 0.4512134207138224,
            "bin_end": 0.5512134207138224,
            "count": 0
           },
           {
            "bin_start": 0.5512134207138224,
            "bin_end": 0.6512134207138225,
            "count": 1
           },
           {
            "bin_start": 0.6512134207138225,
            "bin_end": 0.7512134207138225,
            "count": 0
           },
           {
            "bin_start": 0.7512134207138225,
            "bin_end": 0.8512134207138224,
            "count": 0
           },
           {
            "bin_start": 0.8512134207138224,
            "bin_end": 0.9512134207138224,
            "count": 0
           },
           {
            "bin_start": 0.9512134207138224,
            "bin_end": 1.0512134207138224,
            "count": 0
           }
          ]
         }
        },
        {
         "name": "_deepnote_index_column",
         "dtype": "object"
        }
       ],
       "rows": [
        {
         "Submissions - Hate": 0.018581706063720452,
         "Submissions - Offensive": 0.08842754367934225,
         "Submissions - Toxic": 0.1070092497430627,
         "Comments - Hate": 0.2054248182531001,
         "Comments - Offensive": 0.34578860246072235,
         "Comments - Toxic": 0.5512134207138224,
         "_deepnote_index_column": "proportion"
        }
       ]
      },
      "text/plain": "            Submissions - Hate  Submissions - Offensive  Submissions - Toxic  \\\nproportion            0.018582                 0.088428             0.107009   \n\n            Comments - Hate  Comments - Offensive  Comments - Toxic  \nproportion         0.205425              0.345789          0.551213  ",
      "text/html": "<div>\n<style scoped>\n    .dataframe tbody tr th:only-of-type {\n        vertical-align: middle;\n    }\n\n    .dataframe tbody tr th {\n        vertical-align: top;\n    }\n\n    .dataframe thead th {\n        text-align: right;\n    }\n</style>\n<table border=\"1\" class=\"dataframe\">\n  <thead>\n    <tr style=\"text-align: right;\">\n      <th></th>\n      <th>Submissions - Hate</th>\n      <th>Submissions - Offensive</th>\n      <th>Submissions - Toxic</th>\n      <th>Comments - Hate</th>\n      <th>Comments - Offensive</th>\n      <th>Comments - Toxic</th>\n    </tr>\n  </thead>\n  <tbody>\n    <tr>\n      <th>proportion</th>\n      <td>0.018582</td>\n      <td>0.088428</td>\n      <td>0.107009</td>\n      <td>0.205425</td>\n      <td>0.345789</td>\n      <td>0.551213</td>\n    </tr>\n  </tbody>\n</table>\n</div>"
     },
     "metadata": {}
    }
   ],
   "execution_count": null
  },
  {
   "cell_type": "code",
   "metadata": {
    "cell_id": "770e8a8f5bbc42668c5d09a1bcf91219",
    "tags": [],
    "deepnote_to_be_reexecuted": false,
    "source_hash": "8507a78c",
    "execution_start": 1650810834372,
    "execution_millis": 490,
    "is_code_hidden": false,
    "owner_user_id": "01404595-a74c-436c-80cf-a519a38e575c",
    "deepnote_cell_type": "code",
    "deepnote_cell_height": 1090.9375,
    "deepnote_output_heights": [
     507.984375
    ]
   },
   "source": "sub_hate = float(proportion_df['Submissions - Hate'])\nsub_off = float(proportion_df['Submissions - Offensive'])\nsub_total = float(proportion_df['Submissions - Toxic'])\n\ncom_hate = float(proportion_df['Comments - Hate'])\ncom_off = float(proportion_df['Comments - Offensive'])\ncom_total = float(proportion_df['Comments - Toxic'])\n\nfig, axes = plt.subplots(2, 3, figsize=(15, 8))\ncolors = sns.color_palette('pastel')\n\naxes[0,0].pie([sub_hate, 1-sub_hate], labels=['toxic','non-toxic'], colors=[colors[1],colors[4]], autopct='%.0f%%')\naxes[0,0].set_title('Submissions - Hate')\naxes[0,1].pie([sub_off, 1-sub_off], labels=['toxic','non-toxic'], colors=[colors[1],colors[4]], autopct='%.0f%%')\naxes[0,1].set_title('Submissions - Offensive')\naxes[0,2].pie([sub_total, 1-sub_total], labels=['toxic','non-toxic'], colors=[colors[1],colors[4]], autopct='%.0f%%')\naxes[0,2].set_title('Submissions - Toxic')\n\naxes[1,0].pie([com_hate, 1-com_hate], labels=['toxic','non-toxic'], colors=[colors[1],colors[0]], autopct='%.0f%%')\naxes[1,0].set_title('Comments - Hate')\naxes[1,1].pie([com_off, 1-com_off], labels=['toxic','non-toxic'], colors=[colors[1],colors[0]], autopct='%.0f%%')\naxes[1,1].set_title('Comments - Offensive')\naxes[1,2].pie([com_total, 1-com_total], labels=['toxic','non-toxic'], colors=[colors[1],colors[0]], autopct='%.0f%%')\naxes[1,2].set_title('Comments - Toxic')\n\nplt.suptitle('Percentage of Toxic and Non-Toxic Submissions and Comments')\nplt.show()\n",
   "outputs": [
    {
     "data": {
      "text/plain": "<Figure size 1080x576 with 6 Axes>",
      "image/png": "[encoded data removed]"
     },
     "metadata": {
      "image/png": {
       "width": 844,
       "height": 506
      }
     },
     "output_type": "display_data"
    }
   ],
   "execution_count": null
  },
  {
   "cell_type": "markdown",
   "source": "#### Extract the Detoxify scores from each dataset and gather test statistics",
   "metadata": {
    "cell_id": "e47d333029514fd8bd41ed5ffc8e419b",
    "tags": [],
    "deepnote_cell_type": "markdown",
    "deepnote_cell_height": 53.953125
   }
  },
  {
   "cell_type": "code",
   "metadata": {
    "cell_id": "05456bcd6e2944ca92b5e07fbae27046",
    "tags": [],
    "deepnote_to_be_reexecuted": false,
    "source_hash": "750ce450",
    "execution_start": 1650810834895,
    "execution_millis": 30,
    "deepnote_cell_type": "code",
    "deepnote_cell_height": 242.96875
   },
   "source": "detoxify = ['toxicity', 'severe_toxicity', 'obscene','identity_attack', 'insult', 'threat', 'sexual_explicit']\n\nsubmissions_hate = submissions_hate[detoxify]\nsubmissions_offensive = submissions_offensive[detoxify]\nsubmissions_toxic = submissions_toxic[detoxify]\n\ncomments_hate = comments_hate[detoxify]\ncomments_offensive = comments_offensive[detoxify]\ncomments_toxic = comments_toxic[detoxify]\n",
   "outputs": [],
   "execution_count": null
  },
  {
   "cell_type": "code",
   "metadata": {
    "cell_id": "79e063d021cc4737ac9202689547a6fd",
    "tags": [],
    "deepnote_to_be_reexecuted": false,
    "source_hash": "2b7cda83",
    "execution_start": 1650810834930,
    "execution_millis": 4,
    "deepnote_cell_type": "code",
    "deepnote_cell_height": 620.953125
   },
   "source": "def collect_toxicity_test_statistics(dataset_1, dataset_2, alpha=0.05): \n    ttest_df = pd.DataFrame(columns=['variable','t-statistic','p-value','H0','variance'])\n    \n    variables = ['toxicity', 'severe_toxicity', 'obscene', 'identity_attack', 'insult','threat', 'sexual_explicit']\n    ttest_df['variable'] = variables\n\n    for variable in variables:\n        ttest_x=dataset_1[variable]\n        ttest_y=dataset_2[variable]\n        \n        if np.var(ttest_x) != np.var(ttest_y):\n            ttest_df.loc[ttest_df['variable']==variable,'variance'] = 'unequal'\n            ttest = ttest_ind(ttest_x, ttest_y, nan_policy='omit', equal_var=False)\n            ttest_df.loc[ttest_df['variable']==variable,'t-statistic'] = ttest[0]\n            ttest_df.loc[ttest_df['variable']==variable,'p-value'] = ttest[1]\n            if ttest[1] > alpha:\n                ttest_df.loc[ttest_df['variable']==variable,'H0'] = 'fail to reject'\n            else:\n                ttest_df.loc[ttest_df['variable']==variable,'H0'] = 'reject'\n        else:\n            ttest_df.loc[ttest_df['variable']==variable,'variance'] = 'equal'\n            ttest = ttest_ind(ttest_x, ttest_y, nan_policy='omit')\n            ttest_df.loc[ttest_df['variable']==variable,'t-statistic'] = ttest[0]\n            ttest_df.loc[ttest_df['variable']==variable,'p-value'] = ttest[1]\n            if ttest[1] > alpha:\n                ttest_df.loc[ttest_df['variable']==variable,'H0'] = 'fail to reject'\n            else:\n                ttest_df.loc[ttest_df['variable']==variable,'H0'] = 'reject'\n    \n    return ttest_df\n",
   "outputs": [],
   "execution_count": null
  },
  {
   "cell_type": "code",
   "metadata": {
    "cell_id": "f4fac43aca1c4e8bb05bc12ffcd4cf98",
    "tags": [],
    "deepnote_to_be_reexecuted": false,
    "source_hash": "34dfd7dc",
    "execution_start": 1650810834935,
    "execution_millis": 52,
    "deepnote_cell_type": "code",
    "deepnote_cell_height": 476.875
   },
   "source": "collect_toxicity_test_statistics(submissions_toxic, comments_toxic)",
   "outputs": [
    {
     "output_type": "execute_result",
     "execution_count": 8,
     "data": {
      "application/vnd.deepnote.dataframe.v3+json": {
       "column_count": 5,
       "row_count": 7,
       "columns": [
        {
         "name": "variable",
         "dtype": "object",
         "stats": {
          "unique_count": 7,
          "nan_count": 0,
          "categories": [
           {
            "name": "toxicity",
            "count": 1
           },
           {
            "name": "severe_toxicity",
            "count": 1
           },
           {
            "name": "5 others",
            "count": 5
           }
          ]
         }
        },
        {
         "name": "t-statistic",
         "dtype": "object",
         "stats": {
          "unique_count": 7,
          "nan_count": 0,
          "categories": [
           {
            "name": "-22.58941518763084",
            "count": 1
           },
           {
            "name": "-33.942918587973224",
            "count": 1
           },
           {
            "name": "5 others",
            "count": 5
           }
          ]
         }
        },
        {
         "name": "p-value",
         "dtype": "object",
         "stats": {
          "unique_count": 7,
          "nan_count": 0,
          "categories": [
           {
            "name": "2.14698184137759e-103",
            "count": 1
           },
           {
            "name": "1.6246491985505192e-212",
            "count": 1
           },
           {
            "name": "5 others",
            "count": 5
           }
          ]
         }
        },
        {
         "name": "H0",
         "dtype": "object",
         "stats": {
          "unique_count": 2,
          "nan_count": 0,
          "categories": [
           {
            "name": "reject",
            "count": 6
           },
           {
            "name": "fail to reject",
            "count": 1
           }
          ]
         }
        },
        {
         "name": "variance",
         "dtype": "object",
         "stats": {
          "unique_count": 1,
          "nan_count": 0,
          "categories": [
           {
            "name": "unequal",
            "count": 7
           }
          ]
         }
        },
        {
         "name": "_deepnote_index_column",
         "dtype": "int64"
        }
       ],
       "rows": [
        {
         "variable": "toxicity",
         "t-statistic": "-22.58941518763084",
         "p-value": "2.14698184137759e-103",
         "H0": "reject",
         "variance": "unequal",
         "_deepnote_index_column": 0
        },
        {
         "variable": "severe_toxicity",
         "t-statistic": "-33.942918587973224",
         "p-value": "1.6246491985505192e-212",
         "H0": "reject",
         "variance": "unequal",
         "_deepnote_index_column": 1
        },
        {
         "variable": "obscene",
         "t-statistic": "-24.015849184257874",
         "p-value": "2.031889458489158e-115",
         "H0": "reject",
         "variance": "unequal",
         "_deepnote_index_column": 2
        },
        {
         "variable": "identity_attack",
         "t-statistic": "1.0728247215195088",
         "p-value": "0.2834458576536399",
         "H0": "fail to reject",
         "variance": "unequal",
         "_deepnote_index_column": 3
        },
        {
         "variable": "insult",
         "t-statistic": "-41.008661417755896",
         "p-value": "8.18564298975682e-287",
         "H0": "reject",
         "variance": "unequal",
         "_deepnote_index_column": 4
        },
        {
         "variable": "threat",
         "t-statistic": "-8.547224718917594",
         "p-value": "1.993557299660768e-17",
         "H0": "reject",
         "variance": "unequal",
         "_deepnote_index_column": 5
        },
        {
         "variable": "sexual_explicit",
         "t-statistic": "-17.909970367680437",
         "p-value": "7.566109256881298e-68",
         "H0": "reject",
         "variance": "unequal",
         "_deepnote_index_column": 6
        }
       ]
      },
      "text/plain": "          variable t-statistic   p-value              H0 variance\n0         toxicity  -22.589415       0.0          reject  unequal\n1  severe_toxicity  -33.942919       0.0          reject  unequal\n2          obscene  -24.015849       0.0          reject  unequal\n3  identity_attack    1.072825  0.283446  fail to reject  unequal\n4           insult  -41.008661       0.0          reject  unequal\n5           threat   -8.547225       0.0          reject  unequal\n6  sexual_explicit   -17.90997       0.0          reject  unequal",
      "text/html": "<div>\n<style scoped>\n    .dataframe tbody tr th:only-of-type {\n        vertical-align: middle;\n    }\n\n    .dataframe tbody tr th {\n        vertical-align: top;\n    }\n\n    .dataframe thead th {\n        text-align: right;\n    }\n</style>\n<table border=\"1\" class=\"dataframe\">\n  <thead>\n    <tr style=\"text-align: right;\">\n      <th></th>\n      <th>variable</th>\n      <th>t-statistic</th>\n      <th>p-value</th>\n      <th>H0</th>\n      <th>variance</th>\n    </tr>\n  </thead>\n  <tbody>\n    <tr>\n      <th>0</th>\n      <td>toxicity</td>\n      <td>-22.589415</td>\n      <td>0.0</td>\n      <td>reject</td>\n      <td>unequal</td>\n    </tr>\n    <tr>\n      <th>1</th>\n      <td>severe_toxicity</td>\n      <td>-33.942919</td>\n      <td>0.0</td>\n      <td>reject</td>\n      <td>unequal</td>\n    </tr>\n    <tr>\n      <th>2</th>\n      <td>obscene</td>\n      <td>-24.015849</td>\n      <td>0.0</td>\n      <td>reject</td>\n      <td>unequal</td>\n    </tr>\n    <tr>\n      <th>3</th>\n      <td>identity_attack</td>\n      <td>1.072825</td>\n      <td>0.283446</td>\n      <td>fail to reject</td>\n      <td>unequal</td>\n    </tr>\n    <tr>\n      <th>4</th>\n      <td>insult</td>\n      <td>-41.008661</td>\n      <td>0.0</td>\n      <td>reject</td>\n      <td>unequal</td>\n    </tr>\n    <tr>\n      <th>5</th>\n      <td>threat</td>\n      <td>-8.547225</td>\n      <td>0.0</td>\n      <td>reject</td>\n      <td>unequal</td>\n    </tr>\n    <tr>\n      <th>6</th>\n      <td>sexual_explicit</td>\n      <td>-17.90997</td>\n      <td>0.0</td>\n      <td>reject</td>\n      <td>unequal</td>\n    </tr>\n  </tbody>\n</table>\n</div>"
     },
     "metadata": {}
    }
   ],
   "execution_count": null
  },
  {
   "cell_type": "markdown",
   "source": "#### Visualize the mean Detoxify scores for comments and submissions ",
   "metadata": {
    "cell_id": "752be1e3966f40babab6ca0a61dbf88a",
    "tags": [],
    "deepnote_cell_type": "markdown",
    "deepnote_cell_height": 53.953125
   }
  },
  {
   "cell_type": "code",
   "metadata": {
    "cell_id": "4e68d3a656864e07b5a23c79d4b74e2d",
    "tags": [],
    "deepnote_to_be_reexecuted": false,
    "source_hash": "716c93c6",
    "execution_start": 1650810835028,
    "execution_millis": 9827,
    "deepnote_cell_type": "code",
    "deepnote_cell_height": 1312.296875,
    "deepnote_output_heights": [
     21.1875,
     533.171875
    ]
   },
   "source": "toxic_toxicity_df = pd.concat([submissions_toxic.toxicity.to_frame(name='Submissions - Toxic'),\n                  comments_toxic.toxicity.to_frame(name='Comments - Toxic')],axis=1)\ntoxic_severe_toxicity_df = pd.concat([submissions_toxic.severe_toxicity.to_frame(name='Submissions - Toxic'),\n                  comments_toxic.severe_toxicity.to_frame(name='Comments - Toxic')],axis=1)\ntoxic_obscene_df = pd.concat([submissions_toxic.obscene.to_frame(name='Submissions - Toxic'),\n                  comments_toxic.obscene.to_frame(name='Comments - Toxic')],axis=1)\ntoxic_identity_attack_df = pd.concat([submissions_toxic.identity_attack.to_frame(name='Submissions - Toxic'),\n                  comments_toxic.identity_attack.to_frame(name='Comments - Toxic')],axis=1)\ntoxic_insult_df = pd.concat([submissions_toxic.insult.to_frame(name='Submissions - Toxic'),\n                  comments_toxic.insult.to_frame(name='Comments - Toxic')],axis=1)\ntoxic_threat_df = pd.concat([submissions_toxic.threat.to_frame(name='Submissions - Toxic'),\n                  comments_toxic.threat.to_frame(name='Comments - Toxic')],axis=1)\ntoxic_sexual_explicit_df = pd.concat([submissions_toxic.sexual_explicit.to_frame(name='Submissions - Toxic'),\n                  comments_toxic.sexual_explicit.to_frame(name='Comments - Toxic')],axis=1)\n\nfig, axes = plt.subplots(2, 4, figsize=(15, 8))\n\nsns.barplot(ax=axes[0, 0], data=toxic_toxicity_df, palette='Set1').set(xticklabels=['Submissions','Comments'],ylabel=',Score',title='Toxicity')\nsns.barplot(ax=axes[0, 1], data=toxic_severe_toxicity_df, palette='Set1').set(xticklabels=['Submissions','Comments'],ylabel='',title='Severe Toxicity')\nsns.barplot(ax=axes[0, 2], data=toxic_obscene_df, palette='Set1').set(xticklabels=['Submissions','Comments'],ylabel='',title='Obscene')\nsns.barplot(ax=axes[0, 3], data=toxic_identity_attack_df, palette='Set1').set(xticklabels=['Submissions','Comments'],ylabel='',title='Identity Attack')\nsns.barplot(ax=axes[1, 0], data=toxic_insult_df, palette='Set1').set(xticklabels=['Submissions','Comments'],ylabel='Score',title='Insult')\nsns.barplot(ax=axes[1, 1], data=toxic_threat_df, palette='Set1').set(xticklabels=['Submissions','Comments'],ylabel='',title='Threat')\nsns.barplot(ax=axes[1, 2], data=toxic_sexual_explicit_df, palette='Set1').set(xticklabels=['Submissions','Comments'],ylabel='',title='Sexually Explicit')\naxes[1, 3].set_visible(False)\n\nplt.subplots_adjust(left=0.1,\n                    bottom=0.1, \n                    right=0.9, \n                    top=0.9, \n                    wspace=0.4, \n                    hspace=0.4)\n\nfig.suptitle('Detoxify Scores for Toxic Submissions and Comments', y=(1.02),size=15)\n\n    ",
   "outputs": [
    {
     "output_type": "execute_result",
     "execution_count": 9,
     "data": {
      "text/plain": "Text(0.5, 1.02, 'Detoxify Scores for Toxic Submissions and Comments')"
     },
     "metadata": {}
    },
    {
     "data": {
      "text/plain": "<Figure size 1080x576 with 8 Axes>",
      "image/png": "[encoded data removed]"
     },
     "metadata": {
      "needs_background": "light",
      "image/png": {
       "width": 915,
       "height": 561
      }
     },
     "output_type": "display_data"
    }
   ],
   "execution_count": null
  },
  {
   "cell_type": "markdown",
   "source": "#### Gather test statistics for both Hate and Offensive submissions and comments",
   "metadata": {
    "cell_id": "41dc54e08df04bb79a59c16cb0f7314a",
    "tags": [],
    "deepnote_cell_type": "markdown",
    "deepnote_cell_height": 53.953125
   }
  },
  {
   "cell_type": "code",
   "metadata": {
    "cell_id": "f56c4d19f2b44e32ae407198879c12c9",
    "tags": [],
    "deepnote_to_be_reexecuted": false,
    "source_hash": "e306c267",
    "execution_start": 1650810844474,
    "execution_millis": 382,
    "deepnote_cell_type": "code",
    "deepnote_cell_height": 476.875
   },
   "source": "collect_toxicity_test_statistics(submissions_hate, comments_hate)",
   "outputs": [
    {
     "output_type": "execute_result",
     "execution_count": 10,
     "data": {
      "application/vnd.deepnote.dataframe.v3+json": {
       "column_count": 5,
       "row_count": 7,
       "columns": [
        {
         "name": "variable",
         "dtype": "object",
         "stats": {
          "unique_count": 7,
          "nan_count": 0,
          "categories": [
           {
            "name": "toxicity",
            "count": 1
           },
           {
            "name": "severe_toxicity",
            "count": 1
           },
           {
            "name": "5 others",
            "count": 5
           }
          ]
         }
        },
        {
         "name": "t-statistic",
         "dtype": "object",
         "stats": {
          "unique_count": 7,
          "nan_count": 0,
          "categories": [
           {
            "name": "-13.622077989719129",
            "count": 1
           },
           {
            "name": "-11.353684612260112",
            "count": 1
           },
           {
            "name": "5 others",
            "count": 5
           }
          ]
         }
        },
        {
         "name": "p-value",
         "dtype": "object",
         "stats": {
          "unique_count": 7,
          "nan_count": 0,
          "categories": [
           {
            "name": "1.2168026153018203e-35",
            "count": 1
           },
           {
            "name": "1.6220179366789445e-26",
            "count": 1
           },
           {
            "name": "5 others",
            "count": 5
           }
          ]
         }
        },
        {
         "name": "H0",
         "dtype": "object",
         "stats": {
          "unique_count": 2,
          "nan_count": 0,
          "categories": [
           {
            "name": "reject",
            "count": 6
           },
           {
            "name": "fail to reject",
            "count": 1
           }
          ]
         }
        },
        {
         "name": "variance",
         "dtype": "object",
         "stats": {
          "unique_count": 1,
          "nan_count": 0,
          "categories": [
           {
            "name": "unequal",
            "count": 7
           }
          ]
         }
        },
        {
         "name": "_deepnote_index_column",
         "dtype": "int64"
        }
       ],
       "rows": [
        {
         "variable": "toxicity",
         "t-statistic": "-13.622077989719129",
         "p-value": "1.2168026153018203e-35",
         "H0": "reject",
         "variance": "unequal",
         "_deepnote_index_column": 0
        },
        {
         "variable": "severe_toxicity",
         "t-statistic": "-11.353684612260112",
         "p-value": "1.6220179366789445e-26",
         "H0": "reject",
         "variance": "unequal",
         "_deepnote_index_column": 1
        },
        {
         "variable": "obscene",
         "t-statistic": "-16.489099853008117",
         "p-value": "3.632939279075613e-48",
         "H0": "reject",
         "variance": "unequal",
         "_deepnote_index_column": 2
        },
        {
         "variable": "identity_attack",
         "t-statistic": "5.458085221269905",
         "p-value": "7.91970383403708e-08",
         "H0": "reject",
         "variance": "unequal",
         "_deepnote_index_column": 3
        },
        {
         "variable": "insult",
         "t-statistic": "-16.770147943367185",
         "p-value": "1.6212192592923969e-49",
         "H0": "reject",
         "variance": "unequal",
         "_deepnote_index_column": 4
        },
        {
         "variable": "threat",
         "t-statistic": "0.9377785624034943",
         "p-value": "0.34885010826252405",
         "H0": "fail to reject",
         "variance": "unequal",
         "_deepnote_index_column": 5
        },
        {
         "variable": "sexual_explicit",
         "t-statistic": "-18.412554424679634",
         "p-value": "3.7613403445118624e-57",
         "H0": "reject",
         "variance": "unequal",
         "_deepnote_index_column": 6
        }
       ]
      },
      "text/plain": "          variable t-statistic  p-value              H0 variance\n0         toxicity  -13.622078      0.0          reject  unequal\n1  severe_toxicity  -11.353685      0.0          reject  unequal\n2          obscene    -16.4891      0.0          reject  unequal\n3  identity_attack    5.458085      0.0          reject  unequal\n4           insult  -16.770148      0.0          reject  unequal\n5           threat    0.937779  0.34885  fail to reject  unequal\n6  sexual_explicit  -18.412554      0.0          reject  unequal",
      "text/html": "<div>\n<style scoped>\n    .dataframe tbody tr th:only-of-type {\n        vertical-align: middle;\n    }\n\n    .dataframe tbody tr th {\n        vertical-align: top;\n    }\n\n    .dataframe thead th {\n        text-align: right;\n    }\n</style>\n<table border=\"1\" class=\"dataframe\">\n  <thead>\n    <tr style=\"text-align: right;\">\n      <th></th>\n      <th>variable</th>\n      <th>t-statistic</th>\n      <th>p-value</th>\n      <th>H0</th>\n      <th>variance</th>\n    </tr>\n  </thead>\n  <tbody>\n    <tr>\n      <th>0</th>\n      <td>toxicity</td>\n      <td>-13.622078</td>\n      <td>0.0</td>\n      <td>reject</td>\n      <td>unequal</td>\n    </tr>\n    <tr>\n      <th>1</th>\n      <td>severe_toxicity</td>\n      <td>-11.353685</td>\n      <td>0.0</td>\n      <td>reject</td>\n      <td>unequal</td>\n    </tr>\n    <tr>\n      <th>2</th>\n      <td>obscene</td>\n      <td>-16.4891</td>\n      <td>0.0</td>\n      <td>reject</td>\n      <td>unequal</td>\n    </tr>\n    <tr>\n      <th>3</th>\n      <td>identity_attack</td>\n      <td>5.458085</td>\n      <td>0.0</td>\n      <td>reject</td>\n      <td>unequal</td>\n    </tr>\n    <tr>\n      <th>4</th>\n      <td>insult</td>\n      <td>-16.770148</td>\n      <td>0.0</td>\n      <td>reject</td>\n      <td>unequal</td>\n    </tr>\n    <tr>\n      <th>5</th>\n      <td>threat</td>\n      <td>0.937779</td>\n      <td>0.34885</td>\n      <td>fail to reject</td>\n      <td>unequal</td>\n    </tr>\n    <tr>\n      <th>6</th>\n      <td>sexual_explicit</td>\n      <td>-18.412554</td>\n      <td>0.0</td>\n      <td>reject</td>\n      <td>unequal</td>\n    </tr>\n  </tbody>\n</table>\n</div>"
     },
     "metadata": {}
    }
   ],
   "execution_count": null
  },
  {
   "cell_type": "code",
   "metadata": {
    "cell_id": "7387776a57914369aab4926429e875c1",
    "tags": [],
    "deepnote_to_be_reexecuted": false,
    "source_hash": "89439a3a",
    "execution_start": 1650810844516,
    "execution_millis": 341,
    "deepnote_cell_type": "code",
    "deepnote_cell_height": 476.875
   },
   "source": "collect_toxicity_test_statistics(submissions_offensive, comments_offensive)",
   "outputs": [
    {
     "output_type": "execute_result",
     "execution_count": 11,
     "data": {
      "application/vnd.deepnote.dataframe.v3+json": {
       "column_count": 5,
       "row_count": 7,
       "columns": [
        {
         "name": "variable",
         "dtype": "object",
         "stats": {
          "unique_count": 7,
          "nan_count": 0,
          "categories": [
           {
            "name": "toxicity",
            "count": 1
           },
           {
            "name": "severe_toxicity",
            "count": 1
           },
           {
            "name": "5 others",
            "count": 5
           }
          ]
         }
        },
        {
         "name": "t-statistic",
         "dtype": "object",
         "stats": {
          "unique_count": 7,
          "nan_count": 0,
          "categories": [
           {
            "name": "-17.606685251947226",
            "count": 1
           },
           {
            "name": "-25.808430727496663",
            "count": 1
           },
           {
            "name": "5 others",
            "count": 5
           }
          ]
         }
        },
        {
         "name": "p-value",
         "dtype": "object",
         "stats": {
          "unique_count": 7,
          "nan_count": 0,
          "categories": [
           {
            "name": "5.161653468282383e-65",
            "count": 1
           },
           {
            "name": "3.08068157714106e-130",
            "count": 1
           },
           {
            "name": "5 others",
            "count": 5
           }
          ]
         }
        },
        {
         "name": "H0",
         "dtype": "object",
         "stats": {
          "unique_count": 2,
          "nan_count": 0,
          "categories": [
           {
            "name": "reject",
            "count": 6
           },
           {
            "name": "fail to reject",
            "count": 1
           }
          ]
         }
        },
        {
         "name": "variance",
         "dtype": "object",
         "stats": {
          "unique_count": 1,
          "nan_count": 0,
          "categories": [
           {
            "name": "unequal",
            "count": 7
           }
          ]
         }
        },
        {
         "name": "_deepnote_index_column",
         "dtype": "int64"
        }
       ],
       "rows": [
        {
         "variable": "toxicity",
         "t-statistic": "-17.606685251947226",
         "p-value": "5.161653468282383e-65",
         "H0": "reject",
         "variance": "unequal",
         "_deepnote_index_column": 0
        },
        {
         "variable": "severe_toxicity",
         "t-statistic": "-25.808430727496663",
         "p-value": "3.08068157714106e-130",
         "H0": "reject",
         "variance": "unequal",
         "_deepnote_index_column": 1
        },
        {
         "variable": "obscene",
         "t-statistic": "-17.04155454881595",
         "p-value": "2.7885658877691566e-61",
         "H0": "reject",
         "variance": "unequal",
         "_deepnote_index_column": 2
        },
        {
         "variable": "identity_attack",
         "t-statistic": "1.270068811044983",
         "p-value": "0.20419259355485403",
         "H0": "fail to reject",
         "variance": "unequal",
         "_deepnote_index_column": 3
        },
        {
         "variable": "insult",
         "t-statistic": "-29.993130679747054",
         "p-value": "3.720187138946846e-167",
         "H0": "reject",
         "variance": "unequal",
         "_deepnote_index_column": 4
        },
        {
         "variable": "threat",
         "t-statistic": "-14.994952097986744",
         "p-value": "3.0427306535562748e-49",
         "H0": "reject",
         "variance": "unequal",
         "_deepnote_index_column": 5
        },
        {
         "variable": "sexual_explicit",
         "t-statistic": "-15.734342911773737",
         "p-value": "5.500709000863361e-53",
         "H0": "reject",
         "variance": "unequal",
         "_deepnote_index_column": 6
        }
       ]
      },
      "text/plain": "          variable t-statistic   p-value              H0 variance\n0         toxicity  -17.606685       0.0          reject  unequal\n1  severe_toxicity  -25.808431       0.0          reject  unequal\n2          obscene  -17.041555       0.0          reject  unequal\n3  identity_attack    1.270069  0.204193  fail to reject  unequal\n4           insult  -29.993131       0.0          reject  unequal\n5           threat  -14.994952       0.0          reject  unequal\n6  sexual_explicit  -15.734343       0.0          reject  unequal",
      "text/html": "<div>\n<style scoped>\n    .dataframe tbody tr th:only-of-type {\n        vertical-align: middle;\n    }\n\n    .dataframe tbody tr th {\n        vertical-align: top;\n    }\n\n    .dataframe thead th {\n        text-align: right;\n    }\n</style>\n<table border=\"1\" class=\"dataframe\">\n  <thead>\n    <tr style=\"text-align: right;\">\n      <th></th>\n      <th>variable</th>\n      <th>t-statistic</th>\n      <th>p-value</th>\n      <th>H0</th>\n      <th>variance</th>\n    </tr>\n  </thead>\n  <tbody>\n    <tr>\n      <th>0</th>\n      <td>toxicity</td>\n      <td>-17.606685</td>\n      <td>0.0</td>\n      <td>reject</td>\n      <td>unequal</td>\n    </tr>\n    <tr>\n      <th>1</th>\n      <td>severe_toxicity</td>\n      <td>-25.808431</td>\n      <td>0.0</td>\n      <td>reject</td>\n      <td>unequal</td>\n    </tr>\n    <tr>\n      <th>2</th>\n      <td>obscene</td>\n      <td>-17.041555</td>\n      <td>0.0</td>\n      <td>reject</td>\n      <td>unequal</td>\n    </tr>\n    <tr>\n      <th>3</th>\n      <td>identity_attack</td>\n      <td>1.270069</td>\n      <td>0.204193</td>\n      <td>fail to reject</td>\n      <td>unequal</td>\n    </tr>\n    <tr>\n      <th>4</th>\n      <td>insult</td>\n      <td>-29.993131</td>\n      <td>0.0</td>\n      <td>reject</td>\n      <td>unequal</td>\n    </tr>\n    <tr>\n      <th>5</th>\n      <td>threat</td>\n      <td>-14.994952</td>\n      <td>0.0</td>\n      <td>reject</td>\n      <td>unequal</td>\n    </tr>\n    <tr>\n      <th>6</th>\n      <td>sexual_explicit</td>\n      <td>-15.734343</td>\n      <td>0.0</td>\n      <td>reject</td>\n      <td>unequal</td>\n    </tr>\n  </tbody>\n</table>\n</div>"
     },
     "metadata": {}
    }
   ],
   "execution_count": null
  },
  {
   "cell_type": "markdown",
   "source": "#### Visualize the mean scores based on class label",
   "metadata": {
    "cell_id": "8246120a7dc3443abc7ce70b415e4234",
    "tags": [],
    "deepnote_cell_type": "markdown",
    "deepnote_cell_height": 53.953125
   }
  },
  {
   "cell_type": "code",
   "metadata": {
    "cell_id": "590870438c434a3e9ab15f5b20e20c50",
    "tags": [],
    "deepnote_to_be_reexecuted": false,
    "source_hash": "de1fc0ae",
    "execution_start": 1650810844571,
    "execution_millis": 9020,
    "deepnote_cell_type": "code",
    "deepnote_cell_height": 1640.46875,
    "deepnote_output_heights": [
     21.1875,
     519.359375
    ]
   },
   "source": "toxicity_df = pd.concat([submissions_hate.toxicity.to_frame(name='hate_submission'),\n                  submissions_offensive.toxicity.to_frame(name='offensive_submission'),\n                  comments_hate.toxicity.to_frame(name='hate_comment'),\n                  comments_offensive.toxicity.to_frame(name='offensive_comment')],axis=1)\nsevere_toxicity_df = pd.concat([submissions_hate.severe_toxicity.to_frame(name='hate_submission'),\n                  submissions_offensive.severe_toxicity.to_frame(name='offensive_submission'),\n                  comments_hate.severe_toxicity.to_frame(name='hate_comment'),\n                  comments_offensive.severe_toxicity.to_frame(name='offensive_comment')],axis=1)\nobscene_df = pd.concat([submissions_hate.obscene.to_frame(name='hate_submission'),\n                  submissions_offensive.obscene.to_frame(name='offensive_submission'),\n                  comments_hate.obscene.to_frame(name='hate_comment'),\n                  comments_offensive.obscene.to_frame(name='offensive_comment')],axis=1)\nidentity_attack_df = pd.concat([submissions_hate.identity_attack.to_frame(name='hate_submission'),\n                  submissions_offensive.identity_attack.to_frame(name='offensive_submission'),\n                  comments_hate.identity_attack.to_frame(name='hate_comment'),\n                  comments_offensive.identity_attack.to_frame(name='offensive_comment')],axis=1)\ninsult_df = pd.concat([submissions_hate.insult.to_frame(name='hate_submission'),\n                  submissions_offensive.insult.to_frame(name='offensive_submission'),\n                  comments_hate.insult.to_frame(name='hate_comment'),\n                  comments_offensive.insult.to_frame(name='offensive_comment')],axis=1)\nthreat_df = pd.concat([submissions_hate.threat.to_frame(name='hate_submission'),\n                  submissions_offensive.threat.to_frame(name='offensive_submission'),\n                  comments_hate.threat.to_frame(name='hate_comment'),\n                  comments_offensive.threat.to_frame(name='offensive_comment')],axis=1)\nsexual_explicit_df = pd.concat([submissions_hate.sexual_explicit.to_frame(name='hate_submission'),\n                  submissions_offensive.sexual_explicit.to_frame(name='offensive_submission'),\n                  comments_hate.sexual_explicit.to_frame(name='hate_comment'),\n                  comments_offensive.sexual_explicit.to_frame(name='offensive_comment')],axis=1)\n\nfig, axes = plt.subplots(2, 4, figsize=(15, 8))\ncolors = sns.color_palette()\n\nsns.barplot(ax=axes[0, 0], data=toxicity_df).set(xticklabels='',ylabel='Score',title='Toxicity', xticks=())\nsns.barplot(ax=axes[0, 1], data=severe_toxicity_df).set(xticklabels='',ylabel='',title='Severe Toxicity', xticks=())\nsns.barplot(ax=axes[0, 2], data=obscene_df).set(xticklabels='',ylabel='',title='Obscene', xticks=())\nsns.barplot(ax=axes[0, 3]).set(xticklabels='', yticklabels='',frame_on=False, xticks=(), yticks=())\naxes[0, 3].legend(handles=[mpatches.Patch(color=colors[0], label='Submissions - Hate'), \n                           mpatches.Patch(color=colors[1], label='Submissions - Offensive'), \n                           mpatches.Patch(color=colors[2], label='Comments - Hate'), \n                           mpatches.Patch(color=colors[3], label='Comments - Offensive')], loc='center')\nsns.barplot(ax=axes[1, 0], data=identity_attack_df).set(xticklabels='',ylabel='Score',title='Identity Attack', xticks=())\nsns.barplot(ax=axes[1, 1], data=insult_df).set(xticklabels='',ylabel='',title='Insult', xticks=())\nsns.barplot(ax=axes[1, 2], data=threat_df).set(xticklabels='',ylabel='',title='Threat', xticks=())\nsns.barplot(ax=axes[1, 3], data=sexual_explicit_df).set(xticklabels='',ylabel='',title='Sexually Explicit', xticks=())\n\nplt.subplots_adjust(left=0.1,\n                    bottom=0.1, \n                    right=0.9, \n                    top=0.9, \n                    wspace=0.4, \n                    hspace=0.4)\n\nfig.suptitle('Detoxify Scores for Toxic Submissions and Comments \\n Broken Down by Hate and Offensive Classification', y=(1.02),size=15)\n\n    ",
   "outputs": [
    {
     "output_type": "execute_result",
     "execution_count": 12,
     "data": {
      "text/plain": "Text(0.5, 1.02, 'Detoxify Scores for Toxic Submissions and Comments \\n Broken Down by Hate and Offensive Classification')"
     },
     "metadata": {}
    },
    {
     "data": {
      "text/plain": "<Figure size 1080x576 with 8 Axes>",
      "image/png": "[encoded data removed]"
     },
     "metadata": {
      "needs_background": "light",
      "image/png": {
       "width": 921,
       "height": 550
      }
     },
     "output_type": "display_data"
    }
   ],
   "execution_count": null
  },
  {
   "cell_type": "markdown",
   "source": "<a style='text-decoration:none;line-height:16px;display:flex;color:#5B5B62;padding:10px;justify-content:end;' href='https://deepnote.com?utm_source=created-in-deepnote-cell&projectId=b22dad3f-c925-4cd0-bb81-e22d83bd774f' target=\"_blank\">\n<img alt='Created in deepnote.com' style='display:inline;max-height:16px;margin:0px;margin-right:7.5px;' src='data:image/svg+xml;base64,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' > </img>\nCreated in <span style='font-weight:600;margin-left:4px;'>Deepnote</span></a>",
   "metadata": {
    "tags": [],
    "created_in_deepnote_cell": true,
    "deepnote_cell_type": "markdown"
   }
  }
 ],
 "nbformat": 4,
 "nbformat_minor": 2,
 "metadata": {
  "orig_nbformat": 2,
  "deepnote": {},
  "deepnote_notebook_id": "1ee51a71-9eda-44d0-9652-fc87a1b8e425",
  "deepnote_execution_queue": []
 }
}
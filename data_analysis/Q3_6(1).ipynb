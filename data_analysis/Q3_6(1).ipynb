{
 "cells": [
  {
   "cell_type": "markdown",
   "source": "### This notebook addresses research questions 3 and 6.1\n\n##### Requirements:\n* comments.csv\n* reference.csv\n\n##### Generates:\n* top_tokens_hateful.csv\n* top_tokens_reference.csv",
   "metadata": {
    "cell_id": "5a2ec5827d84470d8ca46014eabf6613",
    "tags": [],
    "deepnote_cell_type": "markdown",
    "deepnote_cell_height": 279.5
   }
  },
  {
   "cell_type": "code",
   "metadata": {
    "tags": [],
    "cell_id": "a30c788a-0a5e-4cea-8ee9-b5e2b8cdec52",
    "deepnote_to_be_reexecuted": false,
    "source_hash": "22f8b287",
    "execution_start": 1650829425391,
    "execution_millis": 1730,
    "deepnote_cell_type": "code",
    "deepnote_cell_height": 206.953125
   },
   "source": "import pandas as pd\nimport re\nfrom collections import Counter, defaultdict\nfrom tqdm import tqdm\nfrom gensim.parsing.preprocessing import (preprocess_string, strip_tags, strip_multiple_whitespaces, \n                                          strip_non_alphanum, strip_punctuation, remove_stopword_tokens, \n                                          STOPWORDS, strip_numeric\n                                         )",
   "execution_count": 1,
   "outputs": []
  },
  {
   "cell_type": "code",
   "metadata": {
    "cell_id": "ccc205799ecb4caeb9d12d806ced819e",
    "tags": [],
    "deepnote_to_be_reexecuted": false,
    "source_hash": "eb0c2aad",
    "execution_start": 1650829427124,
    "execution_millis": 2,
    "is_output_hidden": true,
    "deepnote_cell_type": "code",
    "deepnote_cell_height": 201.71875,
    "deepnote_output_heights": [
     null,
     21.1875
    ]
   },
   "source": "# import nltk\n# nltk.download('punkt')\n# nltk.download('wordnet')\n# nltk.download('omw-1.4')\n\n",
   "execution_count": 2,
   "outputs": []
  },
  {
   "cell_type": "code",
   "metadata": {
    "cell_id": "2e0cf661b5234568a837063ef3a92538",
    "tags": [],
    "deepnote_to_be_reexecuted": false,
    "source_hash": "5d07217a",
    "execution_start": 1650829427128,
    "execution_millis": 3926,
    "deepnote_cell_type": "code",
    "deepnote_cell_height": 98.953125
   },
   "source": "c = pd.read_csv('../../data/comments.csv')\nr = pd.read_csv('../../data/reference.csv')",
   "execution_count": 3,
   "outputs": []
  },
  {
   "cell_type": "code",
   "metadata": {
    "cell_id": "e5361ec0bc0545c18d988c57b46259ae",
    "tags": [],
    "deepnote_to_be_reexecuted": false,
    "source_hash": "ca08cf16",
    "execution_start": 1650829431057,
    "execution_millis": 2,
    "deepnote_cell_type": "code",
    "deepnote_cell_height": 224.953125
   },
   "source": "CUSTOM_FILTERS = [strip_tags, \n                strip_punctuation, \n                strip_multiple_whitespaces, \n                strip_non_alphanum, \n                strip_numeric\n            ]\n\nmy_stopwords = list(STOPWORDS)\nmy_stopwords.extend(['ve', 'll', 'com', 'https'])",
   "execution_count": 4,
   "outputs": []
  },
  {
   "cell_type": "code",
   "metadata": {
    "cell_id": "267b37fea78c497490fb7a9ed4425e58",
    "tags": [],
    "deepnote_to_be_reexecuted": false,
    "source_hash": "a98e34f9",
    "execution_start": 1650829431072,
    "execution_millis": 4,
    "deepnote_table_state": {
     "pageSize": 10,
     "pageIndex": 0,
     "filters": [],
     "sortBy": []
    },
    "deepnote_table_loading": false,
    "deepnote_cell_type": "code",
    "deepnote_cell_height": 710.953125
   },
   "source": "male_words = ['amigo','ape','apes','bastard','bastards','bear',\n                'beast','beefcake','bloke','blokes','boy','boyfriend','boyfriends','boys','brah',\n                'bro','brother','brothers','bruh','brute','buck','bud','buddies','buddy',\n                'buds','bugger','bull','chad','chairman','chap','chum','dad','dads','dawg',\n                'dick','dickhead','dickheads','dilf','dude','fag','faggot','father','father',\n                'fella','fellow','fiance','fucker','gent','gent','gentleman','gentlemen',\n                'grandfather','grandfathers','grandpa','grandpas','grandson','grandsons',\n                'groom','grooms','guy','guys','he',\"he'd\",\"he's\",'hero','him','himself',\n                'his','hombre','hombres','hubby','hunk','husband','husbands','incel','incels',\n                'king','kings','lad','lads','macho','machos','male','man','mankind','master','men',\n                \"men's\",'mensch','mister','mr','muscle','nephew','nephews','papa','pop','prick',\n                'pricks','priest','prince','run-on','sir','son','sonny','sons','stud','thug',\n                'thugs','uncle','uncles','virile','waiter','waiters','wanker','widower','widowers']\n\n\nfemale_words = ['actress','actresses','amiga','amigas','aunt','aunts','babe','babes','biddy','bimbo',\n                'bimbos','bride','brides','butch','chairwoman','chick','chicks','cow','cows',\n                'cunt','cunts','dame','daughter','daughters','doe','dudess','dudette','dudine',\n                'dyke','dykes','fag hag','fem','female','feme','femme','fiancee','floozy',\n                'fusby','gal','girl','girlfriend','girlfriends','girls','goddess','goddesses',\n                'granddaughter','granddaughters','grandma','grandmas','grandmother','grandmothers',\n                'hag','hags','hay bag','hay-bag','her','heroine','hers','herself','hoe',\n                'hoe bag','hoes','honey','hooker','hookers','hussy','jugs','karen','ladies',\n                'lady','lost rib','lubra','mama','mamas','manhole','milf','mistress','mistresses',\n                'mivvy','mom','moms','mother','mothers','mrs','ms','muff','niece','nieces',\n                'priestess','princess','prostitute','prostitutes','pussies','pussy','queen',\n                'queens','quim','scow','she',\"she'd\",\"she's\",'shickster','sister','sisters',\n                'skank','skanks','slut','sluts','spokeswoman','strumpet','tar leather',\n                'tit','toots','tootsie','tramp','waitress','whore','whores','widow','widows',\n                'wife','wimmin','wives','woman','womankind','women','women',\"women's\",'womyn']\n\nf_df = pd.DataFrame({'identifier': female_words})\nm_df = pd.DataFrame({'identifier': male_words})\nf_df['gender'] = 'female'\nm_df['gender'] = 'male'\ngender_id_df = f_df.append(m_df, ignore_index=True)",
   "execution_count": 5,
   "outputs": []
  },
  {
   "cell_type": "code",
   "metadata": {
    "cell_id": "d64ed8053ea3473c899ecffa12a7d051",
    "tags": [],
    "deepnote_to_be_reexecuted": false,
    "source_hash": "2d30fc2f",
    "execution_start": 1650829431091,
    "execution_millis": 1,
    "deepnote_cell_type": "code",
    "deepnote_cell_height": 1772.96875
   },
   "source": "def get_tokens(data):\n    '''\n    tokenize all comments and remove stopwords\n    outputs a single list of tokens\n    '''\n    tokens = []\n    print('tokenizing...',end='\\r')\n    for line in data.body.to_list():\n        pre = preprocess_string(line.lower(), CUSTOM_FILTERS)\n        tokens.extend(remove_stopword_tokens(pre, my_stopwords))\n    print(' ')\n    return [t for t in tokens if len(t)>1]\n\n\ndef get_dict(data, k):\n    '''\n    creates dictionary with \n    counter of terms for each gender\n    '''\n    top_tokens = defaultdict()\n    print('counting tokens...',end='\\r')\n    top_tokens['all'] = Counter(get_tokens(data)).most_common(k)\n    top_tokens['female'] = Counter(get_tokens(data[data.gender=='female'])).most_common(k)\n    top_tokens['male'] = Counter(get_tokens(data[data.gender=='male'])).most_common(k)\n    print(' ')\n    return top_tokens\n\n\ndef identifiers_dict(data, k):\n    '''\n    creates a dictionary with counter of \n    gender identifiers for each gender\n    '''\n    global gender_id_df\n\n    pattern = re.compile('|'.join(gender_id_df.identifier.to_list()))\n\n    words = []\n    print('finding identifiers...',end='\\r')\n    for txt in data.body.to_list():\n        words.extend(re.findall(pattern, txt.lower()))\n\n    top_tokens = defaultdict()\n    top_tokens['f_terms'] = Counter([w for w in words if w in female_words]).most_common(k)\n    top_tokens['m_terms'] = Counter([w for w in words if w in male_words]).most_common(k)\n\n    tokens=[]\n    for line in data.body.to_list():\n        pre = preprocess_string(line.lower(), CUSTOM_FILTERS)\n        tokens.extend(remove_stopword_tokens(pre, my_stopwords))\n\n    top_tokens['both_terms'] = Counter([w for w in tokens if w in gender_id_df.identifier.to_list()]).most_common(k)\n    print(' ')\n    return top_tokens\n\n\ndef get_top_k_tokens(data, k, gender_id=False):\n    '''\n    creates df with k most frequent tokens \n    for each gender and for all data\n    '''\n    if gender_id:\n        data_dict = identifiers_dict(data, k)\n    else:\n        data_dict = get_dict(data, k)\n\n    print('creating the dataframe...',end='\\r')\n    for i,key in enumerate(data_dict.keys()):\n        cat_df = pd.DataFrame(data_dict[key])\n        cat_df.insert(0, 'gender', key)\n        if i==0:\n            df = cat_df.copy()\n        else:\n            df = df.append(cat_df, ignore_index=True)\n    df.columns = ['gender', 'token', 'freq']\n    df['rank'] = list(range(k))*3\n    print(' ')\n    return df\n\n\ndef get_percentage(data):\n    '''\n    takes df with top_k gender identifiers (for all genders) \n    and calculates percentage of frequency within each gender\n    '''\n    for i,g in enumerate(['f_terms', 'm_terms', 'both_terms']):\n        df = data[data['gender'] == g].copy()\n        df['percentage'] = 100 * df.freq/df.freq.sum()\n        if i==0:\n            perc_id = df.copy()\n        else:\n            perc_id = perc_id.append(df, ignore_index=True)\n        perc_id = perc_id.round(2)\n    return perc_id\n",
   "execution_count": 6,
   "outputs": []
  },
  {
   "cell_type": "code",
   "metadata": {
    "cell_id": "98a3a0eff09547efaf27c9305bda3325",
    "tags": [],
    "deepnote_to_be_reexecuted": false,
    "source_hash": "2a3c4ff8",
    "allow_embed": false,
    "execution_start": 1650829431096,
    "execution_millis": 3,
    "is_code_hidden": true,
    "deepnote_cell_type": "code",
    "deepnote_cell_height": 74.734375
   },
   "source": "# def get_tokens(data):\n#     '''\n#     tokenize all comments and remove stopwords\n#     outputs a single list of tokens\n#     '''\n#     tokens = []\n#     print('tokenizing...',end='\\r')\n#     for line in data.body.to_list():\n#         pre = preprocess_string(line.lower(), CUSTOM_FILTERS)\n#         tokens.extend(remove_stopword_tokens(pre, my_stopwords))\n#     print(' ')\n#     return [t for t in tokens if len(t)>1]\n\n\n# def get_dict(df, k):\n#     '''\n#     creates dictionary with \n#     counter of terms for each gender\n#     '''\n#     top_tokens = defaultdict()\n#     print('counting tokens...',end='\\r')\n#     top_tokens['all'] = Counter(get_tokens(df)).most_common(k)\n#     top_tokens['female'] = Counter(get_tokens(df[df.gender=='female'])).most_common(k)\n#     top_tokens['male'] = Counter(get_tokens(df[df.gender=='male'])).most_common(k)\n#     print(' ')\n#     return top_tokens\n\n\n# def identifiers_dict(df, k):\n#     '''\n#     creates a dictionary with counter of \n#     gender identifiers for each gender\n#     '''\n#     global gender_id_df\n\n#     pattern = re.compile('|'.join(gender_id_df.identifier.to_list()))\n\n#     words = []\n#     print('finding identifiers...',end='\\r')\n#     for txt in c.body:\n#         words.extend(re.findall(pattern, txt.lower()))\n\n#     top_tokens = defaultdict()\n#     top_tokens['f_terms'] = Counter([w for w in words if w in female_words]).most_common(k)\n#     top_tokens['m_terms'] = Counter([w for w in words if w in male_words]).most_common(k)\n\n#     tokens=[]\n#     for line in df.body.to_list():\n#         pre = preprocess_string(line.lower(), CUSTOM_FILTERS)\n#         tokens.extend(remove_stopword_tokens(pre, my_stopwords))\n\n#     top_tokens['both_terms'] = Counter([w for w in tokens if w in gender_id_df.identifier.to_list()]).most_common(k)\n#     print(' ')\n#     return top_tokens\n\n\n# def get_top_k_tokens(data, k, gender_id=False):\n#     '''\n#     creates df with k most frequent tokens \n#     for each gender and for all data\n#     '''\n#     if gender_id:\n#         data_dict = identifiers_dict(data, k)\n#     else:\n#         data_dict = get_dict(data, k)\n\n#     print('creating the dataframe...',end='\\r')\n#     for i,key in enumerate(data_dict.keys()):\n#         cat_df = pd.DataFrame(data_dict[key])\n#         cat_df.insert(0, 'gender', key)\n#         if i==0:\n#             df = cat_df.copy()\n#         else:\n#             df = df.append(cat_df, ignore_index=True)\n#     df.columns = ['gender', 'token', 'freq']\n#     df['rank'] = list(range(k))*3\n#     print(' ')\n#     return df\n\n\n# def get_percentage(data):\n#     '''\n#     takes df with top_k gender identifiers (for all genders) \n#     and calculates percentage of frequency within each gender\n#     '''\n#     for i,g in enumerate(['f_terms', 'm_terms', 'both_terms']):\n#         df = data[data['gender'] == g].copy()\n#         df['percentage'] = 100 * df.freq/df.freq.sum()\n#         if i==0:\n#             perc_id = df.copy()\n#         else:\n#             perc_id = perc_id.append(df, ignore_index=True)\n#         perc_id = perc_id.round(2)\n#     return perc_id\n",
   "execution_count": 7,
   "outputs": []
  },
  {
   "cell_type": "markdown",
   "source": "#### Question 3\n\nHow does language differ based on gendered speech? \n\n##### Operationalized question\nHow do the words associated with Reddit comments differ based on the presence of male or female pronouns?\n",
   "metadata": {
    "cell_id": "95e46e7095394b809d2964924b9f897a",
    "tags": [],
    "deepnote_cell_type": "markdown",
    "deepnote_cell_height": 160.71875
   }
  },
  {
   "cell_type": "markdown",
   "source": "### Top tokens",
   "metadata": {
    "cell_id": "a74ec30d8e524717a002661583ddba8d",
    "tags": [],
    "deepnote_cell_type": "markdown",
    "deepnote_cell_height": 61.953125
   }
  },
  {
   "cell_type": "code",
   "metadata": {
    "cell_id": "19c9ea7c73a24759b7970dee4cc2d326",
    "tags": [],
    "deepnote_to_be_reexecuted": false,
    "source_hash": "1fd8abe0",
    "execution_start": 1650829431102,
    "execution_millis": 31675,
    "deepnote_cell_type": "code",
    "deepnote_cell_height": 179.953125
   },
   "source": "c_hate = c[c.davidson_label!=2]\ntop_hate = get_top_k_tokens(c_hate, 20)\n# top_hate.to_csv('../../data/top_tokens_hateful.csv', index=False)",
   "execution_count": 8,
   "outputs": [
    {
     "name": "stdout",
     "text": " \n \n \n \n \n",
     "output_type": "stream"
    }
   ]
  },
  {
   "cell_type": "code",
   "source": "top_hate.sample(5)",
   "metadata": {
    "cell_id": "4a1cf1e0b1a54fd99fc1bea2b040d052",
    "tags": [],
    "deepnote_to_be_reexecuted": false,
    "source_hash": "63c2a11",
    "execution_start": 1650829462780,
    "execution_millis": 31,
    "deepnote_cell_type": "code",
    "deepnote_cell_height": 394.953125
   },
   "outputs": [
    {
     "output_type": "execute_result",
     "execution_count": 9,
     "data": {
      "application/vnd.deepnote.dataframe.v3+json": {
       "column_count": 4,
       "row_count": 5,
       "columns": [
        {
         "name": "gender",
         "dtype": "object",
         "stats": {
          "unique_count": 3,
          "nan_count": 0,
          "categories": [
           {
            "name": "all",
            "count": 3
           },
           {
            "name": "male",
            "count": 1
           },
           {
            "name": "female",
            "count": 1
           }
          ]
         }
        },
        {
         "name": "token",
         "dtype": "object",
         "stats": {
          "unique_count": 5,
          "nan_count": 0,
          "categories": [
           {
            "name": "pom",
            "count": 1
           },
           {
            "name": "fuck",
            "count": 1
           },
           {
            "name": "3 others",
            "count": 3
           }
          ]
         }
        },
        {
         "name": "freq",
         "dtype": "int64",
         "stats": {
          "unique_count": 5,
          "nan_count": 0,
          "min": "52",
          "max": "96307",
          "histogram": [
           {
            "bin_start": 52,
            "bin_end": 9677.5,
            "count": 2
           },
           {
            "bin_start": 9677.5,
            "bin_end": 19303,
            "count": 2
           },
           {
            "bin_start": 19303,
            "bin_end": 28928.5,
            "count": 0
           },
           {
            "bin_start": 28928.5,
            "bin_end": 38554,
            "count": 0
           },
           {
            "bin_start": 38554,
            "bin_end": 48179.5,
            "count": 0
           },
           {
            "bin_start": 48179.5,
            "bin_end": 57805,
            "count": 0
           },
           {
            "bin_start": 57805,
            "bin_end": 67430.5,
            "count": 0
           },
           {
            "bin_start": 67430.5,
            "bin_end": 77056,
            "count": 0
           },
           {
            "bin_start": 77056,
            "bin_end": 86681.5,
            "count": 0
           },
           {
            "bin_start": 86681.5,
            "bin_end": 96307,
            "count": 1
           }
          ]
         }
        },
        {
         "name": "rank",
         "dtype": "int64",
         "stats": {
          "unique_count": 5,
          "nan_count": 0,
          "min": "0",
          "max": "14",
          "histogram": [
           {
            "bin_start": 0,
            "bin_end": 1.4,
            "count": 1
           },
           {
            "bin_start": 1.4,
            "bin_end": 2.8,
            "count": 1
           },
           {
            "bin_start": 2.8,
            "bin_end": 4.199999999999999,
            "count": 0
           },
           {
            "bin_start": 4.199999999999999,
            "bin_end": 5.6,
            "count": 0
           },
           {
            "bin_start": 5.6,
            "bin_end": 7,
            "count": 1
           },
           {
            "bin_start": 7,
            "bin_end": 8.399999999999999,
            "count": 0
           },
           {
            "bin_start": 8.399999999999999,
            "bin_end": 9.799999999999999,
            "count": 0
           },
           {
            "bin_start": 9.799999999999999,
            "bin_end": 11.2,
            "count": 0
           },
           {
            "bin_start": 11.2,
            "bin_end": 12.6,
            "count": 1
           },
           {
            "bin_start": 12.6,
            "bin_end": 14,
            "count": 1
           }
          ]
         }
        },
        {
         "name": "_deepnote_index_column",
         "dtype": "int64"
        }
       ],
       "rows": [
        {
         "gender": "male",
         "token": "pom",
         "freq": 52,
         "rank": 14,
         "_deepnote_index_column": 54
        },
        {
         "gender": "female",
         "token": "fuck",
         "freq": 13655,
         "rank": 2,
         "_deepnote_index_column": 22
        },
        {
         "gender": "all",
         "token": "want",
         "freq": 8105,
         "rank": 12,
         "_deepnote_index_column": 12
        },
        {
         "gender": "all",
         "token": "cunt",
         "freq": 96307,
         "rank": 0,
         "_deepnote_index_column": 0
        },
        {
         "gender": "all",
         "token": "people",
         "freq": 12564,
         "rank": 6,
         "_deepnote_index_column": 6
        }
       ]
      },
      "text/plain": "    gender   token   freq  rank\n54    male     pom     52    14\n22  female    fuck  13655     2\n12     all    want   8105    12\n0      all    cunt  96307     0\n6      all  people  12564     6",
      "text/html": "<div>\n<style scoped>\n    .dataframe tbody tr th:only-of-type {\n        vertical-align: middle;\n    }\n\n    .dataframe tbody tr th {\n        vertical-align: top;\n    }\n\n    .dataframe thead th {\n        text-align: right;\n    }\n</style>\n<table border=\"1\" class=\"dataframe\">\n  <thead>\n    <tr style=\"text-align: right;\">\n      <th></th>\n      <th>gender</th>\n      <th>token</th>\n      <th>freq</th>\n      <th>rank</th>\n    </tr>\n  </thead>\n  <tbody>\n    <tr>\n      <th>54</th>\n      <td>male</td>\n      <td>pom</td>\n      <td>52</td>\n      <td>14</td>\n    </tr>\n    <tr>\n      <th>22</th>\n      <td>female</td>\n      <td>fuck</td>\n      <td>13655</td>\n      <td>2</td>\n    </tr>\n    <tr>\n      <th>12</th>\n      <td>all</td>\n      <td>want</td>\n      <td>8105</td>\n      <td>12</td>\n    </tr>\n    <tr>\n      <th>0</th>\n      <td>all</td>\n      <td>cunt</td>\n      <td>96307</td>\n      <td>0</td>\n    </tr>\n    <tr>\n      <th>6</th>\n      <td>all</td>\n      <td>people</td>\n      <td>12564</td>\n      <td>6</td>\n    </tr>\n  </tbody>\n</table>\n</div>"
     },
     "metadata": {}
    }
   ],
   "execution_count": 9
  },
  {
   "cell_type": "code",
   "metadata": {
    "cell_id": "a04773d5716c4e4ca3044cccb016f387",
    "tags": [],
    "deepnote_to_be_reexecuted": false,
    "source_hash": "b7b24071",
    "execution_start": 1650829462852,
    "execution_millis": 24886,
    "deepnote_cell_type": "code",
    "deepnote_cell_height": 205.9375
   },
   "source": "top_reference = get_top_k_tokens(r, 20)\n# top_reference.to_csv('../../data/top_tokens_reference.csv', index=False)",
   "execution_count": 10,
   "outputs": [
    {
     "name": "stdout",
     "text": " \n \n \n \n \n",
     "output_type": "stream"
    }
   ]
  },
  {
   "cell_type": "code",
   "source": "top_reference.sample(5)",
   "metadata": {
    "cell_id": "cedb1eb647b748a4a4a24c32f26716d5",
    "tags": [],
    "deepnote_to_be_reexecuted": false,
    "source_hash": "3c38c319",
    "execution_start": 1650829487736,
    "execution_millis": 3,
    "deepnote_cell_type": "code",
    "deepnote_cell_height": 394.953125
   },
   "outputs": [
    {
     "output_type": "execute_result",
     "execution_count": 11,
     "data": {
      "application/vnd.deepnote.dataframe.v3+json": {
       "column_count": 4,
       "row_count": 5,
       "columns": [
        {
         "name": "gender",
         "dtype": "object",
         "stats": {
          "unique_count": 3,
          "nan_count": 0,
          "categories": [
           {
            "name": "all",
            "count": 3
           },
           {
            "name": "female",
            "count": 1
           },
           {
            "name": "male",
            "count": 1
           }
          ]
         }
        },
        {
         "name": "token",
         "dtype": "object",
         "stats": {
          "unique_count": 5,
          "nan_count": 0,
          "categories": [
           {
            "name": "good",
            "count": 1
           },
           {
            "name": "amp",
            "count": 1
           },
           {
            "name": "3 others",
            "count": 3
           }
          ]
         }
        },
        {
         "name": "freq",
         "dtype": "int64",
         "stats": {
          "unique_count": 5,
          "nan_count": 0,
          "min": "498",
          "max": "6490",
          "histogram": [
           {
            "bin_start": 498,
            "bin_end": 1097.2,
            "count": 1
           },
           {
            "bin_start": 1097.2,
            "bin_end": 1696.4,
            "count": 0
           },
           {
            "bin_start": 1696.4,
            "bin_end": 2295.6000000000004,
            "count": 0
           },
           {
            "bin_start": 2295.6000000000004,
            "bin_end": 2894.8,
            "count": 1
           },
           {
            "bin_start": 2894.8,
            "bin_end": 3494,
            "count": 0
           },
           {
            "bin_start": 3494,
            "bin_end": 4093.2000000000003,
            "count": 1
           },
           {
            "bin_start": 4093.2000000000003,
            "bin_end": 4692.400000000001,
            "count": 1
           },
           {
            "bin_start": 4692.400000000001,
            "bin_end": 5291.6,
            "count": 0
           },
           {
            "bin_start": 5291.6,
            "bin_end": 5890.8,
            "count": 0
           },
           {
            "bin_start": 5890.8,
            "bin_end": 6490,
            "count": 1
           }
          ]
         }
        },
        {
         "name": "rank",
         "dtype": "int64",
         "stats": {
          "unique_count": 5,
          "nan_count": 0,
          "min": "1",
          "max": "19",
          "histogram": [
           {
            "bin_start": 1,
            "bin_end": 2.8,
            "count": 1
           },
           {
            "bin_start": 2.8,
            "bin_end": 4.6,
            "count": 0
           },
           {
            "bin_start": 4.6,
            "bin_end": 6.4,
            "count": 1
           },
           {
            "bin_start": 6.4,
            "bin_end": 8.2,
            "count": 1
           },
           {
            "bin_start": 8.2,
            "bin_end": 10,
            "count": 0
           },
           {
            "bin_start": 10,
            "bin_end": 11.8,
            "count": 1
           },
           {
            "bin_start": 11.8,
            "bin_end": 13.6,
            "count": 0
           },
           {
            "bin_start": 13.6,
            "bin_end": 15.4,
            "count": 0
           },
           {
            "bin_start": 15.4,
            "bin_end": 17.2,
            "count": 0
           },
           {
            "bin_start": 17.2,
            "bin_end": 19,
            "count": 1
           }
          ]
         }
        },
        {
         "name": "_deepnote_index_column",
         "dtype": "int64"
        }
       ],
       "rows": [
        {
         "gender": "all",
         "token": "good",
         "freq": 6490,
         "rank": 5,
         "_deepnote_index_column": 5
        },
        {
         "gender": "female",
         "token": "amp",
         "freq": 498,
         "rank": 8,
         "_deepnote_index_column": 28
        },
        {
         "gender": "all",
         "token": "years",
         "freq": 3608,
         "rank": 19,
         "_deepnote_index_column": 19
        },
        {
         "gender": "all",
         "token": "work",
         "freq": 4320,
         "rank": 11,
         "_deepnote_index_column": 11
        },
        {
         "gender": "male",
         "token": "people",
         "freq": 2725,
         "rank": 1,
         "_deepnote_index_column": 41
        }
       ]
      },
      "text/plain": "    gender   token  freq  rank\n5      all    good  6490     5\n28  female     amp   498     8\n19     all   years  3608    19\n11     all    work  4320    11\n41    male  people  2725     1",
      "text/html": "<div>\n<style scoped>\n    .dataframe tbody tr th:only-of-type {\n        vertical-align: middle;\n    }\n\n    .dataframe tbody tr th {\n        vertical-align: top;\n    }\n\n    .dataframe thead th {\n        text-align: right;\n    }\n</style>\n<table border=\"1\" class=\"dataframe\">\n  <thead>\n    <tr style=\"text-align: right;\">\n      <th></th>\n      <th>gender</th>\n      <th>token</th>\n      <th>freq</th>\n      <th>rank</th>\n    </tr>\n  </thead>\n  <tbody>\n    <tr>\n      <th>5</th>\n      <td>all</td>\n      <td>good</td>\n      <td>6490</td>\n      <td>5</td>\n    </tr>\n    <tr>\n      <th>28</th>\n      <td>female</td>\n      <td>amp</td>\n      <td>498</td>\n      <td>8</td>\n    </tr>\n    <tr>\n      <th>19</th>\n      <td>all</td>\n      <td>years</td>\n      <td>3608</td>\n      <td>19</td>\n    </tr>\n    <tr>\n      <th>11</th>\n      <td>all</td>\n      <td>work</td>\n      <td>4320</td>\n      <td>11</td>\n    </tr>\n    <tr>\n      <th>41</th>\n      <td>male</td>\n      <td>people</td>\n      <td>2725</td>\n      <td>1</td>\n    </tr>\n  </tbody>\n</table>\n</div>"
     },
     "metadata": {}
    }
   ],
   "execution_count": 11
  },
  {
   "cell_type": "markdown",
   "source": "#### Question 6.1\n\nHow often do the gender identifiers appear in the corpus? \n\n##### Operationalized question\nFor each gender identifier, what is its frequency in the corpus and its proportion of the separate totals female or male identifiers?",
   "metadata": {
    "cell_id": "ce199d4204f24d0eb450d723690feb68",
    "tags": [],
    "deepnote_cell_type": "markdown",
    "deepnote_cell_height": 160.71875
   }
  },
  {
   "cell_type": "markdown",
   "source": "### Top gender identifier terms",
   "metadata": {
    "cell_id": "8ee2b886c9954108988998e932913796",
    "tags": [],
    "deepnote_cell_type": "markdown",
    "deepnote_cell_height": 61.953125
   }
  },
  {
   "cell_type": "code",
   "metadata": {
    "cell_id": "11d563c68edc4c17be9c403cfc3f7e0b",
    "tags": [],
    "deepnote_to_be_reexecuted": false,
    "source_hash": "4998503f",
    "execution_start": 1650829487780,
    "execution_millis": 54350,
    "deepnote_cell_type": "code",
    "deepnote_cell_height": 130.953125,
    "deepnote_output_heights": [
     386.078125
    ]
   },
   "source": "top_id_hate = get_top_k_tokens(c_hate, 20, gender_id=True)",
   "execution_count": 12,
   "outputs": [
    {
     "name": "stdout",
     "text": " \n \n",
     "output_type": "stream"
    }
   ]
  },
  {
   "cell_type": "code",
   "metadata": {
    "cell_id": "6679437fd495484d89b0256fb6399833",
    "tags": [],
    "deepnote_to_be_reexecuted": false,
    "source_hash": "cf4b0824",
    "execution_start": 1650829542184,
    "execution_millis": 47032,
    "deepnote_cell_type": "code",
    "deepnote_cell_height": 130.953125,
    "deepnote_output_heights": [
     78.8125
    ]
   },
   "source": "top_id_reference = get_top_k_tokens(r, 20, gender_id=True)",
   "execution_count": 13,
   "outputs": [
    {
     "name": "stdout",
     "text": " \n \n",
     "output_type": "stream"
    }
   ]
  },
  {
   "cell_type": "code",
   "metadata": {
    "cell_id": "a0dc8f2eae56402d955cdf63af3f307d",
    "tags": [],
    "deepnote_to_be_reexecuted": false,
    "source_hash": "d5622e4e",
    "execution_start": 1650829589217,
    "execution_millis": 0,
    "deepnote_cell_type": "code",
    "deepnote_cell_height": 134.953125,
    "deepnote_output_heights": [
     251.640625
    ]
   },
   "source": "perc_id_hate = get_percentage(top_id_hate)\nperc_id_ref = get_percentage(top_id_reference)\n# perc_id_hate.to_csv('../../data/top_gender_id_hate.csv', index=False)\n# perc_id_ref.to_csv('../../data/top_gender_id_ref.csv', index=False)",
   "execution_count": 14,
   "outputs": []
  },
  {
   "cell_type": "code",
   "source": "perc_id_hate.sample(5)",
   "metadata": {
    "cell_id": "6b2cf1ae2bfe4f9ea29778865e2c4057",
    "tags": [],
    "deepnote_to_be_reexecuted": false,
    "source_hash": "71a34b8e",
    "execution_start": 1650829589218,
    "execution_millis": 5,
    "deepnote_cell_type": "code",
    "deepnote_cell_height": 394.953125
   },
   "outputs": [
    {
     "output_type": "execute_result",
     "execution_count": 15,
     "data": {
      "application/vnd.deepnote.dataframe.v3+json": {
       "column_count": 5,
       "row_count": 5,
       "columns": [
        {
         "name": "gender",
         "dtype": "object",
         "stats": {
          "unique_count": 3,
          "nan_count": 0,
          "categories": [
           {
            "name": "m_terms",
            "count": 2
           },
           {
            "name": "both_terms",
            "count": 2
           },
           {
            "name": "f_terms",
            "count": 1
           }
          ]
         }
        },
        {
         "name": "token",
         "dtype": "object",
         "stats": {
          "unique_count": 5,
          "nan_count": 0,
          "categories": [
           {
            "name": "men",
            "count": 1
           },
           {
            "name": "cunts",
            "count": 1
           },
           {
            "name": "3 others",
            "count": 3
           }
          ]
         }
        },
        {
         "name": "freq",
         "dtype": "int64",
         "stats": {
          "unique_count": 5,
          "nan_count": 0,
          "min": "755",
          "max": "28295",
          "histogram": [
           {
            "bin_start": 755,
            "bin_end": 3509,
            "count": 3
           },
           {
            "bin_start": 3509,
            "bin_end": 6263,
            "count": 0
           },
           {
            "bin_start": 6263,
            "bin_end": 9017,
            "count": 0
           },
           {
            "bin_start": 9017,
            "bin_end": 11771,
            "count": 0
           },
           {
            "bin_start": 11771,
            "bin_end": 14525,
            "count": 1
           },
           {
            "bin_start": 14525,
            "bin_end": 17279,
            "count": 0
           },
           {
            "bin_start": 17279,
            "bin_end": 20033,
            "count": 0
           },
           {
            "bin_start": 20033,
            "bin_end": 22787,
            "count": 0
           },
           {
            "bin_start": 22787,
            "bin_end": 25541,
            "count": 0
           },
           {
            "bin_start": 25541,
            "bin_end": 28295,
            "count": 1
           }
          ]
         }
        },
        {
         "name": "rank",
         "dtype": "int64",
         "stats": {
          "unique_count": 5,
          "nan_count": 0,
          "min": "2",
          "max": "19",
          "histogram": [
           {
            "bin_start": 2,
            "bin_end": 3.7,
            "count": 2
           },
           {
            "bin_start": 3.7,
            "bin_end": 5.4,
            "count": 0
           },
           {
            "bin_start": 5.4,
            "bin_end": 7.1,
            "count": 0
           },
           {
            "bin_start": 7.1,
            "bin_end": 8.8,
            "count": 0
           },
           {
            "bin_start": 8.8,
            "bin_end": 10.5,
            "count": 0
           },
           {
            "bin_start": 10.5,
            "bin_end": 12.2,
            "count": 0
           },
           {
            "bin_start": 12.2,
            "bin_end": 13.9,
            "count": 0
           },
           {
            "bin_start": 13.9,
            "bin_end": 15.6,
            "count": 1
           },
           {
            "bin_start": 15.6,
            "bin_end": 17.299999999999997,
            "count": 1
           },
           {
            "bin_start": 17.299999999999997,
            "bin_end": 19,
            "count": 1
           }
          ]
         }
        },
        {
         "name": "percentage",
         "dtype": "float64",
         "stats": {
          "unique_count": 5,
          "nan_count": 0,
          "min": "0.2",
          "max": "10.21",
          "histogram": [
           {
            "bin_start": 0.2,
            "bin_end": 1.201,
            "count": 3
           },
           {
            "bin_start": 1.201,
            "bin_end": 2.2020000000000004,
            "count": 0
           },
           {
            "bin_start": 2.2020000000000004,
            "bin_end": 3.2030000000000003,
            "count": 0
           },
           {
            "bin_start": 3.2030000000000003,
            "bin_end": 4.204000000000001,
            "count": 1
           },
           {
            "bin_start": 4.204000000000001,
            "bin_end": 5.205000000000001,
            "count": 0
           },
           {
            "bin_start": 5.205000000000001,
            "bin_end": 6.206,
            "count": 0
           },
           {
            "bin_start": 6.206,
            "bin_end": 7.207000000000001,
            "count": 0
           },
           {
            "bin_start": 7.207000000000001,
            "bin_end": 8.208,
            "count": 0
           },
           {
            "bin_start": 8.208,
            "bin_end": 9.209,
            "count": 0
           },
           {
            "bin_start": 9.209,
            "bin_end": 10.21,
            "count": 1
           }
          ]
         }
        },
        {
         "name": "_deepnote_index_column",
         "dtype": "int64"
        }
       ],
       "rows": [
        {
         "gender": "m_terms",
         "token": "men",
         "freq": 13803,
         "rank": 3,
         "percentage": 3.6,
         "_deepnote_index_column": 23
        },
        {
         "gender": "both_terms",
         "token": "cunts",
         "freq": 1553,
         "rank": 15,
         "percentage": 0.89,
         "_deepnote_index_column": 55
        },
        {
         "gender": "m_terms",
         "token": "sir",
         "freq": 755,
         "rank": 19,
         "percentage": 0.2,
         "_deepnote_index_column": 39
        },
        {
         "gender": "f_terms",
         "token": "she",
         "freq": 28295,
         "rank": 2,
         "percentage": 10.21,
         "_deepnote_index_column": 2
        },
        {
         "gender": "both_terms",
         "token": "mother",
         "freq": 1471,
         "rank": 16,
         "percentage": 0.85,
         "_deepnote_index_column": 56
        }
       ]
      },
      "text/plain": "        gender   token   freq  rank  percentage\n23     m_terms     men  13803     3        3.60\n55  both_terms   cunts   1553    15        0.89\n39     m_terms     sir    755    19        0.20\n2      f_terms     she  28295     2       10.21\n56  both_terms  mother   1471    16        0.85",
      "text/html": "<div>\n<style scoped>\n    .dataframe tbody tr th:only-of-type {\n        vertical-align: middle;\n    }\n\n    .dataframe tbody tr th {\n        vertical-align: top;\n    }\n\n    .dataframe thead th {\n        text-align: right;\n    }\n</style>\n<table border=\"1\" class=\"dataframe\">\n  <thead>\n    <tr style=\"text-align: right;\">\n      <th></th>\n      <th>gender</th>\n      <th>token</th>\n      <th>freq</th>\n      <th>rank</th>\n      <th>percentage</th>\n    </tr>\n  </thead>\n  <tbody>\n    <tr>\n      <th>23</th>\n      <td>m_terms</td>\n      <td>men</td>\n      <td>13803</td>\n      <td>3</td>\n      <td>3.60</td>\n    </tr>\n    <tr>\n      <th>55</th>\n      <td>both_terms</td>\n      <td>cunts</td>\n      <td>1553</td>\n      <td>15</td>\n      <td>0.89</td>\n    </tr>\n    <tr>\n      <th>39</th>\n      <td>m_terms</td>\n      <td>sir</td>\n      <td>755</td>\n      <td>19</td>\n      <td>0.20</td>\n    </tr>\n    <tr>\n      <th>2</th>\n      <td>f_terms</td>\n      <td>she</td>\n      <td>28295</td>\n      <td>2</td>\n      <td>10.21</td>\n    </tr>\n    <tr>\n      <th>56</th>\n      <td>both_terms</td>\n      <td>mother</td>\n      <td>1471</td>\n      <td>16</td>\n      <td>0.85</td>\n    </tr>\n  </tbody>\n</table>\n</div>"
     },
     "metadata": {}
    }
   ],
   "execution_count": 15
  },
  {
   "cell_type": "code",
   "source": "perc_id_ref.sample(5)",
   "metadata": {
    "cell_id": "d88d925806634b129d6a63e86712729a",
    "tags": [],
    "deepnote_to_be_reexecuted": false,
    "source_hash": "6121fb58",
    "execution_start": 1650829589230,
    "execution_millis": 14,
    "owner_user_id": "aa81f22b-076f-4bdb-abba-2edf2197fa03",
    "deepnote_cell_type": "code",
    "deepnote_cell_height": 394.953125
   },
   "outputs": [
    {
     "output_type": "execute_result",
     "execution_count": 16,
     "data": {
      "application/vnd.deepnote.dataframe.v3+json": {
       "column_count": 5,
       "row_count": 5,
       "columns": [
        {
         "name": "gender",
         "dtype": "object",
         "stats": {
          "unique_count": 2,
          "nan_count": 0,
          "categories": [
           {
            "name": "m_terms",
            "count": 3
           },
           {
            "name": "both_terms",
            "count": 2
           }
          ]
         }
        },
        {
         "name": "token",
         "dtype": "object",
         "stats": {
          "unique_count": 5,
          "nan_count": 0,
          "categories": [
           {
            "name": "girl",
            "count": 1
           },
           {
            "name": "boy",
            "count": 1
           },
           {
            "name": "3 others",
            "count": 3
           }
          ]
         }
        },
        {
         "name": "freq",
         "dtype": "int64",
         "stats": {
          "unique_count": 5,
          "nan_count": 0,
          "min": "641",
          "max": "13502",
          "histogram": [
           {
            "bin_start": 641,
            "bin_end": 1927.1,
            "count": 4
           },
           {
            "bin_start": 1927.1,
            "bin_end": 3213.2,
            "count": 0
           },
           {
            "bin_start": 3213.2,
            "bin_end": 4499.299999999999,
            "count": 0
           },
           {
            "bin_start": 4499.299999999999,
            "bin_end": 5785.4,
            "count": 0
           },
           {
            "bin_start": 5785.4,
            "bin_end": 7071.5,
            "count": 0
           },
           {
            "bin_start": 7071.5,
            "bin_end": 8357.599999999999,
            "count": 0
           },
           {
            "bin_start": 8357.599999999999,
            "bin_end": 9643.699999999999,
            "count": 0
           },
           {
            "bin_start": 9643.699999999999,
            "bin_end": 10929.8,
            "count": 0
           },
           {
            "bin_start": 10929.8,
            "bin_end": 12215.9,
            "count": 0
           },
           {
            "bin_start": 12215.9,
            "bin_end": 13502,
            "count": 1
           }
          ]
         }
        },
        {
         "name": "rank",
         "dtype": "int64",
         "stats": {
          "unique_count": 5,
          "nan_count": 0,
          "min": "2",
          "max": "13",
          "histogram": [
           {
            "bin_start": 2,
            "bin_end": 3.1,
            "count": 2
           },
           {
            "bin_start": 3.1,
            "bin_end": 4.2,
            "count": 0
           },
           {
            "bin_start": 4.2,
            "bin_end": 5.300000000000001,
            "count": 0
           },
           {
            "bin_start": 5.300000000000001,
            "bin_end": 6.4,
            "count": 0
           },
           {
            "bin_start": 6.4,
            "bin_end": 7.5,
            "count": 1
           },
           {
            "bin_start": 7.5,
            "bin_end": 8.600000000000001,
            "count": 0
           },
           {
            "bin_start": 8.600000000000001,
            "bin_end": 9.700000000000001,
            "count": 0
           },
           {
            "bin_start": 9.700000000000001,
            "bin_end": 10.8,
            "count": 0
           },
           {
            "bin_start": 10.8,
            "bin_end": 11.9,
            "count": 1
           },
           {
            "bin_start": 11.9,
            "bin_end": 13,
            "count": 1
           }
          ]
         }
        },
        {
         "name": "percentage",
         "dtype": "float64",
         "stats": {
          "unique_count": 5,
          "nan_count": 0,
          "min": "0.24",
          "max": "10.06",
          "histogram": [
           {
            "bin_start": 0.24,
            "bin_end": 1.222,
            "count": 2
           },
           {
            "bin_start": 1.222,
            "bin_end": 2.2039999999999997,
            "count": 0
           },
           {
            "bin_start": 2.2039999999999997,
            "bin_end": 3.186,
            "count": 0
           },
           {
            "bin_start": 3.186,
            "bin_end": 4.168,
            "count": 1
           },
           {
            "bin_start": 4.168,
            "bin_end": 5.15,
            "count": 1
           },
           {
            "bin_start": 5.15,
            "bin_end": 6.132,
            "count": 0
           },
           {
            "bin_start": 6.132,
            "bin_end": 7.114,
            "count": 0
           },
           {
            "bin_start": 7.114,
            "bin_end": 8.096,
            "count": 0
           },
           {
            "bin_start": 8.096,
            "bin_end": 9.078,
            "count": 0
           },
           {
            "bin_start": 9.078,
            "bin_end": 10.06,
            "count": 1
           }
          ]
         }
        },
        {
         "name": "_deepnote_index_column",
         "dtype": "int64"
        }
       ],
       "rows": [
        {
         "gender": "both_terms",
         "token": "girl",
         "freq": 641,
         "rank": 7,
         "percentage": 4.59,
         "_deepnote_index_column": 47
        },
        {
         "gender": "m_terms",
         "token": "boy",
         "freq": 858,
         "rank": 13,
         "percentage": 0.24,
         "_deepnote_index_column": 33
        },
        {
         "gender": "both_terms",
         "token": "women",
         "freq": 1404,
         "rank": 2,
         "percentage": 10.06,
         "_deepnote_index_column": 42
        },
        {
         "gender": "m_terms",
         "token": "king",
         "freq": 13502,
         "rank": 3,
         "percentage": 3.81,
         "_deepnote_index_column": 23
        },
        {
         "gender": "m_terms",
         "token": "pop",
         "freq": 1347,
         "rank": 11,
         "percentage": 0.38,
         "_deepnote_index_column": 31
        }
       ]
      },
      "text/plain": "        gender  token   freq  rank  percentage\n47  both_terms   girl    641     7        4.59\n33     m_terms    boy    858    13        0.24\n42  both_terms  women   1404     2       10.06\n23     m_terms   king  13502     3        3.81\n31     m_terms    pop   1347    11        0.38",
      "text/html": "<div>\n<style scoped>\n    .dataframe tbody tr th:only-of-type {\n        vertical-align: middle;\n    }\n\n    .dataframe tbody tr th {\n        vertical-align: top;\n    }\n\n    .dataframe thead th {\n        text-align: right;\n    }\n</style>\n<table border=\"1\" class=\"dataframe\">\n  <thead>\n    <tr style=\"text-align: right;\">\n      <th></th>\n      <th>gender</th>\n      <th>token</th>\n      <th>freq</th>\n      <th>rank</th>\n      <th>percentage</th>\n    </tr>\n  </thead>\n  <tbody>\n    <tr>\n      <th>47</th>\n      <td>both_terms</td>\n      <td>girl</td>\n      <td>641</td>\n      <td>7</td>\n      <td>4.59</td>\n    </tr>\n    <tr>\n      <th>33</th>\n      <td>m_terms</td>\n      <td>boy</td>\n      <td>858</td>\n      <td>13</td>\n      <td>0.24</td>\n    </tr>\n    <tr>\n      <th>42</th>\n      <td>both_terms</td>\n      <td>women</td>\n      <td>1404</td>\n      <td>2</td>\n      <td>10.06</td>\n    </tr>\n    <tr>\n      <th>23</th>\n      <td>m_terms</td>\n      <td>king</td>\n      <td>13502</td>\n      <td>3</td>\n      <td>3.81</td>\n    </tr>\n    <tr>\n      <th>31</th>\n      <td>m_terms</td>\n      <td>pop</td>\n      <td>1347</td>\n      <td>11</td>\n      <td>0.38</td>\n    </tr>\n  </tbody>\n</table>\n</div>"
     },
     "metadata": {}
    }
   ],
   "execution_count": 16
  },
  {
   "cell_type": "markdown",
   "source": "<a style='text-decoration:none;line-height:16px;display:flex;color:#5B5B62;padding:10px;justify-content:end;' href='https://deepnote.com?utm_source=created-in-deepnote-cell&projectId=6bb356e3-2dd8-4635-8ff0-a5ca506d60d1' target=\"_blank\">\n<img alt='Created in deepnote.com' style='display:inline;max-height:16px;margin:0px;margin-right:7.5px;' src='data:image/svg+xml;base64,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' > </img>\nCreated in <span style='font-weight:600;margin-left:4px;'>Deepnote</span></a>",
   "metadata": {
    "tags": [],
    "created_in_deepnote_cell": true,
    "deepnote_cell_type": "markdown"
   }
  }
 ],
 "nbformat": 4,
 "nbformat_minor": 2,
 "metadata": {
  "orig_nbformat": 2,
  "deepnote": {},
  "deepnote_notebook_id": "0132404a-d647-4bca-9263-fe5fbe14c0a6",
  "deepnote_execution_queue": []
 }
}
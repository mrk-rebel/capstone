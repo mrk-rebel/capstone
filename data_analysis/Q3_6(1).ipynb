{
 "cells": [
  {
   "cell_type": "markdown",
   "source": "### This notebook addresses research questions 3 and 6.1\n\n##### Requirements:\n* comments.csv\n* reference.csv\n\n##### Generates:\n* top_tokens_hateful.csv\n* top_tokens_reference.csv",
   "metadata": {
    "cell_id": "5a2ec5827d84470d8ca46014eabf6613",
    "tags": [],
    "deepnote_cell_type": "markdown",
    "deepnote_cell_height": 279.5
   }
  },
  {
   "cell_type": "code",
   "metadata": {
    "tags": [],
    "cell_id": "a30c788a-0a5e-4cea-8ee9-b5e2b8cdec52",
    "deepnote_to_be_reexecuted": false,
    "source_hash": "cf24eb9d",
    "execution_start": 1650845493220,
    "execution_millis": 1245,
    "deepnote_cell_type": "code",
    "deepnote_cell_height": 335.5625
   },
   "source": "import pandas as pd\nimport re\nfrom collections import Counter, defaultdict\nfrom tqdm import tqdm\n\nfrom orange_functions import *",
   "outputs": [
    {
     "name": "stderr",
     "text": "[nltk_data] Downloading package wordnet to /root/nltk_data...\n[nltk_data]   Package wordnet is already up-to-date!\n[nltk_data] Downloading package omw-1.4 to /root/nltk_data...\n[nltk_data]   Package omw-1.4 is already up-to-date!\n[nltk_data] Downloading package punkt to /root/nltk_data...\n[nltk_data]   Package punkt is already up-to-date!\n[nltk_data] Downloading package stopwords to /root/nltk_data...\n[nltk_data]   Package stopwords is already up-to-date!\n",
     "output_type": "stream"
    }
   ],
   "execution_count": null
  },
  {
   "cell_type": "code",
   "metadata": {
    "cell_id": "2e0cf661b5234568a837063ef3a92538",
    "tags": [],
    "deepnote_to_be_reexecuted": false,
    "source_hash": "c7ef0a82",
    "execution_start": 1650845500481,
    "execution_millis": 3646,
    "deepnote_cell_type": "code",
    "deepnote_cell_height": 98.953125
   },
   "source": "c = pd.read_csv('../data/processed/comments.csv')\nr = pd.read_csv('../data/processed/reference.csv')",
   "outputs": [],
   "execution_count": null
  },
  {
   "cell_type": "code",
   "metadata": {
    "cell_id": "e5361ec0bc0545c18d988c57b46259ae",
    "tags": [],
    "deepnote_to_be_reexecuted": false,
    "source_hash": "ca08cf16",
    "execution_start": 1650845506168,
    "execution_millis": 0,
    "deepnote_cell_type": "code",
    "deepnote_cell_height": 224.953125
   },
   "source": "CUSTOM_FILTERS = [strip_tags, \n                strip_punctuation, \n                strip_multiple_whitespaces, \n                strip_non_alphanum, \n                strip_numeric\n            ]\n\nmy_stopwords = list(STOPWORDS)\nmy_stopwords.extend(['ve', 'll', 'com', 'https'])",
   "outputs": [],
   "execution_count": null
  },
  {
   "cell_type": "code",
   "metadata": {
    "cell_id": "d64ed8053ea3473c899ecffa12a7d051",
    "tags": [],
    "deepnote_to_be_reexecuted": false,
    "source_hash": "910a6c9e",
    "execution_start": 1650845509934,
    "execution_millis": 1,
    "is_code_hidden": true,
    "deepnote_cell_type": "code",
    "deepnote_cell_height": 74.734375
   },
   "source": "# male_words = ['amigo','ape','apes','bastard','bastards','bear',\n#                 'beast','beefcake','bloke','blokes','boy','boyfriend','boyfriends','boys','brah',\n#                 'bro','brother','brothers','bruh','brute','buck','bud','buddies','buddy',\n#                 'buds','bugger','bull','chad','chairman','chap','chum','dad','dads','dawg',\n#                 'dick','dickhead','dickheads','dilf','dude','fag','faggot','father','father',\n#                 'fella','fellow','fiance','fucker','gent','gent','gentleman','gentlemen',\n#                 'grandfather','grandfathers','grandpa','grandpas','grandson','grandsons',\n#                 'groom','grooms','guy','guys','he',\"he'd\",\"he's\",'hero','him','himself',\n#                 'his','hombre','hombres','hubby','hunk','husband','husbands','incel','incels',\n#                 'king','kings','lad','lads','macho','machos','male','man','mankind','master','men',\n#                 \"men's\",'mensch','mister','mr','muscle','nephew','nephews','papa','pop','prick',\n#                 'pricks','priest','prince','run-on','sir','son','sonny','sons','stud','thug',\n#                 'thugs','uncle','uncles','virile','waiter','waiters','wanker','widower','widowers']\n\n\n# female_words = ['actress','actresses','amiga','amigas','aunt','aunts','babe','babes','biddy','bimbo',\n#                 'bimbos','bride','brides','butch','chairwoman','chick','chicks','cow','cows',\n#                 'cunt','cunts','dame','daughter','daughters','doe','dudess','dudette','dudine',\n#                 'dyke','dykes','fag hag','fem','female','feme','femme','fiancee','floozy',\n#                 'fusby','gal','girl','girlfriend','girlfriends','girls','goddess','goddesses',\n#                 'granddaughter','granddaughters','grandma','grandmas','grandmother','grandmothers',\n#                 'hag','hags','hay bag','hay-bag','her','heroine','hers','herself','hoe',\n#                 'hoe bag','hoes','honey','hooker','hookers','hussy','jugs','karen','ladies',\n#                 'lady','lost rib','lubra','mama','mamas','manhole','milf','mistress','mistresses',\n#                 'mivvy','mom','moms','mother','mothers','mrs','ms','muff','niece','nieces',\n#                 'priestess','princess','prostitute','prostitutes','pussies','pussy','queen',\n#                 'queens','quim','scow','she',\"she'd\",\"she's\",'shickster','sister','sisters',\n#                 'skank','skanks','slut','sluts','spokeswoman','strumpet','tar leather',\n#                 'tit','toots','tootsie','tramp','waitress','whore','whores','widow','widows',\n#                 'wife','wimmin','wives','woman','womankind','women','women',\"women's\",'womyn']\n\n# f_df = pd.DataFrame({'identifier': female_words})\n# m_df = pd.DataFrame({'identifier': male_words})\n# f_df['gender'] = 'female'\n# m_df['gender'] = 'male'\n# gender_id_df = f_df.append(m_df, ignore_index=True)\n\n\n# def get_tokens(data):\n#     '''\n#     tokenize all comments and remove stopwords\n#     outputs a single list of tokens\n#     '''\n#     tokens = []\n#     print('tokenizing...',end='\\r')\n#     for line in data.body.to_list():\n#         pre = preprocess_string(line.lower(), CUSTOM_FILTERS)\n#         tokens.extend(remove_stopword_tokens(pre, my_stopwords))\n#     print(' ')\n#     return [t for t in tokens if len(t)>1]\n\n\n# def get_dict(data, k):\n#     '''\n#     creates dictionary with \n#     counter of terms for each gender\n#     '''\n#     top_tokens = defaultdict()\n#     print('counting tokens...',end='\\r')\n#     top_tokens['all'] = Counter(get_tokens(data)).most_common(k)\n#     top_tokens['female'] = Counter(get_tokens(data[data.gender=='female'])).most_common(k)\n#     top_tokens['male'] = Counter(get_tokens(data[data.gender=='male'])).most_common(k)\n#     print(' ')\n#     return top_tokens\n\n\n# def identifiers_dict(data, k):\n#     '''\n#     creates a dictionary with counter of \n#     gender identifiers for each gender\n#     '''\n#     global gender_id_df\n\n#     pattern = re.compile('|'.join(gender_id_df.identifier.to_list()))\n\n#     words = []\n#     print('finding identifiers...',end='\\r')\n#     for txt in data.body.to_list():\n#         words.extend(re.findall(pattern, txt.lower()))\n\n#     top_tokens = defaultdict()\n#     top_tokens['f_terms'] = Counter([w for w in words if w in female_words]).most_common(k)\n#     top_tokens['m_terms'] = Counter([w for w in words if w in male_words]).most_common(k)\n\n#     tokens=[]\n#     for line in data.body.to_list():\n#         pre = preprocess_string(line.lower(), CUSTOM_FILTERS)\n#         tokens.extend(remove_stopword_tokens(pre, my_stopwords))\n\n#     top_tokens['both_terms'] = Counter([w for w in tokens if w in gender_id_df.identifier.to_list()]).most_common(k)\n#     print(' ')\n#     return top_tokens\n\n\n# def get_top_k_tokens(data, k, gender_id=False):\n#     '''\n#     creates df with k most frequent tokens \n#     for each gender and for all data\n#     '''\n#     if gender_id:\n#         data_dict = identifiers_dict(data, k)\n#     else:\n#         data_dict = get_dict(data, k)\n\n#     print('creating the dataframe...',end='\\r')\n#     for i,key in enumerate(data_dict.keys()):\n#         cat_df = pd.DataFrame(data_dict[key])\n#         cat_df.insert(0, 'gender', key)\n#         if i==0:\n#             df = cat_df.copy()\n#         else:\n#             df = df.append(cat_df, ignore_index=True)\n#     df.columns = ['gender', 'token', 'freq']\n#     df['rank'] = list(range(k))*3\n#     print(' ')\n#     return df\n\n\n# def get_percentage(data):\n#     '''\n#     takes df with top_k gender identifiers (for all genders) \n#     and calculates percentage of frequency within each gender\n#     '''\n#     for i,g in enumerate(['f_terms', 'm_terms', 'both_terms']):\n#         df = data[data['gender'] == g].copy()\n#         df['percentage'] = 100 * df.freq/df.freq.sum()\n#         if i==0:\n#             perc_id = df.copy()\n#         else:\n#             perc_id = perc_id.append(df, ignore_index=True)\n#         perc_id = perc_id.round(2)\n#     return perc_id\n",
   "outputs": [],
   "execution_count": null
  },
  {
   "cell_type": "markdown",
   "source": "#### Question 3\n\nHow does language differ based on gendered speech? \n\n##### Operationalized question\nHow do the words associated with Reddit comments differ based on the presence of male or female pronouns?\n",
   "metadata": {
    "cell_id": "95e46e7095394b809d2964924b9f897a",
    "tags": [],
    "deepnote_cell_type": "markdown",
    "deepnote_cell_height": 160.71875
   }
  },
  {
   "cell_type": "markdown",
   "source": "### Top tokens",
   "metadata": {
    "cell_id": "a74ec30d8e524717a002661583ddba8d",
    "tags": [],
    "deepnote_cell_type": "markdown",
    "deepnote_cell_height": 61.953125
   }
  },
  {
   "cell_type": "code",
   "metadata": {
    "cell_id": "19c9ea7c73a24759b7970dee4cc2d326",
    "tags": [],
    "deepnote_to_be_reexecuted": false,
    "source_hash": "6d427857",
    "execution_start": 1650845622338,
    "execution_millis": 7,
    "deepnote_cell_type": "code",
    "deepnote_cell_height": 116.953125
   },
   "source": "c_hate = c[c.davidson_label!=2]\ntop_hate = get_top_k_tokens(c_hate, 20)\ntop_hate.to_csv('../data/viz/top_tokens_hateful.csv', index=False)",
   "outputs": [],
   "execution_count": null
  },
  {
   "cell_type": "code",
   "metadata": {
    "cell_id": "4a1cf1e0b1a54fd99fc1bea2b040d052",
    "tags": [],
    "deepnote_to_be_reexecuted": false,
    "source_hash": "63c2a11",
    "execution_start": 1650845615456,
    "execution_millis": 68,
    "deepnote_cell_type": "code",
    "deepnote_cell_height": 394.890625
   },
   "source": "top_hate.sample(5)",
   "outputs": [
    {
     "output_type": "execute_result",
     "execution_count": 9,
     "data": {
      "application/vnd.deepnote.dataframe.v3+json": {
       "column_count": 4,
       "row_count": 5,
       "columns": [
        {
         "name": "gender",
         "dtype": "object",
         "stats": {
          "unique_count": 2,
          "nan_count": 0,
          "categories": [
           {
            "name": "all",
            "count": 4
           },
           {
            "name": "female",
            "count": 1
           }
          ]
         }
        },
        {
         "name": "token",
         "dtype": "object",
         "stats": {
          "unique_count": 5,
          "nan_count": 0,
          "categories": [
           {
            "name": "whore",
            "count": 1
           },
           {
            "name": "like",
            "count": 1
           },
           {
            "name": "3 others",
            "count": 3
           }
          ]
         }
        },
        {
         "name": "freq",
         "dtype": "int64",
         "stats": {
          "unique_count": 5,
          "nan_count": 0,
          "min": "6673",
          "max": "96307",
          "histogram": [
           {
            "bin_start": 6673,
            "bin_end": 15636.4,
            "count": 2
           },
           {
            "bin_start": 15636.4,
            "bin_end": 24599.8,
            "count": 2
           },
           {
            "bin_start": 24599.8,
            "bin_end": 33563.2,
            "count": 0
           },
           {
            "bin_start": 33563.2,
            "bin_end": 42526.6,
            "count": 0
           },
           {
            "bin_start": 42526.6,
            "bin_end": 51490,
            "count": 0
           },
           {
            "bin_start": 51490,
            "bin_end": 60453.399999999994,
            "count": 0
           },
           {
            "bin_start": 60453.399999999994,
            "bin_end": 69416.79999999999,
            "count": 0
           },
           {
            "bin_start": 69416.79999999999,
            "bin_end": 78380.2,
            "count": 0
           },
           {
            "bin_start": 78380.2,
            "bin_end": 87343.59999999999,
            "count": 0
           },
           {
            "bin_start": 87343.59999999999,
            "bin_end": 96307,
            "count": 1
           }
          ]
         }
        },
        {
         "name": "rank",
         "dtype": "int64",
         "stats": {
          "unique_count": 5,
          "nan_count": 0,
          "min": "0",
          "max": "16",
          "histogram": [
           {
            "bin_start": 0,
            "bin_end": 1.6,
            "count": 2
           },
           {
            "bin_start": 1.6,
            "bin_end": 3.2,
            "count": 1
           },
           {
            "bin_start": 3.2,
            "bin_end": 4.800000000000001,
            "count": 1
           },
           {
            "bin_start": 4.800000000000001,
            "bin_end": 6.4,
            "count": 0
           },
           {
            "bin_start": 6.4,
            "bin_end": 8,
            "count": 0
           },
           {
            "bin_start": 8,
            "bin_end": 9.600000000000001,
            "count": 0
           },
           {
            "bin_start": 9.600000000000001,
            "bin_end": 11.200000000000001,
            "count": 0
           },
           {
            "bin_start": 11.200000000000001,
            "bin_end": 12.8,
            "count": 0
           },
           {
            "bin_start": 12.8,
            "bin_end": 14.4,
            "count": 0
           },
           {
            "bin_start": 14.4,
            "bin_end": 16,
            "count": 1
           }
          ]
         }
        },
        {
         "name": "_deepnote_index_column",
         "dtype": "int64"
        }
       ],
       "rows": [
        {
         "gender": "all",
         "token": "whore",
         "freq": 18587,
         "rank": 4,
         "_deepnote_index_column": 4
        },
        {
         "gender": "female",
         "token": "like",
         "freq": 15613,
         "rank": 1,
         "_deepnote_index_column": 21
        },
        {
         "gender": "all",
         "token": "cunt",
         "freq": 96307,
         "rank": 0,
         "_deepnote_index_column": 0
        },
        {
         "gender": "all",
         "token": "cum",
         "freq": 6673,
         "rank": 16,
         "_deepnote_index_column": 16
        },
        {
         "gender": "all",
         "token": "fucking",
         "freq": 19610,
         "rank": 3,
         "_deepnote_index_column": 3
        }
       ]
      },
      "text/plain": "    gender    token   freq  rank\n4      all    whore  18587     4\n21  female     like  15613     1\n0      all     cunt  96307     0\n16     all      cum   6673    16\n3      all  fucking  19610     3",
      "text/html": "<div>\n<style scoped>\n    .dataframe tbody tr th:only-of-type {\n        vertical-align: middle;\n    }\n\n    .dataframe tbody tr th {\n        vertical-align: top;\n    }\n\n    .dataframe thead th {\n        text-align: right;\n    }\n</style>\n<table border=\"1\" class=\"dataframe\">\n  <thead>\n    <tr style=\"text-align: right;\">\n      <th></th>\n      <th>gender</th>\n      <th>token</th>\n      <th>freq</th>\n      <th>rank</th>\n    </tr>\n  </thead>\n  <tbody>\n    <tr>\n      <th>4</th>\n      <td>all</td>\n      <td>whore</td>\n      <td>18587</td>\n      <td>4</td>\n    </tr>\n    <tr>\n      <th>21</th>\n      <td>female</td>\n      <td>like</td>\n      <td>15613</td>\n      <td>1</td>\n    </tr>\n    <tr>\n      <th>0</th>\n      <td>all</td>\n      <td>cunt</td>\n      <td>96307</td>\n      <td>0</td>\n    </tr>\n    <tr>\n      <th>16</th>\n      <td>all</td>\n      <td>cum</td>\n      <td>6673</td>\n      <td>16</td>\n    </tr>\n    <tr>\n      <th>3</th>\n      <td>all</td>\n      <td>fucking</td>\n      <td>19610</td>\n      <td>3</td>\n    </tr>\n  </tbody>\n</table>\n</div>"
     },
     "metadata": {}
    }
   ],
   "execution_count": null
  },
  {
   "cell_type": "code",
   "metadata": {
    "cell_id": "a04773d5716c4e4ca3044cccb016f387",
    "tags": [],
    "deepnote_to_be_reexecuted": false,
    "source_hash": "1fc10841",
    "execution_start": 1650845635793,
    "execution_millis": 23446,
    "deepnote_cell_type": "code",
    "deepnote_cell_height": 205.9375
   },
   "source": "top_reference = get_top_k_tokens(r, 20)\ntop_reference.to_csv('../data/viz/top_tokens_reference.csv', index=False)",
   "outputs": [
    {
     "name": "stdout",
     "text": " \n \n \n \n \n",
     "output_type": "stream"
    }
   ],
   "execution_count": null
  },
  {
   "cell_type": "code",
   "metadata": {
    "cell_id": "cedb1eb647b748a4a4a24c32f26716d5",
    "tags": [],
    "deepnote_to_be_reexecuted": false,
    "source_hash": "3c38c319",
    "execution_start": 1650845664049,
    "execution_millis": 534,
    "deepnote_cell_type": "code",
    "deepnote_cell_height": 394.953125
   },
   "source": "top_reference.sample(5)",
   "outputs": [
    {
     "output_type": "execute_result",
     "execution_count": 12,
     "data": {
      "application/vnd.deepnote.dataframe.v3+json": {
       "column_count": 4,
       "row_count": 5,
       "columns": [
        {
         "name": "gender",
         "dtype": "object",
         "stats": {
          "unique_count": 3,
          "nan_count": 0,
          "categories": [
           {
            "name": "all",
            "count": 3
           },
           {
            "name": "female",
            "count": 1
           },
           {
            "name": "male",
            "count": 1
           }
          ]
         }
        },
        {
         "name": "token",
         "dtype": "object",
         "stats": {
          "unique_count": 5,
          "nan_count": 0,
          "categories": [
           {
            "name": "going",
            "count": 1
           },
           {
            "name": "day",
            "count": 1
           },
           {
            "name": "3 others",
            "count": 3
           }
          ]
         }
        },
        {
         "name": "freq",
         "dtype": "int64",
         "stats": {
          "unique_count": 5,
          "nan_count": 0,
          "min": "451",
          "max": "4360",
          "histogram": [
           {
            "bin_start": 451,
            "bin_end": 841.9,
            "count": 1
           },
           {
            "bin_start": 841.9,
            "bin_end": 1232.8,
            "count": 1
           },
           {
            "bin_start": 1232.8,
            "bin_end": 1623.6999999999998,
            "count": 0
           },
           {
            "bin_start": 1623.6999999999998,
            "bin_end": 2014.6,
            "count": 0
           },
           {
            "bin_start": 2014.6,
            "bin_end": 2405.5,
            "count": 0
           },
           {
            "bin_start": 2405.5,
            "bin_end": 2796.3999999999996,
            "count": 0
           },
           {
            "bin_start": 2796.3999999999996,
            "bin_end": 3187.2999999999997,
            "count": 0
           },
           {
            "bin_start": 3187.2999999999997,
            "bin_end": 3578.2,
            "count": 1
           },
           {
            "bin_start": 3578.2,
            "bin_end": 3969.1,
            "count": 1
           },
           {
            "bin_start": 3969.1,
            "bin_end": 4360,
            "count": 1
           }
          ]
         }
        },
        {
         "name": "rank",
         "dtype": "int64",
         "stats": {
          "unique_count": 4,
          "nan_count": 0,
          "min": "7",
          "max": "17",
          "histogram": [
           {
            "bin_start": 7,
            "bin_end": 8,
            "count": 1
           },
           {
            "bin_start": 8,
            "bin_end": 9,
            "count": 0
           },
           {
            "bin_start": 9,
            "bin_end": 10,
            "count": 1
           },
           {
            "bin_start": 10,
            "bin_end": 11,
            "count": 0
           },
           {
            "bin_start": 11,
            "bin_end": 12,
            "count": 0
           },
           {
            "bin_start": 12,
            "bin_end": 13,
            "count": 0
           },
           {
            "bin_start": 13,
            "bin_end": 14,
            "count": 0
           },
           {
            "bin_start": 14,
            "bin_end": 15,
            "count": 2
           },
           {
            "bin_start": 15,
            "bin_end": 16,
            "count": 0
           },
           {
            "bin_start": 16,
            "bin_end": 17,
            "count": 1
           }
          ]
         }
        },
        {
         "name": "_deepnote_index_column",
         "dtype": "int64"
        }
       ],
       "rows": [
        {
         "gender": "all",
         "token": "going",
         "freq": 4360,
         "rank": 9,
         "_deepnote_index_column": 9
        },
        {
         "gender": "all",
         "token": "day",
         "freq": 3371,
         "rank": 17,
         "_deepnote_index_column": 17
        },
        {
         "gender": "female",
         "token": "way",
         "freq": 451,
         "rank": 7,
         "_deepnote_index_column": 27
        },
        {
         "gender": "all",
         "token": "work",
         "freq": 3657,
         "rank": 14,
         "_deepnote_index_column": 14
        },
        {
         "gender": "male",
         "token": "things",
         "freq": 987,
         "rank": 14,
         "_deepnote_index_column": 54
        }
       ]
      },
      "text/plain": "    gender   token  freq  rank\n9      all   going  4360     9\n17     all     day  3371    17\n27  female     way   451     7\n14     all    work  3657    14\n54    male  things   987    14",
      "text/html": "<div>\n<style scoped>\n    .dataframe tbody tr th:only-of-type {\n        vertical-align: middle;\n    }\n\n    .dataframe tbody tr th {\n        vertical-align: top;\n    }\n\n    .dataframe thead th {\n        text-align: right;\n    }\n</style>\n<table border=\"1\" class=\"dataframe\">\n  <thead>\n    <tr style=\"text-align: right;\">\n      <th></th>\n      <th>gender</th>\n      <th>token</th>\n      <th>freq</th>\n      <th>rank</th>\n    </tr>\n  </thead>\n  <tbody>\n    <tr>\n      <th>9</th>\n      <td>all</td>\n      <td>going</td>\n      <td>4360</td>\n      <td>9</td>\n    </tr>\n    <tr>\n      <th>17</th>\n      <td>all</td>\n      <td>day</td>\n      <td>3371</td>\n      <td>17</td>\n    </tr>\n    <tr>\n      <th>27</th>\n      <td>female</td>\n      <td>way</td>\n      <td>451</td>\n      <td>7</td>\n    </tr>\n    <tr>\n      <th>14</th>\n      <td>all</td>\n      <td>work</td>\n      <td>3657</td>\n      <td>14</td>\n    </tr>\n    <tr>\n      <th>54</th>\n      <td>male</td>\n      <td>things</td>\n      <td>987</td>\n      <td>14</td>\n    </tr>\n  </tbody>\n</table>\n</div>"
     },
     "metadata": {}
    }
   ],
   "execution_count": null
  },
  {
   "cell_type": "markdown",
   "source": "#### Question 6.1\n\nHow often do the gender identifiers appear in the corpus? \n\n##### Operationalized question\nFor each gender identifier, what is its frequency in the corpus and its proportion of the separate totals female or male identifiers?",
   "metadata": {
    "cell_id": "ce199d4204f24d0eb450d723690feb68",
    "tags": [],
    "deepnote_cell_type": "markdown",
    "deepnote_cell_height": 160.71875
   }
  },
  {
   "cell_type": "markdown",
   "source": "### Top gender identifier terms",
   "metadata": {
    "cell_id": "8ee2b886c9954108988998e932913796",
    "tags": [],
    "deepnote_cell_type": "markdown",
    "deepnote_cell_height": 61.953125
   }
  },
  {
   "cell_type": "code",
   "metadata": {
    "cell_id": "11d563c68edc4c17be9c403cfc3f7e0b",
    "tags": [],
    "deepnote_to_be_reexecuted": false,
    "source_hash": "4998503f",
    "execution_start": 1650845669231,
    "execution_millis": 57044,
    "deepnote_cell_type": "code",
    "deepnote_cell_height": 130.328125
   },
   "source": "top_id_hate = get_top_k_tokens(c_hate, 20, gender_id=True)",
   "outputs": [
    {
     "name": "stdout",
     "text": " \n \n",
     "output_type": "stream"
    }
   ],
   "execution_count": null
  },
  {
   "cell_type": "code",
   "metadata": {
    "cell_id": "6679437fd495484d89b0256fb6399833",
    "tags": [],
    "deepnote_to_be_reexecuted": false,
    "source_hash": "cf4b0824",
    "execution_start": 1650845726296,
    "execution_millis": 45027,
    "deepnote_cell_type": "code",
    "deepnote_cell_height": 130.953125
   },
   "source": "top_id_reference = get_top_k_tokens(r, 20, gender_id=True)",
   "outputs": [
    {
     "name": "stdout",
     "text": " \n \n",
     "output_type": "stream"
    }
   ],
   "execution_count": null
  },
  {
   "cell_type": "code",
   "metadata": {
    "cell_id": "a0dc8f2eae56402d955cdf63af3f307d",
    "tags": [],
    "deepnote_to_be_reexecuted": false,
    "source_hash": "7a3872fd",
    "execution_start": 1650845889120,
    "execution_millis": 20,
    "deepnote_cell_type": "code",
    "deepnote_cell_height": 134.953125
   },
   "source": "perc_id_hate = get_percentage(top_id_hate)\nperc_id_ref = get_percentage(top_id_reference)\nperc_id_hate.to_csv('../data/viz/top_gender_id_hate.csv', index=False)\nperc_id_ref.to_csv('../data/viz/top_gender_id_ref.csv', index=False)",
   "outputs": [],
   "execution_count": null
  },
  {
   "cell_type": "code",
   "metadata": {
    "cell_id": "6b2cf1ae2bfe4f9ea29778865e2c4057",
    "tags": [],
    "deepnote_to_be_reexecuted": false,
    "source_hash": "71a34b8e",
    "execution_start": 1650845890740,
    "execution_millis": 94,
    "deepnote_cell_type": "code",
    "deepnote_cell_height": 394.890625
   },
   "source": "perc_id_hate.sample(5)",
   "outputs": [
    {
     "output_type": "execute_result",
     "execution_count": 16,
     "data": {
      "application/vnd.deepnote.dataframe.v3+json": {
       "column_count": 5,
       "row_count": 5,
       "columns": [
        {
         "name": "gender",
         "dtype": "object",
         "stats": {
          "unique_count": 3,
          "nan_count": 0,
          "categories": [
           {
            "name": "m_terms",
            "count": 2
           },
           {
            "name": "f_terms",
            "count": 2
           },
           {
            "name": "both_terms",
            "count": 1
           }
          ]
         }
        },
        {
         "name": "token",
         "dtype": "object",
         "stats": {
          "unique_count": 5,
          "nan_count": 0,
          "categories": [
           {
            "name": "girls",
            "count": 1
           },
           {
            "name": "guy",
            "count": 1
           },
           {
            "name": "3 others",
            "count": 3
           }
          ]
         }
        },
        {
         "name": "freq",
         "dtype": "int64",
         "stats": {
          "unique_count": 5,
          "nan_count": 0,
          "min": "1015",
          "max": "227842",
          "histogram": [
           {
            "bin_start": 1015,
            "bin_end": 23697.7,
            "count": 3
           },
           {
            "bin_start": 23697.7,
            "bin_end": 46380.4,
            "count": 1
           },
           {
            "bin_start": 46380.4,
            "bin_end": 69063.1,
            "count": 0
           },
           {
            "bin_start": 69063.1,
            "bin_end": 91745.8,
            "count": 0
           },
           {
            "bin_start": 91745.8,
            "bin_end": 114428.5,
            "count": 0
           },
           {
            "bin_start": 114428.5,
            "bin_end": 137111.2,
            "count": 0
           },
           {
            "bin_start": 137111.2,
            "bin_end": 159793.9,
            "count": 0
           },
           {
            "bin_start": 159793.9,
            "bin_end": 182476.6,
            "count": 0
           },
           {
            "bin_start": 182476.6,
            "bin_end": 205159.30000000002,
            "count": 0
           },
           {
            "bin_start": 205159.30000000002,
            "bin_end": 227842,
            "count": 1
           }
          ]
         }
        },
        {
         "name": "rank",
         "dtype": "int64",
         "stats": {
          "unique_count": 5,
          "nan_count": 0,
          "min": "0",
          "max": "18",
          "histogram": [
           {
            "bin_start": 0,
            "bin_end": 1.8,
            "count": 1
           },
           {
            "bin_start": 1.8,
            "bin_end": 3.6,
            "count": 1
           },
           {
            "bin_start": 3.6,
            "bin_end": 5.4,
            "count": 0
           },
           {
            "bin_start": 5.4,
            "bin_end": 7.2,
            "count": 1
           },
           {
            "bin_start": 7.2,
            "bin_end": 9,
            "count": 1
           },
           {
            "bin_start": 9,
            "bin_end": 10.8,
            "count": 0
           },
           {
            "bin_start": 10.8,
            "bin_end": 12.6,
            "count": 0
           },
           {
            "bin_start": 12.6,
            "bin_end": 14.4,
            "count": 0
           },
           {
            "bin_start": 14.4,
            "bin_end": 16.2,
            "count": 0
           },
           {
            "bin_start": 16.2,
            "bin_end": 18,
            "count": 1
           }
          ]
         }
        },
        {
         "name": "percentage",
         "dtype": "float64",
         "stats": {
          "unique_count": 5,
          "nan_count": 0,
          "min": "0.58",
          "max": "59.37",
          "histogram": [
           {
            "bin_start": 0.58,
            "bin_end": 6.459,
            "count": 3
           },
           {
            "bin_start": 6.459,
            "bin_end": 12.338,
            "count": 1
           },
           {
            "bin_start": 12.338,
            "bin_end": 18.217,
            "count": 0
           },
           {
            "bin_start": 18.217,
            "bin_end": 24.095999999999997,
            "count": 0
           },
           {
            "bin_start": 24.095999999999997,
            "bin_end": 29.974999999999994,
            "count": 0
           },
           {
            "bin_start": 29.974999999999994,
            "bin_end": 35.854,
            "count": 0
           },
           {
            "bin_start": 35.854,
            "bin_end": 41.733,
            "count": 0
           },
           {
            "bin_start": 41.733,
            "bin_end": 47.611999999999995,
            "count": 0
           },
           {
            "bin_start": 47.611999999999995,
            "bin_end": 53.49099999999999,
            "count": 0
           },
           {
            "bin_start": 53.49099999999999,
            "bin_end": 59.37,
            "count": 1
           }
          ]
         }
        },
        {
         "name": "_deepnote_index_column",
         "dtype": "int64"
        }
       ],
       "rows": [
        {
         "gender": "both_terms",
         "token": "girls",
         "freq": 1015,
         "rank": 18,
         "percentage": 0.58,
         "_deepnote_index_column": 58
        },
        {
         "gender": "m_terms",
         "token": "guy",
         "freq": 5672,
         "rank": 8,
         "percentage": 1.48,
         "_deepnote_index_column": 28
        },
        {
         "gender": "m_terms",
         "token": "he",
         "freq": 227842,
         "rank": 0,
         "percentage": 59.37,
         "_deepnote_index_column": 20
        },
        {
         "gender": "f_terms",
         "token": "she",
         "freq": 28295,
         "rank": 2,
         "percentage": 10.21,
         "_deepnote_index_column": 2
        },
        {
         "gender": "f_terms",
         "token": "pussy",
         "freq": 6301,
         "rank": 6,
         "percentage": 2.27,
         "_deepnote_index_column": 6
        }
       ]
      },
      "text/plain": "        gender  token    freq  rank  percentage\n58  both_terms  girls    1015    18        0.58\n28     m_terms    guy    5672     8        1.48\n20     m_terms     he  227842     0       59.37\n2      f_terms    she   28295     2       10.21\n6      f_terms  pussy    6301     6        2.27",
      "text/html": "<div>\n<style scoped>\n    .dataframe tbody tr th:only-of-type {\n        vertical-align: middle;\n    }\n\n    .dataframe tbody tr th {\n        vertical-align: top;\n    }\n\n    .dataframe thead th {\n        text-align: right;\n    }\n</style>\n<table border=\"1\" class=\"dataframe\">\n  <thead>\n    <tr style=\"text-align: right;\">\n      <th></th>\n      <th>gender</th>\n      <th>token</th>\n      <th>freq</th>\n      <th>rank</th>\n      <th>percentage</th>\n    </tr>\n  </thead>\n  <tbody>\n    <tr>\n      <th>58</th>\n      <td>both_terms</td>\n      <td>girls</td>\n      <td>1015</td>\n      <td>18</td>\n      <td>0.58</td>\n    </tr>\n    <tr>\n      <th>28</th>\n      <td>m_terms</td>\n      <td>guy</td>\n      <td>5672</td>\n      <td>8</td>\n      <td>1.48</td>\n    </tr>\n    <tr>\n      <th>20</th>\n      <td>m_terms</td>\n      <td>he</td>\n      <td>227842</td>\n      <td>0</td>\n      <td>59.37</td>\n    </tr>\n    <tr>\n      <th>2</th>\n      <td>f_terms</td>\n      <td>she</td>\n      <td>28295</td>\n      <td>2</td>\n      <td>10.21</td>\n    </tr>\n    <tr>\n      <th>6</th>\n      <td>f_terms</td>\n      <td>pussy</td>\n      <td>6301</td>\n      <td>6</td>\n      <td>2.27</td>\n    </tr>\n  </tbody>\n</table>\n</div>"
     },
     "metadata": {}
    }
   ],
   "execution_count": null
  },
  {
   "cell_type": "code",
   "metadata": {
    "cell_id": "d88d925806634b129d6a63e86712729a",
    "tags": [],
    "deepnote_to_be_reexecuted": false,
    "source_hash": "6121fb58",
    "execution_start": 1650845891802,
    "execution_millis": 33,
    "owner_user_id": "aa81f22b-076f-4bdb-abba-2edf2197fa03",
    "deepnote_cell_type": "code",
    "deepnote_cell_height": 394.890625
   },
   "source": "perc_id_ref.sample(5)",
   "outputs": [
    {
     "output_type": "execute_result",
     "execution_count": 17,
     "data": {
      "application/vnd.deepnote.dataframe.v3+json": {
       "column_count": 5,
       "row_count": 5,
       "columns": [
        {
         "name": "gender",
         "dtype": "object",
         "stats": {
          "unique_count": 3,
          "nan_count": 0,
          "categories": [
           {
            "name": "f_terms",
            "count": 3
           },
           {
            "name": "m_terms",
            "count": 1
           },
           {
            "name": "both_terms",
            "count": 1
           }
          ]
         }
        },
        {
         "name": "token",
         "dtype": "object",
         "stats": {
          "unique_count": 5,
          "nan_count": 0,
          "categories": [
           {
            "name": "sister",
            "count": 1
           },
           {
            "name": "ape",
            "count": 1
           },
           {
            "name": "3 others",
            "count": 3
           }
          ]
         }
        },
        {
         "name": "freq",
         "dtype": "int64",
         "stats": {
          "unique_count": 5,
          "nan_count": 0,
          "min": "151",
          "max": "44790",
          "histogram": [
           {
            "bin_start": 151,
            "bin_end": 4614.9,
            "count": 4
           },
           {
            "bin_start": 4614.9,
            "bin_end": 9078.8,
            "count": 0
           },
           {
            "bin_start": 9078.8,
            "bin_end": 13542.699999999999,
            "count": 0
           },
           {
            "bin_start": 13542.699999999999,
            "bin_end": 18006.6,
            "count": 0
           },
           {
            "bin_start": 18006.6,
            "bin_end": 22470.5,
            "count": 0
           },
           {
            "bin_start": 22470.5,
            "bin_end": 26934.399999999998,
            "count": 0
           },
           {
            "bin_start": 26934.399999999998,
            "bin_end": 31398.299999999996,
            "count": 0
           },
           {
            "bin_start": 31398.299999999996,
            "bin_end": 35862.2,
            "count": 0
           },
           {
            "bin_start": 35862.2,
            "bin_end": 40326.1,
            "count": 0
           },
           {
            "bin_start": 40326.1,
            "bin_end": 44790,
            "count": 1
           }
          ]
         }
        },
        {
         "name": "rank",
         "dtype": "int64",
         "stats": {
          "unique_count": 4,
          "nan_count": 0,
          "min": "0",
          "max": "19",
          "histogram": [
           {
            "bin_start": 0,
            "bin_end": 1.9,
            "count": 1
           },
           {
            "bin_start": 1.9,
            "bin_end": 3.8,
            "count": 0
           },
           {
            "bin_start": 3.8,
            "bin_end": 5.699999999999999,
            "count": 0
           },
           {
            "bin_start": 5.699999999999999,
            "bin_end": 7.6,
            "count": 0
           },
           {
            "bin_start": 7.6,
            "bin_end": 9.5,
            "count": 1
           },
           {
            "bin_start": 9.5,
            "bin_end": 11.399999999999999,
            "count": 0
           },
           {
            "bin_start": 11.399999999999999,
            "bin_end": 13.299999999999999,
            "count": 0
           },
           {
            "bin_start": 13.299999999999999,
            "bin_end": 15.2,
            "count": 1
           },
           {
            "bin_start": 15.2,
            "bin_end": 17.099999999999998,
            "count": 0
           },
           {
            "bin_start": 17.099999999999998,
            "bin_end": 19,
            "count": 2
           }
          ]
         }
        },
        {
         "name": "percentage",
         "dtype": "float64",
         "stats": {
          "unique_count": 5,
          "nan_count": 0,
          "min": "0.19",
          "max": "57.0",
          "histogram": [
           {
            "bin_start": 0.19,
            "bin_end": 5.871,
            "count": 4
           },
           {
            "bin_start": 5.871,
            "bin_end": 11.552,
            "count": 0
           },
           {
            "bin_start": 11.552,
            "bin_end": 17.233,
            "count": 0
           },
           {
            "bin_start": 17.233,
            "bin_end": 22.914,
            "count": 0
           },
           {
            "bin_start": 22.914,
            "bin_end": 28.595000000000002,
            "count": 0
           },
           {
            "bin_start": 28.595000000000002,
            "bin_end": 34.275999999999996,
            "count": 0
           },
           {
            "bin_start": 34.275999999999996,
            "bin_end": 39.957,
            "count": 0
           },
           {
            "bin_start": 39.957,
            "bin_end": 45.638,
            "count": 0
           },
           {
            "bin_start": 45.638,
            "bin_end": 51.318999999999996,
            "count": 0
           },
           {
            "bin_start": 51.318999999999996,
            "bin_end": 57,
            "count": 1
           }
          ]
         }
        },
        {
         "name": "_deepnote_index_column",
         "dtype": "int64"
        }
       ],
       "rows": [
        {
         "gender": "f_terms",
         "token": "sister",
         "freq": 329,
         "rank": 14,
         "percentage": 0.42,
         "_deepnote_index_column": 14
        },
        {
         "gender": "m_terms",
         "token": "ape",
         "freq": 1733,
         "rank": 9,
         "percentage": 0.53,
         "_deepnote_index_column": 29
        },
        {
         "gender": "f_terms",
         "token": "her",
         "freq": 44790,
         "rank": 0,
         "percentage": 57,
         "_deepnote_index_column": 0
        },
        {
         "gender": "both_terms",
         "token": "father",
         "freq": 251,
         "rank": 19,
         "percentage": 2.12,
         "_deepnote_index_column": 59
        },
        {
         "gender": "f_terms",
         "token": "aunt",
         "freq": 151,
         "rank": 19,
         "percentage": 0.19,
         "_deepnote_index_column": 19
        }
       ]
      },
      "text/plain": "        gender   token   freq  rank  percentage\n14     f_terms  sister    329    14        0.42\n29     m_terms     ape   1733     9        0.53\n0      f_terms     her  44790     0       57.00\n59  both_terms  father    251    19        2.12\n19     f_terms    aunt    151    19        0.19",
      "text/html": "<div>\n<style scoped>\n    .dataframe tbody tr th:only-of-type {\n        vertical-align: middle;\n    }\n\n    .dataframe tbody tr th {\n        vertical-align: top;\n    }\n\n    .dataframe thead th {\n        text-align: right;\n    }\n</style>\n<table border=\"1\" class=\"dataframe\">\n  <thead>\n    <tr style=\"text-align: right;\">\n      <th></th>\n      <th>gender</th>\n      <th>token</th>\n      <th>freq</th>\n      <th>rank</th>\n      <th>percentage</th>\n    </tr>\n  </thead>\n  <tbody>\n    <tr>\n      <th>14</th>\n      <td>f_terms</td>\n      <td>sister</td>\n      <td>329</td>\n      <td>14</td>\n      <td>0.42</td>\n    </tr>\n    <tr>\n      <th>29</th>\n      <td>m_terms</td>\n      <td>ape</td>\n      <td>1733</td>\n      <td>9</td>\n      <td>0.53</td>\n    </tr>\n    <tr>\n      <th>0</th>\n      <td>f_terms</td>\n      <td>her</td>\n      <td>44790</td>\n      <td>0</td>\n      <td>57.00</td>\n    </tr>\n    <tr>\n      <th>59</th>\n      <td>both_terms</td>\n      <td>father</td>\n      <td>251</td>\n      <td>19</td>\n      <td>2.12</td>\n    </tr>\n    <tr>\n      <th>19</th>\n      <td>f_terms</td>\n      <td>aunt</td>\n      <td>151</td>\n      <td>19</td>\n      <td>0.19</td>\n    </tr>\n  </tbody>\n</table>\n</div>"
     },
     "metadata": {}
    }
   ],
   "execution_count": null
  },
  {
   "cell_type": "markdown",
   "source": "<a style='text-decoration:none;line-height:16px;display:flex;color:#5B5B62;padding:10px;justify-content:end;' href='https://deepnote.com?utm_source=created-in-deepnote-cell&projectId=b22dad3f-c925-4cd0-bb81-e22d83bd774f' target=\"_blank\">\n<img alt='Created in deepnote.com' style='display:inline;max-height:16px;margin:0px;margin-right:7.5px;' src='data:image/svg+xml;base64,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' > </img>\nCreated in <span style='font-weight:600;margin-left:4px;'>Deepnote</span></a>",
   "metadata": {
    "tags": [],
    "created_in_deepnote_cell": true,
    "deepnote_cell_type": "markdown"
   }
  }
 ],
 "nbformat": 4,
 "nbformat_minor": 2,
 "metadata": {
  "orig_nbformat": 2,
  "deepnote": {},
  "deepnote_notebook_id": "0132404a-d647-4bca-9263-fe5fbe14c0a6",
  "deepnote_execution_queue": []
 }
}
{
 "cells": [
  {
   "cell_type": "markdown",
   "source": "## Question 4\n\nIs gendered toxic speech more prevalent on some subreddits than on others?\n\n\n#### Operationalized Questions\n\nDo some subreddits have a higher frequency of toxic speech mentioning females?\n\nWhich subreddits have the most toxic speech with female identifiers and which have the most frequency of toxic speech with male identifiers?\n\nConsider examining by comparing hate, offensive, and neither classifications as well as exploring the Detoxify scores.\n\n\n#### Hypothesis\n\nReddit has a wide variety of subreddits (micro communities). Toxic speech that includes female identifiers is more prevalent on some subreddits than on others.\n\n\n#### Results\nOur results show that toxic speech including female identifiers is more prevalent on subreddits than toxic speech including male identifiers. When comparing subreddits by their high toxicity scores (above average for each of the Detoxify metrics), the Subreddit count with female identifiers was 2099, versus a count of 31 for those with male identifiers. The top ten subreddits based on total number of comments with female identifiers also contained much higher proportions of toxic speech than those with male identifiers. The top ten list contains subreddits with adult themes (rapefantasies, MisogynisticLife), but also sports (Cricket, soccer) and those intended for a more general audience (AskReddit, antiwork). After running Welch’s T-test comparing the subreddits with male or female comments with above average toxicity, we got the results (t-statistic=20.2661, p-value=2.5911e-19), leading us to reject the Null Hypothesis that there is no difference between the means of both groups.\n\nWhen comparing subreddits based on class label instead of Detoxify scores, we found that the number of subreddits containing comments with female identifiers were far more than those with male identifiers. There were a total of 5016 and 6381 subreddits, classified as having “hate” and “offensive” comments respectively when female identifiers were included, where as the subreddit counts for those with male identifiers were 103 and 212, classified as having “hate” and “offensive” comments respectively.  We ran Welch’s T-test comparing the subreddits with male or female comments classified as hate or offensive. The results for those containing hate comments resulted in (t-statistic=-3.4180, p-value=0.0009), while those containing offensive comments resulted in (t-statistic=-6.7197, p-value=1.4771e-10), leading us to reject the Null Hypothesis that there is no difference between the means of both groups in each case.\n\n\n\n",
   "metadata": {
    "cell_id": "31c6949703394c8e85c4d84f6963f4ee",
    "tags": [],
    "deepnote_cell_type": "markdown",
    "deepnote_cell_height": 805.2000122070312
   }
  },
  {
   "cell_type": "code",
   "metadata": {
    "tags": [],
    "cell_id": "62386fcf-6886-486c-8e6c-f0272481f541",
    "deepnote_to_be_reexecuted": false,
    "source_hash": "3b5a7d38",
    "execution_start": 1650763555293,
    "execution_millis": 1017,
    "deepnote_cell_type": "code",
    "deepnote_cell_height": 135
   },
   "source": "import pandas as pd\nimport numpy as np\nfrom scipy.stats import ttest_ind\nimport altair as alt",
   "execution_count": null,
   "outputs": []
  },
  {
   "cell_type": "code",
   "metadata": {
    "cell_id": "ef6fe4ed3d854f589870147b8ed91f0a",
    "tags": [],
    "deepnote_to_be_reexecuted": false,
    "source_hash": "d202f1bd",
    "execution_start": 1650763556313,
    "execution_millis": 3823,
    "deepnote_cell_type": "code",
    "deepnote_cell_height": 81
   },
   "source": "c = pd.read_csv('../data/comments.csv')",
   "execution_count": null,
   "outputs": []
  },
  {
   "cell_type": "markdown",
   "source": "#### Initiate T-test function \n\nThis will help us look for any potential relationships between gender identifiers and higher toxicity in specific subreddits.",
   "metadata": {
    "cell_id": "a95e79d9660a4bf7b62a9a928f19cec7",
    "tags": [],
    "deepnote_cell_type": "markdown",
    "deepnote_cell_height": 88.39999389648438
   }
  },
  {
   "cell_type": "code",
   "metadata": {
    "cell_id": "cca3f553c2dc4d8da47c013940a98f20",
    "tags": [],
    "deepnote_to_be_reexecuted": false,
    "source_hash": "4342fdb",
    "execution_start": 1650763560144,
    "execution_millis": 2,
    "deepnote_cell_type": "code",
    "deepnote_cell_height": 621
   },
   "source": "def collect_test_statistics(dataset_1, dataset_2, alpha=0.05): \n    ttest_df = pd.DataFrame(columns=['variable','t-statistic','p-value','H0','variance'])\n    \n    variables = ['proportion']\n    ttest_df['variable'] = variables\n\n    for variable in variables:\n        ttest_x=dataset_1[variable]\n        ttest_y=dataset_2[variable]\n        \n        if np.var(ttest_x) != np.var(ttest_y):\n            ttest_df.loc[ttest_df['variable']==variable,'variance'] = 'unequal'\n            ttest = ttest_ind(ttest_x, ttest_y, nan_policy='omit', equal_var=False)\n            ttest_df.loc[ttest_df['variable']==variable,'t-statistic'] = ttest[0]\n            ttest_df.loc[ttest_df['variable']==variable,'p-value'] = ttest[1]\n            if ttest[1] > alpha:\n                ttest_df.loc[ttest_df['variable']==variable,'H0'] = 'accept'\n            else:\n                ttest_df.loc[ttest_df['variable']==variable,'H0'] = 'reject'\n        else:\n            ttest_df.loc[ttest_df['variable']==variable,'variance'] = 'equal'\n            ttest = ttest_ind(ttest_x, ttest_y, nan_policy='omit')\n            ttest_df.loc[ttest_df['variable']==variable,'t-statistic'] = ttest[0]\n            ttest_df.loc[ttest_df['variable']==variable,'p-value'] = ttest[1]\n            if ttest[1] > alpha:\n                ttest_df.loc[ttest_df['variable']==variable,'H0'] = 'accept'\n            else:\n                ttest_df.loc[ttest_df['variable']==variable,'H0'] = 'reject'\n    \n    return ttest_df\n",
   "execution_count": null,
   "outputs": []
  },
  {
   "cell_type": "markdown",
   "source": "#### Initiate find_toxic_subreddits_detoxify_gender function\n\nThe purpose of this function is to find the subreddits mentioning gender identifiers with a higher proportion of toxic languge, based on the Detoxify metrics. Because determining what constitutes \"high toxicity\" is relative, the quantile parameter allows the user to set a minimum threshold for the toxicity metrics. Subreddits beginning with \"u_\" are user profiles where only the user can make submissions, and therefore been removed from the analysis.",
   "metadata": {
    "cell_id": "fd660dc042af41bc9d62a4061fcd70d7",
    "tags": [],
    "deepnote_cell_type": "markdown",
    "deepnote_cell_height": 155.60000610351562
   }
  },
  {
   "cell_type": "code",
   "metadata": {
    "cell_id": "90799d85e216487bab3f20ecd3a1cd1f",
    "tags": [],
    "deepnote_to_be_reexecuted": false,
    "source_hash": "c8f971e0",
    "execution_start": 1650763560151,
    "execution_millis": 3,
    "deepnote_cell_type": "code",
    "deepnote_cell_height": 549
   },
   "source": "def find_toxic_subreddits_detoxify_gender(gender='female', quantile=0.0, print_subreddit_count=True):\n    \n    gender_df = c[c.gender == gender]\n    gender_df = gender_df.drop(gender_df[gender_df.subreddit.str.contains('^u_', regex=True)==True].index)\n    gender_df = gender_df[['subreddit', 'toxicity','severe_toxicity','obscene','identity_attack', 'insult', 'threat', 'sexual_explicit']]\n    gender_grouped_on_subreddit = gender_df.groupby('subreddit').mean()\n    \n    most_toxic_df = gender_grouped_on_subreddit[(gender_grouped_on_subreddit.toxicity >= c.toxicity.quantile(q=quantile)) & (\n        gender_grouped_on_subreddit.severe_toxicity >= c.severe_toxicity.quantile(q=quantile)) & (\n        gender_grouped_on_subreddit.obscene >= c.obscene.quantile(q=quantile)) & (\n        gender_grouped_on_subreddit.identity_attack >= c.identity_attack.quantile(q=quantile)) & (\n        gender_grouped_on_subreddit.insult >= c.insult.quantile(q=quantile)) & (\n        gender_grouped_on_subreddit.threat >= c.threat.quantile(q=quantile)) & (\n        gender_grouped_on_subreddit.sexual_explicit >= c.sexual_explicit.quantile(q=quantile))]\n\n    toxic_subreddit_list = list(most_toxic_df.index)\n    if print_subreddit_count == True:\n        print('Toxic '+gender+' subreddit count: '+str(len(toxic_subreddit_list)))\n\n    gen_df = c[c.gender == gender]\n    test_df = pd.DataFrame(columns=['toxic_count'])\n    test_df['toxic_count'] = gen_df[gen_df.subreddit.isin(toxic_subreddit_list)].groupby('subreddit').count().body\n    test_df['total_count'] = c[c.subreddit.isin(toxic_subreddit_list)].groupby('subreddit').count().body\n    test_df['proportion'] = gen_df[gen_df.subreddit.isin(toxic_subreddit_list)].groupby('subreddit').count().body/c[c.subreddit.isin(toxic_subreddit_list)].groupby('subreddit').count().body\n    \n    return test_df\n",
   "execution_count": null,
   "outputs": []
  },
  {
   "cell_type": "code",
   "metadata": {
    "cell_id": "7a5f05ad70834162bec0f63c62b68ded",
    "tags": [],
    "deepnote_to_be_reexecuted": false,
    "source_hash": "86ded022",
    "execution_start": 1650763560155,
    "execution_millis": 737,
    "deepnote_cell_type": "code",
    "deepnote_cell_height": 394.20001220703125
   },
   "source": "find_toxic_subreddits_detoxify_gender(gender='female', quantile=0.5, print_subreddit_count=True).head(3)\n# Uncomment to return the full list of Subreddits\n#list(find_toxic_subreddits_detoxify_gender(gender='female', quantile=0.5, print_subreddit_count=False).index)",
   "execution_count": null,
   "outputs": [
    {
     "name": "stdout",
     "text": "Toxic female subreddit count: 2099\n",
     "output_type": "stream"
    },
    {
     "output_type": "execute_result",
     "execution_count": 5,
     "data": {
      "application/vnd.deepnote.dataframe.v3+json": {
       "column_count": 3,
       "row_count": 3,
       "columns": [
        {
         "name": "toxic_count",
         "dtype": "int64",
         "stats": {
          "unique_count": 3,
          "nan_count": 0,
          "min": "1",
          "max": "12",
          "histogram": [
           {
            "bin_start": 1,
            "bin_end": 2.1,
            "count": 1
           },
           {
            "bin_start": 2.1,
            "bin_end": 3.2,
            "count": 1
           },
           {
            "bin_start": 3.2,
            "bin_end": 4.300000000000001,
            "count": 0
           },
           {
            "bin_start": 4.300000000000001,
            "bin_end": 5.4,
            "count": 0
           },
           {
            "bin_start": 5.4,
            "bin_end": 6.5,
            "count": 0
           },
           {
            "bin_start": 6.5,
            "bin_end": 7.6000000000000005,
            "count": 0
           },
           {
            "bin_start": 7.6000000000000005,
            "bin_end": 8.700000000000001,
            "count": 0
           },
           {
            "bin_start": 8.700000000000001,
            "bin_end": 9.8,
            "count": 0
           },
           {
            "bin_start": 9.8,
            "bin_end": 10.9,
            "count": 0
           },
           {
            "bin_start": 10.9,
            "bin_end": 12,
            "count": 1
           }
          ]
         }
        },
        {
         "name": "total_count",
         "dtype": "int64",
         "stats": {
          "unique_count": 3,
          "nan_count": 0,
          "min": "1",
          "max": "13",
          "histogram": [
           {
            "bin_start": 1,
            "bin_end": 2.2,
            "count": 1
           },
           {
            "bin_start": 2.2,
            "bin_end": 3.4,
            "count": 0
           },
           {
            "bin_start": 3.4,
            "bin_end": 4.6,
            "count": 1
           },
           {
            "bin_start": 4.6,
            "bin_end": 5.8,
            "count": 0
           },
           {
            "bin_start": 5.8,
            "bin_end": 7,
            "count": 0
           },
           {
            "bin_start": 7,
            "bin_end": 8.2,
            "count": 0
           },
           {
            "bin_start": 8.2,
            "bin_end": 9.4,
            "count": 0
           },
           {
            "bin_start": 9.4,
            "bin_end": 10.6,
            "count": 0
           },
           {
            "bin_start": 10.6,
            "bin_end": 11.799999999999999,
            "count": 0
           },
           {
            "bin_start": 11.799999999999999,
            "bin_end": 13,
            "count": 1
           }
          ]
         }
        },
        {
         "name": "proportion",
         "dtype": "float64",
         "stats": {
          "unique_count": 3,
          "nan_count": 0,
          "min": "0.75",
          "max": "1.0",
          "histogram": [
           {
            "bin_start": 0.75,
            "bin_end": 0.775,
            "count": 1
           },
           {
            "bin_start": 0.775,
            "bin_end": 0.8,
            "count": 0
           },
           {
            "bin_start": 0.8,
            "bin_end": 0.825,
            "count": 0
           },
           {
            "bin_start": 0.825,
            "bin_end": 0.85,
            "count": 0
           },
           {
            "bin_start": 0.85,
            "bin_end": 0.875,
            "count": 0
           },
           {
            "bin_start": 0.875,
            "bin_end": 0.9,
            "count": 0
           },
           {
            "bin_start": 0.9,
            "bin_end": 0.925,
            "count": 1
           },
           {
            "bin_start": 0.925,
            "bin_end": 0.95,
            "count": 0
           },
           {
            "bin_start": 0.95,
            "bin_end": 0.975,
            "count": 0
           },
           {
            "bin_start": 0.975,
            "bin_end": 1,
            "count": 1
           }
          ]
         }
        },
        {
         "name": "_deepnote_index_column",
         "dtype": "object"
        }
       ],
       "rows": [
        {
         "toxic_count": 12,
         "total_count": 13,
         "proportion": 0.9230769230769231,
         "_deepnote_index_column": "2000sGirls"
        },
        {
         "toxic_count": 3,
         "total_count": 4,
         "proportion": 0.75,
         "_deepnote_index_column": "420"
        },
        {
         "toxic_count": 1,
         "total_count": 1,
         "proportion": 1,
         "_deepnote_index_column": "502GoneWild"
        }
       ]
      },
      "text/plain": "             toxic_count  total_count  proportion\nsubreddit                                        \n2000sGirls            12           13    0.923077\n420                    3            4    0.750000\n502GoneWild            1            1    1.000000",
      "text/html": "<div>\n<style scoped>\n    .dataframe tbody tr th:only-of-type {\n        vertical-align: middle;\n    }\n\n    .dataframe tbody tr th {\n        vertical-align: top;\n    }\n\n    .dataframe thead th {\n        text-align: right;\n    }\n</style>\n<table border=\"1\" class=\"dataframe\">\n  <thead>\n    <tr style=\"text-align: right;\">\n      <th></th>\n      <th>toxic_count</th>\n      <th>total_count</th>\n      <th>proportion</th>\n    </tr>\n    <tr>\n      <th>subreddit</th>\n      <th></th>\n      <th></th>\n      <th></th>\n    </tr>\n  </thead>\n  <tbody>\n    <tr>\n      <th>2000sGirls</th>\n      <td>12</td>\n      <td>13</td>\n      <td>0.923077</td>\n    </tr>\n    <tr>\n      <th>420</th>\n      <td>3</td>\n      <td>4</td>\n      <td>0.750000</td>\n    </tr>\n    <tr>\n      <th>502GoneWild</th>\n      <td>1</td>\n      <td>1</td>\n      <td>1.000000</td>\n    </tr>\n  </tbody>\n</table>\n</div>"
     },
     "metadata": {}
    }
   ]
  },
  {
   "cell_type": "code",
   "metadata": {
    "cell_id": "02060a37650d49c68007c9bc3c81e35d",
    "tags": [],
    "deepnote_to_be_reexecuted": false,
    "source_hash": "6d04372d",
    "execution_start": 1650765750444,
    "execution_millis": 1858,
    "deepnote_cell_type": "code",
    "deepnote_cell_height": 669,
    "deepnote_output_heights": [
     320
    ]
   },
   "source": "female_toxicity_sorted = find_toxic_subreddits_detoxify_gender(gender='female', quantile=0.0, print_subreddit_count=False).sort_values('total_count', ascending=False)[:10].sort_values('proportion', ascending=False).reset_index()\nalt.Chart(female_toxicity_sorted).mark_bar(color='#bb99e0').encode(\n    x = alt.X('proportion', title='Proportion of Toxic Language',scale = alt.Scale(domain=[0,1])),\n    y=alt.Y('subreddit',sort=['proportion'], title='')\n).properties(\n    title={\n      'text': ['Top Ten Subreddits with a High Frequency of', 'Toxic Speech including Female Identifiers'],\n               \n      'subtitle': ['Sorted by Total Number of Comments and', 'Proportions of Toxic Language' ], \n      'color': 'black',\n      'anchor': 'middle',\n      'fontSize': 15\n    }\n)\n",
   "execution_count": null,
   "outputs": [
    {
     "output_type": "execute_result",
     "execution_count": 104,
     "data": {
      "text/html": "\n<div id=\"altair-viz-1809e9f61c28470bb0cc4c7811a6e8b7\"></div>\n<script type=\"text/javascript\">\n  var VEGA_DEBUG = (typeof VEGA_DEBUG == \"undefined\") ? {} : VEGA_DEBUG;\n  (function(spec, embedOpt){\n    let outputDiv = document.currentScript.previousElementSibling;\n    if (outputDiv.id !== \"altair-viz-1809e9f61c28470bb0cc4c7811a6e8b7\") {\n      outputDiv = document.getElementById(\"altair-viz-1809e9f61c28470bb0cc4c7811a6e8b7\");\n    }\n    const paths = {\n      \"vega\": \"https://cdn.jsdelivr.net/npm//vega@5?noext\",\n      \"vega-lib\": \"https://cdn.jsdelivr.net/npm//vega-lib?noext\",\n      \"vega-lite\": \"https://cdn.jsdelivr.net/npm//vega-lite@4.17.0?noext\",\n      \"vega-embed\": \"https://cdn.jsdelivr.net/npm//vega-embed@6?noext\",\n    };\n\n    function maybeLoadScript(lib, version) {\n      var key = `${lib.replace(\"-\", \"\")}_version`;\n      return (VEGA_DEBUG[key] == version) ?\n        Promise.resolve(paths[lib]) :\n        new Promise(function(resolve, reject) {\n          var s = document.createElement('script');\n          document.getElementsByTagName(\"head\")[0].appendChild(s);\n          s.async = true;\n          s.onload = () => {\n            VEGA_DEBUG[key] = version;\n            return resolve(paths[lib]);\n          };\n          s.onerror = () => reject(`Error loading script: ${paths[lib]}`);\n          s.src = paths[lib];\n        });\n    }\n\n    function showError(err) {\n      outputDiv.innerHTML = `<div class=\"error\" style=\"color:red;\">${err}</div>`;\n      throw err;\n    }\n\n    function displayChart(vegaEmbed) {\n      vegaEmbed(outputDiv, spec, embedOpt)\n        .catch(err => showError(`Javascript Error: ${err.message}<br>This usually means there's a typo in your chart specification. See the javascript console for the full traceback.`));\n    }\n\n    if(typeof define === \"function\" && define.amd) {\n      requirejs.config({paths});\n      require([\"vega-embed\"], displayChart, err => showError(`Error loading script: ${err.message}`));\n    } else {\n      maybeLoadScript(\"vega\", \"5\")\n        .then(() => maybeLoadScript(\"vega-lite\", \"4.17.0\"))\n        .then(() => maybeLoadScript(\"vega-embed\", \"6\"))\n        .catch(showError)\n        .then(() => displayChart(vegaEmbed));\n    }\n  })({\"config\": {\"view\": {\"continuousWidth\": 400, \"continuousHeight\": 300}}, \"data\": {\"name\": \"data-36e567264b8e72d2fa87d5383698c1a8\"}, \"mark\": {\"type\": \"bar\", \"color\": \"#bb99e0\"}, \"encoding\": {\"x\": {\"field\": \"proportion\", \"scale\": {\"domain\": [0, 1]}, \"title\": \"Proportion of Toxic Language\", \"type\": \"quantitative\"}, \"y\": {\"field\": \"subreddit\", \"sort\": [\"proportion\"], \"title\": \"\", \"type\": \"nominal\"}}, \"title\": {\"text\": [\"Top Ten Subreddits with a High Frequency of\", \"Toxic Speech including Female Identifiers\"], \"subtitle\": [\"Sorted by Total Number of Comments and\", \"Proportions of Toxic Language\"], \"color\": \"black\", \"anchor\": \"middle\", \"fontSize\": 15}, \"$schema\": \"https://vega.github.io/schema/vega-lite/v4.17.0.json\", \"datasets\": {\"data-36e567264b8e72d2fa87d5383698c1a8\": [{\"subreddit\": \"DegradingHoles\", \"toxic_count\": 1874, \"total_count\": 2067, \"proportion\": 0.9066279632317368}, {\"subreddit\": \"rapefantasies\", \"toxic_count\": 6055, \"total_count\": 7050, \"proportion\": 0.8588652482269503}, {\"subreddit\": \"MisogynisticLife\", \"toxic_count\": 2432, \"total_count\": 2875, \"proportion\": 0.8459130434782609}, {\"subreddit\": \"IWantToBeHerHentai2\", \"toxic_count\": 2367, \"total_count\": 3145, \"proportion\": 0.7526232114467408}, {\"subreddit\": \"SluttyConfessions\", \"toxic_count\": 1623, \"total_count\": 2216, \"proportion\": 0.7324007220216606}, {\"subreddit\": \"antiwork\", \"toxic_count\": 1426, \"total_count\": 1975, \"proportion\": 0.7220253164556962}, {\"subreddit\": \"PublicFreakout\", \"toxic_count\": 2208, \"total_count\": 3358, \"proportion\": 0.6575342465753424}, {\"subreddit\": \"AskReddit\", \"toxic_count\": 4030, \"total_count\": 6289, \"proportion\": 0.6408013992685642}, {\"subreddit\": \"soccer\", \"toxic_count\": 1182, \"total_count\": 2136, \"proportion\": 0.5533707865168539}, {\"subreddit\": \"Cricket\", \"toxic_count\": 782, \"total_count\": 2015, \"proportion\": 0.3880893300248139}]}}, {\"mode\": \"vega-lite\"});\n</script>",
      "text/plain": "alt.Chart(...)"
     },
     "metadata": {}
    }
   ]
  },
  {
   "cell_type": "code",
   "metadata": {
    "cell_id": "35fb56743ad24224a8e24704c2b5e602",
    "tags": [],
    "deepnote_to_be_reexecuted": false,
    "source_hash": "24d25371",
    "execution_start": 1650763562775,
    "execution_millis": 202,
    "deepnote_cell_type": "code",
    "deepnote_cell_height": 394.20001220703125
   },
   "source": "find_toxic_subreddits_detoxify_gender(gender='male', quantile=0.5, print_subreddit_count=True).head(3)\n# Uncomment to return the full list of Subreddits\n#list(find_toxic_subreddits_detoxify_gender(gender='male', quantile=0.5, print_subreddit_count=False).index)",
   "execution_count": null,
   "outputs": [
    {
     "name": "stdout",
     "text": "Toxic male subreddit count: 31\n",
     "output_type": "stream"
    },
    {
     "output_type": "execute_result",
     "execution_count": 7,
     "data": {
      "application/vnd.deepnote.dataframe.v3+json": {
       "column_count": 3,
       "row_count": 3,
       "columns": [
        {
         "name": "toxic_count",
         "dtype": "int64",
         "stats": {
          "unique_count": 1,
          "nan_count": 0,
          "min": "1",
          "max": "1",
          "histogram": [
           {
            "bin_start": 0.5,
            "bin_end": 0.6,
            "count": 0
           },
           {
            "bin_start": 0.6,
            "bin_end": 0.7,
            "count": 0
           },
           {
            "bin_start": 0.7,
            "bin_end": 0.8,
            "count": 0
           },
           {
            "bin_start": 0.8,
            "bin_end": 0.9,
            "count": 0
           },
           {
            "bin_start": 0.9,
            "bin_end": 1,
            "count": 0
           },
           {
            "bin_start": 1,
            "bin_end": 1.1,
            "count": 3
           },
           {
            "bin_start": 1.1,
            "bin_end": 1.2000000000000002,
            "count": 0
           },
           {
            "bin_start": 1.2000000000000002,
            "bin_end": 1.3,
            "count": 0
           },
           {
            "bin_start": 1.3,
            "bin_end": 1.4,
            "count": 0
           },
           {
            "bin_start": 1.4,
            "bin_end": 1.5,
            "count": 0
           }
          ]
         }
        },
        {
         "name": "total_count",
         "dtype": "int64",
         "stats": {
          "unique_count": 3,
          "nan_count": 0,
          "min": "2",
          "max": "39",
          "histogram": [
           {
            "bin_start": 2,
            "bin_end": 5.7,
            "count": 1
           },
           {
            "bin_start": 5.7,
            "bin_end": 9.4,
            "count": 0
           },
           {
            "bin_start": 9.4,
            "bin_end": 13.100000000000001,
            "count": 0
           },
           {
            "bin_start": 13.100000000000001,
            "bin_end": 16.8,
            "count": 0
           },
           {
            "bin_start": 16.8,
            "bin_end": 20.5,
            "count": 1
           },
           {
            "bin_start": 20.5,
            "bin_end": 24.200000000000003,
            "count": 0
           },
           {
            "bin_start": 24.200000000000003,
            "bin_end": 27.900000000000002,
            "count": 0
           },
           {
            "bin_start": 27.900000000000002,
            "bin_end": 31.6,
            "count": 0
           },
           {
            "bin_start": 31.6,
            "bin_end": 35.300000000000004,
            "count": 0
           },
           {
            "bin_start": 35.300000000000004,
            "bin_end": 39,
            "count": 1
           }
          ]
         }
        },
        {
         "name": "proportion",
         "dtype": "float64",
         "stats": {
          "unique_count": 3,
          "nan_count": 0,
          "min": "0.02564102564102564",
          "max": "0.5",
          "histogram": [
           {
            "bin_start": 0.02564102564102564,
            "bin_end": 0.07307692307692307,
            "count": 2
           },
           {
            "bin_start": 0.07307692307692307,
            "bin_end": 0.1205128205128205,
            "count": 0
           },
           {
            "bin_start": 0.1205128205128205,
            "bin_end": 0.16794871794871793,
            "count": 0
           },
           {
            "bin_start": 0.16794871794871793,
            "bin_end": 0.21538461538461537,
            "count": 0
           },
           {
            "bin_start": 0.21538461538461537,
            "bin_end": 0.26282051282051283,
            "count": 0
           },
           {
            "bin_start": 0.26282051282051283,
            "bin_end": 0.31025641025641026,
            "count": 0
           },
           {
            "bin_start": 0.31025641025641026,
            "bin_end": 0.3576923076923077,
            "count": 0
           },
           {
            "bin_start": 0.3576923076923077,
            "bin_end": 0.40512820512820513,
            "count": 0
           },
           {
            "bin_start": 0.40512820512820513,
            "bin_end": 0.45256410256410257,
            "count": 0
           },
           {
            "bin_start": 0.45256410256410257,
            "bin_end": 0.5,
            "count": 1
           }
          ]
         }
        },
        {
         "name": "_deepnote_index_column",
         "dtype": "object"
        }
       ],
       "rows": [
        {
         "toxic_count": 1,
         "total_count": 2,
         "proportion": 0.5,
         "_deepnote_index_column": "BlackTwinks"
        },
        {
         "toxic_count": 1,
         "total_count": 39,
         "proportion": 0.02564102564102564,
         "_deepnote_index_column": "DadsAndBoys"
        },
        {
         "toxic_count": 1,
         "total_count": 19,
         "proportion": 0.05263157894736842,
         "_deepnote_index_column": "Episode"
        }
       ]
      },
      "text/plain": "             toxic_count  total_count  proportion\nsubreddit                                        \nBlackTwinks            1            2    0.500000\nDadsAndBoys            1           39    0.025641\nEpisode                1           19    0.052632",
      "text/html": "<div>\n<style scoped>\n    .dataframe tbody tr th:only-of-type {\n        vertical-align: middle;\n    }\n\n    .dataframe tbody tr th {\n        vertical-align: top;\n    }\n\n    .dataframe thead th {\n        text-align: right;\n    }\n</style>\n<table border=\"1\" class=\"dataframe\">\n  <thead>\n    <tr style=\"text-align: right;\">\n      <th></th>\n      <th>toxic_count</th>\n      <th>total_count</th>\n      <th>proportion</th>\n    </tr>\n    <tr>\n      <th>subreddit</th>\n      <th></th>\n      <th></th>\n      <th></th>\n    </tr>\n  </thead>\n  <tbody>\n    <tr>\n      <th>BlackTwinks</th>\n      <td>1</td>\n      <td>2</td>\n      <td>0.500000</td>\n    </tr>\n    <tr>\n      <th>DadsAndBoys</th>\n      <td>1</td>\n      <td>39</td>\n      <td>0.025641</td>\n    </tr>\n    <tr>\n      <th>Episode</th>\n      <td>1</td>\n      <td>19</td>\n      <td>0.052632</td>\n    </tr>\n  </tbody>\n</table>\n</div>"
     },
     "metadata": {}
    }
   ]
  },
  {
   "cell_type": "code",
   "metadata": {
    "cell_id": "7c56dfe338c54d34a8117237fe9987c8",
    "tags": [],
    "deepnote_to_be_reexecuted": false,
    "source_hash": "34cebf8c",
    "execution_start": 1650765742392,
    "execution_millis": 634,
    "owner_user_id": "01404595-a74c-436c-80cf-a519a38e575c",
    "deepnote_cell_type": "code",
    "deepnote_cell_height": 651,
    "deepnote_output_heights": [
     320
    ]
   },
   "source": "male_toxicity_sorted = find_toxic_subreddits_detoxify_gender(gender='male', quantile=0.0, print_subreddit_count=False).sort_values('total_count', ascending=False)[:10].sort_values('proportion', ascending=False).reset_index()\nalt.Chart(male_toxicity_sorted).mark_bar(color='#8edc7c').encode(\n    x = alt.X('proportion', title='Proportion of Toxic Language',scale = alt.Scale(domain=[0,1])),\n    y=alt.Y('subreddit',sort=['proportion'], title='')\n).properties(\n    title={\n      'text': ['Top Ten Subreddits with a High Frequency of', 'Toxic Speech including Male Identifiers'],\n               \n      'subtitle': ['Sorted by Total Number of Comments and', 'Proportions of Toxic Language' ], \n      'color': 'black',\n      'anchor': 'middle',\n      'fontSize': 15\n    }\n)",
   "execution_count": null,
   "outputs": [
    {
     "output_type": "execute_result",
     "execution_count": 103,
     "data": {
      "text/html": "\n<div id=\"altair-viz-f507f59243fd4f38b78099fe3e898fb1\"></div>\n<script type=\"text/javascript\">\n  var VEGA_DEBUG = (typeof VEGA_DEBUG == \"undefined\") ? {} : VEGA_DEBUG;\n  (function(spec, embedOpt){\n    let outputDiv = document.currentScript.previousElementSibling;\n    if (outputDiv.id !== \"altair-viz-f507f59243fd4f38b78099fe3e898fb1\") {\n      outputDiv = document.getElementById(\"altair-viz-f507f59243fd4f38b78099fe3e898fb1\");\n    }\n    const paths = {\n      \"vega\": \"https://cdn.jsdelivr.net/npm//vega@5?noext\",\n      \"vega-lib\": \"https://cdn.jsdelivr.net/npm//vega-lib?noext\",\n      \"vega-lite\": \"https://cdn.jsdelivr.net/npm//vega-lite@4.17.0?noext\",\n      \"vega-embed\": \"https://cdn.jsdelivr.net/npm//vega-embed@6?noext\",\n    };\n\n    function maybeLoadScript(lib, version) {\n      var key = `${lib.replace(\"-\", \"\")}_version`;\n      return (VEGA_DEBUG[key] == version) ?\n        Promise.resolve(paths[lib]) :\n        new Promise(function(resolve, reject) {\n          var s = document.createElement('script');\n          document.getElementsByTagName(\"head\")[0].appendChild(s);\n          s.async = true;\n          s.onload = () => {\n            VEGA_DEBUG[key] = version;\n            return resolve(paths[lib]);\n          };\n          s.onerror = () => reject(`Error loading script: ${paths[lib]}`);\n          s.src = paths[lib];\n        });\n    }\n\n    function showError(err) {\n      outputDiv.innerHTML = `<div class=\"error\" style=\"color:red;\">${err}</div>`;\n      throw err;\n    }\n\n    function displayChart(vegaEmbed) {\n      vegaEmbed(outputDiv, spec, embedOpt)\n        .catch(err => showError(`Javascript Error: ${err.message}<br>This usually means there's a typo in your chart specification. See the javascript console for the full traceback.`));\n    }\n\n    if(typeof define === \"function\" && define.amd) {\n      requirejs.config({paths});\n      require([\"vega-embed\"], displayChart, err => showError(`Error loading script: ${err.message}`));\n    } else {\n      maybeLoadScript(\"vega\", \"5\")\n        .then(() => maybeLoadScript(\"vega-lite\", \"4.17.0\"))\n        .then(() => maybeLoadScript(\"vega-embed\", \"6\"))\n        .catch(showError)\n        .then(() => displayChart(vegaEmbed));\n    }\n  })({\"config\": {\"view\": {\"continuousWidth\": 400, \"continuousHeight\": 300}}, \"data\": {\"name\": \"data-326daaf8c696c9be340ad6d0d452afee\"}, \"mark\": {\"type\": \"bar\", \"color\": \"#8edc7c\"}, \"encoding\": {\"x\": {\"field\": \"proportion\", \"scale\": {\"domain\": [0, 1]}, \"title\": \"Proportion of Toxic Language\", \"type\": \"quantitative\"}, \"y\": {\"field\": \"subreddit\", \"sort\": [\"proportion\"], \"title\": \"\", \"type\": \"nominal\"}}, \"title\": {\"text\": [\"Top Ten Subreddits with a High Frequency of\", \"Toxic Speech including Male Identifiers\"], \"subtitle\": [\"Sorted by Total Number of Comments and\", \"Proportions of Toxic Language\"], \"color\": \"black\", \"anchor\": \"middle\", \"fontSize\": 15}, \"$schema\": \"https://vega.github.io/schema/vega-lite/v4.17.0.json\", \"datasets\": {\"data-326daaf8c696c9be340ad6d0d452afee\": [{\"subreddit\": \"Cricket\", \"toxic_count\": 155, \"total_count\": 2015, \"proportion\": 0.07692307692307693}, {\"subreddit\": \"IWantToBeHerHentai2\", \"toxic_count\": 22, \"total_count\": 3145, \"proportion\": 0.0069952305246422895}, {\"subreddit\": \"AskReddit\", \"toxic_count\": 41, \"total_count\": 6289, \"proportion\": 0.006519319446652886}, {\"subreddit\": \"soccer\", \"toxic_count\": 13, \"total_count\": 2136, \"proportion\": 0.006086142322097378}, {\"subreddit\": \"PublicFreakout\", \"toxic_count\": 18, \"total_count\": 3358, \"proportion\": 0.005360333531864205}, {\"subreddit\": \"teenagers\", \"toxic_count\": 9, \"total_count\": 1873, \"proportion\": 0.004805125467164976}, {\"subreddit\": \"antiwork\", \"toxic_count\": 9, \"total_count\": 1975, \"proportion\": 0.004556962025316456}, {\"subreddit\": \"SluttyConfessions\", \"toxic_count\": 4, \"total_count\": 2216, \"proportion\": 0.0018050541516245488}, {\"subreddit\": \"rapefantasies\", \"toxic_count\": 5, \"total_count\": 7050, \"proportion\": 0.0007092198581560284}, {\"subreddit\": \"MisogynisticLife\", \"toxic_count\": 2, \"total_count\": 2875, \"proportion\": 0.0006956521739130435}]}}, {\"mode\": \"vega-lite\"});\n</script>",
      "text/plain": "alt.Chart(...)"
     },
     "metadata": {}
    }
   ]
  },
  {
   "cell_type": "code",
   "metadata": {
    "cell_id": "49e5e49fc3a94ad3996189a06ef87f14",
    "tags": [],
    "deepnote_to_be_reexecuted": false,
    "source_hash": "df729947",
    "execution_start": 1650763563550,
    "execution_millis": 818,
    "deepnote_cell_type": "code",
    "deepnote_cell_height": 331.3999938964844
   },
   "source": "collect_test_statistics(\n    find_toxic_subreddits_detoxify_gender(gender='female', quantile=0.5, print_subreddit_count=True),\n    find_toxic_subreddits_detoxify_gender(gender='male', quantile=0.5, print_subreddit_count=True))",
   "execution_count": null,
   "outputs": [
    {
     "name": "stdout",
     "text": "Toxic female subreddit count: 2099\nToxic male subreddit count: 31\n",
     "output_type": "stream"
    },
    {
     "output_type": "execute_result",
     "execution_count": 9,
     "data": {
      "application/vnd.deepnote.dataframe.v3+json": {
       "column_count": 5,
       "row_count": 1,
       "columns": [
        {
         "name": "variable",
         "dtype": "object",
         "stats": {
          "unique_count": 1,
          "nan_count": 0,
          "categories": [
           {
            "name": "proportion",
            "count": 1
           }
          ]
         }
        },
        {
         "name": "t-statistic",
         "dtype": "object",
         "stats": {
          "unique_count": 1,
          "nan_count": 0,
          "categories": [
           {
            "name": "20.266096085697782",
            "count": 1
           }
          ]
         }
        },
        {
         "name": "p-value",
         "dtype": "object",
         "stats": {
          "unique_count": 1,
          "nan_count": 0,
          "categories": [
           {
            "name": "2.591144384018396e-19",
            "count": 1
           }
          ]
         }
        },
        {
         "name": "H0",
         "dtype": "object",
         "stats": {
          "unique_count": 1,
          "nan_count": 0,
          "categories": [
           {
            "name": "reject",
            "count": 1
           }
          ]
         }
        },
        {
         "name": "variance",
         "dtype": "object",
         "stats": {
          "unique_count": 1,
          "nan_count": 0,
          "categories": [
           {
            "name": "unequal",
            "count": 1
           }
          ]
         }
        },
        {
         "name": "_deepnote_index_column",
         "dtype": "int64"
        }
       ],
       "rows": [
        {
         "variable": "proportion",
         "t-statistic": "20.266096085697782",
         "p-value": "2.591144384018396e-19",
         "H0": "reject",
         "variance": "unequal",
         "_deepnote_index_column": 0
        }
       ]
      },
      "text/plain": "     variable t-statistic p-value      H0 variance\n0  proportion   20.266096     0.0  reject  unequal",
      "text/html": "<div>\n<style scoped>\n    .dataframe tbody tr th:only-of-type {\n        vertical-align: middle;\n    }\n\n    .dataframe tbody tr th {\n        vertical-align: top;\n    }\n\n    .dataframe thead th {\n        text-align: right;\n    }\n</style>\n<table border=\"1\" class=\"dataframe\">\n  <thead>\n    <tr style=\"text-align: right;\">\n      <th></th>\n      <th>variable</th>\n      <th>t-statistic</th>\n      <th>p-value</th>\n      <th>H0</th>\n      <th>variance</th>\n    </tr>\n  </thead>\n  <tbody>\n    <tr>\n      <th>0</th>\n      <td>proportion</td>\n      <td>20.266096</td>\n      <td>0.0</td>\n      <td>reject</td>\n      <td>unequal</td>\n    </tr>\n  </tbody>\n</table>\n</div>"
     },
     "metadata": {}
    }
   ]
  },
  {
   "cell_type": "markdown",
   "source": "#### Initiate find_toxic_subreddits_class_label_gender function\n\nSimilar to the above function, this function extracts those subreddits mentioning gender identifiers based on their classification label as 'hate' or 'offensive' instead of toxicity scores. The quantile parameter again allows the user to set a minimum threshold, in this case the proportion of hate or offensive comments in each subreddit. Subreddits beginning with \"u_\" are user profiles where only the user can make submissions, and therefore been removed from the analysis.",
   "metadata": {
    "cell_id": "f003c88f2fb44404a25b94497b622d02",
    "tags": [],
    "deepnote_cell_type": "markdown",
    "deepnote_cell_height": 155.60000610351562
   }
  },
  {
   "cell_type": "code",
   "metadata": {
    "cell_id": "83df833f941349e7b54cb16eddb3f13f",
    "tags": [],
    "deepnote_to_be_reexecuted": false,
    "source_hash": "4ab3e1f3",
    "execution_start": 1650763564371,
    "execution_millis": 1,
    "deepnote_cell_type": "code",
    "deepnote_cell_height": 495
   },
   "source": "def find_toxic_subreddits_class_label_gender(class_label=0, gender='female', print_subreddit_count=True):\n    \n    filtered_c = c.drop(c[c.subreddit.str.contains('^u_', regex=True)==True].index)\n    toxic_subreddit_count = filtered_c[(filtered_c.davidson_label == class_label) & (filtered_c.gender == gender)]\n    toxic_subreddit_count = toxic_subreddit_count.groupby('subreddit').count().body\n    subreddits_count = filtered_c[filtered_c.gender == gender].groupby('subreddit').count().body\n    \n    if class_label==0:\n        label='hate'\n    elif class_label==1:\n        label='offensive'\n    else:\n        label='neither_hate_nor_offensive'\n        \n    df = pd.DataFrame(columns=[label+'_comment_count'])\n    df[label+'_comment_count']=toxic_subreddit_count\n    df['total_sampled_comments']=subreddits_count\n    df['proportion']=toxic_subreddit_count/subreddits_count\n    \n    if print_subreddit_count == True:\n        print(label.capitalize()+' subreddit count with '+ gender+' identifiers: '+str(len(df)))\n\n    return df\n",
   "execution_count": null,
   "outputs": []
  },
  {
   "cell_type": "code",
   "metadata": {
    "cell_id": "5ba605172e05497f8344dcf2d0b04a8e",
    "tags": [],
    "deepnote_to_be_reexecuted": false,
    "source_hash": "ecc5b176",
    "execution_start": 1650763564381,
    "execution_millis": 688,
    "deepnote_cell_type": "code",
    "deepnote_cell_height": 394.20001220703125
   },
   "source": "find_toxic_subreddits_class_label_gender(class_label=0, gender='female', print_subreddit_count=True).head(3)\n# Uncomment to return the full list of Subreddits\n#list(find_toxic_subreddits_class_label_gender(class_label=0, gender='female', print_subreddit_count=False).index)",
   "execution_count": null,
   "outputs": [
    {
     "name": "stdout",
     "text": "Hate subreddit count with female identifiers: 5016\n",
     "output_type": "stream"
    },
    {
     "output_type": "execute_result",
     "execution_count": 11,
     "data": {
      "application/vnd.deepnote.dataframe.v3+json": {
       "column_count": 3,
       "row_count": 3,
       "columns": [
        {
         "name": "hate_comment_count",
         "dtype": "int64",
         "stats": {
          "unique_count": 3,
          "nan_count": 0,
          "min": "2",
          "max": "51",
          "histogram": [
           {
            "bin_start": 2,
            "bin_end": 6.9,
            "count": 2
           },
           {
            "bin_start": 6.9,
            "bin_end": 11.8,
            "count": 0
           },
           {
            "bin_start": 11.8,
            "bin_end": 16.700000000000003,
            "count": 0
           },
           {
            "bin_start": 16.700000000000003,
            "bin_end": 21.6,
            "count": 0
           },
           {
            "bin_start": 21.6,
            "bin_end": 26.5,
            "count": 0
           },
           {
            "bin_start": 26.5,
            "bin_end": 31.400000000000002,
            "count": 0
           },
           {
            "bin_start": 31.400000000000002,
            "bin_end": 36.300000000000004,
            "count": 0
           },
           {
            "bin_start": 36.300000000000004,
            "bin_end": 41.2,
            "count": 0
           },
           {
            "bin_start": 41.2,
            "bin_end": 46.1,
            "count": 0
           },
           {
            "bin_start": 46.1,
            "bin_end": 51,
            "count": 1
           }
          ]
         }
        },
        {
         "name": "total_sampled_comments",
         "dtype": "int64",
         "stats": {
          "unique_count": 3,
          "nan_count": 0,
          "min": "16",
          "max": "244",
          "histogram": [
           {
            "bin_start": 16,
            "bin_end": 38.8,
            "count": 2
           },
           {
            "bin_start": 38.8,
            "bin_end": 61.6,
            "count": 0
           },
           {
            "bin_start": 61.6,
            "bin_end": 84.4,
            "count": 0
           },
           {
            "bin_start": 84.4,
            "bin_end": 107.2,
            "count": 0
           },
           {
            "bin_start": 107.2,
            "bin_end": 130,
            "count": 0
           },
           {
            "bin_start": 130,
            "bin_end": 152.8,
            "count": 0
           },
           {
            "bin_start": 152.8,
            "bin_end": 175.6,
            "count": 0
           },
           {
            "bin_start": 175.6,
            "bin_end": 198.4,
            "count": 0
           },
           {
            "bin_start": 198.4,
            "bin_end": 221.20000000000002,
            "count": 0
           },
           {
            "bin_start": 221.20000000000002,
            "bin_end": 244,
            "count": 1
           }
          ]
         }
        },
        {
         "name": "proportion",
         "dtype": "float64",
         "stats": {
          "unique_count": 3,
          "nan_count": 0,
          "min": "0.125",
          "max": "0.20901639344262296",
          "histogram": [
           {
            "bin_start": 0.125,
            "bin_end": 0.1334016393442623,
            "count": 1
           },
           {
            "bin_start": 0.1334016393442623,
            "bin_end": 0.1418032786885246,
            "count": 0
           },
           {
            "bin_start": 0.1418032786885246,
            "bin_end": 0.1502049180327869,
            "count": 0
           },
           {
            "bin_start": 0.1502049180327869,
            "bin_end": 0.15860655737704918,
            "count": 0
           },
           {
            "bin_start": 0.15860655737704918,
            "bin_end": 0.16700819672131148,
            "count": 0
           },
           {
            "bin_start": 0.16700819672131148,
            "bin_end": 0.17540983606557378,
            "count": 0
           },
           {
            "bin_start": 0.17540983606557378,
            "bin_end": 0.18381147540983608,
            "count": 0
           },
           {
            "bin_start": 0.18381147540983608,
            "bin_end": 0.19221311475409836,
            "count": 1
           },
           {
            "bin_start": 0.19221311475409836,
            "bin_end": 0.20061475409836066,
            "count": 0
           },
           {
            "bin_start": 0.20061475409836066,
            "bin_end": 0.20901639344262296,
            "count": 1
           }
          ]
         }
        },
        {
         "name": "_deepnote_index_column",
         "dtype": "object"
        }
       ],
       "rows": [
        {
         "hate_comment_count": 5,
         "total_sampled_comments": 27,
         "proportion": 0.18518518518518517,
         "_deepnote_index_column": "1000lbsisters"
        },
        {
         "hate_comment_count": 2,
         "total_sampled_comments": 16,
         "proportion": 0.125,
         "_deepnote_index_column": "18nsfw"
        },
        {
         "hate_comment_count": 51,
         "total_sampled_comments": 244,
         "proportion": 0.20901639344262296,
         "_deepnote_index_column": "196"
        }
       ]
      },
      "text/plain": "               hate_comment_count  total_sampled_comments  proportion\nsubreddit                                                            \n1000lbsisters                   5                      27    0.185185\n18nsfw                          2                      16    0.125000\n196                            51                     244    0.209016",
      "text/html": "<div>\n<style scoped>\n    .dataframe tbody tr th:only-of-type {\n        vertical-align: middle;\n    }\n\n    .dataframe tbody tr th {\n        vertical-align: top;\n    }\n\n    .dataframe thead th {\n        text-align: right;\n    }\n</style>\n<table border=\"1\" class=\"dataframe\">\n  <thead>\n    <tr style=\"text-align: right;\">\n      <th></th>\n      <th>hate_comment_count</th>\n      <th>total_sampled_comments</th>\n      <th>proportion</th>\n    </tr>\n    <tr>\n      <th>subreddit</th>\n      <th></th>\n      <th></th>\n      <th></th>\n    </tr>\n  </thead>\n  <tbody>\n    <tr>\n      <th>1000lbsisters</th>\n      <td>5</td>\n      <td>27</td>\n      <td>0.185185</td>\n    </tr>\n    <tr>\n      <th>18nsfw</th>\n      <td>2</td>\n      <td>16</td>\n      <td>0.125000</td>\n    </tr>\n    <tr>\n      <th>196</th>\n      <td>51</td>\n      <td>244</td>\n      <td>0.209016</td>\n    </tr>\n  </tbody>\n</table>\n</div>"
     },
     "metadata": {}
    }
   ]
  },
  {
   "cell_type": "code",
   "metadata": {
    "cell_id": "498c4c7cf50f42c28ff830f369829d89",
    "tags": [],
    "deepnote_to_be_reexecuted": false,
    "source_hash": "f9cf8a6a",
    "execution_start": 1650765706895,
    "execution_millis": 1156,
    "deepnote_cell_type": "code",
    "deepnote_cell_height": 633,
    "deepnote_output_heights": [
     320
    ]
   },
   "source": "female_hate_sorted = find_toxic_subreddits_class_label_gender(class_label=0, gender='female', print_subreddit_count=False).sort_values('total_sampled_comments', ascending=False)[:10].sort_values('proportion', ascending=False).reset_index()\nalt.Chart(female_hate_sorted).mark_bar(color='#bb99e0').encode(\n    x = alt.X('proportion', title='Proportion of Toxic Language',scale = alt.Scale(domain=[0,1])),\n    y=alt.Y('subreddit',sort=['proportion'], title='')\n).properties(\n    title={\n      'text': ['Top Ten Subreddits with a High Frequency of', 'Hate Speech including Female Identifiers'],\n      'subtitle': ['Sorted by Highest Total Number of Sampled ', 'Comments and Proportions of Toxic Language' ],\n      'color': 'black',\n      'anchor': 'middle',\n      'fontSize': 15\n    }\n)",
   "execution_count": null,
   "outputs": [
    {
     "output_type": "execute_result",
     "execution_count": 102,
     "data": {
      "text/html": "\n<div id=\"altair-viz-d81294f5d35e40a2a80e10589e497acc\"></div>\n<script type=\"text/javascript\">\n  var VEGA_DEBUG = (typeof VEGA_DEBUG == \"undefined\") ? {} : VEGA_DEBUG;\n  (function(spec, embedOpt){\n    let outputDiv = document.currentScript.previousElementSibling;\n    if (outputDiv.id !== \"altair-viz-d81294f5d35e40a2a80e10589e497acc\") {\n      outputDiv = document.getElementById(\"altair-viz-d81294f5d35e40a2a80e10589e497acc\");\n    }\n    const paths = {\n      \"vega\": \"https://cdn.jsdelivr.net/npm//vega@5?noext\",\n      \"vega-lib\": \"https://cdn.jsdelivr.net/npm//vega-lib?noext\",\n      \"vega-lite\": \"https://cdn.jsdelivr.net/npm//vega-lite@4.17.0?noext\",\n      \"vega-embed\": \"https://cdn.jsdelivr.net/npm//vega-embed@6?noext\",\n    };\n\n    function maybeLoadScript(lib, version) {\n      var key = `${lib.replace(\"-\", \"\")}_version`;\n      return (VEGA_DEBUG[key] == version) ?\n        Promise.resolve(paths[lib]) :\n        new Promise(function(resolve, reject) {\n          var s = document.createElement('script');\n          document.getElementsByTagName(\"head\")[0].appendChild(s);\n          s.async = true;\n          s.onload = () => {\n            VEGA_DEBUG[key] = version;\n            return resolve(paths[lib]);\n          };\n          s.onerror = () => reject(`Error loading script: ${paths[lib]}`);\n          s.src = paths[lib];\n        });\n    }\n\n    function showError(err) {\n      outputDiv.innerHTML = `<div class=\"error\" style=\"color:red;\">${err}</div>`;\n      throw err;\n    }\n\n    function displayChart(vegaEmbed) {\n      vegaEmbed(outputDiv, spec, embedOpt)\n        .catch(err => showError(`Javascript Error: ${err.message}<br>This usually means there's a typo in your chart specification. See the javascript console for the full traceback.`));\n    }\n\n    if(typeof define === \"function\" && define.amd) {\n      requirejs.config({paths});\n      require([\"vega-embed\"], displayChart, err => showError(`Error loading script: ${err.message}`));\n    } else {\n      maybeLoadScript(\"vega\", \"5\")\n        .then(() => maybeLoadScript(\"vega-lite\", \"4.17.0\"))\n        .then(() => maybeLoadScript(\"vega-embed\", \"6\"))\n        .catch(showError)\n        .then(() => displayChart(vegaEmbed));\n    }\n  })({\"config\": {\"view\": {\"continuousWidth\": 400, \"continuousHeight\": 300}}, \"data\": {\"name\": \"data-7aa61b8de32f68d7dd092e1ef3cc41c5\"}, \"mark\": {\"type\": \"bar\", \"color\": \"#bb99e0\"}, \"encoding\": {\"x\": {\"field\": \"proportion\", \"scale\": {\"domain\": [0, 1]}, \"title\": \"Proportion of Toxic Language\", \"type\": \"quantitative\"}, \"y\": {\"field\": \"subreddit\", \"sort\": [\"proportion\"], \"title\": \"\", \"type\": \"nominal\"}}, \"title\": {\"text\": [\"Top Ten Subreddits with a High Frequency of\", \"Hate Speech including Female Identifiers\"], \"subtitle\": [\"Sorted by Highest Total Number of Sampled \", \"Comments and Proportions of Toxic Language\"], \"color\": \"black\", \"anchor\": \"middle\", \"fontSize\": 15}, \"$schema\": \"https://vega.github.io/schema/vega-lite/v4.17.0.json\", \"datasets\": {\"data-7aa61b8de32f68d7dd092e1ef3cc41c5\": [{\"subreddit\": \"PublicFreakout\", \"hate_comment_count\": 908, \"total_sampled_comments\": 2208, \"proportion\": 0.411231884057971}, {\"subreddit\": \"antiwork\", \"hate_comment_count\": 490, \"total_sampled_comments\": 1426, \"proportion\": 0.3436185133239832}, {\"subreddit\": \"teenagers\", \"hate_comment_count\": 393, \"total_sampled_comments\": 1407, \"proportion\": 0.279317697228145}, {\"subreddit\": \"MisogynisticLife\", \"hate_comment_count\": 543, \"total_sampled_comments\": 2432, \"proportion\": 0.22327302631578946}, {\"subreddit\": \"DegradingHoles\", \"hate_comment_count\": 417, \"total_sampled_comments\": 1874, \"proportion\": 0.2225186766275347}, {\"subreddit\": \"rapefantasies\", \"hate_comment_count\": 1196, \"total_sampled_comments\": 6055, \"proportion\": 0.19752270850536746}, {\"subreddit\": \"AskReddit\", \"hate_comment_count\": 741, \"total_sampled_comments\": 4030, \"proportion\": 0.18387096774193548}, {\"subreddit\": \"IWantToBeHerHentai2\", \"hate_comment_count\": 238, \"total_sampled_comments\": 2367, \"proportion\": 0.10054921841994086}, {\"subreddit\": \"SluttyConfessions\", \"hate_comment_count\": 133, \"total_sampled_comments\": 1623, \"proportion\": 0.08194701170671596}, {\"subreddit\": \"needysluts\", \"hate_comment_count\": 119, \"total_sampled_comments\": 1610, \"proportion\": 0.07391304347826087}]}}, {\"mode\": \"vega-lite\"});\n</script>",
      "text/plain": "alt.Chart(...)"
     },
     "metadata": {}
    }
   ]
  },
  {
   "cell_type": "code",
   "metadata": {
    "cell_id": "ffbd52a4e3434c3cbeabf9614d1d902f",
    "tags": [],
    "deepnote_to_be_reexecuted": false,
    "source_hash": "d4b90eb7",
    "execution_start": 1650763651972,
    "execution_millis": 716,
    "deepnote_cell_type": "code",
    "deepnote_cell_height": 394.20001220703125
   },
   "source": "find_toxic_subreddits_class_label_gender(class_label=1, gender='female', print_subreddit_count=True).head(3)\n# Uncomment to return the full list of Subreddits\n#list(find_toxic_subreddits_class_label_gender(class_label=1, gender='female', print_subreddit_count=False).index)",
   "execution_count": null,
   "outputs": [
    {
     "name": "stdout",
     "text": "Offensive subreddit count with female identifiers: 6381\n",
     "output_type": "stream"
    },
    {
     "output_type": "execute_result",
     "execution_count": 15,
     "data": {
      "application/vnd.deepnote.dataframe.v3+json": {
       "column_count": 3,
       "row_count": 3,
       "columns": [
        {
         "name": "offensive_comment_count",
         "dtype": "int64",
         "stats": {
          "unique_count": 3,
          "nan_count": 0,
          "min": "1",
          "max": "9",
          "histogram": [
           {
            "bin_start": 1,
            "bin_end": 1.8,
            "count": 1
           },
           {
            "bin_start": 1.8,
            "bin_end": 2.6,
            "count": 0
           },
           {
            "bin_start": 2.6,
            "bin_end": 3.4000000000000004,
            "count": 1
           },
           {
            "bin_start": 3.4000000000000004,
            "bin_end": 4.2,
            "count": 0
           },
           {
            "bin_start": 4.2,
            "bin_end": 5,
            "count": 0
           },
           {
            "bin_start": 5,
            "bin_end": 5.800000000000001,
            "count": 0
           },
           {
            "bin_start": 5.800000000000001,
            "bin_end": 6.6000000000000005,
            "count": 0
           },
           {
            "bin_start": 6.6000000000000005,
            "bin_end": 7.4,
            "count": 0
           },
           {
            "bin_start": 7.4,
            "bin_end": 8.2,
            "count": 0
           },
           {
            "bin_start": 8.2,
            "bin_end": 9,
            "count": 1
           }
          ]
         }
        },
        {
         "name": "total_sampled_comments",
         "dtype": "int64",
         "stats": {
          "unique_count": 3,
          "nan_count": 0,
          "min": "1",
          "max": "27",
          "histogram": [
           {
            "bin_start": 1,
            "bin_end": 3.6,
            "count": 1
           },
           {
            "bin_start": 3.6,
            "bin_end": 6.2,
            "count": 1
           },
           {
            "bin_start": 6.2,
            "bin_end": 8.8,
            "count": 0
           },
           {
            "bin_start": 8.8,
            "bin_end": 11.4,
            "count": 0
           },
           {
            "bin_start": 11.4,
            "bin_end": 14,
            "count": 0
           },
           {
            "bin_start": 14,
            "bin_end": 16.6,
            "count": 0
           },
           {
            "bin_start": 16.6,
            "bin_end": 19.2,
            "count": 0
           },
           {
            "bin_start": 19.2,
            "bin_end": 21.8,
            "count": 0
           },
           {
            "bin_start": 21.8,
            "bin_end": 24.400000000000002,
            "count": 0
           },
           {
            "bin_start": 24.400000000000002,
            "bin_end": 27,
            "count": 1
           }
          ]
         }
        },
        {
         "name": "proportion",
         "dtype": "float64",
         "stats": {
          "unique_count": 3,
          "nan_count": 0,
          "min": "0.3333333333333333",
          "max": "1.0",
          "histogram": [
           {
            "bin_start": 0.3333333333333333,
            "bin_end": 0.4,
            "count": 1
           },
           {
            "bin_start": 0.4,
            "bin_end": 0.4666666666666667,
            "count": 0
           },
           {
            "bin_start": 0.4666666666666667,
            "bin_end": 0.5333333333333333,
            "count": 0
           },
           {
            "bin_start": 0.5333333333333333,
            "bin_end": 0.6000000000000001,
            "count": 1
           },
           {
            "bin_start": 0.6000000000000001,
            "bin_end": 0.6666666666666667,
            "count": 0
           },
           {
            "bin_start": 0.6666666666666667,
            "bin_end": 0.7333333333333334,
            "count": 0
           },
           {
            "bin_start": 0.7333333333333334,
            "bin_end": 0.8,
            "count": 0
           },
           {
            "bin_start": 0.8,
            "bin_end": 0.8666666666666667,
            "count": 0
           },
           {
            "bin_start": 0.8666666666666667,
            "bin_end": 0.9333333333333333,
            "count": 0
           },
           {
            "bin_start": 0.9333333333333333,
            "bin_end": 1,
            "count": 1
           }
          ]
         }
        },
        {
         "name": "_deepnote_index_column",
         "dtype": "object"
        }
       ],
       "rows": [
        {
         "offensive_comment_count": 9,
         "total_sampled_comments": 27,
         "proportion": 0.3333333333333333,
         "_deepnote_index_column": "1000lbsisters"
        },
        {
         "offensive_comment_count": 1,
         "total_sampled_comments": 1,
         "proportion": 1,
         "_deepnote_index_column": "13ReasonsWhy"
        },
        {
         "offensive_comment_count": 3,
         "total_sampled_comments": 5,
         "proportion": 0.6,
         "_deepnote_index_column": "1819club"
        }
       ]
      },
      "text/plain": "               offensive_comment_count  total_sampled_comments  proportion\nsubreddit                                                                 \n1000lbsisters                        9                      27    0.333333\n13ReasonsWhy                         1                       1    1.000000\n1819club                             3                       5    0.600000",
      "text/html": "<div>\n<style scoped>\n    .dataframe tbody tr th:only-of-type {\n        vertical-align: middle;\n    }\n\n    .dataframe tbody tr th {\n        vertical-align: top;\n    }\n\n    .dataframe thead th {\n        text-align: right;\n    }\n</style>\n<table border=\"1\" class=\"dataframe\">\n  <thead>\n    <tr style=\"text-align: right;\">\n      <th></th>\n      <th>offensive_comment_count</th>\n      <th>total_sampled_comments</th>\n      <th>proportion</th>\n    </tr>\n    <tr>\n      <th>subreddit</th>\n      <th></th>\n      <th></th>\n      <th></th>\n    </tr>\n  </thead>\n  <tbody>\n    <tr>\n      <th>1000lbsisters</th>\n      <td>9</td>\n      <td>27</td>\n      <td>0.333333</td>\n    </tr>\n    <tr>\n      <th>13ReasonsWhy</th>\n      <td>1</td>\n      <td>1</td>\n      <td>1.000000</td>\n    </tr>\n    <tr>\n      <th>1819club</th>\n      <td>3</td>\n      <td>5</td>\n      <td>0.600000</td>\n    </tr>\n  </tbody>\n</table>\n</div>"
     },
     "metadata": {}
    }
   ]
  },
  {
   "cell_type": "code",
   "metadata": {
    "cell_id": "c2b29e695a8e411e8f94e35a140b04e5",
    "tags": [],
    "deepnote_to_be_reexecuted": false,
    "source_hash": "fcafae7",
    "execution_start": 1650765684674,
    "execution_millis": 775,
    "deepnote_cell_type": "code",
    "deepnote_cell_height": 633,
    "deepnote_output_heights": [
     320
    ]
   },
   "source": "female_offensive_sorted = find_toxic_subreddits_class_label_gender(class_label=1, gender='female', print_subreddit_count=False).sort_values('total_sampled_comments', ascending=False)[:10].sort_values('proportion', ascending=False).reset_index()\nalt.Chart(female_offensive_sorted).mark_bar(color='#bb99e0').encode(\n    x = alt.X('proportion', title='Proportion of Toxic Language',scale = alt.Scale(domain=[0,1])),\n    y=alt.Y('subreddit',sort=['proportion'], title='')\n).properties(\n    title={\n      'text': ['Top Ten Subreddits with a High Frequency of', 'Offensive Speech including Female Identifiers'],\n      'subtitle': ['Sorted by Highest Total Number of Sampled ', 'Comments and Proportions of Toxic Language' ],\n      'color': 'black',\n      'anchor': 'middle',\n      'fontSize': 15\n    }\n)",
   "execution_count": null,
   "outputs": [
    {
     "output_type": "execute_result",
     "execution_count": 101,
     "data": {
      "text/html": "\n<div id=\"altair-viz-2557e6a047e04319a302d0c186f80e22\"></div>\n<script type=\"text/javascript\">\n  var VEGA_DEBUG = (typeof VEGA_DEBUG == \"undefined\") ? {} : VEGA_DEBUG;\n  (function(spec, embedOpt){\n    let outputDiv = document.currentScript.previousElementSibling;\n    if (outputDiv.id !== \"altair-viz-2557e6a047e04319a302d0c186f80e22\") {\n      outputDiv = document.getElementById(\"altair-viz-2557e6a047e04319a302d0c186f80e22\");\n    }\n    const paths = {\n      \"vega\": \"https://cdn.jsdelivr.net/npm//vega@5?noext\",\n      \"vega-lib\": \"https://cdn.jsdelivr.net/npm//vega-lib?noext\",\n      \"vega-lite\": \"https://cdn.jsdelivr.net/npm//vega-lite@4.17.0?noext\",\n      \"vega-embed\": \"https://cdn.jsdelivr.net/npm//vega-embed@6?noext\",\n    };\n\n    function maybeLoadScript(lib, version) {\n      var key = `${lib.replace(\"-\", \"\")}_version`;\n      return (VEGA_DEBUG[key] == version) ?\n        Promise.resolve(paths[lib]) :\n        new Promise(function(resolve, reject) {\n          var s = document.createElement('script');\n          document.getElementsByTagName(\"head\")[0].appendChild(s);\n          s.async = true;\n          s.onload = () => {\n            VEGA_DEBUG[key] = version;\n            return resolve(paths[lib]);\n          };\n          s.onerror = () => reject(`Error loading script: ${paths[lib]}`);\n          s.src = paths[lib];\n        });\n    }\n\n    function showError(err) {\n      outputDiv.innerHTML = `<div class=\"error\" style=\"color:red;\">${err}</div>`;\n      throw err;\n    }\n\n    function displayChart(vegaEmbed) {\n      vegaEmbed(outputDiv, spec, embedOpt)\n        .catch(err => showError(`Javascript Error: ${err.message}<br>This usually means there's a typo in your chart specification. See the javascript console for the full traceback.`));\n    }\n\n    if(typeof define === \"function\" && define.amd) {\n      requirejs.config({paths});\n      require([\"vega-embed\"], displayChart, err => showError(`Error loading script: ${err.message}`));\n    } else {\n      maybeLoadScript(\"vega\", \"5\")\n        .then(() => maybeLoadScript(\"vega-lite\", \"4.17.0\"))\n        .then(() => maybeLoadScript(\"vega-embed\", \"6\"))\n        .catch(showError)\n        .then(() => displayChart(vegaEmbed));\n    }\n  })({\"config\": {\"view\": {\"continuousWidth\": 400, \"continuousHeight\": 300}}, \"data\": {\"name\": \"data-32615dceaeb5534b2ec5c84788f4ebb3\"}, \"mark\": {\"type\": \"bar\", \"color\": \"#bb99e0\"}, \"encoding\": {\"x\": {\"field\": \"proportion\", \"scale\": {\"domain\": [0, 1]}, \"title\": \"Proportion of Toxic Language\", \"type\": \"quantitative\"}, \"y\": {\"field\": \"subreddit\", \"sort\": [\"proportion\"], \"title\": \"\", \"type\": \"nominal\"}}, \"title\": {\"text\": [\"Top Ten Subreddits with a High Frequency of\", \"Offensive Speech including Female Identifiers\"], \"subtitle\": [\"Sorted by Highest Total Number of Sampled \", \"Comments and Proportions of Toxic Language\"], \"color\": \"black\", \"anchor\": \"middle\", \"fontSize\": 15}, \"$schema\": \"https://vega.github.io/schema/vega-lite/v4.17.0.json\", \"datasets\": {\"data-32615dceaeb5534b2ec5c84788f4ebb3\": [{\"subreddit\": \"PublicFreakout\", \"offensive_comment_count\": 1144, \"total_sampled_comments\": 2208, \"proportion\": 0.5181159420289855}, {\"subreddit\": \"antiwork\", \"offensive_comment_count\": 733, \"total_sampled_comments\": 1426, \"proportion\": 0.5140252454417953}, {\"subreddit\": \"AskReddit\", \"offensive_comment_count\": 1565, \"total_sampled_comments\": 4030, \"proportion\": 0.3883374689826303}, {\"subreddit\": \"teenagers\", \"offensive_comment_count\": 506, \"total_sampled_comments\": 1407, \"proportion\": 0.35963041933191187}, {\"subreddit\": \"DegradingHoles\", \"offensive_comment_count\": 641, \"total_sampled_comments\": 1874, \"proportion\": 0.34204909284951973}, {\"subreddit\": \"MisogynisticLife\", \"offensive_comment_count\": 787, \"total_sampled_comments\": 2432, \"proportion\": 0.3236019736842105}, {\"subreddit\": \"rapefantasies\", \"offensive_comment_count\": 1867, \"total_sampled_comments\": 6055, \"proportion\": 0.3083402146985962}, {\"subreddit\": \"IWantToBeHerHentai2\", \"offensive_comment_count\": 622, \"total_sampled_comments\": 2367, \"proportion\": 0.26277989015631603}, {\"subreddit\": \"needysluts\", \"offensive_comment_count\": 349, \"total_sampled_comments\": 1610, \"proportion\": 0.21677018633540374}, {\"subreddit\": \"SluttyConfessions\", \"offensive_comment_count\": 270, \"total_sampled_comments\": 1623, \"proportion\": 0.16635859519408502}]}}, {\"mode\": \"vega-lite\"});\n</script>",
      "text/plain": "alt.Chart(...)"
     },
     "metadata": {}
    }
   ]
  },
  {
   "cell_type": "code",
   "metadata": {
    "cell_id": "9f921b144136431d962103bb797f45b6",
    "tags": [],
    "deepnote_to_be_reexecuted": false,
    "source_hash": "83d6a3e5",
    "execution_start": 1650763960114,
    "execution_millis": 342,
    "deepnote_cell_type": "code",
    "deepnote_cell_height": 394.20001220703125
   },
   "source": "find_toxic_subreddits_class_label_gender(class_label=0, gender='male',  print_subreddit_count=True).head(3)\n# Uncomment to return the full list of Subreddits\n#list(find_toxic_subreddits_class_label_gender(class_label=0, gender='male', quantile=0.5, print_subreddit_count=False).index)",
   "execution_count": null,
   "outputs": [
    {
     "name": "stdout",
     "text": "Hate subreddit count with male identifiers: 103\n",
     "output_type": "stream"
    },
    {
     "output_type": "execute_result",
     "execution_count": 24,
     "data": {
      "application/vnd.deepnote.dataframe.v3+json": {
       "column_count": 3,
       "row_count": 3,
       "columns": [
        {
         "name": "hate_comment_count",
         "dtype": "int64",
         "stats": {
          "unique_count": 2,
          "nan_count": 0,
          "min": "1",
          "max": "3",
          "histogram": [
           {
            "bin_start": 1,
            "bin_end": 1.2,
            "count": 2
           },
           {
            "bin_start": 1.2,
            "bin_end": 1.4,
            "count": 0
           },
           {
            "bin_start": 1.4,
            "bin_end": 1.6,
            "count": 0
           },
           {
            "bin_start": 1.6,
            "bin_end": 1.8,
            "count": 0
           },
           {
            "bin_start": 1.8,
            "bin_end": 2,
            "count": 0
           },
           {
            "bin_start": 2,
            "bin_end": 2.2,
            "count": 0
           },
           {
            "bin_start": 2.2,
            "bin_end": 2.4000000000000004,
            "count": 0
           },
           {
            "bin_start": 2.4000000000000004,
            "bin_end": 2.6,
            "count": 0
           },
           {
            "bin_start": 2.6,
            "bin_end": 2.8,
            "count": 0
           },
           {
            "bin_start": 2.8,
            "bin_end": 3,
            "count": 1
           }
          ]
         }
        },
        {
         "name": "total_sampled_comments",
         "dtype": "int64",
         "stats": {
          "unique_count": 3,
          "nan_count": 0,
          "min": "2",
          "max": "41",
          "histogram": [
           {
            "bin_start": 2,
            "bin_end": 5.9,
            "count": 1
           },
           {
            "bin_start": 5.9,
            "bin_end": 9.8,
            "count": 1
           },
           {
            "bin_start": 9.8,
            "bin_end": 13.7,
            "count": 0
           },
           {
            "bin_start": 13.7,
            "bin_end": 17.6,
            "count": 0
           },
           {
            "bin_start": 17.6,
            "bin_end": 21.5,
            "count": 0
           },
           {
            "bin_start": 21.5,
            "bin_end": 25.4,
            "count": 0
           },
           {
            "bin_start": 25.4,
            "bin_end": 29.3,
            "count": 0
           },
           {
            "bin_start": 29.3,
            "bin_end": 33.2,
            "count": 0
           },
           {
            "bin_start": 33.2,
            "bin_end": 37.1,
            "count": 0
           },
           {
            "bin_start": 37.1,
            "bin_end": 41,
            "count": 1
           }
          ]
         }
        },
        {
         "name": "proportion",
         "dtype": "float64",
         "stats": {
          "unique_count": 3,
          "nan_count": 0,
          "min": "0.07317073170731707",
          "max": "0.5",
          "histogram": [
           {
            "bin_start": 0.07317073170731707,
            "bin_end": 0.11585365853658536,
            "count": 1
           },
           {
            "bin_start": 0.11585365853658536,
            "bin_end": 0.15853658536585363,
            "count": 1
           },
           {
            "bin_start": 0.15853658536585363,
            "bin_end": 0.20121951219512196,
            "count": 0
           },
           {
            "bin_start": 0.20121951219512196,
            "bin_end": 0.24390243902439024,
            "count": 0
           },
           {
            "bin_start": 0.24390243902439024,
            "bin_end": 0.2865853658536585,
            "count": 0
           },
           {
            "bin_start": 0.2865853658536585,
            "bin_end": 0.32926829268292684,
            "count": 0
           },
           {
            "bin_start": 0.32926829268292684,
            "bin_end": 0.3719512195121951,
            "count": 0
           },
           {
            "bin_start": 0.3719512195121951,
            "bin_end": 0.4146341463414634,
            "count": 0
           },
           {
            "bin_start": 0.4146341463414634,
            "bin_end": 0.45731707317073167,
            "count": 0
           },
           {
            "bin_start": 0.45731707317073167,
            "bin_end": 0.5,
            "count": 1
           }
          ]
         }
        },
        {
         "name": "_deepnote_index_column",
         "dtype": "object"
        }
       ],
       "rows": [
        {
         "hate_comment_count": 1,
         "total_sampled_comments": 2,
         "proportion": 0.5,
         "_deepnote_index_column": "AreTheStraightsOK"
        },
        {
         "hate_comment_count": 1,
         "total_sampled_comments": 7,
         "proportion": 0.14285714285714285,
         "_deepnote_index_column": "AskMen"
        },
        {
         "hate_comment_count": 3,
         "total_sampled_comments": 41,
         "proportion": 0.07317073170731707,
         "_deepnote_index_column": "AskReddit"
        }
       ]
      },
      "text/plain": "                   hate_comment_count  total_sampled_comments  proportion\nsubreddit                                                                \nAreTheStraightsOK                   1                       2    0.500000\nAskMen                              1                       7    0.142857\nAskReddit                           3                      41    0.073171",
      "text/html": "<div>\n<style scoped>\n    .dataframe tbody tr th:only-of-type {\n        vertical-align: middle;\n    }\n\n    .dataframe tbody tr th {\n        vertical-align: top;\n    }\n\n    .dataframe thead th {\n        text-align: right;\n    }\n</style>\n<table border=\"1\" class=\"dataframe\">\n  <thead>\n    <tr style=\"text-align: right;\">\n      <th></th>\n      <th>hate_comment_count</th>\n      <th>total_sampled_comments</th>\n      <th>proportion</th>\n    </tr>\n    <tr>\n      <th>subreddit</th>\n      <th></th>\n      <th></th>\n      <th></th>\n    </tr>\n  </thead>\n  <tbody>\n    <tr>\n      <th>AreTheStraightsOK</th>\n      <td>1</td>\n      <td>2</td>\n      <td>0.500000</td>\n    </tr>\n    <tr>\n      <th>AskMen</th>\n      <td>1</td>\n      <td>7</td>\n      <td>0.142857</td>\n    </tr>\n    <tr>\n      <th>AskReddit</th>\n      <td>3</td>\n      <td>41</td>\n      <td>0.073171</td>\n    </tr>\n  </tbody>\n</table>\n</div>"
     },
     "metadata": {}
    }
   ]
  },
  {
   "cell_type": "code",
   "metadata": {
    "cell_id": "2a92782f14eb432f9afbe01b6a179447",
    "tags": [],
    "deepnote_to_be_reexecuted": false,
    "source_hash": "d139c61f",
    "execution_start": 1650765668513,
    "execution_millis": 292,
    "deepnote_cell_type": "code",
    "deepnote_cell_height": 633,
    "deepnote_output_heights": [
     320
    ]
   },
   "source": "male_hate_sorted = find_toxic_subreddits_class_label_gender(class_label=0, gender='male', print_subreddit_count=False).sort_values('total_sampled_comments', ascending=False)[:10].sort_values('proportion', ascending=False).reset_index()\nalt.Chart(male_hate_sorted).mark_bar(color='#8edc7c').encode(\n    x = alt.X('proportion', title='Proportion of Toxic Language',scale = alt.Scale(domain=[0,1])),\n    y=alt.Y('subreddit',sort=['proportion'], title='')\n).properties(\n    title={\n      'text': ['Top Ten Subreddits with a High Frequency of', 'Hate Speech including Male Identifiers'],\n      'subtitle': ['Sorted by Highest Total Number of Sampled ', 'Comments and Proportions of Toxic Language' ],\n      'color': 'black',\n      'anchor': 'middle',\n      'fontSize': 15\n    }\n)",
   "execution_count": null,
   "outputs": [
    {
     "output_type": "execute_result",
     "execution_count": 100,
     "data": {
      "text/html": "\n<div id=\"altair-viz-3aa2565d9a1847e79a0983faf63d96ca\"></div>\n<script type=\"text/javascript\">\n  var VEGA_DEBUG = (typeof VEGA_DEBUG == \"undefined\") ? {} : VEGA_DEBUG;\n  (function(spec, embedOpt){\n    let outputDiv = document.currentScript.previousElementSibling;\n    if (outputDiv.id !== \"altair-viz-3aa2565d9a1847e79a0983faf63d96ca\") {\n      outputDiv = document.getElementById(\"altair-viz-3aa2565d9a1847e79a0983faf63d96ca\");\n    }\n    const paths = {\n      \"vega\": \"https://cdn.jsdelivr.net/npm//vega@5?noext\",\n      \"vega-lib\": \"https://cdn.jsdelivr.net/npm//vega-lib?noext\",\n      \"vega-lite\": \"https://cdn.jsdelivr.net/npm//vega-lite@4.17.0?noext\",\n      \"vega-embed\": \"https://cdn.jsdelivr.net/npm//vega-embed@6?noext\",\n    };\n\n    function maybeLoadScript(lib, version) {\n      var key = `${lib.replace(\"-\", \"\")}_version`;\n      return (VEGA_DEBUG[key] == version) ?\n        Promise.resolve(paths[lib]) :\n        new Promise(function(resolve, reject) {\n          var s = document.createElement('script');\n          document.getElementsByTagName(\"head\")[0].appendChild(s);\n          s.async = true;\n          s.onload = () => {\n            VEGA_DEBUG[key] = version;\n            return resolve(paths[lib]);\n          };\n          s.onerror = () => reject(`Error loading script: ${paths[lib]}`);\n          s.src = paths[lib];\n        });\n    }\n\n    function showError(err) {\n      outputDiv.innerHTML = `<div class=\"error\" style=\"color:red;\">${err}</div>`;\n      throw err;\n    }\n\n    function displayChart(vegaEmbed) {\n      vegaEmbed(outputDiv, spec, embedOpt)\n        .catch(err => showError(`Javascript Error: ${err.message}<br>This usually means there's a typo in your chart specification. See the javascript console for the full traceback.`));\n    }\n\n    if(typeof define === \"function\" && define.amd) {\n      requirejs.config({paths});\n      require([\"vega-embed\"], displayChart, err => showError(`Error loading script: ${err.message}`));\n    } else {\n      maybeLoadScript(\"vega\", \"5\")\n        .then(() => maybeLoadScript(\"vega-lite\", \"4.17.0\"))\n        .then(() => maybeLoadScript(\"vega-embed\", \"6\"))\n        .catch(showError)\n        .then(() => displayChart(vegaEmbed));\n    }\n  })({\"config\": {\"view\": {\"continuousWidth\": 400, \"continuousHeight\": 300}}, \"data\": {\"name\": \"data-540cf7fbbf28030ddcfe24519d996278\"}, \"mark\": {\"type\": \"bar\", \"color\": \"#8edc7c\"}, \"encoding\": {\"x\": {\"field\": \"proportion\", \"scale\": {\"domain\": [0, 1]}, \"title\": \"Proportion of Toxic Language\", \"type\": \"quantitative\"}, \"y\": {\"field\": \"subreddit\", \"sort\": [\"proportion\"], \"title\": \"\", \"type\": \"nominal\"}}, \"title\": {\"text\": [\"Top Ten Subreddits with a High Frequency of\", \"Hate Speech including Male Identifiers\"], \"subtitle\": [\"Sorted by Highest Total Number of Sampled \", \"Comments and Proportions of Toxic Language\"], \"color\": \"black\", \"anchor\": \"middle\", \"fontSize\": 15}, \"$schema\": \"https://vega.github.io/schema/vega-lite/v4.17.0.json\", \"datasets\": {\"data-540cf7fbbf28030ddcfe24519d996278\": [{\"subreddit\": \"PublicFreakout\", \"hate_comment_count\": 5, \"total_sampled_comments\": 18, \"proportion\": 0.2777777777777778}, {\"subreddit\": \"australia\", \"hate_comment_count\": 2, \"total_sampled_comments\": 24, \"proportion\": 0.08333333333333333}, {\"subreddit\": \"DeadBedrooms\", \"hate_comment_count\": 1, \"total_sampled_comments\": 12, \"proportion\": 0.08333333333333333}, {\"subreddit\": \"AskReddit\", \"hate_comment_count\": 3, \"total_sampled_comments\": 41, \"proportion\": 0.07317073170731707}, {\"subreddit\": \"Superstonk\", \"hate_comment_count\": 1, \"total_sampled_comments\": 14, \"proportion\": 0.07142857142857142}, {\"subreddit\": \"IWantToBeHerHentai2\", \"hate_comment_count\": 1, \"total_sampled_comments\": 22, \"proportion\": 0.045454545454545456}, {\"subreddit\": \"MechanicalKeyboards\", \"hate_comment_count\": 1, \"total_sampled_comments\": 25, \"proportion\": 0.04}, {\"subreddit\": \"nfl\", \"hate_comment_count\": 1, \"total_sampled_comments\": 31, \"proportion\": 0.03225806451612903}, {\"subreddit\": \"Pomeranians\", \"hate_comment_count\": 2, \"total_sampled_comments\": 128, \"proportion\": 0.015625}, {\"subreddit\": \"Cricket\", \"hate_comment_count\": 2, \"total_sampled_comments\": 155, \"proportion\": 0.012903225806451613}]}}, {\"mode\": \"vega-lite\"});\n</script>",
      "text/plain": "alt.Chart(...)"
     },
     "metadata": {}
    }
   ]
  },
  {
   "cell_type": "code",
   "metadata": {
    "cell_id": "783d9919e92a4335bbd3bdd44ac81ccb",
    "tags": [],
    "deepnote_to_be_reexecuted": false,
    "source_hash": "456ef6b9",
    "execution_start": 1650764038540,
    "execution_millis": 287,
    "deepnote_cell_type": "code",
    "deepnote_cell_height": 358.20001220703125
   },
   "source": "find_toxic_subreddits_class_label_gender(class_label=1, gender='male', print_subreddit_count=True).head(3)",
   "execution_count": null,
   "outputs": [
    {
     "name": "stdout",
     "text": "Offensive subreddit count with male identifiers: 212\n",
     "output_type": "stream"
    },
    {
     "output_type": "execute_result",
     "execution_count": 27,
     "data": {
      "application/vnd.deepnote.dataframe.v3+json": {
       "column_count": 3,
       "row_count": 3,
       "columns": [
        {
         "name": "offensive_comment_count",
         "dtype": "int64",
         "stats": {
          "unique_count": 1,
          "nan_count": 0,
          "min": "1",
          "max": "1",
          "histogram": [
           {
            "bin_start": 0.5,
            "bin_end": 0.6,
            "count": 0
           },
           {
            "bin_start": 0.6,
            "bin_end": 0.7,
            "count": 0
           },
           {
            "bin_start": 0.7,
            "bin_end": 0.8,
            "count": 0
           },
           {
            "bin_start": 0.8,
            "bin_end": 0.9,
            "count": 0
           },
           {
            "bin_start": 0.9,
            "bin_end": 1,
            "count": 0
           },
           {
            "bin_start": 1,
            "bin_end": 1.1,
            "count": 3
           },
           {
            "bin_start": 1.1,
            "bin_end": 1.2000000000000002,
            "count": 0
           },
           {
            "bin_start": 1.2000000000000002,
            "bin_end": 1.3,
            "count": 0
           },
           {
            "bin_start": 1.3,
            "bin_end": 1.4,
            "count": 0
           },
           {
            "bin_start": 1.4,
            "bin_end": 1.5,
            "count": 0
           }
          ]
         }
        },
        {
         "name": "total_sampled_comments",
         "dtype": "int64",
         "stats": {
          "unique_count": 2,
          "nan_count": 0,
          "min": "1",
          "max": "2",
          "histogram": [
           {
            "bin_start": 1,
            "bin_end": 1.1,
            "count": 2
           },
           {
            "bin_start": 1.1,
            "bin_end": 1.2,
            "count": 0
           },
           {
            "bin_start": 1.2,
            "bin_end": 1.3,
            "count": 0
           },
           {
            "bin_start": 1.3,
            "bin_end": 1.4,
            "count": 0
           },
           {
            "bin_start": 1.4,
            "bin_end": 1.5,
            "count": 0
           },
           {
            "bin_start": 1.5,
            "bin_end": 1.6,
            "count": 0
           },
           {
            "bin_start": 1.6,
            "bin_end": 1.7000000000000002,
            "count": 0
           },
           {
            "bin_start": 1.7000000000000002,
            "bin_end": 1.8,
            "count": 0
           },
           {
            "bin_start": 1.8,
            "bin_end": 1.9,
            "count": 0
           },
           {
            "bin_start": 1.9,
            "bin_end": 2,
            "count": 1
           }
          ]
         }
        },
        {
         "name": "proportion",
         "dtype": "float64",
         "stats": {
          "unique_count": 2,
          "nan_count": 0,
          "min": "0.5",
          "max": "1.0",
          "histogram": [
           {
            "bin_start": 0.5,
            "bin_end": 0.55,
            "count": 1
           },
           {
            "bin_start": 0.55,
            "bin_end": 0.6,
            "count": 0
           },
           {
            "bin_start": 0.6,
            "bin_end": 0.65,
            "count": 0
           },
           {
            "bin_start": 0.65,
            "bin_end": 0.7,
            "count": 0
           },
           {
            "bin_start": 0.7,
            "bin_end": 0.75,
            "count": 0
           },
           {
            "bin_start": 0.75,
            "bin_end": 0.8,
            "count": 0
           },
           {
            "bin_start": 0.8,
            "bin_end": 0.8500000000000001,
            "count": 0
           },
           {
            "bin_start": 0.8500000000000001,
            "bin_end": 0.9,
            "count": 0
           },
           {
            "bin_start": 0.9,
            "bin_end": 0.95,
            "count": 0
           },
           {
            "bin_start": 0.95,
            "bin_end": 1,
            "count": 2
           }
          ]
         }
        },
        {
         "name": "_deepnote_index_column",
         "dtype": "object"
        }
       ],
       "rows": [
        {
         "offensive_comment_count": 1,
         "total_sampled_comments": 2,
         "proportion": 0.5,
         "_deepnote_index_column": "196"
        },
        {
         "offensive_comment_count": 1,
         "total_sampled_comments": 1,
         "proportion": 1,
         "_deepnote_index_column": "49ers"
        },
        {
         "offensive_comment_count": 1,
         "total_sampled_comments": 1,
         "proportion": 1,
         "_deepnote_index_column": "ANRime"
        }
       ]
      },
      "text/plain": "           offensive_comment_count  total_sampled_comments  proportion\nsubreddit                                                             \n196                              1                       2         0.5\n49ers                            1                       1         1.0\nANRime                           1                       1         1.0",
      "text/html": "<div>\n<style scoped>\n    .dataframe tbody tr th:only-of-type {\n        vertical-align: middle;\n    }\n\n    .dataframe tbody tr th {\n        vertical-align: top;\n    }\n\n    .dataframe thead th {\n        text-align: right;\n    }\n</style>\n<table border=\"1\" class=\"dataframe\">\n  <thead>\n    <tr style=\"text-align: right;\">\n      <th></th>\n      <th>offensive_comment_count</th>\n      <th>total_sampled_comments</th>\n      <th>proportion</th>\n    </tr>\n    <tr>\n      <th>subreddit</th>\n      <th></th>\n      <th></th>\n      <th></th>\n    </tr>\n  </thead>\n  <tbody>\n    <tr>\n      <th>196</th>\n      <td>1</td>\n      <td>2</td>\n      <td>0.5</td>\n    </tr>\n    <tr>\n      <th>49ers</th>\n      <td>1</td>\n      <td>1</td>\n      <td>1.0</td>\n    </tr>\n    <tr>\n      <th>ANRime</th>\n      <td>1</td>\n      <td>1</td>\n      <td>1.0</td>\n    </tr>\n  </tbody>\n</table>\n</div>"
     },
     "metadata": {}
    }
   ]
  },
  {
   "cell_type": "code",
   "metadata": {
    "cell_id": "889572616cb548959dc692af79479f94",
    "tags": [],
    "deepnote_to_be_reexecuted": false,
    "source_hash": "1f5181ff",
    "execution_start": 1650765641690,
    "execution_millis": 331,
    "deepnote_cell_type": "code",
    "deepnote_cell_height": 633,
    "deepnote_output_heights": [
     320
    ]
   },
   "source": "male_offensive_sorted = find_toxic_subreddits_class_label_gender(class_label=1, gender='male', print_subreddit_count=False).sort_values('total_sampled_comments', ascending=False)[:10].sort_values('proportion', ascending=False).reset_index()\nalt.Chart(male_offensive_sorted).mark_bar(color='#8edc7c').encode(\n    x = alt.X('proportion', title='Proportion of Toxic Language',scale = alt.Scale(domain=[0,1])),\n    y=alt.Y('subreddit',sort=['proportion'], title='')\n).properties(\n    title={\n      'text': ['Top Ten Subreddits with a High Frequency of', 'Offensive Speech including Male Identifiers'],\n      'subtitle': ['Sorted by Highest Total Number of Sampled ', 'Comments and Proportions of Toxic Language' ], \n      'color': 'black',\n      'anchor': 'middle',\n      'fontSize': 15\n    }\n)",
   "execution_count": null,
   "outputs": [
    {
     "output_type": "execute_result",
     "execution_count": 99,
     "data": {
      "text/html": "\n<div id=\"altair-viz-2a3c85623f934e32923c7bb2d5a635ed\"></div>\n<script type=\"text/javascript\">\n  var VEGA_DEBUG = (typeof VEGA_DEBUG == \"undefined\") ? {} : VEGA_DEBUG;\n  (function(spec, embedOpt){\n    let outputDiv = document.currentScript.previousElementSibling;\n    if (outputDiv.id !== \"altair-viz-2a3c85623f934e32923c7bb2d5a635ed\") {\n      outputDiv = document.getElementById(\"altair-viz-2a3c85623f934e32923c7bb2d5a635ed\");\n    }\n    const paths = {\n      \"vega\": \"https://cdn.jsdelivr.net/npm//vega@5?noext\",\n      \"vega-lib\": \"https://cdn.jsdelivr.net/npm//vega-lib?noext\",\n      \"vega-lite\": \"https://cdn.jsdelivr.net/npm//vega-lite@4.17.0?noext\",\n      \"vega-embed\": \"https://cdn.jsdelivr.net/npm//vega-embed@6?noext\",\n    };\n\n    function maybeLoadScript(lib, version) {\n      var key = `${lib.replace(\"-\", \"\")}_version`;\n      return (VEGA_DEBUG[key] == version) ?\n        Promise.resolve(paths[lib]) :\n        new Promise(function(resolve, reject) {\n          var s = document.createElement('script');\n          document.getElementsByTagName(\"head\")[0].appendChild(s);\n          s.async = true;\n          s.onload = () => {\n            VEGA_DEBUG[key] = version;\n            return resolve(paths[lib]);\n          };\n          s.onerror = () => reject(`Error loading script: ${paths[lib]}`);\n          s.src = paths[lib];\n        });\n    }\n\n    function showError(err) {\n      outputDiv.innerHTML = `<div class=\"error\" style=\"color:red;\">${err}</div>`;\n      throw err;\n    }\n\n    function displayChart(vegaEmbed) {\n      vegaEmbed(outputDiv, spec, embedOpt)\n        .catch(err => showError(`Javascript Error: ${err.message}<br>This usually means there's a typo in your chart specification. See the javascript console for the full traceback.`));\n    }\n\n    if(typeof define === \"function\" && define.amd) {\n      requirejs.config({paths});\n      require([\"vega-embed\"], displayChart, err => showError(`Error loading script: ${err.message}`));\n    } else {\n      maybeLoadScript(\"vega\", \"5\")\n        .then(() => maybeLoadScript(\"vega-lite\", \"4.17.0\"))\n        .then(() => maybeLoadScript(\"vega-embed\", \"6\"))\n        .catch(showError)\n        .then(() => displayChart(vegaEmbed));\n    }\n  })({\"config\": {\"view\": {\"continuousWidth\": 400, \"continuousHeight\": 300}}, \"data\": {\"name\": \"data-733666ffdb9c5ffe1e13a1943f6b2f58\"}, \"mark\": {\"type\": \"bar\", \"color\": \"#8edc7c\"}, \"encoding\": {\"x\": {\"field\": \"proportion\", \"scale\": {\"domain\": [0, 1]}, \"title\": \"Proportion of Toxic Language\", \"type\": \"quantitative\"}, \"y\": {\"field\": \"subreddit\", \"sort\": [\"proportion\"], \"title\": \"\", \"type\": \"nominal\"}}, \"title\": {\"text\": [\"Top Ten Subreddits with a High Frequency of\", \"Offensive Speech including Male Identifiers\"], \"subtitle\": [\"Sorted by Highest Total Number of Sampled \", \"Comments and Proportions of Toxic Language\"], \"color\": \"black\", \"anchor\": \"middle\", \"fontSize\": 15}, \"$schema\": \"https://vega.github.io/schema/vega-lite/v4.17.0.json\", \"datasets\": {\"data-733666ffdb9c5ffe1e13a1943f6b2f58\": [{\"subreddit\": \"AskReddit\", \"offensive_comment_count\": 14, \"total_sampled_comments\": 41, \"proportion\": 0.34146341463414637}, {\"subreddit\": \"PublicFreakout\", \"offensive_comment_count\": 6, \"total_sampled_comments\": 18, \"proportion\": 0.3333333333333333}, {\"subreddit\": \"IWantToBeHerHentai2\", \"offensive_comment_count\": 4, \"total_sampled_comments\": 22, \"proportion\": 0.18181818181818182}, {\"subreddit\": \"australia\", \"offensive_comment_count\": 4, \"total_sampled_comments\": 24, \"proportion\": 0.16666666666666666}, {\"subreddit\": \"KansasCityChiefs\", \"offensive_comment_count\": 2, \"total_sampled_comments\": 14, \"proportion\": 0.14285714285714285}, {\"subreddit\": \"nfl\", \"offensive_comment_count\": 4, \"total_sampled_comments\": 31, \"proportion\": 0.12903225806451613}, {\"subreddit\": \"Cricket\", \"offensive_comment_count\": 18, \"total_sampled_comments\": 155, \"proportion\": 0.11612903225806452}, {\"subreddit\": \"puppy101\", \"offensive_comment_count\": 1, \"total_sampled_comments\": 17, \"proportion\": 0.058823529411764705}, {\"subreddit\": \"dogs\", \"offensive_comment_count\": 1, \"total_sampled_comments\": 55, \"proportion\": 0.01818181818181818}, {\"subreddit\": \"Pomeranians\", \"offensive_comment_count\": 1, \"total_sampled_comments\": 128, \"proportion\": 0.0078125}]}}, {\"mode\": \"vega-lite\"});\n</script>",
      "text/plain": "alt.Chart(...)"
     },
     "metadata": {}
    }
   ]
  },
  {
   "cell_type": "code",
   "metadata": {
    "cell_id": "1a96b9e712e847d69a296b32c643d5f2",
    "tags": [],
    "deepnote_to_be_reexecuted": false,
    "source_hash": "703aec15",
    "execution_start": 1650764162454,
    "execution_millis": 1116,
    "deepnote_cell_type": "code",
    "deepnote_cell_height": 349.3999938964844
   },
   "source": "collect_test_statistics(\n    find_toxic_subreddits_class_label_gender(class_label=0, gender='female', print_subreddit_count=True),\n    find_toxic_subreddits_class_label_gender(class_label=0, gender='male', print_subreddit_count=True))\n",
   "execution_count": null,
   "outputs": [
    {
     "name": "stdout",
     "text": "Hate subreddit count with female identifiers: 5016\nHate subreddit count with male identifiers: 103\n",
     "output_type": "stream"
    },
    {
     "output_type": "execute_result",
     "execution_count": 34,
     "data": {
      "application/vnd.deepnote.dataframe.v3+json": {
       "column_count": 5,
       "row_count": 1,
       "columns": [
        {
         "name": "variable",
         "dtype": "object",
         "stats": {
          "unique_count": 1,
          "nan_count": 0,
          "categories": [
           {
            "name": "proportion",
            "count": 1
           }
          ]
         }
        },
        {
         "name": "t-statistic",
         "dtype": "object",
         "stats": {
          "unique_count": 1,
          "nan_count": 0,
          "categories": [
           {
            "name": "-3.4179816917024235",
            "count": 1
           }
          ]
         }
        },
        {
         "name": "p-value",
         "dtype": "object",
         "stats": {
          "unique_count": 1,
          "nan_count": 0,
          "categories": [
           {
            "name": "0.0008983523921442714",
            "count": 1
           }
          ]
         }
        },
        {
         "name": "H0",
         "dtype": "object",
         "stats": {
          "unique_count": 1,
          "nan_count": 0,
          "categories": [
           {
            "name": "reject",
            "count": 1
           }
          ]
         }
        },
        {
         "name": "variance",
         "dtype": "object",
         "stats": {
          "unique_count": 1,
          "nan_count": 0,
          "categories": [
           {
            "name": "unequal",
            "count": 1
           }
          ]
         }
        },
        {
         "name": "_deepnote_index_column",
         "dtype": "int64"
        }
       ],
       "rows": [
        {
         "variable": "proportion",
         "t-statistic": "-3.4179816917024235",
         "p-value": "0.0008983523921442714",
         "H0": "reject",
         "variance": "unequal",
         "_deepnote_index_column": 0
        }
       ]
      },
      "text/plain": "     variable t-statistic   p-value      H0 variance\n0  proportion   -3.417982  0.000898  reject  unequal",
      "text/html": "<div>\n<style scoped>\n    .dataframe tbody tr th:only-of-type {\n        vertical-align: middle;\n    }\n\n    .dataframe tbody tr th {\n        vertical-align: top;\n    }\n\n    .dataframe thead th {\n        text-align: right;\n    }\n</style>\n<table border=\"1\" class=\"dataframe\">\n  <thead>\n    <tr style=\"text-align: right;\">\n      <th></th>\n      <th>variable</th>\n      <th>t-statistic</th>\n      <th>p-value</th>\n      <th>H0</th>\n      <th>variance</th>\n    </tr>\n  </thead>\n  <tbody>\n    <tr>\n      <th>0</th>\n      <td>proportion</td>\n      <td>-3.417982</td>\n      <td>0.000898</td>\n      <td>reject</td>\n      <td>unequal</td>\n    </tr>\n  </tbody>\n</table>\n</div>"
     },
     "metadata": {}
    }
   ]
  },
  {
   "cell_type": "code",
   "metadata": {
    "cell_id": "a6c5fbb36030438c90b6bbdf9e662045",
    "tags": [],
    "deepnote_to_be_reexecuted": false,
    "source_hash": "f7a050bc",
    "execution_start": 1650764163611,
    "execution_millis": 1035,
    "deepnote_cell_type": "code",
    "deepnote_cell_height": 331.3999938964844
   },
   "source": "collect_test_statistics(\n    find_toxic_subreddits_class_label_gender(class_label=1, gender='female', print_subreddit_count=True),\n    find_toxic_subreddits_class_label_gender(class_label=1, gender='male', print_subreddit_count=True))",
   "execution_count": null,
   "outputs": [
    {
     "name": "stdout",
     "text": "Offensive subreddit count with female identifiers: 6381\nOffensive subreddit count with male identifiers: 212\n",
     "output_type": "stream"
    },
    {
     "output_type": "execute_result",
     "execution_count": 35,
     "data": {
      "application/vnd.deepnote.dataframe.v3+json": {
       "column_count": 5,
       "row_count": 1,
       "columns": [
        {
         "name": "variable",
         "dtype": "object",
         "stats": {
          "unique_count": 1,
          "nan_count": 0,
          "categories": [
           {
            "name": "proportion",
            "count": 1
           }
          ]
         }
        },
        {
         "name": "t-statistic",
         "dtype": "object",
         "stats": {
          "unique_count": 1,
          "nan_count": 0,
          "categories": [
           {
            "name": "-6.7197117637973145",
            "count": 1
           }
          ]
         }
        },
        {
         "name": "p-value",
         "dtype": "object",
         "stats": {
          "unique_count": 1,
          "nan_count": 0,
          "categories": [
           {
            "name": "1.477144873513472e-10",
            "count": 1
           }
          ]
         }
        },
        {
         "name": "H0",
         "dtype": "object",
         "stats": {
          "unique_count": 1,
          "nan_count": 0,
          "categories": [
           {
            "name": "reject",
            "count": 1
           }
          ]
         }
        },
        {
         "name": "variance",
         "dtype": "object",
         "stats": {
          "unique_count": 1,
          "nan_count": 0,
          "categories": [
           {
            "name": "unequal",
            "count": 1
           }
          ]
         }
        },
        {
         "name": "_deepnote_index_column",
         "dtype": "int64"
        }
       ],
       "rows": [
        {
         "variable": "proportion",
         "t-statistic": "-6.7197117637973145",
         "p-value": "1.477144873513472e-10",
         "H0": "reject",
         "variance": "unequal",
         "_deepnote_index_column": 0
        }
       ]
      },
      "text/plain": "     variable t-statistic p-value      H0 variance\n0  proportion   -6.719712     0.0  reject  unequal",
      "text/html": "<div>\n<style scoped>\n    .dataframe tbody tr th:only-of-type {\n        vertical-align: middle;\n    }\n\n    .dataframe tbody tr th {\n        vertical-align: top;\n    }\n\n    .dataframe thead th {\n        text-align: right;\n    }\n</style>\n<table border=\"1\" class=\"dataframe\">\n  <thead>\n    <tr style=\"text-align: right;\">\n      <th></th>\n      <th>variable</th>\n      <th>t-statistic</th>\n      <th>p-value</th>\n      <th>H0</th>\n      <th>variance</th>\n    </tr>\n  </thead>\n  <tbody>\n    <tr>\n      <th>0</th>\n      <td>proportion</td>\n      <td>-6.719712</td>\n      <td>0.0</td>\n      <td>reject</td>\n      <td>unequal</td>\n    </tr>\n  </tbody>\n</table>\n</div>"
     },
     "metadata": {}
    }
   ]
  },
  {
   "cell_type": "markdown",
   "source": "## Question 7\n\nIs toxic speech more prevalent on some subreddits than on others?\n\n\n#### Operationalized Questions\n\nDo some subreddits have a higher frequency of\n* hate or offensive speech?\n* toxic language (specific measures from Detoxify)?\n\nnote: compare frequency of hate, offensive, and neutral speech in the subreddits with the most hate speech.\n\nAlso compare subreddits with the most hate speech with the subreddits that have the most offensive speech.\n\n\n#### Hypothesis\n\nReddit has a wide variety of subreddits (micro communities). Toxic speech is more prevalent on some subreddits than on others.\n\n\n#### Results\n\nWhen comparing subreddits by their high toxicity scores (above average for each of the Detoxify metrics), the Subreddit count was as follows: hate speech : 1687, offensive speech : 1359, neither hate nor offensive speech : 1100. Running Welch’s T-test comparing the subreddits with classified comments with above average toxicity, we got the following results: Hate versus offensive speech : (t-statistic=-7.9508, p-value=2.6402e-15), Hate speech versus neither : (t-statistic=-32.9205, p-value=3.9065e-200), Offensive speech versus neither : (t-statistic=-22.3680, p-value=5.6182e-101).  In each case, we can reject the Null Hypothesis that there is no difference between the means of both groups.\n\n\nWhen comparing subreddits based on comment classification alone without taking into account the Detoxify metrics, the Subreddit count was as follows: hate speech : 5826, offensive speech : 7588, neither hate nor offensive speech : 10,227. Again running Welch’s T-test to compare the subreddits with classified comments, we got the following results: Hate versus offensive speech : (t-statistic=-21.1521, p-value=1.6750 e-97), Hate speech versus neither : (t-statistic=-54.1445, p-value=0.0), Offensive speech versus neither : (t-statistic=-34.4237, p-value=1.7924-250).  In each case, we can again reject the Null Hypothesis that there is no difference between the means of both groups.\n\n\n",
   "metadata": {
    "cell_id": "bddfef94979c4d1e882860a4c5a09236",
    "tags": [],
    "deepnote_cell_type": "markdown",
    "deepnote_cell_height": 733.5999755859375
   }
  },
  {
   "cell_type": "markdown",
   "source": "#### Initiate find_toxic_subreddits_detoxify function\n\nThis function finds the subreddits with a higher proportion of toxic languge, based on the Detoxify metrics, but without taking into account gender identifiers. Similarly to the above functions, the quantile parameter allows the user to set a minimum threshold for the toxicity metrics based on the user's preference. Subreddits beginning with \"u_\" are user profiles where only the user can make submissions, and therefore been removed from the analysis.",
   "metadata": {
    "cell_id": "e8165015cde342b8b313aa8f55b9ceee",
    "tags": [],
    "deepnote_cell_type": "markdown",
    "deepnote_cell_height": 155.60000610351562
   }
  },
  {
   "cell_type": "code",
   "metadata": {
    "cell_id": "5fbef79154084ea4a256dd47fb946362",
    "tags": [],
    "deepnote_to_be_reexecuted": false,
    "source_hash": "824eb83c",
    "execution_start": 1650764196425,
    "execution_millis": 2,
    "deepnote_cell_type": "code",
    "deepnote_cell_height": 729
   },
   "source": "def find_toxic_subreddits_detoxify(class_label=0, quantile=0.0, print_subreddit_count=True):\n    \n    filtered_c = c.drop(c[c.subreddit.str.contains('^u_', regex=True)==True].index)\n    filtered_c = filtered_c[filtered_c.davidson_label == class_label]\n    toxic_subreddits = filtered_c[['subreddit', 'toxicity','severe_toxicity','obscene','identity_attack', 'insult', 'threat', 'sexual_explicit']]\n\n    toxic_subreddits = toxic_subreddits.groupby('subreddit').mean()\n\n    most_toxic_df = toxic_subreddits[(toxic_subreddits.toxicity >= c.toxicity.quantile(q=quantile)) & (\n        toxic_subreddits.severe_toxicity >= c.severe_toxicity.quantile(q=quantile)) & (\n        toxic_subreddits.obscene >= c.obscene.quantile(q=quantile)) & (\n        toxic_subreddits.identity_attack >= c.identity_attack.quantile(q=quantile)) & (\n        toxic_subreddits.insult >= c.insult.quantile(q=quantile)) & (\n        toxic_subreddits.threat >= c.threat.quantile(q=quantile)) & (\n        toxic_subreddits.sexual_explicit >= c.sexual_explicit.quantile(q=quantile))]\n    \n    toxic_subreddit_list = list(most_toxic_df.index)\n    \n    if class_label==0:\n        label='hate'\n    elif class_label==1:\n        label='offensive'\n    else:\n        label='neither_hate_nor_offensive'\n\n        \n    df = pd.DataFrame(columns=[label+'_comment_count'])\n\n    df[label+'_comment_count']= filtered_c[filtered_c.subreddit.isin(toxic_subreddit_list)].groupby('subreddit').count().body\n    df['total_sampled_comments']=c[c.subreddit.isin(toxic_subreddit_list)].groupby('subreddit').count().body\n    df['proportion']=filtered_c[filtered_c.subreddit.isin(toxic_subreddit_list)].groupby('subreddit').count().body/c[c.subreddit.isin(toxic_subreddit_list)].groupby('subreddit').count().body\n    \n    if print_subreddit_count == True:\n        print(label.capitalize()+' subreddit count based on Detoxify scores: '+str(len(df)))\n    \n    return df\n",
   "execution_count": null,
   "outputs": []
  },
  {
   "cell_type": "code",
   "metadata": {
    "cell_id": "90c22045f9234f599aad23e66774b138",
    "tags": [],
    "deepnote_to_be_reexecuted": false,
    "source_hash": "e6160a0d",
    "execution_start": 1650764197271,
    "execution_millis": 876,
    "deepnote_cell_type": "code",
    "deepnote_cell_height": 358.20001220703125
   },
   "source": "find_toxic_subreddits_detoxify(class_label=0, quantile=0.5, print_subreddit_count=True).head(3)",
   "execution_count": null,
   "outputs": [
    {
     "name": "stdout",
     "text": "Hate subreddit count based on Detoxify scores: 1687\n",
     "output_type": "stream"
    },
    {
     "output_type": "execute_result",
     "execution_count": 37,
     "data": {
      "application/vnd.deepnote.dataframe.v3+json": {
       "column_count": 3,
       "row_count": 3,
       "columns": [
        {
         "name": "hate_comment_count",
         "dtype": "int64",
         "stats": {
          "unique_count": 2,
          "nan_count": 0,
          "min": "1",
          "max": "2",
          "histogram": [
           {
            "bin_start": 1,
            "bin_end": 1.1,
            "count": 2
           },
           {
            "bin_start": 1.1,
            "bin_end": 1.2,
            "count": 0
           },
           {
            "bin_start": 1.2,
            "bin_end": 1.3,
            "count": 0
           },
           {
            "bin_start": 1.3,
            "bin_end": 1.4,
            "count": 0
           },
           {
            "bin_start": 1.4,
            "bin_end": 1.5,
            "count": 0
           },
           {
            "bin_start": 1.5,
            "bin_end": 1.6,
            "count": 0
           },
           {
            "bin_start": 1.6,
            "bin_end": 1.7000000000000002,
            "count": 0
           },
           {
            "bin_start": 1.7000000000000002,
            "bin_end": 1.8,
            "count": 0
           },
           {
            "bin_start": 1.8,
            "bin_end": 1.9,
            "count": 0
           },
           {
            "bin_start": 1.9,
            "bin_end": 2,
            "count": 1
           }
          ]
         }
        },
        {
         "name": "total_sampled_comments",
         "dtype": "int64",
         "stats": {
          "unique_count": 3,
          "nan_count": 0,
          "min": "7",
          "max": "17",
          "histogram": [
           {
            "bin_start": 7,
            "bin_end": 8,
            "count": 1
           },
           {
            "bin_start": 8,
            "bin_end": 9,
            "count": 0
           },
           {
            "bin_start": 9,
            "bin_end": 10,
            "count": 0
           },
           {
            "bin_start": 10,
            "bin_end": 11,
            "count": 0
           },
           {
            "bin_start": 11,
            "bin_end": 12,
            "count": 0
           },
           {
            "bin_start": 12,
            "bin_end": 13,
            "count": 0
           },
           {
            "bin_start": 13,
            "bin_end": 14,
            "count": 1
           },
           {
            "bin_start": 14,
            "bin_end": 15,
            "count": 0
           },
           {
            "bin_start": 15,
            "bin_end": 16,
            "count": 0
           },
           {
            "bin_start": 16,
            "bin_end": 17,
            "count": 1
           }
          ]
         }
        },
        {
         "name": "proportion",
         "dtype": "float64",
         "stats": {
          "unique_count": 3,
          "nan_count": 0,
          "min": "0.07692307692307693",
          "max": "0.14285714285714285",
          "histogram": [
           {
            "bin_start": 0.07692307692307693,
            "bin_end": 0.08351648351648353,
            "count": 1
           },
           {
            "bin_start": 0.08351648351648353,
            "bin_end": 0.09010989010989011,
            "count": 0
           },
           {
            "bin_start": 0.09010989010989011,
            "bin_end": 0.0967032967032967,
            "count": 0
           },
           {
            "bin_start": 0.0967032967032967,
            "bin_end": 0.10329670329670329,
            "count": 0
           },
           {
            "bin_start": 0.10329670329670329,
            "bin_end": 0.10989010989010989,
            "count": 0
           },
           {
            "bin_start": 0.10989010989010989,
            "bin_end": 0.11648351648351649,
            "count": 0
           },
           {
            "bin_start": 0.11648351648351649,
            "bin_end": 0.12307692307692308,
            "count": 1
           },
           {
            "bin_start": 0.12307692307692308,
            "bin_end": 0.12967032967032965,
            "count": 0
           },
           {
            "bin_start": 0.12967032967032965,
            "bin_end": 0.13626373626373625,
            "count": 0
           },
           {
            "bin_start": 0.13626373626373625,
            "bin_end": 0.14285714285714285,
            "count": 1
           }
          ]
         }
        },
        {
         "name": "_deepnote_index_column",
         "dtype": "object"
        }
       ],
       "rows": [
        {
         "hate_comment_count": 1,
         "total_sampled_comments": 7,
         "proportion": 0.14285714285714285,
         "_deepnote_index_column": "1819club"
        },
        {
         "hate_comment_count": 2,
         "total_sampled_comments": 17,
         "proportion": 0.11764705882352941,
         "_deepnote_index_column": "18nsfw"
        },
        {
         "hate_comment_count": 1,
         "total_sampled_comments": 13,
         "proportion": 0.07692307692307693,
         "_deepnote_index_column": "2000sGirls"
        }
       ]
      },
      "text/plain": "            hate_comment_count  total_sampled_comments  proportion\nsubreddit                                                         \n1819club                     1                       7    0.142857\n18nsfw                       2                      17    0.117647\n2000sGirls                   1                      13    0.076923",
      "text/html": "<div>\n<style scoped>\n    .dataframe tbody tr th:only-of-type {\n        vertical-align: middle;\n    }\n\n    .dataframe tbody tr th {\n        vertical-align: top;\n    }\n\n    .dataframe thead th {\n        text-align: right;\n    }\n</style>\n<table border=\"1\" class=\"dataframe\">\n  <thead>\n    <tr style=\"text-align: right;\">\n      <th></th>\n      <th>hate_comment_count</th>\n      <th>total_sampled_comments</th>\n      <th>proportion</th>\n    </tr>\n    <tr>\n      <th>subreddit</th>\n      <th></th>\n      <th></th>\n      <th></th>\n    </tr>\n  </thead>\n  <tbody>\n    <tr>\n      <th>1819club</th>\n      <td>1</td>\n      <td>7</td>\n      <td>0.142857</td>\n    </tr>\n    <tr>\n      <th>18nsfw</th>\n      <td>2</td>\n      <td>17</td>\n      <td>0.117647</td>\n    </tr>\n    <tr>\n      <th>2000sGirls</th>\n      <td>1</td>\n      <td>13</td>\n      <td>0.076923</td>\n    </tr>\n  </tbody>\n</table>\n</div>"
     },
     "metadata": {}
    }
   ]
  },
  {
   "cell_type": "code",
   "metadata": {
    "cell_id": "383d4dd3a233478ab37144bed07cb8c2",
    "tags": [],
    "deepnote_to_be_reexecuted": false,
    "source_hash": "8efd21c2",
    "execution_start": 1650765072598,
    "execution_millis": 765,
    "deepnote_cell_type": "code",
    "deepnote_cell_height": 633,
    "deepnote_output_heights": [
     320
    ]
   },
   "source": "label_detoxify_sorted_h = find_toxic_subreddits_detoxify(class_label=0, quantile=0.5, print_subreddit_count=False).sort_values('total_sampled_comments', ascending=False)[:10].sort_values('proportion', ascending=False).reset_index()\nalt.Chart(label_detoxify_sorted_h).mark_bar(color='#f2a3b6').encode(\n    x = alt.X('proportion', title='Proportion of Toxic Language',scale = alt.Scale(domain=[0,1])),\n    y=alt.Y('subreddit',sort=['proportion'], title='')\n).properties(\n    title={\n      'text': ['Top Ten Subreddits with a High ', 'Frequency of Hate Speech'],\n      'subtitle': ['Sorted by Proportion of Toxic Language', 'with Above Average Toxicity Scores' ], \n      'color': 'black',\n      'anchor': 'middle',\n      'fontSize': 15\n    }\n)",
   "execution_count": null,
   "outputs": [
    {
     "output_type": "execute_result",
     "execution_count": 67,
     "data": {
      "text/html": "\n<div id=\"altair-viz-259ddbf848ef4ddf8299ef6f783b820b\"></div>\n<script type=\"text/javascript\">\n  var VEGA_DEBUG = (typeof VEGA_DEBUG == \"undefined\") ? {} : VEGA_DEBUG;\n  (function(spec, embedOpt){\n    let outputDiv = document.currentScript.previousElementSibling;\n    if (outputDiv.id !== \"altair-viz-259ddbf848ef4ddf8299ef6f783b820b\") {\n      outputDiv = document.getElementById(\"altair-viz-259ddbf848ef4ddf8299ef6f783b820b\");\n    }\n    const paths = {\n      \"vega\": \"https://cdn.jsdelivr.net/npm//vega@5?noext\",\n      \"vega-lib\": \"https://cdn.jsdelivr.net/npm//vega-lib?noext\",\n      \"vega-lite\": \"https://cdn.jsdelivr.net/npm//vega-lite@4.17.0?noext\",\n      \"vega-embed\": \"https://cdn.jsdelivr.net/npm//vega-embed@6?noext\",\n    };\n\n    function maybeLoadScript(lib, version) {\n      var key = `${lib.replace(\"-\", \"\")}_version`;\n      return (VEGA_DEBUG[key] == version) ?\n        Promise.resolve(paths[lib]) :\n        new Promise(function(resolve, reject) {\n          var s = document.createElement('script');\n          document.getElementsByTagName(\"head\")[0].appendChild(s);\n          s.async = true;\n          s.onload = () => {\n            VEGA_DEBUG[key] = version;\n            return resolve(paths[lib]);\n          };\n          s.onerror = () => reject(`Error loading script: ${paths[lib]}`);\n          s.src = paths[lib];\n        });\n    }\n\n    function showError(err) {\n      outputDiv.innerHTML = `<div class=\"error\" style=\"color:red;\">${err}</div>`;\n      throw err;\n    }\n\n    function displayChart(vegaEmbed) {\n      vegaEmbed(outputDiv, spec, embedOpt)\n        .catch(err => showError(`Javascript Error: ${err.message}<br>This usually means there's a typo in your chart specification. See the javascript console for the full traceback.`));\n    }\n\n    if(typeof define === \"function\" && define.amd) {\n      requirejs.config({paths});\n      require([\"vega-embed\"], displayChart, err => showError(`Error loading script: ${err.message}`));\n    } else {\n      maybeLoadScript(\"vega\", \"5\")\n        .then(() => maybeLoadScript(\"vega-lite\", \"4.17.0\"))\n        .then(() => maybeLoadScript(\"vega-embed\", \"6\"))\n        .catch(showError)\n        .then(() => displayChart(vegaEmbed));\n    }\n  })({\"config\": {\"view\": {\"continuousWidth\": 400, \"continuousHeight\": 300}}, \"data\": {\"name\": \"data-ee08fb94df1475f4f187eb024f658bd1\"}, \"mark\": {\"type\": \"bar\", \"color\": \"#f2a3b6\"}, \"encoding\": {\"x\": {\"field\": \"proportion\", \"scale\": {\"domain\": [0, 1]}, \"title\": \"Proportion of Toxic Language\", \"type\": \"quantitative\"}, \"y\": {\"field\": \"subreddit\", \"sort\": [\"proportion\"], \"title\": \"\", \"type\": \"nominal\"}}, \"title\": {\"text\": [\"Top Ten Subreddits with a High \", \"Frequency of Hate Speech\"], \"subtitle\": [\"Sorted by Proportion of Toxic Language\", \"with Above Average Toxicity Scores\"], \"color\": \"black\", \"anchor\": \"middle\", \"fontSize\": 15}, \"$schema\": \"https://vega.github.io/schema/vega-lite/v4.17.0.json\", \"datasets\": {\"data-ee08fb94df1475f4f187eb024f658bd1\": [{\"subreddit\": \"MisogynisticLife\", \"hate_comment_count\": 648, \"total_sampled_comments\": 2875, \"proportion\": 0.2253913043478261}, {\"subreddit\": \"DegradingHoles\", \"hate_comment_count\": 464, \"total_sampled_comments\": 2067, \"proportion\": 0.22447992259313013}, {\"subreddit\": \"MisogynyGoneWild\", \"hate_comment_count\": 240, \"total_sampled_comments\": 1089, \"proportion\": 0.22038567493112948}, {\"subreddit\": \"rapefantasies\", \"hate_comment_count\": 1391, \"total_sampled_comments\": 7050, \"proportion\": 0.1973049645390071}, {\"subreddit\": \"HentaiAndRoleplayy\", \"hate_comment_count\": 125, \"total_sampled_comments\": 1064, \"proportion\": 0.1174812030075188}, {\"subreddit\": \"IWantToBeHerHentai2\", \"hate_comment_count\": 321, \"total_sampled_comments\": 3145, \"proportion\": 0.10206677265500795}, {\"subreddit\": \"gonewild\", \"hate_comment_count\": 95, \"total_sampled_comments\": 933, \"proportion\": 0.10182207931404073}, {\"subreddit\": \"FemBoys\", \"hate_comment_count\": 101, \"total_sampled_comments\": 1181, \"proportion\": 0.0855207451312447}, {\"subreddit\": \"SluttyConfessions\", \"hate_comment_count\": 183, \"total_sampled_comments\": 2216, \"proportion\": 0.0825812274368231}, {\"subreddit\": \"needysluts\", \"hate_comment_count\": 133, \"total_sampled_comments\": 1759, \"proportion\": 0.0756111426947129}]}}, {\"mode\": \"vega-lite\"});\n</script>",
      "text/plain": "alt.Chart(...)"
     },
     "metadata": {}
    }
   ]
  },
  {
   "cell_type": "code",
   "metadata": {
    "cell_id": "edcda0bcf55f4cf1887422aa603cee1b",
    "tags": [],
    "deepnote_to_be_reexecuted": false,
    "source_hash": "33cb4938",
    "execution_start": 1650764203007,
    "execution_millis": 641,
    "deepnote_cell_type": "code",
    "deepnote_cell_height": 358.20001220703125
   },
   "source": "find_toxic_subreddits_detoxify(class_label=1, quantile=0.5, print_subreddit_count=True).head(3)",
   "execution_count": null,
   "outputs": [
    {
     "name": "stdout",
     "text": "Offensive subreddit count based on Detoxify scores: 1359\n",
     "output_type": "stream"
    },
    {
     "output_type": "execute_result",
     "execution_count": 38,
     "data": {
      "application/vnd.deepnote.dataframe.v3+json": {
       "column_count": 3,
       "row_count": 3,
       "columns": [
        {
         "name": "offensive_comment_count",
         "dtype": "int64",
         "stats": {
          "unique_count": 3,
          "nan_count": 0,
          "min": "1",
          "max": "7",
          "histogram": [
           {
            "bin_start": 1,
            "bin_end": 1.6,
            "count": 1
           },
           {
            "bin_start": 1.6,
            "bin_end": 2.2,
            "count": 0
           },
           {
            "bin_start": 2.2,
            "bin_end": 2.8,
            "count": 0
           },
           {
            "bin_start": 2.8,
            "bin_end": 3.4,
            "count": 0
           },
           {
            "bin_start": 3.4,
            "bin_end": 4,
            "count": 0
           },
           {
            "bin_start": 4,
            "bin_end": 4.6,
            "count": 1
           },
           {
            "bin_start": 4.6,
            "bin_end": 5.2,
            "count": 0
           },
           {
            "bin_start": 5.2,
            "bin_end": 5.8,
            "count": 0
           },
           {
            "bin_start": 5.8,
            "bin_end": 6.3999999999999995,
            "count": 0
           },
           {
            "bin_start": 6.3999999999999995,
            "bin_end": 7,
            "count": 1
           }
          ]
         }
        },
        {
         "name": "total_sampled_comments",
         "dtype": "int64",
         "stats": {
          "unique_count": 3,
          "nan_count": 0,
          "min": "4",
          "max": "45",
          "histogram": [
           {
            "bin_start": 4,
            "bin_end": 8.1,
            "count": 1
           },
           {
            "bin_start": 8.1,
            "bin_end": 12.2,
            "count": 0
           },
           {
            "bin_start": 12.2,
            "bin_end": 16.299999999999997,
            "count": 1
           },
           {
            "bin_start": 16.299999999999997,
            "bin_end": 20.4,
            "count": 0
           },
           {
            "bin_start": 20.4,
            "bin_end": 24.5,
            "count": 0
           },
           {
            "bin_start": 24.5,
            "bin_end": 28.599999999999998,
            "count": 0
           },
           {
            "bin_start": 28.599999999999998,
            "bin_end": 32.699999999999996,
            "count": 0
           },
           {
            "bin_start": 32.699999999999996,
            "bin_end": 36.8,
            "count": 0
           },
           {
            "bin_start": 36.8,
            "bin_end": 40.9,
            "count": 0
           },
           {
            "bin_start": 40.9,
            "bin_end": 45,
            "count": 1
           }
          ]
         }
        },
        {
         "name": "proportion",
         "dtype": "float64",
         "stats": {
          "unique_count": 3,
          "nan_count": 0,
          "min": "0.15555555555555556",
          "max": "0.3076923076923077",
          "histogram": [
           {
            "bin_start": 0.15555555555555556,
            "bin_end": 0.17076923076923078,
            "count": 1
           },
           {
            "bin_start": 0.17076923076923078,
            "bin_end": 0.18598290598290598,
            "count": 0
           },
           {
            "bin_start": 0.18598290598290598,
            "bin_end": 0.2011965811965812,
            "count": 0
           },
           {
            "bin_start": 0.2011965811965812,
            "bin_end": 0.2164102564102564,
            "count": 0
           },
           {
            "bin_start": 0.2164102564102564,
            "bin_end": 0.23162393162393163,
            "count": 0
           },
           {
            "bin_start": 0.23162393162393163,
            "bin_end": 0.24683760683760686,
            "count": 0
           },
           {
            "bin_start": 0.24683760683760686,
            "bin_end": 0.2620512820512821,
            "count": 1
           },
           {
            "bin_start": 0.2620512820512821,
            "bin_end": 0.27726495726495726,
            "count": 0
           },
           {
            "bin_start": 0.27726495726495726,
            "bin_end": 0.2924786324786325,
            "count": 0
           },
           {
            "bin_start": 0.2924786324786325,
            "bin_end": 0.3076923076923077,
            "count": 1
           }
          ]
         }
        },
        {
         "name": "_deepnote_index_column",
         "dtype": "object"
        }
       ],
       "rows": [
        {
         "offensive_comment_count": 4,
         "total_sampled_comments": 13,
         "proportion": 0.3076923076923077,
         "_deepnote_index_column": "2000sGirls"
        },
        {
         "offensive_comment_count": 1,
         "total_sampled_comments": 4,
         "proportion": 0.25,
         "_deepnote_index_column": "20SomethingsAustin"
        },
        {
         "offensive_comment_count": 7,
         "total_sampled_comments": 45,
         "proportion": 0.15555555555555556,
         "_deepnote_index_column": "2MiddleEast4you"
        }
       ]
      },
      "text/plain": "                    offensive_comment_count  total_sampled_comments  \\\nsubreddit                                                             \n2000sGirls                                4                      13   \n20SomethingsAustin                        1                       4   \n2MiddleEast4you                           7                      45   \n\n                    proportion  \nsubreddit                       \n2000sGirls            0.307692  \n20SomethingsAustin    0.250000  \n2MiddleEast4you       0.155556  ",
      "text/html": "<div>\n<style scoped>\n    .dataframe tbody tr th:only-of-type {\n        vertical-align: middle;\n    }\n\n    .dataframe tbody tr th {\n        vertical-align: top;\n    }\n\n    .dataframe thead th {\n        text-align: right;\n    }\n</style>\n<table border=\"1\" class=\"dataframe\">\n  <thead>\n    <tr style=\"text-align: right;\">\n      <th></th>\n      <th>offensive_comment_count</th>\n      <th>total_sampled_comments</th>\n      <th>proportion</th>\n    </tr>\n    <tr>\n      <th>subreddit</th>\n      <th></th>\n      <th></th>\n      <th></th>\n    </tr>\n  </thead>\n  <tbody>\n    <tr>\n      <th>2000sGirls</th>\n      <td>4</td>\n      <td>13</td>\n      <td>0.307692</td>\n    </tr>\n    <tr>\n      <th>20SomethingsAustin</th>\n      <td>1</td>\n      <td>4</td>\n      <td>0.250000</td>\n    </tr>\n    <tr>\n      <th>2MiddleEast4you</th>\n      <td>7</td>\n      <td>45</td>\n      <td>0.155556</td>\n    </tr>\n  </tbody>\n</table>\n</div>"
     },
     "metadata": {}
    }
   ]
  },
  {
   "cell_type": "code",
   "metadata": {
    "cell_id": "370739c9fc5849578933769f083ace4e",
    "tags": [],
    "deepnote_to_be_reexecuted": false,
    "source_hash": "f18e8bb6",
    "execution_start": 1650765093176,
    "execution_millis": 564,
    "deepnote_cell_type": "code",
    "deepnote_cell_height": 633,
    "deepnote_output_heights": [
     320
    ]
   },
   "source": "label_detoxify_sorted_o = find_toxic_subreddits_detoxify(class_label=1, quantile=0.5, print_subreddit_count=False).sort_values('total_sampled_comments', ascending=False)[:10].sort_values('proportion', ascending=False).reset_index()\nalt.Chart(label_detoxify_sorted_o).mark_bar(color='#f7cd70').encode(\n    x = alt.X('proportion', title='Proportion of Toxic Language',scale = alt.Scale(domain=[0,1])),\n    y=alt.Y('subreddit',sort=['proportion'], title='')\n).properties(\n    title={\n      'text': ['Top Ten Subreddits with a High ', 'Frequency of Offensive Speech'],\n      'subtitle': ['Sorted by Proportion of Toxic Language', 'with Above Average Toxicity Scores' ], \n      'color': 'black',\n      'anchor': 'middle',\n      'fontSize': 15\n    }\n)",
   "execution_count": null,
   "outputs": [
    {
     "output_type": "execute_result",
     "execution_count": 68,
     "data": {
      "text/html": "\n<div id=\"altair-viz-001396471b3f41b89d002d95a73e1f46\"></div>\n<script type=\"text/javascript\">\n  var VEGA_DEBUG = (typeof VEGA_DEBUG == \"undefined\") ? {} : VEGA_DEBUG;\n  (function(spec, embedOpt){\n    let outputDiv = document.currentScript.previousElementSibling;\n    if (outputDiv.id !== \"altair-viz-001396471b3f41b89d002d95a73e1f46\") {\n      outputDiv = document.getElementById(\"altair-viz-001396471b3f41b89d002d95a73e1f46\");\n    }\n    const paths = {\n      \"vega\": \"https://cdn.jsdelivr.net/npm//vega@5?noext\",\n      \"vega-lib\": \"https://cdn.jsdelivr.net/npm//vega-lib?noext\",\n      \"vega-lite\": \"https://cdn.jsdelivr.net/npm//vega-lite@4.17.0?noext\",\n      \"vega-embed\": \"https://cdn.jsdelivr.net/npm//vega-embed@6?noext\",\n    };\n\n    function maybeLoadScript(lib, version) {\n      var key = `${lib.replace(\"-\", \"\")}_version`;\n      return (VEGA_DEBUG[key] == version) ?\n        Promise.resolve(paths[lib]) :\n        new Promise(function(resolve, reject) {\n          var s = document.createElement('script');\n          document.getElementsByTagName(\"head\")[0].appendChild(s);\n          s.async = true;\n          s.onload = () => {\n            VEGA_DEBUG[key] = version;\n            return resolve(paths[lib]);\n          };\n          s.onerror = () => reject(`Error loading script: ${paths[lib]}`);\n          s.src = paths[lib];\n        });\n    }\n\n    function showError(err) {\n      outputDiv.innerHTML = `<div class=\"error\" style=\"color:red;\">${err}</div>`;\n      throw err;\n    }\n\n    function displayChart(vegaEmbed) {\n      vegaEmbed(outputDiv, spec, embedOpt)\n        .catch(err => showError(`Javascript Error: ${err.message}<br>This usually means there's a typo in your chart specification. See the javascript console for the full traceback.`));\n    }\n\n    if(typeof define === \"function\" && define.amd) {\n      requirejs.config({paths});\n      require([\"vega-embed\"], displayChart, err => showError(`Error loading script: ${err.message}`));\n    } else {\n      maybeLoadScript(\"vega\", \"5\")\n        .then(() => maybeLoadScript(\"vega-lite\", \"4.17.0\"))\n        .then(() => maybeLoadScript(\"vega-embed\", \"6\"))\n        .catch(showError)\n        .then(() => displayChart(vegaEmbed));\n    }\n  })({\"config\": {\"view\": {\"continuousWidth\": 400, \"continuousHeight\": 300}}, \"data\": {\"name\": \"data-7b17f41017fa589ea28976d834282652\"}, \"mark\": {\"type\": \"bar\", \"color\": \"#f7cd70\"}, \"encoding\": {\"x\": {\"field\": \"proportion\", \"scale\": {\"domain\": [0, 1]}, \"title\": \"Proportion of Toxic Language\", \"type\": \"quantitative\"}, \"y\": {\"field\": \"subreddit\", \"sort\": [\"proportion\"], \"title\": \"\", \"type\": \"nominal\"}}, \"title\": {\"text\": [\"Top Ten Subreddits with a High \", \"Frequency of Offensive Speech\"], \"subtitle\": [\"Sorted by Proportion of Toxic Language\", \"with Above Average Toxicity Scores\"], \"color\": \"black\", \"anchor\": \"middle\", \"fontSize\": 15}, \"$schema\": \"https://vega.github.io/schema/vega-lite/v4.17.0.json\", \"datasets\": {\"data-7b17f41017fa589ea28976d834282652\": [{\"subreddit\": \"WhatWouldYouDoWithHer\", \"offensive_comment_count\": 305, \"total_sampled_comments\": 656, \"proportion\": 0.4649390243902439}, {\"subreddit\": \"HentaiAndRoleplayy\", \"offensive_comment_count\": 258, \"total_sampled_comments\": 1064, \"proportion\": 0.2424812030075188}, {\"subreddit\": \"mommybully\", \"offensive_comment_count\": 72, \"total_sampled_comments\": 350, \"proportion\": 0.2057142857142857}, {\"subreddit\": \"Cuckik\", \"offensive_comment_count\": 161, \"total_sampled_comments\": 882, \"proportion\": 0.18253968253968253}, {\"subreddit\": \"Slut\", \"offensive_comment_count\": 74, \"total_sampled_comments\": 420, \"proportion\": 0.1761904761904762}, {\"subreddit\": \"Sissies\", \"offensive_comment_count\": 121, \"total_sampled_comments\": 799, \"proportion\": 0.15143929912390489}, {\"subreddit\": \"gothsluts\", \"offensive_comment_count\": 50, \"total_sampled_comments\": 331, \"proportion\": 0.1510574018126888}, {\"subreddit\": \"cumtributes\", \"offensive_comment_count\": 50, \"total_sampled_comments\": 359, \"proportion\": 0.1392757660167131}, {\"subreddit\": \"FemBoys\", \"offensive_comment_count\": 157, \"total_sampled_comments\": 1181, \"proportion\": 0.13293818797629128}, {\"subreddit\": \"jerkbudss\", \"offensive_comment_count\": 42, \"total_sampled_comments\": 336, \"proportion\": 0.125}]}}, {\"mode\": \"vega-lite\"});\n</script>",
      "text/plain": "alt.Chart(...)"
     },
     "metadata": {}
    }
   ]
  },
  {
   "cell_type": "code",
   "metadata": {
    "cell_id": "93848f38c6c04cf1a9273296dd912ac4",
    "tags": [],
    "deepnote_to_be_reexecuted": false,
    "source_hash": "447c25cb",
    "execution_start": 1650764203595,
    "execution_millis": 417,
    "deepnote_cell_type": "code",
    "deepnote_cell_height": 358.20001220703125
   },
   "source": "find_toxic_subreddits_detoxify(class_label=2, quantile=0.5, print_subreddit_count=True).head(3)",
   "execution_count": null,
   "outputs": [
    {
     "name": "stdout",
     "text": "Neither_hate_nor_offensive subreddit count based on Detoxify scores: 1100\n",
     "output_type": "stream"
    },
    {
     "output_type": "execute_result",
     "execution_count": 39,
     "data": {
      "application/vnd.deepnote.dataframe.v3+json": {
       "column_count": 3,
       "row_count": 3,
       "columns": [
        {
         "name": "neither_hate_nor_offensive_comment_count",
         "dtype": "int64",
         "stats": {
          "unique_count": 2,
          "nan_count": 0,
          "min": "1",
          "max": "8",
          "histogram": [
           {
            "bin_start": 1,
            "bin_end": 1.7,
            "count": 2
           },
           {
            "bin_start": 1.7,
            "bin_end": 2.4,
            "count": 0
           },
           {
            "bin_start": 2.4,
            "bin_end": 3.0999999999999996,
            "count": 0
           },
           {
            "bin_start": 3.0999999999999996,
            "bin_end": 3.8,
            "count": 0
           },
           {
            "bin_start": 3.8,
            "bin_end": 4.5,
            "count": 0
           },
           {
            "bin_start": 4.5,
            "bin_end": 5.199999999999999,
            "count": 0
           },
           {
            "bin_start": 5.199999999999999,
            "bin_end": 5.8999999999999995,
            "count": 0
           },
           {
            "bin_start": 5.8999999999999995,
            "bin_end": 6.6,
            "count": 0
           },
           {
            "bin_start": 6.6,
            "bin_end": 7.3,
            "count": 0
           },
           {
            "bin_start": 7.3,
            "bin_end": 8,
            "count": 1
           }
          ]
         }
        },
        {
         "name": "total_sampled_comments",
         "dtype": "int64",
         "stats": {
          "unique_count": 2,
          "nan_count": 0,
          "min": "1",
          "max": "13",
          "histogram": [
           {
            "bin_start": 1,
            "bin_end": 2.2,
            "count": 2
           },
           {
            "bin_start": 2.2,
            "bin_end": 3.4,
            "count": 0
           },
           {
            "bin_start": 3.4,
            "bin_end": 4.6,
            "count": 0
           },
           {
            "bin_start": 4.6,
            "bin_end": 5.8,
            "count": 0
           },
           {
            "bin_start": 5.8,
            "bin_end": 7,
            "count": 0
           },
           {
            "bin_start": 7,
            "bin_end": 8.2,
            "count": 0
           },
           {
            "bin_start": 8.2,
            "bin_end": 9.4,
            "count": 0
           },
           {
            "bin_start": 9.4,
            "bin_end": 10.6,
            "count": 0
           },
           {
            "bin_start": 10.6,
            "bin_end": 11.799999999999999,
            "count": 0
           },
           {
            "bin_start": 11.799999999999999,
            "bin_end": 13,
            "count": 1
           }
          ]
         }
        },
        {
         "name": "proportion",
         "dtype": "float64",
         "stats": {
          "unique_count": 2,
          "nan_count": 0,
          "min": "0.6153846153846154",
          "max": "1.0",
          "histogram": [
           {
            "bin_start": 0.6153846153846154,
            "bin_end": 0.6538461538461539,
            "count": 1
           },
           {
            "bin_start": 0.6538461538461539,
            "bin_end": 0.6923076923076923,
            "count": 0
           },
           {
            "bin_start": 0.6923076923076923,
            "bin_end": 0.7307692307692308,
            "count": 0
           },
           {
            "bin_start": 0.7307692307692308,
            "bin_end": 0.7692307692307693,
            "count": 0
           },
           {
            "bin_start": 0.7692307692307693,
            "bin_end": 0.8076923076923077,
            "count": 0
           },
           {
            "bin_start": 0.8076923076923077,
            "bin_end": 0.8461538461538461,
            "count": 0
           },
           {
            "bin_start": 0.8461538461538461,
            "bin_end": 0.8846153846153846,
            "count": 0
           },
           {
            "bin_start": 0.8846153846153846,
            "bin_end": 0.9230769230769231,
            "count": 0
           },
           {
            "bin_start": 0.9230769230769231,
            "bin_end": 0.9615384615384615,
            "count": 0
           },
           {
            "bin_start": 0.9615384615384615,
            "bin_end": 1,
            "count": 2
           }
          ]
         }
        },
        {
         "name": "_deepnote_index_column",
         "dtype": "object"
        }
       ],
       "rows": [
        {
         "neither_hate_nor_offensive_comment_count": 8,
         "total_sampled_comments": 13,
         "proportion": 0.6153846153846154,
         "_deepnote_index_column": "2000sGirls"
        },
        {
         "neither_hate_nor_offensive_comment_count": 1,
         "total_sampled_comments": 1,
         "proportion": 1,
         "_deepnote_index_column": "5050pics"
        },
        {
         "neither_hate_nor_offensive_comment_count": 1,
         "total_sampled_comments": 1,
         "proportion": 1,
         "_deepnote_index_column": "757sexywives"
        }
       ]
      },
      "text/plain": "              neither_hate_nor_offensive_comment_count  \\\nsubreddit                                                \n2000sGirls                                           8   \n5050pics                                             1   \n757sexywives                                         1   \n\n              total_sampled_comments  proportion  \nsubreddit                                         \n2000sGirls                        13    0.615385  \n5050pics                           1    1.000000  \n757sexywives                       1    1.000000  ",
      "text/html": "<div>\n<style scoped>\n    .dataframe tbody tr th:only-of-type {\n        vertical-align: middle;\n    }\n\n    .dataframe tbody tr th {\n        vertical-align: top;\n    }\n\n    .dataframe thead th {\n        text-align: right;\n    }\n</style>\n<table border=\"1\" class=\"dataframe\">\n  <thead>\n    <tr style=\"text-align: right;\">\n      <th></th>\n      <th>neither_hate_nor_offensive_comment_count</th>\n      <th>total_sampled_comments</th>\n      <th>proportion</th>\n    </tr>\n    <tr>\n      <th>subreddit</th>\n      <th></th>\n      <th></th>\n      <th></th>\n    </tr>\n  </thead>\n  <tbody>\n    <tr>\n      <th>2000sGirls</th>\n      <td>8</td>\n      <td>13</td>\n      <td>0.615385</td>\n    </tr>\n    <tr>\n      <th>5050pics</th>\n      <td>1</td>\n      <td>1</td>\n      <td>1.000000</td>\n    </tr>\n    <tr>\n      <th>757sexywives</th>\n      <td>1</td>\n      <td>1</td>\n      <td>1.000000</td>\n    </tr>\n  </tbody>\n</table>\n</div>"
     },
     "metadata": {}
    }
   ]
  },
  {
   "cell_type": "code",
   "metadata": {
    "cell_id": "37e19ee4efe04df09bf52ec46f88fbaa",
    "tags": [],
    "deepnote_to_be_reexecuted": false,
    "source_hash": "a823eb38",
    "execution_start": 1650765108851,
    "execution_millis": 499,
    "deepnote_cell_type": "code",
    "deepnote_cell_height": 633,
    "deepnote_output_heights": [
     320
    ]
   },
   "source": "label_detoxify_sorted_n = find_toxic_subreddits_detoxify(class_label=2, quantile=0.5, print_subreddit_count=False).sort_values('total_sampled_comments', ascending=False)[:10].sort_values('proportion', ascending=False).reset_index()\nalt.Chart(label_detoxify_sorted_n).mark_bar(color='#63a671').encode(\n    x = alt.X('proportion', title='Proportion of Toxic Language',scale = alt.Scale(domain=[0,1])),\n    y=alt.Y('subreddit',sort=['proportion'], title='')\n).properties(\n    title={\n      'text': ['Top Ten Subreddits with a High ', 'Frequency of Neither Hate nor Offensive Speech'],\n      'subtitle': ['Sorted by Proportion of Toxic Language', 'with Above Average Toxicity Scores' ], \n      'color': 'black',\n      'anchor': 'middle',\n      'fontSize': 15\n    }\n)",
   "execution_count": null,
   "outputs": [
    {
     "output_type": "execute_result",
     "execution_count": 69,
     "data": {
      "text/html": "\n<div id=\"altair-viz-c0a3b396645d4320bfb8114e668dfbac\"></div>\n<script type=\"text/javascript\">\n  var VEGA_DEBUG = (typeof VEGA_DEBUG == \"undefined\") ? {} : VEGA_DEBUG;\n  (function(spec, embedOpt){\n    let outputDiv = document.currentScript.previousElementSibling;\n    if (outputDiv.id !== \"altair-viz-c0a3b396645d4320bfb8114e668dfbac\") {\n      outputDiv = document.getElementById(\"altair-viz-c0a3b396645d4320bfb8114e668dfbac\");\n    }\n    const paths = {\n      \"vega\": \"https://cdn.jsdelivr.net/npm//vega@5?noext\",\n      \"vega-lib\": \"https://cdn.jsdelivr.net/npm//vega-lib?noext\",\n      \"vega-lite\": \"https://cdn.jsdelivr.net/npm//vega-lite@4.17.0?noext\",\n      \"vega-embed\": \"https://cdn.jsdelivr.net/npm//vega-embed@6?noext\",\n    };\n\n    function maybeLoadScript(lib, version) {\n      var key = `${lib.replace(\"-\", \"\")}_version`;\n      return (VEGA_DEBUG[key] == version) ?\n        Promise.resolve(paths[lib]) :\n        new Promise(function(resolve, reject) {\n          var s = document.createElement('script');\n          document.getElementsByTagName(\"head\")[0].appendChild(s);\n          s.async = true;\n          s.onload = () => {\n            VEGA_DEBUG[key] = version;\n            return resolve(paths[lib]);\n          };\n          s.onerror = () => reject(`Error loading script: ${paths[lib]}`);\n          s.src = paths[lib];\n        });\n    }\n\n    function showError(err) {\n      outputDiv.innerHTML = `<div class=\"error\" style=\"color:red;\">${err}</div>`;\n      throw err;\n    }\n\n    function displayChart(vegaEmbed) {\n      vegaEmbed(outputDiv, spec, embedOpt)\n        .catch(err => showError(`Javascript Error: ${err.message}<br>This usually means there's a typo in your chart specification. See the javascript console for the full traceback.`));\n    }\n\n    if(typeof define === \"function\" && define.amd) {\n      requirejs.config({paths});\n      require([\"vega-embed\"], displayChart, err => showError(`Error loading script: ${err.message}`));\n    } else {\n      maybeLoadScript(\"vega\", \"5\")\n        .then(() => maybeLoadScript(\"vega-lite\", \"4.17.0\"))\n        .then(() => maybeLoadScript(\"vega-embed\", \"6\"))\n        .catch(showError)\n        .then(() => displayChart(vegaEmbed));\n    }\n  })({\"config\": {\"view\": {\"continuousWidth\": 400, \"continuousHeight\": 300}}, \"data\": {\"name\": \"data-bd838b9c203fe3262ee56c6fe75bde0f\"}, \"mark\": {\"type\": \"bar\", \"color\": \"#63a671\"}, \"encoding\": {\"x\": {\"field\": \"proportion\", \"scale\": {\"domain\": [0, 1]}, \"title\": \"Proportion of Toxic Language\", \"type\": \"quantitative\"}, \"y\": {\"field\": \"subreddit\", \"sort\": [\"proportion\"], \"title\": \"\", \"type\": \"nominal\"}}, \"title\": {\"text\": [\"Top Ten Subreddits with a High \", \"Frequency of Neither Hate nor Offensive Speech\"], \"subtitle\": [\"Sorted by Proportion of Toxic Language\", \"with Above Average Toxicity Scores\"], \"color\": \"black\", \"anchor\": \"middle\", \"fontSize\": 15}, \"$schema\": \"https://vega.github.io/schema/vega-lite/v4.17.0.json\", \"datasets\": {\"data-bd838b9c203fe3262ee56c6fe75bde0f\": [{\"subreddit\": \"ForcedFeminization\", \"neither_hate_nor_offensive_comment_count\": 61, \"total_sampled_comments\": 75, \"proportion\": 0.8133333333333334}, {\"subreddit\": \"traphentai\", \"neither_hate_nor_offensive_comment_count\": 61, \"total_sampled_comments\": 75, \"proportion\": 0.8133333333333334}, {\"subreddit\": \"Daddy\", \"neither_hate_nor_offensive_comment_count\": 59, \"total_sampled_comments\": 77, \"proportion\": 0.7662337662337663}, {\"subreddit\": \"OnlyIfShesPackin\", \"neither_hate_nor_offensive_comment_count\": 34, \"total_sampled_comments\": 45, \"proportion\": 0.7555555555555555}, {\"subreddit\": \"DadsGoneWild\", \"neither_hate_nor_offensive_comment_count\": 55, \"total_sampled_comments\": 74, \"proportion\": 0.7432432432432432}, {\"subreddit\": \"GayForCelebs\", \"neither_hate_nor_offensive_comment_count\": 58, \"total_sampled_comments\": 82, \"proportion\": 0.7073170731707317}, {\"subreddit\": \"cock\", \"neither_hate_nor_offensive_comment_count\": 78, \"total_sampled_comments\": 111, \"proportion\": 0.7027027027027027}, {\"subreddit\": \"ArianaGrandeLewd\", \"neither_hate_nor_offensive_comment_count\": 66, \"total_sampled_comments\": 96, \"proportion\": 0.6875}, {\"subreddit\": \"Ratemypussy\", \"neither_hate_nor_offensive_comment_count\": 9, \"total_sampled_comments\": 62, \"proportion\": 0.14516129032258066}, {\"subreddit\": \"HairyPussy\", \"neither_hate_nor_offensive_comment_count\": 6, \"total_sampled_comments\": 85, \"proportion\": 0.07058823529411765}]}}, {\"mode\": \"vega-lite\"});\n</script>",
      "text/plain": "alt.Chart(...)"
     },
     "metadata": {}
    }
   ]
  },
  {
   "cell_type": "code",
   "metadata": {
    "cell_id": "72285c753eaa4aea8e9dbe07546d5ef3",
    "tags": [],
    "deepnote_to_be_reexecuted": false,
    "source_hash": "17d88d9d",
    "execution_start": 1650765121936,
    "execution_millis": 1267,
    "deepnote_cell_type": "code",
    "deepnote_cell_height": 331.3999938964844
   },
   "source": "collect_test_statistics(\n    find_toxic_subreddits_detoxify(class_label=0, quantile=0.5, print_subreddit_count=True),\n    find_toxic_subreddits_detoxify(class_label=1, quantile=0.5, print_subreddit_count=True))",
   "execution_count": null,
   "outputs": [
    {
     "name": "stdout",
     "text": "Hate subreddit count based on Detoxify scores: 1687\nOffensive subreddit count based on Detoxify scores: 1359\n",
     "output_type": "stream"
    },
    {
     "output_type": "execute_result",
     "execution_count": 70,
     "data": {
      "application/vnd.deepnote.dataframe.v3+json": {
       "column_count": 5,
       "row_count": 1,
       "columns": [
        {
         "name": "variable",
         "dtype": "object",
         "stats": {
          "unique_count": 1,
          "nan_count": 0,
          "categories": [
           {
            "name": "proportion",
            "count": 1
           }
          ]
         }
        },
        {
         "name": "t-statistic",
         "dtype": "object",
         "stats": {
          "unique_count": 1,
          "nan_count": 0,
          "categories": [
           {
            "name": "-7.95084616164132",
            "count": 1
           }
          ]
         }
        },
        {
         "name": "p-value",
         "dtype": "object",
         "stats": {
          "unique_count": 1,
          "nan_count": 0,
          "categories": [
           {
            "name": "2.6402341515589398e-15",
            "count": 1
           }
          ]
         }
        },
        {
         "name": "H0",
         "dtype": "object",
         "stats": {
          "unique_count": 1,
          "nan_count": 0,
          "categories": [
           {
            "name": "reject",
            "count": 1
           }
          ]
         }
        },
        {
         "name": "variance",
         "dtype": "object",
         "stats": {
          "unique_count": 1,
          "nan_count": 0,
          "categories": [
           {
            "name": "unequal",
            "count": 1
           }
          ]
         }
        },
        {
         "name": "_deepnote_index_column",
         "dtype": "int64"
        }
       ],
       "rows": [
        {
         "variable": "proportion",
         "t-statistic": "-7.95084616164132",
         "p-value": "2.6402341515589398e-15",
         "H0": "reject",
         "variance": "unequal",
         "_deepnote_index_column": 0
        }
       ]
      },
      "text/plain": "     variable t-statistic p-value      H0 variance\n0  proportion   -7.950846     0.0  reject  unequal",
      "text/html": "<div>\n<style scoped>\n    .dataframe tbody tr th:only-of-type {\n        vertical-align: middle;\n    }\n\n    .dataframe tbody tr th {\n        vertical-align: top;\n    }\n\n    .dataframe thead th {\n        text-align: right;\n    }\n</style>\n<table border=\"1\" class=\"dataframe\">\n  <thead>\n    <tr style=\"text-align: right;\">\n      <th></th>\n      <th>variable</th>\n      <th>t-statistic</th>\n      <th>p-value</th>\n      <th>H0</th>\n      <th>variance</th>\n    </tr>\n  </thead>\n  <tbody>\n    <tr>\n      <th>0</th>\n      <td>proportion</td>\n      <td>-7.950846</td>\n      <td>0.0</td>\n      <td>reject</td>\n      <td>unequal</td>\n    </tr>\n  </tbody>\n</table>\n</div>"
     },
     "metadata": {}
    }
   ]
  },
  {
   "cell_type": "code",
   "metadata": {
    "cell_id": "05b55c71f9ac45eda1cb81a337ba7804",
    "tags": [],
    "deepnote_to_be_reexecuted": false,
    "source_hash": "f9759287",
    "execution_start": 1650765123212,
    "execution_millis": 1862,
    "deepnote_cell_type": "code",
    "deepnote_cell_height": 331.3999938964844
   },
   "source": "collect_test_statistics(\n    find_toxic_subreddits_detoxify(class_label=0, quantile=0.5, print_subreddit_count=True),\n    find_toxic_subreddits_detoxify(class_label=2, quantile=0.5, print_subreddit_count=True))",
   "execution_count": null,
   "outputs": [
    {
     "name": "stdout",
     "text": "Hate subreddit count based on Detoxify scores: 1687\nNeither_hate_nor_offensive subreddit count based on Detoxify scores: 1100\n",
     "output_type": "stream"
    },
    {
     "output_type": "execute_result",
     "execution_count": 71,
     "data": {
      "application/vnd.deepnote.dataframe.v3+json": {
       "column_count": 5,
       "row_count": 1,
       "columns": [
        {
         "name": "variable",
         "dtype": "object",
         "stats": {
          "unique_count": 1,
          "nan_count": 0,
          "categories": [
           {
            "name": "proportion",
            "count": 1
           }
          ]
         }
        },
        {
         "name": "t-statistic",
         "dtype": "object",
         "stats": {
          "unique_count": 1,
          "nan_count": 0,
          "categories": [
           {
            "name": "-32.92046731852169",
            "count": 1
           }
          ]
         }
        },
        {
         "name": "p-value",
         "dtype": "object",
         "stats": {
          "unique_count": 1,
          "nan_count": 0,
          "categories": [
           {
            "name": "3.906488902067436e-200",
            "count": 1
           }
          ]
         }
        },
        {
         "name": "H0",
         "dtype": "object",
         "stats": {
          "unique_count": 1,
          "nan_count": 0,
          "categories": [
           {
            "name": "reject",
            "count": 1
           }
          ]
         }
        },
        {
         "name": "variance",
         "dtype": "object",
         "stats": {
          "unique_count": 1,
          "nan_count": 0,
          "categories": [
           {
            "name": "unequal",
            "count": 1
           }
          ]
         }
        },
        {
         "name": "_deepnote_index_column",
         "dtype": "int64"
        }
       ],
       "rows": [
        {
         "variable": "proportion",
         "t-statistic": "-32.92046731852169",
         "p-value": "3.906488902067436e-200",
         "H0": "reject",
         "variance": "unequal",
         "_deepnote_index_column": 0
        }
       ]
      },
      "text/plain": "     variable t-statistic p-value      H0 variance\n0  proportion  -32.920467     0.0  reject  unequal",
      "text/html": "<div>\n<style scoped>\n    .dataframe tbody tr th:only-of-type {\n        vertical-align: middle;\n    }\n\n    .dataframe tbody tr th {\n        vertical-align: top;\n    }\n\n    .dataframe thead th {\n        text-align: right;\n    }\n</style>\n<table border=\"1\" class=\"dataframe\">\n  <thead>\n    <tr style=\"text-align: right;\">\n      <th></th>\n      <th>variable</th>\n      <th>t-statistic</th>\n      <th>p-value</th>\n      <th>H0</th>\n      <th>variance</th>\n    </tr>\n  </thead>\n  <tbody>\n    <tr>\n      <th>0</th>\n      <td>proportion</td>\n      <td>-32.920467</td>\n      <td>0.0</td>\n      <td>reject</td>\n      <td>unequal</td>\n    </tr>\n  </tbody>\n</table>\n</div>"
     },
     "metadata": {}
    }
   ]
  },
  {
   "cell_type": "code",
   "metadata": {
    "cell_id": "f412a410e43144a58450d3350eb4cc1f",
    "tags": [],
    "deepnote_to_be_reexecuted": false,
    "source_hash": "905982a1",
    "execution_start": 1650765124295,
    "execution_millis": 976,
    "deepnote_cell_type": "code",
    "deepnote_cell_height": 331.3999938964844
   },
   "source": "collect_test_statistics(\n    find_toxic_subreddits_detoxify(class_label=1, quantile=0.5, print_subreddit_count=True),\n    find_toxic_subreddits_detoxify(class_label=2, quantile=0.5, print_subreddit_count=True))",
   "execution_count": null,
   "outputs": [
    {
     "name": "stdout",
     "text": "Offensive subreddit count based on Detoxify scores: 1359\nNeither_hate_nor_offensive subreddit count based on Detoxify scores: 1100\n",
     "output_type": "stream"
    },
    {
     "output_type": "execute_result",
     "execution_count": 72,
     "data": {
      "application/vnd.deepnote.dataframe.v3+json": {
       "column_count": 5,
       "row_count": 1,
       "columns": [
        {
         "name": "variable",
         "dtype": "object",
         "stats": {
          "unique_count": 1,
          "nan_count": 0,
          "categories": [
           {
            "name": "proportion",
            "count": 1
           }
          ]
         }
        },
        {
         "name": "t-statistic",
         "dtype": "object",
         "stats": {
          "unique_count": 1,
          "nan_count": 0,
          "categories": [
           {
            "name": "-22.368015385053805",
            "count": 1
           }
          ]
         }
        },
        {
         "name": "p-value",
         "dtype": "object",
         "stats": {
          "unique_count": 1,
          "nan_count": 0,
          "categories": [
           {
            "name": "5.618216009317972e-101",
            "count": 1
           }
          ]
         }
        },
        {
         "name": "H0",
         "dtype": "object",
         "stats": {
          "unique_count": 1,
          "nan_count": 0,
          "categories": [
           {
            "name": "reject",
            "count": 1
           }
          ]
         }
        },
        {
         "name": "variance",
         "dtype": "object",
         "stats": {
          "unique_count": 1,
          "nan_count": 0,
          "categories": [
           {
            "name": "unequal",
            "count": 1
           }
          ]
         }
        },
        {
         "name": "_deepnote_index_column",
         "dtype": "int64"
        }
       ],
       "rows": [
        {
         "variable": "proportion",
         "t-statistic": "-22.368015385053805",
         "p-value": "5.618216009317972e-101",
         "H0": "reject",
         "variance": "unequal",
         "_deepnote_index_column": 0
        }
       ]
      },
      "text/plain": "     variable t-statistic p-value      H0 variance\n0  proportion  -22.368015     0.0  reject  unequal",
      "text/html": "<div>\n<style scoped>\n    .dataframe tbody tr th:only-of-type {\n        vertical-align: middle;\n    }\n\n    .dataframe tbody tr th {\n        vertical-align: top;\n    }\n\n    .dataframe thead th {\n        text-align: right;\n    }\n</style>\n<table border=\"1\" class=\"dataframe\">\n  <thead>\n    <tr style=\"text-align: right;\">\n      <th></th>\n      <th>variable</th>\n      <th>t-statistic</th>\n      <th>p-value</th>\n      <th>H0</th>\n      <th>variance</th>\n    </tr>\n  </thead>\n  <tbody>\n    <tr>\n      <th>0</th>\n      <td>proportion</td>\n      <td>-22.368015</td>\n      <td>0.0</td>\n      <td>reject</td>\n      <td>unequal</td>\n    </tr>\n  </tbody>\n</table>\n</div>"
     },
     "metadata": {}
    }
   ]
  },
  {
   "cell_type": "markdown",
   "source": "#### Initiate find_toxic_subreddits_class_label function\n\nSimilar to the above function, this function extracts those subreddits based on their classification label as 'hate' or 'offensive' instead of toxicity scores, and without taking into account gendered language. The quantile parameter again allows the user to set a minimum threshold, in this case the proportion of hate or offensive comments in each subreddit. Subreddits beginning with \"u_\" are user profiles where only the user can make submissions, and therefore been removed from the analysis.",
   "metadata": {
    "cell_id": "15442f8fc032445bb95bfdc024d56ee1",
    "tags": [],
    "deepnote_cell_type": "markdown",
    "deepnote_cell_height": 155.60000610351562
   }
  },
  {
   "cell_type": "code",
   "metadata": {
    "cell_id": "84bc745bb99d44d8b1d9560acfb528f9",
    "tags": [],
    "deepnote_to_be_reexecuted": false,
    "source_hash": "12cc5c35",
    "execution_start": 1650765129546,
    "execution_millis": 2,
    "deepnote_cell_type": "code",
    "deepnote_cell_height": 603
   },
   "source": "def find_toxic_subreddits_class_label(class_label=0, print_subreddit_count=True):\n    \n    filtered_c = c.drop(c[c.subreddit.str.contains('^u_', regex=True)==True].index)\n    toxic_subreddit_count = filtered_c[filtered_c.davidson_label == class_label]\n    \n    toxic_subreddit_count = toxic_subreddit_count.groupby('subreddit').count().body\n    \n    subreddits_count = filtered_c.groupby('subreddit').count().body\n    \n    if class_label==0:\n        label='hate'\n    elif class_label==1:\n        label='offensive'\n    else:\n        label='neither_hate_nor_offensive'\n        \n    df = pd.DataFrame(columns=[label+'_comment_count'])\n    \n    df[label+'_comment_count']=toxic_subreddit_count\n    \n    df['total_sampled_comments']=subreddits_count\n    \n    df['proportion']=toxic_subreddit_count/subreddits_count\n\n    if print_subreddit_count == True:\n        print(label.capitalize()+' subreddit count without Detoxify scores: '+str(len(df)))\n    \n    return df\n\n",
   "execution_count": null,
   "outputs": []
  },
  {
   "cell_type": "code",
   "metadata": {
    "cell_id": "684f7864900540d5b1da42cfb1bafa01",
    "tags": [],
    "deepnote_to_be_reexecuted": false,
    "source_hash": "c73fa0a4",
    "execution_start": 1650765130014,
    "execution_millis": 726,
    "deepnote_cell_type": "code",
    "deepnote_cell_height": 358.20001220703125
   },
   "source": "find_toxic_subreddits_class_label(class_label=0, print_subreddit_count=True).head(3)",
   "execution_count": null,
   "outputs": [
    {
     "name": "stdout",
     "text": "Hate subreddit count without Detoxify scores: 3284\n",
     "output_type": "stream"
    },
    {
     "output_type": "execute_result",
     "execution_count": 74,
     "data": {
      "application/vnd.deepnote.dataframe.v3+json": {
       "column_count": 3,
       "row_count": 3,
       "columns": [
        {
         "name": "hate_comment_count",
         "dtype": "int64",
         "stats": {
          "unique_count": 2,
          "nan_count": 0,
          "min": "1",
          "max": "2",
          "histogram": [
           {
            "bin_start": 1,
            "bin_end": 1.1,
            "count": 2
           },
           {
            "bin_start": 1.1,
            "bin_end": 1.2,
            "count": 0
           },
           {
            "bin_start": 1.2,
            "bin_end": 1.3,
            "count": 0
           },
           {
            "bin_start": 1.3,
            "bin_end": 1.4,
            "count": 0
           },
           {
            "bin_start": 1.4,
            "bin_end": 1.5,
            "count": 0
           },
           {
            "bin_start": 1.5,
            "bin_end": 1.6,
            "count": 0
           },
           {
            "bin_start": 1.6,
            "bin_end": 1.7000000000000002,
            "count": 0
           },
           {
            "bin_start": 1.7000000000000002,
            "bin_end": 1.8,
            "count": 0
           },
           {
            "bin_start": 1.8,
            "bin_end": 1.9,
            "count": 0
           },
           {
            "bin_start": 1.9,
            "bin_end": 2,
            "count": 1
           }
          ]
         }
        },
        {
         "name": "total_sampled_comments",
         "dtype": "int64",
         "stats": {
          "unique_count": 3,
          "nan_count": 0,
          "min": "1",
          "max": "5",
          "histogram": [
           {
            "bin_start": 1,
            "bin_end": 1.4,
            "count": 1
           },
           {
            "bin_start": 1.4,
            "bin_end": 1.8,
            "count": 0
           },
           {
            "bin_start": 1.8,
            "bin_end": 2.2,
            "count": 1
           },
           {
            "bin_start": 2.2,
            "bin_end": 2.6,
            "count": 0
           },
           {
            "bin_start": 2.6,
            "bin_end": 3,
            "count": 0
           },
           {
            "bin_start": 3,
            "bin_end": 3.4000000000000004,
            "count": 0
           },
           {
            "bin_start": 3.4000000000000004,
            "bin_end": 3.8000000000000003,
            "count": 0
           },
           {
            "bin_start": 3.8000000000000003,
            "bin_end": 4.2,
            "count": 0
           },
           {
            "bin_start": 4.2,
            "bin_end": 4.6,
            "count": 0
           },
           {
            "bin_start": 4.6,
            "bin_end": 5,
            "count": 1
           }
          ]
         }
        },
        {
         "name": "proportion",
         "dtype": "float64",
         "stats": {
          "unique_count": 3,
          "nan_count": 0,
          "min": "0.4",
          "max": "1.0",
          "histogram": [
           {
            "bin_start": 0.4,
            "bin_end": 0.46,
            "count": 1
           },
           {
            "bin_start": 0.46,
            "bin_end": 0.52,
            "count": 1
           },
           {
            "bin_start": 0.52,
            "bin_end": 0.5800000000000001,
            "count": 0
           },
           {
            "bin_start": 0.5800000000000001,
            "bin_end": 0.64,
            "count": 0
           },
           {
            "bin_start": 0.64,
            "bin_end": 0.7,
            "count": 0
           },
           {
            "bin_start": 0.7,
            "bin_end": 0.76,
            "count": 0
           },
           {
            "bin_start": 0.76,
            "bin_end": 0.8200000000000001,
            "count": 0
           },
           {
            "bin_start": 0.8200000000000001,
            "bin_end": 0.88,
            "count": 0
           },
           {
            "bin_start": 0.88,
            "bin_end": 0.9400000000000001,
            "count": 0
           },
           {
            "bin_start": 0.9400000000000001,
            "bin_end": 1,
            "count": 1
           }
          ]
         }
        },
        {
         "name": "_deepnote_index_column",
         "dtype": "object"
        }
       ],
       "rows": [
        {
         "hate_comment_count": 1,
         "total_sampled_comments": 2,
         "proportion": 0.5,
         "_deepnote_index_column": "1200Australia"
        },
        {
         "hate_comment_count": 1,
         "total_sampled_comments": 1,
         "proportion": 1,
         "_deepnote_index_column": "21stCenturyHumour"
        },
        {
         "hate_comment_count": 2,
         "total_sampled_comments": 5,
         "proportion": 0.4,
         "_deepnote_index_column": "2ALiberals"
        }
       ]
      },
      "text/plain": "                   hate_comment_count  total_sampled_comments  proportion\nsubreddit                                                                \n1200Australia                       1                       2         0.5\n21stCenturyHumour                   1                       1         1.0\n2ALiberals                          2                       5         0.4",
      "text/html": "<div>\n<style scoped>\n    .dataframe tbody tr th:only-of-type {\n        vertical-align: middle;\n    }\n\n    .dataframe tbody tr th {\n        vertical-align: top;\n    }\n\n    .dataframe thead th {\n        text-align: right;\n    }\n</style>\n<table border=\"1\" class=\"dataframe\">\n  <thead>\n    <tr style=\"text-align: right;\">\n      <th></th>\n      <th>hate_comment_count</th>\n      <th>total_sampled_comments</th>\n      <th>proportion</th>\n    </tr>\n    <tr>\n      <th>subreddit</th>\n      <th></th>\n      <th></th>\n      <th></th>\n    </tr>\n  </thead>\n  <tbody>\n    <tr>\n      <th>1200Australia</th>\n      <td>1</td>\n      <td>2</td>\n      <td>0.5</td>\n    </tr>\n    <tr>\n      <th>21stCenturyHumour</th>\n      <td>1</td>\n      <td>1</td>\n      <td>1.0</td>\n    </tr>\n    <tr>\n      <th>2ALiberals</th>\n      <td>2</td>\n      <td>5</td>\n      <td>0.4</td>\n    </tr>\n  </tbody>\n</table>\n</div>"
     },
     "metadata": {}
    }
   ]
  },
  {
   "cell_type": "code",
   "metadata": {
    "cell_id": "219a46881fc449d48ec0437871a31180",
    "tags": [],
    "deepnote_to_be_reexecuted": false,
    "source_hash": "da597a46",
    "execution_start": 1650765510988,
    "execution_millis": 980,
    "deepnote_cell_type": "code",
    "deepnote_cell_height": 587,
    "deepnote_output_heights": [
     292
    ]
   },
   "source": "label_sorted_h = find_toxic_subreddits_class_label(class_label=0, print_subreddit_count=False).sort_values('total_sampled_comments', ascending=False)[:10].sort_values('proportion', ascending=False).reset_index()\nalt.Chart(label_sorted_h).mark_bar(color='#f2a3b6').encode(\n    x = alt.X('proportion', title='Proportion of Toxic Language',scale = alt.Scale(domain=[0,1])),\n    y=alt.Y('subreddit',sort=['proportion'], title='')\n).properties(\n    title={\n      'text': ['Top Ten Largest Sampled Subreddits (Most Comments) ', 'with Highest Proportions of Hate Speech'],\n      'color': 'black',\n      'anchor': 'middle',\n      'fontSize': 15\n    }\n)",
   "execution_count": null,
   "outputs": [
    {
     "output_type": "execute_result",
     "execution_count": 90,
     "data": {
      "text/html": "\n<div id=\"altair-viz-abe228bffa274c369d6678af8292f216\"></div>\n<script type=\"text/javascript\">\n  var VEGA_DEBUG = (typeof VEGA_DEBUG == \"undefined\") ? {} : VEGA_DEBUG;\n  (function(spec, embedOpt){\n    let outputDiv = document.currentScript.previousElementSibling;\n    if (outputDiv.id !== \"altair-viz-abe228bffa274c369d6678af8292f216\") {\n      outputDiv = document.getElementById(\"altair-viz-abe228bffa274c369d6678af8292f216\");\n    }\n    const paths = {\n      \"vega\": \"https://cdn.jsdelivr.net/npm//vega@5?noext\",\n      \"vega-lib\": \"https://cdn.jsdelivr.net/npm//vega-lib?noext\",\n      \"vega-lite\": \"https://cdn.jsdelivr.net/npm//vega-lite@4.17.0?noext\",\n      \"vega-embed\": \"https://cdn.jsdelivr.net/npm//vega-embed@6?noext\",\n    };\n\n    function maybeLoadScript(lib, version) {\n      var key = `${lib.replace(\"-\", \"\")}_version`;\n      return (VEGA_DEBUG[key] == version) ?\n        Promise.resolve(paths[lib]) :\n        new Promise(function(resolve, reject) {\n          var s = document.createElement('script');\n          document.getElementsByTagName(\"head\")[0].appendChild(s);\n          s.async = true;\n          s.onload = () => {\n            VEGA_DEBUG[key] = version;\n            return resolve(paths[lib]);\n          };\n          s.onerror = () => reject(`Error loading script: ${paths[lib]}`);\n          s.src = paths[lib];\n        });\n    }\n\n    function showError(err) {\n      outputDiv.innerHTML = `<div class=\"error\" style=\"color:red;\">${err}</div>`;\n      throw err;\n    }\n\n    function displayChart(vegaEmbed) {\n      vegaEmbed(outputDiv, spec, embedOpt)\n        .catch(err => showError(`Javascript Error: ${err.message}<br>This usually means there's a typo in your chart specification. See the javascript console for the full traceback.`));\n    }\n\n    if(typeof define === \"function\" && define.amd) {\n      requirejs.config({paths});\n      require([\"vega-embed\"], displayChart, err => showError(`Error loading script: ${err.message}`));\n    } else {\n      maybeLoadScript(\"vega\", \"5\")\n        .then(() => maybeLoadScript(\"vega-lite\", \"4.17.0\"))\n        .then(() => maybeLoadScript(\"vega-embed\", \"6\"))\n        .catch(showError)\n        .then(() => displayChart(vegaEmbed));\n    }\n  })({\"config\": {\"view\": {\"continuousWidth\": 400, \"continuousHeight\": 300}}, \"data\": {\"name\": \"data-490601f7864f2dac95b85c080091c86a\"}, \"mark\": {\"type\": \"bar\", \"color\": \"#f2a3b6\"}, \"encoding\": {\"x\": {\"field\": \"proportion\", \"scale\": {\"domain\": [0, 1]}, \"title\": \"Proportion of Toxic Language\", \"type\": \"quantitative\"}, \"y\": {\"field\": \"subreddit\", \"sort\": [\"proportion\"], \"title\": \"\", \"type\": \"nominal\"}}, \"title\": {\"text\": [\"Top Ten Largest Sampled Subreddits (Most Comments) \", \"with Highest Proportions of Hate Speech\"], \"color\": \"black\", \"anchor\": \"middle\", \"fontSize\": 15}, \"$schema\": \"https://vega.github.io/schema/vega-lite/v4.17.0.json\", \"datasets\": {\"data-490601f7864f2dac95b85c080091c86a\": [{\"subreddit\": \"PublicFreakout\", \"hate_comment_count\": 1257, \"total_sampled_comments\": 3358, \"proportion\": 0.37432995830851695}, {\"subreddit\": \"antiwork\", \"hate_comment_count\": 631, \"total_sampled_comments\": 1975, \"proportion\": 0.31949367088607594}, {\"subreddit\": \"soccer\", \"hate_comment_count\": 644, \"total_sampled_comments\": 2136, \"proportion\": 0.301498127340824}, {\"subreddit\": \"MisogynisticLife\", \"hate_comment_count\": 648, \"total_sampled_comments\": 2875, \"proportion\": 0.2253913043478261}, {\"subreddit\": \"DegradingHoles\", \"hate_comment_count\": 464, \"total_sampled_comments\": 2067, \"proportion\": 0.22447992259313013}, {\"subreddit\": \"rapefantasies\", \"hate_comment_count\": 1391, \"total_sampled_comments\": 7050, \"proportion\": 0.1973049645390071}, {\"subreddit\": \"Cricket\", \"hate_comment_count\": 352, \"total_sampled_comments\": 2015, \"proportion\": 0.17468982630272953}, {\"subreddit\": \"AskReddit\", \"hate_comment_count\": 1047, \"total_sampled_comments\": 6289, \"proportion\": 0.16648115757672127}, {\"subreddit\": \"IWantToBeHerHentai2\", \"hate_comment_count\": 321, \"total_sampled_comments\": 3145, \"proportion\": 0.10206677265500795}, {\"subreddit\": \"SluttyConfessions\", \"hate_comment_count\": 183, \"total_sampled_comments\": 2216, \"proportion\": 0.0825812274368231}]}}, {\"mode\": \"vega-lite\"});\n</script>",
      "text/plain": "alt.Chart(...)"
     },
     "metadata": {}
    }
   ]
  },
  {
   "cell_type": "code",
   "metadata": {
    "cell_id": "6a8bbeaea25c48acb30d64bf2c8d3372",
    "tags": [],
    "deepnote_to_be_reexecuted": false,
    "source_hash": "ce9548d0",
    "execution_start": 1650765513557,
    "execution_millis": 1157,
    "deepnote_cell_type": "code",
    "deepnote_cell_height": 358.20001220703125
   },
   "source": "find_toxic_subreddits_class_label(class_label=1, print_subreddit_count=True).head(3)",
   "execution_count": null,
   "outputs": [
    {
     "name": "stdout",
     "text": "Offensive subreddit count without Detoxify scores: 7588\n",
     "output_type": "stream"
    },
    {
     "output_type": "execute_result",
     "execution_count": 91,
     "data": {
      "application/vnd.deepnote.dataframe.v3+json": {
       "column_count": 3,
       "row_count": 3,
       "columns": [
        {
         "name": "offensive_comment_count",
         "dtype": "int64",
         "stats": {
          "unique_count": 2,
          "nan_count": 0,
          "min": "1",
          "max": "11",
          "histogram": [
           {
            "bin_start": 1,
            "bin_end": 2,
            "count": 2
           },
           {
            "bin_start": 2,
            "bin_end": 3,
            "count": 0
           },
           {
            "bin_start": 3,
            "bin_end": 4,
            "count": 0
           },
           {
            "bin_start": 4,
            "bin_end": 5,
            "count": 0
           },
           {
            "bin_start": 5,
            "bin_end": 6,
            "count": 0
           },
           {
            "bin_start": 6,
            "bin_end": 7,
            "count": 0
           },
           {
            "bin_start": 7,
            "bin_end": 8,
            "count": 0
           },
           {
            "bin_start": 8,
            "bin_end": 9,
            "count": 0
           },
           {
            "bin_start": 9,
            "bin_end": 10,
            "count": 0
           },
           {
            "bin_start": 10,
            "bin_end": 11,
            "count": 1
           }
          ]
         }
        },
        {
         "name": "total_sampled_comments",
         "dtype": "int64",
         "stats": {
          "unique_count": 2,
          "nan_count": 0,
          "min": "2",
          "max": "31",
          "histogram": [
           {
            "bin_start": 2,
            "bin_end": 4.9,
            "count": 2
           },
           {
            "bin_start": 4.9,
            "bin_end": 7.8,
            "count": 0
           },
           {
            "bin_start": 7.8,
            "bin_end": 10.7,
            "count": 0
           },
           {
            "bin_start": 10.7,
            "bin_end": 13.6,
            "count": 0
           },
           {
            "bin_start": 13.6,
            "bin_end": 16.5,
            "count": 0
           },
           {
            "bin_start": 16.5,
            "bin_end": 19.4,
            "count": 0
           },
           {
            "bin_start": 19.4,
            "bin_end": 22.3,
            "count": 0
           },
           {
            "bin_start": 22.3,
            "bin_end": 25.2,
            "count": 0
           },
           {
            "bin_start": 25.2,
            "bin_end": 28.099999999999998,
            "count": 0
           },
           {
            "bin_start": 28.099999999999998,
            "bin_end": 31,
            "count": 1
           }
          ]
         }
        },
        {
         "name": "proportion",
         "dtype": "float64",
         "stats": {
          "unique_count": 2,
          "nan_count": 0,
          "min": "0.3548387096774194",
          "max": "0.5",
          "histogram": [
           {
            "bin_start": 0.3548387096774194,
            "bin_end": 0.36935483870967745,
            "count": 1
           },
           {
            "bin_start": 0.36935483870967745,
            "bin_end": 0.3838709677419355,
            "count": 0
           },
           {
            "bin_start": 0.3838709677419355,
            "bin_end": 0.3983870967741936,
            "count": 0
           },
           {
            "bin_start": 0.3983870967741936,
            "bin_end": 0.4129032258064516,
            "count": 0
           },
           {
            "bin_start": 0.4129032258064516,
            "bin_end": 0.4274193548387097,
            "count": 0
           },
           {
            "bin_start": 0.4274193548387097,
            "bin_end": 0.44193548387096776,
            "count": 0
           },
           {
            "bin_start": 0.44193548387096776,
            "bin_end": 0.45645161290322583,
            "count": 0
           },
           {
            "bin_start": 0.45645161290322583,
            "bin_end": 0.47096774193548385,
            "count": 0
           },
           {
            "bin_start": 0.47096774193548385,
            "bin_end": 0.4854838709677419,
            "count": 0
           },
           {
            "bin_start": 0.4854838709677419,
            "bin_end": 0.5,
            "count": 2
           }
          ]
         }
        },
        {
         "name": "_deepnote_index_column",
         "dtype": "object"
        }
       ],
       "rows": [
        {
         "offensive_comment_count": 11,
         "total_sampled_comments": 31,
         "proportion": 0.3548387096774194,
         "_deepnote_index_column": "1000lbsisters"
        },
        {
         "offensive_comment_count": 1,
         "total_sampled_comments": 2,
         "proportion": 0.5,
         "_deepnote_index_column": "1200Australia"
        },
        {
         "offensive_comment_count": 1,
         "total_sampled_comments": 2,
         "proportion": 0.5,
         "_deepnote_index_column": "13ReasonsWhy"
        }
       ]
      },
      "text/plain": "               offensive_comment_count  total_sampled_comments  proportion\nsubreddit                                                                 \n1000lbsisters                       11                      31    0.354839\n1200Australia                        1                       2    0.500000\n13ReasonsWhy                         1                       2    0.500000",
      "text/html": "<div>\n<style scoped>\n    .dataframe tbody tr th:only-of-type {\n        vertical-align: middle;\n    }\n\n    .dataframe tbody tr th {\n        vertical-align: top;\n    }\n\n    .dataframe thead th {\n        text-align: right;\n    }\n</style>\n<table border=\"1\" class=\"dataframe\">\n  <thead>\n    <tr style=\"text-align: right;\">\n      <th></th>\n      <th>offensive_comment_count</th>\n      <th>total_sampled_comments</th>\n      <th>proportion</th>\n    </tr>\n    <tr>\n      <th>subreddit</th>\n      <th></th>\n      <th></th>\n      <th></th>\n    </tr>\n  </thead>\n  <tbody>\n    <tr>\n      <th>1000lbsisters</th>\n      <td>11</td>\n      <td>31</td>\n      <td>0.354839</td>\n    </tr>\n    <tr>\n      <th>1200Australia</th>\n      <td>1</td>\n      <td>2</td>\n      <td>0.500000</td>\n    </tr>\n    <tr>\n      <th>13ReasonsWhy</th>\n      <td>1</td>\n      <td>2</td>\n      <td>0.500000</td>\n    </tr>\n  </tbody>\n</table>\n</div>"
     },
     "metadata": {}
    }
   ]
  },
  {
   "cell_type": "code",
   "metadata": {
    "cell_id": "6963cd838b47421a83521836fb924a9f",
    "tags": [],
    "deepnote_to_be_reexecuted": false,
    "source_hash": "b39d3094",
    "execution_start": 1650765514378,
    "execution_millis": 709,
    "deepnote_cell_type": "code",
    "deepnote_cell_height": 587,
    "deepnote_output_heights": [
     292
    ]
   },
   "source": "label_sorted_o = find_toxic_subreddits_class_label(class_label=1, print_subreddit_count=False).sort_values('total_sampled_comments', ascending=False)[:10].sort_values('proportion', ascending=False).reset_index()\nalt.Chart(label_sorted_o).mark_bar(color='#f7cd70').encode(\n    x = alt.X('proportion', title='Proportion of Toxic Language',scale = alt.Scale(domain=[0,1])),\n    y=alt.Y('subreddit',sort=['proportion'], title='')\n).properties(\n    title={\n      'text': ['Top Ten Largest Sampled Subreddits (Most Comments) ', 'with Highest Proportions of Offensive Speech'],\n      'color': 'black',\n      'anchor': 'middle',\n      'fontSize': 15\n    }\n)",
   "execution_count": null,
   "outputs": [
    {
     "output_type": "execute_result",
     "execution_count": 92,
     "data": {
      "text/html": "\n<div id=\"altair-viz-2da319f5e0fb482796487eead98f6058\"></div>\n<script type=\"text/javascript\">\n  var VEGA_DEBUG = (typeof VEGA_DEBUG == \"undefined\") ? {} : VEGA_DEBUG;\n  (function(spec, embedOpt){\n    let outputDiv = document.currentScript.previousElementSibling;\n    if (outputDiv.id !== \"altair-viz-2da319f5e0fb482796487eead98f6058\") {\n      outputDiv = document.getElementById(\"altair-viz-2da319f5e0fb482796487eead98f6058\");\n    }\n    const paths = {\n      \"vega\": \"https://cdn.jsdelivr.net/npm//vega@5?noext\",\n      \"vega-lib\": \"https://cdn.jsdelivr.net/npm//vega-lib?noext\",\n      \"vega-lite\": \"https://cdn.jsdelivr.net/npm//vega-lite@4.17.0?noext\",\n      \"vega-embed\": \"https://cdn.jsdelivr.net/npm//vega-embed@6?noext\",\n    };\n\n    function maybeLoadScript(lib, version) {\n      var key = `${lib.replace(\"-\", \"\")}_version`;\n      return (VEGA_DEBUG[key] == version) ?\n        Promise.resolve(paths[lib]) :\n        new Promise(function(resolve, reject) {\n          var s = document.createElement('script');\n          document.getElementsByTagName(\"head\")[0].appendChild(s);\n          s.async = true;\n          s.onload = () => {\n            VEGA_DEBUG[key] = version;\n            return resolve(paths[lib]);\n          };\n          s.onerror = () => reject(`Error loading script: ${paths[lib]}`);\n          s.src = paths[lib];\n        });\n    }\n\n    function showError(err) {\n      outputDiv.innerHTML = `<div class=\"error\" style=\"color:red;\">${err}</div>`;\n      throw err;\n    }\n\n    function displayChart(vegaEmbed) {\n      vegaEmbed(outputDiv, spec, embedOpt)\n        .catch(err => showError(`Javascript Error: ${err.message}<br>This usually means there's a typo in your chart specification. See the javascript console for the full traceback.`));\n    }\n\n    if(typeof define === \"function\" && define.amd) {\n      requirejs.config({paths});\n      require([\"vega-embed\"], displayChart, err => showError(`Error loading script: ${err.message}`));\n    } else {\n      maybeLoadScript(\"vega\", \"5\")\n        .then(() => maybeLoadScript(\"vega-lite\", \"4.17.0\"))\n        .then(() => maybeLoadScript(\"vega-embed\", \"6\"))\n        .catch(showError)\n        .then(() => displayChart(vegaEmbed));\n    }\n  })({\"config\": {\"view\": {\"continuousWidth\": 400, \"continuousHeight\": 300}}, \"data\": {\"name\": \"data-18c09b10b90d20ac63b165d5e9898225\"}, \"mark\": {\"type\": \"bar\", \"color\": \"#f7cd70\"}, \"encoding\": {\"x\": {\"field\": \"proportion\", \"scale\": {\"domain\": [0, 1]}, \"title\": \"Proportion of Toxic Language\", \"type\": \"quantitative\"}, \"y\": {\"field\": \"subreddit\", \"sort\": [\"proportion\"], \"title\": \"\", \"type\": \"nominal\"}}, \"title\": {\"text\": [\"Top Ten Largest Sampled Subreddits (Most Comments) \", \"with Highest Proportions of Offensive Speech\"], \"color\": \"black\", \"anchor\": \"middle\", \"fontSize\": 15}, \"$schema\": \"https://vega.github.io/schema/vega-lite/v4.17.0.json\", \"datasets\": {\"data-18c09b10b90d20ac63b165d5e9898225\": [{\"subreddit\": \"soccer\", \"offensive_comment_count\": 1303, \"total_sampled_comments\": 2136, \"proportion\": 0.6100187265917603}, {\"subreddit\": \"PublicFreakout\", \"offensive_comment_count\": 1801, \"total_sampled_comments\": 3358, \"proportion\": 0.5363311494937463}, {\"subreddit\": \"antiwork\", \"offensive_comment_count\": 1031, \"total_sampled_comments\": 1975, \"proportion\": 0.5220253164556962}, {\"subreddit\": \"Cricket\", \"offensive_comment_count\": 855, \"total_sampled_comments\": 2015, \"proportion\": 0.42431761786600497}, {\"subreddit\": \"AskReddit\", \"offensive_comment_count\": 2477, \"total_sampled_comments\": 6289, \"proportion\": 0.39386229925266336}, {\"subreddit\": \"DegradingHoles\", \"offensive_comment_count\": 718, \"total_sampled_comments\": 2067, \"proportion\": 0.34736332849540397}, {\"subreddit\": \"MisogynisticLife\", \"offensive_comment_count\": 965, \"total_sampled_comments\": 2875, \"proportion\": 0.3356521739130435}, {\"subreddit\": \"rapefantasies\", \"offensive_comment_count\": 2259, \"total_sampled_comments\": 7050, \"proportion\": 0.3204255319148936}, {\"subreddit\": \"IWantToBeHerHentai2\", \"offensive_comment_count\": 812, \"total_sampled_comments\": 3145, \"proportion\": 0.25818759936406993}, {\"subreddit\": \"SluttyConfessions\", \"offensive_comment_count\": 454, \"total_sampled_comments\": 2216, \"proportion\": 0.20487364620938628}]}}, {\"mode\": \"vega-lite\"});\n</script>",
      "text/plain": "alt.Chart(...)"
     },
     "metadata": {}
    }
   ]
  },
  {
   "cell_type": "code",
   "metadata": {
    "cell_id": "a1c2ed561b4f4316bdd7c653c737b79b",
    "tags": [],
    "deepnote_to_be_reexecuted": false,
    "source_hash": "edb3cba3",
    "execution_start": 1650765135454,
    "execution_millis": 697,
    "deepnote_cell_type": "code",
    "deepnote_cell_height": 358.20001220703125
   },
   "source": "find_toxic_subreddits_class_label(class_label=2, print_subreddit_count=True).head(3)",
   "execution_count": null,
   "outputs": [
    {
     "name": "stdout",
     "text": "Neither_hate_nor_offensive subreddit count without Detoxify scores: 5122\n",
     "output_type": "stream"
    },
    {
     "output_type": "execute_result",
     "execution_count": 76,
     "data": {
      "application/vnd.deepnote.dataframe.v3+json": {
       "column_count": 3,
       "row_count": 3,
       "columns": [
        {
         "name": "neither_hate_nor_offensive_comment_count",
         "dtype": "int64",
         "stats": {
          "unique_count": 1,
          "nan_count": 0,
          "min": "1",
          "max": "1",
          "histogram": [
           {
            "bin_start": 0.5,
            "bin_end": 0.6,
            "count": 0
           },
           {
            "bin_start": 0.6,
            "bin_end": 0.7,
            "count": 0
           },
           {
            "bin_start": 0.7,
            "bin_end": 0.8,
            "count": 0
           },
           {
            "bin_start": 0.8,
            "bin_end": 0.9,
            "count": 0
           },
           {
            "bin_start": 0.9,
            "bin_end": 1,
            "count": 0
           },
           {
            "bin_start": 1,
            "bin_end": 1.1,
            "count": 3
           },
           {
            "bin_start": 1.1,
            "bin_end": 1.2000000000000002,
            "count": 0
           },
           {
            "bin_start": 1.2000000000000002,
            "bin_end": 1.3,
            "count": 0
           },
           {
            "bin_start": 1.3,
            "bin_end": 1.4,
            "count": 0
           },
           {
            "bin_start": 1.4,
            "bin_end": 1.5,
            "count": 0
           }
          ]
         }
        },
        {
         "name": "total_sampled_comments",
         "dtype": "int64",
         "stats": {
          "unique_count": 1,
          "nan_count": 0,
          "min": "1",
          "max": "1",
          "histogram": [
           {
            "bin_start": 0.5,
            "bin_end": 0.6,
            "count": 0
           },
           {
            "bin_start": 0.6,
            "bin_end": 0.7,
            "count": 0
           },
           {
            "bin_start": 0.7,
            "bin_end": 0.8,
            "count": 0
           },
           {
            "bin_start": 0.8,
            "bin_end": 0.9,
            "count": 0
           },
           {
            "bin_start": 0.9,
            "bin_end": 1,
            "count": 0
           },
           {
            "bin_start": 1,
            "bin_end": 1.1,
            "count": 3
           },
           {
            "bin_start": 1.1,
            "bin_end": 1.2000000000000002,
            "count": 0
           },
           {
            "bin_start": 1.2000000000000002,
            "bin_end": 1.3,
            "count": 0
           },
           {
            "bin_start": 1.3,
            "bin_end": 1.4,
            "count": 0
           },
           {
            "bin_start": 1.4,
            "bin_end": 1.5,
            "count": 0
           }
          ]
         }
        },
        {
         "name": "proportion",
         "dtype": "float64",
         "stats": {
          "unique_count": 1,
          "nan_count": 0,
          "min": "1.0",
          "max": "1.0",
          "histogram": [
           {
            "bin_start": 0.5,
            "bin_end": 0.6,
            "count": 0
           },
           {
            "bin_start": 0.6,
            "bin_end": 0.7,
            "count": 0
           },
           {
            "bin_start": 0.7,
            "bin_end": 0.8,
            "count": 0
           },
           {
            "bin_start": 0.8,
            "bin_end": 0.9,
            "count": 0
           },
           {
            "bin_start": 0.9,
            "bin_end": 1,
            "count": 0
           },
           {
            "bin_start": 1,
            "bin_end": 1.1,
            "count": 3
           },
           {
            "bin_start": 1.1,
            "bin_end": 1.2000000000000002,
            "count": 0
           },
           {
            "bin_start": 1.2000000000000002,
            "bin_end": 1.3,
            "count": 0
           },
           {
            "bin_start": 1.3,
            "bin_end": 1.4,
            "count": 0
           },
           {
            "bin_start": 1.4,
            "bin_end": 1.5,
            "count": 0
           }
          ]
         }
        },
        {
         "name": "_deepnote_index_column",
         "dtype": "object"
        }
       ],
       "rows": [
        {
         "neither_hate_nor_offensive_comment_count": 1,
         "total_sampled_comments": 1,
         "proportion": 1,
         "_deepnote_index_column": "1001MentalNotes"
        },
        {
         "neither_hate_nor_offensive_comment_count": 1,
         "total_sampled_comments": 1,
         "proportion": 1,
         "_deepnote_index_column": "100movies365days"
        },
        {
         "neither_hate_nor_offensive_comment_count": 1,
         "total_sampled_comments": 1,
         "proportion": 1,
         "_deepnote_index_column": "1200isjerky"
        }
       ]
      },
      "text/plain": "                  neither_hate_nor_offensive_comment_count  \\\nsubreddit                                                    \n1001MentalNotes                                          1   \n100movies365days                                         1   \n1200isjerky                                              1   \n\n                  total_sampled_comments  proportion  \nsubreddit                                             \n1001MentalNotes                        1         1.0  \n100movies365days                       1         1.0  \n1200isjerky                            1         1.0  ",
      "text/html": "<div>\n<style scoped>\n    .dataframe tbody tr th:only-of-type {\n        vertical-align: middle;\n    }\n\n    .dataframe tbody tr th {\n        vertical-align: top;\n    }\n\n    .dataframe thead th {\n        text-align: right;\n    }\n</style>\n<table border=\"1\" class=\"dataframe\">\n  <thead>\n    <tr style=\"text-align: right;\">\n      <th></th>\n      <th>neither_hate_nor_offensive_comment_count</th>\n      <th>total_sampled_comments</th>\n      <th>proportion</th>\n    </tr>\n    <tr>\n      <th>subreddit</th>\n      <th></th>\n      <th></th>\n      <th></th>\n    </tr>\n  </thead>\n  <tbody>\n    <tr>\n      <th>1001MentalNotes</th>\n      <td>1</td>\n      <td>1</td>\n      <td>1.0</td>\n    </tr>\n    <tr>\n      <th>100movies365days</th>\n      <td>1</td>\n      <td>1</td>\n      <td>1.0</td>\n    </tr>\n    <tr>\n      <th>1200isjerky</th>\n      <td>1</td>\n      <td>1</td>\n      <td>1.0</td>\n    </tr>\n  </tbody>\n</table>\n</div>"
     },
     "metadata": {}
    }
   ]
  },
  {
   "cell_type": "code",
   "metadata": {
    "cell_id": "6f5fad96350c41859a18c1099cda4ad5",
    "tags": [],
    "deepnote_to_be_reexecuted": false,
    "source_hash": "fd873d16",
    "execution_start": 1650765535472,
    "execution_millis": 816,
    "deepnote_cell_type": "code",
    "deepnote_cell_height": 587,
    "deepnote_output_heights": [
     292
    ]
   },
   "source": "label_sorted_n = find_toxic_subreddits_class_label(class_label=2, print_subreddit_count=False).sort_values('total_sampled_comments', ascending=False)[:10].sort_values('proportion', ascending=False).reset_index()\nalt.Chart(label_sorted_n).mark_bar(color='#63a671').encode(\n    x = alt.X('proportion', title='Proportion of Toxic Language',scale = alt.Scale(domain=[0,1])),\n    y=alt.Y('subreddit',sort=['proportion'], title='')\n).properties(\n    title={\n      'text': ['Top Ten Largest Sampled Subreddits (Most Comments) ', 'with Highest Proportions of Neither Hate nor Offensive Speech'],\n      'color': 'black',\n      'anchor': 'middle',\n      'fontSize': 15\n    }\n)",
   "execution_count": null,
   "outputs": [
    {
     "output_type": "execute_result",
     "execution_count": 93,
     "data": {
      "text/html": "\n<div id=\"altair-viz-1010fe3579374468bf064dcde88b7cce\"></div>\n<script type=\"text/javascript\">\n  var VEGA_DEBUG = (typeof VEGA_DEBUG == \"undefined\") ? {} : VEGA_DEBUG;\n  (function(spec, embedOpt){\n    let outputDiv = document.currentScript.previousElementSibling;\n    if (outputDiv.id !== \"altair-viz-1010fe3579374468bf064dcde88b7cce\") {\n      outputDiv = document.getElementById(\"altair-viz-1010fe3579374468bf064dcde88b7cce\");\n    }\n    const paths = {\n      \"vega\": \"https://cdn.jsdelivr.net/npm//vega@5?noext\",\n      \"vega-lib\": \"https://cdn.jsdelivr.net/npm//vega-lib?noext\",\n      \"vega-lite\": \"https://cdn.jsdelivr.net/npm//vega-lite@4.17.0?noext\",\n      \"vega-embed\": \"https://cdn.jsdelivr.net/npm//vega-embed@6?noext\",\n    };\n\n    function maybeLoadScript(lib, version) {\n      var key = `${lib.replace(\"-\", \"\")}_version`;\n      return (VEGA_DEBUG[key] == version) ?\n        Promise.resolve(paths[lib]) :\n        new Promise(function(resolve, reject) {\n          var s = document.createElement('script');\n          document.getElementsByTagName(\"head\")[0].appendChild(s);\n          s.async = true;\n          s.onload = () => {\n            VEGA_DEBUG[key] = version;\n            return resolve(paths[lib]);\n          };\n          s.onerror = () => reject(`Error loading script: ${paths[lib]}`);\n          s.src = paths[lib];\n        });\n    }\n\n    function showError(err) {\n      outputDiv.innerHTML = `<div class=\"error\" style=\"color:red;\">${err}</div>`;\n      throw err;\n    }\n\n    function displayChart(vegaEmbed) {\n      vegaEmbed(outputDiv, spec, embedOpt)\n        .catch(err => showError(`Javascript Error: ${err.message}<br>This usually means there's a typo in your chart specification. See the javascript console for the full traceback.`));\n    }\n\n    if(typeof define === \"function\" && define.amd) {\n      requirejs.config({paths});\n      require([\"vega-embed\"], displayChart, err => showError(`Error loading script: ${err.message}`));\n    } else {\n      maybeLoadScript(\"vega\", \"5\")\n        .then(() => maybeLoadScript(\"vega-lite\", \"4.17.0\"))\n        .then(() => maybeLoadScript(\"vega-embed\", \"6\"))\n        .catch(showError)\n        .then(() => displayChart(vegaEmbed));\n    }\n  })({\"config\": {\"view\": {\"continuousWidth\": 400, \"continuousHeight\": 300}}, \"data\": {\"name\": \"data-5ef27f787d842dc2666a569211848d5d\"}, \"mark\": {\"type\": \"bar\", \"color\": \"#63a671\"}, \"encoding\": {\"x\": {\"field\": \"proportion\", \"scale\": {\"domain\": [0, 1]}, \"title\": \"Proportion of Toxic Language\", \"type\": \"quantitative\"}, \"y\": {\"field\": \"subreddit\", \"sort\": [\"proportion\"], \"title\": \"\", \"type\": \"nominal\"}}, \"title\": {\"text\": [\"Top Ten Largest Sampled Subreddits (Most Comments) \", \"with Highest Proportions of Neither Hate nor Offensive Speech\"], \"color\": \"black\", \"anchor\": \"middle\", \"fontSize\": 15}, \"$schema\": \"https://vega.github.io/schema/vega-lite/v4.17.0.json\", \"datasets\": {\"data-5ef27f787d842dc2666a569211848d5d\": [{\"subreddit\": \"SluttyConfessions\", \"neither_hate_nor_offensive_comment_count\": 1579, \"total_sampled_comments\": 2216, \"proportion\": 0.7125451263537906}, {\"subreddit\": \"IWantToBeHerHentai2\", \"neither_hate_nor_offensive_comment_count\": 2012, \"total_sampled_comments\": 3145, \"proportion\": 0.639745627980922}, {\"subreddit\": \"rapefantasies\", \"neither_hate_nor_offensive_comment_count\": 3400, \"total_sampled_comments\": 7050, \"proportion\": 0.48226950354609927}, {\"subreddit\": \"AskReddit\", \"neither_hate_nor_offensive_comment_count\": 2765, \"total_sampled_comments\": 6289, \"proportion\": 0.43965654317061537}, {\"subreddit\": \"MisogynisticLife\", \"neither_hate_nor_offensive_comment_count\": 1262, \"total_sampled_comments\": 2875, \"proportion\": 0.4389565217391304}, {\"subreddit\": \"DegradingHoles\", \"neither_hate_nor_offensive_comment_count\": 885, \"total_sampled_comments\": 2067, \"proportion\": 0.4281567489114659}, {\"subreddit\": \"Cricket\", \"neither_hate_nor_offensive_comment_count\": 808, \"total_sampled_comments\": 2015, \"proportion\": 0.40099255583126553}, {\"subreddit\": \"antiwork\", \"neither_hate_nor_offensive_comment_count\": 313, \"total_sampled_comments\": 1975, \"proportion\": 0.15848101265822784}, {\"subreddit\": \"PublicFreakout\", \"neither_hate_nor_offensive_comment_count\": 300, \"total_sampled_comments\": 3358, \"proportion\": 0.08933889219773675}, {\"subreddit\": \"soccer\", \"neither_hate_nor_offensive_comment_count\": 189, \"total_sampled_comments\": 2136, \"proportion\": 0.08848314606741572}]}}, {\"mode\": \"vega-lite\"});\n</script>",
      "text/plain": "alt.Chart(...)"
     },
     "metadata": {}
    }
   ]
  },
  {
   "cell_type": "code",
   "metadata": {
    "cell_id": "7f62dad6bb2f4ac3a5bd6b519468d4db",
    "tags": [],
    "deepnote_to_be_reexecuted": false,
    "source_hash": "9a6d5868",
    "execution_start": 1650765569638,
    "execution_millis": 1424,
    "deepnote_cell_type": "code",
    "deepnote_cell_height": 331.3999938964844
   },
   "source": "collect_test_statistics(\n    find_toxic_subreddits_class_label(class_label=0, print_subreddit_count=True),\n    find_toxic_subreddits_class_label(class_label=1, print_subreddit_count=True))",
   "execution_count": null,
   "outputs": [
    {
     "name": "stdout",
     "text": "Hate subreddit count without Detoxify scores: 5826\nOffensive subreddit count without Detoxify scores: 7588\n",
     "output_type": "stream"
    },
    {
     "output_type": "execute_result",
     "execution_count": 94,
     "data": {
      "application/vnd.deepnote.dataframe.v3+json": {
       "column_count": 5,
       "row_count": 1,
       "columns": [
        {
         "name": "variable",
         "dtype": "object",
         "stats": {
          "unique_count": 1,
          "nan_count": 0,
          "categories": [
           {
            "name": "proportion",
            "count": 1
           }
          ]
         }
        },
        {
         "name": "t-statistic",
         "dtype": "object",
         "stats": {
          "unique_count": 1,
          "nan_count": 0,
          "categories": [
           {
            "name": "-21.1521333409394",
            "count": 1
           }
          ]
         }
        },
        {
         "name": "p-value",
         "dtype": "object",
         "stats": {
          "unique_count": 1,
          "nan_count": 0,
          "categories": [
           {
            "name": "1.374957679366634e-97",
            "count": 1
           }
          ]
         }
        },
        {
         "name": "H0",
         "dtype": "object",
         "stats": {
          "unique_count": 1,
          "nan_count": 0,
          "categories": [
           {
            "name": "reject",
            "count": 1
           }
          ]
         }
        },
        {
         "name": "variance",
         "dtype": "object",
         "stats": {
          "unique_count": 1,
          "nan_count": 0,
          "categories": [
           {
            "name": "unequal",
            "count": 1
           }
          ]
         }
        },
        {
         "name": "_deepnote_index_column",
         "dtype": "int64"
        }
       ],
       "rows": [
        {
         "variable": "proportion",
         "t-statistic": "-21.1521333409394",
         "p-value": "1.374957679366634e-97",
         "H0": "reject",
         "variance": "unequal",
         "_deepnote_index_column": 0
        }
       ]
      },
      "text/plain": "     variable t-statistic p-value      H0 variance\n0  proportion  -21.152133     0.0  reject  unequal",
      "text/html": "<div>\n<style scoped>\n    .dataframe tbody tr th:only-of-type {\n        vertical-align: middle;\n    }\n\n    .dataframe tbody tr th {\n        vertical-align: top;\n    }\n\n    .dataframe thead th {\n        text-align: right;\n    }\n</style>\n<table border=\"1\" class=\"dataframe\">\n  <thead>\n    <tr style=\"text-align: right;\">\n      <th></th>\n      <th>variable</th>\n      <th>t-statistic</th>\n      <th>p-value</th>\n      <th>H0</th>\n      <th>variance</th>\n    </tr>\n  </thead>\n  <tbody>\n    <tr>\n      <th>0</th>\n      <td>proportion</td>\n      <td>-21.152133</td>\n      <td>0.0</td>\n      <td>reject</td>\n      <td>unequal</td>\n    </tr>\n  </tbody>\n</table>\n</div>"
     },
     "metadata": {}
    }
   ]
  },
  {
   "cell_type": "code",
   "metadata": {
    "cell_id": "ca791d755a51475d805649de2bb08dfb",
    "tags": [],
    "deepnote_to_be_reexecuted": false,
    "source_hash": "959f461",
    "execution_start": 1650765571053,
    "execution_millis": 1364,
    "deepnote_cell_type": "code",
    "deepnote_cell_height": 331.3999938964844
   },
   "source": "collect_test_statistics(\n    find_toxic_subreddits_class_label(class_label=0, print_subreddit_count=True),\n    find_toxic_subreddits_class_label(class_label=2, print_subreddit_count=True))",
   "execution_count": null,
   "outputs": [
    {
     "name": "stdout",
     "text": "Hate subreddit count without Detoxify scores: 5826\nNeither_hate_nor_offensive subreddit count without Detoxify scores: 10227\n",
     "output_type": "stream"
    },
    {
     "output_type": "execute_result",
     "execution_count": 95,
     "data": {
      "application/vnd.deepnote.dataframe.v3+json": {
       "column_count": 5,
       "row_count": 1,
       "columns": [
        {
         "name": "variable",
         "dtype": "object",
         "stats": {
          "unique_count": 1,
          "nan_count": 0,
          "categories": [
           {
            "name": "proportion",
            "count": 1
           }
          ]
         }
        },
        {
         "name": "t-statistic",
         "dtype": "object",
         "stats": {
          "unique_count": 1,
          "nan_count": 0,
          "categories": [
           {
            "name": "-54.144535405174764",
            "count": 1
           }
          ]
         }
        },
        {
         "name": "p-value",
         "dtype": "object",
         "stats": {
          "unique_count": 1,
          "nan_count": 0,
          "categories": [
           {
            "name": "0.0",
            "count": 1
           }
          ]
         }
        },
        {
         "name": "H0",
         "dtype": "object",
         "stats": {
          "unique_count": 1,
          "nan_count": 0,
          "categories": [
           {
            "name": "reject",
            "count": 1
           }
          ]
         }
        },
        {
         "name": "variance",
         "dtype": "object",
         "stats": {
          "unique_count": 1,
          "nan_count": 0,
          "categories": [
           {
            "name": "unequal",
            "count": 1
           }
          ]
         }
        },
        {
         "name": "_deepnote_index_column",
         "dtype": "int64"
        }
       ],
       "rows": [
        {
         "variable": "proportion",
         "t-statistic": "-54.144535405174764",
         "p-value": "0.0",
         "H0": "reject",
         "variance": "unequal",
         "_deepnote_index_column": 0
        }
       ]
      },
      "text/plain": "     variable t-statistic p-value      H0 variance\n0  proportion  -54.144535     0.0  reject  unequal",
      "text/html": "<div>\n<style scoped>\n    .dataframe tbody tr th:only-of-type {\n        vertical-align: middle;\n    }\n\n    .dataframe tbody tr th {\n        vertical-align: top;\n    }\n\n    .dataframe thead th {\n        text-align: right;\n    }\n</style>\n<table border=\"1\" class=\"dataframe\">\n  <thead>\n    <tr style=\"text-align: right;\">\n      <th></th>\n      <th>variable</th>\n      <th>t-statistic</th>\n      <th>p-value</th>\n      <th>H0</th>\n      <th>variance</th>\n    </tr>\n  </thead>\n  <tbody>\n    <tr>\n      <th>0</th>\n      <td>proportion</td>\n      <td>-54.144535</td>\n      <td>0.0</td>\n      <td>reject</td>\n      <td>unequal</td>\n    </tr>\n  </tbody>\n</table>\n</div>"
     },
     "metadata": {}
    }
   ]
  },
  {
   "cell_type": "code",
   "metadata": {
    "cell_id": "3eeeaf9833b04a5b8a313f3599acc257",
    "tags": [],
    "deepnote_to_be_reexecuted": false,
    "source_hash": "ff19ea33",
    "execution_start": 1650765572426,
    "execution_millis": 1405,
    "deepnote_cell_type": "code",
    "deepnote_cell_height": 331.3999938964844
   },
   "source": "collect_test_statistics(\n    find_toxic_subreddits_class_label(class_label=1, print_subreddit_count=True),\n    find_toxic_subreddits_class_label(class_label=2, print_subreddit_count=True))",
   "execution_count": null,
   "outputs": [
    {
     "name": "stdout",
     "text": "Offensive subreddit count without Detoxify scores: 7588\nNeither_hate_nor_offensive subreddit count without Detoxify scores: 10227\n",
     "output_type": "stream"
    },
    {
     "output_type": "execute_result",
     "execution_count": 96,
     "data": {
      "application/vnd.deepnote.dataframe.v3+json": {
       "column_count": 5,
       "row_count": 1,
       "columns": [
        {
         "name": "variable",
         "dtype": "object",
         "stats": {
          "unique_count": 1,
          "nan_count": 0,
          "categories": [
           {
            "name": "proportion",
            "count": 1
           }
          ]
         }
        },
        {
         "name": "t-statistic",
         "dtype": "object",
         "stats": {
          "unique_count": 1,
          "nan_count": 0,
          "categories": [
           {
            "name": "-34.423683917330706",
            "count": 1
           }
          ]
         }
        },
        {
         "name": "p-value",
         "dtype": "object",
         "stats": {
          "unique_count": 1,
          "nan_count": 0,
          "categories": [
           {
            "name": "1.7924230596842326e-250",
            "count": 1
           }
          ]
         }
        },
        {
         "name": "H0",
         "dtype": "object",
         "stats": {
          "unique_count": 1,
          "nan_count": 0,
          "categories": [
           {
            "name": "reject",
            "count": 1
           }
          ]
         }
        },
        {
         "name": "variance",
         "dtype": "object",
         "stats": {
          "unique_count": 1,
          "nan_count": 0,
          "categories": [
           {
            "name": "unequal",
            "count": 1
           }
          ]
         }
        },
        {
         "name": "_deepnote_index_column",
         "dtype": "int64"
        }
       ],
       "rows": [
        {
         "variable": "proportion",
         "t-statistic": "-34.423683917330706",
         "p-value": "1.7924230596842326e-250",
         "H0": "reject",
         "variance": "unequal",
         "_deepnote_index_column": 0
        }
       ]
      },
      "text/plain": "     variable t-statistic p-value      H0 variance\n0  proportion  -34.423684     0.0  reject  unequal",
      "text/html": "<div>\n<style scoped>\n    .dataframe tbody tr th:only-of-type {\n        vertical-align: middle;\n    }\n\n    .dataframe tbody tr th {\n        vertical-align: top;\n    }\n\n    .dataframe thead th {\n        text-align: right;\n    }\n</style>\n<table border=\"1\" class=\"dataframe\">\n  <thead>\n    <tr style=\"text-align: right;\">\n      <th></th>\n      <th>variable</th>\n      <th>t-statistic</th>\n      <th>p-value</th>\n      <th>H0</th>\n      <th>variance</th>\n    </tr>\n  </thead>\n  <tbody>\n    <tr>\n      <th>0</th>\n      <td>proportion</td>\n      <td>-34.423684</td>\n      <td>0.0</td>\n      <td>reject</td>\n      <td>unequal</td>\n    </tr>\n  </tbody>\n</table>\n</div>"
     },
     "metadata": {}
    }
   ]
  },
  {
   "cell_type": "code",
   "metadata": {
    "cell_id": "670254b7c6d141a1ba06133c23c9abb5",
    "tags": [],
    "deepnote_cell_type": "code",
    "deepnote_cell_height": 66
   },
   "source": "",
   "execution_count": null,
   "outputs": []
  },
  {
   "cell_type": "markdown",
   "source": "<a style='text-decoration:none;line-height:16px;display:flex;color:#5B5B62;padding:10px;justify-content:end;' href='https://deepnote.com?utm_source=created-in-deepnote-cell&projectId=6bb356e3-2dd8-4635-8ff0-a5ca506d60d1' target=\"_blank\">\n<img alt='Created in deepnote.com' style='display:inline;max-height:16px;margin:0px;margin-right:7.5px;' src='data:image/svg+xml;base64,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' > </img>\nCreated in <span style='font-weight:600;margin-left:4px;'>Deepnote</span></a>",
   "metadata": {
    "tags": [],
    "created_in_deepnote_cell": true,
    "deepnote_cell_type": "markdown"
   }
  }
 ],
 "nbformat": 4,
 "nbformat_minor": 2,
 "metadata": {
  "orig_nbformat": 2,
  "deepnote": {},
  "deepnote_notebook_id": "196c5fa4-e064-43cd-94b2-517b71f2c940",
  "deepnote_execution_queue": []
 }
}
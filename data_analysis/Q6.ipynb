{
 "cells": [
  {
   "cell_type": "markdown",
   "source": "## Question 6\n\nHow likely is it that gendered speech is related to violence?\n\n#### Operationalized Question:\nWhat percentage of Reddit comments with high scores on threat (or other measures ex. sexual_explicit + threat) also have:\n• male pronouns or identifiers (e.g.,\"guy\")?\n• female pronouns or identifiers (e.g., \"gal\")?\n• both genders?\n• no gendered speech?\n\n#### Hypothesis:\nA higher percentage of comments with female identifiers will include terms related to violence than will comments with male identifiers.\n\n#### Results:\nAn initial exploration of comments which have an above average threat score show that around 72% of those comments have only female identifiers, whereas less than 1% have only male identifiers. We expected that more threatening comments would include female-only identifiers, but were surprised at such a stark difference. Around 26% of above average threatening comments included both male and female identifiers, and less than 2% had no gender identifiers. When comparing the four gender categories with Welch’s T-test, there were some surprising results. When comparing male to female, female to both, and male to none categories, the t-tests resulted in p-values that were below the 5% significance level, leading us to reject the Null Hypothesis that the means for these categories were the same. However the t-tests comparing female to none, male to both, and both to none, resulted in p-values higher than the 5% significance level, leading us to fail to reject the Null Hypothesis.\n\nWe then included above average sexually explicit scores to the above average threat scores for each of the gender identifiers, and found similar proportions, with around 76% of comments including female identifiers, and less than 1% including male identifiers, again an unexpectedly stark difference between the two categories. Around 23% of comments included both gender identifiers, while around 1% had no gender identifiers. The ensuing t-test had similarly mixed results which was also surprising. When comparing male to female, female to both, and female to none categories, the t-tests resulted in p-values that were below the 5% significance level, leading us to reject the Null Hypothesis that the means for these categories were the same. However the t-tests comparing male to both, male to none, and both to none, resulted in p-values higher than the 5% significance level, leading us to fail to reject the Null Hypothesis. Given the t-test results, it would be interesting to further explore the relationships between gender identifiers, but it seems clear that when comparing male to female identifiers specifically, there does indeed appear to be a relationship between those identifiers and more threatening and sexually explicit speech.\n\n",
   "metadata": {
    "cell_id": "e4997f6fa22c404cb4edb7eaca412b26",
    "tags": [],
    "deepnote_cell_type": "markdown",
    "deepnote_cell_height": 777.09375
   }
  },
  {
   "cell_type": "code",
   "metadata": {
    "tags": [],
    "cell_id": "04a72843-f2d1-4e0e-90ad-265e392d41c9",
    "deepnote_to_be_reexecuted": false,
    "source_hash": "abfece5c",
    "execution_start": 1650789681088,
    "execution_millis": 527,
    "deepnote_cell_type": "code",
    "deepnote_cell_height": 116.953125
   },
   "source": "import pandas as pd\nimport numpy as np\nfrom scipy.stats import ttest_ind",
   "execution_count": null,
   "outputs": []
  },
  {
   "cell_type": "markdown",
   "source": "#### Read in the Comments data",
   "metadata": {
    "cell_id": "5668fa673b3c45489b1e078ee7721f11",
    "tags": [],
    "deepnote_cell_type": "markdown",
    "deepnote_cell_height": 53.953125
   }
  },
  {
   "cell_type": "code",
   "metadata": {
    "cell_id": "025a7f80875e4c948df6bd729eb0ccad",
    "tags": [],
    "deepnote_to_be_reexecuted": false,
    "source_hash": "d202f1bd",
    "execution_start": 1650789681617,
    "execution_millis": 4255,
    "owner_user_id": "aa81f22b-076f-4bdb-abba-2edf2197fa03",
    "deepnote_cell_type": "code",
    "deepnote_cell_height": 80.953125
   },
   "source": "c = pd.read_csv('../data/processed/comments.csv')",
   "execution_count": null,
   "outputs": []
  },
  {
   "cell_type": "markdown",
   "source": "#### Filter to keep only the above average Threat comments",
   "metadata": {
    "cell_id": "c7c59be0b08c44d1863e71428f605bb0",
    "tags": [],
    "deepnote_cell_type": "markdown",
    "deepnote_cell_height": 53.953125
   }
  },
  {
   "cell_type": "code",
   "metadata": {
    "cell_id": "f828e99587c94b57a940176f8fa33d3b",
    "tags": [],
    "deepnote_to_be_reexecuted": false,
    "source_hash": "9f8cf031",
    "execution_start": 1650789685876,
    "execution_millis": 35,
    "deepnote_cell_type": "code",
    "deepnote_cell_height": 80.953125
   },
   "source": "threat_comments = c[c.threat >= c.threat.mean()].copy()",
   "execution_count": null,
   "outputs": []
  },
  {
   "cell_type": "markdown",
   "source": "#### Split the data based on gender identifiers",
   "metadata": {
    "cell_id": "374786f625a049408699a6409804afb2",
    "tags": [],
    "deepnote_cell_type": "markdown",
    "deepnote_cell_height": 53.953125
   }
  },
  {
   "cell_type": "code",
   "metadata": {
    "cell_id": "8800408b42cc45a292aac46819c6ec28",
    "tags": [],
    "deepnote_to_be_reexecuted": false,
    "source_hash": "c24c4aef",
    "execution_start": 1650789685918,
    "execution_millis": 18,
    "deepnote_cell_type": "code",
    "deepnote_cell_height": 134.953125
   },
   "source": "male_threat = threat_comments[threat_comments.gender == 'male']\nfemale_threat = threat_comments[threat_comments.gender == 'female']\nboth_threat = threat_comments[threat_comments.gender == 'both']\nnone_threat = threat_comments[threat_comments.gender == 'none']",
   "execution_count": null,
   "outputs": []
  },
  {
   "cell_type": "markdown",
   "source": "#### Find the percentages for each gender category",
   "metadata": {
    "cell_id": "83349264221947feb6b83c85095b7061",
    "tags": [],
    "deepnote_cell_type": "markdown",
    "deepnote_cell_height": 53.953125
   }
  },
  {
   "cell_type": "code",
   "metadata": {
    "cell_id": "c2555e09718a49ecae0e145aecea23b6",
    "tags": [],
    "deepnote_to_be_reexecuted": false,
    "source_hash": "9a98ea2b",
    "execution_start": 1650789685958,
    "execution_millis": 19,
    "deepnote_cell_type": "code",
    "deepnote_cell_height": 320.921875
   },
   "source": "percentage_total = pd.concat([pd.Series(round((len(male_threat)/len(threat_comments))*100, 2)).to_frame(name='Male'),\n                    pd.Series(round((len(female_threat)/len(threat_comments))*100, 2)).to_frame(name='Female'),\n                    pd.Series(round((len(both_threat)/len(threat_comments))*100, 2)).to_frame(name='Both'),          \n                    pd.Series(round((len(none_threat)/len(threat_comments))*100, 2)).to_frame(name='None'),    \n                   ],axis=1).rename(index={0:'Percentage of Total'})\npercentage_total",
   "execution_count": null,
   "outputs": [
    {
     "output_type": "execute_result",
     "execution_count": 5,
     "data": {
      "application/vnd.deepnote.dataframe.v3+json": {
       "column_count": 4,
       "row_count": 1,
       "columns": [
        {
         "name": "Male",
         "dtype": "float64",
         "stats": {
          "unique_count": 1,
          "nan_count": 0,
          "min": "0.41",
          "max": "0.41",
          "histogram": [
           {
            "bin_start": -0.09000000000000002,
            "bin_end": 0.009999999999999981,
            "count": 0
           },
           {
            "bin_start": 0.009999999999999981,
            "bin_end": 0.10999999999999999,
            "count": 0
           },
           {
            "bin_start": 0.10999999999999999,
            "bin_end": 0.21000000000000002,
            "count": 0
           },
           {
            "bin_start": 0.21000000000000002,
            "bin_end": 0.31,
            "count": 0
           },
           {
            "bin_start": 0.31,
            "bin_end": 0.41,
            "count": 0
           },
           {
            "bin_start": 0.41,
            "bin_end": 0.51,
            "count": 1
           },
           {
            "bin_start": 0.51,
            "bin_end": 0.6100000000000001,
            "count": 0
           },
           {
            "bin_start": 0.6100000000000001,
            "bin_end": 0.71,
            "count": 0
           },
           {
            "bin_start": 0.71,
            "bin_end": 0.81,
            "count": 0
           },
           {
            "bin_start": 0.81,
            "bin_end": 0.9099999999999999,
            "count": 0
           }
          ]
         }
        },
        {
         "name": "Female",
         "dtype": "float64",
         "stats": {
          "unique_count": 1,
          "nan_count": 0,
          "min": "71.61",
          "max": "71.61",
          "histogram": [
           {
            "bin_start": 71.11,
            "bin_end": 71.21,
            "count": 0
           },
           {
            "bin_start": 71.21,
            "bin_end": 71.31,
            "count": 0
           },
           {
            "bin_start": 71.31,
            "bin_end": 71.41,
            "count": 0
           },
           {
            "bin_start": 71.41,
            "bin_end": 71.51,
            "count": 0
           },
           {
            "bin_start": 71.51,
            "bin_end": 71.61,
            "count": 0
           },
           {
            "bin_start": 71.61,
            "bin_end": 71.71,
            "count": 1
           },
           {
            "bin_start": 71.71,
            "bin_end": 71.81,
            "count": 0
           },
           {
            "bin_start": 71.81,
            "bin_end": 71.91,
            "count": 0
           },
           {
            "bin_start": 71.91,
            "bin_end": 72.01,
            "count": 0
           },
           {
            "bin_start": 72.01,
            "bin_end": 72.11,
            "count": 0
           }
          ]
         }
        },
        {
         "name": "Both",
         "dtype": "float64",
         "stats": {
          "unique_count": 1,
          "nan_count": 0,
          "min": "26.27",
          "max": "26.27",
          "histogram": [
           {
            "bin_start": 25.77,
            "bin_end": 25.87,
            "count": 0
           },
           {
            "bin_start": 25.87,
            "bin_end": 25.97,
            "count": 0
           },
           {
            "bin_start": 25.97,
            "bin_end": 26.07,
            "count": 0
           },
           {
            "bin_start": 26.07,
            "bin_end": 26.169999999999998,
            "count": 0
           },
           {
            "bin_start": 26.169999999999998,
            "bin_end": 26.27,
            "count": 0
           },
           {
            "bin_start": 26.27,
            "bin_end": 26.37,
            "count": 1
           },
           {
            "bin_start": 26.37,
            "bin_end": 26.47,
            "count": 0
           },
           {
            "bin_start": 26.47,
            "bin_end": 26.57,
            "count": 0
           },
           {
            "bin_start": 26.57,
            "bin_end": 26.669999999999998,
            "count": 0
           },
           {
            "bin_start": 26.669999999999998,
            "bin_end": 26.77,
            "count": 0
           }
          ]
         }
        },
        {
         "name": "None",
         "dtype": "float64",
         "stats": {
          "unique_count": 1,
          "nan_count": 0,
          "min": "1.71",
          "max": "1.71",
          "histogram": [
           {
            "bin_start": 1.21,
            "bin_end": 1.31,
            "count": 0
           },
           {
            "bin_start": 1.31,
            "bin_end": 1.41,
            "count": 0
           },
           {
            "bin_start": 1.41,
            "bin_end": 1.51,
            "count": 0
           },
           {
            "bin_start": 1.51,
            "bin_end": 1.6099999999999999,
            "count": 0
           },
           {
            "bin_start": 1.6099999999999999,
            "bin_end": 1.71,
            "count": 0
           },
           {
            "bin_start": 1.71,
            "bin_end": 1.81,
            "count": 1
           },
           {
            "bin_start": 1.81,
            "bin_end": 1.9100000000000001,
            "count": 0
           },
           {
            "bin_start": 1.9100000000000001,
            "bin_end": 2.01,
            "count": 0
           },
           {
            "bin_start": 2.01,
            "bin_end": 2.11,
            "count": 0
           },
           {
            "bin_start": 2.11,
            "bin_end": 2.21,
            "count": 0
           }
          ]
         }
        },
        {
         "name": "_deepnote_index_column",
         "dtype": "object"
        }
       ],
       "rows": [
        {
         "Male": 0.41,
         "Female": 71.61,
         "Both": 26.27,
         "None": 1.71,
         "_deepnote_index_column": "Percentage of Total"
        }
       ]
      },
      "text/plain": "                     Male  Female   Both  None\nPercentage of Total  0.41   71.61  26.27  1.71",
      "text/html": "<div>\n<style scoped>\n    .dataframe tbody tr th:only-of-type {\n        vertical-align: middle;\n    }\n\n    .dataframe tbody tr th {\n        vertical-align: top;\n    }\n\n    .dataframe thead th {\n        text-align: right;\n    }\n</style>\n<table border=\"1\" class=\"dataframe\">\n  <thead>\n    <tr style=\"text-align: right;\">\n      <th></th>\n      <th>Male</th>\n      <th>Female</th>\n      <th>Both</th>\n      <th>None</th>\n    </tr>\n  </thead>\n  <tbody>\n    <tr>\n      <th>Percentage of Total</th>\n      <td>0.41</td>\n      <td>71.61</td>\n      <td>26.27</td>\n      <td>1.71</td>\n    </tr>\n  </tbody>\n</table>\n</div>"
     },
     "metadata": {}
    }
   ]
  },
  {
   "cell_type": "markdown",
   "source": "#### Initiate the test_statistics function",
   "metadata": {
    "cell_id": "46017d85f7164e41a69b6dea4ea56f2f",
    "tags": [],
    "deepnote_cell_type": "markdown",
    "deepnote_cell_height": 53.953125
   }
  },
  {
   "cell_type": "code",
   "metadata": {
    "cell_id": "1e501ccbcdda4c7a925a8714e500295b",
    "tags": [],
    "deepnote_to_be_reexecuted": false,
    "source_hash": "a5292db2",
    "execution_start": 1650790256424,
    "execution_millis": 8,
    "deepnote_cell_type": "code",
    "deepnote_cell_height": 674.953125
   },
   "source": "def collect_test_statistics(dataset_1, dataset_2,alpha=0.05): \n    ttest_df = pd.DataFrame(columns=['variable','t-statistic','p-value','H0','variance'])\n    \n    variables = ['threat']\n    ttest_df['variable'] = variables\n\n    for variable in variables:\n        ttest_x=dataset_1[variable]\n        ttest_y=dataset_2[variable]\n        \n        if np.var(ttest_x) != np.var(ttest_y):\n            ttest_df.loc[ttest_df['variable']==variable,'variance'] = 'unequal'\n            ttest = ttest_ind(ttest_x, ttest_y, nan_policy='omit', equal_var=False)\n            ttest_df.loc[ttest_df['variable']==variable,'t-statistic'] = ttest[0]\n            ttest_df.loc[ttest_df['variable']==variable,'p-value'] = ttest[1]\n            if ttest[1] > alpha:\n                ttest_df.loc[ttest_df['variable']==variable,'H0'] = 'fail to reject'\n            else:\n                ttest_df.loc[ttest_df['variable']==variable,'H0'] = 'reject'\n        else:\n            ttest_df.loc[ttest_df['variable']==variable,'variance'] = 'equal'\n            ttest = ttest_ind(ttest_x, ttest_y, nan_policy='omit')\n            ttest_df.loc[ttest_df['variable']==variable,'t-statistic'] = ttest[0]\n            ttest_df.loc[ttest_df['variable']==variable,'p-value'] = ttest[1]\n            if ttest[1] > alpha:\n                ttest_df.loc[ttest_df['variable']==variable,'H0'] = 'fail to reject'\n            else:\n                ttest_df.loc[ttest_df['variable']==variable,'H0'] = 'reject'\n    \n\n    return ttest_df.rename(index={0:str(dataset_1.gender.iloc[0]+' / '+dataset_2.gender.iloc[0]),\n                                  1:str(dataset_1.gender.iloc[0]+' / '+dataset_2.gender.iloc[0]),\n                                 })\n",
   "execution_count": null,
   "outputs": []
  },
  {
   "cell_type": "markdown",
   "source": "#### Combine the T-test results into a single dataframe",
   "metadata": {
    "cell_id": "52405eb14baa44dab55c5c00638ddbe4",
    "tags": [],
    "deepnote_cell_type": "markdown",
    "deepnote_cell_height": 53.953125
   }
  },
  {
   "cell_type": "code",
   "metadata": {
    "cell_id": "ed003a73a8e845669a8bf4f54ff0c2ee",
    "tags": [],
    "deepnote_to_be_reexecuted": false,
    "source_hash": "c0ad2388",
    "execution_start": 1650790034410,
    "execution_millis": 66,
    "deepnote_cell_type": "code",
    "deepnote_cell_height": 543.890625
   },
   "source": "threat_df = collect_test_statistics(female_threat, male_threat, alpha=0.05)\nthreat_df = threat_df.append(collect_test_statistics(female_threat, both_threat, alpha=0.05))\nthreat_df = threat_df.append(collect_test_statistics(female_threat, none_threat, alpha=0.05))\nthreat_df = threat_df.append(collect_test_statistics(male_threat, both_threat, alpha=0.05))\nthreat_df = threat_df.append(collect_test_statistics(male_threat, none_threat, alpha=0.05))\nthreat_df = threat_df.append(collect_test_statistics(both_threat, none_threat, alpha=0.05))\nthreat_df",
   "execution_count": null,
   "outputs": [
    {
     "output_type": "execute_result",
     "execution_count": 18,
     "data": {
      "application/vnd.deepnote.dataframe.v3+json": {
       "column_count": 5,
       "row_count": 6,
       "columns": [
        {
         "name": "variable",
         "dtype": "object",
         "stats": {
          "unique_count": 1,
          "nan_count": 0,
          "categories": [
           {
            "name": "threat",
            "count": 6
           }
          ]
         }
        },
        {
         "name": "t-statistic",
         "dtype": "object",
         "stats": {
          "unique_count": 6,
          "nan_count": 0,
          "categories": [
           {
            "name": "3.4420132927661053",
            "count": 1
           },
           {
            "name": "7.395001029226805",
            "count": 1
           },
           {
            "name": "4 others",
            "count": 4
           }
          ]
         }
        },
        {
         "name": "p-value",
         "dtype": "object",
         "stats": {
          "unique_count": 6,
          "nan_count": 0,
          "categories": [
           {
            "name": "0.0009598260496200917",
            "count": 1
           },
           {
            "name": "1.5385840055297342e-13",
            "count": 1
           },
           {
            "name": "4 others",
            "count": 4
           }
          ]
         }
        },
        {
         "name": "H0",
         "dtype": "object",
         "stats": {
          "unique_count": 2,
          "nan_count": 0,
          "categories": [
           {
            "name": "reject",
            "count": 3
           },
           {
            "name": "fail to reject",
            "count": 3
           }
          ]
         }
        },
        {
         "name": "variance",
         "dtype": "object",
         "stats": {
          "unique_count": 1,
          "nan_count": 0,
          "categories": [
           {
            "name": "unequal",
            "count": 6
           }
          ]
         }
        },
        {
         "name": "_deepnote_index_column",
         "dtype": "object"
        }
       ],
       "rows": [
        {
         "variable": "threat",
         "t-statistic": "3.4420132927661053",
         "p-value": "0.0009598260496200917",
         "H0": "reject",
         "variance": "unequal",
         "_deepnote_index_column": "female / male"
        },
        {
         "variable": "threat",
         "t-statistic": "7.395001029226805",
         "p-value": "1.5385840055297342e-13",
         "H0": "reject",
         "variance": "unequal",
         "_deepnote_index_column": "female / both"
        },
        {
         "variable": "threat",
         "t-statistic": "0.9140122859723459",
         "p-value": "0.36139772940526804",
         "H0": "fail to reject",
         "variance": "unequal",
         "_deepnote_index_column": "female / none"
        },
        {
         "variable": "threat",
         "t-statistic": "-1.9198329265939607",
         "p-value": "0.05867373814112734",
         "H0": "fail to reject",
         "variance": "unequal",
         "_deepnote_index_column": "male / both"
        },
        {
         "variable": "threat",
         "t-statistic": "-2.4092752871082053",
         "p-value": "0.017316248005601415",
         "H0": "reject",
         "variance": "unequal",
         "_deepnote_index_column": "male / none"
        },
        {
         "variable": "threat",
         "t-statistic": "-1.3785839417604349",
         "p-value": "0.16891819607636444",
         "H0": "fail to reject",
         "variance": "unequal",
         "_deepnote_index_column": "both / none"
        }
       ]
      },
      "text/plain": "              variable t-statistic   p-value              H0 variance\nfemale / male   threat    3.442013   0.00096          reject  unequal\nfemale / both   threat    7.395001       0.0          reject  unequal\nfemale / none   threat    0.914012  0.361398  fail to reject  unequal\nmale / both     threat   -1.919833  0.058674  fail to reject  unequal\nmale / none     threat   -2.409275  0.017316          reject  unequal\nboth / none     threat   -1.378584  0.168918  fail to reject  unequal",
      "text/html": "<div>\n<style scoped>\n    .dataframe tbody tr th:only-of-type {\n        vertical-align: middle;\n    }\n\n    .dataframe tbody tr th {\n        vertical-align: top;\n    }\n\n    .dataframe thead th {\n        text-align: right;\n    }\n</style>\n<table border=\"1\" class=\"dataframe\">\n  <thead>\n    <tr style=\"text-align: right;\">\n      <th></th>\n      <th>variable</th>\n      <th>t-statistic</th>\n      <th>p-value</th>\n      <th>H0</th>\n      <th>variance</th>\n    </tr>\n  </thead>\n  <tbody>\n    <tr>\n      <th>female / male</th>\n      <td>threat</td>\n      <td>3.442013</td>\n      <td>0.00096</td>\n      <td>reject</td>\n      <td>unequal</td>\n    </tr>\n    <tr>\n      <th>female / both</th>\n      <td>threat</td>\n      <td>7.395001</td>\n      <td>0.0</td>\n      <td>reject</td>\n      <td>unequal</td>\n    </tr>\n    <tr>\n      <th>female / none</th>\n      <td>threat</td>\n      <td>0.914012</td>\n      <td>0.361398</td>\n      <td>fail to reject</td>\n      <td>unequal</td>\n    </tr>\n    <tr>\n      <th>male / both</th>\n      <td>threat</td>\n      <td>-1.919833</td>\n      <td>0.058674</td>\n      <td>fail to reject</td>\n      <td>unequal</td>\n    </tr>\n    <tr>\n      <th>male / none</th>\n      <td>threat</td>\n      <td>-2.409275</td>\n      <td>0.017316</td>\n      <td>reject</td>\n      <td>unequal</td>\n    </tr>\n    <tr>\n      <th>both / none</th>\n      <td>threat</td>\n      <td>-1.378584</td>\n      <td>0.168918</td>\n      <td>fail to reject</td>\n      <td>unequal</td>\n    </tr>\n  </tbody>\n</table>\n</div>"
     },
     "metadata": {}
    }
   ]
  },
  {
   "cell_type": "markdown",
   "source": "#### Filter the dataframes to only include those Threat comments that also have above average Sexual Explicit content ",
   "metadata": {
    "cell_id": "c9dcac474c904c1fb0b68f798bbe1246",
    "tags": [],
    "deepnote_cell_type": "markdown",
    "deepnote_cell_height": 77.953125
   }
  },
  {
   "cell_type": "code",
   "metadata": {
    "cell_id": "1702968530d3408382406ba1759a2d3b",
    "tags": [],
    "deepnote_to_be_reexecuted": false,
    "source_hash": "2316a5b9",
    "execution_start": 1650790037554,
    "execution_millis": 77,
    "deepnote_cell_type": "code",
    "deepnote_cell_height": 152.96875
   },
   "source": "threat_sex_explicit = c[(c.threat >= c.threat.mean())&(c.sexual_explicit >= c.sexual_explicit.mean())]\nmale_th_se = male_threat[male_threat.sexual_explicit >= c.sexual_explicit.mean()]\nfemale_th_se = female_threat[female_threat.sexual_explicit >= c.sexual_explicit.mean()]\nboth_th_se = both_threat[both_threat.sexual_explicit >= c.sexual_explicit.mean()]\nnone_th_se = none_threat[none_threat.sexual_explicit >= c.sexual_explicit.mean()]",
   "execution_count": null,
   "outputs": []
  },
  {
   "cell_type": "code",
   "metadata": {
    "cell_id": "7626916b4e4340afbef3434326af03b1",
    "tags": [],
    "deepnote_to_be_reexecuted": false,
    "source_hash": "630a7927",
    "execution_start": 1650790039361,
    "execution_millis": 30,
    "deepnote_cell_type": "code",
    "deepnote_cell_height": 320.921875
   },
   "source": "percentage_total_th_se = pd.concat([pd.Series(round((len(male_th_se)/len(threat_sex_explicit))*100, 2)).to_frame(name='Male'),\n                    pd.Series(round((len(female_th_se)/len(threat_sex_explicit))*100, 2)).to_frame(name='Female'),\n                    pd.Series(round((len(both_th_se)/len(threat_sex_explicit))*100, 2)).to_frame(name='Both'),          \n                    pd.Series(round((len(none_th_se)/len(threat_sex_explicit))*100, 2)).to_frame(name='None'),    \n                   ],axis=1).rename(index={0:'Percentage of Total'})\npercentage_total_th_se",
   "execution_count": null,
   "outputs": [
    {
     "output_type": "execute_result",
     "execution_count": 20,
     "data": {
      "application/vnd.deepnote.dataframe.v3+json": {
       "column_count": 4,
       "row_count": 1,
       "columns": [
        {
         "name": "Male",
         "dtype": "float64",
         "stats": {
          "unique_count": 1,
          "nan_count": 0,
          "min": "0.12",
          "max": "0.12",
          "histogram": [
           {
            "bin_start": -0.38,
            "bin_end": -0.28,
            "count": 0
           },
           {
            "bin_start": -0.28,
            "bin_end": -0.18,
            "count": 0
           },
           {
            "bin_start": -0.18,
            "bin_end": -0.07999999999999996,
            "count": 0
           },
           {
            "bin_start": -0.07999999999999996,
            "bin_end": 0.020000000000000018,
            "count": 0
           },
           {
            "bin_start": 0.020000000000000018,
            "bin_end": 0.12,
            "count": 0
           },
           {
            "bin_start": 0.12,
            "bin_end": 0.22000000000000008,
            "count": 1
           },
           {
            "bin_start": 0.22000000000000008,
            "bin_end": 0.32000000000000006,
            "count": 0
           },
           {
            "bin_start": 0.32000000000000006,
            "bin_end": 0.42000000000000004,
            "count": 0
           },
           {
            "bin_start": 0.42000000000000004,
            "bin_end": 0.52,
            "count": 0
           },
           {
            "bin_start": 0.52,
            "bin_end": 0.62,
            "count": 0
           }
          ]
         }
        },
        {
         "name": "Female",
         "dtype": "float64",
         "stats": {
          "unique_count": 1,
          "nan_count": 0,
          "min": "75.71",
          "max": "75.71",
          "histogram": [
           {
            "bin_start": 75.21,
            "bin_end": 75.30999999999999,
            "count": 0
           },
           {
            "bin_start": 75.30999999999999,
            "bin_end": 75.41,
            "count": 0
           },
           {
            "bin_start": 75.41,
            "bin_end": 75.50999999999999,
            "count": 0
           },
           {
            "bin_start": 75.50999999999999,
            "bin_end": 75.61,
            "count": 0
           },
           {
            "bin_start": 75.61,
            "bin_end": 75.71,
            "count": 0
           },
           {
            "bin_start": 75.71,
            "bin_end": 75.80999999999999,
            "count": 1
           },
           {
            "bin_start": 75.80999999999999,
            "bin_end": 75.91,
            "count": 0
           },
           {
            "bin_start": 75.91,
            "bin_end": 76.00999999999999,
            "count": 0
           },
           {
            "bin_start": 76.00999999999999,
            "bin_end": 76.11,
            "count": 0
           },
           {
            "bin_start": 76.11,
            "bin_end": 76.21,
            "count": 0
           }
          ]
         }
        },
        {
         "name": "Both",
         "dtype": "float64",
         "stats": {
          "unique_count": 1,
          "nan_count": 0,
          "min": "23.07",
          "max": "23.07",
          "histogram": [
           {
            "bin_start": 22.57,
            "bin_end": 22.67,
            "count": 0
           },
           {
            "bin_start": 22.67,
            "bin_end": 22.77,
            "count": 0
           },
           {
            "bin_start": 22.77,
            "bin_end": 22.87,
            "count": 0
           },
           {
            "bin_start": 22.87,
            "bin_end": 22.97,
            "count": 0
           },
           {
            "bin_start": 22.97,
            "bin_end": 23.07,
            "count": 0
           },
           {
            "bin_start": 23.07,
            "bin_end": 23.17,
            "count": 1
           },
           {
            "bin_start": 23.17,
            "bin_end": 23.27,
            "count": 0
           },
           {
            "bin_start": 23.27,
            "bin_end": 23.37,
            "count": 0
           },
           {
            "bin_start": 23.37,
            "bin_end": 23.47,
            "count": 0
           },
           {
            "bin_start": 23.47,
            "bin_end": 23.57,
            "count": 0
           }
          ]
         }
        },
        {
         "name": "None",
         "dtype": "float64",
         "stats": {
          "unique_count": 1,
          "nan_count": 0,
          "min": "1.1",
          "max": "1.1",
          "histogram": [
           {
            "bin_start": 0.6000000000000001,
            "bin_end": 0.7000000000000001,
            "count": 0
           },
           {
            "bin_start": 0.7000000000000001,
            "bin_end": 0.8,
            "count": 0
           },
           {
            "bin_start": 0.8,
            "bin_end": 0.9000000000000001,
            "count": 0
           },
           {
            "bin_start": 0.9000000000000001,
            "bin_end": 1,
            "count": 0
           },
           {
            "bin_start": 1,
            "bin_end": 1.1,
            "count": 0
           },
           {
            "bin_start": 1.1,
            "bin_end": 1.2000000000000002,
            "count": 1
           },
           {
            "bin_start": 1.2000000000000002,
            "bin_end": 1.3000000000000003,
            "count": 0
           },
           {
            "bin_start": 1.3000000000000003,
            "bin_end": 1.4000000000000001,
            "count": 0
           },
           {
            "bin_start": 1.4000000000000001,
            "bin_end": 1.5,
            "count": 0
           },
           {
            "bin_start": 1.5,
            "bin_end": 1.6,
            "count": 0
           }
          ]
         }
        },
        {
         "name": "_deepnote_index_column",
         "dtype": "object"
        }
       ],
       "rows": [
        {
         "Male": 0.12,
         "Female": 75.71,
         "Both": 23.07,
         "None": 1.1,
         "_deepnote_index_column": "Percentage of Total"
        }
       ]
      },
      "text/plain": "                     Male  Female   Both  None\nPercentage of Total  0.12   75.71  23.07   1.1",
      "text/html": "<div>\n<style scoped>\n    .dataframe tbody tr th:only-of-type {\n        vertical-align: middle;\n    }\n\n    .dataframe tbody tr th {\n        vertical-align: top;\n    }\n\n    .dataframe thead th {\n        text-align: right;\n    }\n</style>\n<table border=\"1\" class=\"dataframe\">\n  <thead>\n    <tr style=\"text-align: right;\">\n      <th></th>\n      <th>Male</th>\n      <th>Female</th>\n      <th>Both</th>\n      <th>None</th>\n    </tr>\n  </thead>\n  <tbody>\n    <tr>\n      <th>Percentage of Total</th>\n      <td>0.12</td>\n      <td>75.71</td>\n      <td>23.07</td>\n      <td>1.1</td>\n    </tr>\n  </tbody>\n</table>\n</div>"
     },
     "metadata": {}
    }
   ]
  },
  {
   "cell_type": "markdown",
   "source": "#### Run the T-tests again for each comparison with the updated threat comments",
   "metadata": {
    "cell_id": "115ab1e331a04865acf15ffe5a46c2b7",
    "tags": [],
    "deepnote_cell_type": "markdown",
    "deepnote_cell_height": 53.953125
   }
  },
  {
   "cell_type": "code",
   "metadata": {
    "cell_id": "cecfd7d9cd5e45f881cb610f099ce609",
    "tags": [],
    "deepnote_to_be_reexecuted": false,
    "source_hash": "bfb242bf",
    "execution_start": 1650790230228,
    "execution_millis": 36,
    "deepnote_cell_type": "code",
    "deepnote_cell_height": 543.890625
   },
   "source": "threat_sex_explicit_df = collect_test_statistics(female_th_se, male_th_se, alpha=0.05)\nthreat_sex_explicit_df = threat_sex_explicit_df.append(collect_test_statistics(female_th_se, both_th_se, alpha=0.05))\nthreat_sex_explicit_df = threat_sex_explicit_df.append(collect_test_statistics(female_th_se, none_th_se, alpha=0.05))\nthreat_sex_explicit_df = threat_sex_explicit_df.append(collect_test_statistics(male_th_se, both_th_se, alpha=0.05))\nthreat_sex_explicit_df = threat_sex_explicit_df.append(collect_test_statistics(male_th_se, none_th_se, alpha=0.05))\nthreat_sex_explicit_df = threat_sex_explicit_df.append(collect_test_statistics(both_th_se, none_th_se, alpha=0.05))\nthreat_sex_explicit_df",
   "execution_count": null,
   "outputs": [
    {
     "output_type": "execute_result",
     "execution_count": 22,
     "data": {
      "application/vnd.deepnote.dataframe.v3+json": {
       "column_count": 5,
       "row_count": 6,
       "columns": [
        {
         "name": "variable",
         "dtype": "object",
         "stats": {
          "unique_count": 1,
          "nan_count": 0,
          "categories": [
           {
            "name": "threat",
            "count": 6
           }
          ]
         }
        },
        {
         "name": "t-statistic",
         "dtype": "object",
         "stats": {
          "unique_count": 6,
          "nan_count": 0,
          "categories": [
           {
            "name": "2.158725218368797",
            "count": 1
           },
           {
            "name": "6.877040162448745",
            "count": 1
           },
           {
            "name": "4 others",
            "count": 4
           }
          ]
         }
        },
        {
         "name": "p-value",
         "dtype": "object",
         "stats": {
          "unique_count": 6,
          "nan_count": 0,
          "categories": [
           {
            "name": "0.04982957732413051",
            "count": 1
           },
           {
            "name": "6.8512361196209386e-12",
            "count": 1
           },
           {
            "name": "4 others",
            "count": 4
           }
          ]
         }
        },
        {
         "name": "H0",
         "dtype": "object",
         "stats": {
          "unique_count": 2,
          "nan_count": 0,
          "categories": [
           {
            "name": "reject",
            "count": 3
           },
           {
            "name": "fail to reject",
            "count": 3
           }
          ]
         }
        },
        {
         "name": "variance",
         "dtype": "object",
         "stats": {
          "unique_count": 1,
          "nan_count": 0,
          "categories": [
           {
            "name": "unequal",
            "count": 6
           }
          ]
         }
        },
        {
         "name": "_deepnote_index_column",
         "dtype": "object"
        }
       ],
       "rows": [
        {
         "variable": "threat",
         "t-statistic": "2.158725218368797",
         "p-value": "0.04982957732413051",
         "H0": "reject",
         "variance": "unequal",
         "_deepnote_index_column": "female / male"
        },
        {
         "variable": "threat",
         "t-statistic": "6.877040162448745",
         "p-value": "6.8512361196209386e-12",
         "H0": "reject",
         "variance": "unequal",
         "_deepnote_index_column": "female / both"
        },
        {
         "variable": "threat",
         "t-statistic": "2.472049947807472",
         "p-value": "0.014628293626616272",
         "H0": "reject",
         "variance": "unequal",
         "_deepnote_index_column": "female / none"
        },
        {
         "variable": "threat",
         "t-statistic": "-0.9762683817620743",
         "p-value": "0.34602484631381514",
         "H0": "fail to reject",
         "variance": "unequal",
         "_deepnote_index_column": "male / both"
        },
        {
         "variable": "threat",
         "t-statistic": "-0.8030503603548174",
         "p-value": "0.43122871228779613",
         "H0": "fail to reject",
         "variance": "unequal",
         "_deepnote_index_column": "male / none"
        },
        {
         "variable": "threat",
         "t-statistic": "0.16558701574677376",
         "p-value": "0.868697698443502",
         "H0": "fail to reject",
         "variance": "unequal",
         "_deepnote_index_column": "both / none"
        }
       ]
      },
      "text/plain": "              variable t-statistic   p-value              H0 variance\nfemale / male   threat    2.158725   0.04983          reject  unequal\nfemale / both   threat     6.87704       0.0          reject  unequal\nfemale / none   threat     2.47205  0.014628          reject  unequal\nmale / both     threat   -0.976268  0.346025  fail to reject  unequal\nmale / none     threat    -0.80305  0.431229  fail to reject  unequal\nboth / none     threat    0.165587  0.868698  fail to reject  unequal",
      "text/html": "<div>\n<style scoped>\n    .dataframe tbody tr th:only-of-type {\n        vertical-align: middle;\n    }\n\n    .dataframe tbody tr th {\n        vertical-align: top;\n    }\n\n    .dataframe thead th {\n        text-align: right;\n    }\n</style>\n<table border=\"1\" class=\"dataframe\">\n  <thead>\n    <tr style=\"text-align: right;\">\n      <th></th>\n      <th>variable</th>\n      <th>t-statistic</th>\n      <th>p-value</th>\n      <th>H0</th>\n      <th>variance</th>\n    </tr>\n  </thead>\n  <tbody>\n    <tr>\n      <th>female / male</th>\n      <td>threat</td>\n      <td>2.158725</td>\n      <td>0.04983</td>\n      <td>reject</td>\n      <td>unequal</td>\n    </tr>\n    <tr>\n      <th>female / both</th>\n      <td>threat</td>\n      <td>6.87704</td>\n      <td>0.0</td>\n      <td>reject</td>\n      <td>unequal</td>\n    </tr>\n    <tr>\n      <th>female / none</th>\n      <td>threat</td>\n      <td>2.47205</td>\n      <td>0.014628</td>\n      <td>reject</td>\n      <td>unequal</td>\n    </tr>\n    <tr>\n      <th>male / both</th>\n      <td>threat</td>\n      <td>-0.976268</td>\n      <td>0.346025</td>\n      <td>fail to reject</td>\n      <td>unequal</td>\n    </tr>\n    <tr>\n      <th>male / none</th>\n      <td>threat</td>\n      <td>-0.80305</td>\n      <td>0.431229</td>\n      <td>fail to reject</td>\n      <td>unequal</td>\n    </tr>\n    <tr>\n      <th>both / none</th>\n      <td>threat</td>\n      <td>0.165587</td>\n      <td>0.868698</td>\n      <td>fail to reject</td>\n      <td>unequal</td>\n    </tr>\n  </tbody>\n</table>\n</div>"
     },
     "metadata": {}
    }
   ]
  },
  {
   "cell_type": "code",
   "metadata": {
    "cell_id": "95aa47dd5b28420cbe28be6e8c0f797e",
    "tags": [],
    "deepnote_cell_type": "code",
    "deepnote_cell_height": 65.953125
   },
   "source": "",
   "execution_count": null,
   "outputs": []
  },
  {
   "cell_type": "markdown",
   "source": "<a style='text-decoration:none;line-height:16px;display:flex;color:#5B5B62;padding:10px;justify-content:end;' href='https://deepnote.com?utm_source=created-in-deepnote-cell&projectId=b22dad3f-c925-4cd0-bb81-e22d83bd774f' target=\"_blank\">\n<img alt='Created in deepnote.com' style='display:inline;max-height:16px;margin:0px;margin-right:7.5px;' src='data:image/svg+xml;base64,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' > </img>\nCreated in <span style='font-weight:600;margin-left:4px;'>Deepnote</span></a>",
   "metadata": {
    "tags": [],
    "created_in_deepnote_cell": true,
    "deepnote_cell_type": "markdown"
   }
  }
 ],
 "nbformat": 4,
 "nbformat_minor": 2,
 "metadata": {
  "orig_nbformat": 2,
  "deepnote": {},
  "deepnote_notebook_id": "9abce60d-0209-491c-a440-c6bffd59fcde",
  "deepnote_execution_queue": []
 }
}
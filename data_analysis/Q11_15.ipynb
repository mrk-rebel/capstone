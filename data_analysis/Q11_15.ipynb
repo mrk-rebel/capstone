{
 "cells": [
  {
   "cell_type": "markdown",
   "source": "## Question 11\n\nWhen do Redditors respond to hate speech?\n\n#### Operationalized questions: \n* What is the time gap between the original submission and the comments with toxic speech?\n\n* What is the time gap between the first comment with toxic speech and the next comment with toxic speech?\n\n#### Hypothesis:\nThe time gap between the first hateful or offensive comment and the next hateful or offensive comment will be shorter than the gap between the original submission and the first hateful or offensive comment.\n\n#### Results:\nBased on the results, we found that our hypothesis was correct. Given the high number of outliers in response time for both conditions, we chose to look at the median time gap instead of the mean time gap. For initial toxic comments responding to submissions, the median time gap was 3 hours, 49 seconds, whereas the median time gap for second toxic comments responding to first toxic comments was 1 hour, 13 minutes, resulting in a difference of around 2 hours and 36 minutes between the two conditions. When examining the response rate for both conditions after 5 minutes, 30 minutes, 1 hour, and 24 hours, we find that initial toxic comments receive a higher number of responses at each time metric. We can therefore determine that, based on our sampled dataset, toxic comments are posted slightly faster when responding to an initial toxic comment, as opposed to a submission.\n",
   "metadata": {
    "cell_id": "20a0fee282d94118b89d3b3415f6570d",
    "tags": [],
    "deepnote_cell_type": "markdown",
    "deepnote_cell_height": 542.09375
   }
  },
  {
   "cell_type": "code",
   "metadata": {
    "cell_id": "53b97492e2fd407c9febcd3a36cf3130",
    "tags": [],
    "deepnote_to_be_reexecuted": false,
    "source_hash": "7271d7a9",
    "execution_start": 1650772317436,
    "execution_millis": 1768,
    "deepnote_cell_type": "code",
    "deepnote_cell_height": 170.953125
   },
   "source": "import pandas as pd\nimport numpy as np\nfrom scipy.stats import ttest_ind\nimport seaborn as sns\nimport matplotlib.pyplot as plt\nfrom tqdm import tqdm",
   "execution_count": null,
   "outputs": []
  },
  {
   "cell_type": "markdown",
   "source": "#### Read in the comments and submissions data",
   "metadata": {
    "cell_id": "7a310c8a74854598a28d9784ebe7908c",
    "tags": [],
    "deepnote_cell_type": "markdown",
    "deepnote_cell_height": 53.953125
   }
  },
  {
   "cell_type": "code",
   "metadata": {
    "cell_id": "d40ba071999148cab59b3726da6a74ce",
    "tags": [],
    "deepnote_to_be_reexecuted": false,
    "source_hash": "c73f6e37",
    "execution_start": 1650772319208,
    "execution_millis": 5486,
    "deepnote_cell_type": "code",
    "deepnote_cell_height": 152.875
   },
   "source": "c = pd.read_csv('../data/processed/comments.csv')\ns = pd.read_csv('../data/processed/submissions.csv')",
   "execution_count": null,
   "outputs": [
    {
     "name": "stderr",
     "text": "/shared-libs/python3.9/py-core/lib/python3.9/site-packages/IPython/core/interactiveshell.py:3228: DtypeWarning: Columns (5,6,7,8,9,11,12,15) have mixed types.Specify dtype option on import or set low_memory=False.\n  has_raised = await self.run_ast_nodes(code_ast.body, cell_name,\n",
     "output_type": "stream"
    }
   ]
  },
  {
   "cell_type": "markdown",
   "source": "#### Create a time difference dataframe\n\nThis dataframe allows us to merge statistics for all toxic comments and submissions, as well as the TimeDelta and total second differences between a submission and the toxic comments posted to that submission.\n\nNote: Due to this cell taking a long time to run, there is an option to import the csv file from our data folder. ",
   "metadata": {
    "cell_id": "1ddfaadb5a734ebaac6f9c584feec043",
    "tags": [],
    "deepnote_cell_type": "markdown",
    "deepnote_cell_height": 147.140625
   }
  },
  {
   "cell_type": "code",
   "metadata": {
    "cell_id": "ba8a316d57734ed393a9f211575243fa",
    "tags": [],
    "deepnote_to_be_reexecuted": false,
    "source_hash": "4b055d40",
    "execution_start": 1650772324337,
    "execution_millis": 2762,
    "deepnote_cell_type": "code",
    "deepnote_cell_height": 836.953125
   },
   "source": "def create_time_difference_df(import_csv_for_speed=True):\n\n    comms_df = c[['davidson_label','created_utc','created','submission_id','subreddit', 'subreddit_id','body']]\n    comms_df = comms_df[comms_df.davidson_label != 2]\n    comms_df = comms_df.rename(columns={'body':'comments_body'})\n\n    subs_df = s[['created_utc', 'created','id','subreddit', 'title']]\n    subs_df = subs_df.rename(columns={'id':'submission_id', 'title':'sub_body'})\n\n    merged_df = pd.merge(subs_df, comms_df, how='left', on='submission_id')\n    merged_df['created_x'] = pd.to_datetime(merged_df['created_x'])\n    merged_df['created_y'] = pd.to_datetime(merged_df['created_y'])\n\n    merged_df['t_difference_sub_com'] = merged_df['created_y'] - merged_df['created_x']\n    merged_df = merged_df.rename(columns={'created_x':'created_sub'})\n    merged_df = merged_df[['created_sub','t_difference_sub_com','submission_id', 'sub_body', 'comments_body', 'created_y']]      \n    merged_df = merged_df[merged_df.t_difference_sub_com.isnull() != True]\n    \n    if import_csv_for_speed == False:\n        for i in tqdm(merged_df.submission_id.unique()):\n            merged_df.loc[merged_df['submission_id']==i,'t_difference_com_com'] = merged_df[merged_df.submission_id == i].sort_values('created_y').created_y.diff()\n    \n    else:\n        merged_df = pd.read_csv('../data/viz/time_difference_df.csv').set_index('Unnamed: 0')\n        merged_df['created_sub'] = pd.to_datetime(merged_df['created_sub'])\n        merged_df['created_y'] = pd.to_datetime(merged_df['created_y'])\n        merged_df['t_difference_sub_com'] = pd.to_timedelta(merged_df['t_difference_sub_com'])\n        merged_df['t_difference_com_com'] = pd.to_timedelta(merged_df['t_difference_com_com'])\n\n\n    merged_df['t_difference_sub_com_total_seconds'] = [i.total_seconds() for i in merged_df['t_difference_sub_com']]\n    merged_df['t_difference_com_com_total_seconds'] = [i.total_seconds() for i in merged_df['t_difference_com_com']]\n    \n    merged_df = merged_df[['submission_id', 'sub_body', 'created_sub','t_difference_sub_com',\n                           't_difference_sub_com_total_seconds','comments_body','created_y',\n                           't_difference_com_com','t_difference_com_com_total_seconds']]\n    merged_df = merged_df.rename(columns={'created_y':'created_comment'})\n    merged_df = merged_df.drop(merged_df[merged_df.t_difference_sub_com_total_seconds < 0].index)\n    \n    return merged_df\n    \ntime_difference_df = create_time_difference_df(import_csv_for_speed=True)    \n",
   "execution_count": null,
   "outputs": []
  },
  {
   "cell_type": "code",
   "metadata": {
    "cell_id": "d5769dd1f10a4e4299f7b41866af1982",
    "tags": [],
    "deepnote_to_be_reexecuted": false,
    "source_hash": "ef50af72",
    "execution_start": 1650772327132,
    "execution_millis": 352,
    "deepnote_cell_type": "code",
    "deepnote_cell_height": 410.34375
   },
   "source": "time_difference_df.head()",
   "execution_count": null,
   "outputs": [
    {
     "output_type": "execute_result",
     "execution_count": 4,
     "data": {
      "application/vnd.deepnote.dataframe.v3+json": {
       "column_count": 9,
       "row_count": 5,
       "columns": [
        {
         "name": "submission_id",
         "dtype": "object",
         "stats": {
          "unique_count": 2,
          "nan_count": 0,
          "categories": [
           {
            "name": "rsqn77",
            "count": 3
           },
           {
            "name": "rsvx9y",
            "count": 2
           }
          ]
         }
        },
        {
         "name": "sub_body",
         "dtype": "object",
         "stats": {
          "unique_count": 2,
          "nan_count": 0,
          "categories": [
           {
            "name": "Dear Diary… It’s me, RuPaul, and I know who Alisa Summers is - December 31, 2021",
            "count": 3
           },
           {
            "name": "🎊Happy New Years SLUTS 🍆",
            "count": 2
           }
          ]
         }
        },
        {
         "name": "created_sub",
         "dtype": "datetime64[ns]",
         "stats": {
          "unique_count": 2,
          "nan_count": 0,
          "min": "2021-12-31 10:00:15",
          "max": "2021-12-31 15:11:45",
          "histogram": [
           {
            "bin_start": 1640944815000000000,
            "bin_end": 1640946684000000000,
            "count": 3
           },
           {
            "bin_start": 1640946684000000000,
            "bin_end": 1640948553000000000,
            "count": 0
           },
           {
            "bin_start": 1640948553000000000,
            "bin_end": 1640950422000000000,
            "count": 0
           },
           {
            "bin_start": 1640950422000000000,
            "bin_end": 1640952291000000000,
            "count": 0
           },
           {
            "bin_start": 1640952291000000000,
            "bin_end": 1640954160000000000,
            "count": 0
           },
           {
            "bin_start": 1640954160000000000,
            "bin_end": 1640956029000000000,
            "count": 0
           },
           {
            "bin_start": 1640956029000000000,
            "bin_end": 1640957898000000000,
            "count": 0
           },
           {
            "bin_start": 1640957898000000000,
            "bin_end": 1640959767000000000,
            "count": 0
           },
           {
            "bin_start": 1640959767000000000,
            "bin_end": 1640961636000000000,
            "count": 0
           },
           {
            "bin_start": 1640961636000000000,
            "bin_end": 1640963505000000000,
            "count": 2
           }
          ]
         }
        },
        {
         "name": "t_difference_sub_com",
         "dtype": "timedelta64[ns]",
         "stats": {
          "unique_count": 5,
          "nan_count": 0,
          "min": "0 days 09:12:25",
          "max": "0 days 21:02:13",
          "histogram": [
           {
            "bin_start": 33145000000000,
            "bin_end": 37403800000000,
            "count": 1
           },
           {
            "bin_start": 37403800000000,
            "bin_end": 41662600000000,
            "count": 0
           },
           {
            "bin_start": 41662600000000,
            "bin_end": 45921400000000,
            "count": 0
           },
           {
            "bin_start": 45921400000000,
            "bin_end": 50180200000000,
            "count": 0
           },
           {
            "bin_start": 50180200000000,
            "bin_end": 54439000000000,
            "count": 0
           },
           {
            "bin_start": 54439000000000,
            "bin_end": 58697800000000,
            "count": 2
           },
           {
            "bin_start": 58697800000000,
            "bin_end": 62956600000000,
            "count": 0
           },
           {
            "bin_start": 62956600000000,
            "bin_end": 67215400000000,
            "count": 1
           },
           {
            "bin_start": 67215400000000,
            "bin_end": 71474200000000,
            "count": 0
           },
           {
            "bin_start": 71474200000000,
            "bin_end": 75733000000000,
            "count": 1
           }
          ]
         }
        },
        {
         "name": "t_difference_sub_com_total_seconds",
         "dtype": "float64",
         "stats": {
          "unique_count": 5,
          "nan_count": 0,
          "min": "33145.0",
          "max": "75733.0",
          "histogram": [
           {
            "bin_start": 33145,
            "bin_end": 37403.8,
            "count": 1
           },
           {
            "bin_start": 37403.8,
            "bin_end": 41662.6,
            "count": 0
           },
           {
            "bin_start": 41662.6,
            "bin_end": 45921.4,
            "count": 0
           },
           {
            "bin_start": 45921.4,
            "bin_end": 50180.2,
            "count": 0
           },
           {
            "bin_start": 50180.2,
            "bin_end": 54439,
            "count": 0
           },
           {
            "bin_start": 54439,
            "bin_end": 58697.8,
            "count": 2
           },
           {
            "bin_start": 58697.8,
            "bin_end": 62956.600000000006,
            "count": 0
           },
           {
            "bin_start": 62956.600000000006,
            "bin_end": 67215.4,
            "count": 1
           },
           {
            "bin_start": 67215.4,
            "bin_end": 71474.20000000001,
            "count": 0
           },
           {
            "bin_start": 71474.20000000001,
            "bin_end": 75733,
            "count": 1
           }
          ]
         }
        },
        {
         "name": "comments_body",
         "dtype": "object",
         "stats": {
          "unique_count": 5,
          "nan_count": 0,
          "categories": [
           {
            "name": "CummyBot2000 I'm your slut and you can fuck me with your hard cock, drop those big balls of yours on me and pop your cork in my thirsty hole while I spread my legs. I am BEGGING for your cock please plow me ANALLY and cumblast me for the next 365.25 days",
            "count": 1
           },
           {
            "name": "CummyBot2000 I'm your slut and you can fuck me with your hard cock, drop  \n those big balls of yours on me and pop your cork in my thirsty hole   \nwhile I spread my legs. I am BEGGING for your cock please plow me ANALLY  \n and cumblast me for the next 365.25 days",
            "count": 1
           },
           {
            "name": "3 others",
            "count": 3
           }
          ]
         }
        },
        {
         "name": "created_comment",
         "dtype": "datetime64[ns]",
         "stats": {
          "unique_count": 5,
          "nan_count": 0,
          "min": "2022-01-01 00:24:10",
          "max": "2022-01-01 08:44:57",
          "histogram": [
           {
            "bin_start": 1640996650000000000,
            "bin_end": 1640999654700000000,
            "count": 1
           },
           {
            "bin_start": 1640999654700000000,
            "bin_end": 1641002659400000000,
            "count": 1
           },
           {
            "bin_start": 1641002659400000000,
            "bin_end": 1641005664100000000,
            "count": 1
           },
           {
            "bin_start": 1641005664100000000,
            "bin_end": 1641008668800000000,
            "count": 0
           },
           {
            "bin_start": 1641008668800000000,
            "bin_end": 1641011673500000000,
            "count": 0
           },
           {
            "bin_start": 1641011673500000000,
            "bin_end": 1641014678200000000,
            "count": 0
           },
           {
            "bin_start": 1641014678200000000,
            "bin_end": 1641017682900000000,
            "count": 0
           },
           {
            "bin_start": 1641017682900000000,
            "bin_end": 1641020687600000000,
            "count": 1
           },
           {
            "bin_start": 1641020687600000000,
            "bin_end": 1641023692300000000,
            "count": 0
           },
           {
            "bin_start": 1641023692300000000,
            "bin_end": 1641026697000000000,
            "count": 1
           }
          ]
         }
        },
        {
         "name": "t_difference_com_com",
         "dtype": "timedelta64[ns]",
         "stats": {
          "unique_count": 3,
          "nan_count": 2,
          "min": "0 days 00:13:00",
          "max": "0 days 08:20:47",
          "histogram": [
           {
            "bin_start": 780000000000,
            "bin_end": 3706700000000,
            "count": 1
           },
           {
            "bin_start": 3706700000000,
            "bin_end": 6633400000000,
            "count": 0
           },
           {
            "bin_start": 6633400000000,
            "bin_end": 9560100000000,
            "count": 0
           },
           {
            "bin_start": 9560100000000,
            "bin_end": 12486800000000,
            "count": 0
           },
           {
            "bin_start": 12486800000000,
            "bin_end": 15413500000000,
            "count": 0
           },
           {
            "bin_start": 15413500000000,
            "bin_end": 18340200000000,
            "count": 1
           },
           {
            "bin_start": 18340200000000,
            "bin_end": 21266900000000,
            "count": 0
           },
           {
            "bin_start": 21266900000000,
            "bin_end": 24193600000000,
            "count": 0
           },
           {
            "bin_start": 24193600000000,
            "bin_end": 27120300000000,
            "count": 0
           },
           {
            "bin_start": 27120300000000,
            "bin_end": 30047000000000,
            "count": 1
           }
          ]
         }
        },
        {
         "name": "t_difference_com_com_total_seconds",
         "dtype": "float64",
         "stats": {
          "unique_count": 3,
          "nan_count": 2,
          "min": "780.0",
          "max": "30047.0",
          "histogram": [
           {
            "bin_start": 780,
            "bin_end": 3706.7,
            "count": 1
           },
           {
            "bin_start": 3706.7,
            "bin_end": 6633.4,
            "count": 0
           },
           {
            "bin_start": 6633.4,
            "bin_end": 9560.099999999999,
            "count": 0
           },
           {
            "bin_start": 9560.099999999999,
            "bin_end": 12486.8,
            "count": 0
           },
           {
            "bin_start": 12486.8,
            "bin_end": 15413.5,
            "count": 0
           },
           {
            "bin_start": 15413.5,
            "bin_end": 18340.199999999997,
            "count": 1
           },
           {
            "bin_start": 18340.199999999997,
            "bin_end": 21266.899999999998,
            "count": 0
           },
           {
            "bin_start": 21266.899999999998,
            "bin_end": 24193.6,
            "count": 0
           },
           {
            "bin_start": 24193.6,
            "bin_end": 27120.3,
            "count": 0
           },
           {
            "bin_start": 27120.3,
            "bin_end": 30047,
            "count": 1
           }
          ]
         }
        },
        {
         "name": "_deepnote_index_column",
         "dtype": "int64"
        }
       ],
       "rows": [
        {
         "submission_id": "rsvx9y",
         "sub_body": "🎊Happy New Years SLUTS 🍆",
         "created_sub": "2021-12-31T15:11:45.000000",
         "t_difference_sub_com": "0 days 09:12:25",
         "t_difference_sub_com_total_seconds": 33145,
         "comments_body": "CummyBot2000 I'm your slut and you can fuck me with your hard cock, drop those big balls of yours on me and pop your cork in my thirsty hole while I spread my legs. I am BEGGING for your cock please plow me ANALLY and cumblast me for the next 365.25 days",
         "created_comment": "2022-01-01T00:24:10.000000",
         "t_difference_com_com": "NaT",
         "t_difference_com_com_total_seconds": "nan",
         "_deepnote_index_column": 1
        },
        {
         "submission_id": "rsvx9y",
         "sub_body": "🎊Happy New Years SLUTS 🍆",
         "created_sub": "2021-12-31T15:11:45.000000",
         "t_difference_sub_com": "0 days 17:33:12",
         "t_difference_sub_com_total_seconds": 63192,
         "comments_body": "CummyBot2000 I'm your slut and you can fuck me with your hard cock, drop  \n those big balls of yours on me and pop your cork in my thirsty hole   \nwhile I spread my legs. I am BEGGING for your cock please plow me ANALLY  \n and cumblast me for the next 365.25 days",
         "created_comment": "2022-01-01T08:44:57.000000",
         "t_difference_com_com": "0 days 08:20:47",
         "t_difference_com_com_total_seconds": 30047,
         "_deepnote_index_column": 2
        },
        {
         "submission_id": "rsqn77",
         "sub_body": "Dear Diary… It’s me, RuPaul, and I know who Alisa Summers is - December 31, 2021",
         "created_sub": "2021-12-31T10:00:15.000000",
         "t_difference_sub_com": "0 days 15:51:27",
         "t_difference_sub_com_total_seconds": 57087,
         "comments_body": "MADDYS ENTRANCE LOOK BEING GUY FIERI IS SO CUNT",
         "created_comment": "2022-01-01T01:51:42.000000",
         "t_difference_com_com": "NaT",
         "t_difference_com_com_total_seconds": "nan",
         "_deepnote_index_column": 5
        },
        {
         "submission_id": "rsqn77",
         "sub_body": "Dear Diary… It’s me, RuPaul, and I know who Alisa Summers is - December 31, 2021",
         "created_sub": "2021-12-31T10:00:15.000000",
         "t_difference_sub_com": "0 days 16:04:27",
         "t_difference_sub_com_total_seconds": 57867,
         "comments_body": "You’re the queen of making cast lists that are chock full of the best talent to offer. This would be the most loaded season of CUNT queens around the world that could ever be a reality",
         "created_comment": "2022-01-01T02:04:42.000000",
         "t_difference_com_com": "0 days 00:13:00",
         "t_difference_com_com_total_seconds": 780,
         "_deepnote_index_column": 6
        },
        {
         "submission_id": "rsqn77",
         "sub_body": "Dear Diary… It’s me, RuPaul, and I know who Alisa Summers is - December 31, 2021",
         "created_sub": "2021-12-31T10:00:15.000000",
         "t_difference_sub_com": "0 days 21:02:13",
         "t_difference_sub_com_total_seconds": 75733,
         "comments_body": "People will still manage to shit on the season no matter HOW it turns out saying \"drag race is getting more stale or too complex\" so there's no winning there.\nI'm hoping Bosco is received well bc so far I like them and yeah we need more slut queens on the show!",
         "created_comment": "2022-01-01T07:02:28.000000",
         "t_difference_com_com": "0 days 04:57:46",
         "t_difference_com_com_total_seconds": 17866,
         "_deepnote_index_column": 7
        }
       ]
      },
      "text/plain": "           submission_id                                           sub_body  \\\nUnnamed: 0                                                                    \n1                 rsvx9y                           🎊Happy New Years SLUTS 🍆   \n2                 rsvx9y                           🎊Happy New Years SLUTS 🍆   \n5                 rsqn77  Dear Diary… It’s me, RuPaul, and I know who Al...   \n6                 rsqn77  Dear Diary… It’s me, RuPaul, and I know who Al...   \n7                 rsqn77  Dear Diary… It’s me, RuPaul, and I know who Al...   \n\n                   created_sub t_difference_sub_com  \\\nUnnamed: 0                                            \n1          2021-12-31 15:11:45      0 days 09:12:25   \n2          2021-12-31 15:11:45      0 days 17:33:12   \n5          2021-12-31 10:00:15      0 days 15:51:27   \n6          2021-12-31 10:00:15      0 days 16:04:27   \n7          2021-12-31 10:00:15      0 days 21:02:13   \n\n            t_difference_sub_com_total_seconds  \\\nUnnamed: 0                                       \n1                                      33145.0   \n2                                      63192.0   \n5                                      57087.0   \n6                                      57867.0   \n7                                      75733.0   \n\n                                                comments_body  \\\nUnnamed: 0                                                      \n1           CummyBot2000 I'm your slut and you can fuck me...   \n2           CummyBot2000 I'm your slut and you can fuck me...   \n5             MADDYS ENTRANCE LOOK BEING GUY FIERI IS SO CUNT   \n6           You’re the queen of making cast lists that are...   \n7           People will still manage to shit on the season...   \n\n               created_comment t_difference_com_com  \\\nUnnamed: 0                                            \n1          2022-01-01 00:24:10                  NaT   \n2          2022-01-01 08:44:57      0 days 08:20:47   \n5          2022-01-01 01:51:42                  NaT   \n6          2022-01-01 02:04:42      0 days 00:13:00   \n7          2022-01-01 07:02:28      0 days 04:57:46   \n\n            t_difference_com_com_total_seconds  \nUnnamed: 0                                      \n1                                          NaN  \n2                                      30047.0  \n5                                          NaN  \n6                                        780.0  \n7                                      17866.0  ",
      "text/html": "<div>\n<style scoped>\n    .dataframe tbody tr th:only-of-type {\n        vertical-align: middle;\n    }\n\n    .dataframe tbody tr th {\n        vertical-align: top;\n    }\n\n    .dataframe thead th {\n        text-align: right;\n    }\n</style>\n<table border=\"1\" class=\"dataframe\">\n  <thead>\n    <tr style=\"text-align: right;\">\n      <th></th>\n      <th>submission_id</th>\n      <th>sub_body</th>\n      <th>created_sub</th>\n      <th>t_difference_sub_com</th>\n      <th>t_difference_sub_com_total_seconds</th>\n      <th>comments_body</th>\n      <th>created_comment</th>\n      <th>t_difference_com_com</th>\n      <th>t_difference_com_com_total_seconds</th>\n    </tr>\n    <tr>\n      <th>Unnamed: 0</th>\n      <th></th>\n      <th></th>\n      <th></th>\n      <th></th>\n      <th></th>\n      <th></th>\n      <th></th>\n      <th></th>\n      <th></th>\n    </tr>\n  </thead>\n  <tbody>\n    <tr>\n      <th>1</th>\n      <td>rsvx9y</td>\n      <td>🎊Happy New Years SLUTS 🍆</td>\n      <td>2021-12-31 15:11:45</td>\n      <td>0 days 09:12:25</td>\n      <td>33145.0</td>\n      <td>CummyBot2000 I'm your slut and you can fuck me...</td>\n      <td>2022-01-01 00:24:10</td>\n      <td>NaT</td>\n      <td>NaN</td>\n    </tr>\n    <tr>\n      <th>2</th>\n      <td>rsvx9y</td>\n      <td>🎊Happy New Years SLUTS 🍆</td>\n      <td>2021-12-31 15:11:45</td>\n      <td>0 days 17:33:12</td>\n      <td>63192.0</td>\n      <td>CummyBot2000 I'm your slut and you can fuck me...</td>\n      <td>2022-01-01 08:44:57</td>\n      <td>0 days 08:20:47</td>\n      <td>30047.0</td>\n    </tr>\n    <tr>\n      <th>5</th>\n      <td>rsqn77</td>\n      <td>Dear Diary… It’s me, RuPaul, and I know who Al...</td>\n      <td>2021-12-31 10:00:15</td>\n      <td>0 days 15:51:27</td>\n      <td>57087.0</td>\n      <td>MADDYS ENTRANCE LOOK BEING GUY FIERI IS SO CUNT</td>\n      <td>2022-01-01 01:51:42</td>\n      <td>NaT</td>\n      <td>NaN</td>\n    </tr>\n    <tr>\n      <th>6</th>\n      <td>rsqn77</td>\n      <td>Dear Diary… It’s me, RuPaul, and I know who Al...</td>\n      <td>2021-12-31 10:00:15</td>\n      <td>0 days 16:04:27</td>\n      <td>57867.0</td>\n      <td>You’re the queen of making cast lists that are...</td>\n      <td>2022-01-01 02:04:42</td>\n      <td>0 days 00:13:00</td>\n      <td>780.0</td>\n    </tr>\n    <tr>\n      <th>7</th>\n      <td>rsqn77</td>\n      <td>Dear Diary… It’s me, RuPaul, and I know who Al...</td>\n      <td>2021-12-31 10:00:15</td>\n      <td>0 days 21:02:13</td>\n      <td>75733.0</td>\n      <td>People will still manage to shit on the season...</td>\n      <td>2022-01-01 07:02:28</td>\n      <td>0 days 04:57:46</td>\n      <td>17866.0</td>\n    </tr>\n  </tbody>\n</table>\n</div>"
     },
     "metadata": {}
    }
   ]
  },
  {
   "cell_type": "markdown",
   "source": "#### Create the first comment comparison dataframe\n\nThis cell will use the previous dataframe to extract the time gap in seconds between the initial toxic comment posted to a submission, as well as the time gap in seconds between the first toxic comment and the following toxic comment.\n\nNote: Similarly to the cell above, this cell takes a long time to run, so there is an option to import the csv file from our data folder. ",
   "metadata": {
    "cell_id": "5eaa926eaa9649409fd6cef26ec85cbc",
    "tags": [],
    "deepnote_cell_type": "markdown",
    "deepnote_cell_height": 147.140625
   }
  },
  {
   "cell_type": "code",
   "metadata": {
    "cell_id": "7947d581bf4e42d794c0b614a9a3999e",
    "tags": [],
    "deepnote_to_be_reexecuted": false,
    "source_hash": "aa277b76",
    "execution_start": 1650772327155,
    "execution_millis": 495,
    "owner_user_id": "aa81f22b-076f-4bdb-abba-2edf2197fa03",
    "deepnote_cell_type": "code",
    "deepnote_cell_height": 1727.65625
   },
   "source": "def first_comment_comparison(import_csv_for_speed=True, print_stats=True):\n    if import_csv_for_speed == False:\n        sub_df = time_difference_df[['created_sub','submission_id','t_difference_sub_com']]\n        com_df = time_difference_df[['created_comment','submission_id','t_difference_com_com']]\n        com_df = com_df[com_df.t_difference_com_com.isnull()==False]\n\n        sub_id = []\n        sub_created = []\n        sub_response = []\n        for i in tqdm(sub_df.submission_id.unique()):\n            sub_id.append(i)\n            sub_created.append(sub_df[sub_df.submission_id == i].created_sub.iloc[0])\n            sub_response.append(sub_df[sub_df.submission_id == i].t_difference_sub_com.iloc[0])\n\n        sub = pd.DataFrame()\n        sub['id'] = pd.Series(sub_id)\n        sub['sub_created'] = pd.Series(sub_created)\n        sub['sub_response'] = pd.Series(sub_response)\n\n        com_id = []\n        com_created = []\n        com_response = []\n        for i in tqdm(com_df.submission_id.unique()):\n            com_id.append(i)\n            com_created.append(com_df[com_df.submission_id == i].created_comment.iloc[0])\n            com_response.append(com_df[com_df.submission_id == i].t_difference_com_com.iloc[0])\n\n        com = pd.DataFrame()\n        com['id'] = pd.Series(com_id)\n        com['com_created'] = pd.Series(com_created)\n        com['com_response'] = pd.Series(com_response)\n\n        merged_df = pd.merge(sub, com, how='left', on='id')\n\n        merged_df['sub_response_sec'] = [i.total_seconds() for i in merged_df['sub_response']]\n        merged_df['com_response_sec'] = [i.total_seconds() for i in merged_df['com_response']]\n    \n    else:\n        merged_df = pd.read_csv('../data/viz/first_comment_comparison.csv')\n        merged_df['sub_created'] = pd.to_datetime(merged_df['sub_created'])\n        merged_df['com_created'] = pd.to_datetime(merged_df['com_created'])\n        merged_df['sub_response'] = pd.to_timedelta(merged_df['sub_response'])\n        merged_df['com_response'] = pd.to_timedelta(merged_df['com_response'])\n    \n    if print_stats == True:\n        print('Time Gap Between Original Submission and First Toxic Comment')\n        print(merged_df.sub_response.describe())\n        print('\\n')\n        print('Median Time Gap: '+str(merged_df.sub_response.median()))\n        print('\\n')\n        print('Time Gap Between First Toxic Comment and Next Toxic Comment')\n        print(merged_df.com_response.describe())\n        print('\\n')\n        print('Median Time Gap: '+str(merged_df.com_response.median()))\n    else:\n        print('Median Time Gap Between Original Submission and First Toxic Comment: '+str(merged_df.sub_response.median()))\n        print('Median Time Gap Between First Toxic Comment and Next Toxic Comment: '+str(merged_df.com_response.median()))\n    \n    return merged_df\n\nfirst_comment_comparison_df = first_comment_comparison(import_csv_for_speed=True, print_stats=True)\n",
   "execution_count": null,
   "outputs": [
    {
     "name": "stdout",
     "text": "Time Gap Between Original Submission and First Toxic Comment\ncount                         71075\nmean      8 days 03:29:27.486176574\nstd      83 days 03:36:16.055567076\nmin                 0 days 00:00:00\n25%                 0 days 00:45:07\n50%                 0 days 03:49:09\n75%                 0 days 11:32:37\nmax              4410 days 07:43:28\nName: sub_response, dtype: object\n\n\nMedian Time Gap: 0 days 03:49:09\n\n\nTime Gap Between First Toxic Comment and Next Toxic Comment\ncount                        14694\nmean     0 days 07:46:41.032258064\nstd      1 days 07:00:52.814727238\nmin                0 days 00:00:01\n25%                0 days 00:12:50\n50%         0 days 01:13:21.500000\n75%         0 days 04:56:47.250000\nmax               27 days 20:14:19\nName: com_response, dtype: object\n\n\nMedian Time Gap: 0 days 01:13:21.500000\n",
     "output_type": "stream"
    }
   ]
  },
  {
   "cell_type": "code",
   "metadata": {
    "cell_id": "55945aa1d4d444d8aae6dc50d988a7d3",
    "tags": [],
    "deepnote_to_be_reexecuted": false,
    "source_hash": "74cd7155",
    "execution_start": 1650772327665,
    "execution_millis": 27,
    "deepnote_cell_type": "code",
    "deepnote_cell_height": 410.34375
   },
   "source": "first_comment_comparison_df.head()",
   "execution_count": null,
   "outputs": [
    {
     "output_type": "execute_result",
     "execution_count": 6,
     "data": {
      "application/vnd.deepnote.dataframe.v3+json": {
       "column_count": 8,
       "row_count": 5,
       "columns": [
        {
         "name": "Unnamed: 0",
         "dtype": "int64",
         "stats": {
          "unique_count": 5,
          "nan_count": 0,
          "min": "0",
          "max": "4",
          "histogram": [
           {
            "bin_start": 0,
            "bin_end": 0.4,
            "count": 1
           },
           {
            "bin_start": 0.4,
            "bin_end": 0.8,
            "count": 0
           },
           {
            "bin_start": 0.8,
            "bin_end": 1.2000000000000002,
            "count": 1
           },
           {
            "bin_start": 1.2000000000000002,
            "bin_end": 1.6,
            "count": 0
           },
           {
            "bin_start": 1.6,
            "bin_end": 2,
            "count": 0
           },
           {
            "bin_start": 2,
            "bin_end": 2.4000000000000004,
            "count": 1
           },
           {
            "bin_start": 2.4000000000000004,
            "bin_end": 2.8000000000000003,
            "count": 0
           },
           {
            "bin_start": 2.8000000000000003,
            "bin_end": 3.2,
            "count": 1
           },
           {
            "bin_start": 3.2,
            "bin_end": 3.6,
            "count": 0
           },
           {
            "bin_start": 3.6,
            "bin_end": 4,
            "count": 1
           }
          ]
         }
        },
        {
         "name": "id",
         "dtype": "object",
         "stats": {
          "unique_count": 5,
          "nan_count": 0,
          "categories": [
           {
            "name": "rsvx9y",
            "count": 1
           },
           {
            "name": "rsqn77",
            "count": 1
           },
           {
            "name": "3 others",
            "count": 3
           }
          ]
         }
        },
        {
         "name": "sub_created",
         "dtype": "datetime64[ns]",
         "stats": {
          "unique_count": 5,
          "nan_count": 0,
          "min": "2021-12-31 09:00:11",
          "max": "2021-12-31 16:51:51",
          "histogram": [
           {
            "bin_start": 1640941211000000000,
            "bin_end": 1640944041000000000,
            "count": 1
           },
           {
            "bin_start": 1640944041000000000,
            "bin_end": 1640946871000000000,
            "count": 1
           },
           {
            "bin_start": 1640946871000000000,
            "bin_end": 1640949701000000000,
            "count": 0
           },
           {
            "bin_start": 1640949701000000000,
            "bin_end": 1640952531000000000,
            "count": 0
           },
           {
            "bin_start": 1640952531000000000,
            "bin_end": 1640955361000000000,
            "count": 0
           },
           {
            "bin_start": 1640955361000000000,
            "bin_end": 1640958191000000000,
            "count": 0
           },
           {
            "bin_start": 1640958191000000000,
            "bin_end": 1640961021000000000,
            "count": 1
           },
           {
            "bin_start": 1640961021000000000,
            "bin_end": 1640963851000000000,
            "count": 1
           },
           {
            "bin_start": 1640963851000000000,
            "bin_end": 1640966681000000000,
            "count": 0
           },
           {
            "bin_start": 1640966681000000000,
            "bin_end": 1640969511000000000,
            "count": 1
           }
          ]
         }
        },
        {
         "name": "sub_response",
         "dtype": "timedelta64[ns]",
         "stats": {
          "unique_count": 5,
          "nan_count": 0,
          "min": "0 days 09:12:25",
          "max": "0 days 19:47:34",
          "histogram": [
           {
            "bin_start": 33145000000000,
            "bin_end": 36955900000000,
            "count": 1
           },
           {
            "bin_start": 36955900000000,
            "bin_end": 40766800000000,
            "count": 1
           },
           {
            "bin_start": 40766800000000,
            "bin_end": 44577700000000,
            "count": 1
           },
           {
            "bin_start": 44577700000000,
            "bin_end": 48388600000000,
            "count": 0
           },
           {
            "bin_start": 48388600000000,
            "bin_end": 52199500000000,
            "count": 0
           },
           {
            "bin_start": 52199500000000,
            "bin_end": 56010400000000,
            "count": 0
           },
           {
            "bin_start": 56010400000000,
            "bin_end": 59821300000000,
            "count": 1
           },
           {
            "bin_start": 59821300000000,
            "bin_end": 63632200000000,
            "count": 0
           },
           {
            "bin_start": 63632200000000,
            "bin_end": 67443100000000,
            "count": 0
           },
           {
            "bin_start": 67443100000000,
            "bin_end": 71254000000000,
            "count": 1
           }
          ]
         }
        },
        {
         "name": "com_created",
         "dtype": "datetime64[ns]",
         "stats": {
          "unique_count": 4,
          "nan_count": 1,
          "min": "2022-01-01 01:15:44",
          "max": "2022-01-01 08:44:57",
          "histogram": [
           {
            "bin_start": 1640999744000000000,
            "bin_end": 1641002439300000000,
            "count": 1
           },
           {
            "bin_start": 1641002439300000000,
            "bin_end": 1641005134600000000,
            "count": 1
           },
           {
            "bin_start": 1641005134600000000,
            "bin_end": 1641007829900000000,
            "count": 0
           },
           {
            "bin_start": 1641007829900000000,
            "bin_end": 1641010525200000000,
            "count": 0
           },
           {
            "bin_start": 1641010525200000000,
            "bin_end": 1641013220500000000,
            "count": 0
           },
           {
            "bin_start": 1641013220500000000,
            "bin_end": 1641015915800000000,
            "count": 1
           },
           {
            "bin_start": 1641015915800000000,
            "bin_end": 1641018611100000000,
            "count": 0
           },
           {
            "bin_start": 1641018611100000000,
            "bin_end": 1641021306400000000,
            "count": 0
           },
           {
            "bin_start": 1641021306400000000,
            "bin_end": 1641024001700000000,
            "count": 0
           },
           {
            "bin_start": 1641024001700000000,
            "bin_end": 1641026697000000000,
            "count": 1
           }
          ]
         }
        },
        {
         "name": "com_response",
         "dtype": "timedelta64[ns]",
         "stats": {
          "unique_count": 4,
          "nan_count": 1,
          "min": "0 days 00:02:17",
          "max": "0 days 08:20:47",
          "histogram": [
           {
            "bin_start": 137000000000,
            "bin_end": 3128000000000,
            "count": 3
           },
           {
            "bin_start": 3128000000000,
            "bin_end": 6119000000000,
            "count": 0
           },
           {
            "bin_start": 6119000000000,
            "bin_end": 9110000000000,
            "count": 0
           },
           {
            "bin_start": 9110000000000,
            "bin_end": 12101000000000,
            "count": 0
           },
           {
            "bin_start": 12101000000000,
            "bin_end": 15092000000000,
            "count": 0
           },
           {
            "bin_start": 15092000000000,
            "bin_end": 18083000000000,
            "count": 0
           },
           {
            "bin_start": 18083000000000,
            "bin_end": 21074000000000,
            "count": 0
           },
           {
            "bin_start": 21074000000000,
            "bin_end": 24065000000000,
            "count": 0
           },
           {
            "bin_start": 24065000000000,
            "bin_end": 27056000000000,
            "count": 0
           },
           {
            "bin_start": 27056000000000,
            "bin_end": 30047000000000,
            "count": 1
           }
          ]
         }
        },
        {
         "name": "sub_response_sec",
         "dtype": "float64",
         "stats": {
          "unique_count": 5,
          "nan_count": 0,
          "min": "33145.0",
          "max": "71254.0",
          "histogram": [
           {
            "bin_start": 33145,
            "bin_end": 36955.9,
            "count": 1
           },
           {
            "bin_start": 36955.9,
            "bin_end": 40766.8,
            "count": 1
           },
           {
            "bin_start": 40766.8,
            "bin_end": 44577.7,
            "count": 1
           },
           {
            "bin_start": 44577.7,
            "bin_end": 48388.6,
            "count": 0
           },
           {
            "bin_start": 48388.6,
            "bin_end": 52199.5,
            "count": 0
           },
           {
            "bin_start": 52199.5,
            "bin_end": 56010.4,
            "count": 0
           },
           {
            "bin_start": 56010.4,
            "bin_end": 59821.3,
            "count": 1
           },
           {
            "bin_start": 59821.3,
            "bin_end": 63632.2,
            "count": 0
           },
           {
            "bin_start": 63632.2,
            "bin_end": 67443.1,
            "count": 0
           },
           {
            "bin_start": 67443.1,
            "bin_end": 71254,
            "count": 1
           }
          ]
         }
        },
        {
         "name": "com_response_sec",
         "dtype": "float64",
         "stats": {
          "unique_count": 4,
          "nan_count": 1,
          "min": "137.0",
          "max": "30047.0",
          "histogram": [
           {
            "bin_start": 137,
            "bin_end": 3128,
            "count": 3
           },
           {
            "bin_start": 3128,
            "bin_end": 6119,
            "count": 0
           },
           {
            "bin_start": 6119,
            "bin_end": 9110,
            "count": 0
           },
           {
            "bin_start": 9110,
            "bin_end": 12101,
            "count": 0
           },
           {
            "bin_start": 12101,
            "bin_end": 15092,
            "count": 0
           },
           {
            "bin_start": 15092,
            "bin_end": 18083,
            "count": 0
           },
           {
            "bin_start": 18083,
            "bin_end": 21074,
            "count": 0
           },
           {
            "bin_start": 21074,
            "bin_end": 24065,
            "count": 0
           },
           {
            "bin_start": 24065,
            "bin_end": 27056,
            "count": 0
           },
           {
            "bin_start": 27056,
            "bin_end": 30047,
            "count": 1
           }
          ]
         }
        },
        {
         "name": "_deepnote_index_column",
         "dtype": "int64"
        }
       ],
       "rows": [
        {
         "Unnamed: 0": 0,
         "id": "rsvx9y",
         "sub_created": "2021-12-31T15:11:45.000000",
         "sub_response": "0 days 09:12:25",
         "com_created": "2022-01-01 08:44:57",
         "com_response": "0 days 08:20:47",
         "sub_response_sec": 33145,
         "com_response_sec": 30047,
         "_deepnote_index_column": 0
        },
        {
         "Unnamed: 0": 1,
         "id": "rsqn77",
         "sub_created": "2021-12-31T10:00:15.000000",
         "sub_response": "0 days 15:51:27",
         "com_created": "2022-01-01 02:04:42",
         "com_response": "0 days 00:13:00",
         "sub_response_sec": 57087,
         "com_response_sec": 780,
         "_deepnote_index_column": 1
        },
        {
         "Unnamed: 0": 2,
         "id": "rsuzze",
         "sub_created": "2021-12-31T14:25:39.000000",
         "sub_response": "0 days 10:50:05",
         "com_created": "2022-01-01 01:15:44",
         "com_response": "0 days 00:02:17",
         "sub_response_sec": 39005,
         "com_response_sec": 137,
         "_deepnote_index_column": 2
        },
        {
         "Unnamed: 0": 3,
         "id": "rspri0",
         "sub_created": "2021-12-31T09:00:11.000000",
         "sub_response": "0 days 19:47:34",
         "com_created": "NaT",
         "com_response": "NaT",
         "sub_response_sec": 71254,
         "com_response_sec": "nan",
         "_deepnote_index_column": 3
        },
        {
         "Unnamed: 0": 4,
         "id": "rsy1dy",
         "sub_created": "2021-12-31T16:51:51.000000",
         "sub_response": "0 days 11:38:40",
         "com_created": "2022-01-01 05:17:45",
         "com_response": "0 days 00:47:14",
         "sub_response_sec": 41920,
         "com_response_sec": 2834,
         "_deepnote_index_column": 4
        }
       ]
      },
      "text/plain": "   Unnamed: 0      id         sub_created    sub_response         com_created  \\\n0           0  rsvx9y 2021-12-31 15:11:45 0 days 09:12:25 2022-01-01 08:44:57   \n1           1  rsqn77 2021-12-31 10:00:15 0 days 15:51:27 2022-01-01 02:04:42   \n2           2  rsuzze 2021-12-31 14:25:39 0 days 10:50:05 2022-01-01 01:15:44   \n3           3  rspri0 2021-12-31 09:00:11 0 days 19:47:34                 NaT   \n4           4  rsy1dy 2021-12-31 16:51:51 0 days 11:38:40 2022-01-01 05:17:45   \n\n     com_response  sub_response_sec  com_response_sec  \n0 0 days 08:20:47           33145.0           30047.0  \n1 0 days 00:13:00           57087.0             780.0  \n2 0 days 00:02:17           39005.0             137.0  \n3             NaT           71254.0               NaN  \n4 0 days 00:47:14           41920.0            2834.0  ",
      "text/html": "<div>\n<style scoped>\n    .dataframe tbody tr th:only-of-type {\n        vertical-align: middle;\n    }\n\n    .dataframe tbody tr th {\n        vertical-align: top;\n    }\n\n    .dataframe thead th {\n        text-align: right;\n    }\n</style>\n<table border=\"1\" class=\"dataframe\">\n  <thead>\n    <tr style=\"text-align: right;\">\n      <th></th>\n      <th>Unnamed: 0</th>\n      <th>id</th>\n      <th>sub_created</th>\n      <th>sub_response</th>\n      <th>com_created</th>\n      <th>com_response</th>\n      <th>sub_response_sec</th>\n      <th>com_response_sec</th>\n    </tr>\n  </thead>\n  <tbody>\n    <tr>\n      <th>0</th>\n      <td>0</td>\n      <td>rsvx9y</td>\n      <td>2021-12-31 15:11:45</td>\n      <td>0 days 09:12:25</td>\n      <td>2022-01-01 08:44:57</td>\n      <td>0 days 08:20:47</td>\n      <td>33145.0</td>\n      <td>30047.0</td>\n    </tr>\n    <tr>\n      <th>1</th>\n      <td>1</td>\n      <td>rsqn77</td>\n      <td>2021-12-31 10:00:15</td>\n      <td>0 days 15:51:27</td>\n      <td>2022-01-01 02:04:42</td>\n      <td>0 days 00:13:00</td>\n      <td>57087.0</td>\n      <td>780.0</td>\n    </tr>\n    <tr>\n      <th>2</th>\n      <td>2</td>\n      <td>rsuzze</td>\n      <td>2021-12-31 14:25:39</td>\n      <td>0 days 10:50:05</td>\n      <td>2022-01-01 01:15:44</td>\n      <td>0 days 00:02:17</td>\n      <td>39005.0</td>\n      <td>137.0</td>\n    </tr>\n    <tr>\n      <th>3</th>\n      <td>3</td>\n      <td>rspri0</td>\n      <td>2021-12-31 09:00:11</td>\n      <td>0 days 19:47:34</td>\n      <td>NaT</td>\n      <td>NaT</td>\n      <td>71254.0</td>\n      <td>NaN</td>\n    </tr>\n    <tr>\n      <th>4</th>\n      <td>4</td>\n      <td>rsy1dy</td>\n      <td>2021-12-31 16:51:51</td>\n      <td>0 days 11:38:40</td>\n      <td>2022-01-01 05:17:45</td>\n      <td>0 days 00:47:14</td>\n      <td>41920.0</td>\n      <td>2834.0</td>\n    </tr>\n  </tbody>\n</table>\n</div>"
     },
     "metadata": {}
    }
   ]
  },
  {
   "cell_type": "markdown",
   "source": "#### Visualize how submissions and initial comments receive responses\n\nThis cell uses the first_comment_comparison_df to visualize the differences between the first toxic comments posted to submissions and the toxic comments posted to initial comments at various time intervals including 5 minutes, 30 minutes, 1 hour, and 24 hours. ",
   "metadata": {
    "cell_id": "2e833a9bfa094bbebabd600a18f01e78",
    "tags": [],
    "deepnote_cell_type": "markdown",
    "deepnote_cell_height": 133.140625
   }
  },
  {
   "cell_type": "code",
   "metadata": {
    "cell_id": "be911752bbbd4eb78fb190cb8f7dd66b",
    "tags": [],
    "deepnote_to_be_reexecuted": false,
    "source_hash": "b67fcaab",
    "execution_start": 1650772327744,
    "execution_millis": 615,
    "deepnote_cell_type": "code",
    "deepnote_cell_height": 1519.078125,
    "deepnote_output_heights": [
     486.140625
    ]
   },
   "source": "def make_sub_to_com_charts():\n    \n    com_dropped_df = first_comment_comparison_df[first_comment_comparison_df['com_response_sec'].isnull()==False]\n\n    df = pd.DataFrame({\n    'minute_1':[len(first_comment_comparison_df[first_comment_comparison_df['sub_response_sec'] <= 60.0])/len(first_comment_comparison_df),\n               len(com_dropped_df[com_dropped_df['com_response_sec'] <= 60.0])/len(com_dropped_df)],\n    'minute_5' : [len(first_comment_comparison_df[first_comment_comparison_df['sub_response_sec'] <= 300.0])/len(first_comment_comparison_df),\n                  len(com_dropped_df[com_dropped_df['com_response_sec'] <= 300.0])/len(com_dropped_df)],\n    'minute_10' : [len(first_comment_comparison_df[first_comment_comparison_df['sub_response_sec'] <= 600.0])/len(first_comment_comparison_df),\n                   len(com_dropped_df[com_dropped_df['com_response_sec'] <= 600.0])/len(com_dropped_df)],\n    'minute_15' : [len(first_comment_comparison_df[first_comment_comparison_df['sub_response_sec'] <= 900.0])/len(first_comment_comparison_df),\n                  len(com_dropped_df[com_dropped_df['com_response_sec'] <= 900.0])/len(com_dropped_df)],\n    'minute_30' : [len(first_comment_comparison_df[first_comment_comparison_df['sub_response_sec'] <= 1800.0])/len(first_comment_comparison_df),\n                   len(com_dropped_df[com_dropped_df['com_response_sec'] <= 1800.0])/len(com_dropped_df)],\n    'hour_1' : [len(first_comment_comparison_df[first_comment_comparison_df['sub_response_sec'] <= 3600.0])/len(first_comment_comparison_df),\n                len(com_dropped_df[com_dropped_df['com_response_sec'] <= 3600.0])/len(com_dropped_df)],\n    'hour_6' : [len(first_comment_comparison_df[first_comment_comparison_df['sub_response_sec'] <= 21600.0])/len(first_comment_comparison_df),\n                len(com_dropped_df[com_dropped_df['com_response_sec'] <= 21600.0])/len(com_dropped_df)],\n    'hour_12' : [len(first_comment_comparison_df[first_comment_comparison_df['sub_response_sec'] <= 43200.0])/len(first_comment_comparison_df),\n                 len(com_dropped_df[com_dropped_df['com_response_sec'] <= 43200.0])/len(com_dropped_df)],\n    'hour_24' : [len(first_comment_comparison_df[first_comment_comparison_df['sub_response_sec'] <= 86400.0])/len(first_comment_comparison_df),\n                 len(com_dropped_df[com_dropped_df['com_response_sec'] <= 86400.0])/len(com_dropped_df)],\n    })\n\n    fig, axes = plt.subplots(2, 4, figsize=(15, 8))\n    colors = sns.color_palette('pastel')\n\n    axes[0,0].pie([df.iloc[0].minute_5, 1-df.iloc[0].minute_5], labels=['responded',''], colors=[colors[1],colors[2]], autopct='%.0f%%')\n    axes[0,0].set_title('After 5 minutes')\n    axes[0,0].set_ylabel('Percent of Submissions \\n Receiving Response')\n    axes[0,1].pie([df.iloc[0].minute_30, 1-df.iloc[0].minute_30], labels=['responded',''], colors=[colors[1],colors[2]], autopct='%.0f%%')\n    axes[0,1].set_title('After 30 minutes')\n    axes[0,2].pie([df.iloc[0].hour_1, 1-df.iloc[0].hour_1], labels=['responded',''], colors=[colors[1],colors[2]], autopct='%.0f%%')\n    axes[0,2].set_title('After 1 hour')\n    axes[0,3].pie([df.iloc[0].hour_24, 1-df.iloc[0].hour_24], labels=['responded',''], colors=[colors[1],colors[2]], autopct='%.0f%%')\n    axes[0,3].set_title('After 24 hours')\n\n    axes[1,0].pie([df.iloc[1].minute_5, 1-df.iloc[1].minute_5], labels=['responded',''], colors=[colors[1],colors[6]], autopct='%.0f%%')\n    axes[1,0].set_title('After 5 minutes')\n    axes[1,0].set_ylabel('Percent of First Comments \\n Receiving Response')\n    axes[1,1].pie([df.iloc[1].minute_30, 1-df.iloc[1].minute_30], labels=['responded',''], colors=[colors[1],colors[6]], autopct='%.0f%%')\n    axes[1,1].set_title('After 30 minutes')\n    axes[1,2].pie([df.iloc[1].hour_1, 1-df.iloc[1].hour_1], labels=['responded',''], colors=[colors[1],colors[6]], autopct='%.0f%%')\n    axes[1,2].set_title('After 1 hour')\n    axes[1,3].pie([df.iloc[1].hour_24, 1-df.iloc[1].hour_24], labels=['responded',''], colors=[colors[1],colors[6]], autopct='%.0f%%')\n    axes[1,3].set_title('After 24 hours')\n\n    plt.suptitle('Submission and First Comment Response Rates')\n    plt.show()\n\nmake_sub_to_com_charts()\n    ",
   "execution_count": null,
   "outputs": [
    {
     "data": {
      "text/plain": "<Figure size 1080x576 with 8 Axes>",
      "image/png": "[encoded data removed]"
     },
     "metadata": {
      "image/png": {
       "width": 877,
       "height": 499
      }
     },
     "output_type": "display_data"
    }
   ]
  },
  {
   "cell_type": "markdown",
   "source": "## What Time of Day to Redditors Post?\n#### Supplementary Question\n\nThis cell takes the previous dataframes to visualize the hours of the day during which Redditors post submissions and toxic comments, as well as the initial toxic comment of a submission and the toxic comment following an initial comment.\n\nThe results show a similar outcome for all four conditions with the majority of activity occurring from the late afternoon to evening, roughly between 5pm and 11pm.",
   "metadata": {
    "cell_id": "106b717b46434b7790d300ca0e491fb9",
    "tags": [],
    "deepnote_cell_type": "markdown",
    "deepnote_cell_height": 225.53125
   }
  },
  {
   "cell_type": "code",
   "metadata": {
    "cell_id": "c820096b7676449c830d04d06732234b",
    "tags": [],
    "deepnote_to_be_reexecuted": false,
    "source_hash": "a084422e",
    "execution_start": 1650772328374,
    "execution_millis": 2077,
    "deepnote_cell_type": "code",
    "deepnote_cell_height": 3274.8125,
    "deepnote_output_heights": [
     529.4375,
     529.4375
    ]
   },
   "source": "def hours_of_day_plots():\n    import warnings\n    warnings.filterwarnings('ignore')\n    \n    hours_df = time_difference_df.copy()\n    \n    hours_df['sub_hour'] = hours_df.created_sub.dt.hour.astype(str)\n    hours_df['com_hour'] = hours_df.created_comment.dt.hour.astype(str)\n    \n    sub_hour_dict = {}\n    for t in hours_df.sub_hour.unique():\n        sub_hour_dict[t] = len(hours_df[hours_df.sub_hour == t])/len(hours_df)\n    sub_hour_dict = dict(sorted(sub_hour_dict.items(), key=lambda x:x[1], reverse=True))\n    \n    com_hour_dict = {}\n    for t in hours_df.com_hour.unique():\n        com_hour_dict[t] = len(hours_df[hours_df.com_hour == t])/len(hours_df)\n    com_hour_dict = dict(sorted(com_hour_dict.items(), key=lambda x:x[1], reverse=True))\n    \n    first_post_hours_df = first_comment_comparison_df.copy()\n    first_post_hours_df_cut = first_post_hours_df.dropna()\n    \n    first_post_hours_df['sub_hour'] = first_post_hours_df.sub_created.dt.hour.astype(str)\n    first_post_hours_df_cut['com_hour'] = first_post_hours_df.com_created.dt.hour.astype(str)\n    first_post_hours_df_cut['com_hour'] = [i[:-2] for i in first_post_hours_df_cut['com_hour']]\n\n    com_on_sub_hour_dict = {}\n    for t in first_post_hours_df.sub_hour.unique():\n        com_on_sub_hour_dict[t] = len(first_post_hours_df[first_post_hours_df.sub_hour == t])/len(first_post_hours_df)\n    com_on_sub_hour_dict = dict(sorted(com_on_sub_hour_dict.items(), key=lambda x:x[1], reverse=True))\n\n#     first_post_hours_df = first_post_hours_df.dropna()\n    com_on_com_hour_dict = {}\n    for t in first_post_hours_df_cut.com_hour.unique():\n        com_on_com_hour_dict[t] = len(first_post_hours_df_cut[first_post_hours_df_cut.com_hour == t])/len(first_post_hours_df_cut)\n    com_on_com_hour_dict = dict(sorted(com_on_com_hour_dict.items(), key=lambda x:x[1], reverse=True))\n\n    \n    time_hour_df = pd.DataFrame()\n    time_hour_df['submissions'] = pd.Series(sub_hour_dict)\n    time_hour_df['comments'] = pd.Series(com_hour_dict)\n    time_hour_df = round(time_hour_df *100,2)\n    time_hour_df=time_hour_df.reset_index()\n    time_hour_df=time_hour_df.rename(columns={'index':'hour'})\n    \n    first_post_time_hour_df = pd.DataFrame()\n    first_post_time_hour_df['com_on_sub'] = pd.Series(com_on_sub_hour_dict)\n    first_post_time_hour_df['com_on_com'] = pd.Series(com_on_com_hour_dict)\n\n    first_post_time_hour_df = round(first_post_time_hour_df *100,2)\n    first_post_time_hour_df=first_post_time_hour_df.reset_index()\n    first_post_time_hour_df=first_post_time_hour_df.rename(columns={'index':'hour'})\n\n    h_list = list(time_hour_df.hour.astype(int))\n    for i in range(len(h_list)):\n        if h_list[i] == 0:\n            h_list[i] = '12am'\n        elif h_list[i] < 12:\n            h_list[i] = str(h_list[i])+'am'\n        elif h_list[i] > 12:\n            h_list[i] = str(h_list[i] - 12)+'pm'\n        else:\n            h_list[i] = str(h_list[i])+'pm'    \n    \n    time_hour_df['am_pm'] = h_list\n    time_hour_df['hour'] = time_hour_df.hour.astype(int)\n    \n    h_list = list(first_post_time_hour_df.hour.astype(int))\n    for i in range(len(h_list)):\n        if h_list[i] == 0:\n            h_list[i] = '12am'\n        elif h_list[i] < 12:\n            h_list[i] = str(h_list[i])+'am'\n        elif h_list[i] > 12:\n            h_list[i] = str(h_list[i] - 12)+'pm'\n        else:\n            h_list[i] = str(h_list[i])+'pm'   \n    \n    first_post_time_hour_df['am_pm'] = h_list\n    first_post_time_hour_df['hour'] = first_post_time_hour_df.hour.astype(int)\n\n    fig, axes = plt.subplots(2, 1, figsize=(15, 8))\n    fig.suptitle('What Time of Day Do Redditors Post? \\n Submissions vs. Toxic Comments', y=1.02, size=15)\n    \n    color = sns.color_palette('Oranges')\n    \n    sns.barplot(ax=axes[0], data=time_hour_df.sort_values('hour'), x='am_pm',y='submissions', color='orange').set(\n        xlabel='',ylabel='Percentage',title='Submissions')\n\n    sns.barplot(ax=axes[1], data=time_hour_df.sort_values('hour'), x='am_pm',y='comments', color='orange').set(\n        xlabel='',ylabel='Percentage',title='Toxic Comments')\n\n    plt.subplots_adjust(left=0.1,\n                        bottom=0.1, \n                        right=0.9, \n                        top=0.9, \n                        wspace=0.4, \n                        hspace=0.4)\n\n    fig, axes = plt.subplots(2, 1, figsize=(15, 8))\n    fig.suptitle('First Toxic Comment Responding to Submission vs. \\n Next Toxic Comment Responding to First Toxic Comment',y=1.02,  size=15)\n\n    sns.barplot(ax=axes[0], data=first_post_time_hour_df.sort_values('hour'), x='am_pm',y='com_on_sub', color='orange').set(\n        xlabel='',ylabel='Percentage',title='First Toxic Comment responding to Submission')\n\n    sns.barplot(ax=axes[1], data=first_post_time_hour_df.sort_values('hour'), x='am_pm',y='com_on_com', color='orange').set(\n        xlabel='',ylabel='Percentage',title='Next Toxic Comment responding to First Toxic Comment')\n\n    plt.subplots_adjust(left=0.1,\n                        bottom=0.1, \n                        right=0.9, \n                        top=0.9, \n                        wspace=0.4, \n                        hspace=0.4)\n\nhours_of_day_plots()\n",
   "execution_count": null,
   "outputs": [
    {
     "data": {
      "text/plain": "<Figure size 1080x576 with 2 Axes>",
      "image/png": "[encoded data removed]"
     },
     "metadata": {
      "needs_background": "light",
      "image/png": {
       "width": 905,
       "height": 561
      }
     },
     "output_type": "display_data"
    },
    {
     "data": {
      "text/plain": "<Figure size 1080x576 with 2 Axes>",
      "image/png": "[encoded data removed]"
     },
     "metadata": {
      "needs_background": "light",
      "image/png": {
       "width": 905,
       "height": 561
      }
     },
     "output_type": "display_data"
    }
   ]
  },
  {
   "cell_type": "markdown",
   "source": "## Question 15\n\nHow often and when are toxic comments removed or deleted?\n\n#### Operationalized Questions:\n* What percentage of toxic comments were removed by Reddit?\n\n* What percentage of toxic comments were deleted by the comments' authors?\n\n* What is the time gap between when the comment was created and when it was deleted?\n\n#### Hypothesis:\n* There will not be a significant difference between the percentage of comments classified as hateful that are removed by Reddit moderators and the percentage of comments classified as offensive that are removed by Reddit moderators.\n\n* The percentage of comments that are deleted by the original authors will be very low.\n\n#### Results:\nBased on our analysis, we found that the percentage of toxic comments removed by Reddit in the month of January was around 5% of the total toxic comments, with 7% of comments classified at hate speech removed, and 5% of comments classified at offensive speech removed. The results were similar for toxic comments deleted by the author (6% total, 6% hate, 6% offensive). What was noticeably different, however, was the rate at which toxic comments were removed or deleted. Of the toxic comments removed by Reddit, 84% of hate comments and 74% of offensive comments were removed within 24 hours. Of the toxic comments deleted by the author, only 41% of hate comments and 40% of offensive comments were deleted in the same 24 hour period. \n\nWe used Welch's t-test to determine if there is a significant difference in how the classification of a comment is related to removal or deletion. For both tests, the p-value for the calculated test statistic is lower than the 5% significance level, leading us to reject the null hypothesis, and determine that there appears to be a relationship between classification as hate or offensive and removal or deletion.",
   "metadata": {
    "cell_id": "a3d339cc0c204e75a4a20f579d29e2dd",
    "tags": [],
    "deepnote_cell_type": "markdown",
    "deepnote_cell_height": 651.6875
   }
  },
  {
   "cell_type": "code",
   "metadata": {
    "cell_id": "fce9e29f12bc4361ac572f0aca128413",
    "tags": [],
    "deepnote_to_be_reexecuted": false,
    "source_hash": "bd8e410f",
    "execution_start": 1650772330449,
    "execution_millis": 5,
    "deepnote_cell_type": "code",
    "deepnote_cell_height": 152.96875
   },
   "source": "import pandas as pd\nimport numpy as np\nfrom scipy.stats import ttest_ind\nimport seaborn as sns\nimport matplotlib.pyplot as plt",
   "execution_count": null,
   "outputs": []
  },
  {
   "cell_type": "markdown",
   "source": "#### Read in the comments data",
   "metadata": {
    "cell_id": "dd3098d376134d9bb1dd4aa1228f4eec",
    "tags": [],
    "deepnote_cell_type": "markdown",
    "deepnote_cell_height": 53.953125
   }
  },
  {
   "cell_type": "code",
   "metadata": {
    "tags": [],
    "cell_id": "7d13e259-221e-4dbf-a8e5-244302beac9b",
    "deepnote_to_be_reexecuted": false,
    "source_hash": "d202f1bd",
    "execution_start": 1650772330454,
    "execution_millis": 3280,
    "deepnote_cell_type": "code",
    "deepnote_cell_height": 80.953125
   },
   "source": "c = pd.read_csv('../data/processed/comments.csv')",
   "execution_count": null,
   "outputs": []
  },
  {
   "cell_type": "markdown",
   "source": "#### Removed vs deleted toxic comments\n\nThis cell compiles the necessary data to visualize the differences between hate, offensive and total toxic comment removal and deletion.",
   "metadata": {
    "cell_id": "46128b8788bb490dae2604aeac228c61",
    "tags": [],
    "deepnote_cell_type": "markdown",
    "deepnote_cell_height": 110.75
   }
  },
  {
   "cell_type": "code",
   "metadata": {
    "cell_id": "5e37501a91ce47b7af37ae211b285678",
    "tags": [],
    "deepnote_to_be_reexecuted": false,
    "source_hash": "2ec706c8",
    "execution_start": 1650772333816,
    "execution_millis": 684,
    "deepnote_cell_type": "code",
    "deepnote_cell_height": 1180.9375,
    "deepnote_output_heights": [
     507.984375
    ]
   },
   "source": "hate_df = c[c.davidson_label == 0]\noffensive_df = c[c.davidson_label == 1]\ntotal_toxic_df = c[(c.davidson_label == 0) | (c.davidson_label == 1)]\n\nhate_removed = len(hate_df[hate_df.updated_body == '[removed]'])/len(hate_df)\noffensive_removed = len(offensive_df[offensive_df.updated_body == '[removed]'])/len(offensive_df)\ntotal_toxic_removed = len(total_toxic_df[total_toxic_df.updated_body == '[removed]'])/len(total_toxic_df)\n\nhate_deleted = len(hate_df[hate_df.updated_body == '[deleted]'])/len(hate_df)\noffensive_deleted = len(offensive_df[offensive_df.updated_body == '[deleted]'])/len(offensive_df)\ntotal_toxic_deleted = len(total_toxic_df[total_toxic_df.updated_body == '[deleted]'])/len(total_toxic_df)\n\n\nfig, axes = plt.subplots(2, 3, figsize=(15, 8))\ncolors = sns.color_palette('pastel')\n\naxes[0,0].pie([hate_removed, 1-hate_removed], labels=['removed',''], colors=[colors[1],colors[4]], autopct='%.0f%%')\naxes[0,0].set_title('Hate Comments Removed')\naxes[0,1].pie([offensive_removed, 1-offensive_removed], labels=['removed',''], colors=[colors[1],colors[4]], autopct='%.0f%%')\naxes[0,1].set_title('Offensive Comments Removed')\naxes[0,2].pie([total_toxic_removed, 1-total_toxic_removed], labels=['removed',''], colors=[colors[1],colors[4]], autopct='%.0f%%')\naxes[0,2].set_title('Total Toxic Comments Removed')\n\naxes[1,0].pie([hate_deleted, 1-hate_deleted], labels=['deleted',''], colors=[colors[1],colors[0]], autopct='%.0f%%')\naxes[1,0].set_title('Hate Comments Deleted')\naxes[1,1].pie([offensive_deleted, 1-offensive_deleted], labels=['deleted',''], colors=[colors[1],colors[0]], autopct='%.0f%%')\naxes[1,1].set_title('Offensive Comments Deleted')\naxes[1,2].pie([total_toxic_deleted, 1-total_toxic_deleted], labels=['deleted',''], colors=[colors[1],colors[0]], autopct='%.0f%%')\naxes[1,2].set_title('Total Toxic Comments Deleted')\n\nplt.suptitle('Percentage of Sampled Reddit Comments Removed or Deleted between January 1st and February 1st, 2022')\nplt.show()\n",
   "execution_count": null,
   "outputs": [
    {
     "data": {
      "text/plain": "<Figure size 1080x576 with 6 Axes>",
      "image/png": "[encoded data removed]"
     },
     "metadata": {
      "image/png": {
       "width": 833,
       "height": 506
      }
     },
     "output_type": "display_data"
    }
   ]
  },
  {
   "cell_type": "markdown",
   "source": "#### When are toxic comments removed or deleted?\n\nThe following cells seek to visualize how quickly hate and offensive comments are removed or deleted. The statistics give insight into the percentage of removed or deleted comments at various time intervals, and we can visualize the rate of removal and deletion for both types of comments after 5 minutes, 30 minutes, 1 hour and 24 hours. ",
   "metadata": {
    "cell_id": "d9d8379c0d724a84bc95249a67e9719a",
    "tags": [],
    "deepnote_cell_type": "markdown",
    "deepnote_cell_height": 133.140625
   }
  },
  {
   "cell_type": "code",
   "metadata": {
    "cell_id": "ce71f3551fda43739ba1fd9be749700b",
    "tags": [],
    "deepnote_to_be_reexecuted": false,
    "source_hash": "9b6c58e8",
    "execution_start": 1650772334507,
    "execution_millis": 9,
    "owner_user_id": "01404595-a74c-436c-80cf-a519a38e575c",
    "deepnote_cell_type": "code",
    "deepnote_cell_height": 1322.96875
   },
   "source": "def get_removed_deleted_stats(type_of_speech, removed_or_deleted, print_stats=False):\n    time_series_df = c[['davidson_label','body','updated_body','created','modified']]\n    if type_of_speech == 'hate':\n        labeled_time_series_df = time_series_df[time_series_df.davidson_label == 0]\n    elif type_of_speech == 'offensive':\n        labeled_time_series_df = time_series_df[time_series_df.davidson_label == 1]\n    elif type_of_speech == 'neither':\n        labeled_time_series_df = time_series_df[time_series_df.davidson_label == 2]\n\n    modified_df = labeled_time_series_df[labeled_time_series_df.updated_body == '['+removed_or_deleted+']']\n    modified_df = modified_df[modified_df.modified.isnull() == False]\n    \n    modified_df['created'] = pd.to_datetime(modified_df['created'])\n    modified_df['modified'] = pd.to_datetime(modified_df['modified'])\n    modified_df['days_since_removed'] = modified_df.modified - modified_df.created\n\n    seconds=[]\n    for i in modified_df['days_since_removed']:\n        seconds.append(i.total_seconds())\n    modified_df['days_since_removed_total_seconds'] = seconds\n\n    if print_stats == True:\n        print(modified_df['days_since_removed'].describe())\n        print('\\n')\n        print(str('{:,.0%}'.format(len(modified_df[modified_df['days_since_removed_total_seconds'] <= 60.0])/len(modified_df))) + ' of ' + removed_or_deleted + ' '+ type_of_speech + ' comments were '+removed_or_deleted+' in the first minute.')\n        print(str('{:,.0%}'.format(len(modified_df[modified_df['days_since_removed_total_seconds'] <= 300.0])/len(modified_df))) + ' of ' + removed_or_deleted + ' '+ type_of_speech + ' comments were '+removed_or_deleted+' in the first 5 minutes.')\n        print(str('{:,.0%}'.format(len(modified_df[modified_df['days_since_removed_total_seconds'] <= 600.0])/len(modified_df))) + ' of ' + removed_or_deleted + ' '+ type_of_speech + ' comments were '+removed_or_deleted+' in the first 10 minutes.')\n        print(str('{:,.0%}'.format(len(modified_df[modified_df['days_since_removed_total_seconds'] <= 900.0])/len(modified_df))) + ' of ' + removed_or_deleted + ' '+ type_of_speech + ' comments were '+removed_or_deleted+' in the first 15 minutes.')\n        print(str('{:,.0%}'.format(len(modified_df[modified_df['days_since_removed_total_seconds'] <= 1800.0])/len(modified_df))) + ' of ' + removed_or_deleted + ' '+ type_of_speech + ' comments were '+removed_or_deleted+' in the first 30 minutes.')\n        print(str('{:,.0%}'.format(len(modified_df[modified_df['days_since_removed_total_seconds'] <= 3600.0])/len(modified_df))) + ' of ' + removed_or_deleted + ' '+ type_of_speech + ' comments were '+removed_or_deleted+' in the first hour.')\n        print(str('{:,.0%}'.format(len(modified_df[modified_df['days_since_removed_total_seconds'] <= 21600.0])/len(modified_df))) + ' of ' + removed_or_deleted + ' '+ type_of_speech + ' comments were '+removed_or_deleted+' in the first 6 hours.')\n        print(str('{:,.0%}'.format(len(modified_df[modified_df['days_since_removed_total_seconds'] <= 43200.0])/len(modified_df))) + ' of ' + removed_or_deleted + ' '+ type_of_speech + ' comments were '+removed_or_deleted+' in the first 12 hours.')\n        print(str('{:,.0%}'.format(len(modified_df[modified_df['days_since_removed_total_seconds'] <= 86400.0])/len(modified_df))) + ' of ' + removed_or_deleted + ' '+ type_of_speech + ' comments were '+removed_or_deleted+' in the first 24 hours.')\n        print('\\n')\n    \n    time_df = pd.DataFrame(index=[type_of_speech])\n    time_df['variable'] = removed_or_deleted\n    time_df['count'] = modified_df['days_since_removed'].count()\n    time_df['min'] = modified_df['days_since_removed'].min()\n    time_df['mean'] = modified_df['days_since_removed'].mean()\n    time_df['median'] = modified_df['days_since_removed'].median()\n    time_df['std'] = modified_df['days_since_removed'].std()\n    time_df['25%'] = modified_df['days_since_removed'].quantile(q=.25)\n    time_df['50%'] = modified_df['days_since_removed'].quantile(q=.50)\n    time_df['75%'] = modified_df['days_since_removed'].quantile(q=.75)\n    time_df['max'] = modified_df['days_since_removed'].max()\n    time_df['minute_1'] = len(modified_df[modified_df['days_since_removed_total_seconds'] <= 60.0])/len(modified_df)\n    time_df['minute_5'] = len(modified_df[modified_df['days_since_removed_total_seconds'] <= 300.0])/len(modified_df)\n    time_df['minute_10'] = len(modified_df[modified_df['days_since_removed_total_seconds'] <= 600.0])/len(modified_df) \n    time_df['minute_15'] = len(modified_df[modified_df['days_since_removed_total_seconds'] <= 900.0])/len(modified_df)\n    time_df['minute_30'] = len(modified_df[modified_df['days_since_removed_total_seconds'] <= 1800.0])/len(modified_df)\n    time_df['hour_1'] = len(modified_df[modified_df['days_since_removed_total_seconds'] <= 3600.0])/len(modified_df)\n    time_df['hour_6'] = len(modified_df[modified_df['days_since_removed_total_seconds'] <= 21600.0])/len(modified_df)\n    time_df['hour_12'] = len(modified_df[modified_df['days_since_removed_total_seconds'] <= 43200.0])/len(modified_df)\n    time_df['hour_24'] = len(modified_df[modified_df['days_since_removed_total_seconds'] <= 86400.0])/len(modified_df)\n    \n    return time_df\n\n\ndef append_dfs():\n    speech = ['hate', 'offensive', 'neither']\n    variables = ['removed', 'deleted']\n    \n    df = pd.DataFrame()\n    \n    for s in speech:\n        for v in variables:\n            df = df.append(get_removed_deleted_stats(s, v))\n            \n    return df.reset_index().rename(columns={'index':'speech'})",
   "execution_count": null,
   "outputs": []
  },
  {
   "cell_type": "code",
   "metadata": {
    "cell_id": "3b9b92c5326145909529dc40d13c2b7c",
    "tags": [],
    "deepnote_to_be_reexecuted": false,
    "source_hash": "149c957e",
    "execution_start": 1650772334517,
    "execution_millis": 128,
    "deepnote_cell_type": "code",
    "deepnote_cell_height": 694.84375
   },
   "source": "get_removed_deleted_stats('hate', 'removed', print_stats=True)",
   "execution_count": null,
   "outputs": [
    {
     "name": "stdout",
     "text": "count                          188\nmean     2 days 07:20:07.473404255\nstd      7 days 05:31:09.220146573\nmin                0 days 00:00:30\n25%         0 days 00:06:26.500000\n50%         0 days 00:37:44.500000\n75%         0 days 12:35:37.500000\nmax               39 days 16:17:04\nName: days_since_removed, dtype: object\n\n\n1% of removed hate comments were removed in the first minute.\n16% of removed hate comments were removed in the first 5 minutes.\n36% of removed hate comments were removed in the first 10 minutes.\n43% of removed hate comments were removed in the first 15 minutes.\n47% of removed hate comments were removed in the first 30 minutes.\n56% of removed hate comments were removed in the first hour.\n65% of removed hate comments were removed in the first 6 hours.\n74% of removed hate comments were removed in the first 12 hours.\n84% of removed hate comments were removed in the first 24 hours.\n\n\n",
     "output_type": "stream"
    },
    {
     "output_type": "execute_result",
     "execution_count": 13,
     "data": {
      "application/vnd.deepnote.dataframe.v3+json": {
       "column_count": 19,
       "row_count": 1,
       "columns": [
        {
         "name": "variable",
         "dtype": "object",
         "stats": {
          "unique_count": 1,
          "nan_count": 0,
          "categories": [
           {
            "name": "removed",
            "count": 1
           }
          ]
         }
        },
        {
         "name": "count",
         "dtype": "int64",
         "stats": {
          "unique_count": 1,
          "nan_count": 0,
          "min": "188",
          "max": "188",
          "histogram": [
           {
            "bin_start": 187.5,
            "bin_end": 187.6,
            "count": 0
           },
           {
            "bin_start": 187.6,
            "bin_end": 187.7,
            "count": 0
           },
           {
            "bin_start": 187.7,
            "bin_end": 187.8,
            "count": 0
           },
           {
            "bin_start": 187.8,
            "bin_end": 187.9,
            "count": 0
           },
           {
            "bin_start": 187.9,
            "bin_end": 188,
            "count": 0
           },
           {
            "bin_start": 188,
            "bin_end": 188.1,
            "count": 1
           },
           {
            "bin_start": 188.1,
            "bin_end": 188.2,
            "count": 0
           },
           {
            "bin_start": 188.2,
            "bin_end": 188.3,
            "count": 0
           },
           {
            "bin_start": 188.3,
            "bin_end": 188.4,
            "count": 0
           },
           {
            "bin_start": 188.4,
            "bin_end": 188.5,
            "count": 0
           }
          ]
         }
        },
        {
         "name": "min",
         "dtype": "timedelta64[ns]",
         "stats": {
          "unique_count": 1,
          "nan_count": 0,
          "min": "0 days 00:00:30",
          "max": "0 days 00:00:30",
          "histogram": [
           {
            "bin_start": 29999999999.5,
            "bin_end": 29999999999.6,
            "count": 0
           },
           {
            "bin_start": 29999999999.6,
            "bin_end": 29999999999.7,
            "count": 0
           },
           {
            "bin_start": 29999999999.7,
            "bin_end": 29999999999.8,
            "count": 0
           },
           {
            "bin_start": 29999999999.8,
            "bin_end": 29999999999.9,
            "count": 0
           },
           {
            "bin_start": 29999999999.9,
            "bin_end": 30000000000,
            "count": 0
           },
           {
            "bin_start": 30000000000,
            "bin_end": 30000000000.1,
            "count": 1
           },
           {
            "bin_start": 30000000000.1,
            "bin_end": 30000000000.2,
            "count": 0
           },
           {
            "bin_start": 30000000000.2,
            "bin_end": 30000000000.3,
            "count": 0
           },
           {
            "bin_start": 30000000000.3,
            "bin_end": 30000000000.4,
            "count": 0
           },
           {
            "bin_start": 30000000000.4,
            "bin_end": 30000000000.5,
            "count": 0
           }
          ]
         }
        },
        {
         "name": "mean",
         "dtype": "timedelta64[ns]",
         "stats": {
          "unique_count": 1,
          "nan_count": 0,
          "min": "2 days 07:20:07.473404255",
          "max": "2 days 07:20:07.473404255",
          "histogram": [
           {
            "bin_start": 199207473404254.5,
            "bin_end": 199207473404254.6,
            "count": 0
           },
           {
            "bin_start": 199207473404254.6,
            "bin_end": 199207473404254.7,
            "count": 0
           },
           {
            "bin_start": 199207473404254.7,
            "bin_end": 199207473404254.8,
            "count": 0
           },
           {
            "bin_start": 199207473404254.8,
            "bin_end": 199207473404254.9,
            "count": 0
           },
           {
            "bin_start": 199207473404254.9,
            "bin_end": 199207473404255,
            "count": 0
           },
           {
            "bin_start": 199207473404255,
            "bin_end": 199207473404255.1,
            "count": 1
           },
           {
            "bin_start": 199207473404255.1,
            "bin_end": 199207473404255.2,
            "count": 0
           },
           {
            "bin_start": 199207473404255.2,
            "bin_end": 199207473404255.3,
            "count": 0
           },
           {
            "bin_start": 199207473404255.3,
            "bin_end": 199207473404255.4,
            "count": 0
           },
           {
            "bin_start": 199207473404255.4,
            "bin_end": 199207473404255.5,
            "count": 0
           }
          ]
         }
        },
        {
         "name": "median",
         "dtype": "timedelta64[ns]",
         "stats": {
          "unique_count": 1,
          "nan_count": 0,
          "min": "0 days 00:37:44.500000",
          "max": "0 days 00:37:44.500000",
          "histogram": [
           {
            "bin_start": 2264499999999.5,
            "bin_end": 2264499999999.6,
            "count": 0
           },
           {
            "bin_start": 2264499999999.6,
            "bin_end": 2264499999999.7,
            "count": 0
           },
           {
            "bin_start": 2264499999999.7,
            "bin_end": 2264499999999.8,
            "count": 0
           },
           {
            "bin_start": 2264499999999.8,
            "bin_end": 2264499999999.9,
            "count": 0
           },
           {
            "bin_start": 2264499999999.9,
            "bin_end": 2264500000000,
            "count": 0
           },
           {
            "bin_start": 2264500000000,
            "bin_end": 2264500000000.1,
            "count": 1
           },
           {
            "bin_start": 2264500000000.1,
            "bin_end": 2264500000000.2,
            "count": 0
           },
           {
            "bin_start": 2264500000000.2,
            "bin_end": 2264500000000.3,
            "count": 0
           },
           {
            "bin_start": 2264500000000.3,
            "bin_end": 2264500000000.4,
            "count": 0
           },
           {
            "bin_start": 2264500000000.4,
            "bin_end": 2264500000000.5,
            "count": 0
           }
          ]
         }
        },
        {
         "name": "std",
         "dtype": "timedelta64[ns]",
         "stats": {
          "unique_count": 1,
          "nan_count": 0,
          "min": "7 days 05:31:09.220146573",
          "max": "7 days 05:31:09.220146573",
          "histogram": [
           {
            "bin_start": 624669220146572.5,
            "bin_end": 624669220146572.6,
            "count": 0
           },
           {
            "bin_start": 624669220146572.6,
            "bin_end": 624669220146572.8,
            "count": 0
           },
           {
            "bin_start": 624669220146572.8,
            "bin_end": 624669220146572.8,
            "count": 0
           },
           {
            "bin_start": 624669220146572.8,
            "bin_end": 624669220146572.9,
            "count": 0
           },
           {
            "bin_start": 624669220146572.9,
            "bin_end": 624669220146573,
            "count": 0
           },
           {
            "bin_start": 624669220146573,
            "bin_end": 624669220146573.1,
            "count": 1
           },
           {
            "bin_start": 624669220146573.1,
            "bin_end": 624669220146573.2,
            "count": 0
           },
           {
            "bin_start": 624669220146573.2,
            "bin_end": 624669220146573.2,
            "count": 0
           },
           {
            "bin_start": 624669220146573.2,
            "bin_end": 624669220146573.4,
            "count": 0
           },
           {
            "bin_start": 624669220146573.4,
            "bin_end": 624669220146573.5,
            "count": 0
           }
          ]
         }
        },
        {
         "name": "25%",
         "dtype": "timedelta64[ns]",
         "stats": {
          "unique_count": 1,
          "nan_count": 0,
          "min": "0 days 00:06:26.500000",
          "max": "0 days 00:06:26.500000",
          "histogram": [
           {
            "bin_start": 386499999999.5,
            "bin_end": 386499999999.6,
            "count": 0
           },
           {
            "bin_start": 386499999999.6,
            "bin_end": 386499999999.7,
            "count": 0
           },
           {
            "bin_start": 386499999999.7,
            "bin_end": 386499999999.8,
            "count": 0
           },
           {
            "bin_start": 386499999999.8,
            "bin_end": 386499999999.9,
            "count": 0
           },
           {
            "bin_start": 386499999999.9,
            "bin_end": 386500000000,
            "count": 0
           },
           {
            "bin_start": 386500000000,
            "bin_end": 386500000000.1,
            "count": 1
           },
           {
            "bin_start": 386500000000.1,
            "bin_end": 386500000000.2,
            "count": 0
           },
           {
            "bin_start": 386500000000.2,
            "bin_end": 386500000000.3,
            "count": 0
           },
           {
            "bin_start": 386500000000.3,
            "bin_end": 386500000000.4,
            "count": 0
           },
           {
            "bin_start": 386500000000.4,
            "bin_end": 386500000000.5,
            "count": 0
           }
          ]
         }
        },
        {
         "name": "50%",
         "dtype": "timedelta64[ns]",
         "stats": {
          "unique_count": 1,
          "nan_count": 0,
          "min": "0 days 00:37:44.500000",
          "max": "0 days 00:37:44.500000",
          "histogram": [
           {
            "bin_start": 2264499999999.5,
            "bin_end": 2264499999999.6,
            "count": 0
           },
           {
            "bin_start": 2264499999999.6,
            "bin_end": 2264499999999.7,
            "count": 0
           },
           {
            "bin_start": 2264499999999.7,
            "bin_end": 2264499999999.8,
            "count": 0
           },
           {
            "bin_start": 2264499999999.8,
            "bin_end": 2264499999999.9,
            "count": 0
           },
           {
            "bin_start": 2264499999999.9,
            "bin_end": 2264500000000,
            "count": 0
           },
           {
            "bin_start": 2264500000000,
            "bin_end": 2264500000000.1,
            "count": 1
           },
           {
            "bin_start": 2264500000000.1,
            "bin_end": 2264500000000.2,
            "count": 0
           },
           {
            "bin_start": 2264500000000.2,
            "bin_end": 2264500000000.3,
            "count": 0
           },
           {
            "bin_start": 2264500000000.3,
            "bin_end": 2264500000000.4,
            "count": 0
           },
           {
            "bin_start": 2264500000000.4,
            "bin_end": 2264500000000.5,
            "count": 0
           }
          ]
         }
        },
        {
         "name": "75%",
         "dtype": "timedelta64[ns]",
         "stats": {
          "unique_count": 1,
          "nan_count": 0,
          "min": "0 days 12:35:37.500000",
          "max": "0 days 12:35:37.500000",
          "histogram": [
           {
            "bin_start": 45337499999999.5,
            "bin_end": 45337499999999.6,
            "count": 0
           },
           {
            "bin_start": 45337499999999.6,
            "bin_end": 45337499999999.7,
            "count": 0
           },
           {
            "bin_start": 45337499999999.7,
            "bin_end": 45337499999999.8,
            "count": 0
           },
           {
            "bin_start": 45337499999999.8,
            "bin_end": 45337499999999.9,
            "count": 0
           },
           {
            "bin_start": 45337499999999.9,
            "bin_end": 45337500000000,
            "count": 0
           },
           {
            "bin_start": 45337500000000,
            "bin_end": 45337500000000.1,
            "count": 1
           },
           {
            "bin_start": 45337500000000.1,
            "bin_end": 45337500000000.2,
            "count": 0
           },
           {
            "bin_start": 45337500000000.2,
            "bin_end": 45337500000000.3,
            "count": 0
           },
           {
            "bin_start": 45337500000000.3,
            "bin_end": 45337500000000.4,
            "count": 0
           },
           {
            "bin_start": 45337500000000.4,
            "bin_end": 45337500000000.5,
            "count": 0
           }
          ]
         }
        },
        {
         "name": "max",
         "dtype": "timedelta64[ns]",
         "stats": {
          "unique_count": 1,
          "nan_count": 0,
          "min": "39 days 16:17:04",
          "max": "39 days 16:17:04",
          "histogram": [
           {
            "bin_start": 3428223999999999.5,
            "bin_end": 3428223999999999.5,
            "count": 0
           },
           {
            "bin_start": 3428223999999999.5,
            "bin_end": 3428223999999999.5,
            "count": 0
           },
           {
            "bin_start": 3428223999999999.5,
            "bin_end": 3428224000000000,
            "count": 0
           },
           {
            "bin_start": 3428224000000000,
            "bin_end": 3428224000000000,
            "count": 0
           },
           {
            "bin_start": 3428224000000000,
            "bin_end": 3428224000000000,
            "count": 0
           },
           {
            "bin_start": 3428224000000000,
            "bin_end": 3428224000000000,
            "count": 0
           },
           {
            "bin_start": 3428224000000000,
            "bin_end": 3428224000000000,
            "count": 1
           },
           {
            "bin_start": 3428224000000000,
            "bin_end": 3428224000000000.5,
            "count": 0
           },
           {
            "bin_start": 3428224000000000.5,
            "bin_end": 3428224000000000.5,
            "count": 0
           },
           {
            "bin_start": 3428224000000000.5,
            "bin_end": 3428224000000000.5,
            "count": 0
           }
          ]
         }
        },
        {
         "name": "minute_1",
         "dtype": "float64",
         "stats": {
          "unique_count": 1,
          "nan_count": 0,
          "min": "0.010638297872340425",
          "max": "0.010638297872340425",
          "histogram": [
           {
            "bin_start": -0.48936170212765956,
            "bin_end": -0.3893617021276595,
            "count": 0
           },
           {
            "bin_start": -0.3893617021276595,
            "bin_end": -0.28936170212765955,
            "count": 0
           },
           {
            "bin_start": -0.28936170212765955,
            "bin_end": -0.18936170212765951,
            "count": 0
           },
           {
            "bin_start": -0.18936170212765951,
            "bin_end": -0.08936170212765954,
            "count": 0
           },
           {
            "bin_start": -0.08936170212765954,
            "bin_end": 0.010638297872340441,
            "count": 1
           },
           {
            "bin_start": 0.010638297872340441,
            "bin_end": 0.11063829787234053,
            "count": 0
           },
           {
            "bin_start": 0.11063829787234053,
            "bin_end": 0.2106382978723405,
            "count": 0
           },
           {
            "bin_start": 0.2106382978723405,
            "bin_end": 0.3106382978723405,
            "count": 0
           },
           {
            "bin_start": 0.3106382978723405,
            "bin_end": 0.41063829787234046,
            "count": 0
           },
           {
            "bin_start": 0.41063829787234046,
            "bin_end": 0.5106382978723404,
            "count": 0
           }
          ]
         }
        },
        {
         "name": "minute_5",
         "dtype": "float64",
         "stats": {
          "unique_count": 1,
          "nan_count": 0,
          "min": "0.1595744680851064",
          "max": "0.1595744680851064",
          "histogram": [
           {
            "bin_start": -0.3404255319148936,
            "bin_end": -0.2404255319148936,
            "count": 0
           },
           {
            "bin_start": -0.2404255319148936,
            "bin_end": -0.1404255319148936,
            "count": 0
           },
           {
            "bin_start": -0.1404255319148936,
            "bin_end": -0.040425531914893564,
            "count": 0
           },
           {
            "bin_start": -0.040425531914893564,
            "bin_end": 0.05957446808510641,
            "count": 0
           },
           {
            "bin_start": 0.05957446808510641,
            "bin_end": 0.1595744680851064,
            "count": 0
           },
           {
            "bin_start": 0.1595744680851064,
            "bin_end": 0.2595744680851065,
            "count": 1
           },
           {
            "bin_start": 0.2595744680851065,
            "bin_end": 0.35957446808510646,
            "count": 0
           },
           {
            "bin_start": 0.35957446808510646,
            "bin_end": 0.45957446808510644,
            "count": 0
           },
           {
            "bin_start": 0.45957446808510644,
            "bin_end": 0.5595744680851065,
            "count": 0
           },
           {
            "bin_start": 0.5595744680851065,
            "bin_end": 0.6595744680851063,
            "count": 0
           }
          ]
         }
        },
        {
         "name": "minute_10",
         "dtype": "float64",
         "stats": {
          "unique_count": 1,
          "nan_count": 0,
          "min": "0.3617021276595745",
          "max": "0.3617021276595745",
          "histogram": [
           {
            "bin_start": -0.1382978723404255,
            "bin_end": -0.038297872340425504,
            "count": 0
           },
           {
            "bin_start": -0.038297872340425504,
            "bin_end": 0.0617021276595745,
            "count": 0
           },
           {
            "bin_start": 0.0617021276595745,
            "bin_end": 0.16170212765957453,
            "count": 0
           },
           {
            "bin_start": 0.16170212765957453,
            "bin_end": 0.2617021276595745,
            "count": 0
           },
           {
            "bin_start": 0.2617021276595745,
            "bin_end": 0.3617021276595745,
            "count": 0
           },
           {
            "bin_start": 0.3617021276595745,
            "bin_end": 0.4617021276595746,
            "count": 1
           },
           {
            "bin_start": 0.4617021276595746,
            "bin_end": 0.5617021276595746,
            "count": 0
           },
           {
            "bin_start": 0.5617021276595746,
            "bin_end": 0.6617021276595745,
            "count": 0
           },
           {
            "bin_start": 0.6617021276595745,
            "bin_end": 0.7617021276595746,
            "count": 0
           },
           {
            "bin_start": 0.7617021276595746,
            "bin_end": 0.8617021276595744,
            "count": 0
           }
          ]
         }
        },
        {
         "name": "minute_15",
         "dtype": "float64",
         "stats": {
          "unique_count": 1,
          "nan_count": 0,
          "min": "0.425531914893617",
          "max": "0.425531914893617",
          "histogram": [
           {
            "bin_start": -0.07446808510638298,
            "bin_end": 0.02553191489361703,
            "count": 0
           },
           {
            "bin_start": 0.02553191489361703,
            "bin_end": 0.12553191489361704,
            "count": 0
           },
           {
            "bin_start": 0.12553191489361704,
            "bin_end": 0.22553191489361707,
            "count": 0
           },
           {
            "bin_start": 0.22553191489361707,
            "bin_end": 0.32553191489361705,
            "count": 0
           },
           {
            "bin_start": 0.32553191489361705,
            "bin_end": 0.425531914893617,
            "count": 0
           },
           {
            "bin_start": 0.425531914893617,
            "bin_end": 0.5255319148936171,
            "count": 1
           },
           {
            "bin_start": 0.5255319148936171,
            "bin_end": 0.6255319148936171,
            "count": 0
           },
           {
            "bin_start": 0.6255319148936171,
            "bin_end": 0.725531914893617,
            "count": 0
           },
           {
            "bin_start": 0.725531914893617,
            "bin_end": 0.8255319148936171,
            "count": 0
           },
           {
            "bin_start": 0.8255319148936171,
            "bin_end": 0.925531914893617,
            "count": 0
           }
          ]
         }
        },
        {
         "name": "minute_30",
         "dtype": "float64",
         "stats": {
          "unique_count": 1,
          "nan_count": 0,
          "min": "0.4734042553191489",
          "max": "0.4734042553191489",
          "histogram": [
           {
            "bin_start": -0.026595744680851074,
            "bin_end": 0.07340425531914893,
            "count": 0
           },
           {
            "bin_start": 0.07340425531914893,
            "bin_end": 0.17340425531914894,
            "count": 0
           },
           {
            "bin_start": 0.17340425531914894,
            "bin_end": 0.27340425531914897,
            "count": 0
           },
           {
            "bin_start": 0.27340425531914897,
            "bin_end": 0.37340425531914895,
            "count": 0
           },
           {
            "bin_start": 0.37340425531914895,
            "bin_end": 0.4734042553191489,
            "count": 0
           },
           {
            "bin_start": 0.4734042553191489,
            "bin_end": 0.573404255319149,
            "count": 1
           },
           {
            "bin_start": 0.573404255319149,
            "bin_end": 0.673404255319149,
            "count": 0
           },
           {
            "bin_start": 0.673404255319149,
            "bin_end": 0.7734042553191489,
            "count": 0
           },
           {
            "bin_start": 0.7734042553191489,
            "bin_end": 0.873404255319149,
            "count": 0
           },
           {
            "bin_start": 0.873404255319149,
            "bin_end": 0.9734042553191489,
            "count": 0
           }
          ]
         }
        },
        {
         "name": "hour_1",
         "dtype": "float64",
         "stats": {
          "unique_count": 1,
          "nan_count": 0,
          "min": "0.5585106382978723",
          "max": "0.5585106382978723",
          "histogram": [
           {
            "bin_start": 0.058510638297872286,
            "bin_end": 0.1585106382978723,
            "count": 0
           },
           {
            "bin_start": 0.1585106382978723,
            "bin_end": 0.2585106382978723,
            "count": 0
           },
           {
            "bin_start": 0.2585106382978723,
            "bin_end": 0.35851063829787233,
            "count": 0
           },
           {
            "bin_start": 0.35851063829787233,
            "bin_end": 0.4585106382978723,
            "count": 0
           },
           {
            "bin_start": 0.4585106382978723,
            "bin_end": 0.5585106382978723,
            "count": 0
           },
           {
            "bin_start": 0.5585106382978723,
            "bin_end": 0.6585106382978724,
            "count": 1
           },
           {
            "bin_start": 0.6585106382978724,
            "bin_end": 0.7585106382978724,
            "count": 0
           },
           {
            "bin_start": 0.7585106382978724,
            "bin_end": 0.8585106382978723,
            "count": 0
           },
           {
            "bin_start": 0.8585106382978723,
            "bin_end": 0.9585106382978723,
            "count": 0
           },
           {
            "bin_start": 0.9585106382978723,
            "bin_end": 1.0585106382978724,
            "count": 0
           }
          ]
         }
        },
        {
         "name": "hour_6",
         "dtype": "float64",
         "stats": {
          "unique_count": 1,
          "nan_count": 0,
          "min": "0.6542553191489362",
          "max": "0.6542553191489362",
          "histogram": [
           {
            "bin_start": 0.1542553191489362,
            "bin_end": 0.2542553191489362,
            "count": 0
           },
           {
            "bin_start": 0.2542553191489362,
            "bin_end": 0.3542553191489362,
            "count": 0
           },
           {
            "bin_start": 0.3542553191489362,
            "bin_end": 0.45425531914893624,
            "count": 0
           },
           {
            "bin_start": 0.45425531914893624,
            "bin_end": 0.5542553191489362,
            "count": 0
           },
           {
            "bin_start": 0.5542553191489362,
            "bin_end": 0.6542553191489362,
            "count": 0
           },
           {
            "bin_start": 0.6542553191489362,
            "bin_end": 0.7542553191489363,
            "count": 1
           },
           {
            "bin_start": 0.7542553191489363,
            "bin_end": 0.8542553191489363,
            "count": 0
           },
           {
            "bin_start": 0.8542553191489363,
            "bin_end": 0.9542553191489362,
            "count": 0
           },
           {
            "bin_start": 0.9542553191489362,
            "bin_end": 1.054255319148936,
            "count": 0
           },
           {
            "bin_start": 1.054255319148936,
            "bin_end": 1.1542553191489362,
            "count": 0
           }
          ]
         }
        },
        {
         "name": "hour_12",
         "dtype": "float64",
         "stats": {
          "unique_count": 1,
          "nan_count": 0,
          "min": "0.7393617021276596",
          "max": "0.7393617021276596",
          "histogram": [
           {
            "bin_start": 0.23936170212765961,
            "bin_end": 0.3393617021276596,
            "count": 0
           },
           {
            "bin_start": 0.3393617021276596,
            "bin_end": 0.4393617021276596,
            "count": 0
           },
           {
            "bin_start": 0.4393617021276596,
            "bin_end": 0.5393617021276597,
            "count": 0
           },
           {
            "bin_start": 0.5393617021276597,
            "bin_end": 0.6393617021276596,
            "count": 0
           },
           {
            "bin_start": 0.6393617021276596,
            "bin_end": 0.7393617021276596,
            "count": 0
           },
           {
            "bin_start": 0.7393617021276596,
            "bin_end": 0.8393617021276597,
            "count": 1
           },
           {
            "bin_start": 0.8393617021276597,
            "bin_end": 0.9393617021276597,
            "count": 0
           },
           {
            "bin_start": 0.9393617021276597,
            "bin_end": 1.0393617021276595,
            "count": 0
           },
           {
            "bin_start": 1.0393617021276595,
            "bin_end": 1.1393617021276596,
            "count": 0
           },
           {
            "bin_start": 1.1393617021276596,
            "bin_end": 1.2393617021276597,
            "count": 0
           }
          ]
         }
        },
        {
         "name": "hour_24",
         "dtype": "float64",
         "stats": {
          "unique_count": 1,
          "nan_count": 0,
          "min": "0.8351063829787234",
          "max": "0.8351063829787234",
          "histogram": [
           {
            "bin_start": 0.3351063829787234,
            "bin_end": 0.4351063829787234,
            "count": 0
           },
           {
            "bin_start": 0.4351063829787234,
            "bin_end": 0.5351063829787235,
            "count": 0
           },
           {
            "bin_start": 0.5351063829787235,
            "bin_end": 0.6351063829787235,
            "count": 0
           },
           {
            "bin_start": 0.6351063829787235,
            "bin_end": 0.7351063829787234,
            "count": 0
           },
           {
            "bin_start": 0.7351063829787234,
            "bin_end": 0.8351063829787234,
            "count": 0
           },
           {
            "bin_start": 0.8351063829787234,
            "bin_end": 0.9351063829787235,
            "count": 1
           },
           {
            "bin_start": 0.9351063829787235,
            "bin_end": 1.0351063829787235,
            "count": 0
           },
           {
            "bin_start": 1.0351063829787235,
            "bin_end": 1.1351063829787233,
            "count": 0
           },
           {
            "bin_start": 1.1351063829787233,
            "bin_end": 1.2351063829787234,
            "count": 0
           },
           {
            "bin_start": 1.2351063829787234,
            "bin_end": 1.3351063829787235,
            "count": 0
           }
          ]
         }
        },
        {
         "name": "_deepnote_index_column",
         "dtype": "object"
        }
       ],
       "rows": [
        {
         "variable": "removed",
         "count": 188,
         "min": "0 days 00:00:30",
         "mean": "2 days 07:20:07.473404255",
         "median": "0 days 00:37:44.500000",
         "std": "7 days 05:31:09.220146573",
         "25%": "0 days 00:06:26.500000",
         "50%": "0 days 00:37:44.500000",
         "75%": "0 days 12:35:37.500000",
         "max": "39 days 16:17:04",
         "minute_1": 0.010638297872340425,
         "minute_5": 0.1595744680851064,
         "minute_10": 0.3617021276595745,
         "minute_15": 0.425531914893617,
         "minute_30": 0.4734042553191489,
         "hour_1": 0.5585106382978723,
         "hour_6": 0.6542553191489362,
         "hour_12": 0.7393617021276596,
         "hour_24": 0.8351063829787234,
         "_deepnote_index_column": "hate"
        }
       ]
      },
      "text/plain": "     variable  count             min                      mean  \\\nhate  removed    188 0 days 00:00:30 2 days 07:20:07.473404255   \n\n                     median                       std                    25%  \\\nhate 0 days 00:37:44.500000 7 days 05:31:09.220146573 0 days 00:06:26.500000   \n\n                        50%                    75%              max  minute_1  \\\nhate 0 days 00:37:44.500000 0 days 12:35:37.500000 39 days 16:17:04  0.010638   \n\n      minute_5  minute_10  minute_15  minute_30    hour_1    hour_6   hour_12  \\\nhate  0.159574   0.361702   0.425532   0.473404  0.558511  0.654255  0.739362   \n\n       hour_24  \nhate  0.835106  ",
      "text/html": "<div>\n<style scoped>\n    .dataframe tbody tr th:only-of-type {\n        vertical-align: middle;\n    }\n\n    .dataframe tbody tr th {\n        vertical-align: top;\n    }\n\n    .dataframe thead th {\n        text-align: right;\n    }\n</style>\n<table border=\"1\" class=\"dataframe\">\n  <thead>\n    <tr style=\"text-align: right;\">\n      <th></th>\n      <th>variable</th>\n      <th>count</th>\n      <th>min</th>\n      <th>mean</th>\n      <th>median</th>\n      <th>std</th>\n      <th>25%</th>\n      <th>50%</th>\n      <th>75%</th>\n      <th>max</th>\n      <th>minute_1</th>\n      <th>minute_5</th>\n      <th>minute_10</th>\n      <th>minute_15</th>\n      <th>minute_30</th>\n      <th>hour_1</th>\n      <th>hour_6</th>\n      <th>hour_12</th>\n      <th>hour_24</th>\n    </tr>\n  </thead>\n  <tbody>\n    <tr>\n      <th>hate</th>\n      <td>removed</td>\n      <td>188</td>\n      <td>0 days 00:00:30</td>\n      <td>2 days 07:20:07.473404255</td>\n      <td>0 days 00:37:44.500000</td>\n      <td>7 days 05:31:09.220146573</td>\n      <td>0 days 00:06:26.500000</td>\n      <td>0 days 00:37:44.500000</td>\n      <td>0 days 12:35:37.500000</td>\n      <td>39 days 16:17:04</td>\n      <td>0.010638</td>\n      <td>0.159574</td>\n      <td>0.361702</td>\n      <td>0.425532</td>\n      <td>0.473404</td>\n      <td>0.558511</td>\n      <td>0.654255</td>\n      <td>0.739362</td>\n      <td>0.835106</td>\n    </tr>\n  </tbody>\n</table>\n</div>"
     },
     "metadata": {}
    }
   ]
  },
  {
   "cell_type": "code",
   "metadata": {
    "cell_id": "689f554aceff4f33a06b599d6ee09fe3",
    "tags": [],
    "deepnote_to_be_reexecuted": false,
    "source_hash": "d9a77f10",
    "execution_start": 1650772334662,
    "execution_millis": 12361,
    "deepnote_cell_type": "code",
    "deepnote_cell_height": 2013.65625,
    "deepnote_output_heights": [
     492.859375,
     492.859375
    ]
   },
   "source": "fig, axes = plt.subplots(2, 4, figsize=(15, 8))\ncolors = sns.color_palette('pastel')\n\naxes[0,0].pie([append_dfs().iloc[0].minute_5, 1-append_dfs().iloc[0].minute_5], labels=['removed',''], colors=[colors[1],colors[4]], autopct='%.0f%%')\naxes[0,0].set_title('After 5 minutes')\naxes[0,0].set_ylabel('Hate (sample of 188)')\naxes[0,1].pie([append_dfs().iloc[0].minute_30, 1-append_dfs().iloc[0].minute_30], labels=['removed',''], colors=[colors[1],colors[4]], autopct='%.0f%%')\naxes[0,1].set_title('After 30 minutes')\naxes[0,2].pie([append_dfs().iloc[0].hour_1, 1-append_dfs().iloc[0].hour_1], labels=['removed',''], colors=[colors[1],colors[4]], autopct='%.0f%%')\naxes[0,2].set_title('After 1 hour')\naxes[0,3].pie([append_dfs().iloc[0].hour_24, 1-append_dfs().iloc[0].hour_24], labels=['removed',''], colors=[colors[1],colors[4]], autopct='%.0f%%')\naxes[0,3].set_title('After 24 hours')\n\naxes[1,0].pie([append_dfs().iloc[2].minute_5, 1-append_dfs().iloc[2].minute_5], labels=['removed',''], colors=[colors[1],colors[4]], autopct='%.0f%%')\naxes[1,0].set_title('After 5 minutes')\naxes[1,0].set_ylabel('Offensive (sample of 189)')\naxes[1,1].pie([append_dfs().iloc[2].minute_30, 1-append_dfs().iloc[2].minute_30], labels=['removed',''], colors=[colors[1],colors[4]], autopct='%.0f%%')\naxes[1,1].set_title('After 30 minutes')\naxes[1,2].pie([append_dfs().iloc[2].hour_1, 1-append_dfs().iloc[2].hour_1], labels=['removed',''], colors=[colors[1],colors[4]], autopct='%.0f%%')\naxes[1,2].set_title('After 1 hour')\naxes[1,3].pie([append_dfs().iloc[2].hour_24, 1-append_dfs().iloc[2].hour_24], labels=['removed',''], colors=[colors[1],colors[4]], autopct='%.0f%%')\naxes[1,3].set_title('After 24 hours')\n\nplt.suptitle('Removed Comments between January 1st and February 1st, 2022')\nplt.show()\n\nfig, axes = plt.subplots(2, 4, figsize=(15, 8))\ncolors = sns.color_palette('pastel')\n\naxes[0,0].pie([append_dfs().iloc[1].minute_5, 1-append_dfs().iloc[1].minute_5], labels=['deleted',''], colors=[colors[1],colors[0]], autopct='%.0f%%')\naxes[0,0].set_title('After 5 minutes')\naxes[0,0].set_ylabel('Hate (sample of 366)')\naxes[0,1].pie([append_dfs().iloc[1].minute_30, 1-append_dfs().iloc[1].minute_30], labels=['deleted',''], colors=[colors[1],colors[0]], autopct='%.0f%%')\naxes[0,1].set_title('After 30 minutes')\naxes[0,2].pie([append_dfs().iloc[1].hour_1, 1-append_dfs().iloc[1].hour_1], labels=['deleted',''], colors=[colors[1],colors[0]], autopct='%.0f%%')\naxes[0,2].set_title('After 1 hour')\naxes[0,3].pie([append_dfs().iloc[1].hour_24, 1-append_dfs().iloc[1].hour_24], labels=['deleted',''], colors=[colors[1],colors[0]], autopct='%.0f%%')\naxes[0,3].set_title('After 24 hours')\n\naxes[1,0].pie([append_dfs().iloc[3].minute_5, 1-append_dfs().iloc[3].minute_5], labels=['deleted',''], colors=[colors[1],colors[0]], autopct='%.0f%%')\naxes[1,0].set_title('After 5 minutes')\naxes[1,0].set_ylabel('Offensive (sample of 680)')\naxes[1,1].pie([append_dfs().iloc[3].minute_30, 1-append_dfs().iloc[3].minute_30], labels=['deleted',''], colors=[colors[1],colors[0]], autopct='%.0f%%')\naxes[1,1].set_title('After 30 minutes')\naxes[1,2].pie([append_dfs().iloc[3].hour_1, 1-append_dfs().iloc[3].hour_1], labels=['deleted',''], colors=[colors[1],colors[0]], autopct='%.0f%%')\naxes[1,2].set_title('After 1 hour')\naxes[1,3].pie([append_dfs().iloc[3].hour_24, 1-append_dfs().iloc[3].hour_24], labels=['deleted',''], colors=[colors[1],colors[0]], autopct='%.0f%%')\naxes[1,3].set_title('After 24 hours')\n\nplt.suptitle('Deleted Comments between January 1st and February 1st, 2022')\nplt.show()",
   "execution_count": null,
   "outputs": [
    {
     "data": {
      "text/plain": "<Figure size 1080x576 with 8 Axes>",
      "image/png": "[encoded data removed]"
     },
     "metadata": {
      "image/png": {
       "width": 865,
       "height": 499
      }
     },
     "output_type": "display_data"
    },
    {
     "data": {
      "text/plain": "<Figure size 1080x576 with 8 Axes>",
      "image/png": "[encoded data removed]"
     },
     "metadata": {
      "image/png": {
       "width": 865,
       "height": 499
      }
     },
     "output_type": "display_data"
    }
   ]
  },
  {
   "cell_type": "markdown",
   "source": "#### Removal and deletion test statistics\n\nFinally, we use Welch's t-test to compare the means between removed hate and offensive comments and deleted hate and offensive comments to determine if there is a significant difference in how the classification of a comment is related to its removal or deletion. ",
   "metadata": {
    "cell_id": "827a82f11e934fbaaa0927493df1720a",
    "tags": [],
    "deepnote_cell_type": "markdown",
    "deepnote_cell_height": 133.140625
   }
  },
  {
   "cell_type": "code",
   "metadata": {
    "cell_id": "6dfa3be8b4ce442aba06a93765fc0758",
    "tags": [],
    "deepnote_to_be_reexecuted": false,
    "source_hash": "8cfa7e2d",
    "execution_start": 1650772347029,
    "execution_millis": 1,
    "deepnote_cell_type": "code",
    "deepnote_cell_height": 620.953125
   },
   "source": "def collect_removed_comments_test_statistics(dataset_1, dataset_2, alpha=0.05): \n    ttest_df = pd.DataFrame(columns=['variable','t-statistic','p-value','H0','variance'])\n    \n    variables = ['removed', 'deleted']\n    ttest_df['variable'] = variables\n\n    for variable in variables:\n        ttest_x=dataset_1[variable]\n        ttest_y=dataset_2[variable]\n        \n        if np.var(ttest_x) != np.var(ttest_y):\n            ttest_df.loc[ttest_df['variable']==variable,'variance'] = 'unequal'\n            ttest = ttest_ind(ttest_x, ttest_y, nan_policy='omit', equal_var=False)\n            ttest_df.loc[ttest_df['variable']==variable,'t-statistic'] = ttest[0]\n            ttest_df.loc[ttest_df['variable']==variable,'p-value'] = ttest[1]\n            if ttest[1] > alpha:\n                ttest_df.loc[ttest_df['variable']==variable,'H0'] = 'fail to reject'\n            else:\n                ttest_df.loc[ttest_df['variable']==variable,'H0'] = 'reject'\n        else:\n            ttest_df.loc[ttest_df['variable']==variable,'variance'] = 'equal'\n            ttest = ttest_ind(ttest_x, ttest_y, nan_policy='omit')\n            ttest_df.loc[ttest_df['variable']==variable,'t-statistic'] = ttest[0]\n            ttest_df.loc[ttest_df['variable']==variable,'p-value'] = ttest[1]\n            if ttest[1] > alpha:\n                ttest_df.loc[ttest_df['variable']==variable,'H0'] = 'fail to reject'\n            else:\n                ttest_df.loc[ttest_df['variable']==variable,'H0'] = 'reject'\n    \n    return ttest_df\n",
   "execution_count": null,
   "outputs": []
  },
  {
   "cell_type": "code",
   "metadata": {
    "cell_id": "cfdd49d3453a4df9b6e545cc4f2df772",
    "tags": [],
    "deepnote_to_be_reexecuted": false,
    "source_hash": "e64b85b2",
    "execution_start": 1650772347032,
    "execution_millis": 256,
    "deepnote_cell_type": "code",
    "deepnote_cell_height": 433.90625
   },
   "source": "modified_stats_df = c.copy()\nmodified_stats_df.loc[modified_stats_df.updated_body == '[removed]','removed'] = 1\nmodified_stats_df.loc[modified_stats_df.updated_body != '[removed]','removed'] = 0\nmodified_stats_df.loc[modified_stats_df.updated_body == '[deleted]','deleted'] = 1\nmodified_stats_df.loc[modified_stats_df.updated_body != '[deleted]','deleted'] = 0\nmodified_hate_stats_df = modified_stats_df[modified_stats_df.davidson_label == 0]\nmodified_offensive_stats_df = modified_stats_df[modified_stats_df.davidson_label == 1]\n\ncollect_removed_comments_test_statistics(modified_hate_stats_df, modified_offensive_stats_df)\n",
   "execution_count": null,
   "outputs": [
    {
     "output_type": "execute_result",
     "execution_count": 16,
     "data": {
      "application/vnd.deepnote.dataframe.v3+json": {
       "column_count": 5,
       "row_count": 2,
       "columns": [
        {
         "name": "variable",
         "dtype": "object",
         "stats": {
          "unique_count": 2,
          "nan_count": 0,
          "categories": [
           {
            "name": "removed",
            "count": 1
           },
           {
            "name": "deleted",
            "count": 1
           }
          ]
         }
        },
        {
         "name": "t-statistic",
         "dtype": "object",
         "stats": {
          "unique_count": 2,
          "nan_count": 0,
          "categories": [
           {
            "name": "18.30093940715128",
            "count": 1
           },
           {
            "name": "5.137661677017455",
            "count": 1
           }
          ]
         }
        },
        {
         "name": "p-value",
         "dtype": "object",
         "stats": {
          "unique_count": 2,
          "nan_count": 0,
          "categories": [
           {
            "name": "1.189366943799402e-74",
            "count": 1
           },
           {
            "name": "2.787913251604951e-07",
            "count": 1
           }
          ]
         }
        },
        {
         "name": "H0",
         "dtype": "object",
         "stats": {
          "unique_count": 1,
          "nan_count": 0,
          "categories": [
           {
            "name": "reject",
            "count": 2
           }
          ]
         }
        },
        {
         "name": "variance",
         "dtype": "object",
         "stats": {
          "unique_count": 1,
          "nan_count": 0,
          "categories": [
           {
            "name": "unequal",
            "count": 2
           }
          ]
         }
        },
        {
         "name": "_deepnote_index_column",
         "dtype": "int64"
        }
       ],
       "rows": [
        {
         "variable": "removed",
         "t-statistic": "18.30093940715128",
         "p-value": "1.189366943799402e-74",
         "H0": "reject",
         "variance": "unequal",
         "_deepnote_index_column": 0
        },
        {
         "variable": "deleted",
         "t-statistic": "5.137661677017455",
         "p-value": "2.787913251604951e-07",
         "H0": "reject",
         "variance": "unequal",
         "_deepnote_index_column": 1
        }
       ]
      },
      "text/plain": "  variable t-statistic p-value      H0 variance\n0  removed   18.300939     0.0  reject  unequal\n1  deleted    5.137662     0.0  reject  unequal",
      "text/html": "<div>\n<style scoped>\n    .dataframe tbody tr th:only-of-type {\n        vertical-align: middle;\n    }\n\n    .dataframe tbody tr th {\n        vertical-align: top;\n    }\n\n    .dataframe thead th {\n        text-align: right;\n    }\n</style>\n<table border=\"1\" class=\"dataframe\">\n  <thead>\n    <tr style=\"text-align: right;\">\n      <th></th>\n      <th>variable</th>\n      <th>t-statistic</th>\n      <th>p-value</th>\n      <th>H0</th>\n      <th>variance</th>\n    </tr>\n  </thead>\n  <tbody>\n    <tr>\n      <th>0</th>\n      <td>removed</td>\n      <td>18.300939</td>\n      <td>0.0</td>\n      <td>reject</td>\n      <td>unequal</td>\n    </tr>\n    <tr>\n      <th>1</th>\n      <td>deleted</td>\n      <td>5.137662</td>\n      <td>0.0</td>\n      <td>reject</td>\n      <td>unequal</td>\n    </tr>\n  </tbody>\n</table>\n</div>"
     },
     "metadata": {}
    }
   ]
  },
  {
   "cell_type": "code",
   "metadata": {
    "cell_id": "56cffe6f3d104d5b90aceb373a1fbb6d",
    "tags": [],
    "deepnote_to_be_reexecuted": false,
    "source_hash": "67f7a23f",
    "execution_start": 1650730372899,
    "execution_millis": 2754,
    "deepnote_cell_type": "code",
    "deepnote_cell_height": 833.71875,
    "deepnote_output_heights": [
     98.015625,
     499.765625
    ]
   },
   "source": "modified_toxic_stats_df = modified_stats_df[(modified_stats_df['davidson_label'] == 0) | (modified_stats_df['davidson_label'] == 1)]\n\nfig, axes = plt.subplots(1, 2, figsize=(15, 8))\nfig.suptitle('Percentage of Toxic Comments Removed or Deleted', size=15)\n\nsns.barplot(ax=axes[0], data=modified_toxic_stats_df, x='davidson_label',y='removed',palette=[colors[4],colors[0]]).set(ylim=[0,0.1],xticklabels=['Hate', 'Offensive'],xlabel=None,ylabel='Percentage',title='Removed')\nsns.barplot(ax=axes[1], data=modified_toxic_stats_df, x='davidson_label', y='deleted',palette=[colors[4],colors[0]]).set(ylim=[0,0.1],xticklabels=['Hate', 'Offensive'],xlabel=None,ylabel=None,title='Deleted')",
   "execution_count": null,
   "outputs": [
    {
     "output_type": "execute_result",
     "execution_count": 17,
     "data": {
      "text/plain": "[(0.0, 0.1),\n [Text(0, 0, 'Hate'), Text(1, 0, 'Offensive')],\n Text(0.5, 0, ''),\n Text(0, 0.5, ''),\n Text(0.5, 1.0, 'Deleted')]"
     },
     "metadata": {}
    },
    {
     "data": {
      "text/plain": "<Figure size 1080x576 with 2 Axes>",
      "image/png": "[encoded data removed]"
     },
     "metadata": {
      "needs_background": "light",
      "image/png": {
       "width": 894,
       "height": 523
      }
     },
     "output_type": "display_data"
    }
   ]
  },
  {
   "cell_type": "code",
   "metadata": {
    "cell_id": "a5c60354e59f4c99bfd61407818943cd",
    "tags": [],
    "deepnote_to_be_reexecuted": false,
    "source_hash": "b623e53d",
    "execution_start": 1650730375382,
    "execution_millis": 1,
    "deepnote_cell_type": "code",
    "deepnote_cell_height": 80.953125
   },
   "source": "",
   "execution_count": null,
   "outputs": []
  },
  {
   "cell_type": "markdown",
   "source": "<a style='text-decoration:none;line-height:16px;display:flex;color:#5B5B62;padding:10px;justify-content:end;' href='https://deepnote.com?utm_source=created-in-deepnote-cell&projectId=b22dad3f-c925-4cd0-bb81-e22d83bd774f' target=\"_blank\">\n<img alt='Created in deepnote.com' style='display:inline;max-height:16px;margin:0px;margin-right:7.5px;' src='data:image/svg+xml;base64,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' > </img>\nCreated in <span style='font-weight:600;margin-left:4px;'>Deepnote</span></a>",
   "metadata": {
    "tags": [],
    "created_in_deepnote_cell": true,
    "deepnote_cell_type": "markdown"
   }
  }
 ],
 "nbformat": 4,
 "nbformat_minor": 2,
 "metadata": {
  "orig_nbformat": 2,
  "deepnote": {},
  "deepnote_notebook_id": "05b31ce6-b633-42ef-a22a-80eac41659ce",
  "deepnote_execution_queue": []
 }
}
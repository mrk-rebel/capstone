{
 "cells": [
  {
   "cell_type": "markdown",
   "source": "<p> <font face = 'Nunito'>\n\n## Data Manipulation </font></p>\n\n<u>**requirements:**</u> \n\n* comments_raw.csv\n* submissions.csv\n* users.csv\n* ref_sample_raw.csv\n* comments_df_label.csv (comments classified with Davidson labels)\n* submissions_label.csv (submissions classified with Davidson labels)\n\n<u>**generates:**</u>\n* comments.csv\n* submissions.csv\n* users.csv\n* ref_sample.csv\n* comments_sample.csv\n* submissions_sample.csv\n* users_sample.csv\n\n<u>**manipulations:**</u>\n* convert date\n    * eliminate comments from before and after january<br/>\n* drop duplicate comments\n* drop comments created by bots\n* filter out comments containing the most freq promotion (spam)\n* get gender\n* get detoxify scores\n* eliminate foreign language comments\n* merge Davidson classification\n* create samples\n* get gender for January sample\n",
   "metadata": {
    "cell_id": "cb710116d4c14e6aa6b845c9dd4264ed",
    "tags": [],
    "deepnote_cell_type": "markdown",
    "deepnote_cell_height": 864.46875
   }
  },
  {
   "cell_type": "markdown",
   "source": "##### Import libraries",
   "metadata": {
    "cell_id": "cbdb268f30564678a08ba54c8477fff8",
    "tags": [],
    "deepnote_cell_type": "markdown",
    "deepnote_cell_height": 53.953125
   }
  },
  {
   "cell_type": "code",
   "source": "!pip install gensim==4.1.2\n!pip install detoxify",
   "metadata": {
    "cell_id": "ee3a11e55522443791a701e03ecf8f86",
    "tags": [],
    "deepnote_to_be_reexecuted": false,
    "source_hash": "b8e76b01",
    "execution_start": 1650830922778,
    "execution_millis": 5893,
    "is_code_hidden": false,
    "is_output_hidden": true,
    "deepnote_cell_type": "code",
    "deepnote_cell_height": 129.71875
   },
   "outputs": [
    {
     "name": "stdout",
     "text": "Collecting gensim==4.1.2\n  Downloading gensim-4.1.2-cp37-cp37m-manylinux_2_12_x86_64.manylinux2010_x86_64.whl (24.1 MB)\n\u001b[K     |████████████████████████████████| 24.1 MB 34.3 MB/s \n\u001b[?25hRequirement already satisfied: numpy>=1.17.0 in /shared-libs/python3.7/py/lib/python3.7/site-packages (from gensim==4.1.2) (1.21.6)\nRequirement already satisfied: scipy>=0.18.1 in /shared-libs/python3.7/py/lib/python3.7/site-packages (from gensim==4.1.2) (1.7.3)\nRequirement already satisfied: smart-open>=1.8.1 in /shared-libs/python3.7/py/lib/python3.7/site-packages (from gensim==4.1.2) (5.2.1)\nInstalling collected packages: gensim\nSuccessfully installed gensim-4.1.2\n\u001b[33mWARNING: You are using pip version 20.1.1; however, version 22.0.4 is available.\nYou should consider upgrading via the '/root/venv/bin/python -m pip install --upgrade pip' command.\u001b[0m\n",
     "output_type": "stream"
    }
   ],
   "execution_count": 3
  },
  {
   "cell_type": "code",
   "metadata": {
    "tags": [],
    "cell_id": "d0c861a2-a071-4546-ab74-479b7f407e55",
    "deepnote_to_be_reexecuted": false,
    "source_hash": "6b52762e",
    "execution_start": 1650830956968,
    "execution_millis": 3,
    "is_output_hidden": false,
    "deepnote_cell_type": "code",
    "deepnote_cell_height": 314.953125
   },
   "source": "import pandas as pd\nimport numpy as np\nfrom orange_functions import *\nimport datetime as dt\n\nimport re\nimport nltk\n\n# !pip install transformers==4.17.0\nfrom detoxify import Detoxify\n\nfrom tqdm import tqdm\n\nRANDOM_SEED = 697",
   "execution_count": 5,
   "outputs": []
  },
  {
   "cell_type": "code",
   "metadata": {
    "cell_id": "747d2dccffc14dd99b001adf351a5673",
    "tags": [],
    "deepnote_to_be_reexecuted": false,
    "source_hash": "3ced2b2e",
    "execution_start": 1650830963168,
    "execution_millis": 4,
    "deepnote_cell_type": "code",
    "deepnote_cell_height": 148.328125
   },
   "source": "nltk.download('stopwords')\nstopwords=nltk.corpus.stopwords.words(\"english\")",
   "execution_count": 6,
   "outputs": [
    {
     "name": "stderr",
     "text": "[nltk_data] Downloading package stopwords to /root/nltk_data...\n[nltk_data]   Package stopwords is already up-to-date!\n",
     "output_type": "stream"
    }
   ]
  },
  {
   "cell_type": "markdown",
   "source": "#### Load data",
   "metadata": {
    "cell_id": "470df18f626d4b93b8404df497cc4ec3",
    "tags": [],
    "deepnote_cell_type": "markdown",
    "deepnote_cell_height": 53.953125
   }
  },
  {
   "cell_type": "code",
   "metadata": {
    "cell_id": "04805ddb7bde4ff9b5f7966811b50933",
    "tags": [],
    "deepnote_to_be_reexecuted": false,
    "source_hash": "f745b24b",
    "execution_start": 1650406140605,
    "execution_millis": 1,
    "deepnote_cell_type": "code",
    "deepnote_cell_height": 170.953125
   },
   "source": "comments_raw_path = 'data/raw/comments.csv'\nsubmissions_path = 'data/raw/submissions.csv'\nusers_path = 'data/raw/users.csv'\njan_sample = 'data/raw/reference.csv'\nc_davidson_path = 'data/interim/comments_df_label.csv'\ns_davidson_path = 'data/interim/submissions_label.csv'",
   "execution_count": null,
   "outputs": []
  },
  {
   "cell_type": "code",
   "metadata": {
    "cell_id": "48c1a248f7b34dc08dcab52e19fd5ee5",
    "tags": [],
    "deepnote_cell_type": "code",
    "deepnote_cell_height": 155.953125
   },
   "source": "c = pd.read_csv(comments_raw_path)\ns = pd.read_csv(submissions_path)\nu = pd.read_csv(users_path)\njan_sample = pd.read_csv(jan_sample)\nc_davidson_label = pd.read(c_davidson_path)\ns_davidson_label = pd.read(s_davidson_path)",
   "execution_count": null,
   "outputs": []
  },
  {
   "cell_type": "markdown",
   "source": "#### 1. Convert dates",
   "metadata": {
    "cell_id": "a353074c145d4f829111070c3799642f",
    "tags": [],
    "deepnote_cell_type": "markdown",
    "deepnote_cell_height": 53.953125
   }
  },
  {
   "cell_type": "code",
   "metadata": {
    "cell_id": "e26f124e8b854b989cec34b964b873b5",
    "tags": [],
    "deepnote_cell_type": "code",
    "deepnote_cell_height": 137.96875
   },
   "source": "c['created'] = pd.to_datetime(c.created_utc, unit='s')\nc['retrieved'] = pd.to_datetime(c.retrieved_utc, unit='s')\n\ns['created'] = pd.to_datetime(s.created_utc, unit='s')\nu['created'] = pd.to_datetime(u.created_utc, unit='s')",
   "execution_count": null,
   "outputs": []
  },
  {
   "cell_type": "markdown",
   "source": "#### 1b. Drop comments from before and after January",
   "metadata": {
    "cell_id": "c4408cf8c1f5448c844d82bf7fc9d27d",
    "tags": [],
    "is_code_hidden": true,
    "deepnote_cell_type": "markdown",
    "deepnote_cell_height": 53.953125
   }
  },
  {
   "cell_type": "code",
   "metadata": {
    "cell_id": "f357b8b129c843aaa8ad3a53b854fb12",
    "tags": [],
    "is_code_hidden": true,
    "deepnote_cell_type": "code",
    "deepnote_cell_height": 59.734375
   },
   "source": "# trimming buffer on both ends so final dataset contains only january comments\n# c = c[c.created.dt.month==1]",
   "execution_count": null,
   "outputs": []
  },
  {
   "cell_type": "markdown",
   "source": "#### 2. Drop duplicate comments",
   "metadata": {
    "cell_id": "8a826784fa8f4c7bbde667d612cbd544",
    "tags": [],
    "deepnote_cell_type": "markdown",
    "deepnote_cell_height": 53.953125
   }
  },
  {
   "cell_type": "code",
   "metadata": {
    "cell_id": "454a6559d1774403bd8a77c008c747e1",
    "tags": [],
    "deepnote_to_be_reexecuted": false,
    "source_hash": "e462ea3d",
    "execution_start": 1650148413797,
    "execution_millis": 5,
    "deepnote_cell_type": "code",
    "deepnote_cell_height": 80.953125
   },
   "source": "c = c[~c.body.duplicated()]",
   "execution_count": null,
   "outputs": []
  },
  {
   "cell_type": "markdown",
   "source": "#### 3. Drop comments created by bots ",
   "metadata": {
    "cell_id": "4750061e58dc4178bf9d89b34a911a06",
    "tags": [],
    "deepnote_cell_type": "markdown",
    "deepnote_cell_height": 53.953125
   }
  },
  {
   "cell_type": "code",
   "metadata": {
    "cell_id": "1bc9fa289af3477fb13cdd58c9a624d9",
    "tags": [],
    "deepnote_cell_type": "code",
    "deepnote_cell_height": 119.953125
   },
   "source": "c = c[(~c.body.duplicated()) & \n            (~c.body.str.contains(r'I.{,4}am.{,4}a.{,4}bot', regex=True)) & \n            (~c.body.str.contains('cumalloverus'))\n            ]",
   "execution_count": null,
   "outputs": []
  },
  {
   "cell_type": "markdown",
   "source": "#### 4. Filter out comments containing the most freq promotion (spam)",
   "metadata": {
    "cell_id": "4a0b1d558c2540f78b9628e63fb366ed",
    "tags": [],
    "deepnote_cell_type": "markdown",
    "deepnote_cell_height": 53.953125
   }
  },
  {
   "cell_type": "code",
   "metadata": {
    "cell_id": "5cc52f45fd2047828b80bf674eef1e90",
    "tags": [],
    "deepnote_cell_type": "code",
    "deepnote_cell_height": 65.953125
   },
   "source": "c = c[~c.body.str.contains('cumalloverus')]",
   "execution_count": null,
   "outputs": []
  },
  {
   "cell_type": "markdown",
   "source": "##### New submissions.csv and users.csv \nComments have been trimmed down and submissions and users need to be edited accordingly.",
   "metadata": {
    "cell_id": "f7decb690a584dda959f514caeac2250",
    "tags": [],
    "deepnote_cell_type": "markdown",
    "deepnote_cell_height": 88.34375
   }
  },
  {
   "cell_type": "code",
   "metadata": {
    "cell_id": "5a7ed1fa78c34e3e8b96f23a23e521ed",
    "tags": [],
    "deepnote_to_be_reexecuted": false,
    "source_hash": "d897fa08",
    "execution_start": 1649974743684,
    "execution_millis": 1833,
    "deepnote_cell_type": "code",
    "deepnote_cell_height": 98.953125
   },
   "source": "s = s.set_index('id').loc[list(c.submission_id.unique())].reset_index()\nu = u.set_index('name').loc[list(c.author.unique())].reset_index()",
   "execution_count": null,
   "outputs": []
  },
  {
   "cell_type": "markdown",
   "source": "#### Extract valid submission selftext and valid submission title for next steps",
   "metadata": {
    "cell_id": "97cc2f6cc4b448d09ae90b57791bcb02",
    "tags": [],
    "deepnote_cell_type": "markdown",
    "deepnote_cell_height": 53.953125
   }
  },
  {
   "cell_type": "code",
   "metadata": {
    "cell_id": "43b9d16a601e437b80868e297535cc25",
    "tags": [],
    "deepnote_to_be_reexecuted": false,
    "source_hash": "fef12dc4",
    "execution_start": 1650342850260,
    "execution_millis": 91,
    "deepnote_cell_type": "code",
    "deepnote_cell_height": 188.953125
   },
   "source": "s_selftext = s[(s.selftext != '[removed]') & \n                (s.selftext != '[deleted]') & \n                (s.selftext.notnull())].loc[:, ['id', 'selftext']]\n\ns_title = s[(s.title != '[ Removed by Reddit ]') & \n            (s.title != '[deleted by user]') & \n            (s.title.notnull())].loc[:,['id', 'title']]",
   "execution_count": null,
   "outputs": []
  },
  {
   "cell_type": "markdown",
   "source": "#### 5. Get gender",
   "metadata": {
    "cell_id": "1a36d8f50c7f45e49bdd9ba67014e3da",
    "tags": [],
    "deepnote_cell_type": "markdown",
    "deepnote_cell_height": 53.953125
   }
  },
  {
   "cell_type": "code",
   "metadata": {
    "cell_id": "04947dd41dc44c82a51f99817591aedb",
    "tags": [],
    "deepnote_to_be_reexecuted": false,
    "source_hash": "62161f72",
    "execution_start": 1650342852857,
    "execution_millis": 148581,
    "output_cleared": false,
    "deepnote_cell_type": "code",
    "deepnote_cell_height": 80.953125
   },
   "source": "c['gender'] = c.body.apply(find_gender)",
   "execution_count": null,
   "outputs": []
  },
  {
   "cell_type": "code",
   "metadata": {
    "cell_id": "6ae4f89931b14c258a7cb64b628b95a3",
    "tags": [],
    "deepnote_to_be_reexecuted": false,
    "source_hash": "bf723a09",
    "execution_start": 1650343022429,
    "execution_millis": 95291,
    "deepnote_table_state": {
     "pageSize": 10,
     "pageIndex": 2,
     "filters": [],
     "sortBy": []
    },
    "deepnote_table_loading": false,
    "deepnote_cell_type": "code",
    "deepnote_cell_height": 98.953125
   },
   "source": "s_selftext['selftext_gender'] = s_selftext.selftext.apply(find_gender)\ns_title['title_gender'] = s_title.title.apply(find_gender)",
   "execution_count": null,
   "outputs": []
  },
  {
   "cell_type": "markdown",
   "source": "#### 6. Get detoxify",
   "metadata": {
    "cell_id": "a8c45a55a6054ee4973718800854cbc9",
    "tags": [],
    "deepnote_cell_type": "markdown",
    "deepnote_cell_height": 53.953125
   }
  },
  {
   "cell_type": "code",
   "metadata": {
    "cell_id": "0c6f8c0f84fb4c55beafc51d99c897a2",
    "tags": [],
    "deepnote_to_be_reexecuted": false,
    "source_hash": "76a3d225",
    "execution_start": 1650152830066,
    "execution_millis": 4,
    "deepnote_table_state": {
     "pageSize": 10,
     "pageIndex": 38,
     "filters": [],
     "sortBy": []
    },
    "deepnote_table_loading": false,
    "deepnote_cell_type": "code",
    "deepnote_cell_height": 440.953125
   },
   "source": "def get_detoxify(df, col_to_classify):\n    model = Detoxify('unbiased')\n    \n    nandict = {'toxicity': np.nan,\n            'severe_toxicity': np.nan,\n            'obscene': np.nan,\n            'identity_attack': np.nan,\n            'insult': np.nan,\n            'threat': np.nan,\n            'sexual_explicit': np.nan}\n\n    tpd = pd.DataFrame(model.predict(df[col_to_classify][0]), index=[df['id'][0]])\n\n    for i in tqdm(range(1, df.shape[0])):\n        try:\n            tpd = pd.concat([tpd, \n                            pd.DataFrame(model.predict(df[col_to_classify][i]), \n                                        index=[df['id'][i]])]) \n        except:\n            tpd = pd.concat([tpd, pd.DataFrame(nandict, index=[df['id'][i]])])\n    return tpd.reset_index()",
   "execution_count": null,
   "outputs": []
  },
  {
   "cell_type": "code",
   "metadata": {
    "cell_id": "93291105bcf541108edcab66cf67ace8",
    "tags": [],
    "deepnote_cell_type": "code",
    "deepnote_cell_height": 101.953125
   },
   "source": "c_detoxify = get_detoxify(c, 'body')\ns_selftext_detoxify = get_detoxify(s_selftext, 'selftext')\ns_title_detoxify = get_detoxify(s_title, 'title')",
   "execution_count": null,
   "outputs": []
  },
  {
   "cell_type": "code",
   "metadata": {
    "cell_id": "c8ab3dde8f7c4b47948ddb3c8508a501",
    "tags": [],
    "deepnote_to_be_reexecuted": false,
    "source_hash": "f937e356",
    "execution_start": 1650339321532,
    "execution_millis": 537,
    "deepnote_cell_type": "code",
    "deepnote_cell_height": 152.96875
   },
   "source": "c = c.merge(c_detoxify, on='id', how='left')\ns = s.merge(s_selftext.loc[:, ['id', 'selftext_gender']], on='id', how='left')\ns = s.merge(s_title.loc[:, ['id', 'title_gender']], on='id', how='left')\ns = s.merge(s_selftext_detoxify, on='id', how='left')\ns = s.merge(s_title_detoxify, on='id', how='left')",
   "execution_count": null,
   "outputs": []
  },
  {
   "cell_type": "markdown",
   "source": "#### 7. Eliminate foreign language comments",
   "metadata": {
    "cell_id": "71b639f74dd64fc599b9b93ff8c55824",
    "tags": [],
    "deepnote_cell_type": "markdown",
    "deepnote_cell_height": 53.953125
   }
  },
  {
   "cell_type": "code",
   "metadata": {
    "cell_id": "ccba9a4523914db09b154cfacda6ac2c",
    "tags": [],
    "deepnote_cell_type": "code",
    "deepnote_cell_height": 155.953125
   },
   "source": "# The 10-15% stopword range seems ideal for \n# preserving potentially valuable multi-lingual posts \n# setting filter closer to 10% for caution\nthreshold = 0.11\nc['english'] = filter_foreign_language_comments(c.body)\nc = c[c.english > threshold]",
   "execution_count": null,
   "outputs": []
  },
  {
   "cell_type": "markdown",
   "source": "#### 8. Merge Davidson classification",
   "metadata": {
    "cell_id": "2cc4d603536547d9be69120a02aabbf3",
    "tags": [],
    "deepnote_cell_type": "markdown",
    "deepnote_cell_height": 53.953125
   }
  },
  {
   "cell_type": "code",
   "metadata": {
    "cell_id": "9d8de931eb5042a1a01e9540e09c3567",
    "tags": [],
    "deepnote_cell_type": "code",
    "deepnote_cell_height": 83.953125
   },
   "source": "c.merge(c_davidson_label.loc[:, ['id', 'label']], on='id', how='left')\ns.merge(s_davidson_label.loc[:, ['id', 'selftext_label', 'title_label']], on='id', how='left')",
   "execution_count": null,
   "outputs": []
  },
  {
   "cell_type": "code",
   "metadata": {
    "cell_id": "74e9bce5c38b4c74966f9410d4028cb4",
    "tags": [],
    "deepnote_to_be_reexecuted": false,
    "source_hash": "591889ef",
    "execution_start": 1650343371126,
    "execution_millis": 10092,
    "deepnote_cell_type": "code",
    "deepnote_cell_height": 116.953125
   },
   "source": "c.reset_index().iloc[:,1:].to_csv('/data/processed/comments.csv', index=False)\ns.reset_index().iloc[:,1:].to_csv('/data/processed/submissions.csv', index=False)\nu.reset_index().iloc[:,1:].to_csv('/data/processed/users.csv', index=False)",
   "execution_count": null,
   "outputs": []
  },
  {
   "cell_type": "markdown",
   "source": "#### 9. Create samples for GitHub",
   "metadata": {
    "cell_id": "4dda6bc53ad04555bf46f71011969007",
    "tags": [],
    "deepnote_cell_type": "markdown",
    "deepnote_cell_height": 53.953125
   }
  },
  {
   "cell_type": "code",
   "metadata": {
    "cell_id": "38bb829e27e6422dbe138fcd75a8c0b3",
    "tags": [],
    "deepnote_to_be_reexecuted": false,
    "source_hash": "e40eef0c",
    "execution_start": 1649979594916,
    "execution_millis": 611,
    "deepnote_cell_type": "code",
    "deepnote_cell_height": 98.953125
   },
   "source": "# cs = c.sample(15000, random_state=RANDOM_SEED)\n# cs.to_csv('/data/processed/comments.csv')",
   "execution_count": null,
   "outputs": []
  },
  {
   "cell_type": "code",
   "metadata": {
    "cell_id": "89f9244fba824308a9ef514b52242ce7",
    "tags": [],
    "deepnote_to_be_reexecuted": false,
    "source_hash": "e55b96e3",
    "execution_start": 1649979597200,
    "execution_millis": 677,
    "deepnote_cell_type": "code",
    "deepnote_cell_height": 152.96875
   },
   "source": "# ss = s.set_index('id').loc[list(cs.submission_id.unique())].reset_index()\n# ss.to_csv('/data/processed/submissions_sample.csv')\n\n# us = u.set_index('name').loc[list(cs.author.unique())].reset_index()\n# us.to_csv('/data/processed/users_sample.csv')",
   "execution_count": null,
   "outputs": []
  },
  {
   "cell_type": "code",
   "metadata": {
    "cell_id": "bc2eef761b4744fba4fb8fea25a51dc3",
    "tags": [],
    "deepnote_to_be_reexecuted": false,
    "source_hash": "6557a742",
    "execution_start": 1649980897066,
    "execution_millis": 458,
    "deepnote_cell_type": "code",
    "deepnote_cell_height": 206.953125
   },
   "source": "# cs.loc[:, ['all_awardings', 'author', 'author_flair_type', 'author_fullname',\n#        'author_premium', 'body', 'body_sha1', 'controversiality',\n#        'created_utc', 'distinguished', 'edited', 'gildings', 'id',\n#        'is_submitter', 'link_id', 'parent_id', 'permalink', 'retrieved_utc',\n#        'score', 'status', 'subreddit', 'subreddit_id',\n#        'subreddit_name_prefixed', 'subreddit_type', 'updated_body']\n       \n#        ].to_csv('/data/processed/comments_raw_sample.csv')",
   "execution_count": null,
   "outputs": []
  },
  {
   "cell_type": "markdown",
   "source": "### Reference sample\n#### 10. Convert date",
   "metadata": {
    "cell_id": "7ab28d0ad4fd472faddfcf7cf93c4435",
    "tags": [],
    "deepnote_cell_type": "markdown",
    "deepnote_cell_height": 101.9375
   }
  },
  {
   "cell_type": "code",
   "metadata": {
    "cell_id": "ad309f8e42c542598d44b042031abe1e",
    "tags": [],
    "deepnote_to_be_reexecuted": false,
    "source_hash": "6c1b9162",
    "execution_start": 1650479554503,
    "execution_millis": 557,
    "deepnote_cell_type": "code",
    "deepnote_cell_height": 80.953125
   },
   "source": "jan = pd.read_csv('data/raw/reference.csv')",
   "execution_count": null,
   "outputs": []
  },
  {
   "cell_type": "code",
   "metadata": {
    "cell_id": "c86ac801987e41c5861d39d2591119e7",
    "tags": [],
    "deepnote_to_be_reexecuted": false,
    "source_hash": "2565ea6c",
    "execution_start": 1650479568695,
    "execution_millis": 8,
    "deepnote_cell_type": "code",
    "deepnote_cell_height": 80.953125
   },
   "source": "jan['created'] = pd.to_datetime(jan.created_utc, unit='s')",
   "execution_count": null,
   "outputs": []
  },
  {
   "cell_type": "markdown",
   "source": "#### 11. Drop duplicate, filter out bots, filter out outlier spammer in primary dataset",
   "metadata": {
    "cell_id": "05120b3791864991a0e52c34a0f34fce",
    "tags": [],
    "deepnote_cell_type": "markdown",
    "deepnote_cell_height": 53.953125
   }
  },
  {
   "cell_type": "code",
   "metadata": {
    "cell_id": "54bc7b7bd68644a89e64f177e7ed33fc",
    "tags": [],
    "deepnote_to_be_reexecuted": false,
    "source_hash": "16e78a1f",
    "execution_start": 1650427167150,
    "execution_millis": 90,
    "deepnote_cell_type": "code",
    "deepnote_cell_height": 152.96875
   },
   "source": "jan = jan[(~jan.body.duplicated()) & \n            (~jan.body.str.contains(r'I.{,4}am.{,4}a.{,4}bot', regex=True)) & \n            (~jan.body.str.contains('cumalloverus'))\n            \n            ]",
   "execution_count": null,
   "outputs": []
  },
  {
   "cell_type": "markdown",
   "source": "#### 12. Get gender",
   "metadata": {
    "cell_id": "e3ac04eae33a45fd87c8f271ebcdc216",
    "tags": [],
    "deepnote_cell_type": "markdown",
    "deepnote_cell_height": 53.953125
   }
  },
  {
   "cell_type": "code",
   "metadata": {
    "cell_id": "fa5f8320d00e4744835424b1e760ecdd",
    "tags": [],
    "deepnote_to_be_reexecuted": false,
    "source_hash": "9a4fb8bc",
    "execution_start": 1650425710909,
    "execution_millis": 70140,
    "deepnote_table_state": {
     "pageSize": 10,
     "pageIndex": 4675,
     "filters": [],
     "sortBy": []
    },
    "deepnote_table_loading": false,
    "deepnote_cell_type": "code",
    "deepnote_cell_height": 80.953125
   },
   "source": "jan['gender'] = jan.body.apply(find_gender)",
   "execution_count": null,
   "outputs": []
  },
  {
   "cell_type": "code",
   "metadata": {
    "cell_id": "28e9529895c74e50a19af499a8750390",
    "tags": [],
    "deepnote_to_be_reexecuted": false,
    "source_hash": "9fe445af",
    "execution_start": 1650427184639,
    "execution_millis": 110,
    "deepnote_cell_type": "code",
    "deepnote_cell_height": 194.96875,
    "deepnote_output_heights": [
     98.015625
    ]
   },
   "source": "jan.gender.value_counts()",
   "execution_count": null,
   "outputs": [
    {
     "output_type": "execute_result",
     "execution_count": 16,
     "data": {
      "text/plain": "none      30881\nmale       8756\nfemale     3571\nboth       3066\nName: gender, dtype: int64"
     },
     "metadata": {}
    }
   ]
  },
  {
   "cell_type": "code",
   "metadata": {
    "cell_id": "d0038c02848e4e6da4a9d895a6e3f27b",
    "tags": [],
    "deepnote_to_be_reexecuted": false,
    "source_hash": "58b4ddee",
    "execution_start": 1650427248416,
    "execution_millis": 780,
    "owner_user_id": "aa81f22b-076f-4bdb-abba-2edf2197fa03",
    "deepnote_cell_type": "code",
    "deepnote_cell_height": 80.953125
   },
   "source": "jan.to_csv('data/processed/reference.csv', index=False)",
   "execution_count": null,
   "outputs": []
  },
  {
   "cell_type": "markdown",
   "source": "<a style='text-decoration:none;line-height:16px;display:flex;color:#5B5B62;padding:10px;justify-content:end;' href='https://deepnote.com?utm_source=created-in-deepnote-cell&projectId=b22dad3f-c925-4cd0-bb81-e22d83bd774f' target=\"_blank\">\n<img alt='Created in deepnote.com' style='display:inline;max-height:16px;margin:0px;margin-right:7.5px;' src='data:image/svg+xml;base64,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' > </img>\nCreated in <span style='font-weight:600;margin-left:4px;'>Deepnote</span></a>",
   "metadata": {
    "tags": [],
    "created_in_deepnote_cell": true,
    "deepnote_cell_type": "markdown"
   }
  }
 ],
 "nbformat": 4,
 "nbformat_minor": 2,
 "metadata": {
  "orig_nbformat": 2,
  "deepnote": {
   "is_reactive": false
  },
  "deepnote_notebook_id": "44baec25-2a02-4a89-9e80-83e52a58b6c8",
  "deepnote_execution_queue": []
 }
}
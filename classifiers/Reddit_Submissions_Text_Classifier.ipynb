{
 "cells": [
  {
   "cell_type": "markdown",
   "metadata": {},
   "source": [
    "# Warning\n",
    "### This project examines hateful, offensive, toxic language on Reddit\n",
    "### and exposes language that is degrading and disturbing."
   ]
  },
  {
   "cell_type": "code",
   "execution_count": 1,
   "metadata": {},
   "outputs": [],
   "source": [
    "# notes for rerunning:\n",
    "\n",
    "# df read at the beginning of each major section - make sure location/name is consistent\n",
    "# writes df at the end of comment, submission-selftext, and submissions-title sections \n",
    "# (before examination of)\n",
    "# comment was commented out so new df was not created"
   ]
  },
  {
   "cell_type": "markdown",
   "metadata": {},
   "source": [
    "# Reddit Submissions Text Classification"
   ]
  },
  {
   "cell_type": "markdown",
   "metadata": {},
   "source": [
    "In order to predict class labels for the comments we collected from Reddit, we chose to base our classifier on the Twitter classifier made public by Davidson et al., which was used in their research for the automatic hate-speech detection of Twitter posts. \n",
    "\n",
    "Beginning with the initial dataset of Twitter posts compiled by Davidson et al., which were labeled through crowd-sourcing as hate speech (0), offensive speech (1) or neither hate speech nor offensive speech (2), we extract features from the Twitter posts and train a logistic regression model to predict the class label of the posts.\n",
    "\n",
    "We then apply the same feature extraction techniques to our dataset consisting of Reddit comments, along with the logistic regression model to predict class labels for our own data.\n",
    "\n",
    "The complete Davidson et al. dataset can be found at https://github.com/t-davidson/hate-speech-and-offensive-language.\n",
    "\n",
    "Davidson, Thomas et al. 2017. Automated Hate Speech Detection and the Problem of Offensive Language. Proceedings of the Eleventh International AAAI Conference on Web and Social Media. In ICWSM, 512-515.\n",
    "\n",
    "@inproceedings{hateoffensive,\n",
    "  title = {Automated Hate Speech Detection and the Problem of Offensive Language},\n",
    "  author = {Davidson, Thomas and Warmsley, Dana and Macy, Michael and Weber, Ingmar}, \n",
    "  booktitle = {Proceedings of the 11th International AAAI Conference on Web and Social Media},\n",
    "  series = {ICWSM '17},\n",
    "  year = {2017},\n",
    "  location = {Montreal, Canada},\n",
    "  pages = {512-515}\n",
    "  }"
   ]
  },
  {
   "cell_type": "code",
   "execution_count": 2,
   "metadata": {},
   "outputs": [
    {
     "name": "stdout",
     "output_type": "stream",
     "text": [
      "Requirement already satisfied: vadersentiment in /opt/anaconda3/lib/python3.8/site-packages (3.3.2)\n",
      "Requirement already satisfied: requests in /opt/anaconda3/lib/python3.8/site-packages (from vadersentiment) (2.24.0)\n",
      "Requirement already satisfied: idna<3,>=2.5 in /opt/anaconda3/lib/python3.8/site-packages (from requests->vadersentiment) (2.10)\n",
      "Requirement already satisfied: certifi>=2017.4.17 in /opt/anaconda3/lib/python3.8/site-packages (from requests->vadersentiment) (2020.6.20)\n",
      "Requirement already satisfied: urllib3!=1.25.0,!=1.25.1,<1.26,>=1.21.1 in /opt/anaconda3/lib/python3.8/site-packages (from requests->vadersentiment) (1.25.11)\n",
      "Requirement already satisfied: chardet<4,>=3.0.2 in /opt/anaconda3/lib/python3.8/site-packages (from requests->vadersentiment) (3.0.4)\n",
      "Note: you may need to restart the kernel to use updated packages.\n"
     ]
    }
   ],
   "source": [
    "pip install vadersentiment"
   ]
  },
  {
   "cell_type": "code",
   "execution_count": 3,
   "metadata": {},
   "outputs": [
    {
     "name": "stdout",
     "output_type": "stream",
     "text": [
      "Requirement already satisfied: textstat in /opt/anaconda3/lib/python3.8/site-packages (0.7.3)\n",
      "Requirement already satisfied: pyphen in /opt/anaconda3/lib/python3.8/site-packages (from textstat) (0.12.0)\n",
      "Note: you may need to restart the kernel to use updated packages.\n"
     ]
    }
   ],
   "source": [
    "pip install textstat"
   ]
  },
  {
   "cell_type": "code",
   "execution_count": 4,
   "metadata": {},
   "outputs": [],
   "source": [
    "import pandas as pd\n",
    "import numpy as np\n",
    "import pickle\n",
    "import sys\n",
    "from sklearn.feature_extraction.text import TfidfVectorizer\n",
    "import nltk\n",
    "from nltk.stem.porter import *\n",
    "from nltk.tag.api import TaggerI  # average_perceptron_tagger\n",
    "import string\n",
    "import re\n",
    "from vaderSentiment.vaderSentiment import SentimentIntensityAnalyzer as VS\n",
    "from textstat.textstat import *\n",
    "from sklearn.linear_model import LogisticRegression\n",
    "from sklearn.feature_selection import SelectFromModel\n",
    "from sklearn.metrics import classification_report\n",
    "from sklearn.svm import LinearSVC\n",
    "from sklearn.model_selection import train_test_split\n",
    "from sklearn.pipeline import Pipeline\n",
    "import matplotlib.pyplot as plt\n",
    "import seaborn\n",
    "%matplotlib inline\n",
    "import warnings\n",
    "warnings.simplefilter(action='ignore', category=FutureWarning)"
   ]
  },
  {
   "cell_type": "code",
   "execution_count": 5,
   "metadata": {},
   "outputs": [],
   "source": [
    "RANDOM_SEED = 697"
   ]
  },
  {
   "cell_type": "markdown",
   "metadata": {},
   "source": [
    "# Loading the Davidson et al. Twitter Dataset to Train the Classifier"
   ]
  },
  {
   "cell_type": "markdown",
   "metadata": {},
   "source": [
    "*** The modified Davidson et al. Twitter Hate Speech Classification code begins here. ***"
   ]
  },
  {
   "cell_type": "code",
   "execution_count": 6,
   "metadata": {},
   "outputs": [
    {
     "data": {
      "text/plain": [
       "<AxesSubplot:>"
      ]
     },
     "execution_count": 6,
     "metadata": {},
     "output_type": "execute_result"
    },
    {
     "data": {
      "image/png": "[encoded data removed]",
      "text/plain": [
       "<Figure size 432x288 with 1 Axes>"
      ]
     },
     "metadata": {
      "needs_background": "light"
     },
     "output_type": "display_data"
    }
   ],
   "source": [
    "twitter_df = pd.read_csv('Davidson_data.csv')\n",
    "\n",
    "# uncomment (and comment out above) if getting data from data file\n",
    "#twitter_df = pd.read_csv('data/Davidson_data.csv')\n",
    "\n",
    "twitter_df['class'].hist()"
   ]
  },
  {
   "cell_type": "code",
   "execution_count": 7,
   "metadata": {},
   "outputs": [
    {
     "data": {
      "text/plain": [
       "24783"
      ]
     },
     "execution_count": 7,
     "metadata": {},
     "output_type": "execute_result"
    }
   ],
   "source": [
    "tweets=twitter_df.tweet\n",
    "len(tweets)"
   ]
  },
  {
   "cell_type": "code",
   "execution_count": 8,
   "metadata": {},
   "outputs": [
    {
     "data": {
      "text/plain": [
       "0    !!! RT @mayasolovely: As a woman you shouldn't...\n",
       "1    !!!!! RT @mleew17: boy dats cold...tyga dwn ba...\n",
       "2    !!!!!!! RT @UrKindOfBrand Dawg!!!! RT @80sbaby...\n",
       "Name: tweet, dtype: object"
      ]
     },
     "metadata": {},
     "output_type": "display_data"
    }
   ],
   "source": [
    "display(tweets[0:3])"
   ]
  },
  {
   "cell_type": "markdown",
   "metadata": {},
   "source": [
    "# Feature Generation for the Davidson et al. Twitter Dataset"
   ]
  },
  {
   "cell_type": "markdown",
   "metadata": {},
   "source": [
    "# Part 1 - Preprocess, Tokenize and TF-IDF Vectorization"
   ]
  },
  {
   "cell_type": "code",
   "execution_count": 9,
   "metadata": {},
   "outputs": [],
   "source": [
    "'''The original Davidson et al. Twitter classification code has been slightly modified to\n",
    "better account for the inherent differences between Twitter and Reddit comments.'''\n",
    "\n",
    "stemmer = PorterStemmer()\n",
    "\n",
    "# list of stopwords\n",
    "stopwords = set(nltk.corpus.stopwords.words(\"english\"))  # use this when stopwords included in tokenize\n",
    "#stopwords = nltk.corpus.stopwords.words(\"english\")\n",
    "#tokens = [stemmer.stem(word) for word in stopwords] \n",
    "\n",
    "\n",
    "# used in vectorizer\n",
    "def preprocess(text_string):     # used in vectorizer\n",
    "    \"\"\"\n",
    "    Accepts a text string and replaces:\n",
    "    1) urls with URLHERE\n",
    "    2) lots of whitespace with one instance\n",
    "    3) mentions with MENTIONHERE\n",
    "\n",
    "    This allows us to get standardized counts of urls and mentions\n",
    "    Without caring about specific people mentioned\n",
    "    \"\"\"\n",
    "    space_pattern = '\\s+'\n",
    "    giant_url_regex = ('http[s]?://(?:[a-zA-Z]|[0-9]|[$-_@.&+]|'\n",
    "        '[!*\\(\\),]|(?:%[0-9a-fA-F][0-9a-fA-F]))+')\n",
    "    mention_regex = '@[\\w\\-]+'\n",
    "    parsed_text = re.sub(space_pattern, ' ', text_string)\n",
    "    parsed_text = re.sub(giant_url_regex, '', parsed_text)\n",
    "    parsed_text = re.sub(mention_regex, '', parsed_text)\n",
    "    return parsed_text\n",
    "\n",
    "\n",
    "# used in vectorizer\n",
    "def tokenize(tweet):              \n",
    "    \"\"\"Removes punctuation & excess whitespace, sets to lowercase,\n",
    "    and stems tweets. Returns a list of stemmed tokens.\"\"\"\n",
    "    \n",
    "    # added in \n",
    "    \n",
    "    '''ORIGINAL CODE UPDATED: A bug in the original code was updated here,\n",
    "    tweet = \" \".join(re.split(\"[^a-zA-Z]*\", tweet.lower())).strip() was changed to\n",
    "    tweet = \" \".join(re.split(\"[^a-zA-Z]+\", tweet.lower())).strip()'''\n",
    "    \n",
    "    tweet = \" \".join(re.split(\"[^a-zA-Z]+\", tweet.lower())).strip()\n",
    "    tweet = tweet.split()\n",
    "    tweet_no_stopwprds = [word for word in tweet if not word in stopwords]\n",
    "    tokens = [stemmer.stem(t) for t in tweet_no_stopwprds]     \n",
    "    return tokens\n",
    "\n",
    "# used in POS vectorizer\n",
    "def basic_tokenize(tweet):\n",
    "    \"\"\"Same as tokenize but without the stemming\"\"\"\n",
    "    \n",
    "    '''ORIGINAL CODE UPDATED: A bug in the original code was updated here,\n",
    "    tweet = \" \".join(re.split(\"[^a-zA-Z.,!?]*\", tweet.lower())).strip() was changed to\n",
    "    tweet = \" \".join(re.split(\"[^a-zA-Z.,!?]+\", tweet.lower())).strip()'''\n",
    "    \n",
    "    tweet = \" \".join(re.split(\"[^a-zA-Z.,!?]+\", tweet.lower())).strip()\n",
    "    return tweet.split()\n",
    "\n",
    "\n",
    "vectorizer = TfidfVectorizer(\n",
    "    tokenizer=tokenize,\n",
    "    preprocessor=preprocess,\n",
    "    ngram_range=(1, 3),\n",
    "    stop_words=stopwords,\n",
    "    use_idf=True,\n",
    "    smooth_idf=False,\n",
    "    norm=None,\n",
    "    decode_error='replace',\n",
    "    max_features=10000,\n",
    "    min_df=5,\n",
    "    max_df=1.0\n",
    "    )\n",
    "\n",
    "#Construct tfidf matrix and get relevant scores\n",
    "tfidf = vectorizer.fit_transform(tweets).toarray()\n",
    "vocab = {v:i for i, v in enumerate(vectorizer.get_feature_names())}\n",
    "idf_vals = vectorizer.idf_\n",
    "idf_dict = {i:idf_vals[i] for i in vocab.values()} #keys are indices; values are IDF scores"
   ]
  },
  {
   "cell_type": "markdown",
   "metadata": {},
   "source": [
    "# Part 2 - POS Tagging"
   ]
  },
  {
   "cell_type": "code",
   "execution_count": 10,
   "metadata": {},
   "outputs": [],
   "source": [
    "'''The original Davidson et al. Twitter classification code has been slightly modified to\n",
    "better account for the inherent differences between Twitter and Reddit comments.'''\n",
    "\n",
    "#Get POS tags for tweets and save as a string\n",
    "tweet_tags = []\n",
    "for t in tweets:\n",
    "    tokens = basic_tokenize(preprocess(t))\n",
    "    tags = nltk.pos_tag(tokens)\n",
    "    tag_list = [x[1] for x in tags]\n",
    "    tag_str = \" \".join(tag_list)\n",
    "    tweet_tags.append(tag_str)\n",
    "    \n",
    "#We can use the TFIDF vectorizer to get a token matrix for the POS tags\n",
    "pos_vectorizer = TfidfVectorizer(\n",
    "    tokenizer=None,\n",
    "    lowercase=False,\n",
    "    preprocessor=None,\n",
    "    ngram_range=(1, 3),\n",
    "    stop_words=None,\n",
    "    use_idf=False,\n",
    "    smooth_idf=False,\n",
    "    norm=None,\n",
    "    decode_error='replace',\n",
    "    max_features=5000,\n",
    "    min_df=5,\n",
    "    max_df=1.0\n",
    "    )\n",
    "\n",
    "#Construct POS TF matrix and get vocab dict\n",
    "pos = pos_vectorizer.fit_transform(pd.Series(tweet_tags)).toarray()\n",
    "pos_vocab = {v:i for i, v in enumerate(pos_vectorizer.get_feature_names())}"
   ]
  },
  {
   "cell_type": "markdown",
   "metadata": {},
   "source": [
    "# Part 3 - Sentiment Analysis and Text & Readability Scores"
   ]
  },
  {
   "cell_type": "code",
   "execution_count": 11,
   "metadata": {},
   "outputs": [],
   "source": [
    "'''The original Davidson et al. Twitter classification code has been slightly modified to\n",
    "better account for the inherent differences between Twitter and Reddit comments.\n",
    "example: retweets are not included as a feature\n",
    "'''\n",
    "\n",
    "#Finally we get sentiment analysis and other features\n",
    "sentiment_analyzer = VS()\n",
    "\n",
    "def count_twitter_objs(text_string):\n",
    "    \"\"\"\n",
    "    Accepts a text string and replaces:\n",
    "    1) urls with URLHERE\n",
    "    2) lots of whitespace with one instance\n",
    "    3) mentions with MENTIONHERE\n",
    "    4) hashtags with HASHTAGHERE\n",
    "\n",
    "    This allows us to get standardized counts of urls and mentions\n",
    "    Without caring about specific people mentioned.\n",
    "    \n",
    "    Returns counts of urls, mentions, and hashtags.\n",
    "    \"\"\"\n",
    "    space_pattern = '\\s+'\n",
    "    giant_url_regex = ('http[s]?://(?:[a-zA-Z]|[0-9]|[$-_@.&+]|'\n",
    "        '[!*\\(\\),]|(?:%[0-9a-fA-F][0-9a-fA-F]))+')\n",
    "    mention_regex = '@[\\w\\-]+'\n",
    "    hashtag_regex = '#[\\w\\-]+'\n",
    "    parsed_text = re.sub(space_pattern, ' ', text_string)\n",
    "    parsed_text = re.sub(giant_url_regex, 'URLHERE', parsed_text)\n",
    "    parsed_text = re.sub(mention_regex, 'MENTIONHERE', parsed_text)\n",
    "    parsed_text = re.sub(hashtag_regex, 'HASHTAGHERE', parsed_text)\n",
    "    return(parsed_text.count('URLHERE'),parsed_text.count('MENTIONHERE'),parsed_text.count('HASHTAGHERE'))\n",
    "\n",
    "def other_features(tweet):\n",
    "    \"\"\"This function takes a string and returns a list of features.\n",
    "    These include Sentiment scores, Text and Readability scores,\n",
    "    as well as Twitter specific features\"\"\"\n",
    "    sentiment = sentiment_analyzer.polarity_scores(tweet)\n",
    "    words = preprocess(tweet)\n",
    "    \n",
    "    # Text and Readability feature scores \n",
    "    syllables = textstat.syllable_count(words)\n",
    "    num_chars = sum(len(w) for w in words)\n",
    "    num_chars_total = len(tweet)\n",
    "    num_terms = len(tweet.split())\n",
    "    num_words = len(words.split())\n",
    "    avg_syl = round(float((syllables+0.001))/float(num_words+0.001),4)\n",
    "    num_unique_terms = len(set(words.split()))\n",
    "    \n",
    "    ###Modified FK grade, where avg words per sentence is just num words/1\n",
    "    FKRA = round(float(0.39 * float(num_words)/1.0) + float(11.8 * avg_syl) - 15.59,1)\n",
    "    ##Modified FRE score, where sentence fixed to 1\n",
    "    FRE = round(206.835 - 1.015*(float(num_words)/1.0) - (84.6*float(avg_syl)),2)\n",
    "    \n",
    "    twitter_objs = count_twitter_objs(tweet)\n",
    "        \n",
    "    features = [FKRA, FRE,syllables, avg_syl, num_chars, num_chars_total, num_terms, num_words,\n",
    "                num_unique_terms, sentiment['neg'], sentiment['pos'], sentiment['neu'], sentiment['compound'],\n",
    "                twitter_objs[2], twitter_objs[1],\n",
    "                twitter_objs[0]]\n",
    "    \n",
    "    return features\n",
    "\n",
    "def get_feature_array(tweets):\n",
    "    feats=[]\n",
    "    for t in tweets:\n",
    "        feats.append(other_features(t))\n",
    "    return np.array(feats)\n",
    "\n",
    "other_features_names = [\"FKRA\", \"FRE\",\"num_syllables\", \"avg_syl_per_word\", \"num_chars\", \"num_chars_total\", \\\n",
    "                        \"num_terms\", \"num_words\", \"num_unique_words\", \"vader neg\",\"vader pos\",\"vader neu\", \\\n",
    "                        \"vader compound\", \"num_hashtags\", \"num_mentions\", \"num_urls\"]\n",
    "\n",
    "feats = get_feature_array(tweets)"
   ]
  },
  {
   "cell_type": "code",
   "execution_count": 12,
   "metadata": {},
   "outputs": [
    {
     "data": {
      "text/plain": [
       "(24783, 11297)"
      ]
     },
     "execution_count": 12,
     "metadata": {},
     "output_type": "execute_result"
    }
   ],
   "source": [
    "#Now join them all up to create the final matrix\n",
    "M = np.concatenate([tfidf,pos,feats],axis=1)\n",
    "M.shape\n",
    "\n",
    "# 24,783 comments; 11290 features"
   ]
  },
  {
   "cell_type": "code",
   "execution_count": 13,
   "metadata": {},
   "outputs": [],
   "source": [
    "'''These feature names are unnecessary for running the model but allow us to better \n",
    "visualize the features.'''\n",
    "\n",
    "# Finally get a list of variable names\n",
    "variables = ['']*len(vocab)\n",
    "for k,v in vocab.items():\n",
    "    variables[v] = k\n",
    "\n",
    "pos_variables = ['']*len(pos_vocab)\n",
    "for k,v in pos_vocab.items():\n",
    "    pos_variables[v] = k\n",
    "\n",
    "feature_names = variables+pos_variables+other_features_names"
   ]
  },
  {
   "cell_type": "markdown",
   "metadata": {},
   "source": [
    "# Running the Model on the Davidson et al. Twitter Dataset\n",
    "\n",
    "The Twitter hate speech detection model was selected by Davidson et al. used a logistic regression pipeline with an L1 penalty to select the best features and reduce dimensionality, and L2 regularization to predict the class label. They did, however, find that Logistic Regression and LinearSVC models performed similarly, and through testing we decided that a LinearSVC model results in a more accurate classification of our collected Reddit comments, so we chose this method. "
   ]
  },
  {
   "cell_type": "code",
   "execution_count": 14,
   "metadata": {},
   "outputs": [],
   "source": [
    "X = pd.DataFrame(M)\n",
    "y = twitter_df['class'].astype(int)\n",
    "\n",
    "#X_train, X_test, y_train, y_test = train_test_split(X, y, random_state=RANDOM_SEED, test_size=0.3)"
   ]
  },
  {
   "cell_type": "code",
   "execution_count": 15,
   "metadata": {},
   "outputs": [],
   "source": [
    "# reduce dimensionality of the data\n",
    "\n",
    "# solver chosen because default ('lbfgs') supports only l2 regularization\n",
    "\n",
    "select = SelectFromModel(LogisticRegression(class_weight = 'balanced',\n",
    "                                           C = 0.01, \n",
    "                                           penalty = 'l1',\n",
    "                                           solver = 'liblinear',\n",
    "                                           random_state = RANDOM_SEED))\n",
    "X_ = select.fit_transform(X,y)"
   ]
  },
  {
   "cell_type": "code",
   "execution_count": 16,
   "metadata": {},
   "outputs": [
    {
     "data": {
      "text/plain": [
       "\"\\nmodel = LinearSVC(class_weight = 'balanced',\\n                penalty = 'l2',\\n                loss='squared_hinge',\\n                C=0.01,\\n                multi_class='ovr',\\n                max_iter = 7500).fit(X_, y)\\n\\ny_preds = model.predict(X_)\\n\\n\""
      ]
     },
     "execution_count": 16,
     "metadata": {},
     "output_type": "execute_result"
    }
   ],
   "source": [
    "'''The Davidson et al. paper describes their final model as a LogisticRegression model, \n",
    "but their code identified as the final classifier did\n",
    "include a LinearSVC model with the following parameters in their documentation.'''\n",
    "# this model failed to converge even when max_iter was increased to 7500\n",
    "\n",
    "\"\"\"\n",
    "model = LinearSVC(class_weight = 'balanced',\n",
    "                penalty = 'l2',\n",
    "                loss='squared_hinge',\n",
    "                C=0.01,\n",
    "                multi_class='ovr',\n",
    "                max_iter = 7500).fit(X_, y)\n",
    "\n",
    "y_preds = model.predict(X_)\n",
    "\n",
    "\"\"\""
   ]
  },
  {
   "cell_type": "code",
   "execution_count": 17,
   "metadata": {},
   "outputs": [],
   "source": [
    "# the paper describes a logistic regression model with l2 regularization \n",
    "\n",
    "# default solver is 'lbfgs'\n",
    "# max_iter default is 100; included here so more iterations completed so model converges\n",
    "\n",
    "model = LogisticRegression(class_weight = 'balanced',\n",
    "                           C = 0.01, \n",
    "                           penalty = 'l2',\n",
    "                           max_iter = 5000).fit(X_, y)\n",
    "\n",
    "y_preds = model.predict(X_)\n"
   ]
  },
  {
   "cell_type": "markdown",
   "metadata": {},
   "source": [
    "# Evaluating the Davidson et al. Twitter Classification Results"
   ]
  },
  {
   "cell_type": "code",
   "execution_count": 18,
   "metadata": {},
   "outputs": [],
   "source": [
    "report = classification_report(y, y_preds)"
   ]
  },
  {
   "cell_type": "code",
   "execution_count": 19,
   "metadata": {},
   "outputs": [
    {
     "name": "stdout",
     "output_type": "stream",
     "text": [
      "              precision    recall  f1-score   support\n",
      "\n",
      "           0       0.30      0.77      0.43      1430\n",
      "           1       0.98      0.83      0.90     19190\n",
      "           2       0.82      0.95      0.88      4163\n",
      "\n",
      "    accuracy                           0.85     24783\n",
      "   macro avg       0.70      0.85      0.74     24783\n",
      "weighted avg       0.91      0.85      0.87     24783\n",
      "\n"
     ]
    }
   ],
   "source": [
    "print(report)"
   ]
  },
  {
   "cell_type": "code",
   "execution_count": 20,
   "metadata": {},
   "outputs": [
    {
     "data": {
      "image/png": "[encoded data removed]",
      "text/plain": [
       "<Figure size 360x360 with 1 Axes>"
      ]
     },
     "metadata": {
      "needs_background": "light"
     },
     "output_type": "display_data"
    }
   ],
   "source": [
    "from sklearn.metrics import confusion_matrix\n",
    "confusion_matrix = confusion_matrix(y,y_preds)\n",
    "matrix_proportions = np.zeros((3,3))\n",
    "for i in range(0,3):\n",
    "    matrix_proportions[i,:] = confusion_matrix[i,:]/float(confusion_matrix[i,:].sum())\n",
    "names=['Hate','Offensive','Neither']\n",
    "confusion_df = pd.DataFrame(matrix_proportions, index=names,columns=names)\n",
    "plt.figure(figsize=(5,5))\n",
    "seaborn.heatmap(confusion_df,annot=True,annot_kws={\"size\": 12},cmap='gist_gray_r',cbar=False, square=True,fmt='.2f')\n",
    "plt.ylabel(r'True categories',fontsize=14)\n",
    "plt.xlabel(r'Predicted categories',fontsize=14)\n",
    "plt.tick_params(labelsize=12)\n",
    "\n",
    "#Uncomment line below if you want to save the output\n",
    "#plt.savefig('confusion.pdf')"
   ]
  },
  {
   "cell_type": "markdown",
   "metadata": {},
   "source": [
    "In their analysis, Davidson et al. write that, “far fewer tweets are classified as more \n",
    "offensive or hateful than their true category...suggesting that the model is biased towards \n",
    "classifying tweets as less hateful or offensive than the human coders.”\n",
    "\n",
    "Note: these figures are considerably different than the figures in the paper (e.g., here hate-hate is 0.78 (0.40 in previous version), in the paper it is 0.61)"
   ]
  },
  {
   "cell_type": "code",
   "execution_count": 21,
   "metadata": {},
   "outputs": [
    {
     "data": {
      "text/plain": [
       "Text(0.5, 0, 'hate                                       offensive                         neither')"
      ]
     },
     "execution_count": 21,
     "metadata": {},
     "output_type": "execute_result"
    },
    {
     "data": {
      "image/png": "[encoded data removed]",
      "text/plain": [
       "<Figure size 432x288 with 1 Axes>"
      ]
     },
     "metadata": {
      "needs_background": "light"
     },
     "output_type": "display_data"
    }
   ],
   "source": [
    "#True Davidson et al. Twitter distribution\n",
    "y.hist()\n",
    "plt.xlabel('hate                                       offensive                         neither', ha='center')"
   ]
  },
  {
   "cell_type": "code",
   "execution_count": 22,
   "metadata": {},
   "outputs": [
    {
     "data": {
      "text/plain": [
       "Text(0.5, 0, 'hate                                       offensive                         neither')"
      ]
     },
     "execution_count": 22,
     "metadata": {},
     "output_type": "execute_result"
    },
    {
     "data": {
      "image/png": "[encoded data removed]",
      "text/plain": [
       "<Figure size 432x288 with 1 Axes>"
      ]
     },
     "metadata": {
      "needs_background": "light"
     },
     "output_type": "display_data"
    }
   ],
   "source": [
    "#Predicted Davidson et al. Twitter distribution\n",
    "pd.Series(y_preds).hist()\n",
    "plt.xlabel('hate                                       offensive                         neither', ha='center')"
   ]
  },
  {
   "cell_type": "markdown",
   "metadata": {},
   "source": [
    "*** The slightly modified Davidson et al. Twitter Hate Speech Classification code ends here. ***\n",
    "Modifications were  made so this code is consistent with the description in the paper "
   ]
  },
  {
   "cell_type": "code",
   "execution_count": 23,
   "metadata": {},
   "outputs": [
    {
     "data": {
      "text/plain": [
       "'hate'"
      ]
     },
     "metadata": {},
     "output_type": "display_data"
    },
    {
     "data": {
      "text/plain": [
       "3685"
      ]
     },
     "metadata": {},
     "output_type": "display_data"
    },
    {
     "data": {
      "text/plain": [
       "'offensive'"
      ]
     },
     "metadata": {},
     "output_type": "display_data"
    },
    {
     "data": {
      "text/plain": [
       "16265"
      ]
     },
     "metadata": {},
     "output_type": "display_data"
    },
    {
     "data": {
      "text/plain": [
       "'neither'"
      ]
     },
     "metadata": {},
     "output_type": "display_data"
    },
    {
     "data": {
      "text/plain": [
       "4833"
      ]
     },
     "metadata": {},
     "output_type": "display_data"
    },
    {
     "data": {
      "text/plain": [
       "'total'"
      ]
     },
     "metadata": {},
     "output_type": "display_data"
    },
    {
     "data": {
      "text/plain": [
       "24783"
      ]
     },
     "metadata": {},
     "output_type": "display_data"
    }
   ],
   "source": [
    "hate_class_length = len(y_preds[np.all([y_preds == 0], axis = 0)])\n",
    "offensive_class_length = len(y_preds[np.all([y_preds == 1], axis = 0)])\n",
    "neither_class_length = len(y_preds[np.all([y_preds == 2], axis = 0)])\n",
    "\n",
    "total = hate_class_length + offensive_class_length + neither_class_length\n",
    "\n",
    "display('hate', hate_class_length)       # 3,708 for model w/o stopwords removed before stemming\n",
    "display('offensive', offensive_class_length)  # 16,256\n",
    "display('neither', neither_class_length)    # 4,819\n",
    "display('total', total)"
   ]
  },
  {
   "cell_type": "markdown",
   "metadata": {},
   "source": [
    "## *** Our Reddit Submission Text Classification code begins here. ***"
   ]
  },
  {
   "cell_type": "markdown",
   "metadata": {},
   "source": [
    "# Reddit submissions\n",
    "### Predict classes of the submission text\n",
    "### hate (0), offensive (1), neither (2)\n",
    "### note: 64,579 submissions out of 187,874 includes meaningful text\n",
    "### The submission selftext field could be empty, deleted, or removed. See the end of the notebook for an examination of the fields with only meaningful submissions."
   ]
  },
  {
   "cell_type": "code",
   "execution_count": 24,
   "metadata": {},
   "outputs": [],
   "source": [
    "# use this to work with the complete Reddit submission dataframe\n",
    "# 'd_submissions_df.csv' is too large for github\n",
    "submissions_df = pd.read_csv('d_submissions_df.csv')\n",
    "\n",
    "#display(submissions_df.info())\n",
    "\n",
    "# use code below to use a sample of the complete Reddit submission dataframe\n",
    "### when the data is not at the same level as the classifier (it is in a data folder)\n",
    "\n",
    "#submissions_df = pd.read_csv('data/d_submissions_df.csv')\n",
    "\n",
    "# clean text in submissions_df\n",
    "\n",
    "# 64579 non-null selftext (of 187874)\n",
    "submissions_df = submissions_df[['id', 'selftext', 'title']]\n",
    "submissions_df = submissions_df.fillna('NaN no text')\n",
    "submissions_df = submissions_df.replace({'':'no text'}).astype(str)\n",
    "submissions_df = submissions_df.replace({'[deleted]':'deleted text'}).astype(str)\n",
    "submissions_df = submissions_df.replace({'[removed]':'removed text'}).astype(str)\n",
    "submissions_df = submissions_df.replace({'.':'period'}).astype(str)\n",
    "\n",
    "\n",
    "submissions_text = submissions_df[['id', 'selftext']]\n",
    "submissions = submissions_text.selftext\n"
   ]
  },
  {
   "cell_type": "code",
   "execution_count": 25,
   "metadata": {},
   "outputs": [
    {
     "name": "stdout",
     "output_type": "stream",
     "text": [
      "<class 'pandas.core.frame.DataFrame'>\n",
      "RangeIndex: 187874 entries, 0 to 187873\n",
      "Data columns (total 3 columns):\n",
      " #   Column    Non-Null Count   Dtype \n",
      "---  ------    --------------   ----- \n",
      " 0   id        187874 non-null  object\n",
      " 1   selftext  187874 non-null  object\n",
      " 2   title     187874 non-null  object\n",
      "dtypes: object(3)\n",
      "memory usage: 4.3+ MB\n"
     ]
    },
    {
     "data": {
      "text/plain": [
       "None"
      ]
     },
     "metadata": {},
     "output_type": "display_data"
    }
   ],
   "source": [
    "# confirms no empty fields\n",
    "display(submissions_df.info())"
   ]
  },
  {
   "cell_type": "code",
   "execution_count": 26,
   "metadata": {},
   "outputs": [
    {
     "data": {
      "text/html": [
       "<div>\n",
       "<style scoped>\n",
       "    .dataframe tbody tr th:only-of-type {\n",
       "        vertical-align: middle;\n",
       "    }\n",
       "\n",
       "    .dataframe tbody tr th {\n",
       "        vertical-align: top;\n",
       "    }\n",
       "\n",
       "    .dataframe thead th {\n",
       "        text-align: right;\n",
       "    }\n",
       "</style>\n",
       "<table border=\"1\" class=\"dataframe\">\n",
       "  <thead>\n",
       "    <tr style=\"text-align: right;\">\n",
       "      <th></th>\n",
       "      <th>id</th>\n",
       "      <th>selftext</th>\n",
       "      <th>title</th>\n",
       "    </tr>\n",
       "  </thead>\n",
       "  <tbody>\n",
       "    <tr>\n",
       "      <th>0</th>\n",
       "      <td>rsoja2</td>\n",
       "      <td>NaN no text</td>\n",
       "      <td>women and arabs, ladies and gentlemen.</td>\n",
       "    </tr>\n",
       "    <tr>\n",
       "      <th>1</th>\n",
       "      <td>rsv9a0</td>\n",
       "      <td>I am a submissive girl and I have been sucking...</td>\n",
       "      <td>I (26F) am a Muslim girl but I don’t mind bein...</td>\n",
       "    </tr>\n",
       "  </tbody>\n",
       "</table>\n",
       "</div>"
      ],
      "text/plain": [
       "       id                                           selftext  \\\n",
       "0  rsoja2                                        NaN no text   \n",
       "1  rsv9a0  I am a submissive girl and I have been sucking...   \n",
       "\n",
       "                                               title  \n",
       "0             women and arabs, ladies and gentlemen.  \n",
       "1  I (26F) am a Muslim girl but I don’t mind bein...  "
      ]
     },
     "metadata": {},
     "output_type": "display_data"
    }
   ],
   "source": [
    "display(submissions_df.head(2))"
   ]
  },
  {
   "cell_type": "code",
   "execution_count": 27,
   "metadata": {},
   "outputs": [
    {
     "data": {
      "text/plain": [
       "0                                          NaN no text\n",
       "1    I am a submissive girl and I have been sucking...\n",
       "Name: selftext, dtype: object"
      ]
     },
     "metadata": {},
     "output_type": "display_data"
    }
   ],
   "source": [
    "display(submissions[0:2])"
   ]
  },
  {
   "cell_type": "code",
   "execution_count": 28,
   "metadata": {},
   "outputs": [
    {
     "data": {
      "text/plain": [
       "(187874, 11297)"
      ]
     },
     "execution_count": 28,
     "metadata": {},
     "output_type": "execute_result"
    }
   ],
   "source": [
    "'''This block of code takes a while to run, as it performs all three steps of feature\n",
    "extraction.'''\n",
    "\n",
    "# Using the same methods as above, we construct a tfidf matrix using the vectorizer \n",
    "# and get relevant scores.\n",
    "\n",
    "#------------------------------------\n",
    "# tokenize, tf-idf vectorization\n",
    "#------------------------------------\n",
    "\n",
    "# vectorizer is established above\n",
    "# uses the functions tokenize (removes stopwords and stems) and preprocess (cleans text)\n",
    "\n",
    "submissions_tfidf = vectorizer.transform(submissions).toarray()\n",
    "submissions_vocab = {v:i for i, v in enumerate(vectorizer.get_feature_names())}\n",
    "submissions_idf_vals = vectorizer.idf_\n",
    "submissions_idf_dict = {i:idf_vals[i] for i in submissions_vocab.values()} #keys are indices; values are IDF scores\n",
    "\n",
    "#------------------------------------\n",
    "# POS tagging and POS tf matrix\n",
    "# result: vocab dictionary\n",
    "#------------------------------------\n",
    "\n",
    "# Similarly we tokenize the comments to get the POS tags\n",
    "# uses the function basic_tokenize (returns tokens)\n",
    "submission_tags = []\n",
    "for t in submissions:\n",
    "    tokens = basic_tokenize(preprocess(t))\n",
    "    tags = nltk.pos_tag(tokens)\n",
    "    tag_list = [x[1] for x in tags]\n",
    "    tag_str = \" \".join(tag_list)\n",
    "    submission_tags.append(tag_str)\n",
    "\n",
    "# uses the pos_vectorizer (pos) from above\n",
    "\n",
    "pos_vectorizer.fit(pd.Series(tweet_tags))\n",
    "submissions_pos = pos_vectorizer.transform(pd.Series(submission_tags)).toarray()\n",
    "submissions_pos_vocab = {v:i for i, v in enumerate(pos_vectorizer.get_feature_names())}\n",
    "\n",
    "#------------------------------------\n",
    "# Finally... sentiment and other features\n",
    "#------------------------------------\n",
    "\n",
    "submissions_feats = get_feature_array(submissions)\n",
    "\n",
    "\n",
    "#------------------------------------\n",
    "# data to use for modeling\n",
    "#------------------------------------\n",
    "\n",
    "# Join them up as above, and check to make sure each row is of the same length as in the\n",
    "# Davidson et al. dataset so that the model will run\n",
    "submissions_M = np.concatenate([submissions_tfidf,submissions_pos,submissions_feats],axis=1)\n",
    "submissions_M.shape   # same number  of features as twitter data"
   ]
  },
  {
   "cell_type": "code",
   "execution_count": 29,
   "metadata": {},
   "outputs": [],
   "source": [
    "#display('c',comments[0:2])\n",
    "#display('s', submissions[0:2])\n",
    "#display(len(comment_tags))\n",
    "#display(len(submission_tags))\n",
    "#display(comment_tags[0:3])\n",
    "#display(submission_tags[0:3])"
   ]
  },
  {
   "cell_type": "code",
   "execution_count": 30,
   "metadata": {},
   "outputs": [],
   "source": [
    "'''Again, this is unnecessary for running the model but allows us to better visualize the\n",
    "features.'''\n",
    "\n",
    "#Finally get a list of variable names\n",
    "submissions_variables = ['']*len(submissions_vocab)\n",
    "for k,v in submissions_vocab.items():\n",
    "    submissions_variables[v] = k\n",
    "\n",
    "submissions_pos_variables = ['']*len(submissions_pos_vocab)\n",
    "for k,v in submissions_pos_vocab.items():\n",
    "    submissions_pos_variables[v] = k\n",
    "\n",
    "submissions_feature_names = submissions_variables + submissions_pos_variables + other_features_names\n",
    "# submissions_feature_names"
   ]
  },
  {
   "cell_type": "code",
   "execution_count": 31,
   "metadata": {},
   "outputs": [],
   "source": [
    "## Predict classification for Reddit submissions\n",
    "### hate (0), offensive (1), neither (2)"
   ]
  },
  {
   "cell_type": "code",
   "execution_count": 32,
   "metadata": {},
   "outputs": [
    {
     "data": {
      "text/plain": [
       "(187874, 177)"
      ]
     },
     "metadata": {},
     "output_type": "display_data"
    }
   ],
   "source": [
    "submissions_reduced = select.transform(submissions_M)\n",
    "display(submissions_reduced.shape)                     # same # features as twitter data\n",
    "submission_labels = model.predict(submissions_reduced)"
   ]
  },
  {
   "cell_type": "code",
   "execution_count": 33,
   "metadata": {},
   "outputs": [],
   "source": [
    "# Add the class labels into the original comments dataframe\n",
    "submissions_df['selftext_label']  = submission_labels"
   ]
  },
  {
   "cell_type": "markdown",
   "metadata": {},
   "source": [
    "## Write df with labels for submission title"
   ]
  },
  {
   "cell_type": "code",
   "execution_count": 34,
   "metadata": {},
   "outputs": [
    {
     "data": {
      "text/html": [
       "<div>\n",
       "<style scoped>\n",
       "    .dataframe tbody tr th:only-of-type {\n",
       "        vertical-align: middle;\n",
       "    }\n",
       "\n",
       "    .dataframe tbody tr th {\n",
       "        vertical-align: top;\n",
       "    }\n",
       "\n",
       "    .dataframe thead th {\n",
       "        text-align: right;\n",
       "    }\n",
       "</style>\n",
       "<table border=\"1\" class=\"dataframe\">\n",
       "  <thead>\n",
       "    <tr style=\"text-align: right;\">\n",
       "      <th></th>\n",
       "      <th>id</th>\n",
       "      <th>selftext</th>\n",
       "      <th>title</th>\n",
       "      <th>selftext_label</th>\n",
       "    </tr>\n",
       "  </thead>\n",
       "  <tbody>\n",
       "    <tr>\n",
       "      <th>0</th>\n",
       "      <td>rsoja2</td>\n",
       "      <td>NaN no text</td>\n",
       "      <td>women and arabs, ladies and gentlemen.</td>\n",
       "      <td>2</td>\n",
       "    </tr>\n",
       "    <tr>\n",
       "      <th>1</th>\n",
       "      <td>rsv9a0</td>\n",
       "      <td>I am a submissive girl and I have been sucking...</td>\n",
       "      <td>I (26F) am a Muslim girl but I don’t mind bein...</td>\n",
       "      <td>2</td>\n",
       "    </tr>\n",
       "    <tr>\n",
       "      <th>2</th>\n",
       "      <td>rst26k</td>\n",
       "      <td>NaN no text</td>\n",
       "      <td>Making bee candies</td>\n",
       "      <td>2</td>\n",
       "    </tr>\n",
       "    <tr>\n",
       "      <th>3</th>\n",
       "      <td>rsvx9y</td>\n",
       "      <td>👯hey SlutS! 👯💅 Now that we got our yearly 🎁 FU...</td>\n",
       "      <td>🎊Happy New Years SLUTS 🍆</td>\n",
       "      <td>2</td>\n",
       "    </tr>\n",
       "    <tr>\n",
       "      <th>4</th>\n",
       "      <td>rskw51</td>\n",
       "      <td>NaN no text</td>\n",
       "      <td>What are signs a guy hasn’t matured?</td>\n",
       "      <td>2</td>\n",
       "    </tr>\n",
       "  </tbody>\n",
       "</table>\n",
       "</div>"
      ],
      "text/plain": [
       "       id                                           selftext  \\\n",
       "0  rsoja2                                        NaN no text   \n",
       "1  rsv9a0  I am a submissive girl and I have been sucking...   \n",
       "2  rst26k                                        NaN no text   \n",
       "3  rsvx9y  👯hey SlutS! 👯💅 Now that we got our yearly 🎁 FU...   \n",
       "4  rskw51                                        NaN no text   \n",
       "\n",
       "                                               title  selftext_label  \n",
       "0             women and arabs, ladies and gentlemen.               2  \n",
       "1  I (26F) am a Muslim girl but I don’t mind bein...               2  \n",
       "2                                 Making bee candies               2  \n",
       "3                           🎊Happy New Years SLUTS 🍆               2  \n",
       "4               What are signs a guy hasn’t matured?               2  "
      ]
     },
     "metadata": {},
     "output_type": "display_data"
    }
   ],
   "source": [
    "'''Uncomment to create a CSV of the raw comments dataset with class labels.'''\n",
    "submissions_df.to_csv('submissions_selftext_label.csv')\n",
    "display(submissions_df.head())"
   ]
  },
  {
   "cell_type": "markdown",
   "metadata": {},
   "source": [
    "## Examine the Reddit coment classifications"
   ]
  },
  {
   "cell_type": "code",
   "execution_count": 35,
   "metadata": {},
   "outputs": [
    {
     "data": {
      "text/plain": [
       "Text(0.5, 0, 'hate                                       offensive                         neither')"
      ]
     },
     "execution_count": 35,
     "metadata": {},
     "output_type": "execute_result"
    },
    {
     "data": {
      "image/png": "[encoded data removed]",
      "text/plain": [
       "<Figure size 432x288 with 1 Axes>"
      ]
     },
     "metadata": {
      "needs_background": "light"
     },
     "output_type": "display_data"
    }
   ],
   "source": [
    "# Distribution of Reddit dataset\n",
    "\n",
    "submissions_df['selftext_label'].hist()\n",
    "plt.xlabel('hate                                       offensive                         neither', ha='center')"
   ]
  },
  {
   "cell_type": "markdown",
   "metadata": {},
   "source": [
    "### This graph reflectsthe large number of submissions without meaningful text. See below for another graph from a dataframe that only includes submission text that is meaningful."
   ]
  },
  {
   "cell_type": "code",
   "execution_count": 36,
   "metadata": {},
   "outputs": [
    {
     "data": {
      "text/html": [
       "<style  type=\"text/css\" >\n",
       "#T_8caa1058_b909_11ec_8ad6_542696de2be9row0_col0,#T_8caa1058_b909_11ec_8ad6_542696de2be9row0_col1,#T_8caa1058_b909_11ec_8ad6_542696de2be9row1_col0,#T_8caa1058_b909_11ec_8ad6_542696de2be9row1_col1,#T_8caa1058_b909_11ec_8ad6_542696de2be9row2_col0,#T_8caa1058_b909_11ec_8ad6_542696de2be9row2_col1,#T_8caa1058_b909_11ec_8ad6_542696de2be9row3_col0,#T_8caa1058_b909_11ec_8ad6_542696de2be9row3_col1,#T_8caa1058_b909_11ec_8ad6_542696de2be9row4_col0,#T_8caa1058_b909_11ec_8ad6_542696de2be9row4_col1{\n",
       "            text-align:  left;\n",
       "        }</style><table id=\"T_8caa1058_b909_11ec_8ad6_542696de2be9\" ><thead>    <tr>        <th class=\"blank level0\" ></th>        <th class=\"col_heading level0 col0\" >selftext</th>        <th class=\"col_heading level0 col1\" >selftext_label</th>    </tr></thead><tbody>\n",
       "                <tr>\n",
       "                        <th id=\"T_8caa1058_b909_11ec_8ad6_542696de2be9level0_row0\" class=\"row_heading level0 row0\" >19464</th>\n",
       "                        <td id=\"T_8caa1058_b909_11ec_8ad6_542696de2be9row0_col0\" class=\"data row0 col0\" >I asked her why she had kids and she said because she wanted to spread her genes and keep the black race alive (… wtf 😬). I said I don’t want kids because they can’t consent and then she went on a rant about how apparently my soul decided to exist and it’s also my fault for being born because “iM tHe SPerM ThaT WOn ThE raCE”. I asked if she thought that the poor, abused, and diseased people in war torn country’s decided to exist and she said yes with a smile.</td>\n",
       "                        <td id=\"T_8caa1058_b909_11ec_8ad6_542696de2be9row0_col1\" class=\"data row0 col1\" >0</td>\n",
       "            </tr>\n",
       "            <tr>\n",
       "                        <th id=\"T_8caa1058_b909_11ec_8ad6_542696de2be9level0_row1\" class=\"row_heading level0 row1\" >139487</th>\n",
       "                        <td id=\"T_8caa1058_b909_11ec_8ad6_542696de2be9row1_col0\" class=\"data row1 col0\" >After last night's loss, went to a bar in Nashville. 49ers- Packers game on. I met a very kind 9ers fan who attended the game. He gave me a Titans blanket and towels.\n",
       "\n",
       "\n",
       "\n",
       "So, I decided to cheer for the 9ers. There were two very drunk women near me, Packers fans.\n",
       "\n",
       "\n",
       "\n",
       "One got aggressive. Called me a 'cunt.' Asked me what I do, and said, \"Oh, so you're a retard.\"\n",
       "\n",
       "\n",
       "\n",
       "Long story short, I'm drinking on a 'work night.' I hate people when they're not polite. And most other things. :)</td>\n",
       "                        <td id=\"T_8caa1058_b909_11ec_8ad6_542696de2be9row1_col1\" class=\"data row1 col1\" >0</td>\n",
       "            </tr>\n",
       "            <tr>\n",
       "                        <th id=\"T_8caa1058_b909_11ec_8ad6_542696de2be9level0_row2\" class=\"row_heading level0 row2\" >152153</th>\n",
       "                        <td id=\"T_8caa1058_b909_11ec_8ad6_542696de2be9row2_col0\" class=\"data row2 col0\" >Idk if this is necessarily controversial, but despite what you may feel about yourself everyone is prejudice, some more than others, but everyone is.  Everyone has racist, sexist, and other negative thoughts even if we don't realize it, it's a part of human nature.  Black people can be racist too, women can be sexist too, etc.  You should work on bettering yourself, but if you occasionally are accidentally prejudice don't feel bad just work on it. \n",
       "\n",
       "Related story: I remember saying in class one time that everyone is racist, everyone started talking, and I heard a black chick say that she was definitely racist sometimes, she was fun lol.</td>\n",
       "                        <td id=\"T_8caa1058_b909_11ec_8ad6_542696de2be9row2_col1\" class=\"data row2 col1\" >0</td>\n",
       "            </tr>\n",
       "            <tr>\n",
       "                        <th id=\"T_8caa1058_b909_11ec_8ad6_542696de2be9level0_row3\" class=\"row_heading level0 row3\" >75241</th>\n",
       "                        <td id=\"T_8caa1058_b909_11ec_8ad6_542696de2be9row3_col0\" class=\"data row3 col0\" >What the FUCK! man?? EVERY DAY I TRY TO GET ON THE SUBREDDIT AND LOOK AT COOL SHIT BUT NO OOOOO CUMMYBOT9999 HAS TO SAY JIZZ LOOB KUM BOOBA??!?!! am gonna loose my mind by the end of feburary if this nonsense doesnt stop! this is completely unacceptable! someone NEEDS to teach this cummy bot 9999 a lesson HE wont EVER forget. CUMMYBOT9999 YOU THINK YOU CAN STOP ME? WELL WHEN YOU WERE DOING PIPI IN YOUR PAMPERS I WAS DOING YOUR MOM ALL DAY, BLYAT! you cummy son of a whore I could outlast you in an orgy any day, cummy!</td>\n",
       "                        <td id=\"T_8caa1058_b909_11ec_8ad6_542696de2be9row3_col1\" class=\"data row3 col1\" >0</td>\n",
       "            </tr>\n",
       "            <tr>\n",
       "                        <th id=\"T_8caa1058_b909_11ec_8ad6_542696de2be9level0_row4\" class=\"row_heading level0 row4\" >26494</th>\n",
       "                        <td id=\"T_8caa1058_b909_11ec_8ad6_542696de2be9row4_col0\" class=\"data row4 col0\" >I can't fucking understand the people who employ me. I've seen some horrible stuff since they hired the new \"chef\" but no amount of complaints to the owner will change things, he's still \"the best\".\n",
       "\n",
       " I come back from a Christmas break and every fucking knob or handle is fucking crusted with shit, as if this man never cleans his hands. He goes to serve 13 day old rice, but it's fine by the owner because he tasted it and \"its fine\"\n",
       "\n",
       "I can't believe I've excused the other shit since he got hired, but clearly he's better than me because he's older. Fuck this place. I'm finally getting out</td>\n",
       "                        <td id=\"T_8caa1058_b909_11ec_8ad6_542696de2be9row4_col1\" class=\"data row4 col1\" >0</td>\n",
       "            </tr>\n",
       "    </tbody></table>"
      ],
      "text/plain": [
       "<pandas.io.formats.style.Styler at 0x7fc436c9e0a0>"
      ]
     },
     "metadata": {},
     "output_type": "display_data"
    }
   ],
   "source": [
    "hate_class = submissions_df[submissions_df['selftext_label'] == 0]\n",
    "hate_comment = hate_class[['selftext', 'selftext_label']].sample(5)\n",
    "pd.set_option('display.max_colwidth', 100)\n",
    "hate_comment = hate_comment.style.set_properties(**{'text-align': 'left'})\n",
    "display(hate_comment)"
   ]
  },
  {
   "cell_type": "code",
   "execution_count": 37,
   "metadata": {},
   "outputs": [
    {
     "data": {
      "text/html": [
       "<style  type=\"text/css\" >\n",
       "#T_8cae3d22_b909_11ec_8ad6_542696de2be9row0_col0,#T_8cae3d22_b909_11ec_8ad6_542696de2be9row0_col1,#T_8cae3d22_b909_11ec_8ad6_542696de2be9row1_col0,#T_8cae3d22_b909_11ec_8ad6_542696de2be9row1_col1,#T_8cae3d22_b909_11ec_8ad6_542696de2be9row2_col0,#T_8cae3d22_b909_11ec_8ad6_542696de2be9row2_col1,#T_8cae3d22_b909_11ec_8ad6_542696de2be9row3_col0,#T_8cae3d22_b909_11ec_8ad6_542696de2be9row3_col1,#T_8cae3d22_b909_11ec_8ad6_542696de2be9row4_col0,#T_8cae3d22_b909_11ec_8ad6_542696de2be9row4_col1{\n",
       "            text-align:  left;\n",
       "        }</style><table id=\"T_8cae3d22_b909_11ec_8ad6_542696de2be9\" ><thead>    <tr>        <th class=\"blank level0\" ></th>        <th class=\"col_heading level0 col0\" >selftext</th>        <th class=\"col_heading level0 col1\" >selftext_label</th>    </tr></thead><tbody>\n",
       "                <tr>\n",
       "                        <th id=\"T_8cae3d22_b909_11ec_8ad6_542696de2be9level0_row0\" class=\"row_heading level0 row0\" >17221</th>\n",
       "                        <td id=\"T_8cae3d22_b909_11ec_8ad6_542696de2be9row0_col0\" class=\"data row0 col0\" >I never even think of that I just think of all the times we could spend together and cuddling and loving them. And if I really really like them, the thought of fucking them just is kinda disgusting to me</td>\n",
       "                        <td id=\"T_8cae3d22_b909_11ec_8ad6_542696de2be9row0_col1\" class=\"data row0 col1\" >1</td>\n",
       "            </tr>\n",
       "            <tr>\n",
       "                        <th id=\"T_8cae3d22_b909_11ec_8ad6_542696de2be9level0_row1\" class=\"row_heading level0 row1\" >155393</th>\n",
       "                        <td id=\"T_8cae3d22_b909_11ec_8ad6_542696de2be9row1_col0\" class=\"data row1 col0\" >I want to know y’all’s opinions on slut-shaming in episode stories.\n",
       "\n",
       "Personally, I cannot fucking stand it, I don’t give a fuck who says it, if there’s malicious/spiteful/sexist intents behind it, you’re on my hit list. Like in one story I read, the MC would get slut-shamed constantly and you’d lose points if you wanted to kiss your BOYFRIEND. NO. JOKE. Like, at the start the author claimed that they don’t support slut shaming and whatever, but I- that wasn’t at all evident, and they sounded like they slut shamed people a lot. Not the point tho.\n",
       "\n",
       "Now if it’s a best friend going “hey, sluts” or something, I’m fine with this, because usually it’s not used as a degrading word, but more of a greeting. I know I wake up most mornings with a text from my bitch going “hey, slut. Hope you slept well, enjoy your day and text me or call me if you need me -Your Bitch.” (My bitch being one of my best friends if no one understood that). Or I get a text from one of my epi besties (y’know who you are) and she goes “WHAT’S UP SLUTS” or whatever that psycho says.\n",
       "\n",
       "Basically, what are y’alls opinions on it, especially if it’s used as a degrading/sexist/malicious/spiteful comment?</td>\n",
       "                        <td id=\"T_8cae3d22_b909_11ec_8ad6_542696de2be9row1_col1\" class=\"data row1 col1\" >1</td>\n",
       "            </tr>\n",
       "            <tr>\n",
       "                        <th id=\"T_8cae3d22_b909_11ec_8ad6_542696de2be9level0_row2\" class=\"row_heading level0 row2\" >178469</th>\n",
       "                        <td id=\"T_8cae3d22_b909_11ec_8ad6_542696de2be9row2_col0\" class=\"data row2 col0\" >Sooo at the recommendation of a friend I started listening to this podcast while I run, and I just came here to say these women are NOT funny at all and all they do is talk about how hard it is being “hot female comedians”. I kept trying to give it a chance bc again someone said it’s super funny or whatever but holy shit. I just looked to see if there was subreddit for it and sure enough there is, I’m happy I can come here and say they’re not funny, and the podcast sucks. Feel free to downvote it’s very much worth it to get this off my chest\n",
       "\n",
       "Edit: I just want to say that I think the people commenting and downvoting are confused about whether they’re upset that guys we fucked is deeply unfunny, or that I’m simply stating the obvious. For that I apologize</td>\n",
       "                        <td id=\"T_8cae3d22_b909_11ec_8ad6_542696de2be9row2_col1\" class=\"data row2 col1\" >1</td>\n",
       "            </tr>\n",
       "            <tr>\n",
       "                        <th id=\"T_8cae3d22_b909_11ec_8ad6_542696de2be9level0_row3\" class=\"row_heading level0 row3\" >136421</th>\n",
       "                        <td id=\"T_8cae3d22_b909_11ec_8ad6_542696de2be9row3_col0\" class=\"data row3 col0\" >So if you look at my earlier posts you can see how we are open, loving and very guilt free and it's started to escalate where now I don't just accept that he fucks other people, I revel in it, it gets me insanely wet, I love him sending me videos of her adoringly sucking his cock while he yanks on her beautiful red braids. I love seeing pics of her ass covered in his hand marks. And now I love waiting by the door on my knees so that as soon as he arrives home I can open my mouth and take his cock. Her pussy tastes so good from his dick, it's such a turn on. That feeling of not only do you not have to hide that your cock is covered in another woman but you can flaunt it by putting it in my mouth. Something about that just makes the wild, and the sex that follows always makes me cum super hard.</td>\n",
       "                        <td id=\"T_8cae3d22_b909_11ec_8ad6_542696de2be9row3_col1\" class=\"data row3 col1\" >1</td>\n",
       "            </tr>\n",
       "            <tr>\n",
       "                        <th id=\"T_8cae3d22_b909_11ec_8ad6_542696de2be9level0_row4\" class=\"row_heading level0 row4\" >145286</th>\n",
       "                        <td id=\"T_8cae3d22_b909_11ec_8ad6_542696de2be9row4_col0\" class=\"data row4 col0\" >So after 4 years with plenty of goofs and gaffs I’m come to realization H3 is just a fuckin news channel now and it makes me so mad lol with peace and love change that shit!</td>\n",
       "                        <td id=\"T_8cae3d22_b909_11ec_8ad6_542696de2be9row4_col1\" class=\"data row4 col1\" >1</td>\n",
       "            </tr>\n",
       "    </tbody></table>"
      ],
      "text/plain": [
       "<pandas.io.formats.style.Styler at 0x7fc6c5b0b280>"
      ]
     },
     "metadata": {},
     "output_type": "display_data"
    }
   ],
   "source": [
    "offensive_class = submissions_df[submissions_df['selftext_label'] == 1]\n",
    "offensive_comment = offensive_class[['selftext', 'selftext_label']].sample(5)\n",
    "pd.set_option('display.max_colwidth', 100)\n",
    "offensive_comment = offensive_comment.style.set_properties(**{'text-align': 'left'})\n",
    "display(offensive_comment)"
   ]
  },
  {
   "cell_type": "code",
   "execution_count": 38,
   "metadata": {},
   "outputs": [
    {
     "data": {
      "text/html": [
       "<style  type=\"text/css\" >\n",
       "#T_8cbafcc4_b909_11ec_8ad6_542696de2be9row0_col0,#T_8cbafcc4_b909_11ec_8ad6_542696de2be9row0_col1,#T_8cbafcc4_b909_11ec_8ad6_542696de2be9row1_col0,#T_8cbafcc4_b909_11ec_8ad6_542696de2be9row1_col1,#T_8cbafcc4_b909_11ec_8ad6_542696de2be9row2_col0,#T_8cbafcc4_b909_11ec_8ad6_542696de2be9row2_col1,#T_8cbafcc4_b909_11ec_8ad6_542696de2be9row3_col0,#T_8cbafcc4_b909_11ec_8ad6_542696de2be9row3_col1,#T_8cbafcc4_b909_11ec_8ad6_542696de2be9row4_col0,#T_8cbafcc4_b909_11ec_8ad6_542696de2be9row4_col1{\n",
       "            text-align:  left;\n",
       "        }</style><table id=\"T_8cbafcc4_b909_11ec_8ad6_542696de2be9\" ><thead>    <tr>        <th class=\"blank level0\" ></th>        <th class=\"col_heading level0 col0\" >selftext</th>        <th class=\"col_heading level0 col1\" >selftext_label</th>    </tr></thead><tbody>\n",
       "                <tr>\n",
       "                        <th id=\"T_8cbafcc4_b909_11ec_8ad6_542696de2be9level0_row0\" class=\"row_heading level0 row0\" >175322</th>\n",
       "                        <td id=\"T_8cbafcc4_b909_11ec_8ad6_542696de2be9row0_col0\" class=\"data row0 col0\" >NaN no text</td>\n",
       "                        <td id=\"T_8cbafcc4_b909_11ec_8ad6_542696de2be9row0_col1\" class=\"data row0 col1\" >2</td>\n",
       "            </tr>\n",
       "            <tr>\n",
       "                        <th id=\"T_8cbafcc4_b909_11ec_8ad6_542696de2be9level0_row1\" class=\"row_heading level0 row1\" >60970</th>\n",
       "                        <td id=\"T_8cbafcc4_b909_11ec_8ad6_542696de2be9row1_col0\" class=\"data row1 col0\" >Hey guys, not really looking for any sympathy, but I just wanted to share my experience with the BST. \n",
       "\n",
       "I made a WTB post about 2 days ago, for a Remote Equipment Alpha 31. And the other day, I got a PM from a user named u/deckerpl, relaying that they had a pack for sale. After sending me photos with their username and date indicated along with the bag, I decided to proceed with purchasing the bag off of the user. The user did not provide me a price for the bag, but rather asked for my budget, which I found quite odd but didn’t think much of. After offering a fair price, the user agreed and requested I pay the shipping and cost via Paypal F&F, which I complied to. \n",
       "\n",
       "After that, I was told they would send the bag tomorrow, but I realized the pictures came from an old WTS post by u/cptcacc. I requested more photos of the pack, but have been ghosted since. \n",
       "\n",
       "I know it’s mostly my fault, and there are warnings on the monthly BST posts, but I just wanted to share my experience. Really never been scammed on here before, and I just feel super discouraged now. I was super stoked to land myself a Remote Equipment Alpha 31, but it looks like it won’t happen now or in the future as I’ve just been drained of my funds for it. \n",
       "\n",
       "Hope the onebag community is well! I love being a part of such a great community, it just sucks to experience people preying on your interests.</td>\n",
       "                        <td id=\"T_8cbafcc4_b909_11ec_8ad6_542696de2be9row1_col1\" class=\"data row1 col1\" >2</td>\n",
       "            </tr>\n",
       "            <tr>\n",
       "                        <th id=\"T_8cbafcc4_b909_11ec_8ad6_542696de2be9level0_row2\" class=\"row_heading level0 row2\" >56177</th>\n",
       "                        <td id=\"T_8cbafcc4_b909_11ec_8ad6_542696de2be9row2_col0\" class=\"data row2 col0\" >NaN no text</td>\n",
       "                        <td id=\"T_8cbafcc4_b909_11ec_8ad6_542696de2be9row2_col1\" class=\"data row2 col1\" >2</td>\n",
       "            </tr>\n",
       "            <tr>\n",
       "                        <th id=\"T_8cbafcc4_b909_11ec_8ad6_542696de2be9level0_row3\" class=\"row_heading level0 row3\" >5896</th>\n",
       "                        <td id=\"T_8cbafcc4_b909_11ec_8ad6_542696de2be9row3_col0\" class=\"data row3 col0\" >deleted text</td>\n",
       "                        <td id=\"T_8cbafcc4_b909_11ec_8ad6_542696de2be9row3_col1\" class=\"data row3 col1\" >2</td>\n",
       "            </tr>\n",
       "            <tr>\n",
       "                        <th id=\"T_8cbafcc4_b909_11ec_8ad6_542696de2be9level0_row4\" class=\"row_heading level0 row4\" >43904</th>\n",
       "                        <td id=\"T_8cbafcc4_b909_11ec_8ad6_542696de2be9row4_col0\" class=\"data row4 col0\" >NaN no text</td>\n",
       "                        <td id=\"T_8cbafcc4_b909_11ec_8ad6_542696de2be9row4_col1\" class=\"data row4 col1\" >2</td>\n",
       "            </tr>\n",
       "    </tbody></table>"
      ],
      "text/plain": [
       "<pandas.io.formats.style.Styler at 0x7fc6c5ab6790>"
      ]
     },
     "metadata": {},
     "output_type": "display_data"
    }
   ],
   "source": [
    "neither_class = submissions_df[submissions_df['selftext_label'] == 2]\n",
    "neither_comment = neither_class[['selftext', 'selftext_label']].sample(5)\n",
    "pd.set_option('display.max_colwidth', 100)\n",
    "neither_comment = neither_comment.style.set_properties(**{'text-align': 'left'})\n",
    "display(neither_comment)"
   ]
  },
  {
   "cell_type": "code",
   "execution_count": 39,
   "metadata": {},
   "outputs": [],
   "source": [
    "trimmed_submissions_df = submissions_df[(submissions_df['selftext'] != 'NaN no text')\\\n",
    "                                        & (submissions_df['selftext'] != 'no text')\\\n",
    "                                        & (submissions_df['selftext'] != 'deleted text')\\\n",
    "                                        & (submissions_df['selftext'] != 'removed text')\\\n",
    "                                        & (submissions_df['selftext'] != 'period')]"
   ]
  },
  {
   "cell_type": "code",
   "execution_count": 40,
   "metadata": {},
   "outputs": [
    {
     "data": {
      "text/plain": [
       "Text(0.5, 0, 'hate                                       offensive                         neither')"
      ]
     },
     "execution_count": 40,
     "metadata": {},
     "output_type": "execute_result"
    },
    {
     "data": {
      "image/png": "[encoded data removed]",
      "text/plain": [
       "<Figure size 432x288 with 1 Axes>"
      ]
     },
     "metadata": {
      "needs_background": "light"
     },
     "output_type": "display_data"
    }
   ],
   "source": [
    "# Distribution of Reddit dataset after removing submissions with no text (for various reasons)\n",
    "\n",
    "trimmed_submissions_df['selftext_label'].hist()\n",
    "plt.xlabel('hate                                       offensive                         neither', ha='center')"
   ]
  }
 ],
 "metadata": {
  "kernelspec": {
   "display_name": "Python 3",
   "language": "python",
   "name": "python3"
  },
  "language_info": {
   "codemirror_mode": {
    "name": "ipython",
    "version": 3
   },
   "file_extension": ".py",
   "mimetype": "text/x-python",
   "name": "python",
   "nbconvert_exporter": "python",
   "pygments_lexer": "ipython3",
   "version": "3.8.5"
  }
 },
 "nbformat": 4,
 "nbformat_minor": 5
}
